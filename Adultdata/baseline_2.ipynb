{
 "cells": [
  {
   "cell_type": "markdown",
   "metadata": {},
   "source": [
    "# Baseline model for adult data\n",
    "\n",
    "In this notebook we train a simple model on the adult data that can serve as a counterfactual for what would have happened if we hadn't made any kind of fairness intervention."
   ]
  },
  {
   "cell_type": "code",
   "execution_count": 1,
   "metadata": {},
   "outputs": [],
   "source": [
    "import joblib\n",
    "from pathlib import Path\n",
    "\n",
    "import pandas as pd\n",
    "from fairlearn.metrics import (\n",
    "    demographic_parity_difference,\n",
    "    demographic_parity_ratio,\n",
    "    equalized_odds_difference,\n",
    "    equalized_odds_ratio,\n",
    ")\n",
    "from helpers.utils import bin_hours_per_week\n",
    "from helpers.utils import (\n",
    "    conditional_demographic_parity_difference,\n",
    "    conditional_demographic_parity_ratio,\n",
    ")\n",
    "from helpers.utils import group_box_plots\n",
    "from sklearn.neural_network import MLPClassifier  # noqa"
   ]
  },
  {
   "cell_type": "markdown",
   "metadata": {},
   "source": [
    "Directory containing preprocessed data."
   ]
  },
  {
   "cell_type": "code",
   "execution_count": 3,
   "metadata": {},
   "outputs": [],
   "source": [
    "artifacts_dir = Path(\"artifacts\")"
   ]
  },
  {
   "cell_type": "markdown",
   "metadata": {},
   "source": [
    "Load the preprocessed data. Check out the preprocessing notebook for details on how this data was obtained."
   ]
  },
  {
   "cell_type": "code",
   "execution_count": 4,
   "metadata": {},
   "outputs": [],
   "source": [
    "data_dir = artifacts_dir / \"data\" / \"adult\"\n",
    "\n",
    "train = pd.read_csv(data_dir / \"processed\" / \"train.csv\")\n",
    "val = pd.read_csv(data_dir / \"processed\" / \"val.csv\")\n",
    "test = pd.read_csv(data_dir / \"processed\" / \"test.csv\")\n",
    "\n",
    "train_oh = pd.read_csv(data_dir / \"processed\" / \"train-one-hot.csv\")\n",
    "val_oh = pd.read_csv(data_dir / \"processed\" / \"val-one-hot.csv\")\n",
    "test_oh = pd.read_csv(data_dir / \"processed\" / \"test-one-hot.csv\")"
   ]
  },
  {
   "cell_type": "code",
   "execution_count": 10,
   "metadata": {},
   "outputs": [
    {
     "data": {
      "text/html": [
       "<div>\n",
       "<style scoped>\n",
       "    .dataframe tbody tr th:only-of-type {\n",
       "        vertical-align: middle;\n",
       "    }\n",
       "\n",
       "    .dataframe tbody tr th {\n",
       "        vertical-align: top;\n",
       "    }\n",
       "\n",
       "    .dataframe thead th {\n",
       "        text-align: right;\n",
       "    }\n",
       "</style>\n",
       "<table border=\"1\" class=\"dataframe\">\n",
       "  <thead>\n",
       "    <tr style=\"text-align: right;\">\n",
       "      <th></th>\n",
       "      <th>age</th>\n",
       "      <th>sex</th>\n",
       "      <th>capital_gain</th>\n",
       "      <th>capital_loss</th>\n",
       "      <th>hours_per_week</th>\n",
       "      <th>salary</th>\n",
       "      <th>workclass_federal_gov</th>\n",
       "      <th>workclass_local_gov</th>\n",
       "      <th>workclass_private</th>\n",
       "      <th>workclass_self_emp_inc</th>\n",
       "      <th>...</th>\n",
       "      <th>marital_status_divorced</th>\n",
       "      <th>marital_status_married_af_spouse</th>\n",
       "      <th>marital_status_married_civ_spouse</th>\n",
       "      <th>marital_status_married_spouse_absent</th>\n",
       "      <th>marital_status_never_married</th>\n",
       "      <th>marital_status_separated</th>\n",
       "      <th>marital_status_widowed</th>\n",
       "      <th>native_country_mexico</th>\n",
       "      <th>native_country_other</th>\n",
       "      <th>native_country_united_states</th>\n",
       "    </tr>\n",
       "  </thead>\n",
       "  <tbody>\n",
       "    <tr>\n",
       "      <th>0</th>\n",
       "      <td>1.108936</td>\n",
       "      <td>1</td>\n",
       "      <td>-0.147741</td>\n",
       "      <td>-0.218133</td>\n",
       "      <td>2.416833</td>\n",
       "      <td>0</td>\n",
       "      <td>0</td>\n",
       "      <td>0</td>\n",
       "      <td>0</td>\n",
       "      <td>0</td>\n",
       "      <td>...</td>\n",
       "      <td>0</td>\n",
       "      <td>0</td>\n",
       "      <td>1</td>\n",
       "      <td>0</td>\n",
       "      <td>0</td>\n",
       "      <td>0</td>\n",
       "      <td>0</td>\n",
       "      <td>0</td>\n",
       "      <td>0</td>\n",
       "      <td>1</td>\n",
       "    </tr>\n",
       "    <tr>\n",
       "      <th>1</th>\n",
       "      <td>0.805386</td>\n",
       "      <td>1</td>\n",
       "      <td>-0.147741</td>\n",
       "      <td>-0.218133</td>\n",
       "      <td>2.416833</td>\n",
       "      <td>0</td>\n",
       "      <td>0</td>\n",
       "      <td>0</td>\n",
       "      <td>0</td>\n",
       "      <td>0</td>\n",
       "      <td>...</td>\n",
       "      <td>0</td>\n",
       "      <td>0</td>\n",
       "      <td>1</td>\n",
       "      <td>0</td>\n",
       "      <td>0</td>\n",
       "      <td>0</td>\n",
       "      <td>0</td>\n",
       "      <td>0</td>\n",
       "      <td>0</td>\n",
       "      <td>1</td>\n",
       "    </tr>\n",
       "    <tr>\n",
       "      <th>2</th>\n",
       "      <td>-0.788255</td>\n",
       "      <td>1</td>\n",
       "      <td>-0.147741</td>\n",
       "      <td>-0.218133</td>\n",
       "      <td>-0.079269</td>\n",
       "      <td>0</td>\n",
       "      <td>0</td>\n",
       "      <td>0</td>\n",
       "      <td>1</td>\n",
       "      <td>0</td>\n",
       "      <td>...</td>\n",
       "      <td>0</td>\n",
       "      <td>0</td>\n",
       "      <td>1</td>\n",
       "      <td>0</td>\n",
       "      <td>0</td>\n",
       "      <td>0</td>\n",
       "      <td>0</td>\n",
       "      <td>0</td>\n",
       "      <td>1</td>\n",
       "      <td>0</td>\n",
       "    </tr>\n",
       "    <tr>\n",
       "      <th>3</th>\n",
       "      <td>1.640150</td>\n",
       "      <td>0</td>\n",
       "      <td>-0.147741</td>\n",
       "      <td>-0.218133</td>\n",
       "      <td>-0.079269</td>\n",
       "      <td>0</td>\n",
       "      <td>0</td>\n",
       "      <td>0</td>\n",
       "      <td>1</td>\n",
       "      <td>0</td>\n",
       "      <td>...</td>\n",
       "      <td>0</td>\n",
       "      <td>0</td>\n",
       "      <td>0</td>\n",
       "      <td>0</td>\n",
       "      <td>0</td>\n",
       "      <td>0</td>\n",
       "      <td>1</td>\n",
       "      <td>0</td>\n",
       "      <td>0</td>\n",
       "      <td>1</td>\n",
       "    </tr>\n",
       "    <tr>\n",
       "      <th>4</th>\n",
       "      <td>1.108936</td>\n",
       "      <td>1</td>\n",
       "      <td>-0.147741</td>\n",
       "      <td>-0.218133</td>\n",
       "      <td>-0.079269</td>\n",
       "      <td>0</td>\n",
       "      <td>0</td>\n",
       "      <td>0</td>\n",
       "      <td>1</td>\n",
       "      <td>0</td>\n",
       "      <td>...</td>\n",
       "      <td>0</td>\n",
       "      <td>0</td>\n",
       "      <td>1</td>\n",
       "      <td>0</td>\n",
       "      <td>0</td>\n",
       "      <td>0</td>\n",
       "      <td>0</td>\n",
       "      <td>0</td>\n",
       "      <td>0</td>\n",
       "      <td>1</td>\n",
       "    </tr>\n",
       "  </tbody>\n",
       "</table>\n",
       "<p>5 rows × 64 columns</p>\n",
       "</div>"
      ],
      "text/plain": [
       "        age  sex  capital_gain  capital_loss  hours_per_week  salary  \\\n",
       "0  1.108936    1     -0.147741     -0.218133        2.416833       0   \n",
       "1  0.805386    1     -0.147741     -0.218133        2.416833       0   \n",
       "2 -0.788255    1     -0.147741     -0.218133       -0.079269       0   \n",
       "3  1.640150    0     -0.147741     -0.218133       -0.079269       0   \n",
       "4  1.108936    1     -0.147741     -0.218133       -0.079269       0   \n",
       "\n",
       "   workclass_federal_gov  workclass_local_gov  workclass_private  \\\n",
       "0                      0                    0                  0   \n",
       "1                      0                    0                  0   \n",
       "2                      0                    0                  1   \n",
       "3                      0                    0                  1   \n",
       "4                      0                    0                  1   \n",
       "\n",
       "   workclass_self_emp_inc  ...  marital_status_divorced  \\\n",
       "0                       0  ...                        0   \n",
       "1                       0  ...                        0   \n",
       "2                       0  ...                        0   \n",
       "3                       0  ...                        0   \n",
       "4                       0  ...                        0   \n",
       "\n",
       "   marital_status_married_af_spouse  marital_status_married_civ_spouse  \\\n",
       "0                                 0                                  1   \n",
       "1                                 0                                  1   \n",
       "2                                 0                                  1   \n",
       "3                                 0                                  0   \n",
       "4                                 0                                  1   \n",
       "\n",
       "   marital_status_married_spouse_absent  marital_status_never_married  \\\n",
       "0                                     0                             0   \n",
       "1                                     0                             0   \n",
       "2                                     0                             0   \n",
       "3                                     0                             0   \n",
       "4                                     0                             0   \n",
       "\n",
       "   marital_status_separated  marital_status_widowed  native_country_mexico  \\\n",
       "0                         0                       0                      0   \n",
       "1                         0                       0                      0   \n",
       "2                         0                       0                      0   \n",
       "3                         0                       1                      0   \n",
       "4                         0                       0                      0   \n",
       "\n",
       "   native_country_other  native_country_united_states  \n",
       "0                     0                             1  \n",
       "1                     0                             1  \n",
       "2                     1                             0  \n",
       "3                     0                             1  \n",
       "4                     0                             1  \n",
       "\n",
       "[5 rows x 64 columns]"
      ]
     },
     "execution_count": 10,
     "metadata": {},
     "output_type": "execute_result"
    }
   ],
   "source": [
    "train_oh.head()"
   ]
  },
  {
   "cell_type": "markdown",
   "metadata": {},
   "source": [
    "## Training a model to predict salary\n",
    "\n",
    "We will load a model from disk so that results are reproducible, but commented out here is the code we used to train the model."
   ]
  },
  {
   "cell_type": "code",
   "execution_count": 11,
   "metadata": {},
   "outputs": [],
   "source": [
    "import torch\n",
    "from torch.utils.data import Dataset\n",
    "class AdultDataset(torch.utils.data.Dataset):\n",
    "    def __init__(self, df):\n",
    "        self.X = torch.tensor(df.drop(columns=[\"salary\"]).values, dtype=torch.float32)\n",
    "        self.y = torch.tensor(df[\"salary\"].values, dtype=torch.float32)\n",
    "        self.s = torch.tensor(df[\"sex\"].values, dtype=torch.int64)  # sensitive attr\n",
    "\n",
    "    def __len__(self):\n",
    "        return len(self.X)\n",
    "\n",
    "    def __getitem__(self, idx):\n",
    "        return self.X[idx], self.y[idx], self.s[idx]"
   ]
  },
  {
   "cell_type": "code",
   "execution_count": 12,
   "metadata": {},
   "outputs": [],
   "source": [
    "from torch.utils.data import DataLoader\n",
    "\n",
    "train_ds = AdultDataset(train_oh)\n",
    "val_ds = AdultDataset(val_oh)\n",
    "test_ds = AdultDataset(test_oh)\n",
    "\n",
    "train_loader = DataLoader(train_ds, batch_size=128, shuffle=True)\n",
    "val_loader = DataLoader(val_ds, batch_size=128)\n",
    "test_loader = DataLoader(test_ds, batch_size=128)"
   ]
  },
  {
   "cell_type": "code",
   "execution_count": 13,
   "metadata": {},
   "outputs": [],
   "source": [
    "import torch.nn as nn\n",
    "\n",
    "class FairMLP(nn.Module):\n",
    "    def __init__(self, input_dim):\n",
    "        super().__init__()\n",
    "        self.net = nn.Sequential(\n",
    "            nn.Linear(input_dim, 100),\n",
    "            nn.ReLU(),\n",
    "            nn.Linear(100, 100),\n",
    "            nn.ReLU(),\n",
    "            nn.Linear(100, 1),\n",
    "            nn.Sigmoid()\n",
    "        )\n",
    "\n",
    "    def forward(self, x):\n",
    "        return self.net(x).squeeze()\n",
    "    \n",
    "def demographic_parity_loss(y_hat, s):\n",
    "    group_0 = y_hat[s == 0]\n",
    "    group_1 = y_hat[s == 1]\n",
    "    if len(group_0) == 0 or len(group_1) == 0:\n",
    "        return torch.tensor(0.0, device=y_hat.device)\n",
    "    return (group_0.mean() - group_1.mean())**2"
   ]
  },
  {
   "cell_type": "code",
   "execution_count": 67,
   "metadata": {},
   "outputs": [],
   "source": [
    "model = FairMLP(input_dim=train_oh.shape[1] - 1)\n",
    "optimizer = torch.optim.Adam(model.parameters(), lr=1e-3)\n",
    "bce_loss = nn.BCELoss()\n",
    "lambda_dp = 0.7  # try different values\n",
    "\n",
    "for epoch in range(10):\n",
    "    model.train()\n",
    "    for x, y, s in train_loader:\n",
    "        optimizer.zero_grad()\n",
    "        y_hat = model(x)\n",
    "        loss_base = bce_loss(y_hat, y)\n",
    "        loss_dp = demographic_parity_loss(y_hat, s)\n",
    "        loss = loss_base + lambda_dp * loss_dp\n",
    "        loss.backward()\n",
    "        optimizer.step()"
   ]
  },
  {
   "cell_type": "code",
   "execution_count": 68,
   "metadata": {},
   "outputs": [
    {
     "name": "stdout",
     "output_type": "stream",
     "text": [
      "Test accuracy: 84.94%\n"
     ]
    }
   ],
   "source": [
    "from sklearn.metrics import accuracy_score\n",
    "\n",
    "model.eval()\n",
    "\n",
    "X_test = torch.tensor(test_oh.drop(columns=[\"salary\"]).values, dtype=torch.float32)\n",
    "y_test = test_oh[\"salary\"].values\n",
    "\n",
    "with torch.no_grad():\n",
    "    test_prob = model(X_test).numpy()  # shape (n_samples,)\n",
    "\n",
    "test_pred = test_prob > 0.5  # binary threshold\n",
    "test_accuracy = accuracy_score(y_test, test_pred)\n",
    "\n",
    "print(f\"Test accuracy: {test_accuracy * 100:.2f}%\")"
   ]
  },
  {
   "cell_type": "code",
   "execution_count": 47,
   "metadata": {},
   "outputs": [
    {
     "data": {
      "text/html": [
       "<style>#sk-container-id-1 {\n",
       "  /* Definition of color scheme common for light and dark mode */\n",
       "  --sklearn-color-text: black;\n",
       "  --sklearn-color-line: gray;\n",
       "  /* Definition of color scheme for unfitted estimators */\n",
       "  --sklearn-color-unfitted-level-0: #fff5e6;\n",
       "  --sklearn-color-unfitted-level-1: #f6e4d2;\n",
       "  --sklearn-color-unfitted-level-2: #ffe0b3;\n",
       "  --sklearn-color-unfitted-level-3: chocolate;\n",
       "  /* Definition of color scheme for fitted estimators */\n",
       "  --sklearn-color-fitted-level-0: #f0f8ff;\n",
       "  --sklearn-color-fitted-level-1: #d4ebff;\n",
       "  --sklearn-color-fitted-level-2: #b3dbfd;\n",
       "  --sklearn-color-fitted-level-3: cornflowerblue;\n",
       "\n",
       "  /* Specific color for light theme */\n",
       "  --sklearn-color-text-on-default-background: var(--sg-text-color, var(--theme-code-foreground, var(--jp-content-font-color1, black)));\n",
       "  --sklearn-color-background: var(--sg-background-color, var(--theme-background, var(--jp-layout-color0, white)));\n",
       "  --sklearn-color-border-box: var(--sg-text-color, var(--theme-code-foreground, var(--jp-content-font-color1, black)));\n",
       "  --sklearn-color-icon: #696969;\n",
       "\n",
       "  @media (prefers-color-scheme: dark) {\n",
       "    /* Redefinition of color scheme for dark theme */\n",
       "    --sklearn-color-text-on-default-background: var(--sg-text-color, var(--theme-code-foreground, var(--jp-content-font-color1, white)));\n",
       "    --sklearn-color-background: var(--sg-background-color, var(--theme-background, var(--jp-layout-color0, #111)));\n",
       "    --sklearn-color-border-box: var(--sg-text-color, var(--theme-code-foreground, var(--jp-content-font-color1, white)));\n",
       "    --sklearn-color-icon: #878787;\n",
       "  }\n",
       "}\n",
       "\n",
       "#sk-container-id-1 {\n",
       "  color: var(--sklearn-color-text);\n",
       "}\n",
       "\n",
       "#sk-container-id-1 pre {\n",
       "  padding: 0;\n",
       "}\n",
       "\n",
       "#sk-container-id-1 input.sk-hidden--visually {\n",
       "  border: 0;\n",
       "  clip: rect(1px 1px 1px 1px);\n",
       "  clip: rect(1px, 1px, 1px, 1px);\n",
       "  height: 1px;\n",
       "  margin: -1px;\n",
       "  overflow: hidden;\n",
       "  padding: 0;\n",
       "  position: absolute;\n",
       "  width: 1px;\n",
       "}\n",
       "\n",
       "#sk-container-id-1 div.sk-dashed-wrapped {\n",
       "  border: 1px dashed var(--sklearn-color-line);\n",
       "  margin: 0 0.4em 0.5em 0.4em;\n",
       "  box-sizing: border-box;\n",
       "  padding-bottom: 0.4em;\n",
       "  background-color: var(--sklearn-color-background);\n",
       "}\n",
       "\n",
       "#sk-container-id-1 div.sk-container {\n",
       "  /* jupyter's `normalize.less` sets `[hidden] { display: none; }`\n",
       "     but bootstrap.min.css set `[hidden] { display: none !important; }`\n",
       "     so we also need the `!important` here to be able to override the\n",
       "     default hidden behavior on the sphinx rendered scikit-learn.org.\n",
       "     See: https://github.com/scikit-learn/scikit-learn/issues/21755 */\n",
       "  display: inline-block !important;\n",
       "  position: relative;\n",
       "}\n",
       "\n",
       "#sk-container-id-1 div.sk-text-repr-fallback {\n",
       "  display: none;\n",
       "}\n",
       "\n",
       "div.sk-parallel-item,\n",
       "div.sk-serial,\n",
       "div.sk-item {\n",
       "  /* draw centered vertical line to link estimators */\n",
       "  background-image: linear-gradient(var(--sklearn-color-text-on-default-background), var(--sklearn-color-text-on-default-background));\n",
       "  background-size: 2px 100%;\n",
       "  background-repeat: no-repeat;\n",
       "  background-position: center center;\n",
       "}\n",
       "\n",
       "/* Parallel-specific style estimator block */\n",
       "\n",
       "#sk-container-id-1 div.sk-parallel-item::after {\n",
       "  content: \"\";\n",
       "  width: 100%;\n",
       "  border-bottom: 2px solid var(--sklearn-color-text-on-default-background);\n",
       "  flex-grow: 1;\n",
       "}\n",
       "\n",
       "#sk-container-id-1 div.sk-parallel {\n",
       "  display: flex;\n",
       "  align-items: stretch;\n",
       "  justify-content: center;\n",
       "  background-color: var(--sklearn-color-background);\n",
       "  position: relative;\n",
       "}\n",
       "\n",
       "#sk-container-id-1 div.sk-parallel-item {\n",
       "  display: flex;\n",
       "  flex-direction: column;\n",
       "}\n",
       "\n",
       "#sk-container-id-1 div.sk-parallel-item:first-child::after {\n",
       "  align-self: flex-end;\n",
       "  width: 50%;\n",
       "}\n",
       "\n",
       "#sk-container-id-1 div.sk-parallel-item:last-child::after {\n",
       "  align-self: flex-start;\n",
       "  width: 50%;\n",
       "}\n",
       "\n",
       "#sk-container-id-1 div.sk-parallel-item:only-child::after {\n",
       "  width: 0;\n",
       "}\n",
       "\n",
       "/* Serial-specific style estimator block */\n",
       "\n",
       "#sk-container-id-1 div.sk-serial {\n",
       "  display: flex;\n",
       "  flex-direction: column;\n",
       "  align-items: center;\n",
       "  background-color: var(--sklearn-color-background);\n",
       "  padding-right: 1em;\n",
       "  padding-left: 1em;\n",
       "}\n",
       "\n",
       "\n",
       "/* Toggleable style: style used for estimator/Pipeline/ColumnTransformer box that is\n",
       "clickable and can be expanded/collapsed.\n",
       "- Pipeline and ColumnTransformer use this feature and define the default style\n",
       "- Estimators will overwrite some part of the style using the `sk-estimator` class\n",
       "*/\n",
       "\n",
       "/* Pipeline and ColumnTransformer style (default) */\n",
       "\n",
       "#sk-container-id-1 div.sk-toggleable {\n",
       "  /* Default theme specific background. It is overwritten whether we have a\n",
       "  specific estimator or a Pipeline/ColumnTransformer */\n",
       "  background-color: var(--sklearn-color-background);\n",
       "}\n",
       "\n",
       "/* Toggleable label */\n",
       "#sk-container-id-1 label.sk-toggleable__label {\n",
       "  cursor: pointer;\n",
       "  display: block;\n",
       "  width: 100%;\n",
       "  margin-bottom: 0;\n",
       "  padding: 0.5em;\n",
       "  box-sizing: border-box;\n",
       "  text-align: center;\n",
       "}\n",
       "\n",
       "#sk-container-id-1 label.sk-toggleable__label-arrow:before {\n",
       "  /* Arrow on the left of the label */\n",
       "  content: \"▸\";\n",
       "  float: left;\n",
       "  margin-right: 0.25em;\n",
       "  color: var(--sklearn-color-icon);\n",
       "}\n",
       "\n",
       "#sk-container-id-1 label.sk-toggleable__label-arrow:hover:before {\n",
       "  color: var(--sklearn-color-text);\n",
       "}\n",
       "\n",
       "/* Toggleable content - dropdown */\n",
       "\n",
       "#sk-container-id-1 div.sk-toggleable__content {\n",
       "  max-height: 0;\n",
       "  max-width: 0;\n",
       "  overflow: hidden;\n",
       "  text-align: left;\n",
       "  /* unfitted */\n",
       "  background-color: var(--sklearn-color-unfitted-level-0);\n",
       "}\n",
       "\n",
       "#sk-container-id-1 div.sk-toggleable__content.fitted {\n",
       "  /* fitted */\n",
       "  background-color: var(--sklearn-color-fitted-level-0);\n",
       "}\n",
       "\n",
       "#sk-container-id-1 div.sk-toggleable__content pre {\n",
       "  margin: 0.2em;\n",
       "  border-radius: 0.25em;\n",
       "  color: var(--sklearn-color-text);\n",
       "  /* unfitted */\n",
       "  background-color: var(--sklearn-color-unfitted-level-0);\n",
       "}\n",
       "\n",
       "#sk-container-id-1 div.sk-toggleable__content.fitted pre {\n",
       "  /* unfitted */\n",
       "  background-color: var(--sklearn-color-fitted-level-0);\n",
       "}\n",
       "\n",
       "#sk-container-id-1 input.sk-toggleable__control:checked~div.sk-toggleable__content {\n",
       "  /* Expand drop-down */\n",
       "  max-height: 200px;\n",
       "  max-width: 100%;\n",
       "  overflow: auto;\n",
       "}\n",
       "\n",
       "#sk-container-id-1 input.sk-toggleable__control:checked~label.sk-toggleable__label-arrow:before {\n",
       "  content: \"▾\";\n",
       "}\n",
       "\n",
       "/* Pipeline/ColumnTransformer-specific style */\n",
       "\n",
       "#sk-container-id-1 div.sk-label input.sk-toggleable__control:checked~label.sk-toggleable__label {\n",
       "  color: var(--sklearn-color-text);\n",
       "  background-color: var(--sklearn-color-unfitted-level-2);\n",
       "}\n",
       "\n",
       "#sk-container-id-1 div.sk-label.fitted input.sk-toggleable__control:checked~label.sk-toggleable__label {\n",
       "  background-color: var(--sklearn-color-fitted-level-2);\n",
       "}\n",
       "\n",
       "/* Estimator-specific style */\n",
       "\n",
       "/* Colorize estimator box */\n",
       "#sk-container-id-1 div.sk-estimator input.sk-toggleable__control:checked~label.sk-toggleable__label {\n",
       "  /* unfitted */\n",
       "  background-color: var(--sklearn-color-unfitted-level-2);\n",
       "}\n",
       "\n",
       "#sk-container-id-1 div.sk-estimator.fitted input.sk-toggleable__control:checked~label.sk-toggleable__label {\n",
       "  /* fitted */\n",
       "  background-color: var(--sklearn-color-fitted-level-2);\n",
       "}\n",
       "\n",
       "#sk-container-id-1 div.sk-label label.sk-toggleable__label,\n",
       "#sk-container-id-1 div.sk-label label {\n",
       "  /* The background is the default theme color */\n",
       "  color: var(--sklearn-color-text-on-default-background);\n",
       "}\n",
       "\n",
       "/* On hover, darken the color of the background */\n",
       "#sk-container-id-1 div.sk-label:hover label.sk-toggleable__label {\n",
       "  color: var(--sklearn-color-text);\n",
       "  background-color: var(--sklearn-color-unfitted-level-2);\n",
       "}\n",
       "\n",
       "/* Label box, darken color on hover, fitted */\n",
       "#sk-container-id-1 div.sk-label.fitted:hover label.sk-toggleable__label.fitted {\n",
       "  color: var(--sklearn-color-text);\n",
       "  background-color: var(--sklearn-color-fitted-level-2);\n",
       "}\n",
       "\n",
       "/* Estimator label */\n",
       "\n",
       "#sk-container-id-1 div.sk-label label {\n",
       "  font-family: monospace;\n",
       "  font-weight: bold;\n",
       "  display: inline-block;\n",
       "  line-height: 1.2em;\n",
       "}\n",
       "\n",
       "#sk-container-id-1 div.sk-label-container {\n",
       "  text-align: center;\n",
       "}\n",
       "\n",
       "/* Estimator-specific */\n",
       "#sk-container-id-1 div.sk-estimator {\n",
       "  font-family: monospace;\n",
       "  border: 1px dotted var(--sklearn-color-border-box);\n",
       "  border-radius: 0.25em;\n",
       "  box-sizing: border-box;\n",
       "  margin-bottom: 0.5em;\n",
       "  /* unfitted */\n",
       "  background-color: var(--sklearn-color-unfitted-level-0);\n",
       "}\n",
       "\n",
       "#sk-container-id-1 div.sk-estimator.fitted {\n",
       "  /* fitted */\n",
       "  background-color: var(--sklearn-color-fitted-level-0);\n",
       "}\n",
       "\n",
       "/* on hover */\n",
       "#sk-container-id-1 div.sk-estimator:hover {\n",
       "  /* unfitted */\n",
       "  background-color: var(--sklearn-color-unfitted-level-2);\n",
       "}\n",
       "\n",
       "#sk-container-id-1 div.sk-estimator.fitted:hover {\n",
       "  /* fitted */\n",
       "  background-color: var(--sklearn-color-fitted-level-2);\n",
       "}\n",
       "\n",
       "/* Specification for estimator info (e.g. \"i\" and \"?\") */\n",
       "\n",
       "/* Common style for \"i\" and \"?\" */\n",
       "\n",
       ".sk-estimator-doc-link,\n",
       "a:link.sk-estimator-doc-link,\n",
       "a:visited.sk-estimator-doc-link {\n",
       "  float: right;\n",
       "  font-size: smaller;\n",
       "  line-height: 1em;\n",
       "  font-family: monospace;\n",
       "  background-color: var(--sklearn-color-background);\n",
       "  border-radius: 1em;\n",
       "  height: 1em;\n",
       "  width: 1em;\n",
       "  text-decoration: none !important;\n",
       "  margin-left: 1ex;\n",
       "  /* unfitted */\n",
       "  border: var(--sklearn-color-unfitted-level-1) 1pt solid;\n",
       "  color: var(--sklearn-color-unfitted-level-1);\n",
       "}\n",
       "\n",
       ".sk-estimator-doc-link.fitted,\n",
       "a:link.sk-estimator-doc-link.fitted,\n",
       "a:visited.sk-estimator-doc-link.fitted {\n",
       "  /* fitted */\n",
       "  border: var(--sklearn-color-fitted-level-1) 1pt solid;\n",
       "  color: var(--sklearn-color-fitted-level-1);\n",
       "}\n",
       "\n",
       "/* On hover */\n",
       "div.sk-estimator:hover .sk-estimator-doc-link:hover,\n",
       ".sk-estimator-doc-link:hover,\n",
       "div.sk-label-container:hover .sk-estimator-doc-link:hover,\n",
       ".sk-estimator-doc-link:hover {\n",
       "  /* unfitted */\n",
       "  background-color: var(--sklearn-color-unfitted-level-3);\n",
       "  color: var(--sklearn-color-background);\n",
       "  text-decoration: none;\n",
       "}\n",
       "\n",
       "div.sk-estimator.fitted:hover .sk-estimator-doc-link.fitted:hover,\n",
       ".sk-estimator-doc-link.fitted:hover,\n",
       "div.sk-label-container:hover .sk-estimator-doc-link.fitted:hover,\n",
       ".sk-estimator-doc-link.fitted:hover {\n",
       "  /* fitted */\n",
       "  background-color: var(--sklearn-color-fitted-level-3);\n",
       "  color: var(--sklearn-color-background);\n",
       "  text-decoration: none;\n",
       "}\n",
       "\n",
       "/* Span, style for the box shown on hovering the info icon */\n",
       ".sk-estimator-doc-link span {\n",
       "  display: none;\n",
       "  z-index: 9999;\n",
       "  position: relative;\n",
       "  font-weight: normal;\n",
       "  right: .2ex;\n",
       "  padding: .5ex;\n",
       "  margin: .5ex;\n",
       "  width: min-content;\n",
       "  min-width: 20ex;\n",
       "  max-width: 50ex;\n",
       "  color: var(--sklearn-color-text);\n",
       "  box-shadow: 2pt 2pt 4pt #999;\n",
       "  /* unfitted */\n",
       "  background: var(--sklearn-color-unfitted-level-0);\n",
       "  border: .5pt solid var(--sklearn-color-unfitted-level-3);\n",
       "}\n",
       "\n",
       ".sk-estimator-doc-link.fitted span {\n",
       "  /* fitted */\n",
       "  background: var(--sklearn-color-fitted-level-0);\n",
       "  border: var(--sklearn-color-fitted-level-3);\n",
       "}\n",
       "\n",
       ".sk-estimator-doc-link:hover span {\n",
       "  display: block;\n",
       "}\n",
       "\n",
       "/* \"?\"-specific style due to the `<a>` HTML tag */\n",
       "\n",
       "#sk-container-id-1 a.estimator_doc_link {\n",
       "  float: right;\n",
       "  font-size: 1rem;\n",
       "  line-height: 1em;\n",
       "  font-family: monospace;\n",
       "  background-color: var(--sklearn-color-background);\n",
       "  border-radius: 1rem;\n",
       "  height: 1rem;\n",
       "  width: 1rem;\n",
       "  text-decoration: none;\n",
       "  /* unfitted */\n",
       "  color: var(--sklearn-color-unfitted-level-1);\n",
       "  border: var(--sklearn-color-unfitted-level-1) 1pt solid;\n",
       "}\n",
       "\n",
       "#sk-container-id-1 a.estimator_doc_link.fitted {\n",
       "  /* fitted */\n",
       "  border: var(--sklearn-color-fitted-level-1) 1pt solid;\n",
       "  color: var(--sklearn-color-fitted-level-1);\n",
       "}\n",
       "\n",
       "/* On hover */\n",
       "#sk-container-id-1 a.estimator_doc_link:hover {\n",
       "  /* unfitted */\n",
       "  background-color: var(--sklearn-color-unfitted-level-3);\n",
       "  color: var(--sklearn-color-background);\n",
       "  text-decoration: none;\n",
       "}\n",
       "\n",
       "#sk-container-id-1 a.estimator_doc_link.fitted:hover {\n",
       "  /* fitted */\n",
       "  background-color: var(--sklearn-color-fitted-level-3);\n",
       "}\n",
       "</style><div id=\"sk-container-id-1\" class=\"sk-top-container\"><div class=\"sk-text-repr-fallback\"><pre>MLPClassifier(early_stopping=True, hidden_layer_sizes=(100, 100))</pre><b>In a Jupyter environment, please rerun this cell to show the HTML representation or trust the notebook. <br />On GitHub, the HTML representation is unable to render, please try loading this page with nbviewer.org.</b></div><div class=\"sk-container\" hidden><div class=\"sk-item\"><div class=\"sk-estimator fitted sk-toggleable\"><input class=\"sk-toggleable__control sk-hidden--visually\" id=\"sk-estimator-id-1\" type=\"checkbox\" checked><label for=\"sk-estimator-id-1\" class=\"sk-toggleable__label fitted sk-toggleable__label-arrow fitted\">&nbsp;&nbsp;MLPClassifier<a class=\"sk-estimator-doc-link fitted\" rel=\"noreferrer\" target=\"_blank\" href=\"https://scikit-learn.org/1.4/modules/generated/sklearn.neural_network.MLPClassifier.html\">?<span>Documentation for MLPClassifier</span></a><span class=\"sk-estimator-doc-link fitted\">i<span>Fitted</span></span></label><div class=\"sk-toggleable__content fitted\"><pre>MLPClassifier(early_stopping=True, hidden_layer_sizes=(100, 100))</pre></div> </div></div></div></div>"
      ],
      "text/plain": [
       "MLPClassifier(early_stopping=True, hidden_layer_sizes=(100, 100))"
      ]
     },
     "execution_count": 47,
     "metadata": {},
     "output_type": "execute_result"
    }
   ],
   "source": [
    "model = MLPClassifier(hidden_layer_sizes=(100, 100), early_stopping=True)\n",
    "\n",
    "model.fit(train_oh.drop(columns=\"salary\"), train_oh.salary)"
   ]
  },
  {
   "cell_type": "markdown",
   "metadata": {},
   "source": [
    "Load the pretrained model"
   ]
  },
  {
   "cell_type": "code",
   "execution_count": null,
   "metadata": {},
   "outputs": [],
   "source": [
    "# model = joblib.load(artifacts_dir / \"models\" / \"finance\" / \"baseline.pkl\")"
   ]
  },
  {
   "cell_type": "markdown",
   "metadata": {},
   "source": [
    "Model accuracy on test set"
   ]
  },
  {
   "cell_type": "code",
   "execution_count": 5,
   "metadata": {},
   "outputs": [
    {
     "name": "stdout",
     "output_type": "stream",
     "text": [
      "Test accuracy: 84.84%\n"
     ]
    }
   ],
   "source": [
    "test_prob = model.predict_proba(test_oh.drop(columns=\"salary\"))[:, 1]\n",
    "test_pred = test_prob > 0.5\n",
    "test_accuracy = model.score(test_oh.drop(columns=\"salary\"), test_oh.salary)\n",
    "print(f\"Test accuracy: {test_accuracy * 100:.2f}%\")"
   ]
  },
  {
   "cell_type": "markdown",
   "metadata": {},
   "source": [
    "## Demographic parity\n",
    "\n",
    "We measure demographic parity using both the difference and ratio of acceptance rates. These metrics are implemented for us in the `fairlearn` library.\n",
    "\n",
    "We also compare the distribution of scores for each sex using box plots of scores."
   ]
  },
  {
   "cell_type": "code",
   "execution_count": 69,
   "metadata": {},
   "outputs": [
    {
     "name": "stdout",
     "output_type": "stream",
     "text": [
      "Demographic parity difference: 0.122\n",
      "Demographic parity ratio: 0.469\n"
     ]
    }
   ],
   "source": [
    "dpd = demographic_parity_difference(\n",
    "    test_oh.salary, test_pred, sensitive_features=test_oh.sex,\n",
    ")\n",
    "dpr = demographic_parity_ratio(\n",
    "    test_oh.salary, test_pred, sensitive_features=test_oh.sex,\n",
    ")\n",
    "\n",
    "print(f\"Demographic parity difference: {dpd:.3f}\")\n",
    "print(f\"Demographic parity ratio: {dpr:.3f}\")"
   ]
  },
  {
   "cell_type": "code",
   "execution_count": 35,
   "metadata": {},
   "outputs": [
    {
     "data": {
      "application/vnd.plotly.v1+json": {
       "config": {
        "plotlyServerURL": "https://plot.ly"
       },
       "data": [
        {
         "hoverinfo": "name+x",
         "jitter": 0.2,
         "line": {
          "color": "#f2603b"
         },
         "marker": {
          "color": "rgba(242,96,59,1)",
          "opacity": 0.1
         },
         "name": "Female",
         "orientation": "h",
         "type": "box",
         "x": {
          "bdata": "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",
          "dtype": "f4"
         },
         "y": {
          "bdata": "AAAAAAAAAAAAAAAAAAAAAAAAAAAAAAAAAAAAAAAAAAAAAAAAAAAAAAAAAAAAAAAAAAAAAAAAAAAAAAAAAAAAAAAAAAAAAAAAAAAAAAAAAAAAAAAAAAAAAAAAAAAAAAAAAAAAAAAAAAAAAAAAAAAAAAAAAAAAAAAAAAAAAAAAAAAAAAAAAAAAAAAAAAAAAAAAAAAAAAAAAAAAAAAAAAAAAAAAAAAAAAAAAAAAAAAAAAAAAAAAAAAAAAAAAAAAAAAAAAAAAAAAAAAAAAAAAAAAAAAAAAAAAAAAAAAAAAAAAAAAAAAAAAAAAAAAAAAAAAAAAAAAAAAAAAAAAAAAAAAAAAAAAAAAAAAAAAAAAAAAAAAAAAAAAAAAAAAAAAAAAAAAAAAAAAAAAAAAAAAAAAAAAAAAAAAAAAAAAAAAAAAAAAAAAAAAAAAAAAAAAAAAAAAAAAAAAAAAAAAAAAAAAAAAAAAAAAAAAAAAAAAAAAAAAAAAAAAAAAAAAAAAAAAAAAAAAAAAAAAAAAAAAAAAAAAAAAAAAAAAAAAAAAAAAAAAAAAAAAAAAAAAAAAAAAAAAAAAAAAAAAAAAAAAAAAAAAAAAAAAAAAAAAAAAAAAAAAAAAAAAAAAAAAAAAAAAAAAAAAAAAAAAAAAAAAAAAAAAAAAAAAAAAAAAAAAAAAAAAAAAAAAAAAAAAAAAAAAAAAAAAAAAAAAAAAAAAAAAAAAAAAAAAAAAAAAAAAAAAAAAAAAAAAAAAAAAAAAAAAAAAAAAAAAAAAAAAAAAAAAAAAAAAAAAAAAAAAAAAAAAAAAAAAAAAAAAAAAAAAAAAAAAAAAAAAAAAAAAAAAAAAAAAAAAAAAAAAAAAAAAAAAAAAAAAAAAAAAAAAAAAAAAAAAAAAAAAAAAAAAAAAAAAAAAAAAAAAAAAAAAAAAAAAAAAAAAAAAAAAAAAAAAAAAAAAAAAAAAAAAAAAAAAAAAAAAAAAAAAAAAAAAAAAAAAAAAAAAAAAAAAAAAAAAAAAAAAAAAAAAAAAAAAAAAAAAAAAAAAAAAAAAAAAAAAAAAAAAAAAAAAAAAAAAAAAAAAAAAAAAAAAAAAAAAAAAAAAAAAAAAAAAAAAAAAAAAAAAAAAAAAAAAAAAAAAAAAAAAAAAAAAAAAAAAAAAAAAAAAAAAAAAAAAAAAAAAAAAAAAAAAAAAAAAAAAAAAAAAAAAAAAAAAAAAAAAAAAAAAAAAAAAAAAAAAAAAAAAAAAAAAAAAAAAAAAAAAAAAAAAAAAAAAAAAAAAAAAAAAAAAAAAAAAAAAAAAAAAAAAAAAAAAAAAAAAAAAAAAAAAAAAAAAAAAAAAAAAAAAAAAAAAAAAAAAAAAAAAAAAAAAAAAAAAAAAAAAAAAAAAAAAAAAAAAAAAAAAAAAAAAAAAAAAAAAAAAAAAAAAAAAAAAAAAAAAAAAAAAAAAAAAAAAAAAAAAAAAAAAAAAAAAAAAAAAAAAAAAAAAAAAAAAAAAAAAAAAAAAAAAAAAAAAAAAAAAAAAAAAAAAAAAAAAAAAAAAAAAAAAAAAAAAAAAAAAAAAAAAAAAAAAAAAAAAAAAAAAAAAAAAAAAAAAAAAAAAAAAAAAAAAAAAAAAAAAAAAAAAAAAAAAAAAAAAAAAAAAAAAAAAAAAAAAAAAAAAAAAAAAAAAAAAAAAAAAAAAAAAAAAAAAAAAAAAAAAAAAAAAAAAAAAAAAAAAAAAAAAAAAAAAAAAAAAAAAAAAAAAAAAAAAAAAAAAAAAAAAAAAAAAAAAAAAAAAAAAAAAAAAAAAAAAAAAAAAAAAAAAAAAAAAAAAAAAAAAAAAAAAAAAAAAAAAAAAAAAAAAAAAAAAAAAAAAAAAAAAAAAAAAAAAAAAAAAAAAAAAAAAAAAAAAAAAAAAAAAAAAAAAAAAAAAAAAAAAAAAAAAAAAAAAAAAAAAAAAAAAAAAAAAAAAAAAAAAAAAAAAAAAAAAAAAAAAAAAAAAAAAAAAAAAAAAAAAAAAAAAAAAAAAAAAAAAAAAAAAAAAAAAAAAAAAAAAAAAAAAAAAAAAAAAAAAAAAAAAAAAAAAAAAAAAAAAAAAAAAAAAAAAAAAAAAAAAAAAAAAAAAAAAAAAAAAAAAAAAAAAAAAAAAAAAAAAAAAAAAAAAAAAAAAAAAAAAAAAAAAAAAAAAAAAAAAAAAAAAAAAAAAAAAAAAAAAAAAAAAAAAAAAAAAAAAAAAAAAAAAAAAAAAAAAAAAAAAAAAAAAAAAAAAAAAAAAAAAAAAAAAAAAAAAAAAAAAAAAAAAAAAAAAAAAAAAAAAAAAAAAAAAAAAAAAAAAAAAAAAAAAAAAAAAAAAAAAAAAAAAAAAAAAAAAAAAAAAAAAAAAAAAAAAAAAAAAAAAAAAAAAAAAAAAAAAAAAAAAAAAAAAAAAAAAAAAAAAAAAAAAAAAAAAAAAAAAAAAAAAAAAAAAAAAAAAAAAAAAAAAAAAAAAAAAAAAAAAAAAAAAAAAAAAAAAAAAAAAAAAAAAAAAAAAAAAAAAAAAAAAAAAAAAAAAAAAAAAAAAAAAAAAAAAAAAAAAAAAAAAAAAAAAAAAAAAAAAAAAAAAAAAAAAAAAAAAAAAAAAAAAAAAAAAAAAAAAAAAAAAAAAAAAAAAAAAAAAAAAAAAAAAAAAAAAAAAAAAAAAAAAAAAAAAAAAAAAAAAAAAAAAAAAAAAAAAAAAAAAAAAAAAAAAAAAAAAAAAAAAAAAAAAAAAAAAAAAAAAAAAAAAAAAAAAAAAAAAAAAAAAAAAAAAAAAAAAAAAAAAAAAAAAAAAAAAAAAAAAAAAAAAAAAAAAAAAAAAAAAAAAAAAAAAAAAAAAAAAAAAAAAAAAAAAAAAAAAAAAAAAAAAAAAAAAAAAAAAAAAAAAAAAAAAAAAAAAAAAAAAAAAAAAAAAAAAAAAAAAAAAAAAAAAAAAAAAAAAAAAAAAAAAAAAAAAAAAAAAAAAAAAAAAAAAAAAAAAAAAAAAAAAAAAAAAAAAAAAAAAAAAAAAAAAAAAAAAAAAAAAAAAAAAAAAAAAAAAAAAAAAAAAAAAAAAAAAAAAAAAAAAAAAAAAAAAAAAAAAAAAAAAAAAAAAAAAAAAAAAAAAAAAAAAAAAAAAAAAAAAAAAAAAAAAAAAAAAAAAAAAAAAAAAAAAAAAAAAAAAAAAAAAAAAAAAAAAAAAAAAAAAAAAAAAAAAAAAAAAAAAAAAAAAAAAAAAAAAAAAAAAAAAAAAAAAAAAAAAAAAAAAAAAAAAAAAAAAAAAAAAAAAAAAAAAAAAAAAAAAAAAAAAAAAAAAAAAAAAAAAAAAAAAAAAAAAAAAAAAAAAAAAAAAAAAAAAAAAAAAAAAAAAAAAAAAAAAAAAAAAAAAAAAAAAAAAAAAAAAAAAAAAAAAAAAAAAAAAAAAAAAAAAAAAAAAAAAAAAAAAAAAAAAAAAAAAAAAAAAAAAAAAAAAAAAAAAAAAAAAAAAAAAAAAAAAAAAAAAAAAAAAAAAAAAAAAAAAAAAAAAAAAAAAAAAAAAAAAAAAAAAAAAAAAAAAAAAAAAAAAAAAAAAAAAAAAAAAAAAAAAAAAAAAAAAAAAAAAAAAAAAAAAAAAAAAAAAAAAAAAAAAAAAAAAAAAAAAAAAAAAAAAAAAAAAAAAAAAAAAAAAAAAAAAAAAAAAAAAAAAAAAAAAAAAAAAAAAAAAAAAAAAAAAAAAAAAAAAAAAAAAAAAAAAAAAAAAAAAAAAAAAAAAAAAAAAAAAAAAAAAAAAAAAAAAAAAAAAAAAAAAAAAAAAAAAAAAAAAAAAAAAAAAAAAAAAAAAAAAAAAAAAAAAAAAAAAAAAAAAAAAAAAAAAAAAAAAAAAAAAAAAAAAAAAAAAAAAAAAAAAAAAAAAAAAAAAAAAAAAAAAAAAAAAAAAAAAAAAAAAAAAAAAAAAAAAAAAAAAAAAAAAAAAAAAAAAAAAAAAAAAAAAAAAAAAAAAAAAAAAAAAAAAAAAAAAAAAAAAAAAAAAAAAAAAAAAAAAAAAAAAAAAAAAAAAAAAAAAAAAAAAAAAAAAAAAAAAAAAAAAAAAAAAAAAAAAAAAAAAAAAAAAAAAAAAAAAAAAAAAAAAAAAAAAAAAAAAAAAAAAAAAAAAAAAAAAAAAAAAAAAAAAAAAAAAAAAAAAAAAAAAAAAAAAAAAAAAAAAAAAAAAAAAAAAAAAAAAAAAAAAAAAAAAAAAAAAAAAAAAAAAAAAAAAAAAAAAAAAAAAAAAAAAAAAAAAAAAAAAAAAAAAAAAAAAAAAAAAAAAAAAAAAAAAAAAAAAAAAAAAAAAAAAAAAAAAAAAAAAAAAAAAAAAAAAAAAAAAAAAAAAAAAAAAAAAAAAAAAAAAAAAAAAAAAAAAAAAAAAAAAAAAAAAAAAAAAAAAAAAAAAAAAAAAAAAAAAAAAAAAAAAAAAAAAAAAAAAAAAAAAAAAAAAAAAAAAAAAAAAAAAAAAAAAAAAAAAAAAAAAAAAAAAAAAAAAAAAAAAAAAAAAAAAAAAAAAAAAAAAAAAAAAAAAAAAAAAAAAAAAAAAAAAAAAAAAAAAAAAAAAAAAAAAAAAAAAAAAAAAAAAAAAAAAAAAAAAAAAAAAAAAAAAAAAAAAAAAAAAAAAAAAAAAAAAAAAAAAAAAAAAAAAAAAAAAAAAAAAAAAAAAAAAAAAAAAAAAAAAAAAAAAAAAAAAAAAAAAAAAAAAAAAAAAAAAAAAAAAAAAAAAAAAAAAAAAAAAAAAAAAAAAAAAAAAAAAAAAAAAAAAAAAAAAAAAAAAAAAAAAAAAAAAAAAAAAAAAAAAAAAAAAAAAAAAAAAAAAAAAAAAAAAAAAAAAAAAAAAAAAAAAAAAAAAAAAAAAAAAAAAAAAAAAAAAAAAAAAAAAAAAAAAAAAAAAAAAAAAAAAAAAAAAAAAAAAAAAAAAAAAAAAAAAAAAAAAAAAAAAAAAAAAAAAAAAAAAAAAAAAAAAAAAAAAAAAAAAAAAAAAAAAAAAAAAAAAAAAAAAAAAAAAAAAAAAAAAAAAAAAAAAAAAAAAAAAAAAAAAAAAAAAAAAAAAAAAAAAAAAAAAAAAAAAAAAAAAAAAAAAAAAAAAAAAAAAAAAAAAAAAAAAAAAAAAAAAAAAAAAAAAAAAAAAAAAAAAAAAAAAAAAAAAAAAAAAAAAAAAAAAAAAAAAAAAAAAAAAAAAAAAAAAAAAAAAAAAAAAAAAAAAAAAAAAAAAAAAAAAAAAAAAAAAAAAAAAAAAAAAAAAAAAAAAAAAAAAAAAAAAAAAAAAAAAAAAAAAAAAAAAAAAAAAAAAAAAAAAAAAAAAAAAAAAAAAAAAAAAAAAAAAAAAAAAAAAAAAAAAAAAAAAAAAAAAAAAAAAAAAAAAAAAAAAAAAAAAAAAAAAAAAAAAAAAAAAAAAAAAAAAAAAAAAAAAAAAAAAAAAAAAAAAAAAAAAAAAAAAAAAAAAAAAAAAAAAAAAAAAAAAAAAAAAAAAAAAAAAAAAAAAAAAAAAAAAAAAAAAAAAAAAAAAAAAAAAAAAAAAAAAAAAAAAAAAAAAAAAAAAAAAAAAAAAAAAAAAAAAAAAAAAAAAAAAAAAAAAAAAAAAAAAAAAAAAAAAAAAAAAAAAAAAAAAAAAAAAAAAAAAAAAAAAAAAAAAAAAAAAAAAAAAAAAAAAAAAAAAAAAAAAAAAAAAAAAAAAAAAAAAAAAAAAAAAAAAAAAAAAAAAAAAAAAAAAAAAAAAAAAAAAAAAAAAAAAAAAAAAAAAAAAAAAAAAAAAAAAAAAAAAAAAAAAAAAAAAAAAAAAAAAAAAAAAAAAAAAAAAAAAAAAAAAAAAAAAAAAAAAAAAAAAAAAAAAAAAAAAAAAAAAAAAAAAAAAAAAAAAAAAAAAAAAAAAAAAAAAAAAAAAAAAAAAAAAAAAAAAAAAAAAAAAAAAAAAAAAAAAAAAAAAAAAAAAAAAAAAAAAAAAAAAAAAAAAAAAAAAAAAAAAAAAAAAAAAAAAAAAAAAAAAAAAAAAAAAAAAAAAAAAAAAAAAAAAAAAAAAAAAAAAAAAAAAAAAAAAAAAAAAAAAAAAAAAAAAAAAAAAAAAAAAAAAAAAAAAAAAAAAAAAAAAAAAAAAAAAAAAAAAAAAAAAAAAAAAAAAAAAAAAAAAAAAAAAAAAAAAAAAAAAAAAAAAAAAAAAAAAAAAAAAAAAAAAAAAAAAAAAAAAAAAAAAAAAAAAAAAAAAAAAAAAAAAAAAAAAAAAAAAAAAAAAAAAAAAAAAAAAAAAAAAAAAAAAAAAAAAAAAAAAAAAAAAAAAAAAAAAAAAAAAAAAAAAAAAAAAAAAAAAAAAAAAAAAAAAAAAAAAAAAAAAAAAAAAAAAAAAAAAAAAAAAAAAAAAAAAAAAAAAAAAAAAAAAAAAAAAAAAAAAAAAAAAAAAAAAAAAAAAAAAAAAAAAAAAAAAAAAAAAAAAAAAAAAAAAAAAAAAAAAAAAAAAAAAAAAAAAAAAAAAAAAAAAAAAAAAAAAAAAAAAAAAAAAAAAAAAAAAAAAAAAAAAAAAAAAAAAAAAAAAAAAAAAAAAAAAAAAAAAAAAAAAAAAAAAAAAAAAAAAAAAAAAAAAAAAAAAAAAAAAAAAAAAAAAAAAAAAAAAAAAAAAAAAAAAAAAAAAAAAAAAAAAAAAAAAAAAAAAAAAAAAAAAAAAAAAAAAAAAAAAAAAAAAAAAAAAAAAAAAAAAAAAAAAAAAAAAAAAAAAAAAAAAAAAAAAAAAAAAAAAAAAAAAAAAAAAAAAAAAAAAAAAAAAAAAAAAAAAAAAAAAAAAAAAAAAAAAAAAAAAAAAAAAAAAAAAAAAAAAAAAAAAAAAAAAAAAAAAAAAAAAAAAAAAAAAAAAAAAAAAAAAAAAAAAAAAAAAAAAAAAAAAAAAAAAAAAAAAAAAAAAAAAAAAAAAAAAAAAAAAAAAAAAAAAAAAAAAAAAAAAAAAAAAAAAAAAAAAAAAAAAAAAAAAAAAAAAAAAAAAAAAAAAAAAAAAAAAAAAAAAAAAAAAAAAAAAAAAAAAAAAAAAAAAAAAAAAAAAAAAAAAAAAAAAAAAAAAAAAAAAAAAAAAAAAAAAAAAAAAAAAAAAAAAAAAAAAAAAAAAAAAAAAAAAAAAAAAAAAAAAAAAAAAAAAAAAAAAAAAAAAAAAAAAAAAAAAAAAAAAAAAAAAAAAAAAAAAAAAAAAAAAAAAAAAAAAAAAAAAAAAAAAAAAAAAAAAAAAAAAAAAAAAAAAAAAAAAAAAAAAAAAAAAAAAAAAAAAAAAAAAAAAAAAAAAAAAAAAAAAAAAAAAAAAAAAAAAAAAAAAAAAAAAAAAAAAAAAAAAAAAAAAAAAAAAAAAAAAAAAAAAAAAAAAAAAAAAAAAAAAAAAAAAAAAAAAAAAAAAAAAAAAAAAAAAAAAAAAAAAAAAAAAAAAAAAAAAAAAAAAAAAAAAAAAAAAAAAAAAAAAAAAAAAAAAAAAAAAAAAAAAAAAAAAAAAAAAAAAAAAAAAAAAAAAAAAAAAAAAAAAAAAAAAAAAAAAAAAAAAAAAAAAAAAAAAAAAAAAAAAAAAAAAAAAAAAAAAAAAAAAAAAAAAAAAAAAAAAAAAAAAAAAAAAAAAAAAAAAAAAAAAAAAAAAAAAAAAAAAAAAAAAAAAAAAAAAAAAAAAAAAAAAAAAAAAAAAAAAAAAAAAAAAAAAAAAAAAAAAAAAAAAAAAAAAAAAAAAAAAAAAAAAAAAAAAAAAAAAAAAAAAAAAAAAAAAAAAAAAAAAAAAAAAAAAAAAAAAAAAAAAAAAAAAAAAAAAAAAAAAAAAAAAAAAAAAAAAAAAAAAAAAAAAAAAAAAAAAAAAAAAAAAAAAAAAAAAAAAAAAAAAAAAAAAAAAAAAAAAAAAAAAAAAAAAAAAAAAAAAAAAAAAAAAAAAAAAAAAAAAAAAAAAAAAAAAAAAAAAAAAAAAAAAAAAAAAAAAAAAAAAAAAAAAAAAAAAAAAAAAAAAAAAAAAAAAAAAAAAAAAAAAAAAAAAAAAAAAAAAAAAAAAAAAAAAAAAAAAAAAAAAAAAAAAAAAAAAAAAAAAAAAAAAAAAAAAAAAAAAAAAAAAAAAAAAAAAAAAAAAAAAAAAAAAAAAAAAAAAAAAAAAAAAAAAAAAAAAAAAAAAAAAAAAAAAAAAAAAAAAAAAAAAAAAAAAAAAAAAAAAAAAAAAAAAAAAAAAAAAAAAAAAAAAAAAAAAAAAAAAAAAAAAAAAAAAAAAAAAAAAAAAAAAAAAAAAAAAAAAAAAAAAAAAAAAAAAAAAAAAAAAAAAAAAAAAAAAAAAAAAAAAAAAAAAAAAAAAAAAAAAAAAAAAAAAAAAAAAAAAAAAAAAAAAAAAAAAAAAAAAAAAAAAAAAAAAAAAAAAAAAAAAAAAAAAAAAAAAAAAAAAAAAAAAAAAAAAAAAAAAAAAAAAAAAAAAAAAAAAAAAAAAAAAAAAAAAAAAAAAAAAAAAAAAAAAAAAAAAAAAAAAAAAAAAAAAAAAAAAAAAAAAAAAAAAAAAAAAAAAAAAAAAAAAAAAAAAAAAAAAAAAAAAAAAAAAAAAAAAAAAAAAAAAAAAAAAAAAAAAAAAAAAAAAAAAAAAAAAAAAAAAAAAAAAAAAAAAAAAAAAAAAAAAAAAAAAAAAAAAAAAAAAAAAAAAAAAAAAAAAAAAAAAAAAAAAAAAAAAAAAAAAAAAAAAAAAAAAAAAAAAAAAAAAAAAAAAAAAAAAAAAAAAAAAAAAAAAAAAAAAAAAAAAAAAAAAAAAAAAAAAAAAAAAAAAAAAAAAAAAAAAAAAAAAAAAAAAAAAAAAAAAAAAAAAAAAAAAAAAAAAAAAAAAAAAAAAAAAAAAAAAAAAAAAAAAAAAAAAAAAAAAAAAAAAAAAAAAAAAAAAAAAAAAAAAAAAAAAAAAAAAAAAAAAAAAAAAAAAAAAAAAAAAAAAAAAAAAAAAAAAAAAAAAAAAAAAAAAAAAAAAAAAAAAAAAAAAAAAAAAAAAAAAAAAAAAAAAAAAAAAAAAAAAAAAAAAAAAAAAAAAAAAAAAAAAAAAAAAAAAAAAAAAAAAAAAAAAAAAAAAAAAAAAAAAAAAAAAAAAAAAAAAAAAAAAAAAAAAAAAAAAAAAAAAAAAAAAAAAAAAAAAAAAAAAAAAAAAAAAAAAAAAAAAAAAAAAAAAAAAAAAAAAAAAAAAAAAAAAAAAAAAAAAAAAAAAAAAAAAAAAAAAAAAAAAAAAAAAAAAAAAAAAAAAAAAAAAAAAAAAAAAAAAAAAAAAAAAAAAAAAAAAAAAAAAAAAAAAAAAAAAAAAAAAAAAAAAAAAAAAAAAAAAAAAAAAAAAAAAAAAAAAAAAAAAAAAAAAAAAAAAAAAAAAAAAAAAAAAAAAAAAAAAAAAAAAAAAAAAAAAAAAAAAAAAAAAAAAAAAAAAAAAAAAAAAAAAAAAAAAAAAAAAAAAAAAAAAAAAAAAAAAAAAAAAAAAAAAAAAAAAAAAAAAAAAAAAAAAAAAAAAAAAAAAAAAAAAAAAAAAAAAAAAAAAAAAAAAAAAAAAAAAAAAAAAAAAAAAAAAAAAAAAAAAAAAAAAAAAAAAAAAAAAAAAAAAAAAAAAAAAAAAAAAAAAAAAAAAAAAAAAAAAAAAAAAAAAAAAAAAAAAAAAAAAAAAAAAAAAAAAAAAAAAAAAAAAAAAAAAAAAAAAAAAAAAAAAAAAAAAAAAAAAAAAAAAAAAAAAAAAAAAAAAAAAAAAAAAAAAAAAAAAAAAAAAAAAAAAAAAAAAAAAAAAAAAAAAAAAAAAAAAAAAAAAAAAAAAAAAAAAAAAAAAAAAAAAAAAAAAAAAAAAAAAAAAAAAAAAAAAAAAAAAAAAAAAAAAAAAAAAAAAAAAAAAAAAAAAAAAAAAAAAAAAAAAAAAAAAAAAAAAAAAAAAAAAAAAAAAAAAAAAAAAAAAAAAAAAAAAAAAAAAAAAAAAAAAAAAAAAAAAAAAAAAAAAAAAAAAAAAAAAAAAAAAAAAAAAAAAAAAAAAAAAAAAAAAAAAAAAAAAAAAAAAAAAAAAAAAAAAAAAAAAAAAAAAAAAAAAAAAAAAAAAAAAAAAAAAAAAAAAAAAAAAAAAAAAAAAAAAAAAAAAAAAAAAAAAAAAAAAAAAAAAAAAAAAAAAAAAAAAAAAAAAAAAAAAAAAAAAAAAAAAAAAAAAAAAAAAAAAAAAAAAAAAAAAAAAAAAAAAAAAAAAAAAAAAAAAAAAAAAAAAAAAAAAAAAAAAAAAAAAAAAAAAAAAAAAAAAAAAAAAAAAAAAAAAAAAAAAAAAAAAAAAAAAAAAAAAAAAAAAAAAAAAAAAAAAAAAAAAAAAAAAAAAAAAAAAAAAAAAAAAAAAAAAAAAAAAAAAAAAAAAAAAAAAAAAAAAAAAAAAAAAAAAAAAAAAAAAAAAAAAAAAAAAAAAAAAAAAAAAAAAAAAAAAAAAAAAAAAAAAAAAAAAAAAAAAAAAAAAAAAAAAAAAAAAAAAAAAAAAAAAAAAAAAAAAAAAAAAAAAAAAAAAAAAAAAAAAAAAAAAAAAAAAAAAAAAAAAAAAAAAAAAAAAAAAAAAAAAAAAAAAAAAAAAAAAAAAAAAAAAAAAAAAAAAAAAAAAAAAAAAAAAAAAAAAAAAAAAAAAAAAAAAAAAAAAAAAAAAAAAAAAAAAAAAAAAAAAAAAAAAAAAAAAAAAAAAAAAAAAAAAAAAAAAAAAAAAAAAAAAAAAAAAAAAAAAAAAAAAAAAAAAAAAAAAAAAAAAAAAAAAAAAAAAAAAAAAAAAAAAAAAAAAAAAAAAAAAAAAAAAAAAAAAAAAAAAAAAAAAAAAAAAAAAAAAAAAAAAAAAAAAAAAAAAAAAAAAAAAAAAAAAAAAAAAAAAAAAAAAAAAAAAAAAAAAAAAAAAAAAAAAAAAAAAAAAAAAAAAAAAAAAAAAAAAAAAAAAAAAAAAAAAAAAAAAAAAAAAAAAAAAAAAAAAAAAAAAAAAAAAAAAAAAAAAAAAAAAAAAAAAAAAAAAAAAAAAAAAAAAAAAAAAAAAAAAAAAAAAAAAAAAAAAAAAAAAAAAAAAAAAAAAAAAAAAAAAAAAAAAAAAAAAAAAAAAAAAAAAAAAAAAAAAAAAAAAAAAAAAAAAAAAAAAAAAAAAAAAAAAAAAAAAAAAAAAAAAAAAAAAAAAAAAAAAAAAAAAAAAAAAAAAAAAAAAAAAAAAAAAAAAAAAAAAAAAAAAAAAAAAAAAAAAAAAAAAAAAAAAAAAAAAAAAAAAAAAAAAAAAAAAAAAAAAAAAAAAAAAAAAAAAAAAAAAAAAAAAAAAAAAAAAAAAAAAAAAAAAAAAAAAAAAAAAAAAAAAAAAAAAAAAAAAAAAAAAAAAAAAAAAAAAAAAAAAAAAAAAAAAAAAAAAAAAAAAAAAAAAAAAAAAAAAAAAAAAAAAAAAAAAAAAAAAAAAAAAAAAAAAAAAAAAAAAAAAAAAAAAAAAAAAAAAAAAAAAAAAAAAAAAAAAAAAAAAAAAAAAAAAAAAAAAAAAAAAAAAAAAAAAAAAAAAAAAAAAAAAAAAAAAAAAAAAAAAAAAAAAAAAAAAAAAAAAAAAAAAAAAAAAAAAAAAAAAAAAAAAAAAAAAAAAAAAAAAAAAAAAAAAAAAAAAAAAAAAAAAAAAAAAAAAAAAAAAAAAAAAAAAAAAAAAAAAAAAAAAAAAAAAAAAAAAAAAAAAAAAAAAAAAAAAAAAAAAAAAAAAAAAAAAAAAAAAAAAAAAAAAAAAAAAAAAAAAAAAAAAAAAAAAAAAAAAAAAAAAAAAAAAAAAAAAAAAAAAAAAAAAAAAAAAAAAAAAAAAAAAAAAAAAAAAAAAAAAAAAAAAAAAAAAAAAAAAAAAAAAAAAAAAAAAAAAAAAAAAAAAAAAAAAAAAAAAAAAAAAAAAAAAAAAAAAAAAAAAAAAAAAAAAAAAAAAAAAAAAAAAAAAAAAAAAAAAAAAAAAAAAAAAAAAAAAAAAAAAAAAAAAAAAAAAAAAAAAAAAAAAAAAAAAAAAAAAAAAAAAAAAAAAAAAAAAAAAAAAAAAAAAAAAAAAAAAAAAAAAAAAAAAAAAAAAAAAAAAAAAAAAAAAAAAAAAAAAAAAAAAAAAAAAAAAAAAAAAAAAAAAAAAAAAAAAAAAAAAAAAAAAAAAAAAAAAAAAAAAAAAAAAAAAAAAAAAAAAAAAAAAAAAAAAAAAAAAAAAAAAAAAAAAAAAAAAAAAAAAAAAAAAAAAAAAAAAAAAAAAAAAAAAAAAAAAAAAAAAAAAAAAAAAAAAAAAAAAAAAAAAAAAAAAAAAAAAAAAAAAAAAAAAAAAAAAAAAAAAAAAAAAAAAAAAAAAAAAAAAAAAAAAAAAAAAAAAAAAAAAAAAAAAAAAAAAAAAAAAAAAAAAAAAAAAAAAAAAAAAAAAAAAAAAAAAAAAAAAAAAAAAAAAAAAAAAAAAAAAAAAAAAAAAAAAAAAAAAAAAAAAAAAAAAAAAAAAAAAAAAAAAAAAAAAAAAAAAAAAAAAAAAAAAAAAAAAAAAAAAAAAAAAAAAAAAAAAAAAAAAAAAAAAAAAAAAAAAAAAAAAAAAAAAAAAAAAAAAAAAAAAAAAAAAAAAAAAAAAAAAAAAAAAAAAAAAAAAAAAAAAAAAAAAAAAAAAAAAAAAAAAAAAAAAAAAAAAAAAAAAAAAAAAAAAAAAAAAAAAAAAAAAAAAAAAAAAAAAAAAAAAAAAAAAAAAAAAAAAAAAAAAAAAAAAAAAAAAAAAAAAAAAAAAAAAAAAAAAAAAAAAAAAAAAAAAAAAAAAAAAAAAAAAAAAAAAAAAAAAAAAAAAAAAAAAAAAAAAAAAAAAAAAAAAAAAAAAAAAAAAAAAAAAAAAAAAAAAAAAAAAAAAAAAAAAAAAAAAAAAAAAAAAAAAAAAAAAAAAAAAAAAAAAAAAAAAAAAAAAAAAAAAAAAAAAAAAAAAAAAAAAAAAAAAAAAAAAAAAAAAAAAAAAAAAAAAAAAAAAAAAAAAAAAAAAAAAAAAAAAAAAAAAAAAAAAAAAAAAAAAAAAAAAAAAAAAAAAAAAAAAAAAAAAAAAAAAAAAAAAAAAAAAAAAAAAAAAAAAAAAAAAAAAAAAAAAAAAAAAAAAAAAAAAAAAAAAAAAAAAAAAAAAAAAAAAAAAAAAAAAAAAAAAAAAAAAAAAAAAAAAAAAAAAAAAAAAAAAAAAAAAAAAAAAAAAAAAAAAAAAAAAAAAAAAAAAAAAAAAAAAAAAAAAAAAAAAAAAAAAAAAAAAAAAAAAAAAAAAAAAAAAAAAAAAAAAAAAAAAAAAAAAAAAAAAAAAAAAAAAAAAAAAAAAAAAAAAAAAAAAAAAAAAAAAAAAAAAAAAAAAAAAAAAAAAAAAAAAAAAAAAAAAAAAAAAAAAAAAAAAAAAAAAAAAAAAAAAAAAAAAAAAAAAAAAAAAAAAAAAAAAAAAAAAAAAAAAAAAAAAAAAAAAAAAAAAAAAAAAAAAAAAAAAAAAAAAAAAAAAAAAAAAAAAAAAAAAAAAAAAAAAAAAAAAAAAAAAAAAAAAAAAAAAAAAAAAAAAAAAAAAAAAAAAAAAAAAAAAAAAAAAAAAAAAAAAAAAAAAAAAAAAAAAAAAAAAAAAAAAAAAAAAAAAAAAAAAAAAAAAAAAAAAAAAAAAAAAAAAAAAAAAAAAAAAAAAAAAAAAAAAAAAAAAAAAAAAAAAAAAAAAAAAAAAAAAAAAAAAAAAAAAAAAAAAAAAAAAAAAAAAAAAAAAAAAAAAAAAAAAAAAAAAAAAAAAAAAAAAAAAAAAAAAAAAAAAAAAAAAAAAAAAAAAAAAAAAAAAAAAAAAAAAAAAAAAAAAAAAAAAAAAAAAAAAAAAAAAAAAAAAAAAAAAAAAAAAAAAAAAAAAAAAAAAAAAAAAAAAAAAAAAAAAAAAAAAAAAAAAAAAAAAAAAAAAAAAAAAAAAAAAAAAAAAAAAAAAAAAAAAAAAAAAAAAAAAAAAAAAAAAAAAAAAAAAAAAAAAAAAAAAAAAAAAAAAAAAAAAAAAAAAAAAAAAAAAAAAAAAAAAAAAAAAAAAAAAAAAAAAAAAAAAAAAAAAAAAAAAAAAAAAAAAAAAAAAAAAAAAAAAAAAAAAAAAAAAAAAAAAAAAAAAAAAAAAAAAAAAAAAAAAAAAAAAAAAAAAAAAAAAAAAAAAAAAAAAAAAAAAAAAAAAAAAAAAAAAAAAAAAAAAAAAAAAAAAAAAAAAAAAAAAAAAAAAAAAAAAAAAAAAAAAAAAAAAAAAAAAAAAAAAAAAAAAAAAAAAAAAAAAAAAAAAAAAAAAAAAAAAAAAAAAAAAAAAAAAAAAAAAAAAAAAAAAAAAAAAAAAAAAAAAAAAAAAAAAAAAAAAAAAAAAAAAAAAAAAAAAAAAAAAAAAAAAAAAAAAAAAAAAAAAAAAAAAAAAAAAAAAAAAAAAAAAAAAAAAAAAAAAAAAAAAAAAAAAAAAAAAAAAAAAAAAAAAAAAAAAAAAAAAAAAAAAAAAAAAAAAAAAAAAAAAAAAAAAAAAAAAAAAAAAAAAAAAAAAAAAAAAAAAAAAAAAAAAAAAAAAAAAAAAAAAAAAAAAAAAAAAAAAAAAAAAAAAAAAAAAAAAAAAAAAAAAAAAAAAAAAAAAAAAAAAAAAAAAAAAAAAAAAAAAAAAAAAAAAAAAAAAAAAAAAAAAAAAAAAAAAAAAAAAAAAAAAAAAAAAAAAAAAAAAAAAAAAAAAAAAAAAAAAAAAAAAAAAAAAAAAAAAAAAAAAAAAAAAAAAAAAAAAAAAAAAAAAAAAAAAAAAAAAAAAAAAAAAAAAAAAAAAAAAAAAAAAAAAAAAAAAAAAAAAAAAAAAAAAAAAAAAAAAAAAAAAAAAAAAAAAAAAAAAAAAAAAAAAAAAAAAAAAAAAAAAAAAAAAAAAAAAAAAAAAAAAAAAAAAAAAAAAAAAAAAAAAAAAAAAAAAAAAAAAAAAAAAAAAAAAAAAAAAAAAAAAAAAAAAAAAAAAAAAAAAAAAAAAAAAAAAAAAAAAAAAAAAAAAAAAAAAAAAAAAAAAAAAAAAAAAAAAAAAAAAAAAAAAAAAAAAAAAAAAAAAAAAAAAAAAAAAAAAAAAAAAAAAAAAAAAAAAAAAAAAAAAAAAAAAAAAAAAAAAAAAAAAAAAAAAAAAAAAAAAAAAAAAAAAAAAAAAAAAAAAAAAAAAAAAAAAAAAAAAAAAAAAAAAAAAAAAAAAAAAAAAAAAAAAAAAAAAAAAAAAAAAAAAAAAAAAAAAAAAAAAAAAAAAAAAAAAAAAAAAAAAAAAAAAAAAAAAAAAAAAAAAAAAAAAAAAAAAAAAAAAAAAAAAAAAAAAAAAAAAAAAAAAAAAAAAAAAAAAAAAAAAAAAAAAAAAAAAAAAAAAAAAAAAAAAAAAAAAAAAAAAAAAAAAAAAAAAAAAAAAAAAAAAAAAAAAAAAAAAAAAAAAAAAAAAAAAAAAAAAAAAAAAAAAAAAAAAAAAAAAAAAAAAAAAAAAAAAAAAAAAAAAAAAAAAAAAAAAAAAAAAAAAAAAAAAAAAAAAAAAAAAAAAAAAAAAAAAAAAAAAAAAAAAAAAAAAAAAAAAAAAAAAAAAAAAAAAAAAAAAAAAAAAAAAAAAAAAAAAAAAAAAAAAAAAAAAAAAAAAAAAAAAAAAAAAAAAAAAAAAAAAAAAAAAAAAAAAAAAAAAAAAAAAAAAAAAAAAAAAAAAAAAAAAAAAAAAAAAAAAAAAAAAAAAAAAAAAAAAAAAAAAAAAAAAAAAAAAAAAAAAAAAAAAAAAAAAAAAAAAAAAAAAAAAAAAAAAAAAAAAAAAAAAAAAAAAAAAAAAAAAAAAAAAAAAAAAAAAAAAAAAAAAAAAAAAAAAAAAAAAAAAAAAAAAAAAAAAAAAAAAAAAAAAAAAAAAAAAAAAAAAAAAAAAAAAAAAAAAAAAAAAAAAAAAAAAAAAAAAAAAAAAAAAAAAAAAAAAAAAAAAAAAAAAAAAAAAAAAAAAAAAAAAAAAAAAAAAAAAAAAAAAAAAAAAAAAAAAAAAAAAAAAAAAAAAAAAAAAAAAAAAAAAAAAAAAAAAAAAAAAAAAAAAAAAAAAAAAAAAAAAAAAAAAAAAAAAAAAAAAAAAAAAAAAAAAAAAAAAAAAAAAAAAAAAAAAAAAAAAAAAAAAAAAAAAAAAAAAAAAAAAAAAAAAAAAAAAAAAAAAAAAAAAAAAAAAAAAAAAAAAAAAAAAAAAAAAAAAAAAAAAAAAAAAAAAAAAAAAAAAAAAAAAAAAAAAAAAAAAAAAAAAAAAAAAAAAAAAAAAAAAAAAAAAAAAAAAAAAAAAAAAAAAAAAAAAAAAAAAAAAAAAAAAAAAAAAAAAAAAAAAAAAAAAAAAAAAAAAAAAAAAAAAAAAAAAAAAAAAAAAAAAAAAAAAAAAAAAAAAAAAAAAAAAAAAAAAAAAAAAAAAAAAAAAAAAAAAAAAAAAAAAAAAAAAAAAAAAAAAAAAAAAAAAAAAAAAAAAAAAAAAAAAAAAAAAAAAAAAAAAAAAAAAAAAAAAAAAAAAAAAAAAAAAAAAAAAAAAAAAAAAAAAAAAAAAAAAAAAAAAAAAAAAAAAAAAAAAAAAAAAAAAAAAAAAAAAAAAAAAAAAAAAAAAAAAAAAAAAAAAAAAAAAAAAAAAAAAAAAAAAAAAAAAAAAAAAAAAAAAAAAAAAAAAAAAAAAAAAAAAAAAAAAAAAAAAAAAAAAAAAAAAAAAAAAAAAAAAAAAAAAAAAAAAAAAAAAAAAAAAAAAAAAAAAAAAAAAAAAAAAAAAAAAAAAAAAAAAAAAAAAAAAAAAAAAAAAAAAAAAAAAAAAAAAAAAAAAAAAAAAAAAAAAAAAAAAAAAAAAAAAAAAAAAAAAAAAAAAAAAAAAAAAAAAAAAAAAAAAAAAAAAAAAAAAAAAAAAAAAAAAAAAAAAAAAAAAAAAAAAAAAAAAAAAAAAAAAAAAAAAAAAAAAAAAAAAAAAAAAAAAAAAAAAAAAAAAAAAAAAAAAAAAAAAAAAAAAAAAAAAAAAAAAAAAAAAAAAAAAAAAAAAAAAAAAAAAAAAAAAAAAAAAAAAAAAAAAAAAAAAAAAAAAAAAAAAAAAAAAAAAAAAAAAAAAAAAAAAAAAAAAAAAAAAAAAAAAAAAAAAAAAAAAAAAAAAAAAAAAAAAAAAAAAAAAAAAAAAAAAAAAAAAAAAAAAAAAAAAAAAAAAAAAAAAAAAAAAAAAAAAAAAAAAAAAAAAAAAAAAAAAAAAAAAAAAAAAAAAAAAAAAAAAAAAAAAAAAAAAAAAAAAAAAAAAAAAAAAAAAAAAAAAAAAAAAAAAAAAAAAAAAAAAAAAAAAAAAAAAAAAAAAAAAAAAAAAAAAAAAAAAAAAAAAAAAAAAAAAAAAAAAAAAAAAAAAAAAAAAAAAAAAAAAAAAAAAAAAAAAAAAAAAAAAAAAAAAAAAAAAAAAAAAAAAAAAAAAAAAAAAAAAAAAAAAAAAAAAAAAAAAAAAAAAAAAAAAAAAAAAAAAAAAAAAAAAAAAAAAAAAAAAAAAAAAAAAAAAAAAAAAAAAAAAAAAAAAAAAAAAAAAAAAAAAAAAAAAAAAAAAAAAAAAAAAAAAAAAAAAAAAAAAAAAAAAAAAAAAAAAAAAAAAAAAAAAAAAAAAAAAAAAAAAAAAAAAAAAAAAAAAAAAAAAAAAAAAAAAAAAAAAAAAAAAAAAAAAAAAAAAAAAAAAAAAAAAAAAAAAAAAAAAAAAAAAAAAAAAAAAAAAAAAAAAAAAAAAAAAAAAAAAAAAAAAAAAAAAAAAAAAAAAAAAAAAAAAAAAAAAAAAAAAAAAAAAAAAAAAAAAAAAAAAAAAAAAAAAAAAAAAAAAAAAAAAAAAAAAAAAAAAAAAAAAAAAAAAAAAAAAAAAAAAAAAAAAAAAAAAAAAAAAAAAAAAAAAAAAAAAAAAAAAAAAAAAAAAAAAAAAAAAAAAAAAAAAAAAAAAAAAAAAAAAAAAAAAAAAAAAAAAAAAAAAAAAAAAAAAAAAAAAAAAAAAAAAAAAAAAAAAAAAAAAAAAAAAAAAAAAAAAAAAAAAAAAAAAAAAAAAAAAAAAAAAAAAAAAAAAAAAAAAAAAAAAAAAAAAAAAAAAAAAAAAAAAAAAAAAAAAAAAAAAAAAAAAAAAAAAAAAAAAAAAAAAAAAAAAAAAAAAAAAAAAAAAAAAAAAAAAAAAAAAAAAAAAAAAAAAAAAAAAAAAAAAAAAAAAAAAAAAAAAAAAAAAAAAAAAAAAAAAAAAAAAAAAAAAAAAAAAAAAAAAAAAAAAAAAAAAAAAAAAAAAAAAAAAAAAAAAAAAAAAAAAAAAAAAAAAAAAAAAAAAAAAAAAAAAAAAAAAAAAAAAAAAAAAAAAAAAAAAAAAAAAAAAAAAAAAAAAAAAAAAAAAAAAAAAAAAAAAAAAAAAAAAAAAAAAAAAAAAAAAAAAAAAAAAAAAAAAAAAAAAAAAAAAAAAAAAAAAAAAAAAAAAAAAAAAAAAAAAAAAAAAAAAAAAAAAAAAAAAAAAAAAAAAAAAAAAAAAAAAAAAAAAAAAAAAAAAAAAAAAAAAAAAAAAAAAAAAAAAAAAAAAAAAAAAAAAAAAAAAAAAAAAAAAAAAAAAAAAAAAAAAAAAAAAAAAAAAAAAAAAAAAAAAAAAAAAAAAAAAAAAAAAAAAAAAAAAAAAAAAAAAAAAAAAAAAAAAAAAAAAAAAAAAAAAAAAAAAAAAAAAAAAAAAAAAAAAAAAAAAAAAAAAAAAAAAAAAAAAAAAAAAAAAAAAAAAAAAAAAAAAAAAAAAAAAAAAAAAAAAAAAAAAAAAAAAAAAAAAAAAAAAAAAAAAAAAAAAAAAAAAAAAAAAAAAAAAAAAAAAAAAAAAAAAAAAAAAAAAAAAAAAAAAAAAAAAAAAAAAAAAAAAAAAAAAAAAAAAAAAAAAAAAAAAAAAAAAAAAAAAAAAAAAAAAAAAAAAAAAAAAAAAAAAAAAAAAAAAAAAAAAAAAAAAAAAAAAAAAAAAAAAAAAAAAAAAAAAAAAAAAAAAAAAAAAAAAAAAAAAAAAAAAAAAAAAAAAAAAAAAAAAAAAAAAAAAAAAAAAAAAAAAAAAAAAAAAAAAAAAAAAAAAAAAAAAAAAAAAAAAAAAAAAAAAAAAAAAAAAAAAAAAAAAAAAAAAAAAAAAAAAAAAAAAAAAAAAAAAAAAAAAAAAAAAAAAAAAAAAAAAAAAAAAAAAAAAAAAAAAAAAAAAAAAAAAAAAAAAAAAAAAAAAAAAAAAAAAAAAAAAAAAAAAAAAAAAAAAAAAAAAAAAAAAAAAAAAAAAAAAAAAAAAAAAAAAAAAAAAAAAAAAAAAAAAAAAAAAAAAAAAAAAAAAAAAAAAAAAAAAAAAAAAAAAAAAAAAAAAAAAAAAAAAAAAAAAAAAAAAAAAAAAAAAAAAAAAAAAAAAAAAAAAAAAAAAAAAAAAAAAAAAAAAAAAAAAAAAAAAAAAAAAAAAAAAAAAAAAAAAAAAAAAAAAAAAAAAAAAAAAAAAAAAAAAAAAAAAAAAAAAAAAAAAAAAAAAAAAAAAAAAAAAAAAAAAAAAAAAAAAAAAAAAAAAAAAAAAAAAAAAAAAAAAAAAAAAAAAAAAAAAAAAAAAAAAAAAAAAAAAAAAAAAAAAAAAAAAAAAAAAAAAAAAAAAAAAAAAAAAAAAAAAAAAAAAAAAAAAAAAAAAAAAAAAAAAAAAAAAAAAAAAAAAAAAAAAAAAAAAAAAAAAAAAAAAAAAAAAAAAAAAAAAAAAAAAAAAAAAAAAAAAAAAAAAAAAAAAAAAAAAAAAAAAAAAAAAAAAAAAAAAAAAAAAAAAAAAAAAAAAAAAAAAAAAAAAAAAAAAAAAAAAAAAAAAAAAAAAAAAAAAAAAAAAAAAAAAAAAAAAAAAAAAAAAAAAAAAAAAAAAAAAAAAAAAAAAAAAAAAAAAAAAAAAAAAAAAAAAAAAAAAAAAAAAAAAAAAAAAAAAAAAAAAAAAAAAAAAAAAAAAAAAAAAAAAAAAAAAAAAAAAAAAAAAAAAAAAAAAAAAAAAAAAAAAAAAAAAAAAAAAAAAAAAAAAAAAAAAAAAAAAAAAAAAAAAAAAAAAAAAAAAAAAAAAAAAAAAAAAAAAAAAAAAAAAAAAAAAAAAAAAAAAAAAAAAAAAAAAAAAAAAAAAAAAAAAAAAAAAAAAAAAAAAAAAAAAAAAAAAAAAAAAAAAAAAAAAAAAAAAAAAAAAAAAAAAAAAAAAAAAAAAAAAAAAAAAAAAAAAAAAAAAAAAAAAAAAAAAAAAAAAAAAAAAAAAAAAAAAAAAAAAAAAAAAAAAAAAAAAAAAAAAAAAAAAAAAAAAAAAAAAAAAAAAAAAAAAAAAAAAAAAAAAAAAAAAAAAAAAAAAAAAAAAAAAAAAAAAAAAAAAAAAAAAAAAAAAAAAAAAAAAAAAAAAAAAAAAAAAAAAAAAAAAAAAAAAAAAAAAAAAAAAAAAAAAAAAAAAAAAAAAAAAAAAAAAAAAAAAAAAAAAAAAAAAAAAAAAAAAAAAAAAAAAAAAAAAAAAAAAAAAAAAAAAAAAAAAAAAAAAAAAAAAAAAAAAAAAAAAAAAAAAAAAAAAAAAAAAAAAAAAAAAAAAAAAAAAAAAAAAAAAAAAAAAAAAAAAAAAAAAAAAAAAAAAAAAAAAAAAAAAAAAAAAAAAAAAAAAAAAAAAAAAAAAAAAAAAAAAAAAAAAAAAAAAAAAAAAAAAAAAAAAAAAAAAAAAAAAAAAAAAAAAAAAAAAAAAAAAAAAAAAAAAAAAAAAAAAAAAAAAAAAAAAAAAAAAAAAAAAAAAAAAAAAAAAAAAAAAAAAAAAAAAAAAAAAAAAAAAAAAAAAAAAAAAAAAAAAAAAAAAAAAAAAAAAAAAAAAAAAAAAAAAAAAAAAAAAAAAAAAAAAAAAAAAAAAAAAAAAAAAAAAAAAAAAAAAAAAAAAAAAAAAAAAAAAAAAAAAAAAAAAAAAAAAAAAAAAAAAAAAAAAAAAAAAAAAAAAAAAAAAAAAAAAAAAAAAAAAAAAAAAAAAAAAAAAAAAAAAAAAAAAAAAAAAAAAAAAAAAAAAAAAAAAAAAAAAAAAAAAAAAAAAAAAAAAAAAAAAAAAAAAAAAAAAAAAAAAAAAAAAAAAAAAAAAAAAAAAAAAAAAAAAAAAAAAAAAAAAAAAAAAAAAAAAAAAAAAAAAAAAAAAAAAAAAAAAAAAAAAAAAAAAAAAAAAAAAAAAAAAAAAAAAAAAAAAAAAAAAAAAAAAAAAAAAAAAAAAAAAAAAAAAAAAAAAAAAAAAAAAAAAAAAAAAAAAAAAAAAAAAAAAAAAAAAAAAAAAAAAAAAAAAAAAAAAAAAAAAAAAAAAAAAAAAAAAAAAAAAAAAAAAAAAAAAAAAAAAAAAAAAAAAAAAAAAAAAAAAAAAAAAAAAAAAAAAAAAAAAAAAAAAAAAAAAAAAAAAAAAAAAAAAAAAAAAAAAAAAAAAAAAAAAAAAAAAAAAAAAAAAAAAAAAAAAAAAAAAAAAAAAAAAAAAAAAAAAAAAAAAAAAAAAAAAAAAAAAAAAAAAAAAAAAAAAAAAAAAAAAAAAAAAAAAAAAAAAAAAAAAAAAAAAAAAAAAAAAAAAAAAAAAAAAAAAAAAAAAAAAAAAAAAAAAAAAAAAAAAAAAAAAAAAAAAAAAAAAAAAAAAAAAAAAAAAAAAAAAAAAAAAAAAAAAAAAAAAAAAAAAAAAAAAAAAAAAAAAAAAAAAAAAAAAAAAAAAAAAAAAAAAAAAAAAAAAAAAAAAAAAAAAAAAAAAAAAAAAAAAAAAAAAAAAAAAAAAAAAAAAAAAAAAAAAAAAAAAAAAAAAAAAAAAAAAAAAAAAAAAAAAAAAAAAAAAAAAAAAAAAAAAAAAAAAAAAAAAAAAAAAAAAAAAAAAAAAAAAAAAAAAAAAAAAAAAAAAAAAAAAAAAAAAAAAAAAAAAAAAAAAAAAAAAAAAAAAAAAAAAAAAAAAAAAAAAAAAAAAAAAAAAAAAAAAAAAAAAAAAAAAAAAAAAAAAAAAAAAAAAAAAAAAAAAAAAAAAAAAAAAAAAAAAAAAAAAAAAAAAAAAAAAAAAAAAAAAAAAAAAAAAAAAAAAAAAAAAAAAAAAAAAAAAAAAAAAAAAAAAAAAAAAAAAAAAAAAAAAAAAAAAAAAAAAAAAAAAAAAAAAAAAAAAAAAAAAAAAAAAAAAAAAAAAAAAAAAAAAAAAAAAAAAAAAAAAAAAAAAAAAAAAAAAAAAAAAAAAAAAAAAAAAAAAAAAAAAAAAAAAAAAAAAAAAAAAAAAAAAAAAAAAAAAAAAAAAAAAAAAAAAAAAAAAAAAAAAAAAAAAAAAAAAAAAAAAAAAAAAAAAAAAAAAAAAAAAAAAAAAAAAAAAAAAAAAAAAAAAAAAAAAAAAAAAAAAAAAAAAAAAAAAAAAAAAAAAAAAAAAAAAAAAAAAAAAAAAAAAAAAAAAAAAAAAAAAAAAAAAAAAAAAAAAAAAAAAAAAAAAAAAAAAAAAAAAAAAAAAAAAAAAAAAAAAAAAAAAAAAAAAAAAAAAAAAAAAAAAAAAAAAAAAAAAAAAAAAAAAAAAAAAAAAAAAAAAAAAAAAAAAAAAAAAAAAAAAAAAAAAAAAAAAAAAAAAAAAAAAAAAAAAAAAAAAAAAAAAAAAAAAAAAAAAAAAAAAAAAAAAAAAAAAAAAAAAAAAAAAAAAAAAAAAAAAAAAAAAAAAAAAAAAAAAAAAAAAAAAAAAAAAAAAAAAAAAAAAAAAAAAAAAAAAAAAAAAAAAAAAAAAAAAAAAAAAAAAAAAAAAAAAAAAAAAAAAAAAAAAAAAAAAAAAAAAAAAAAAAAAAAAAAAAAAAAAAAAAAAAAAAAAAAAAAAAAAAAAAAAAAAAAAAAAAAAAAAAAAAAAAAAAAAAAAAAAAAAAAAAAAAAAAAAAAAAAAAAAAAAAAAAAAAAAAAAAAAAAAAAAAAAAAAAAAAAAAAAAAAAAAAAAAAAAAAAAAAAAAAAAAAAAAAAAAAAAAAAAAAAAAAAAAAAAAAAAAAAAAAAAAAAAAAAAAAAAAAAAAAAAAAAAAAAAAAAAAAAAAAAAAAAAAAAAAAAAAAAAAAAAAAAAAAAAAAAAAAAAAAAAAAAAAAAAAAAAAAAAAAAAAAAAAAAAAAAAAAAAAAAAAAAAAAAAAAAAAAAAAAAAAAAAAAAAAAAAAAAAAAAAAAAAAAAAAAAAAAAAAAAAAAAAAAAAAAAAAAAAAAAAAAAAAAAAAAAAAAAAAAAAAAAAAAAAAAAAAAAAAAAAAAAAAAAAAAAAAAAAAAAAAAAAAAAAAAAAAAAAAAAAAAAAAAAAAAAAAAAAAAAAAAAAAAAAAAAAAAAAAAAAAAAAAAAAAAAAAAAAAAAAAAAAAAAAAAAAAAAAAAAAAAAAAAAAAAAAAAAAAAAAAAAAAAAAAAAAAAAAAAAAAAAAAAAAAAAAAAAAAAAAAAAAAAAAAAAAAAAAAAAAAAAAAAAAAAAAAAAAAAAAAAAAAAAAAAAAAAAAAAAAAAAAAAAAAAAAAAAAAAAAAAAAAAAAAAAAAAAAAAAAAAAAAAAAAAAAAAAAAAAAAAAAAAAAAAAAAAAAAAAAAAAAAAAAAAAAAAAAAAAAAAAAAAAAAAAAAAAAAAAAAAAAAAAAAAAAAAAAAAAAAAAAAAAAAAAAAAAAAAAAAAAAAAAAAAAAAAAAAAAAAAAAAAAAAAAAAAAAAAAAAAAAAAAAAAAAAAAAAAAAAAAAAAAAAAAAAAAAAAAAAAAAAAAAAAAAAAAAAAAAAAAAAAAAAAAAAAAAAAAAAAAAAAAAAAAAAAAAAAAAAAAAAAAAAAAAAAAAAAAAAAAAAAAAAAAAAAAAAAAAAAAAAAAAAAAAAAAAAAAAAAAAAAAAAAAAAAAAAAAAAAAAAAAAAAAAAAAAAAAAAAAAAAAAAAAAAAAAAAAAAAAAAAAAAAAAAAAAAAAAAAAAAAAAAAAAAAAAAAAAAAAAAAAAAAAAAAAAAAAAAAAAAAAAAAAAAAAAAAAAAAAAAAAAAAAAAAAAAAAAAAAAAAAAAAAAAAAAAAAAAAAAAAAAAAAAAAAAAAAAAAAAAAAAAAAAAAAAAAAAAAAAAAAAAAAAAAAAAAAAAAAAAAAAAAAAAAAAAAAAAAAAAAAAAAAAAAAAAAAAAAAAAAAAAAAAAAAAAAAAAAAAAAAAAAAAAAAAAAAAAAAAAAAAAAAAAAAAAAAAAAAAAAAAAAAAAAAAAAAAAAAAAAAAAAAAAAAAAAAAAAAAAAAAAAAAAAAAAAAAAAAAAAAAAAAAAAAAAAAAAAAAAAAAAAAAAAAAAAAAAAAAAAAAAAAAAAAAAAAAAAAAAAAAAAAAAAAAAAAAAAAAAAAAAAAAAAAAAAAAAAAAAAAAAAAAAAAAAAAAAAAAAAAAAAAAAAAAAAAAAAAAAAAAAAAAAAAAAAAAAAAAAAAAAAAAAAAAAAAAAAAAAAAAAAAAAAAAAAAAAAAAAAAAAAAAAAAAAAAAAAAAAAAAAAAAAAAAAAAAAAAAAAAAAAAAAAAAAAAAAAAAAAAAAAAAAAAAAAAAAAAAAAAAAAAAAAAAAAAAAAAAAAAAAAAAAAAAAAAAAAAAAAAAAAAAAAAAAAAAAAAAAAAAAAAAAAAAAAAAAAAAAAAAAAAAAAAAAAAAAAAAAAAAAAAAAAAAAAAAAAAAAAAAAAAAAAAAAAAAAAAAAAAAAAAAAAAAAAAAAAAAAAAAAAAAAAAAAAAAAAAAAAAAAAAAAAAAAAAAAAAAAAAAAAAAAAAAAAAAAAAAAAAAAAAAAAAAAAAAAAAAAAAAAAAAAAAAAAAAAAAAAAAAAAAAAAAAAAAAAAAAAAAAAAAAAAAAAAAAAAAAAAAAAAAAAAAAAAAAAAAAAAAAAAAAAAAAAAAAAAAAAAAAAAAAAAAAAAAAAAAAAAAAAAAAAAAAAAAAAAAAAAAAAAAAAAAAAAAAAAAAAAAAAAAAAAAAAAAAAAAAAAAAAAAAAAAAAAAAAAAAAAAAAAAAAAAAAAAAAAAAAAAAAAAAAAAAAAAAAAAAAAAAAAAAAAAAAAAAAAAAAAAAAAAAAAAAAAAAAAAAAAAAAAAAAAAAAAAAAAAAAAAAAAAAAAAAAAAAAAAAAAAAAAAAAAAAAAAAAAAAAAAAAAAAAAAAAAAAAAAAAAAAAAAAAAAAAAAAAAAAAAAAAAAAAAAAAAAAAAAAAAAAAAAAAAAAAAAAAAAAAAAAAAAAAAAAAAAAAAAAAAAAAAAAAAAAAAAAAAAAAAAAAAAAAAAAAAAAAAAAAAAAAAAAAAAAAAAAAAAAAAAAAAAAAAAAAAAAAAAAAAAAAAAAAAAAAAAAAAAAAAAAAAAAAAAAAAAAAAAAAAAAAAAAAAAAAAAAAAAAAAAAAAAAAAAAAAAAAAAAAAAAAAAAAAAAAAAAAAAAAAAAAAAAAAAAAAAAAAAAAAAAAAAAAAAAAAAAAAAAAAAAAAAAAAAAAAAAAAAAAAAAAAAAAAAAAAAAAAAAAAAAAAAAAAAAAAAAAAAAAAAAAAAAAAAAAAAAAAAAAAAAAAAAAAAAAAAAAAAAAAAAAAAAAAAAAAAAAAAAAAAAAAAAAAAAAAAAAAAAAAAAAAAAAAAAAAAAAAAAAAAAAAAAAAAAAAAAAAAAAAAAAAAAAAAAAAAAAAAAAAAAAAAAAAAAAAAAAAAAAAAAAAAAAAAAAAAAAAAAAAAAAAAAAAAAAAAAAAAAAAAAAAAAAAAAAAAAAAAAAAAAAAAAAAAAAAAAAAAAAAAAAAAAAAAAAAAAAAAAAAAAAAAAAAAAAAAAAAAAAAAAAAAAAAAAAAAAAAAAAAAAAAAAAAAAAAAAAAAAAAAAAAAAAAAAAAAAAAAAAAAAAAAAAAAAAAAAAAAAAAAAAAAAAAAAAAAAAAAAAAAAAAAAAAAAAAAAAAAAAAAAAAAAAAAAAAAAAAAAAAAAAAAAAAAAAAAAAAAAAAAAAAAAAAAAAAAAAAAAAAAAAAAAAAAAAAAAAAAAAAAAAAAAAAAAAAAAAAAAAAAAAAAAAAAAAAAAAAAAAAAAAAAAAAAAAAAAAAAAAAAAAAAAAAAAAAAAAAAAAAAAAAAAAAAAAAAAAAAAAAAAAAAAAAAAAAAAAAAAAAAAAAAAAAAAAAAAAAAAAAAAAAAAAAAAAAAAAAAAAAAAAAAAAAAAAAAAAAAAAAAAAAAAAAAAAAAAAAAAAAAAAAAAAAAAAAAAAAAAAAAAAAAAAAAAAAAAAAAAAAAAAAAAAAAAAAAAAAAAAAAAAAAAAAAAAAAAAAAAAAAAAAAAAAAAAAAAAAAAAAAAAAAAAAAAAAAAAAAAAAAAAAAAAAAAAAAAAAAAAAAAAAAAAAAAAAAAAAAAAAAAAAAAAAAAAAAAAAAAAAAAAAAAAAAAAAA=",
          "dtype": "f4"
         }
        },
        {
         "hoverinfo": "name+x",
         "jitter": 0.2,
         "line": {
          "color": "#262445"
         },
         "marker": {
          "color": "rgba(38,36,69,1)",
          "opacity": 0.1
         },
         "name": "Male",
         "orientation": "h",
         "type": "box",
         "x": {
          "bdata": "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",
          "dtype": "f4"
         },
         "y": {
          "bdata": "AAAAAAAAAAAAAAAAAAAAAAAAAAAAAAAAAAAAAAAAAAAAAAAAAAAAAAAAAAAAAAAAAAAAAAAAAAAAAAAAAAAAAAAAAAAAAAAAAAAAAAAAAAAAAAAAAAAAAAAAAAAAAAAAAAAAAAAAAAAAAAAAAAAAAAAAAAAAAAAAAAAAAAAAAAAAAAAAAAAAAAAAAAAAAAAAAAAAAAAAAAAAAAAAAAAAAAAAAAAAAAAAAAAAAAAAAAAAAAAAAAAAAAAAAAAAAAAAAAAAAAAAAAAAAAAAAAAAAAAAAAAAAAAAAAAAAAAAAAAAAAAAAAAAAAAAAAAAAAAAAAAAAAAAAAAAAAAAAAAAAAAAAAAAAAAAAAAAAAAAAAAAAAAAAAAAAAAAAAAAAAAAAAAAAAAAAAAAAAAAAAAAAAAAAAAAAAAAAAAAAAAAAAAAAAAAAAAAAAAAAAAAAAAAAAAAAAAAAAAAAAAAAAAAAAAAAAAAAAAAAAAAAAAAAAAAAAAAAAAAAAAAAAAAAAAAAAAAAAAAAAAAAAAAAAAAAAAAAAAAAAAAAAAAAAAAAAAAAAAAAAAAAAAAAAAAAAAAAAAAAAAAAAAAAAAAAAAAAAAAAAAAAAAAAAAAAAAAAAAAAAAAAAAAAAAAAAAAAAAAAAAAAAAAAAAAAAAAAAAAAAAAAAAAAAAAAAAAAAAAAAAAAAAAAAAAAAAAAAAAAAAAAAAAAAAAAAAAAAAAAAAAAAAAAAAAAAAAAAAAAAAAAAAAAAAAAAAAAAAAAAAAAAAAAAAAAAAAAAAAAAAAAAAAAAAAAAAAAAAAAAAAAAAAAAAAAAAAAAAAAAAAAAAAAAAAAAAAAAAAAAAAAAAAAAAAAAAAAAAAAAAAAAAAAAAAAAAAAAAAAAAAAAAAAAAAAAAAAAAAAAAAAAAAAAAAAAAAAAAAAAAAAAAAAAAAAAAAAAAAAAAAAAAAAAAAAAAAAAAAAAAAAAAAAAAAAAAAAAAAAAAAAAAAAAAAAAAAAAAAAAAAAAAAAAAAAAAAAAAAAAAAAAAAAAAAAAAAAAAAAAAAAAAAAAAAAAAAAAAAAAAAAAAAAAAAAAAAAAAAAAAAAAAAAAAAAAAAAAAAAAAAAAAAAAAAAAAAAAAAAAAAAAAAAAAAAAAAAAAAAAAAAAAAAAAAAAAAAAAAAAAAAAAAAAAAAAAAAAAAAAAAAAAAAAAAAAAAAAAAAAAAAAAAAAAAAAAAAAAAAAAAAAAAAAAAAAAAAAAAAAAAAAAAAAAAAAAAAAAAAAAAAAAAAAAAAAAAAAAAAAAAAAAAAAAAAAAAAAAAAAAAAAAAAAAAAAAAAAAAAAAAAAAAAAAAAAAAAAAAAAAAAAAAAAAAAAAAAAAAAAAAAAAAAAAAAAAAAAAAAAAAAAAAAAAAAAAAAAAAAAAAAAAAAAAAAAAAAAAAAAAAAAAAAAAAAAAAAAAAAAAAAAAAAAAAAAAAAAAAAAAAAAAAAAAAAAAAAAAAAAAAAAAAAAAAAAAAAAAAAAAAAAAAAAAAAAAAAAAAAAAAAAAAAAAAAAAAAAAAAAAAAAAAAAAAAAAAAAAAAAAAAAAAAAAAAAAAAAAAAAAAAAAAAAAAAAAAAAAAAAAAAAAAAAAAAAAAAAAAAAAAAAAAAAAAAAAAAAAAAAAAAAAAAAAAAAAAAAAAAAAAAAAAAAAAAAAAAAAAAAAAAAAAAAAAAAAAAAAAAAAAAAAAAAAAAAAAAAAAAAAAAAAAAAAAAAAAAAAAAAAAAAAAAAAAAAAAAAAAAAAAAAAAAAAAAAAAAAAAAAAAAAAAAAAAAAAAAAAAAAAAAAAAAAAAAAAAAAAAAAAAAAAAAAAAAAAAAAAAAAAAAAAAAAAAAAAAAAAAAAAAAAAAAAAAAAAAAAAAAAAAAAAAAAAAAAAAAAAAAAAAAAAAAAAAAAAAAAAAAAAAAAAAAAAAAAAAAAAAAAAAAAAAAAAAAAAAAAAAAAAAAAAAAAAAAAAAAAAAAAAAAAAAAAAAAAAAAAAAAAAAAAAAAAAAAAAAAAAAAAAAAAAAAAAAAAAAAAAAAAAAAAAAAAAAAAAAAAAAAAAAAAAAAAAAAAAAAAAAAAAAAAAAAAAAAAAAAAAAAAAAAAAAAAAAAAAAAAAAAAAAAAAAAAAAAAAAAAAAAAAAAAAAAAAAAAAAAAAAAAAAAAAAAAAAAAAAAAAAAAAAAAAAAAAAAAAAAAAAAAAAAAAAAAAAAAAAAAAAAAAAAAAAAAAAAAAAAAAAAAAAAAAAAAAAAAAAAAAAAAAAAAAAAAAAAAAAAAAAAAAAAAAAAAAAAAAAAAAAAAAAAAAAAAAAAAAAAAAAAAAAAAAAAAAAAAAAAAAAAAAAAAAAAAAAAAAAAAAAAAAAAAAAAAAAAAAAAAAAAAAAAAAAAAAAAAAAAAAAAAAAAAAAAAAAAAAAAAAAAAAAAAAAAAAAAAAAAAAAAAAAAAAAAAAAAAAAAAAAAAAAAAAAAAAAAAAAAAAAAAAAAAAAAAAAAAAAAAAAAAAAAAAAAAAAAAAAAAAAAAAAAAAAAAAAAAAAAAAAAAAAAAAAAAAAAAAAAAAAAAAAAAAAAAAAAAAAAAAAAAAAAAAAAAAAAAAAAAAAAAAAAAAAAAAAAAAAAAAAAAAAAAAAAAAAAAAAAAAAAAAAAAAAAAAAAAAAAAAAAAAAAAAAAAAAAAAAAAAAAAAAAAAAAAAAAAAAAAAAAAAAAAAAAAAAAAAAAAAAAAAAAAAAAAAAAAAAAAAAAAAAAAAAAAAAAAAAAAAAAAAAAAAAAAAAAAAAAAAAAAAAAAAAAAAAAAAAAAAAAAAAAAAAAAAAAAAAAAAAAAAAAAAAAAAAAAAAAAAAAAAAAAAAAAAAAAAAAAAAAAAAAAAAAAAAAAAAAAAAAAAAAAAAAAAAAAAAAAAAAAAAAAAAAAAAAAAAAAAAAAAAAAAAAAAAAAAAAAAAAAAAAAAAAAAAAAAAAAAAAAAAAAAAAAAAAAAAAAAAAAAAAAAAAAAAAAAAAAAAAAAAAAAAAAAAAAAAAAAAAAAAAAAAAAAAAAAAAAAAAAAAAAAAAAAAAAAAAAAAAAAAAAAAAAAAAAAAAAAAAAAAAAAAAAAAAAAAAAAAAAAAAAAAAAAAAAAAAAAAAAAAAAAAAAAAAAAAAAAAAAAAAAAAAAAAAAAAAAAAAAAAAAAAAAAAAAAAAAAAAAAAAAAAAAAAAAAAAAAAAAAAAAAAAAAAAAAAAAAAAAAAAAAAAAAAAAAAAAAAAAAAAAAAAAAAAAAAAAAAAAAAAAAAAAAAAAAAAAAAAAAAAAAAAAAAAAAAAAAAAAAAAAAAAAAAAAAAAAAAAAAAAAAAAAAAAAAAAAAAAAAAAAAAAAAAAAAAAAAAAAAAAAAAAAAAAAAAAAAAAAAAAAAAAAAAAAAAAAAAAAAAAAAAAAAAAAAAAAAAAAAAAAAAAAAAAAAAAAAAAAAAAAAAAAAAAAAAAAAAAAAAAAAAAAAAAAAAAAAAAAAAAAAAAAAAAAAAAAAAAAAAAAAAAAAAAAAAAAAAAAAAAAAAAAAAAAAAAAAAAAAAAAAAAAAAAAAAAAAAAAAAAAAAAAAAAAAAAAAAAAAAAAAAAAAAAAAAAAAAAAAAAAAAAAAAAAAAAAAAAAAAAAAAAAAAAAAAAAAAAAAAAAAAAAAAAAAAAAAAAAAAAAAAAAAAAAAAAAAAAAAAAAAAAAAAAAAAAAAAAAAAAAAAAAAAAAAAAAAAAAAAAAAAAAAAAAAAAAAAAAAAAAAAAAAAAAAAAAAAAAAAAAAAAAAAAAAAAAAAAAAAAAAAAAAAAAAAAAAAAAAAAAAAAAAAAAAAAAAAAAAAAAAAAAAAAAAAAAAAAAAAAAAAAAAAAAAAAAAAAAAAAAAAAAAAAAAAAAAAAAAAAAAAAAAAAAAAAAAAAAAAAAAAAAAAAAAAAAAAAAAAAAAAAAAAAAAAAAAAAAAAAAAAAAAAAAAAAAAAAAAAAAAAAAAAAAAAAAAAAAAAAAAAAAAAAAAAAAAAAAAAAAAAAAAAAAAAAAAAAAAAAAAAAAAAAAAAAAAAAAAAAAAAAAAAAAAAAAAAAAAAAAAAAAAAAAAAAAAAAAAAAAAAAAAAAAAAAAAAAAAAAAAAAAAAAAAAAAAAAAAAAAAAAAAAAAAAAAAAAAAAAAAAAAAAAAAAAAAAAAAAAAAAAAAAAAAAAAAAAAAAAAAAAAAAAAAAAAAAAAAAAAAAAAAAAAAAAAAAAAAAAAAAAAAAAAAAAAAAAAAAAAAAAAAAAAAAAAAAAAAAAAAAAAAAAAAAAAAAAAAAAAAAAAAAAAAAAAAAAAAAAAAAAAAAAAAAAAAAAAAAAAAAAAAAAAAAAAAAAAAAAAAAAAAAAAAAAAAAAAAAAAAAAAAAAAAAAAAAAAAAAAAAAAAAAAAAAAAAAAAAAAAAAAAAAAAAAAAAAAAAAAAAAAAAAAAAAAAAAAAAAAAAAAAAAAAAAAAAAAAAAAAAAAAAAAAAAAAAAAAAAAAAAAAAAAAAAAAAAAAAAAAAAAAAAAAAAAAAAAAAAAAAAAAAAAAAAAAAAAAAAAAAAAAAAAAAAAAAAAAAAAAAAAAAAAAAAAAAAAAAAAAAAAAAAAAAAAAAAAAAAAAAAAAAAAAAAAAAAAAAAAAAAAAAAAAAAAAAAAAAAAAAAAAAAAAAAAAAAAAAAAAAAAAAAAAAAAAAAAAAAAAAAAAAAAAAAAAAAAAAAAAAAAAAAAAAAAAAAAAAAAAAAAAAAAAAAAAAAAAAAAAAAAAAAAAAAAAAAAAAAAAAAAAAAAAAAAAAAAAAAAAAAAAAAAAAAAAAAAAAAAAAAAAAAAAAAAAAAAAAAAAAAAAAAAAAAAAAAAAAAAAAAAAAAAAAAAAAAAAAAAAAAAAAAAAAAAAAAAAAAAAAAAAAAAAAAAAAAAAAAAAAAAAAAAAAAAAAAAAAAAAAAAAAAAAAAAAAAAAAAAAAAAAAAAAAAAAAAAAAAAAAAAAAAAAAAAAAAAAAAAAAAAAAAAAAAAAAAAAAAAAAAAAAAAAAAAAAAAAAAAAAAAAAAAAAAAAAAAAAAAAAAAAAAAAAAAAAAAAAAAAAAAAAAAAAAAAAAAAAAAAAAAAAAAAAAAAAAAAAAAAAAAAAAAAAAAAAAAAAAAAAAAAAAAAAAAAAAAAAAAAAAAAAAAAAAAAAAAAAAAAAAAAAAAAAAAAAAAAAAAAAAAAAAAAAAAAAAAAAAAAAAAAAAAAAAAAAAAAAAAAAAAAAAAAAAAAAAAAAAAAAAAAAAAAAAAAAAAAAAAAAAAAAAAAAAAAAAAAAAAAAAAAAAAAAAAAAAAAAAAAAAAAAAAAAAAAAAAAAAAAAAAAAAAAAAAAAAAAAAAAAAAAAAAAAAAAAAAAAAAAAAAAAAAAAAAAAAAAAAAAAAAAAAAAAAAAAAAAAAAAAAAAAAAAAAAAAAAAAAAAAAAAAAAAAAAAAAAAAAAAAAAAAAAAAAAAAAAAAAAAAAAAAAAAAAAAAAAAAAAAAAAAAAAAAAAAAAAAAAAAAAAAAAAAAAAAAAAAAAAAAAAAAAAAAAAAAAAAAAAAAAAAAAAAAAAAAAAAAAAAAAAAAAAAAAAAAAAAAAAAAAAAAAAAAAAAAAAAAAAAAAAAAAAAAAAAAAAAAAAAAAAAAAAAAAAAAAAAAAAAAAAAAAAAAAAAAAAAAAAAAAAAAAAAAAAAAAAAAAAAAAAAAAAAAAAAAAAAAAAAAAAAAAAAAAAAAAAAAAAAAAAAAAAAAAAAAAAAAAAAAAAAAAAAAAAAAAAAAAAAAAAAAAAAAAAAAAAAAAAAAAAAAAAAAAAAAAAAAAAAAAAAAAAAAAAAAAAAAAAAAAAAAAAAAAAAAAAAAAAAAAAAAAAAAAAAAAAAAAAAAAAAAAAAAAAAAAAAAAAAAAAAAAAAAAAAAAAAAAAAAAAAAAAAAAAAAAAAAAAAAAAAAAAAAAAAAAAAAAAAAAAAAAAAAAAAAAAAAAAAAAAAAAAAAAAAAAAAAAAAAAAAAAAAAAAAAAAAAAAAAAAAAAAAAAAAAAAAAAAAAAAAAAAAAAAAAAAAAAAAAAAAAAAAAAAAAAAAAAAAAAAAAAAAAAAAAAAAAAAAAAAAAAAAAAAAAAAAAAAAAAAAAAAAAAAAAAAAAAAAAAAAAAAAAAAAAAAAAAAAAAAAAAAAAAAAAAAAAAAAAAAAAAAAAAAAAAAAAAAAAAAAAAAAAAAAAAAAAAAAAAAAAAAAAAAAAAAAAAAAAAAAAAAAAAAAAAAAAAAAAAAAAAAAAAAAAAAAAAAAAAAAAAAAAAAAAAAAAAAAAAAAAAAAAAAAAAAAAAAAAAAAAAAAAAAAAAAAAAAAAAAAAAAAAAAAAAAAAAAAAAAAAAAAAAAAAAAAAAAAAAAAAAAAAAAAAAAAAAAAAAAAAAAAAAAAAAAAAAAAAAAAAAAAAAAAAAAAAAAAAAAAAAAAAAAAAAAAAAAAAAAAAAAAAAAAAAAAAAAAAAAAAAAAAAAAAAAAAAAAAAAAAAAAAAAAAAAAAAAAAAAAAAAAAAAAAAAAAAAAAAAAAAAAAAAAAAAAAAAAAAAAAAAAAAAAAAAAAAAAAAAAAAAAAAAAAAAAAAAAAAAAAAAAAAAAAAAAAAAAAAAAAAAAAAAAAAAAAAAAAAAAAAAAAAAAAAAAAAAAAAAAAAAAAAAAAAAAAAAAAAAAAAAAAAAAAAAAAAAAAAAAAAAAAAAAAAAAAAAAAAAAAAAAAAAAAAAAAAAAAAAAAAAAAAAAAAAAAAAAAAAAAAAAAAAAAAAAAAAAAAAAAAAAAAAAAAAAAAAAAAAAAAAAAAAAAAAAAAAAAAAAAAAAAAAAAAAAAAAAAAAAAAAAAAAAAAAAAAAAAAAAAAAAAAAAAAAAAAAAAAAAAAAAAAAAAAAAAAAAAAAAAAAAAAAAAAAAAAAAAAAAAAAAAAAAAAAAAAAAAAAAAAAAAAAAAAAAAAAAAAAAAAAAAAAAAAAAAAAAAAAAAAAAAAAAAAAAAAAAAAAAAAAAAAAAAAAAAAAAAAAAAAAAAAAAAAAAAAAAAAAAAAAAAAAAAAAAAAAAAAAAAAAAAAAAAAAAAAAAAAAAAAAAAAAAAAAAAAAAAAAAAAAAAAAAAAAAAAAAAAAAAAAAAAAAAAAAAAAAAAAAAAAAAAAAAAAAAAAAAAAAAAAAAAAAAAAAAAAAAAAAAAAAAAAAAAAAAAAAAAAAAAAAAAAAAAAAAAAAAAAAAAAAAAAAAAAAAAAAAAAAAAAAAAAAAAAAAAAAAAAAAAAAAAAAAAAAAAAAAAAAAAAAAAAAAAAAAAAAAAAAAAAAAAAAAAAAAAAAAAAAAAAAAAAAAAAAAAAAAAAAAAAAAAAAAAAAAAAAAAAAAAAAAAAAAAAAAAAAAAAAAAAAAAAAAAAAAAAAAAAAAAAAAAAAAAAAAAAAAAAAAAAAAAAAAAAAAAAAAAAAAAAAAAAAAAAAAAAAAAAAAAAAAAAAAAAAAAAAAAAAAAAAAAAAAAAAAAAAAAAAAAAAAAAAAAAAAAAAAAAAAAAAAAAAAAAAAAAAAAAAAAAAAAAAAAAAAAAAAAAAAAAAAAAAAAAAAAAAAAAAAAAAAAAAAAAAAAAAAAAAAAAAAAAAAAAAAAAAAAAAAAAAAAAAAAAAAAAAAAAAAAAAAAAAAAAAAAAAAAAAAAAAAAAAAAAAAAAAAAAAAAAAAAAAAAAAAAAAAAAAAAAAAAAAAAAAAAAAAAAAAAAAAAAAAAAAAAAAAAAAAAAAAAAAAAAAAAAAAAAAAAAAAAAAAAAAAAAAAAAAAAAAAAAAAAAAAAAAAAAAAAAAAAAAAAAAAAAAAAAAAAAAAAAAAAAAAAAAAAAAAAAAAAAAAAAAAAAAAAAAAAAAAAAAAAAAAAAAAAAAAAAAAAAAAAAAAAAAAAAAAAAAAAAAAAAAAAAAAAAAAAAAAAAAAAAAAAAAAAAAAAAAAAAAAAAAAAAAAAAAAAAAAAAAAAAAAAAAAAAAAAAAAAAAAAAAAAAAAAAAAAAAAAAAAAAAAAAAAAAAAAAAAAAAAAAAAAAAAAAAAAAAAAAAAAAAAAAAAAAAAAAAAAAAAAAAAAAAAAAAAAAAAAAAAAAAAAAAAAAAAAAAAAAAAAAAAAAAAAAAAAAAAAAAAAAAAAAAAAAAAAAAAAAAAAAAAAAAAAAAAAAAAAAAAAAAAAAAAAAAAAAAAAAAAAAAAAAAAAAAAAAAAAAAAAAAAAAAAAAAAAAAAAAAAAAAAAAAAAAAAAAAAAAAAAAAAAAAAAAAAAAAAAAAAAAAAAAAAAAAAAAAAAAAAAAAAAAAAAAAAAAAAAAAAAAAAAAAAAAAAAAAAAAAAAAAAAAAAAAAAAAAAAAAAAAAAAAAAAAAAAAAAAAAAAAAAAAAAAAAAAAAAAAAAAAAAAAAAAAAAAAAAAAAAAAAAAAAAAAAAAAAAAAAAAAAAAAAAAAAAAAAAAAAAAAAAAAAAAAAAAAAAAAAAAAAAAAAAAAAAAAAAAAAAAAAAAAAAAAAAAAAAAAAAAAAAAAAAAAAAAAAAAAAAAAAAAAAAAAAAAAAAAAAAAAAAAAAAAAAAAAAAAAAAAAAAAAAAAAAAAAAAAAAAAAAAAAAAAAAAAAAAAAAAAAAAAAAAAAAAAAAAAAAAAAAAAAAAAAAAAAAAAAAAAAAAAAAAAAAAAAAAAAAAAAAAAAAAAAAAAAAAAAAAAAAAAAAAAAAAAAAAAAAAAAAAAAAAAAAAAAAAAAAAAAAAAAAAAAAAAAAAAAAAAAAAAAAAAAAAAAAAAAAAAAAAAAAAAAAAAAAAAAAAAAAAAAAAAAAAAAAAAAAAAAAAAAAAAAAAAAAAAAAAAAAAAAAAAAAAAAAAAAAAAAAAAAAAAAAAAAAAAAAAAAAAAAAAAAAAAAAAAAAAAAAAAAAAAAAAAAAAAAAAAAAAAAAAAAAAAAAAAAAAAAAAAAAAAAAAAAAAAAAAAAAAAAAAAAAAAAAAAAAAAAAAAAAAAAAAAAAAAAAAAAAAAAAAAAAAAAAAAAAAAAAAAAAAAAAAAAAAAAAAAAAAAAAAAAAAAAAAAAAAAAAAAAAAAAAAAAAAAAAAAAAAAAAAAAAAAAAAAAAAAAAAAAAAAAAAAAAAAAAAAAAAAAAAAAAAAAAAAAAAAAAAAAAAAAAAAAAAAAAAAAAAAAAAAAAAAAAAAAAAAAAAAAAAAAAAAAAAAAAAAAAAAAAAAAAAAAAAAAAAAAAAAAAAAAAAAAAAAAAAAAAAAAAAAAAAAAAAAAAAAAAAAAAAAAAAAAAAAAAAAAAAAAAAAAAAAAAAAAAAAAAAAAAAAAAAAAAAAAAAAAAAAAAAAAAAAAAAAAAAAAAAAAAAAAAAAAAAAAAAAAAAAAAAAAAAAAAAAAAAAAAAAAAAAAAAAAAAAAAAAAAAAAAAAAAAAAAAAAAAAAAAAAAAAAAAAAAAAAAAAAAAAAAAAAAAAAAAAAAAAAAAAAAAAAAAAAAAAAAAAAAAAAAAAAAAAAAAAAAAAAAAAAAAAAAAAAAAAAAAAAAAAAAAAAAAAAAAAAAAAAAAAAAAAAAAAAAAAAAAAAAAAAAAAAAAAAAAAAAAAAAAAAAAAAAAAAAAAAAAAAAAAAAAAAAAAAAAAAAAAAAAAAAAAAAAAAAAAAAAAAAAAAAAAAAAAAAAAAAAAAAAAAAAAAAAAAAAAAAAAAAAAAAAAAAAAAAAAAAAAAAAAAAAAAAAAAAAAAAAAAAAAAAAAAAAAAAAAAAAAAAAAAAAAAAAAAAAAAAAAAAAAAAAAAAAAAAAAAAAAAAAAAAAAAAAAAAAAAAAAAAAAAAAAAAAAAAAAAAAAAAAAAAAAAAAAAAAAAAAAAAAAAAAAAAAAAAAAAAAAAAAAAAAAAAAAAAAAAAAAAAAAAAAAAAAAAAAAAAAAAAAAAAAAAAAAAAAAAAAAAAAAAAAAAAAAAAAAAAAAAAAAAAAAAAAAAAAAAAAAAAAAAAAAAAAAAAAAAAAAAAAAAAAAAAAAAAAAAAAAAAAAAAAAAAAAAAAAAAAAAAAAAAAAAAAAAAAAAAAAAAAAAAAAAAAAAAAAAAAAAAAAAAAAAAAAAAAAAAAAAAAAAAAAAAAAAAAAAAAAAAAAAAAAAAAAAAAAAAAAAAAAAAAAAAAAAAAAAAAAAAAAAAAAAAAAAAAAAAAAAAAAAAAAAAAAAAAAAAAAAAAAAAAAAAAAAAAAAAAAAAAAAAAAAAAAAAAAAAAAAAAAAAAAAAAAAAAAAAAAAAAAAAAAAAAAAAAAAAAAAAAAAAAAAAAAAAAAAAAAAAAAAAAAAAAAAAAAAAAAAAAAAAAAAAAAAAAAAAAAAAAAAAAAAAAAAAAAAAAAAAAAAAAAAAAAAAAAAAAAAAAAAAAAAAAAAAAAAAAAAAAAAAAAAAAAAAAAAAAAAAAAAAAAAAAAAAAAAAAAAAAAAAAAAAAAAAAAAAAAAAAAAAAAAAAAAAAAAAAAAAAAAAAAAAAAAAAAAAAAAAAAAAAAAAAAAAAAAAAAAAAAAAAAAAAAAAAAAAAAAAAAAAAAAAAAAAAAAAAAAAAAAAAAAAAAAAAAAAAAAAAAAAAAAAAAAAAAAAAAAAAAAAAAAAAAAAAAAAAAAAAAAAAAAAAAAAAAAAAAAAAAAAAAAAAAAAAAAAAAAAAAAAAAAAAAAAAAAAAAAAAAAAAAAAAAAAAAAAAAAAAAAAAAAAAAAAAAAAAAAAAAAAAAAAAAAAAAAAAAAAAAAAAAAAAAAAAAAAAAAAAAAAAAAAAAAAAAAAAAAAAAAAAAAAAAAAAAAAAAAAAAAAAAAAAAAAAAAAAAAAAAAAAAAAAAAAAAAAAAAAAAAAAAAAAAAAAAAAAAAAAAAAAAAAAAAAAAAAAAAAAAAAAAAAAAAAAAAAAAAAAAAAAAAAAAAAAAAAAAAAAAAAAAAAAAAAAAAAAAAAAAAAAAAAAAAAAAAAAAAAAAAAAAAAAAAAAAAAAAAAAAAAAAAAAAAAAAAAAAAAAAAAAAAAAAAAAAAAAAAAAAAAAAAAAAAAAAAAAAAAAAAAAAAAAAAAAAAAAAAAAAAAAAAAAAAAAAAAAAAAAAAAAAAAAAAAAAAAAAAAAAAAAAAAAAAAAAAAAAAAAAAAAAAAAAAAAAAAAAAAAAAAAAAAAAAAAAAAAAAAAAAAAAAAAAAAAAAAAAAAAAAAAAAAAAAAAAAAAAAAAAAAAAAAAAAAAAAAAAAAAAAAAAAAAAAAAAAAAAAAAAAAAAAAAAAAAAAAAAAAAAAAAAAAAAAAAAAAAAAAAAAAAAAAAAAAAAAAAAAAAAAAAAAAAAAAAAAAAAAAAAAAAAAAAAAAAAAAAAAAAAAAAAAAAAAAAAAAAAAAAAAAAAAAAAAAAAAAAAAAAAAAAAAAAAAAAAAAAAAAAAAAAAAAAAAAAAAAAAAAAAAAAAAAAAAAAAAAAAAAAAAAAAAAAAAAAAAAAAAAAAAAAAAAAAAAAAAAAAAAAAAAAAAAAAAAAAAAAAAAAAAAAAAAAAAAAAAAAAAAAAAAAAAAAAAAAAAAAAAAAAAAAAAAAAAAAAAAAAAAAAAAAAAAAAAAAAAAAAAAAAAAAAAAAAAAAAAAAAAAAAAAAAAAAAAAAAAAAAAAAAAAAAAAAAAAAAAAAAAAAAAAAAAAAAAAAAAAAAAAAAAAAAAAAAAAAAAAAAAAAAAAAAAAAAAAAAAAAAAAAAAAAAAAAAAAAAAAAAAAAAAAAAAAAAAAAAAAAAAAAAAAAAAAAAAAAAAAAAAAAAAAAAAAAAAAAAAAAAAAAAAAAAAAAAAAAAAAAAAAAAAAAAAAAAAAAAAAAAAAAAAAAAAAAAAAAAAAAAAAAAAAAAAAAAAAAAAAAAAAAAAAAAAAAAAAAAAAAAAAAAAAAAAAAAAAAAAAAAAAAAAAAAAAAAAAAAAAAAAAAAAAAAAAAAAAAAAAAAAAAAAAAAAAAAAAAAAAAAAAAAAAAAAAAAAAAAAAAAAAAAAAAAAAAAAAAAAAAAAAAAAAAAAAAAAAAAAAAAAAAAAAAAAAAAAAAAAAAAAAAAAAAAAAAAAAAAAAAAAAAAAAAAAAAAAAAAAAAAAAAAAAAAAAAAAAAAAAAAAAAAAAAAAAAAAAAAAAAAAAAAAAAAAAAAAAAAAAAAAAAAAAAAAAAAAAAAAAAAAAAAAAAAAAAAAAAAAAAAAAAAAAAAAAAAAAAAAAAAAAAAAAAAAAAAAAAAAAAAAAAAAAAAAAAAAAAAAAAAAAAAAAAAAAAAAAAAAAAAAAAAAAAAAAAAAAAAAAAAAAAAAAAAAAAAAAAAAAAAAAAAAAAAAAAAAAAAAAAAAAAAAAAAAAAAAAAAAAAAAAAAAAAAAAAAAAAAAAAAAAAAAAAAAAAAAAAAAAAAAAAAAAAAAAAAAAAAAAAAAAAAAAAAAAAAAAAAAAAAAAAAAAAAAAAAAAAAAAAAAAAAAAAAAAAAAAAAAAAAAAAAAAAAAAAAAAAAAAAAAAAAAAAAAAAAAAAAAAAAAAAAAAAAAAAAAAAAAAAAAAAAAAAAAAAAAAAAAAAAAAAAAAAAAAAAAAAAAAAAAAAAAAAAAAAAAAAAAAAAAAAAAAAAAAAAAAAAAAAAAAAAAAAAAAAAAAAAAAAAAAAAAAAAAAAAAAAAAAAAAAAAAAAAAAAAAAAAAAAAAAAAAAAAAAAAAAAAAAAAAAAAAAAAAAAAAAAAAAAAAAAAAAAAAAAAAAAAAAAAAAAAAAAAAAAAAAAAAAAAAAAAAAAAAAAAAAAAAAAAAAAAAAAAAAAAAAAAAAAAAAAAAAAAAAAAAAAAAAAAAAAAAAAAAAAAAAAAAAAAAAAAAAAAAAAAAAAAAAAAAAAAAAAAAAAAAAAAAAAAAAAAAAAAAAAAAAAAAAAAAAAAAAAAAAAAAAAAAAAAAAAAAAAAAAAAAAAAAAAAAAAAAAAAAAAAAAAAAAAAAAAAAAAAAAAAAAAAAAAAAAAAAAAAAAAAAAAAAAAAAAAAAAAAAAAAAAAAAAAAAAAAAAAAAAAAAAAAAAAAAAAAAAAAAAAAAAAAAAAAAAAAAAAAAAAAAAAAAAAAAAAAAAAAAAAAAAAAAAAAAAAAAAAAAAAAAAAAAAAAAAAAAAAAAAAAAAAAAAAAAAAAAAAAAAAAAAAAAAAAAAAAAAAAAAAAAAAAAAAAAAAAAAAAAAAAAAAAAAAAAAAAAAAAAAAAAAAAAAAAAAAAAAAAAAAAAAAAAAAAAAAAAAAAAAAAAAAAAAAAAAAAAAAAAAAAAAAAAAAAAAAAAAAAAAAAAAAAAAAAAAAAAAAAAAAAAAAAAAAAAAAAAAAAAAAAAAAAAAAAAAAAAAAAAAAAAAAAAAAAAAAAAAAAAAAAAAAAAAAAAAAAAAAAAAAAAAAAAAAAAAAAAAAAAAAAAAAAAAAAAAAAAAAAAAAAAAAAAAAAAAAAAAAAAAAAAAAAAAAAAAAAAAAAAAAAAAAAAAAAAAAAAAAAAAAAAAAAAAAAAAAAAAAAAAAAAAAAAAAAAAAAAAAAAAAAAAAAAAAAAAAAAAAAAAAAAAAAAAAAAAAAAAAAAAAAAAAAAAAAAAAAAAAAAAAAAAAAAAAAAAAAAAAAAAAAAAAAAAAAAAAAAAAAAAAAAAAAAAAAAAAAAAAAAAAAAAAAAAAAAAAAAAAAAAAAAAAAAAAAAAAAAAAAAAAAAAAAAAAAAAAAAAAAAAAAAAAAAAAAAAAAAAAAAAAAAAAAAAAAAAAAAAAAAAAAAAAAAAAAAAAAAAAAAAAAAAAAAAAAAAAAAAAAAAAAAAAAAAAAAAAAAAAAAAAAAAAAAAAAAAAAAAAAAAAAAAAAAAAAAAAAAAAAAAAAAAAAAAAAAAAAAAAAAAAAAAAAAAAAAAAAAAAAAAAAAAAAAAAAAAAAAAAAAAAAAAAAAAAAAAAAAAAAAAAAAAAAAAAAAAAAAAAAAAAAAAAAAAAAAAAAAAAAAAAAAAAAAAAAAAAAAAAAAAAAAAAAAAAAAAAAAAAAAAAAAAAAAAAAAAAAAAAAAAAAAAAAAAAAAAAAAAAAAAAAAAAAAAAAAAAAAAAAAAAAAAAAAAAAAAAAAAAAAAAAAAAAAAAAAAAAAAAAAAAAAAAAAAAAAAAAAAAAAAAAAAAAAAAAAAAAAAAAAAAAAAAAAAAAAAAAAAAAAAAAAAAAAAAAAAAAAAAAAAAAAAAAAAAAAAAAAAAAAAAAAAAAAAAAAAAAAAAAAAAAAAAAAAAAAAAAAAAAAAAAAAAAAAAAAAAAAAAAAAAAAAAAAAAAAAAAAAAAAAAAAAAAAAAAAAAAAAAAAAAAAAAAAAAAAAAAAAAAAAAAAAAAAAAAAAAAAAAAAAAAAAAAAAAAAAAAAAAAAAAAAAAAAAAAAAAAAAAAAAAAAAAAAAAAAAAAAAAAAAAAAAAAAAAAAAAAAAAAAAAAAAAAAAAAAAAAAAAAAAAAAAAAAAAAAAAAAAAAAAAAAAAAAAAAAAAAAAAAAAAAAAAAAAAAAAAAAAAAAAAAAAAAAAAAAAAAAAAAAAAAAAAAAAAAAAAAAAAAAAAAAAAAAAAAAAAAAAAAAAAAAAAAAAAAAAAAAAAAAAAAAAAAAAAAAAAAAAAAAAAAAAAAAAAAAAAAAAAAAAAAAAAAAAAAAAAAAAAAAAAAAAAAAAAAAAAAAAAAAAAAAAAAAAAAAAAAAAAAAAAAAAAAAAAAAAAAAAAAAAAAAAAAAAAAAAAAAAAAAAAAAAAAAAAAAAAAAAAAAAAAAAAAAAAAAAAAAAAAAAAAAAAAAAAAAAAAAAAAAAAAAAAAAAAAAAAAAAAAAAAAAAAAAAAAAAAAAAAAAAAAAAAAAAAAAAAAAAAAAAAAAAAAAAAAAAAAAAAAAAAAAAAAAAAAAAAAAAAAAAAAAAAAAAAAAAAAAAAAAAAAAAAAAAAAAAAAAAAAAAAAAAAAAAAAAAAAAAAAAAAAAAAAAAAAAAAAAAAAAAAAAAAAAAAAAAAAAAAAAAAAAAAAAAAAAAAAAAAAAAAAAAAAAAAAAAAAAAAAAAAAAAAAAAAAAAAAAAAAAAAAAAAAAAAAAAAAAAAAAAAAAAAAAAAAAAAAAAAAAAAAAAAAAAAAAAAAAAAAAAAAAAAAAAAAAAAAAAAAAAAAAAAAAAAAAAAAAAAAAAAAAAAAAAAAAAAAAAAAAAAAAAAAAAAAAAAAAAAAAAAAAAAAAAAAAAAAAAAAAAAAAAAAAAAAAAAAAAAAAAAAAAAAAAAAAAAAAAAAAAAAAAAAAAAAAAAAAAAAAAAAAAAAAAAAAAAAAAAAAAAAAAAAAAAAAAAAAAAAAAAAAAAAAAAAAAAAAAAAAAAAAAAAAAAAAAAAAAAAAAAAAAAAAAAAAAAAAAAAAAAAAAAAAAAAAAAAAAAAAAAAAAAAAAAAAAAAAAAAAAAAAAAAAAAAAAAAAAAAAAAAAAAAAAAAAAAAAAAAAAAAAAAAAAAAAAAAAAAAAAAAAAAAAAAAAAAAAAAAAAAAAAAAAAAAAAAAAAAAAAAAAAAAAAAAAAAAAAAAAAAAAAAAAAAAAAAAAAAAAAAAAAAAAAAAAAAAAAAAAAAAAAAAAAAAAAAAAAAAAAAAAAAAAAAAAAAAAAAAAAAAAAAAAAAAAAAAAAAAAAAAAAAAAAAAAAAAAAAAAAAAAAAAAAAAAAAAAAAAAAAAAAAAAAAAAAAAAAAAAAAAAAAAAAAAAAAAAAAAAAAAAAAAAAAAAAAAAAAAAAAAAAAAAAAAAAAAAAAAAAAAAAAAAAAAAAAAAAAAAAAAAAAAAAAAAAAAAAAAAAAAAAAAAAAAAAAAAAAAAAAAAAAAAAAAAAAAAAAAAAAAAAAAAAAAAAAAAAAAAAAAAAAAAAAAAAAAAAAAAAAAAAAAAAAAAAAAAAAAAAAAAAAAAAAAAAAAAAAAAAAAAAAAAAAAAAAAAAAAAAAAAAAAAAAAAAAAAAAAAAAAAAAAAAAAAAAAAAAAAAAAAAAAAAAAAAAAAAAAAAAAAAAAAAAAAAAAAAAAAAAAAAAAAAAAAAAAAAAAAAAAAAAAAAAAAAAAAAAAAAAAAAAAAAAAAAAAAAAAAAAAAAAAAAAAAAAAAAAAAAAAAAAAAAAAAAAAAAAAAAAAAAAAAAAAAAAAAAAAAAAAAAAAAAAAAAAAAAAAAAAAAAAAAAAAAAAAAAAAAAAAAAAAAAAAAAAAAAAAAAAAAAAAAAAAAAAAAAAAAAAAAAAAAAAAAAAAAAAAAAAAAAAAAAAAAAAAAAAAAAAAAAAAAAAAAAAAAAAAAAAAAAAAAAAAAAAAAAAAAAAAAAAAAAAAAAAAAAAAAAAAAAAAAAAAAAAAAAAAAAAAAAAAAAAAAAAAAAAAAAAAAAAAAAAAAAAAAAAAAAAAAAAAAAAAAAAAAAAAAAAAAAAAAAAAAAAAAAAAAAAAAAAAAAAAAAAAAAAAAAAAAAAAAAAAAAAAAAAAAAAAAAAAAAAAAAAAAAAAAAAAAAAAAAAAAAAAAAAAAAAAAAAAAAAAAAAAAAAAAAAAAAAAAAAAAAAAAAAAAAAAAAAAAAAAAAAAAAAAAAAAAAAAAAAAAAAAAAAAAAAAAAAAAAAAAAAAAAAAAAAAAAAAAAAAAAAAAAAAAAAAAAAAAAAAAAAAAAAAAAAAAAAAAAAAAAAAAAAAAAAAAAAAAAAAAAAAAAAAAAAAAAAAAAAAAAAAAAAAAAAAAAAAAAAAAAAAAAAAAAAAAAAAAAAAAAAAAAAAAAAAAAAAAAAAAAAAAAAAAAAAAAAAAAAAAAAAAAAAAAAAAAAAAAAAAAAAAAAAAAAAAAAAAAAAAAAAAAAAAAAAAAAAAAAAAAAAAAAAAAAAAAAAAAAAAAAAAAAAAAAAAAAAAAAAAAAAAAAAAAAAAAAAAAAAAAAAAAAAAAAAAAAAAAAAAAAAAAAAAAAAAAAAAAAAAAAAAAAAAAAAAAAAAAAAAAAAAAAAAAAAAAAAAAAAAAAAAAAAAAAAAAAAAAAAAAAAAAAAAAAAAAAAAAAAAAAAAAAAAAAAAAAAAAAAAAAAAAAAAAAAAAAAAAAAAAAAAAAAAAAAAAAAAAAAAAAAAAAAAAAAAAAAAAAAAAAAAAAAAAAAAAAAAAAAAAAAAAAAAAAAAAAAAAAAAAAAAAAAAAAAAAAAAAAAAAAAAAAAAAAAAAAAAAAAAAAAAAAAAAAAAAAAAAAAAAAAAAAAAAAAAAAAAAAAAAAAAAAAAAAAAAAAAAAAAAAAAAAAAAAAAAAAAAAAAAAAAAAAAAAAAAAAAAAAAAAAAAAAAAAAAAAAAAAAAAAAAAAAAAAAAAAAAAAAAAAAAAAAAAAAAAAAAAAAAAAAAAAAAAAAAAAAAAAAAAAAAAAAAAAAAAAAAAAAAAAAAAAAAAAAAAAAAAAAAAAAAAAAAAAAAAAAAAAAAAAAAAAAAAAAAAAAAAAAAAAAAAAAAAAAAAAAAAAAAAAAAAAAAAAAAAAAAAAAAAAAAAAAAAAAAAAAAAAAAAAAAAAAAAAAAAAAAAAAAAAAAAAAAAAAAAAAAAAAAAAAAAAAAAAAAAAAAAAAAAAAAAAAAAAAAAAAAAAAAAAAAAAAAAAAAAAAAAAAAAAAAAAAAAAAAAAAAAAAAAAAAAAAAAAAAAAAAAAAAAAAAAAAAAAAAAAAAAAAAAAAAAAAAAAAAAAAAAAAAAAAAAAAAAAAAAAAAAAAAAAAAAAAAAAAAAAAAAAAAAAAAAAAAAAAAAAAAAAAAAAAAAAAAAAAAAAAAAAAAAAAAAAAAAAAAAAAAAAAAAAAAAAAAAAAAAAAAAAAAAAAAAAAAAAAAAAAAAAAAAAAAAAAAAAAAAAAAAAAAAAAAAAAAAAAAAAAAAAAAAAAAAAAAAAAAAAAAAAAAAAAAAAAAAAAAAAAAAAAAAAAAAAAAAAAAAAAAAAAAAAAAAAAAAAAAAAAAAAAAAAAAAAAAAAAAAAAAAAAAAAAAAAAAAAAAAAAAAAAAAAAAAAAAAAAAAAAAAAAAAAAAAAAAAAAAAAAAAAAAAAAAAAAAAAAAAAAAAAAAAAAAAAAAAAAAAAAAAAAAAAAAAAAAAAAAAAAAAAAAAAAAAAAAAAAAAAAAAAAAAAAAAAAAAAAAAAAAAAAAAAAAAAAAAAAAAAAAAAAAAAAAAAAAAAAAAAAAAAAAAAAAAAAAAAAAAAAAAAAAAAAAAAAAAAAAAAAAAAAAAAAAAAAAAAAAAAAAAAAAAAAAAAAAAAAAAAAAAAAAAAAAAAAAAAAAAAAAAAAAAAAAAAAAAAAAAAAAAAAAAAAAAAAAAAAAAAAAAAAAAAAAAAAAAAAAAAAAAAAAAAAAAAAAAAAAAAAAAAAAAAAAAAAAAAAAAAAAAAAAAAAAAAAAAAAAAAAAAAAAAAAAAAAAAAAAAAAAAAAAAAAAAAAAAAAAAAAAAAAAAAAAAAAAAAAAAAAAAAAAAAAAAAAAAAAAAAAAAAAAAAAAAAAAAAAAAAAAAAAAAAAAAAAAAAAAAAAAAAAAAAAAAAAAAAAAAAAAAAAAAAAAAAAAAAAAAAAAAAAAAAAAAAAAAAAAAAAAAAAAAAAAAAAAAAAAAAAAAAAAAAAAAAAAAAAAAAAAAAAAAAAAAAAAAAAAAAAAAAAAAAAAAAAAAAAAAAAAAAAAAAAAAAAAAAAAAAAAAAAAAAAAAAAAAAAAAAAAAAAAAAAAAAAAAAAAAAAAAAAAAAAAAAAAAAAAAAAAAAAAAAAAAAAAAAAAAAAAAAAAAAAAAAAAAAAAAAAAAAAAAAAAAAAAAAAAAAAAAAAAAAAAAAAAAAAAAAAAAAAAAAAAAAAAAAAAAAAAAAAAAAAAAAAAAAAAAAAAAAAAAAAAAAAAAAAAAAAAAAAAAAAAAAAAAAAAAAAAAAAAAAAAAAAAAAAAAAAAAAAAAAAAAAAAAAAAAAAAAAAAAAAAAAAAAAAAAAAAAAAAAAAAAAAAAAAAAAAAAAAAAAAAAAAAAAAAAAAAAAAAAAAAAAAAAAAAAAAAAAAAAAAAAAAAAAAAAAAAAAAAAAAAAAAAAAAAAAAAAAAAAAAAAAAAAAAAAAAAAAAAAAAAAAAAAAAAAAAAAAAAAAAAAAAAAAAAAAAAAAAAAAAAAAAAAAAAAAAAAAAAAAAAAAAAAAAAAAAAAAAAAAAAAAAAAAAAAAAAAAAAAAAAAAAAAAAAAAAAAAAAAAAAAAAAAAAAAAAAAAAAAAAAAAAAAAAAAAAAAAAAAAAAAAAAAAAAAAAAAAAAAAAAAAAAAAAAAAAAAAAAAAAAAAAAAAAAAAAAAAAAAAAAAAAAAAAAAAAAAAAAAAAAAAAAAAAAAAAAAAAAAAAAAAAAAAAAAAAAAAAAAAAAAAAAAAAAAAAAAAAAAAAAAAAAAAAAAAAAAAAAAAAAAAAAAAAAAAAAAAAAAAAAAAAAAAAAAAAAAAAAAAAAAAAAAAAAAAAAAAAAAAAAAAAAAAAAAAAAAAAAAAAAAAAAAAAAAAAAAAAAAAAAAAAAAAAAAAAAAAAAAAAAAAAAAAAAAAAAAAAAAAAAAAAAAAAAAAAAAAAAAAAAAAAAAAAAAAAAAAAAAAAAAAAAAAAAAAAAAAAAAAAAAAAAAAAAAAAAAAAAAAAAAAAAAAAAAAAAAAAAAAAAAAAAAAAAAAAAAAAAAAAAAAAAAAAAAAAAAAAAAAAAAAAAAAAAAAAAAAAAAAAAAAAAAAAAAAAAAAAAAAAAAAAAAAAAAAAAAAAAAAAAAAAAAAAAAAAAAAAAAAAAAAAAAAAAAAAAAAAAAAAAAAAAAAAAAAAAAAAAAAAAAAAAAAAAAAAAAAAAAAAAAAAAAAAAAAAAAAAAAAAAAAAAAAAAAAAAAAAAAAAAAAAAAAAAAAAAAAAAAAAAAAAAAAAAAAAAAAAAAAAAAAAAAAAAAAAAAAAAAAAAAAAAAAAAAAAAAAAAAAAAAAAAAAAAAAAAAAAAAAAAAAAAAAAAAAAAAAAAAAAAAAAAAAAAAAAAAAAAAAAAAAAAAAAAAAAAAAAAAAAAAAAAAAAAAAAAAAAAAAAAAAAAAAAAAAAAAAAAAAAAAAAAAAAAAAAAAAAAAAAAAAAAAAAAAAAAAAAAAAAAAAAAAAAAAAAAAAAAAAAAAAAAAAAAAAAAAAAAAAAAAAAAAAAAAAAAAAAAAAAAAAAAAAAAAAAAAAAAAAAAAAAAAAAAAAAAAAAAAAAAAAAAAAAAAAAAAAAAAAAAAAAAAAAAAAAAAAAAAAAAAAAAAAAAAAAAAAAAAAAAAAAAAAAAAAAAAAAAAAAAAAAAAAAAAAAAAAAAAAAAAAAAAAAAAAAAAAAAAAAAAAAAAAAAAAAAAAAAAAAAAAAAAAAAAAAAAAAAAAAAAAAAAAAAAAAAAAAAAAAAAAAAAAAAAAAAAAAAAAAAAAAAAAAAAAAAAAAAAAAAAAAAAAAAAAAAAAAAAAAAAAAAAAAAAAAAAAAAAAAAAAAAAAAAAAAAAAAAAAAAAAAAAAAAAAAAAAAAAAAAAAAAAAAAAAAAAAAAAAAAAAAAAAAAAAAAAAAAAAAAAAAAAAAAAAAAAAAAAAAAAAAAAAAAAAAAAAAAAAAAAAAAAAAAAAAAAAAAAAAAAAAAAAAAAAAAAAAAAAAAAAAAAAAAAAAAAAAAAAAAAAAAAAAAAAAAAAAAAAAAAAAAAAAAAAAAAAAAAAAAAAAAAAAAAAAAAAAAAAAAAAAAAAAAAAAAAAAAAAAAAAAAAAAAAAAAAAAAAAAAAAAAAAAAAAAAAAAAAAAAAAAAAAAAAAAAAAAAAAAAAAAAAAAAAAAAAAAAAAAAAAAAAAAAAAAAAAAAAAAAAAAAAAAAAAAAAAAAAAAAAAAAAAAAAAAAAAAAAAAAAAAAAAAAAAAAAAAAAAAAAAAAAAAAAAAAAAAAAAAAAAAAAAAAAAAAAAAAAAAAAAAAAAAAAAAAAAAAAAAAAAAAAAAAAAAAAAAAAAAAAAAAAAAAAAAAAAAAAAAAAAAAAAAAAAAAAAAAAAAAAAAAAAAAAAAAAAAAAAAAAAAAAAAAAAAAAAAAAAAAAAAAAAAAAAAAAAAAAAAAAAAAAAAAAAAAAAAAAAAAAAAAAAAAAAAAAAAAAAAAAAAAAAAAAAAAAAAAAAAAAAAAAAAAAAAAAAAAAAAAAAAAAAAAAAAAAAAAAAAAAAAAAAAAAAAAAAAAAAAAAAAAAAAAAAAAAAAAAAAAAAAAAAAAAAAAAAAAAAAAAAAAAAAAAAAAAAAAAAAAAAAAAAAAAAAAAAAAAAAAAAAAAAAAAAAAAAAAAAAAAAAAAAAAAAAAAAAAAAAAAAAAAAAAAAAAAAAAAAAAAAAAAAAAAAAAAAAAAAAAAAAAAAAAAAAAAAAAAAAAAAAAAAAAAAAAAAAAAAAAAAAAAAAAAAAAAAAAAAAAAAAAAAAAAAAAAAAAAAAAAAAAAAAAAAAAAAAAAAAAAAAAAAAAAAAAAAAAAAAAAAAAAAAAAAAAAAAAAAAAAAAAAAAAAAAAAAAAAAAAAAAAAAAAAAAAAAAAAAAAAAAAAAAAAAAAAAAAAAAAAAAAAAAAAAAAAAAAAAAAAAAAAAAAAAAAAAAAAAAAAAAAAAAAAAAAAAAAAAAAAAAAAAAAAAAAAAAAAAAAAAAAAAAAAAAAAAAAAAAAAAAAAAAAAAAAAAAAAAAAAAAAAAAAAAAAAAAAAAAAAAAAAAAAAAAAAAAAAAAAAAAAAAAAAAAAAAAAAAAAAAAAAAAAAAAAAAAAAAAAAAAAAAAAAAAAAAAAAAAAAAAAAAAAAAAAAAAAAAAAAAAAAAAAAAAAAAAAAAAAAAAAAAAAAAAAAAAAAAAAAAAAAAAAAAAAAAAAAAAAAAAAAAAAAAAAAAAAAAAAAAAAAAAAAAAAAAAAAAAAAAAAAAAAAAAAAAAAAAAAAAAAAAAAAAAAAAAAAAAAAAAAAAAAAAAAAAAAAAAAAAAAAAAAAAAAAAAAAAAAAAAAAAAAAAAAAAAAAAAAAAAAAAAAAAAAAAAAAAAAAAAAAAAAAAAAAAAAAAAAAAAAAAAAAAAAAAAAAAAAAAAAAAAAAAAAAAAAAAAAAAAAAAAAAAAAAAAAAAAAAAAAAAAAAAAAAAAAAAAAAAAAAAAAAAAAAAAAAAAAAAAAAAAAAAAAAAAAAAAAAAAAAAAAAAAAAAAAAAAAAAAAAAAAAAAAAAAAAAAAAAAAAAAAAAAAAAAAAAAAAAAAAAAAAAAAAAAAAAAAAAAAAAAAAAAAAAAAAAAAAAAAAAAAAAAAAAAAAAAAAAAAAAAAAAAAAAAAAAAAAAAAAAAAAAAAAAAAAAAAAAAAAAAAAAAAAAAAAAAAAAAAAAAAAAAAAAAAAAAAAAAAAAAAAAAAAAAAAAAAAAAAAAAAAAAAAAAAAAAAAAAAAAAAAAAAAAAAAAAAAAAAAAAAAAAAAAAAAAAAAAAAAAAAAAAAAAAAAAAAAAAAAAAAAAAAAAAAAAAAAAAAAAAAAAAAAAAAAAAAAAAAAAAAAAAAAAAAAAAAAAAAAAAAAAAAAAAAAAAAAAAAAAAAAAAAAAAAAAAAAAAAAAAAAAAAAAAAAAAAAAAAAAAAAAAAAAAAAAAAAAAAAAAAAAAAAAAAAAAAAAAAAAAAAAAAAAAAAAAAAAAAAAAAAAAAAAAAAAAAAAAAAAAAAAAAAAAAAAAAAAAAAAAAAAAAAAAAAAAAAAAAAAAAAAAAAAAAAAAAAAAAAAAAAAAAAAAAAAAAAAAAAAAAAAAAAAAAAAAAAAAAAAAAAAAAAAAAAAAAAAAAAAAAAAAAAAAAAAAAAAAAAAAAAAAAAAAAAAAAAAAAAAAAAAAAAAAAAAAAAAAAAAAAAAAAAAAAAAAAAAAAAAAAAAAAAAAAAAAAAAAAAAAAAAAAAAAAAAAAAAAAAAAAAAAAAAAAAAAAAAAAAAAAAAAAAAAAAAAAAAAAAAAAAAAAAAAAAAAAAAAAAAAAAAAAAAAAAAAAAAAAAAAAAAAAAAAAAAAAAAAAAAAAAAAAAAAAAAAAAAAAAAAAAAAAAAAAAAAAAAAAAAAAAAAAAAAAAAAAAAAAAAAAAAAAAAAAAAAAAAAAAAAAAAAAAAAAAAAAAAAAAAAAAAAAAAAAAAAAAAAAAAAAAAAAAAAAAAAAAAAAAAAAAAAAAAAAAAAAAAAAAAAAAAAAAAAAAAAAAAAAAAAAAAAAAAAAAAAAAAAAAAAAAAAAAAAAAAAAAAAAAAAAAAAAAAAAAAAAAAAAAAAAAAAAAAAAAAAAAAAAAAAAAAAAAAAAAAAAAAAAAAAAAAAAAAAAAAAAAAAAAAAAAAAAAAAAAAAAAAAAAAAAAAAAAAAAAAAAAAAAAAAAAAAAAAAAAAAAAAAAAAAAAAAAAAAAAAAAAAAAAAAAAAAAAAAAAAAAAAAAAAAAAAAAAAAAAAAAAAAAAAAAAAAAAAAAAAAAAAAAAAAAAAAAAAAAAAAAAAAAAAAAAAAAAAAAAAAAAAAAAAAAAAAAAAAAAAAAAAAAAAAAAAAAAAAAAAAAAAAAAAAAAAAAAAAAAAAAAAAAAAAAAAAAAAAAAAAAAAAAAAAAAAAAAAAAAAAAAAAAAAAAAAAAAAAAAAAAAAAAAAAAAAAAAAAAAAAAAAAAAAAAAAAAAAAAAAAAAAAAAAAAAAAAAAAAAAAAAAAAAAAAAAAAAAAAAAAAAAAAAAAAAAAAAAAAAAAAAAAAAAAAAAAAAAAAAAAAAAAAAAAAAAAAAAAAAAAAAAAAAAAAAAAAAAAAAAAAAAAAAAAAAAAAAAAAAAAAAAAAAAAAAAAAAAAAAAAAAAAAAAAAAAAAAAAAAAAAAAAAAAAAAAAAAAAAAAAAAAAAAAAAAAAAAAAAAAAAAAAAAAAAAAAAAAAAAAAAAAAAAAAAAAAAAAAAAAAAAAAAAAAAAAAAAAAAAAAAAAAAAAAAAAAAAAAAAAAAAAAAAAAAAAAAAAAAAAAAAAAAAAAAAAAAAAAAAAAAAAAAAAAAAAAAAAAAAAAAAAAAAAAAAAAAAAAAAAAAAAAAAAAAAAAAAAAAAAAAAAAAAAAAAAAAAAAAAAAAAAAAAAAAAAAAAAAAAAAAAAAAAAAAAAAAAAAAAAAAAAAAAAAAAAAAAAAAAAAAAAAAAAAAAAAAAAAAAAAAAAAAAAAAAAAAAAAAAAAAAAAAAAAAAAAAAAAAAAAAAAAAAAAAAAAAAAAAAAAAAAAAAAAAAAAAAAAAAAAAAAAAAAAAAAAAAAAAAAAAAAAAAAAAAAAAAAAAAAAAAAAAAAAAAAAAAAAAAAAAAAAAAAAAAAAAAAAAAAAAAAAAAAAAAAAAAAAAAAAAAAAAAAAAAAAAAAAAAAAAAAAAAAAAAAAAAAAAAAAAAAAAAAAAAAAAAAAAAAAAAAAAAAAAAAAAAAAAAAAAAAAAAAAAAAAAAAAAAAAAAAAAAAAAAAAAAAAAAAAAAAAAAAAAAAAAAAAAAAAAAAAAAAAAAAAAAAAAAAAAAAAAAAAAAAAAAAAAAAAAAAAAAAAAAAAAAAAAAAAAAAAAAAAAAAAAAAAAAAAAAAAAAAAAAAAAAAAAAAAAAAAAAAAAAAAAAAAAAAAAAAAAAAAAAAAAAAAAAAAAAAAAAAAAAAAAAAAAAAAAAAAAAAAAAAAAAAAAAAAAAAAAAAAAAAAAAAAAAAAAAAAAAAAAAAAAAAAAAAAAAAAAAAAAAAAAAAAAAAAAAAAAAAAAAAAAAAAAAAAAAAAAAAAAAAAAAAAAAAAAAAAAAAAAAAAAAAAAAAAAAAAAAAAAAAAAAAAAAAAAAAAAAAAAAAAAAAAAAAAAAAAAAAAAAAAAAAAAAAAAAAAAAAAAAAAAAAAAAAAAAAAAAAAAAAAAAAAAAAAAAAAAAAAAAAAAAAAAAAAAAAAAAAAAAAAAAAAAAAAAAAAAAAAAAAAAAAAAAAAAAAAAAAAAAAAAAAAAAAAAAAAAAAAAAAAAAAAAAAAAAAAAAAAAAAAAAAAAAAAAAAAAAAAAAAAAAAAAAAAAAAAAAAAAAAAAAAAAAAAAAAAAAAAAAAAAAAAAAAAAAAAAAAAAAAAAAAAAAAAAAAAAAAAAAAAAAAAAAAAAAAAAAAAAAAAAAAAAAAAAAAAAAAAAAAAAAAAAAAAAAAAAAAAAAAAAAAAAAAAAAAAAAAAAAAAAAAAAAAAAAAAAAAAAAAAAAAAAAAAAAAAAAAAAAAAAAAAAAAAAAAAAAAAAAAAAAAAAAAAAAAAAAAAAAAAAAAAAAAAAAAAAAAAAAAAAAAAAAAAAAAAAAAAAAAAAAAAAAAAAAAAAAAAAAAAAAAAAAAAAAAAAAAAAAAAAAAAAAAAAAAAAAAAAAAAAAAAAAAAAAAAAAAAAAAAAAAAAAAAAAAAAAAAAAAAAAAAAAAAAAAAAAAAAAAAAAAAAAAAAAAAAAAAAAAAAAAAAAAAAAAAAAAAAAAAAAAAAAAAAAAAAAAAAAAAAAAAAAAAAAAAAAAAAAAAAAAAAAAAAAAAAAAAAAAAAAAAAAAAAAAAAAAAAAAAAAAAAAAAAAAAAAAAAAAAAAAAAAAAAAAAAAAAAAAAAAAAAAAAAAAAAAAAAAAAAAAAAAAAAAAAAAAAAAAAAAAAAAAAAAAAAAAAAAAAAAAAAAAAAAAAAAAAAAAAAAAAAAAAAAAAAAAAAAAAAAAAAAAAAAAAAAAAAAAAAAAAAAAAAAAAAAAAAAAAAAAAAAAAAAAAAAAAAAAAAAAAAAAAAAAAAAAAAAAAAAAAAAAAAAAAAAAAAAAAAAAAAAAAAAAAAAAAAAAAAAAAAAAAAAAAAAAAAAAAAAAAAAAAAAAAAAAAAAAAAAAAAAAAAAAAAAAAAAAAAAAAAAAAAAAAAAAAAAAAAAAAAAAAAAAAAAAAAAAAAAAAAAAAAAAAAAAAAAAAAAAAAAAAAAAAAAAAAAAAAAAAAAAAAAAAAAAAAAAAAAAAAAAAAAAAAAAAAAAAAAAAAAAAAAAAAAAAAAAAAAAAAAAAAAAAAAAAAAAAAAAAAAAAAAAAAAAAAAAAAAAAAAAAAAAAAAAAAAAAAAAAAAAAAAAAAAAAAAAAAAAAAAAAAAAAAAAAAAAAAAAAAAAAAAAAAAAAAAAAAAAAAAAAAAAAAAAAAAAAAAAAAAAAAAAAAAAAAAAAAAAAAAAAAAAAAAAAAAAAAAAAAAAAAAAAAAAAAAAAAAAAAAAAAAAAAAAAAAAAAAAAAAAAAAAAAAAAAAAAAAAAAAAAAAAAAAAAAAAAAAAAAAAAAAAAAAAAAAAAAAAAAAAAAAAAAAAAAAAAAAAAAAAAAAAAAAAAAAAAAAAAAAAAAAAAAAAAAAAAAAAAAAAAAAAAAAAAAAAAAAAAAAAAAAAAAAAAAAAAAAAAAAAAAAAAAAAAAAAAAAAAAAAAAAAAAAAAAAAAAAAAAAAAAAAAAAAAAAAAAAAAAAAAAAAAAAAAAAAAAAAAAAAAAAAAAAAAAAAAAAAAAAAAAAAAAAAAAAAAAAAAAAAAAAAAAAAAAAAAAAAAAAAAAAAAAAAAAAAAAAAAAAAAAAAAAAAAAAAAAAAAAAAAAAAAAAAAAAAAAAAAAAAAAAAAAAAAAAAAAAAAAAAAAAAAAAAAAAAAAAAAAAAAAAAAAAAAAAAAAAAAAAAAAAAAAAAAAAAAAAAAAAAAAAAAAAAAAAAAAAAAAAAAAAAAAAAAAAAAAAAAAAAAAAAAAAAAAAAAAAAAAAAAAAAAAAAAAAAAAAAAAAAAAAAAAAAAAAAAAAAAAAAAAAAAAAAAAAAAAAAAAAAAAAAAAAAAAAAAAAAAAAAAAAAAAAAAAAAAAAAAAAAAAAAAAAAAAAAAAAAAAAAAAAAAAAAAAAAAAAAAAAAAAAAAAAAAAAAAAAAAAAAAAAAAAAAAAAAAAAAAAAAAAAAAAAAAAAAAAAAAAAAAAAAAAAAAAAAAAAAAAAAAAAAAAAAAAAAAAAAAAAAAAAAAAAAAAAAAAAAAAAAAAAAAAAAAAAAAAAAAAAAAAAAAAAAAAAAAAAAAAAAAAAAAAAAAAAAAAAAAAAAAAAAAAAAAAAAAAAAAAAAAAAAAAAAAAAAAAAAAAAAAAAAAAAAAAAAAAAAAAAAAAAAAAAAAAAAAAAAAAAAAAAAAAAAAAAAAAAAAAAAAAAAAAAAAAAAAAAAAAAAAAAAAAAAAAAAAAAAAAAAAAAAAAAAAAAAAAAAAAAAAAAAAAAAAAAAAAAAAAAAAAAAAAAAAAAAAAAAAAAAAAAAAAAAAAAAAAAAAAAAAAAAAAAAAAAAAAAAAAAAAAAAAAAAAAAAAAAAAAAAAAAAAAAAAAAAAAAAAAAAAAAAAAAAAAAAAAAAAAAAAAAAAAAAAAAAAAAAAAAAAAAAAAAAAAAAAAAAAAAAAAAAAAAAAAAAAAAAAAAAAAAAAAAAAAAAAAAAAAAAAAAAAAAAAAAAAAAAAAAAAAAAAAAAAAAAAAAAAAAAAAAAAAAAAAAAAAAAAAAAAAAAAAAAAAAAAAAAAAAAAAAAAAAAAAAAAAAAAAAAAAAAAAAAAAAAAAAAAAAAAAAAAAAAAAAAAAAAAAAAAAAAAAAAAAAAAAAAAAAAAAAAAAAAAAAAAAAAAAAAAAAAAAAAAAAAAAAAAAAAAAAAAAAAAAAAAAAAAAAAAAAAAAAAAAAAAAAAAAAAAAAAAAAAAAAAAAAAAAAAAAAAAAAAAAAAAAAAAAAAAAAAAAAAAAAAAAAAAAAAAAAAAAAAAAAAAAAAAAAAAAAAAAAAAAAAAAAAAAAAAAAAAAAAAAAAAAAAAAAAAAAAAAAAAAAAAAAAAAAAAAAAAAAAAAAAAAAAAAAAAAAAAAAAAAAAAAAAAAAAAAAAAAAAAAAAAAAAAAAAAAAAAAAAAAAAAAAAAAAAAAAAAAAAAAAAAAAAAAAAAAAAAAAAAAAAAAAAAAAAAAAAAAAAAAAAAAAAAAAAAAAAAAAAAAAAAAAAAAAAAAAAAAAAAAAAAAAAAAAAAAAAAAAAAAAAAAAAAAAAAAAAAAAAAAAAAAAAAAAAAAAAAAAAAAAAAAAAAAAAAAAAAAAAAAAAAAAAAAAAAAAAAAAAAAAAAAAAAAAAAAAAAAAAAAAAAAAAAAAAAAAAAAAAAAAAAAAAAAAAAAAAAAAAAAAAAAAAAAAAAAAAAAAAAAAAAAAAAAAAAAAAAAAAAAAAAAAAAAAAAAAAAAAAAAAAAAAAAAAAAAAAAAAAAAAAAAAAAAAAAAAAAAAAAAAAAAAAAAAAAAAAAAAAAAAAAAAAAAAAAAAAAAAAAAAAAAAAAAAAAAAAAAAAAAAAAAAAAAAAAAAAAAAAAAAAAAAAAAAAAAAAAAAAAAAAAAAAAAAAAAAAAAAAAAAAAAAAAAAAAAAAAAAAAAAAAAAAAAAAAAAAAAAAAAAAAAAAAAAAAAAAAAAAAAAAAAAAAAAAAAAAAAAAAAAAAAAAAAAAAAAAAAAAAAAAAAAAAAAAAAAAAAAAAAAAAAAAAAAAAAAAAAAAAAAAAAAAAAAAAAAAAAAAAAAAAAAAAAAAAAAAAAAAAAAAAAAAAAAAAAAAAAAAAAAAAAAAAAAAAAAAAAAAAAAAAAAAAAAAAAAAAAAAAAAAAAAAAAAAAAAAAAAAAAAAAAAAAAAAAAAAAAAAAAAAAAAAAAAAAAAAAAAAAAAAAAAAAAAAAAAAAAAAAAAAAAAAAAAAAAAAAAAAAAAAAAAAAAAAAAAAAAAAAAAAAAAAAAAAAAAAAAAAAAAAAAAAAAAAAAAAAAAAAAAAAAAAAAAAAAAAAAAAAAAAAAAAAAAAAAAAAAAAAAAAAAAAAAAAAAAAAAAAAAAAAAAAAAAAAAAAAAAAAAAAAAAAAAAAAAAAAAAAAAAAAAAAAAAAAAAAAAAAAAAAAAAAAAAAAAAAAAAAAAAAAAAAAAAAAAAAAAAAAAAAAAAAAAAAAAAAAAAAAAAAAAAAAAAAAAAAAAAAAAAAAAAAAAAAAAAAAAAAAAAAAAAAAAAAAAAAAAAAAAAAAAAAAAAAAAAAAAAAAAAAAAAAAAAAAAAAAAAAAAAAAAAAAAAAAAAAAAAAAAAAAAAAAAAAAAAAAAAAAAAAAAAAAAAAAAAAAAAAAAAAAAAAAAAAAAAAAAAAAAAAAAAAAAAAAAAAAAAAAAAAAAAAAAAAAAAAAAAAAAAAAAAAAAAAAAAAAAAAAAAAAAAAAAAAAAAAAAAAAAAAAAAAAAAAAAAAAAAAAAAAAAAAAAAAAAAAAAAAAAAAAAAAAAAAAAAAAAAAAAAAAAAAAAAAAAAAAAAAAAAAAAAAAAAAAAAAAAAAAAAAAAAAAAAAAAAAAAAAAAAAAAAAAAAAAAAAAAAAAAAAAAAAAAAAAAAAAAAAAAAAAAAAAAAAAAAAAAAAAAAAAAAAAAAAAAAAAAAAAAAAAAAAAAAAAAAAAAAAAAAAAAAAAAAAAAAAAAAAAAAAAAAAAAAAAAAAAAAAAAAAAAAAAAAAAAAAAAAAAAAAAAAAAAAAAAAAAAAAAAAAAAAAAAAAAAAAAAAAAAAAAAAAAAAAAAAAAAAAAAAAAAAAAAAAAAAAAAAAAAAAAAAAAAAAAAAAAAAAAAAAAAAAAAAAAAAAAAAAAAAAAAAAAAAAAAAAAAAAAAAAAAAAAAAAAAAAAAAAAAAAAAAAAAAAAAAAAAAAAAAAAAAAAAAAAAAAAAAAAAAAAAAAAAAAAAAAAAAAAAAAAAAAAAAAAAAAAAAAAAAAAAAAAAAAAAAAAAAAAAAAAAAAAAAAAAAAAAAAAAAAAAAAAAAAAAAAAAAAAAAAAAAAAAAAAAAAAAAAAAAAAAAAAAAAAAAAAAAAAAAAAAAAAAAAAAAAAAAAAAAAAAAAAAAAAAAAAAAAAAAAAAAAAAAAAAAAAAAAAAAAAAAAAAAAAAAAAAAAAAAAAAAAAAAAAAAAAAAAAAAAAAAAAAAAAAAAAAAAAAAAAAAAAAAAAAAAAAAAAAAAAAAAAAAAAAAAAAAAAAAAAAAAAAAAAAAAAAAAAAAAAAAAAAAAAAAAAAAAAAAAAAAAAAAAAAAAAAAAAAAAAAAAAAAAAAAAAAAAAAAAAAAAAAAAAAAAAAAAAAAAAAAAAAAAAAAAAAAAAAAAAAAAAAAAAAAAAAAAAAAAAAAAAAAAAAAAAAAAAAAAAAAAAAAAAAAAAAAAAAAAAAAAAAAAAAAAAAAAAAAAAAAAAAAAAAAAAAAAAAAAAAAAAAAAAAAAAAAAAAAAAAAAAAAAAAAAAAAAAAAAAAAAAAAAAAAAAAAAAAAAAAAAAAAAAAAAAAAAAAAAAAAAAAAAAAAAAAAAAAAAAAAAAAAAAAAAAAAAAAAAAAAAAAAAAAAAAAAAAAAAAAAAAAAAAAAAAAAAAAAAAAAAAAAAAAAAAAAAAAAAAAAAAAAAAAAAAAAAAAAAAAAAAAAAAAAAAAAAAAAAAAAAAAAAAAAAAAAAAAAAAAAAAAAAAAAAAAAAAAAAAAAAAAAAAAAAAAAAAAAAAAAAAAAAAAAAAAAAAAAAAAAAAAAAAAAAAAAAAAAAAAAAAAAAAAAAAAAAAAAAAAAAAAAAAAAAAAAAAAAAAAAAAAAAAAAAAAAAAAAAAAAAAAAAAAAAAAAAAAAAAAAAAAAAAAAAAAAAAAAAAAAAAAAAAAAAAAAAAAAAAAAAAAAAAAAAAAAAAAAAAAAAAAAAAAAAAAAAAAAAAAAAAAAAAAAAAAAAAAAAAAAAAAAAAAAAAAAAAAAAAAAAAAAAAAAAAAAAAAAAAAAAAAAAAAAAAAAAAAAAAAAAAAAAAAAAAAAAAAAAAAAAAAAAAAAAAAAAAAAAAAAAAAAAAAAAAAAAAAAAAAAAAAAAAAAAAAAAAAAAAAAAAAAAAAAAAAAAAAAAAAAAAAAAAAAAAAAAAAAAAAAAAAAAAAAAAAAAAAAAAAAAAAAAAAAAAAAAAAAAAAAAAAAAAAAAAAAAAAAAAAAAAAAAAAAAAAAAAAAAAAAAAAAAAAAAAAAAAAAAAAAAAAAAAAAAAAAAAAAAAAAAAAAAAAAAAAAAAAAAAAAAAAAAAAAAAAAAAAAAAAAAAAAAAAAAAAAAAAAAAAAAAAAAAAAAAAAAAAAAAAAAAAAAAAAAAAAAAAAAAAAAAAAAAAAAAAAAAAAAAAAAAAAAAAAAAAAAAAAAAAAAAAAAAAAAAAAAAAAAAAAAAAAAAAAAAAAAAAAAAAAAAAAAAAAAAAAAAAAAAAAAAAAAAAAAAAAAAAAAAAAAAAAAAAAAAAAAAAAAAAAAAAAAAAAAAAAAAAAAAAAAAAAAAAAAAAAAAAAAAAAAAAAAAAAAAAAAAAAAAAAAAAAAAAAAAAAAAAAAAAAAAAAAAAAAAAAAAAAAAAAAAAAAAAAAAAAAAAAAAAAAAAAAAAAAAAAAAAAAAAAAAAAAAAAAAAAAAAAAAAAAAAAAAAAAAAAAAAAAAAAAAAAAAAAAAAAAAAAAAAAAAAAAAAAAAAAAAAAAAAAAAAAAAAAAAAAAAAAAAAAAAAAAAAAAAAAAAAAAAAAAAAAAAAAAAAAAAAAAAAAAAAAAAAAAAAAAAAAAAAAAAAAAAAAAAAAAAAAAAAAAAAAAAAAAAAAAAAAAAAAAAAAAAAAAAAAAAAAAAAAAAAAAAAAAAAAAAAAAAAAAAAAAAAAAAAAAAAAAAAAAAAAAAAAAAAAAAAAAAAAAAAAAAAAAAAAAAAAAAAAAAAAAAAAAAAAAAAAAAAAAAAAAAAAAAAAAAAAAAAAAAAAAAAAAAAAAAAAAAAAAAAAAAAAAAAAAAAAAAAAAAAAAAAAAAAAAAAAAAAAAAAAAAAAAAAAAAAAAAAAAAAAAAAAAAAAAAAAAAAAAAAAAAAAAAAAAAAAAAAAAAAAAAAAAAAAAAAAAAAAAAAAAAAAAAAAAAAAAAAAAAAAAAAAAAAAAAAAAAAAAAAAAAAAAAAAAAAAAAAAAAAAAAAAAAAAAAAAAAAAAAAAAAAAAAAAAAAAAAAAAAAAAAAAAAAAAAAAAAAAAAAAAAAAAAAAAAAAAAAAAAAAAAAAAAAAAAAAAAAAAAAAAAAAAAAAAAAAAAAAAAAAAAAAAAAAAAAAAAAAAAAAAAAAAAAAAAAAAAAAAAAAAAAAAAAAAAAAAAAAAAAAAAAAAAAAAAAAAAAAAAAAAAAAAAAAAAAAAAAAAAAAAAAAAAAAAAAAAAAAAAAAAAAAAAAAAAAAAAAAAAAAAAAAAAAAAAAAAAAAAAAAAAAAAAAAAAAAAAAAAAAAAAAAAAAAAAAAAAAAAAAAAAAAAAAAAAAAAAAAAAAAAAAAAAAAAAAAAAAAAAAAAAAAAAAAAAAAAAAAAAAAAAAAAAAAAAAAAAAAAAAAAAAAAAAAAAAAAAAAAAAAAAAAAAAAAAAAAAAAAAAAAAAAAAAAAAAAAAAAAAAAAAAAAAAAAAAAAAAAAAAAAAAAAAAAAAAAAAAAAAAAAAAAAAAAAAAAAAAAAAAAAAAAAAAAAAAAAAAAAAAAAAAAAAAAAAAAAAAAAAAAAAAAAAAAAAAAAAAAAAAAAAAAAAAAAAAAAAAAAAAAAAAAAAAAAAAAAAAAAAAAAAAAAAAAAAAAAAAAAAAAAAAAAAAAAAAAAAAAAAAAAAAAAAAAAAAAAAAAAAAAAAAAAAAAAAAAAAAAAAAAAAAAAAAAAAAAAAAAAAAAAAAAAAAAAAAAAAAAAAAAAAAAAAAAAAAAAAAAAAAAAAAAAAAAAAAAAAAAAAAAAAAAAAAAAAAAAAAAAAAAAAAAAAAAAAAAAAAAAAAAAAAAAAAAAAAAAAAAAAAAAAAAAAAAAAAAAAAAAAAAAAAAAAAAAAAAAAAAAAAAAAAAAAAAAAAAAAAAAAAAAAAAAAAAAAAAAAAAAAAAAAAAAAAAAAAAAAAAAAAAAAAAAAAAAAAAAAAAAAAAAAAAAAAAAAAAAAAAAAAAAAAAAAAAAAAAAAAAAAAAAAAAAAAAAAAAAAAAAAAAAAAAAAAAAAAAAAAAAAAAAAAAAAAAAAAAAAAAAAAAAAAAAAAAAAAAAAAAAAAAAAAAAAAAAAAAAAAAAAAAAAAAAAAAAAAAAAAAAAAAAAAAAAAAAAAAAAAAAAAAAAAAAAAAAAAAAAAAAAAAAAAAAAAAAAAAAAAAAAAAAAAAAAAAAAAAAAAAAAAAAAAAAAAAAAAAAAAAAAAAAAAAAAAAAAAAAAAAAAAAAAAAAAAAAAAAAAAAAAAAAAAAAAAAAAAAAAAAAAAAAAAAAAAAAAAAAAAAAAAAAAAAAAAAAAAAAAAAAAAAAAAAAAAAAAAAAAAAAAAAAAAAAAAAAAAAAAAAAAAAAAAAAAAAAAAAAAAAAAAAAAAAAAAAAAAAAAAAAAAAAAAAAAAAAAAAAAAAAAAAAAAAAAAAAAAAAAAAAAAAAAAAAAAAAAAAAAAAAAAAAAAAAAAAAAAAAAAAAAAAAAAAAAAAAAAAAAAAAAAAAAAAAAAAAAAAAAAAAAAAAAAAAAAAAAAAAAAAAAAAAAAAAAAAAAAAAAAAAAAAAAAAAAAAAAAAAAAAAAAAAAAAAAAAAAAAAAAAAAAAAAAAAAAAAAAAAAAAAAAAAAAAAAAAAAAAAAAAAAAAAAAAAAAAAAAAAAAAAAAAAAAAAAAAAAAAAAAAAAAAAAAAAAAAAAAAAAAAAAAAAAAAAAAAAAAAAAAAAAAAAAAAAAAAAAAAAAAAAAAAAAAAAAAAAAAAAAAAAAAAAAAAAAAAAAAAAAAAAAAAAAAAAAAAAAAAAAAAAAAAAAAAAAAAAAAAAAAAAAAAAAAAAAAAAAAAAAAAAAAAAAAAAAAAAAAAAAAAAAAAAAAAAAAAAAAAAAAAAAAAAAAAAAAAAAAAAAAAAAAAAAAAAAAAAAAAAAAAAAAAAAAAAAAAAAAAAAAAAAAAAAAAAAAAAAAAAAAAAAAAAAAAAAAAAAAAAAAAAAAAAAAAAAAAAAAAAAAAAAAAAAAAAAAAAAAAAAAAAAAAAAAAAAAAAAAAAAAAAAAAAAAAAAAAAAAAAAAAAAAAAAAAAAAAAAAAAAAAAAAAAAAAAAAAAAAAAAAAAAAAAAAAAAAAAAAAAAAAAAAAAAAAAAAAAAAAAAAAAAAAAAAAAAAAAAAAAAAAAAAAAAAAAAAAAAAAAAAAAAAAAAAAAAAAAAAAAAAAAAAAAAAAAAAAAAAAAAAAAAAAAAAAAAAAAAAAAAAAAAAAAAAAAAAAAAAAAAAAAAAAAAAAAAAAAAAAAAAAAAAAAAAAAAAAAAAAAAAAAAAAAAAAAAAAAAAAAAAAAAAAAAAAAAAAAAAAAAAAAAAAAAAAAAAAAAAAAAAAAAAAAAAAAAAAAAAAAAAAAAAAAAAAAAAAAAAAAAAAAAAAAAAAAAAAAAAAAAAAAAAAAAAAAAAAAAAAAAAAAAAAAAAAAAAAAAAAAAAAAAAAAAAAAAAAAAAAAAAAAAAAAAAAAAAAAAAAAAAAAAAAAAAAAAAAAAAAAAAAAAAAAAAAAAAAAAAAAAAAAAAAAAAAAAAAAAAAAAAAAAAAAAAAAAAAAAAAAAAAAAAAAAAAAAAAAAAAAAAAAAAAAAAAAAAAAAAAAAAAAAAAAAAAAAAAAAAAAAAAAAAAAAAAAAAAAAAAAAAAAAAAAAAAAAAAAAAAAAAAAAAAAAAAAAAAAAAAAAAAAAAAAAAAAAAAAAAAAAAAAAAAAAAAAAAAAAAAAAAAAAAAAAAAAAAAAAAAAAAAAAAAAAAAAAAAAAAAAAAAAAAAAAAAAAAAAAAAAAAAAAAAAAAAAAAAAAAAAAAAAAAAAAAAAAAAAAAAAAAAAAAAAAAAAAAAAAAAAAAAAAAAAAAAAAAAAAAAAAAAAAAAAAAAAAAAAAAAAAAAAAAAAAAAAAAAAAAAAAAAAAAAAAAAAAAAAAAAAAAAAAAAAAAAAAAAAAAAAAAAAAAAAAAAAAAAAAAAAAAAAAAAAAAAAAAAAAAAAAAAAAAAAAAAAAAAAAAAAAAAAAAAAAAAAAAAAAAAAAAAAAAAAAAAAAAAAAAAAAAAAAAAAAAAAAAAAAAAAAAAAAAAAAAAAAAAAAAAAAAAAAAAAAAAAAAAAAAAAAAAAAAAAAAAAAAAAAAAAAAAAAAAAAAAAAAAAAAAAAAAAAAAAAAAAAAAAAAAAAAAAAAAAAAAAAAAAAAAAAAAAAAAAAAAAAAAAAAAAAAAAAAAAAAAAAAAAAAAAAAAAAAAAAAAAAAAAAAAAAAAAAAAAAAAAAAAAAAAAAAAAAAAAAAAAAAAAAAAAAAAAAAAAAAAAAAAAAAAAAAAAAAAAAAAAAAAAAAAAAAAAAAAAAAAAAAAAAAAAAAAAAAAAAAAAAAAAAAAAAAAAAAAAAAAAAAAAAAAAAAAAAAAAAAAAAAAAAAAAAAAAAAAAAAAAAAAAAAAAAAAAAAAAAAAAAAAAAAAAAAAAAAAAAAAAAAAAAAAAAAAAAAAAAAAAAAAAAAAAAAAAAAAAAAAAAAAAAAAAAAAAAAAAAAAAAAAAAAAAAAAAAAAAAAAAAAAAAAAAAAAAAAAAAAAAAAAAAAAAAAAAAAAAAAAAAAAAAAAAAAAAAAAAAAAAAAAAAAAAAAAAAAAAAAAAAAAAAAAAAAAAAAAAAAAAAAAAAAAAAAAAAAAAAAAAAAAAAAAAAAAAAAAAAAAAAAAAAAAAAAAAAAAAAAAAAAAAAAAAAAAAAAAAAAAAAAAAAAAAAAAAAAAAAAAAAAAAAAAAAAAAAAAAAAAAAAAAAAAAAAAAAAAAAAAAAAAAAAAAAAAAAAAAAAAAAAAAAAAAAAAAAAAAAAAAAAAAAAAAAAAAAAAAAAAAAAAAAAAAAAAAAAAAAAAAAAAAAAAAAAAAAAAAAAAAAAAAAAAAAAAAAAAAAAAAAAAAAAAAAAAAAAAAAAAAAAAAAAAAAAAAAAAAAAAAAAAAAAAAAAAAAAAAAAAAAAAAAAAAAAAAAAAAAAAAAAAAAAAAAAAAAAAAAAAAAAAAAAAAAAAAAAAAAAAAAAAAAAAAAAAAAAAAAAAAAAAAAAAAAAAAAAAAAAAAAAAAAAAAAAAAAAAAAAAAAAAAAAAAAAAAAAAAAAAAAAAAAAAAAAAAAAAAAAAAAAAAAAAAAAAAAAAAAAAAAAAAAAAAAAAAAAAAAAAAAAAAAAAAAAAAAAAAAAAAAAAAAAAAAAAAAAAAAAAAAAAAAAAAAAAAAAAAAAAAAAAAAAAAAAAAAAAAAAAAAAAAAAAAAAAAAAAAAAAAAAAAAAAAAAAAAAAAAAAAAAAAAAAAAAAAAAAAAAAAAAAAAAAAAAAAAAAAAAAAAAAAAAAAAAAAAAAAAAAAAAAAAAAAAAAAAAAAAAAAAAAAAAAAAAAAAAAAAAAAAAAAAAAAAAAAAAAAAAAAAAAAAAAAAAAAAAAAAAAAAAAAAAAAAAAAAAAAAAAAAAAAAAAAAAAAAAAAAAAAAAAAAAAAAAAAAAAAAAAAAAAAAAAAAAAAAAAAAAAAAAAAAAAAAAAAAAAAAAAAAAAAAAAAAAAAAAAAAAAAAAAAAAAAAAAAAAAAAAAAAAAAAAAAAAAAAAAAAAAAAAAAAAAAAAAAAAAAAAAAAAAAAAAAAAAAAAAAAAAAAAAAAAAAAAAAAAAAAAAAAAAAAAAAAAAAAAAAAAAAAAAAAAAAAAAAAAAAAAAAAAAAAAAAAAAAAAAAAAAAAAAAAAAAAAAAAAAAAAAAAAAAAAAAAAAAAAAAAAAAAAAAAAAAAAAAAAAAAAAAAAAAAAAAAAAAAAAAAAAAAAAAAAAAAAAAAAAAAAAAAAAAAAAAAAAAAAAAAAAAAAAAAAAAAAAAAAAAAAAAAAAAAAAAAAAAAAAAAAAAAAAAAAAAAAAAAAAAAAAAAAAAAAAAAAAAAAAAAAAAAAAAAAAAAAAAAAAAAAAAAAAAAAAAAAAAAAAAAAAAAAAAAAAAAAAAAAAAAAAAAAAAAAAAAAAAAAAAAAAAAAAAAAAAAAAAAAAAAAAAAAAAAAAAAAAAAAAAAAAAAAAAAAAAAAAAAAAAAAAAAAAAAAAAAAAAAAAAAAAAAAAAAAAAAAAAAAAAAAAAAAAAAAAAAAAAAAAAAAAAAAAAAAAAAAAAAAAAAAAAAAAAAAAAAAAAAAAAAAAAAAAAAAAAAAAAAAAAAAAAAAAAAAAAAAAAAAAAAAAAAAAAAAAAAAAAAAAAAAAAAAAAAAAAAAAAAAAAAAAAAAAAAAAAAAAAAAAAAAAAAAAAAAAAAAAAAAAAAAAAAAAAAAAAAAAAAAAAAAAAAAAAAAAAAAAAAAAAAAAAAAAAAAAAAAAAAAAAAAAAAAAAAAAAAAAAAAAAAAAAAAAAAAAAAAAAAAAAAAAAAAAAAAAAAAAAAAAAAAAAAAAAAAAAAAAAAAAAAAAAAAAAAAAAAAAAAAAAAAAAAAAAAAAAAAAAAAAAAAAAAAAAAAAAAAAAAAAAAAAAAAAAAAAAAAAAAAAAAAAAAAAAAAAAAAAAAAAAAAAAAAAAAAAAAAAAAAAAAAAAAAAAAAAAAAAAAAAAAAAAAAAAAAAAAAAAAAAAAAAAAAAAAAAAAAAAAAAAAAAAAAAAAAAAAAAAAAAAAAAAAAAAAAAAAAAAAAAAAAAAAAAAAAAAAAAAAAAAAAAAAAAAAAAAAAAAAAAAAAAAAAAAAAAAAAAAAAAAAAAAAAAAAAAAAAAAAAAAAAAAAAAAAAAAAAAAAAAAAAAAAAAAAAAAAAAAAAAAAAAAAAAAAAAAAAAAAAAAAAAAAAAAAAAAAAAAAAAAAAAAAAAAAAAAAAAAAAAAAAAAAAAAAAAAAAAAAAAAAAAAAAAAAAAAAAAAAAAAAAAAAAAAAAAAAAAAAAAAAAAAAAAAAAAAAAAAAAAAAAAAAAAAAAAAAAAAAAAAAAAAAAAAAAAAAAAAAAAAAAAAAAAAAAAAAAAAAAAAAAAAAAAAAAAAAAAAAAAAAAAAAAAAAAAAAAAAAAAAAAAAAAAAAAAAAAAAAAAAAAAAAAAAAAAAAAAAAAAAAAAAAAAAAAAAAAAAAAAAAAAAAAAAAAAAAAAAAAAAAAAAAAAAAAAAAAAAAAAAAAAAAAAAAAAAAAAAAAAAAAAAAAAAAAAAAAAAAAAAAAAAAAAAAAAAAAAAAAAAAAAAAAAAAAAAAAAAAAAAAAAAAAAAAAAAAAAAAAAAAAAAAAAAAAAAAAAAAAAAAAAAAAAAAAAAAAAAAAAAAAAAAAAAAAAAAAAAAAAAAAAAAAAAAAAAAAAAAAAAAAAAAAAAAAAAAAAAAAAAAAAAAAAAAAAAAAAAAAAAAAAAAAAAAAAAAAAAAAAAAAAAAAAAAAAAAAAAAAAAAAAAAAAAAAAAAAAAAAAAAAAAAAAAAAAAAAAAAAAAAAAAAAAAAAAAAAAAAAAAAAAAAAAAAAAAAAAAAAAAAAAAAAAAAAAAAAAAAAAAAAAAAAAAAAAAAAAAAAAAAAAAAAAAAAAAAAAAAAAAAAAAAAAAAAAAAAAAAAAAAAAAAAAAAAAAAAAAAAAAAAAAAAAAAAAAAAAAAAAAAAAAAAAAAAAAAAAAAAAAAAAAAAAAAAAAAAAAAAAAAAAAAAAAAAAAAAAAAAAAAAAAAAAAAAAAAAAAAAAAAAAAAAAAAAAAAAAAAAAAAAAAAAAAAAAAAAAAAAAAAAAAAAAAAAAAAAAAAAAAAAAAAAAAAAAAAAAAAAAAAAAAAAAAAAAAAAAAAAAAAAAAAAAAAAAAAAAAAAAAAAAAAAAAAAAAAAAAAAAAAAAAAAAAAAAAAAAAAAAAAAAAAAAAAAAAAAAAAAAAAAAAAAAAAAAAAAAAAAAAAAAAAAAAAAAAAAAAAAAAAAAAAAAAAAAAAAAAAAAAAAAAAAAAAAAAAAAAAAAAAAAAAAAAAAAAAAAAAAAAAAAAAAAAAAAAAAAAAAAAAAAAAAAAAAAAAAAAAAAAAAAAAAAAAAAAAAAAAAAAAAAAAAAAAAAAAAAAAAAAAAAAAAAAAAAAAAAAAAAAAAAAAAAAAAAAAAAAAAAAAAAAAAAAAAAAAAAAAAAAAAAAAAAAAAAAAAAAAAAAAAAAAAAAAAAAAAAAAAAAAAAAAAAAAAAAAAAAAAAAAAAAAAAAAAAAAAAAAAAAAAAAAAAAAAAAAAAAAAAAAAAAAAAAAAAAAAAAAAAAAAAAAAAAAAAAAAAAAAAAAAAAAAAAAAAAAAAAAAAAAAAAAAAAAAAAAAAAAAAAAAAAAAAAAAAAAAAAAAAAAAAAAAAAAAAAAAAAAAAAAAAAAAAAAAAAAAAAAAAAAAAAAAAAAAAAAAAAAAAAAAAAAAAAAAAAAAAAAAAAAAAAAAAAAAAAAAAAAAAAAAAAAAAAAAAAAAAAAAAAAAAAAAAAAAAAAAAAAAAAAAAAAAAAAAAAAAAAAAAAAAAAAAAAAAAAAAAAAAAAAAAAAAAAAAAAAAAAAAAAAAAAAAAAAAAAAAAAAAAAAAAAAAAAAAAAAAAAAAAAAAAAAAAAAAAAAAAAAAAAAAAAAAAAAAAAAAAAAAAAAAAAAAAAAAAAAAAAAAAAAAAAAAAAAAAAAAAAAAAAAAAAAAAAAAAAAAAAAAAAAAAAAAAAAAAAAAAAAAAAAAAAAAAAAAAAAAAAAAAAAAAAAAAAAAAAAAAAAAAAAAAAAAAAAAAAAAAAAAAAAAAAAAAAAAAAAAAAAAAAAAAAAAAAAAAAAAAAAAAAAAAAAAAAAAAAAAAAAAAAAAAAAAAAAAAAAAAAAAAAAAAAAAAAAAAAAAAAAAAAAAAAAAAAAAAAAAAAAAAAAAAAAAAAAAAAAAAAAAAAAAAAAAAAAAAAAAAAAAAAAAAAAAAAAAAAAAAAAAAAAAAAAAAAAAAAAAAAAAAAAAAAAAAAAAAAAAAAAAAAAAAAAAAAAAAAAAAAAAAAAAAAAAAAAAAAAAAAAAAAAAAAAAAAAAAAAAAAAAAAAAAAAAAAAAAAAAAAAAAAAAAAAAAAAAAAAAAAAAAAAAAAAAAAAAAAAAAAAAAAAAAAAAAAAAAAAAAAAAAAAAAAAAAAAAAAAAAAAAAAAAAAAAAAAAAAAAAAAAAAAAAAAAAAAAAAAAAAAAAAAAAAAAAAAAAAAAAAAAAAAAAAAAAAAAAAAAAAAAAAAAAAAAAAAAAAAAAAAAAAAAAAAAAAAAAAAAAAAAAAAAAAAAAAAAAAAAAAAAAAAAAAAAAAAAAAAAAAAAAAAAAAAAAAAAAAAAAAAAAAAAAAAAAAAAAAAAAAAAAAAAAAAAAAAAAAAAAAAAAAAAAAAAAAAAAAAAAAAAAAAAAAAAAAAAAAAAAAAAAAAAAAAAAAAAAAAAAAAAAAAAAAAAAAAAAAAAAAAAAAAAAAAAAAAAAAAAAAAAAAAAAAAAAAAAAAAAAAAAAAAAAAAAAAAAAAAAAAAAAAAAAAAAAAAAAAAAAAAAAAAAAAAAAAAAAAAAAAAAAAAAAAAAAAAAAAAAAAAAAAAAAAAAAAAAAAAAAAAAAAAAAAAAAAAAAAAAAAAAAAAAAAAAAAAAAAAAAAAAAAAAAAAAAAAAAAAAAAAAAAAAAAAAAAAAAAAAAAAAAAAAAAAAAAAAAAAAAAAAAAAAAAAAAAAAAAAAAAAAAAAAAAAAAAAAAAAAAAAAAAAAAAAAAAAAAAAAAAAAAAAAAAAAAAAAAAAAAAAAAAAAAAAAAAAAAAAAAAAAAAAAAAAAAAAAAAAAAAAAAAAAAAAAAAAAAAAAAAAAAAAAAAAAAAAAAAAAAAAAAAAAAAAAAAAAAAAAAAAAAAAAAAAAAAAAAAAAAAAAAAAAAAAAAAAAAAAAAAAAAAAAAAAAAAAAAAAAAAAAAAAAAAAAAAAAAAAAAAAAAAAAAAAAAAAAAAAAAAAAAAAAAAAAAAAAAAAAAAAAAAAAAAAAAAAAAAAAAAAAAAAAAAAAAAAAAAAAAAAAAAAAAAAAAAAAAAAAAAAAAAAAAAAAAAAAAAAAAAAAAAAAAAAAAAAAAAAAAAAAAAAAAAAAAAAAAAAAAAAAAAAAAAAAAAAAAAAAAAAAAAAAAAAAAAAAAAAAAAAAAAAAAAAAAAAAAAAAAAAAAAAAAAAAAAAAAAAAAAAAAAAAAAAAAAAAAAAAAAAAAAAAAAAAAAAAAAAAAAAAAAAAAAAAAAAAAAAAAAAAAAAAAAAAAAAAAAAAAAAAAAAAAAAAAAAAAAAAAAAAAAAAAAAAAAAAAAAAAAAAAAAAAAAAAAAAAAAAAAAAAAAAAAAAAAAAAAAAAAAAAAAAAAAAAAAAAAAAAAAAAAAAAAAAAAAAAAAAAAAAAAAAAAAAAAAAAAAAAAAAAAAAAAAAAAAAAAAAAAAAAAAAAAAAAAAAAAAAAAAAAAAAAAAAAAAAAAAAAAAAAAAAAAAAAAAAAAAAAAAAAAAAAAAAAAAAAAAAAAAAAAAAAAAAAAAAAAAAAAAAAAAAAAAAAAAAAAAAAAAAAAAAAAAAAAAAAAAAAAAAAAAAAAAAAAAAAAAAAAAAAAAAAAAAAAAAAAAAAAAAAAAAAAAAAAAAAAAAAAAAAAAAAAAAAAAAAAAAAAAAAAAAAAAAAAAAAAAAAAAAAAAAAAAAAAAAAAAAAAAAAAAAAAAAAAAAAAAAAAAAAAAAAAAAAAAAAAAAAAAAAAAAAAAAAAAAAAAAAAAAAAAAAAAAAAAAAAAAAAAAAAAAAAAAAAAAAAAAAAAAAAAAAAAAAAAAAAAAAAAAAAAAAAAAAAAAAAAAAAAAAAAAAAAAAAAAAAAAAAAAAAAAAAAAAAAAAAAAAAAAAAAAAAAAAAAAAAAAAAAAAAAAAAAAAAAAAAAAAAAAAAAAAAAAAAAAAAAAAAAAAAAAAAAAAAAAAAAAAAAAAAAAAAAAAAAAAAAAAAAAAAAAAAAAAAAAAAAAAAAAAAAAAAAAAAAAAAAAAAAAAAAAAAAAAAAAAAAAAAAAAAAAAAAAAAAAAAAAAAAAAAAAAAAAAAAAAAAAAAAAAAAAAAAAAAAAAAAAAAAAAAAAAAAAAAAAAAAAAAAAAAAAAAAAAAAAAAAAAAAAAAAAAAAAAAAAAAAAAAAAAAAAAAAAAAAAAAAAAAAAAAAAAAAAAAAAAAAAAAAAAAAAAAAAAAAAAAAAAAAAAAAAAAAAAAAAAAAAAAAAAAAAAAAAAAAAAAAAAAAAAAAAAAAAAAAAAAAAAAAAAAAAAAAAAAAAAAAAAAAAAAAAAAAAAAAAAAAAAAAAAAAAAAAAAAAAAAAAAAAAAAAAAAAAAAAAAAAAAAAAAAAAAAAAAAAAAAAAAAAAAAAAAAAAAAAAAAAAAAAAAAAAAAAAAAAAAAAAAAAAAAAAAAAAAAAAAAAAAAAAAAAAAAAAAAAAAAAAAAAAAAAAAAAAAAAAAAAAAAAAAAAAAAAAAAAAAAAAAAAAAAAAAAAAAAAAAAAAAAAAAAAAAAAAAAAAAAAAAAAAAAAAAAAAAAAAAAAAAAAAAAAAAAAAAAAAAAAAAAAAAAAAAAAAAAAAAAAAAAAAAAAAAAAAAAAAAAAAAAAAAAAAAAAAAAAAAAAAAAAAAAAAAAAAAAAAAAAAAAAAAAAAAAAAAAAAAAAAAAAAAAAAAAAAAAAAAAAAAAAAAAAAAAAAAAAAAAAAAAAAAAAAAAAAAAAAAAAAAAAAAAAAAAAAAAAAAAAAAAAAAAAAAAAAAAAAAAAAAAAAAAAAAAAAAAAAAAAAAAAAAAAAAAAAAAAAAAAAAAAAAAAAAAAAAAAAAAAAAAAAAAAAAAAAAAAAAAAAAAAAAAAAAAAAAAAAAAAAAAAAAAAAAAAAAAAAAAAAAAAAAAAAAAAAAAAAAAAAAAAAAAAAAAAAAAAAAAAAAAAAAAAAAAAAAAAAAAAAAAAAAAAAAAAAAAAAAAAAAAAAAAAAAAAAAAAAAAAAAAAAAAAAAAAAAAAAAAAAAAAAAAAAAAAAAAAAAAAAAAAAAAAAAAAAAAAAAAAAAAAAAAAAAAAAAAAAAAAAAAAAAAAAAAAAAAAAAAAAAAAAAAAAAAAAAAAAAAAAAAAAAAAAAAAAAAAAAAAAAAAAAAAAAAAAAAAAAAAAAAAAAAAAAAAAAAAAAAAAAAAAAAAAAAAAAAAAAAAAAAAAAAAAAAAAAAAAAAAAAAAAAAAAAAAAAAAAAAAAAAAAAAAAAAAAAAAAAAAAAAAAAAAAAAAAAAAAAAAAAAAAAAAAAAAAAAAAAAAAAAAAAAAAAAAAAAAAAAAAAAAAAAAAAAAAAAAAAAAAAAAAAAAAAAAAAAAAAAAAAAAAAAAAAAAAAAAAAAAAAAAAAAAAAAAAAAAAAAAAAAAAAAAAAAAAAAAAAAAAAAAAAAAAAAAAAAAAAAAAAAAAAAAAAAAAAAAAAAAAAAAAAAAAAAAAAAAAAAAAAAAAAAAAAAAAAAAAAAAAAAAAAAAAAAAAAAAAAAAAAAAAAAAAAAAAAAAAAAAAAAAAAAAAAAAAAAAAAAAAAAAAAAAAAAAAAAAAAAAAAAAAAAAAAAAAAAAAAAAAAAAAAAAAAAAAAAAAAAAAAAAAAAAAAAAAAAAAAAAAAAAAAAAAAAAAAAAAAAAAAAAAAAAAAAAAAAAAAAAAAAAAAAAAAAAAAAAAAAAAAAAAAAAAAAAAAAAAAAAAAAAAAAAAAAAAAAAAAAAAAAAAAAAAAAAAAAAAAAAAAAAAAAAAAAAAAAAAAAAAAAAAAAAAAAAAAAAAAAAAAAAAAAAAAAAAAAAAAAAAAAAAAAAAAAAAAAAAAAAAAAAAAAAAAAAAAAAAAAAAAAAAAAAAAAAAAAAAAAAAAAAAAAAAAAAAAAAAAAAAAAAAAAAAAAAAAAAAAAAAAAAAAAAAAAAAAAAAAAAAAAAAAAAAAAAAAAAAAAAAAAAAAAAAAAAAAAAAAAAAAAAAAAAAAAAAAAAAAAAAAAAAAAAAAAAAAAAAAAAAAAAAAAAAAAAAAAAAAAAAAAAAAAAAAAAAAAAAAAAAAAAAAAAAAAAAAAAAAAAAAAAAAAAAAAAAAAAAAAAAAAAAAAAAAAAAAAAAAAAAAAAAAAAAAAAAAAAAAAAAAAAAAAAAAAAAAAAAAAAAAAAAAAAAAAAAAAAAAAAAAAAAAAAAAAAAAAAAAAAAAAAAAAAAAAAAAAAAAAAAAAAAAAAAAAAAAAAAAAAAAAAAAAAAAAAAAAAAAAAAAAAAAAAAAAAAAAAAAAAAAAAAAAAAAAAAAAAAAAAAAAAAAAAAAAAAAAAAAAAAAAAAAAAAAAAAAAAAAAAAAAAAAAAAAAAAAAAAAAAAAAAAAAAAAAAAAAAAAAAAAAAAAAAAAAAAAAAAAAAAAAAAAAAAAAAAAAAAAAAAAAAAAAAAAAAAAAAAAAAAAAAAAAAAAAAAAAAAAAAAAAAAAAAAAAAAAAAAAAAAAAAAAAAAAAAAAAAAAAAAAAAAAAAAAAAAAAAAAAAAAAAAAAAAAAAAAAAAAAAAAAAAAAAAAAAAAAAAAAAAAAAAAAAAAAAAAAAAAAAAAAAAAAAAAAAAAAAAAAAAAAAAAAAAAAAAAAAAAAAAAAAAAAAAAAAAAAAAAAAAAAAAAAAAAAAAAAAAAAAAAAAAAAAAAAAAAAAAAAAAAAAAAAAAAAAAAAAAAAAAAAAAAAAAAAAAAAAAAAAAAAAAAAAAAAAAAAAAAAAAAAAAAAAAAAAAAAAAAAAAAAAAAAAAAAAAAAAAAAAAAAAAAAAAAAAAAAAAAAAAAAAAAAAAAAAAAAAAAAAAAAAAAAAAAAAAAAAAAAAAAAAAAAAAAAAAAAAAAAAAAAAAAAAAAAAAAAAAAAAAAAAAAAAAAAAAAAAAAAAAAAAAAAAAAAAAAAAAAAAAAAAAAAAAAAAAAAAAAAAAAAAAAAAAAAAAAAAAAAAAAAAAAAAAAAAAAAAAAAAAAAAAAAAAAAAAAAAAAAAAAAAAAAAAAAAAAAAAAAAAAAAAAAAAAAAAAAAAAAAAAAAAAAAAAAAAAAAAAAAAAAAAAAAAAAAAAAAAAAAAAAAAAAAAAAAAAAAAAAAAAAAAAAAAAAAAAAAAAAAAAAAAAAAAAAAAAAAAAAAAAAAAAAAAAAAAAAAAAAAAAAAAAAAAAAAAAAAAAAAAAAAAAAAAAAAAAAAAAAAAAAAAAAAAAAAAAAAAAAAAAAAAAAAAAAAAAAAAAAAAAAAAAAAAAAAAAAAAAAAAAAAAAAAAAAAAAAAAAAAAAAAAAAAAAAAAAAAAAAAAAAAAAAAAAAAAAAAAAAAAAAAAAAAAAAAAAAAAAAAAAAAAAAAAAAAAAAAAAAAAAAAAAAAAAAAAAAAAAAAAAAAAAAAAAAAAAAAAAAAAAAAAAAAAAAAAAAAAAAAAAAAAAAAAAAAAAAAAAAAAAAAAAAAAAAAAAAAAAAAAAAAAAAAAAAAAAAAAAAAAAAAAAAAAAAAAAAAAAAAAAAAAAAAAAAAAAAAAAAAAAAAAAAAAAAAAAAAAAAAAAAAAAAAAAAAAAAAAAAAAAAAAAAAAAAAAAAAAAAAAAAAAAAAAAAAAAAAAAAAAAAAAAAAAAAAAAAAAAAAAAAAAAAAAAAAAAAAAAAAAAAAAAAAAAAAAAAAAAAAAAAAAAAAAAAAAAAAAAAAAAAAAAAAAAAAAAAAAAAAAAAAAAAAAAAAAAAAAAAAAAAAAAAAAAAAAAAAAAAAAAAAAAAAAAAAAAAAAAAAAAAAAAAAAAAAAAAAAAAAAAAAAAAAAAAAAAAAAAAAAAAAAAAAAAAAAAAAAAAAAAAAAAAAAAAAAAAAAAAAAAAAAAAAAAAAAAAAAAAAAAAAAAAAAAAAAAAAAAAAAAAAAAAAAAAAAAAAAAAAAAAAAAAAAAAAAAAAAAAAAAAAAAAAAAAAAAAAAAAAAAAAAAAAAAAAAAAAAAAAAAAAAAAAAAAAAAAAAAAAAAAAAAAAAAAAAAAAAAAAAAAAAAAAAAAAAAAAAAAAAAAAAAAAAAAAAAAAAAAAAAAAAAAAAAAAAAAAAAAAAAAAAAAAAAAAAAAAAAAAAAAAAAAAAAAAAAAAAAAAAAAAAAAAAAAAAAAAAAAAAAAAAAAAAAAAAAAAAAAAAAAAAAAAAAAAAAAAAAAAAAAAAAAAAAAAAAAAAAAAAAAAAAAAAAAAAAAAAAAAAAAAAAAAAAAAAAAAAAAAAAAAAAAAAAAAAAAAAAAAAAAAAAAAAAAAAAAAAAAAAAAAAAAAAAAAAAAAAAAAAAAAAAAAAAAAAAAAAAAAAAAAAAAAAAAAAAAAAAAAAAAAAAAAAAAAAAAAAAAAAAAAAAAAAAAAAAAAAAAAAAAAAAAAAAAAAAAAAAAAAAAAAAAAAAAAAAAAAAAAAAAAAAAAAAAAAAAAAAAAAAAAAAAAAAAAAAAAAAAAAAAAAAAAAAAAAAAAAAAAAAAAAAAAAAAAAAAAAAAAAAAAAAAAAAAAAAAAAAAAAAAAAAAAAAAAAAAAAAAAAAAAAAAAAAAAAAAAAAAAAAAAAAAAAAAAAAAAAAAAAAAAAAAAAAAAAAAAAAAAAAAAAAAAAAAAAAAAAAAAAAAAAAAAAAAAAAAAAAAAAAAAAAAAAAAAAAAAAAAAAAAAAAAAAAAAAAAAAAAAAAAAAAAAAAAAAAAAAAAAAAAAAAAAAAAAAAAAAAAAAAAAAAAAAAAAAAAAAAAAAAAAAAAAAAAAAAAAAAAAAAAAAAAAAAAAAAAAAAAAAAAAAAAAAAAAAAAAAAAAAAAAAAAAAAAAAAAAAAAAAAAAAAAAAAAAAAAAAAAAAAAAAAAAAAAAAAAAAAAAAAAAAAAAAAAAAAAAAAAAAAAAAAAAAAAAAAAAAAAAAAAAAAAAAAAAAAAAAAAAAAAAAAAAAAAAAAAAAAAAAAAAAAAAAAAAAAAAAAAAAAAAAAAAAAAAAAAAAAAAAAAAAAAAAAAAAAAAAAAAAAAAAAAAAAAAAAAAAAAAAAAAAAAAAAAAAAAAAAAAAAAAAAAAAAAAAAAAAAAAAAAAAAAAAAAAAAAAAAAAAAAAAAAAAAAAAAAAAAAAAAAAAAAAAAAAAAAAAAAAAAAAAAAAAAAAAAAAAAAAAAAAAAAAAAAAAAAAAAAAAAAAAAAAAAAAAAAAAAAAAAAAAAAAAAAAAAAAAAAAAAAAAAAAAAAAAAAAAAAAAAAAAAAAAAAAAAAAAAAAAAAAAAAAAAAAAAAAAAAAAAAAAAAAAAAAAAAAAAAAAAAAAAAAAAAAAAAAAAAAAAAAAAAAAAAAAAAAAAAAAAAAAAAAAAAAAAAAAAAAAAAAAAAAAAAAAAAAAAAAAAAAAAAAAAAAAAAAAAAAAAAAAAAAAAAAAAAAAAAAAAAAAAAAAAAAAAAAAAAAAAAAAAAAAAAAAAAAAAAAAAAAAAAAAAAAAAAAAAAAAAAAAAAAAAAAAAAAAAAAAAAAAAAAAAAAAAAAAAAAAAAAAAAAAAAAAAAAAAAAAAAAAAAAAAAAAAAAAAAAAAAAAAAAAAAAAAAAAAAAAAAAAAAAAAAAAAAAAAAAAAAAAAAAAAAAAAAAAAAAAAAAAAAAAAAAAAAAAAAAAAAAAAAAAAAAAAAAAAAAAAAAAAAAAAAAAAAAAAAAAAAAAAAAAAAAAAAAAAAAAAAAAAAAAAAAAAAAAAAAAAAAAAAAAAAAAAAAAAAAAAAAAAAAAAAAAAAAAAAAAAAAAAAAAAAAAAAAAAAAAAAAAAAAAAAAAAAAAAAAAAAAAAAAAAAAAAAAAAAAAAAAAAAAAAAAAAAAAAAAAAAAAAAAAAAAAAAAAAAAAAAAAAAAAAAAAAAAAAAAAAAAAAAAAAAAAAAAAAAAAAAAAAAAAAAAAAAAAAAAAAAAAAAAAAAAAAAAAAAAAAAAAAAAAAAAAAAAAAAAAAAAAAAAAAAAAAAAAAAAAAAAAAAAAAAAAAAAAAAAAAAAAAAAAAAAAAAAAAAAAAAAAAAAAAAAAAAAAAAAAAAAAAAAAAAAAAAAAAAAAAAAAAAAAAAAAAAAAAAAAAAAAAAAAAAAAAAAAAAAAAAAAAAAAAAAAAAAAAAAAAAAAAAAAAAAAAAAAAAAAAAAAAAAAAAAAAAAAAAAAAAAAAAAAAAAAAAAAAAAAAAAAAAAAAAAAAAAAAAAAAAAAAAAAAAAAAAAAAAAAAAAAAAAAAAAAAAAAAAAAAAAAAAAAAAAAAAAAAAAAAAAAAAAAAAAAAAAAAAAAAAAAAAAAAAAAAAAAAAAAAAAAAAAAAAAAAAAAAAAAAAAAAAAAAAAAAAAAAAAAAAAAAAAAAAAAAAAAAAAAAAAAAAAAAAAAAAAAAAAAAAAAAAAAAAAAAAAAAAAAAAAAAAAAAAAAAAAAAAAAAAAAAAAAAAAAAAAAAAAAAAAAAAAAAAAAAAAAAAAAAAAAAAAAAAAAAAAAAAAAAAAAAAAAAAAAAAAAAAAAAAAAAAAAAAAAAAAAAAAAAAAAAAAAAAAAAAAAAAAAAAAAAAAAAAAAAAAAAAAAAAAAAAAAAAAAAAAAAAAAAAAAAAAAAAAAAAAAAAAAAAAAAAAAAAAAAAAAAAAAAAAAAAAAAAAAAAAAAAAAAAAAAAAAAAAAAAAAAAAAAAAAAAAAAAAAAAAAAAAAAAAAAAAAAAAAAAAAAAAAAAAAAAAAAAAAAAAAAAAAAAAAAAAAAAAAAAAAAAAAAAAAAAAAAAAAAAAAAAAAAAAAAAAAAAAAAAAAAAAAAAAAAAAAAAAAAAAAAAAAAAAAAAAAAAAAAAAAAAAAAAAAAAAAAAAAAAAAAAAAAAAAAAAAAAAAAAAAAAAAAAAAAAAAAAAAAAAAAAAAAAAAAAAAAAAAAAAAAAAAAAAAAAAAAAAAAAAAAAAAAAAAAAAAAAAAAAAAAAAAAAAAAAAAAAAAAAAAAAAAAAAAAAAAAAAAAAAAAAAAAAAAAAAAAAAAAAAAAAAAAAAAAAAAAAAAAAAAAAAAAAAAAAAAAAAAAAAAAAAAAAAAAAAAAAAAAAAAAAAAAAAAAAAAAAAAAAAAAAAAAAAAAAAAAAAAAAAAAAAAAAAAAAAAAAAAAAAAAAAAAAAAAAAAAAAAAAAAAAAAAAAAAAAAAAAAAAAAAAAAAAAAAAAAAAAAAAAAAAAAAAAAAAAAAAAAAAAAAAAAAAAAAAAAAAAAAAAAAAAAAAAAAAAAAAAAAAAAAAAAAAAAAAAAAAAAAAAAAAAAAAAAAAAAAAAAAAAAAAAAAAAAAAAAAAAAAAAAAAAAAAAAAAAAAAAAAAAAAAAAAAAAAAAAAAAAAAAAAAAAAAAAAAAAAAAAAAAAAAAAAAAAAAAAAAAAAAAAAAAAAAAAAAAAAAAAAAAAAAAAAAAAAAAAAAAAAAAAAAAAAAAAAAAAAAAAAAAAAAAAAAAAAAAAAAAAAAAAAAAAAAAAAAAAAAAAAAAAAAAAAAAAAAAAAAAAAAAAAAAAAAAAAAAAAAAAAAAAAAAAAAAAAAAAAAAAAAAAAAAAAAAAAAAAAAAAAAAAAAAAAAAAAAAAAAAAAAAAAAAAAAAAAAAAAAAAAAAAAAAAAAAAAAAAAAAAAAAAAAAAAAAAAAAAAAAAAAAAAAAAAAAAAAAAAAAAAAAAAAAAAAAAAAAAAAAAAAAAAAAAAAAAAAAAAAAAAAAAAAAAAAAAAAAAAAAAAAAAAAAAAAAAAAAAAAAAAAAAAAAAAAAAAAAAAAAAAAAAAAAAAAAAAAAAAAAAAAAAAAAAAAAAAAAAAAAAAAAAAAAAAAAAAAAAAAAAAAAAAAAAAAAAAAAAAAAAAAAAAAAAAAAAAAAAAAAAAAAAAAAAAAAAAAAAAAAAAAAAAAAAAAAAAAAAAAAAAAAAAAAAAAAAAAAAAAAAAAAAAAAAAAAAAAAAAAAAAAAAAAAAAAAAAAAAAAAAAAAAAAAAAAAAAAAAAAAAAAAAAAAAAAAAAAAAAAAAAAAAAAAAAAAAAAAAAAAAAAAAAAAAAAAAAAAAAAAAAAAAAAAAAAAAAAAAAAAAAAAAAAAAAAAAAAAAAAAAAAAAAAAAAAAAAAAAAAAAAAAAAAAAAAAAAAAAAAAAAAAAAAAAAAAAAAAAAAAAAAAAAAAAAAAAAAAAAAAAAAAAAAAAAAAAAAAAAAAAAAAAAAAAAAAAAAAAAAAAAAAAAAAAAAAAAAAAAAAAAAAAAAAAAAAAAAAAAAAAAAAAAAAAAAAAAAAAAAAAAAAAAAAAAAAAAAAAAAAAAAAAAAAAAAAAAAAAAAAAAAAAAAAAAAAAAAAAAAAAAAAAAAAAAAAAAAAAAAAAAAAAAAAAAAAAAAAAAAAAAAAAAAAAAAAAAAAAAAAAAAAAAAAAAAAAAAAAAAAAAAAAAAAAAAAAAAAAAAAAAAAAAAAAAAAAAAAAAAAAAAAAAAAAAAAAAAAAAAAAAAAAAAAAAAAAAAAAAAAAAAAAAAAAAAAAAAAAAAAAAAAAAAAAAAAAAAAAAAAAAAAAAAAAAAAAAAAAAAAAAAAAAAAAAAAAAAAAAAAAAAAAAAAAAAAAAAAAAAAAAAAAAAAAAAAAAAAAAAAAAAAAAAAAAAAAAAAAAAAAAAAAAAAAAAAAAAAAAAAAAAAAAAAAAAAAAAAAAAAAAAAAAAAAAAAAAAAAAAAAAAAAAAAAAAAAAAAAAAAAAAAAAAAAAAAAAAAAAAAAAAAAAAAAAAAAAAAAAAAAAAAAAAAAAAAAAAAAAAAAAAAAAAAAAAAAAAAAAAAAAAAAAAAAAAAAAAAAAAAAAAAAAAAAAAAAAAAAAAAAAAAAAAAAAAAAAAAAAAAAAAAAAAAAAAAAAAAAAAAAAAAAAAAAAAAAAAAAAAAAAAAAAAAAAAAAAAAAAAAAAAAAAAAAAAAAAAAAAAAAAAAAAAAAAAAAAAAAAAAAAAAAAAAAAAAAAAAAAAAAAAAAAAAAAAAAAAAAAAAAAAAAAAAAAAAAAAAAAAAAAAAAAAAAAAAAAAAAAAAAAAAAAAAAAAAAAAAAAAAAAAAAAAAAAAAAAAAAAAAAAAAAAAAAAAAAAAAAAAAAAAAAAAAAAAAAAAAAAAAAAAAAAAAAAAAAAAAAAAAAAAAAAAAAAAAAAAAAAAAAAAAAAAAAAAAAAAAAAAAAAAAAAAAAAAAAAAAAAAAAAAAAAAAAAAAAAAAAAAAAAAAAAAAAAAAAAAAAAAAAAAAAAAAAAAAAAAAAAAAAAAAAAAAAAAAAAAAAAAAAAAAAAAAAAAAAAAAAAAAAAAAAAAAAAAAAAAAAAAAAAAAAAAAAAAAAAAAAAAAAAAAAAAAAAAAAAAAAAAAAAAAAAAAAAAAAAAAAAAAAAAAAAAAAAAAAAAAAAAAAAAAAAAAAAAAAAAAAAAAAAAAAAAAAAAAAAAAAAAAAAAAAAAAAAAAAAAAAAAAAAAAAAAAAAAAAAAAAAAAAAAAAAAAAAAAAAAAAAAAAAAAAAAAAAAAAAAAAAAAAAAAAAAAAAAAAAAAAAAAAAAAAAAAAAAAAAAAAAAAAAAAAAAAAAAAAAAAAAAAAAAAAAAAAAAAAAAAAAAAAAAAAAAAAAAAAAAAAAAAAAAAAAAAAAAAAAAAAAAAAAAAAAAAAAAAAAAAAAAAAAAAAAAAAAAAAAAAAAAAAAAAAAAAAAAAAAAAAAAAAAAAAAAAAAAAAAAAAAAAAAAAAAAAAAAAAAAAAAAAAAAAAAAAAAAAAAAAAAAAAAAAAAAAAAAAAAAAAAAAAAAAAAAAAAAAAAAAAAAAAAAAAAAAAAAAAAAAAAAAAAAAAAAAAAAAAAAAAAAAAAAAAAAAAAAAAAAAAAAAAAAAAAAAAAAAAAAAAAAAAAAAAAAAAAAAAAAAAAAAAAAAAAAAAAAAAAAAAAAAAAAAAAAAAAAAAAAAAAAAAAAAAAAAAAAAAAAAAAAAAAAAAAAAAAAAAAAAAAAAAAAAAAAAAAAAAAAAAAAAAAAAAAAAAAAAAAAAAAAAAAAAAAAAAAAAAAAAAAAAAAAAAAAAAAAAAAAAAAAAAAAAAAAAAAAAAAAAAAAAAAAAAAAAAAAAAAAAAAAAAAAAAAAAAAAAAAAAAAAAAAAAAAAAAAAAAAAAAAAAAAAAAAAAAAAAAAAAAAAAAAAAAAAAAAAAAAAAAAAAAAAAAAAAAAAAAAAAAAAAAAAAAAAAAAAAAAAAAAAAAAAAAAAAAAAAAAAAAAAAAAAAAAAAAAAAAAAAAAAAAAAAAAAAAAAAAAAAAAAAAAAAAAAAAAAAAAAAAAAAAAAAAAAAAAAAAAAAAAAAAAAAAAAAAAAAAAAAAAAAAAAAAAAAAAAAAAAAAAAAAAAAAAAAAAAAAAAAAAAAAAAAAAAAAAAAAAAAAAAAAAAAAAAAAAAAAAAAAAAAAAAAAAAAAAAAAAAAAAAAAAAAAAAAAAAAAAAAAAAAAAAAAAAAAAAAAAAAAAAAAAAAAAAAAAAAAAAAAAAAAAAAAAAAAAAAAAAAAAAAAAAAAAAAAAAAAAAAAAAAAAAAAAAAAAAAAAAAAAAAAAAAAAAAAAAAAAAAAAAAAAAAAAAAAAAAAAAAAAAAAAAAAAAAAAAAAAAAAAAAAAAAAAAAAAAAAAAAAAAAAAAAAAAAAAAAAAAAAAAAAAAAAAAAAAAAAAAAAAAAAAAAAAAAAAAAAAAAAAAAAAAAAAAAAAAAAAAAAAAAAAAAAAAAAAAAAAAAAAAAAAAAAAAAAAAAAAAAAAAAAAAAAAAAAAAAAAAAAAAAAAAAAAAAAAAAAAAAAAAAAAAAAAAAAAAAAAAAAAAAAAAAAAAAAAAAAAAAAAAAAAAAAAAAAAAAAAAAAAAAAAAAAAAAAAAAAAAAAAAAAAAAAAAAAAAAAAAAAAAAAAAAAAAAAAAAAAAAAAAAAAAAAAAAAAAAAAAAAAAAAAAAAAAAAAAAAAAAAAAAAAAAAAAAAAAAAAAAAAAAAAAAAAAAAAAAAAAAAAAAAAAAAAAAAAAAAAAAAAAAAAAAAAAAAAAAAAAAAAAAAAAAAAAAAAAAAAAAAAAAAAAAAAAAAAAAAAAAAAAAAAAAAAAAAAAAAAAAAAAAAAAAAAAAAAAAAAAAAAAAAAAAAAAAAAAAAAAAAAAAAAAAAAAAAAAAAAAAAAAAAAAAAAAAAAAAAAAAAAAAAAAAAAAAAAAAAAAAAAAAAAAAAAAAAAAAAAAAAAAAAAAAAAAAAAAAAAAAAAAAAAAAAAAAAAAAAAAAAAAAAAAAAAAAAAAAAAAAAAAAAAAAAAAAAAAAAAAAAAAAAAAAAAAAAAAAAAAAAAAAAAAAAAAAAAAAAAAAAAAAAAAAAAAAAAAAAAAAAAAAAAAAAAAAAAAAAAAAAAAAAAAAAAAAAAAAAAAAAAAAAAAAAAAAAAAAAAAAAAAAAAAAAAAAAAAAAAAAAAAAAAAAAAAAAAAAAAAAAAAAAAAAAAAAAAAAAAAAAAAAAAAAAAAAAAAAAAAAAAAAAAAAAAAAAAAAAAAAAAAAAAAAAAAAAAAAAAAAAAAAAAAAAAAAAAAAAAAAAAAAAAAAAAAAAAAAAAAAAAAAAAAAAAAAAAAAAAAAAAAAAAAAAAAAAAAAAAAAAAAAAAAAAAAAAAAAAAAAAAAAAAAAAAAAAAAAAAAAAAAAAAAAAAAAAAAAAAAAAAAAAAAAAAAAAAAAAAAAAAAAAAAAAAAAAAAAAAAAAAAAAAAAAAAAAAAAAAAAAAAAAAAAAAAAAAAAAAAAAAAAAAAAAAAAAAAAAAAAAAAAAAAAAAAAAAAAAAAAAAAAAAAAAAAAAAAAAAAAAAAAAAAAAAAAAAAAAAAAAAAAAAAAAAAAAAAAAAAAAAAAAAAAAAAAAAAAAAAAAAAAAAAAAAAAAAAAAAAAAAAAAAAAAAAAAAAAAAAAAAAAAAAAAAAAAAAAAAAAAAAAAAAAAAAAAAAAAAAAAAAAAAAAAAAAAAAAAAAAAAAAAAAAAAAAAAAAAAAAAAAAAAAAAAAAAAAAAAAAAAAAAAAAAAAAAAAAAAAAAAAAAAAAAAAAAAAAAAAAAAAAAAAAAAAAAAAAAAAAAAAAAAAAAAAAAAAAAAAAAAAAAAAAAAAAAAAAAAAAAAAAAAAAAAAAAAAAAAAAAAAAAAAAAAAAAAAAAAAAAAAAAAAAAAAAAAAAAAAAAAAAAAAAAAAAAAAAAAAAAAAAAAAAAAAAAAAAAAAAAAAAAAAAAAAAAAAAAAAAAAAAAAAAAAAAAAAAAAAAAAAAAAAAAAAAAAAAAAAAAAAAAAAAAAAAAAAAAAAAAAAAAAAAAAAAAAAAAAAAAAAAAAAAAAAAAAAAAAAAAAAAAAAAAAAAAAAAAAAAAAAAAAAAAAAAAAAAAAAAAAAAAAAAAAAAAAAAAAAAAAAAAAAAAAAAAAAAAAAAAAAAAAAAAAAAAAAAAAAAAAAAAAAAAAAAAAAAAAAAAAAAAAAAAAAAAAAAAAAAAAAAAAAAAAAAAAAAAAAAAAAAAAAAAAAAAAAAAAAAAAAAAAAAAAAAA==",
          "dtype": "f4"
         }
        }
       ],
       "layout": {
        "autosize": true,
        "boxmode": "group",
        "height": 280,
        "hovermode": "closest",
        "paper_bgcolor": "rgba(0,0,0,0)",
        "plot_bgcolor": "rgba(0,0,0,0)",
        "template": {
         "data": {
          "bar": [
           {
            "error_x": {
             "color": "#2a3f5f"
            },
            "error_y": {
             "color": "#2a3f5f"
            },
            "marker": {
             "line": {
              "color": "#E5ECF6",
              "width": 0.5
             },
             "pattern": {
              "fillmode": "overlay",
              "size": 10,
              "solidity": 0.2
             }
            },
            "type": "bar"
           }
          ],
          "barpolar": [
           {
            "marker": {
             "line": {
              "color": "#E5ECF6",
              "width": 0.5
             },
             "pattern": {
              "fillmode": "overlay",
              "size": 10,
              "solidity": 0.2
             }
            },
            "type": "barpolar"
           }
          ],
          "carpet": [
           {
            "aaxis": {
             "endlinecolor": "#2a3f5f",
             "gridcolor": "white",
             "linecolor": "white",
             "minorgridcolor": "white",
             "startlinecolor": "#2a3f5f"
            },
            "baxis": {
             "endlinecolor": "#2a3f5f",
             "gridcolor": "white",
             "linecolor": "white",
             "minorgridcolor": "white",
             "startlinecolor": "#2a3f5f"
            },
            "type": "carpet"
           }
          ],
          "choropleth": [
           {
            "colorbar": {
             "outlinewidth": 0,
             "ticks": ""
            },
            "type": "choropleth"
           }
          ],
          "contour": [
           {
            "colorbar": {
             "outlinewidth": 0,
             "ticks": ""
            },
            "colorscale": [
             [
              0,
              "#0d0887"
             ],
             [
              0.1111111111111111,
              "#46039f"
             ],
             [
              0.2222222222222222,
              "#7201a8"
             ],
             [
              0.3333333333333333,
              "#9c179e"
             ],
             [
              0.4444444444444444,
              "#bd3786"
             ],
             [
              0.5555555555555556,
              "#d8576b"
             ],
             [
              0.6666666666666666,
              "#ed7953"
             ],
             [
              0.7777777777777778,
              "#fb9f3a"
             ],
             [
              0.8888888888888888,
              "#fdca26"
             ],
             [
              1,
              "#f0f921"
             ]
            ],
            "type": "contour"
           }
          ],
          "contourcarpet": [
           {
            "colorbar": {
             "outlinewidth": 0,
             "ticks": ""
            },
            "type": "contourcarpet"
           }
          ],
          "heatmap": [
           {
            "colorbar": {
             "outlinewidth": 0,
             "ticks": ""
            },
            "colorscale": [
             [
              0,
              "#0d0887"
             ],
             [
              0.1111111111111111,
              "#46039f"
             ],
             [
              0.2222222222222222,
              "#7201a8"
             ],
             [
              0.3333333333333333,
              "#9c179e"
             ],
             [
              0.4444444444444444,
              "#bd3786"
             ],
             [
              0.5555555555555556,
              "#d8576b"
             ],
             [
              0.6666666666666666,
              "#ed7953"
             ],
             [
              0.7777777777777778,
              "#fb9f3a"
             ],
             [
              0.8888888888888888,
              "#fdca26"
             ],
             [
              1,
              "#f0f921"
             ]
            ],
            "type": "heatmap"
           }
          ],
          "histogram": [
           {
            "marker": {
             "pattern": {
              "fillmode": "overlay",
              "size": 10,
              "solidity": 0.2
             }
            },
            "type": "histogram"
           }
          ],
          "histogram2d": [
           {
            "colorbar": {
             "outlinewidth": 0,
             "ticks": ""
            },
            "colorscale": [
             [
              0,
              "#0d0887"
             ],
             [
              0.1111111111111111,
              "#46039f"
             ],
             [
              0.2222222222222222,
              "#7201a8"
             ],
             [
              0.3333333333333333,
              "#9c179e"
             ],
             [
              0.4444444444444444,
              "#bd3786"
             ],
             [
              0.5555555555555556,
              "#d8576b"
             ],
             [
              0.6666666666666666,
              "#ed7953"
             ],
             [
              0.7777777777777778,
              "#fb9f3a"
             ],
             [
              0.8888888888888888,
              "#fdca26"
             ],
             [
              1,
              "#f0f921"
             ]
            ],
            "type": "histogram2d"
           }
          ],
          "histogram2dcontour": [
           {
            "colorbar": {
             "outlinewidth": 0,
             "ticks": ""
            },
            "colorscale": [
             [
              0,
              "#0d0887"
             ],
             [
              0.1111111111111111,
              "#46039f"
             ],
             [
              0.2222222222222222,
              "#7201a8"
             ],
             [
              0.3333333333333333,
              "#9c179e"
             ],
             [
              0.4444444444444444,
              "#bd3786"
             ],
             [
              0.5555555555555556,
              "#d8576b"
             ],
             [
              0.6666666666666666,
              "#ed7953"
             ],
             [
              0.7777777777777778,
              "#fb9f3a"
             ],
             [
              0.8888888888888888,
              "#fdca26"
             ],
             [
              1,
              "#f0f921"
             ]
            ],
            "type": "histogram2dcontour"
           }
          ],
          "mesh3d": [
           {
            "colorbar": {
             "outlinewidth": 0,
             "ticks": ""
            },
            "type": "mesh3d"
           }
          ],
          "parcoords": [
           {
            "line": {
             "colorbar": {
              "outlinewidth": 0,
              "ticks": ""
             }
            },
            "type": "parcoords"
           }
          ],
          "pie": [
           {
            "automargin": true,
            "type": "pie"
           }
          ],
          "scatter": [
           {
            "fillpattern": {
             "fillmode": "overlay",
             "size": 10,
             "solidity": 0.2
            },
            "type": "scatter"
           }
          ],
          "scatter3d": [
           {
            "line": {
             "colorbar": {
              "outlinewidth": 0,
              "ticks": ""
             }
            },
            "marker": {
             "colorbar": {
              "outlinewidth": 0,
              "ticks": ""
             }
            },
            "type": "scatter3d"
           }
          ],
          "scattercarpet": [
           {
            "marker": {
             "colorbar": {
              "outlinewidth": 0,
              "ticks": ""
             }
            },
            "type": "scattercarpet"
           }
          ],
          "scattergeo": [
           {
            "marker": {
             "colorbar": {
              "outlinewidth": 0,
              "ticks": ""
             }
            },
            "type": "scattergeo"
           }
          ],
          "scattergl": [
           {
            "marker": {
             "colorbar": {
              "outlinewidth": 0,
              "ticks": ""
             }
            },
            "type": "scattergl"
           }
          ],
          "scattermap": [
           {
            "marker": {
             "colorbar": {
              "outlinewidth": 0,
              "ticks": ""
             }
            },
            "type": "scattermap"
           }
          ],
          "scattermapbox": [
           {
            "marker": {
             "colorbar": {
              "outlinewidth": 0,
              "ticks": ""
             }
            },
            "type": "scattermapbox"
           }
          ],
          "scatterpolar": [
           {
            "marker": {
             "colorbar": {
              "outlinewidth": 0,
              "ticks": ""
             }
            },
            "type": "scatterpolar"
           }
          ],
          "scatterpolargl": [
           {
            "marker": {
             "colorbar": {
              "outlinewidth": 0,
              "ticks": ""
             }
            },
            "type": "scatterpolargl"
           }
          ],
          "scatterternary": [
           {
            "marker": {
             "colorbar": {
              "outlinewidth": 0,
              "ticks": ""
             }
            },
            "type": "scatterternary"
           }
          ],
          "surface": [
           {
            "colorbar": {
             "outlinewidth": 0,
             "ticks": ""
            },
            "colorscale": [
             [
              0,
              "#0d0887"
             ],
             [
              0.1111111111111111,
              "#46039f"
             ],
             [
              0.2222222222222222,
              "#7201a8"
             ],
             [
              0.3333333333333333,
              "#9c179e"
             ],
             [
              0.4444444444444444,
              "#bd3786"
             ],
             [
              0.5555555555555556,
              "#d8576b"
             ],
             [
              0.6666666666666666,
              "#ed7953"
             ],
             [
              0.7777777777777778,
              "#fb9f3a"
             ],
             [
              0.8888888888888888,
              "#fdca26"
             ],
             [
              1,
              "#f0f921"
             ]
            ],
            "type": "surface"
           }
          ],
          "table": [
           {
            "cells": {
             "fill": {
              "color": "#EBF0F8"
             },
             "line": {
              "color": "white"
             }
            },
            "header": {
             "fill": {
              "color": "#C8D4E3"
             },
             "line": {
              "color": "white"
             }
            },
            "type": "table"
           }
          ]
         },
         "layout": {
          "annotationdefaults": {
           "arrowcolor": "#2a3f5f",
           "arrowhead": 0,
           "arrowwidth": 1
          },
          "autotypenumbers": "strict",
          "coloraxis": {
           "colorbar": {
            "outlinewidth": 0,
            "ticks": ""
           }
          },
          "colorscale": {
           "diverging": [
            [
             0,
             "#8e0152"
            ],
            [
             0.1,
             "#c51b7d"
            ],
            [
             0.2,
             "#de77ae"
            ],
            [
             0.3,
             "#f1b6da"
            ],
            [
             0.4,
             "#fde0ef"
            ],
            [
             0.5,
             "#f7f7f7"
            ],
            [
             0.6,
             "#e6f5d0"
            ],
            [
             0.7,
             "#b8e186"
            ],
            [
             0.8,
             "#7fbc41"
            ],
            [
             0.9,
             "#4d9221"
            ],
            [
             1,
             "#276419"
            ]
           ],
           "sequential": [
            [
             0,
             "#0d0887"
            ],
            [
             0.1111111111111111,
             "#46039f"
            ],
            [
             0.2222222222222222,
             "#7201a8"
            ],
            [
             0.3333333333333333,
             "#9c179e"
            ],
            [
             0.4444444444444444,
             "#bd3786"
            ],
            [
             0.5555555555555556,
             "#d8576b"
            ],
            [
             0.6666666666666666,
             "#ed7953"
            ],
            [
             0.7777777777777778,
             "#fb9f3a"
            ],
            [
             0.8888888888888888,
             "#fdca26"
            ],
            [
             1,
             "#f0f921"
            ]
           ],
           "sequentialminus": [
            [
             0,
             "#0d0887"
            ],
            [
             0.1111111111111111,
             "#46039f"
            ],
            [
             0.2222222222222222,
             "#7201a8"
            ],
            [
             0.3333333333333333,
             "#9c179e"
            ],
            [
             0.4444444444444444,
             "#bd3786"
            ],
            [
             0.5555555555555556,
             "#d8576b"
            ],
            [
             0.6666666666666666,
             "#ed7953"
            ],
            [
             0.7777777777777778,
             "#fb9f3a"
            ],
            [
             0.8888888888888888,
             "#fdca26"
            ],
            [
             1,
             "#f0f921"
            ]
           ]
          },
          "colorway": [
           "#636efa",
           "#EF553B",
           "#00cc96",
           "#ab63fa",
           "#FFA15A",
           "#19d3f3",
           "#FF6692",
           "#B6E880",
           "#FF97FF",
           "#FECB52"
          ],
          "font": {
           "color": "#2a3f5f"
          },
          "geo": {
           "bgcolor": "white",
           "lakecolor": "white",
           "landcolor": "#E5ECF6",
           "showlakes": true,
           "showland": true,
           "subunitcolor": "white"
          },
          "hoverlabel": {
           "align": "left"
          },
          "hovermode": "closest",
          "mapbox": {
           "style": "light"
          },
          "paper_bgcolor": "white",
          "plot_bgcolor": "#E5ECF6",
          "polar": {
           "angularaxis": {
            "gridcolor": "white",
            "linecolor": "white",
            "ticks": ""
           },
           "bgcolor": "#E5ECF6",
           "radialaxis": {
            "gridcolor": "white",
            "linecolor": "white",
            "ticks": ""
           }
          },
          "scene": {
           "xaxis": {
            "backgroundcolor": "#E5ECF6",
            "gridcolor": "white",
            "gridwidth": 2,
            "linecolor": "white",
            "showbackground": true,
            "ticks": "",
            "zerolinecolor": "white"
           },
           "yaxis": {
            "backgroundcolor": "#E5ECF6",
            "gridcolor": "white",
            "gridwidth": 2,
            "linecolor": "white",
            "showbackground": true,
            "ticks": "",
            "zerolinecolor": "white"
           },
           "zaxis": {
            "backgroundcolor": "#E5ECF6",
            "gridcolor": "white",
            "gridwidth": 2,
            "linecolor": "white",
            "showbackground": true,
            "ticks": "",
            "zerolinecolor": "white"
           }
          },
          "shapedefaults": {
           "line": {
            "color": "#2a3f5f"
           }
          },
          "ternary": {
           "aaxis": {
            "gridcolor": "white",
            "linecolor": "white",
            "ticks": ""
           },
           "baxis": {
            "gridcolor": "white",
            "linecolor": "white",
            "ticks": ""
           },
           "bgcolor": "#E5ECF6",
           "caxis": {
            "gridcolor": "white",
            "linecolor": "white",
            "ticks": ""
           }
          },
          "title": {
           "x": 0.05
          },
          "xaxis": {
           "automargin": true,
           "gridcolor": "white",
           "linecolor": "white",
           "ticks": "",
           "title": {
            "standoff": 15
           },
           "zerolinecolor": "white",
           "zerolinewidth": 2
          },
          "yaxis": {
           "automargin": true,
           "gridcolor": "white",
           "linecolor": "white",
           "ticks": "",
           "title": {
            "standoff": 15
           },
           "zerolinecolor": "white",
           "zerolinewidth": 2
          }
         }
        },
        "title": {
         "text": "Distribution of scores by sex"
        },
        "xaxis": {
         "fixedrange": true,
         "gridcolor": "rgb(159, 197, 232)",
         "hoverformat": ".3f",
         "title": {
          "text": "Score"
         },
         "zerolinecolor": "rgb(159, 197, 232)"
        },
        "yaxis": {
         "fixedrange": true,
         "gridcolor": "rgba(0,0,0,0)",
         "ticktext": [
          ""
         ],
         "tickvals": [
          0
         ],
         "title": {
          "text": ""
         },
         "zerolinecolor": "rgba(0,0,0,0)"
        }
       }
      }
     },
     "metadata": {},
     "output_type": "display_data"
    }
   ],
   "source": [
    "fig_dp_by_sex = group_box_plots(\n",
    "    test_prob,\n",
    "    test.sex.map(lambda x: \"Male\" if x else \"Female\"),\n",
    "    title=\"Distribution of scores by sex\",\n",
    "    xlabel=\"Score\",\n",
    ")\n",
    "fig_dp_by_sex"
   ]
  },
  {
   "cell_type": "markdown",
   "metadata": {},
   "source": [
    "We calculate similar metrics and produce similar plots for race."
   ]
  },
  {
   "cell_type": "code",
   "execution_count": 70,
   "metadata": {},
   "outputs": [
    {
     "name": "stdout",
     "output_type": "stream",
     "text": [
      "Demographic parity difference: 0.180\n",
      "Demographic parity ratio: 0.251\n"
     ]
    }
   ],
   "source": [
    "dpd = demographic_parity_difference(\n",
    "    test_oh.salary, test_pred, sensitive_features=test.race,\n",
    ")\n",
    "dpr = demographic_parity_ratio(\n",
    "    test_oh.salary, test_pred, sensitive_features=test.race,\n",
    ")\n",
    "\n",
    "print(f\"Demographic parity difference: {dpd:.3f}\")\n",
    "print(f\"Demographic parity ratio: {dpr:.3f}\")"
   ]
  },
  {
   "cell_type": "code",
   "execution_count": 37,
   "metadata": {},
   "outputs": [
    {
     "data": {
      "application/vnd.plotly.v1+json": {
       "config": {
        "plotlyServerURL": "https://plot.ly"
       },
       "data": [
        {
         "hoverinfo": "name+x",
         "jitter": 0.2,
         "line": {
          "color": "#f2603b"
         },
         "marker": {
          "color": "rgba(242,96,59,1)",
          "opacity": 0.1
         },
         "name": "American Indian / Eskimo",
         "orientation": "h",
         "type": "box",
         "x": {
          "bdata": "oh5pPUJ6ijm1HnY9/tGIPLrvHz7gIEk7MXt3PE5GATguWJc8bbd/P/lckDsK9U0+dqPtO2e98zty7Bc8RQ/1PIsoUzm/UTM/sFbkPRTmqD5Nufk5N2USPJH5+DxSYKM+v4+fPJygFTxR15w+bEeMOvbPUz74PRc7rp2aORhh9D2/Chg6lUARPlZmXT00g2c8gDPePLZiAz7yxKs5tdLAO5ks+D0u1KE+c+K2POe8Jz8LJIo9gkfPOw3s9Dp0NNE7G5JrPktz2j394iQ/mpc5Pqvxhzpv15U6C9WvO/YmnDwxZsg++i3TPt8fOTvEtDY/Z1UOPDY2VD+3YAg8F3QLPi8EGjxUh4I+vhoSPIqiKz1oPEs+/NoEPRtjIjqdzTE7NLhPPXImZT0f6wM/9d8UOwVhzTtJWGQ+wKutPpKJYDzq7N44XFPCPf7Scjza6Y48AG+8PgcQpDu5ITQ/8cO4Oyvx0jtq+lE9XXHZPbOZyzpG7ug+hiXmPBoxJj9NrVE+Q2IDPqTTQj640xI/807dPFCVJz/06BU+/WJSOor+RDtl/ek3BJSCO6WWNzzERYA8cdcOPjDp+zo/Pm09gV7ePOmymjstnx095i42PL7frT4Ux2k6D1wEPpWNnztF2C465lGuPcUYMD7A3CY8B74ePmPoRDz07yw75PcdOpxL2D6XcSE90ddCO8UGUz7jtq8+8vuKOb0GhjrL4J48yokBPnWheD0lc9Y+K991P3RDWzg8CwQ89HRJPJgusjm9p6E6JFAIPFwSzD42WyQ9mVIcOzQbmT4=",
          "dtype": "f4"
         },
         "y": {
          "bdata": "AAAAAAAAAAAAAAAAAAAAAAAAAAAAAAAAAAAAAAAAAAAAAAAAAAAAAAAAAAAAAAAAAAAAAAAAAAAAAAAAAAAAAAAAAAAAAAAAAAAAAAAAAAAAAAAAAAAAAAAAAAAAAAAAAAAAAAAAAAAAAAAAAAAAAAAAAAAAAAAAAAAAAAAAAAAAAAAAAAAAAAAAAAAAAAAAAAAAAAAAAAAAAAAAAAAAAAAAAAAAAAAAAAAAAAAAAAAAAAAAAAAAAAAAAAAAAAAAAAAAAAAAAAAAAAAAAAAAAAAAAAAAAAAAAAAAAAAAAAAAAAAAAAAAAAAAAAAAAAAAAAAAAAAAAAAAAAAAAAAAAAAAAAAAAAAAAAAAAAAAAAAAAAAAAAAAAAAAAAAAAAAAAAAAAAAAAAAAAAAAAAAAAAAAAAAAAAAAAAAAAAAAAAAAAAAAAAAAAAAAAAAAAAAAAAAAAAAAAAAAAAAAAAAAAAAAAAAAAAAAAAAAAAAAAAAAAAAAAAAAAAAAAAAAAAAAAAAAAAAAAAAAAAAAAAAAAAAAAAAAAAAAAAAAAAAAAAAAAAAAAAAAAAAAAAAAAAAAAAAAAAAAAAAAAAAAAAAAAAAAAAAAAAAAAAAAAAAAAAAAAAAAAAAAAAAAAAAAAAAAAAAAAAAAAAAAAAAAAAAAAAAAAAAAAAAAAAAAAAAAAAAAAAAAAAAAAAAAAAAAAAAAAAAAAAAAAAAAAAAAAAAAAAAAAAAAAAAAAAAAAAAAAAAAAAAAAAAAAAAAAAAAAAAAAAAAAAAAAAAAAAAAAAAAAAAAAAA=",
          "dtype": "f4"
         }
        },
        {
         "hoverinfo": "name+x",
         "jitter": 0.2,
         "line": {
          "color": "#262445"
         },
         "marker": {
          "color": "rgba(38,36,69,1)",
          "opacity": 0.1
         },
         "name": "Asian / Pacific Islander",
         "orientation": "h",
         "type": "box",
         "x": {
          "bdata": "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",
          "dtype": "f4"
         },
         "y": {
          "bdata": "AAAAAAAAAAAAAAAAAAAAAAAAAAAAAAAAAAAAAAAAAAAAAAAAAAAAAAAAAAAAAAAAAAAAAAAAAAAAAAAAAAAAAAAAAAAAAAAAAAAAAAAAAAAAAAAAAAAAAAAAAAAAAAAAAAAAAAAAAAAAAAAAAAAAAAAAAAAAAAAAAAAAAAAAAAAAAAAAAAAAAAAAAAAAAAAAAAAAAAAAAAAAAAAAAAAAAAAAAAAAAAAAAAAAAAAAAAAAAAAAAAAAAAAAAAAAAAAAAAAAAAAAAAAAAAAAAAAAAAAAAAAAAAAAAAAAAAAAAAAAAAAAAAAAAAAAAAAAAAAAAAAAAAAAAAAAAAAAAAAAAAAAAAAAAAAAAAAAAAAAAAAAAAAAAAAAAAAAAAAAAAAAAAAAAAAAAAAAAAAAAAAAAAAAAAAAAAAAAAAAAAAAAAAAAAAAAAAAAAAAAAAAAAAAAAAAAAAAAAAAAAAAAAAAAAAAAAAAAAAAAAAAAAAAAAAAAAAAAAAAAAAAAAAAAAAAAAAAAAAAAAAAAAAAAAAAAAAAAAAAAAAAAAAAAAAAAAAAAAAAAAAAAAAAAAAAAAAAAAAAAAAAAAAAAAAAAAAAAAAAAAAAAAAAAAAAAAAAAAAAAAAAAAAAAAAAAAAAAAAAAAAAAAAAAAAAAAAAAAAAAAAAAAAAAAAAAAAAAAAAAAAAAAAAAAAAAAAAAAAAAAAAAAAAAAAAAAAAAAAAAAAAAAAAAAAAAAAAAAAAAAAAAAAAAAAAAAAAAAAAAAAAAAAAAAAAAAAAAAAAAAAAAAAAAAAAAAAAAAAAAAAAAAAAAAAAAAAAAAAAAAAAAAAAAAAAAAAAAAAAAAAAAAAAAAAAAAAAAAAAAAAAAAAAAAAAAAAAAAAAAAAAAAAAAAAAAAAAAAAAAAAAAAAAAAAAAAAAAAAAAAAAAAAAAAAAAAAAAAAAAAAAAAAAAAAAAAAAAAAAAAAAAAAAAAAAAAAAAAAAAAAAAAAAAAAAAAAAAAAAAAAAAAAAAAAAAAAAAAAAAAAAAAAAAAAAAAAAAAAAAAAAAAAAAAAAAAAAAAAAAAAAAAAAAAAAAAAAAAAAAAAAAAAAAAAAAAAAAAAAAAAAAAAAAAAAAAAAAAAAAAAAAAAAAAAAAAAAAAAAAAAAAAAAAAAAAAAAAAAAAAAAAAAAAAAAAAAAAAAAAAAAAAAAAAAAAAAAAAAAAAAAAAAAAAAAAAAAAAAAAAAAAAAAAAAAAAAAAAAAAAAAAAAAAAAAAAAAAAAAAAAAAAAAAAAAAAAAAAAAAAAAAAAAAAAAAAAAAAAAAAAAAAAAAAAAAAAAAAAAAAAAAAAAAAAAAAAAAAAAAAAAAAAAAAAAAAAAAAAAAAAAAAAAAAAAAAAAAAAAAAAAAAAAAAAAAAAAAAAAAAAAAAAAAAAAAAAAAAAAAAAAAAAAAAAAAAAAAAAAAAAAAAAAAAAAAAAAAAAAAAAAAAAAAAAAAAAAAAAAAAAAAAAAAAAAAAAAAAAAAAAAAAAAAAAAAAAAAAAAAAAAAAAAAAAAAAAAAAAAAAAAAAAAAAAAAAAAAAAAAAAAAAAAAAAAAAAAAAAAAAAAAAAAAAAAAAAAAAAAAAAAAAAAAAAAAAAAAAAAAAAAAAAAAAAAAAAAAAAAAAAAAAAAAAAAAAAAAAAAAAAAAAAAAAAAAAAAAAAAAAAAAAAAAAAAAAAAAAAAAAAAAAAAAAAAAAAAAAAAAAAAAAAAAAAAAAAAAAAAAAAAAAAAAAAAAAAAAAAAAAAAAAAAAAAAAAAAAAAAAAAAAAAAAAAAAAAAAAAAAAAAAAAAAAAAAAAAAAAAAAAAAAAAAAAAAAAAAAAAAAAAAAAAAAAAAAAAAAAAAAAAAAAAAAAAAAAAAAAAAAAAAAAAAAAAAAAAAAAAAAAAAAAAAAAAAAAAAAAAAAAAAAAAAAAAAAAAAAAAAAAAAAAAAAAAAAAAAAAAAAAAAAAAAAAAAAAAAAAAAAAAAAAAAAAAAAAAAAAAAAAAAAAAAAAAAAAAAAAAAAAAAAAAAAAAAAAAAAAAAAAAAAAAAAAAAAAAAAAAAAAAAAAAAAAAAAAAAAAAAAAAAAAAAAAAAAAAAAAAAAAAAAAAAAAAAAAAAAAAAAAAAAAAAAAAAAAAAAAAAAAAAAAAAAAAAAAAAAAAAAAAAAAAAAAAAAAA",
          "dtype": "f4"
         }
        },
        {
         "hoverinfo": "name+x",
         "jitter": 0.2,
         "line": {
          "color": "#00a886"
         },
         "marker": {
          "color": "rgba(0,168,134,1)",
          "opacity": 0.1
         },
         "name": "Black",
         "orientation": "h",
         "type": "box",
         "x": {
          "bdata": "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",
          "dtype": "f4"
         },
         "y": {
          "bdata": "AAAAAAAAAAAAAAAAAAAAAAAAAAAAAAAAAAAAAAAAAAAAAAAAAAAAAAAAAAAAAAAAAAAAAAAAAAAAAAAAAAAAAAAAAAAAAAAAAAAAAAAAAAAAAAAAAAAAAAAAAAAAAAAAAAAAAAAAAAAAAAAAAAAAAAAAAAAAAAAAAAAAAAAAAAAAAAAAAAAAAAAAAAAAAAAAAAAAAAAAAAAAAAAAAAAAAAAAAAAAAAAAAAAAAAAAAAAAAAAAAAAAAAAAAAAAAAAAAAAAAAAAAAAAAAAAAAAAAAAAAAAAAAAAAAAAAAAAAAAAAAAAAAAAAAAAAAAAAAAAAAAAAAAAAAAAAAAAAAAAAAAAAAAAAAAAAAAAAAAAAAAAAAAAAAAAAAAAAAAAAAAAAAAAAAAAAAAAAAAAAAAAAAAAAAAAAAAAAAAAAAAAAAAAAAAAAAAAAAAAAAAAAAAAAAAAAAAAAAAAAAAAAAAAAAAAAAAAAAAAAAAAAAAAAAAAAAAAAAAAAAAAAAAAAAAAAAAAAAAAAAAAAAAAAAAAAAAAAAAAAAAAAAAAAAAAAAAAAAAAAAAAAAAAAAAAAAAAAAAAAAAAAAAAAAAAAAAAAAAAAAAAAAAAAAAAAAAAAAAAAAAAAAAAAAAAAAAAAAAAAAAAAAAAAAAAAAAAAAAAAAAAAAAAAAAAAAAAAAAAAAAAAAAAAAAAAAAAAAAAAAAAAAAAAAAAAAAAAAAAAAAAAAAAAAAAAAAAAAAAAAAAAAAAAAAAAAAAAAAAAAAAAAAAAAAAAAAAAAAAAAAAAAAAAAAAAAAAAAAAAAAAAAAAAAAAAAAAAAAAAAAAAAAAAAAAAAAAAAAAAAAAAAAAAAAAAAAAAAAAAAAAAAAAAAAAAAAAAAAAAAAAAAAAAAAAAAAAAAAAAAAAAAAAAAAAAAAAAAAAAAAAAAAAAAAAAAAAAAAAAAAAAAAAAAAAAAAAAAAAAAAAAAAAAAAAAAAAAAAAAAAAAAAAAAAAAAAAAAAAAAAAAAAAAAAAAAAAAAAAAAAAAAAAAAAAAAAAAAAAAAAAAAAAAAAAAAAAAAAAAAAAAAAAAAAAAAAAAAAAAAAAAAAAAAAAAAAAAAAAAAAAAAAAAAAAAAAAAAAAAAAAAAAAAAAAAAAAAAAAAAAAAAAAAAAAAAAAAAAAAAAAAAAAAAAAAAAAAAAAAAAAAAAAAAAAAAAAAAAAAAAAAAAAAAAAAAAAAAAAAAAAAAAAAAAAAAAAAAAAAAAAAAAAAAAAAAAAAAAAAAAAAAAAAAAAAAAAAAAAAAAAAAAAAAAAAAAAAAAAAAAAAAAAAAAAAAAAAAAAAAAAAAAAAAAAAAAAAAAAAAAAAAAAAAAAAAAAAAAAAAAAAAAAAAAAAAAAAAAAAAAAAAAAAAAAAAAAAAAAAAAAAAAAAAAAAAAAAAAAAAAAAAAAAAAAAAAAAAAAAAAAAAAAAAAAAAAAAAAAAAAAAAAAAAAAAAAAAAAAAAAAAAAAAAAAAAAAAAAAAAAAAAAAAAAAAAAAAAAAAAAAAAAAAAAAAAAAAAAAAAAAAAAAAAAAAAAAAAAAAAAAAAAAAAAAAAAAAAAAAAAAAAAAAAAAAAAAAAAAAAAAAAAAAAAAAAAAAAAAAAAAAAAAAAAAAAAAAAAAAAAAAAAAAAAAAAAAAAAAAAAAAAAAAAAAAAAAAAAAAAAAAAAAAAAAAAAAAAAAAAAAAAAAAAAAAAAAAAAAAAAAAAAAAAAAAAAAAAAAAAAAAAAAAAAAAAAAAAAAAAAAAAAAAAAAAAAAAAAAAAAAAAAAAAAAAAAAAAAAAAAAAAAAAAAAAAAAAAAAAAAAAAAAAAAAAAAAAAAAAAAAAAAAAAAAAAAAAAAAAAAAAAAAAAAAAAAAAAAAAAAAAAAAAAAAAAAAAAAAAAAAAAAAAAAAAAAAAAAAAAAAAAAAAAAAAAAAAAAAAAAAAAAAAAAAAAAAAAAAAAAAAAAAAAAAAAAAAAAAAAAAAAAAAAAAAAAAAAAAAAAAAAAAAAAAAAAAAAAAAAAAAAAAAAAAAAAAAAAAAAAAAAAAAAAAAAAAAAAAAAAAAAAAAAAAAAAAAAAAAAAAAAAAAAAAAAAAAAAAAAAAAAAAAAAAAAAAAAAAAAAAAAAAAAAAAAAAAAAAAAAAAAAAAAAAAAAAAAAAAAAAAAAAAAAAAAAAAAAAAAAAAAAAAAAAAAAAAAAAAAAAAAAAAAAAAAAAAAAAAAAAAAAAAAAAAAAAAAAAAAAAAAAAAAAAAAAAAAAAAAAAAAAAAAAAAAAAAAAAAAAAAAAAAAAAAAAAAAAAAAAAAAAAAAAAAAAAAAAAAAAAAAAAAAAAAAAAAAAAAAAAAAAAAAAAAAAAAAAAAAAAAAAAAAAAAAAAAAAAAAAAAAAAAAAAAAAAAAAAAAAAAAAAAAAAAAAAAAAAAAAAAAAAAAAAAAAAAAAAAAAAAAAAAAAAAAAAAAAAAAAAAAAAAAAAAAAAAAAAAAAAAAAAAAAAAAAAAAAAAAAAAAAAAAAAAAAAAAAAAAAAAAAAAAAAAAAAAAAAAAAAAAAAAAAAAAAAAAAAAAAAAAAAAAAAAAAAAAAAAAAAAAAAAAAAAAAAAAAAAAAAAAAAAAAAAAAAAAAAAAAAAAAAAAAAAAAAAAAAAAAAAAAAAAAAAAAAAAAAAAAAAAAAAAAAAAAAAAAAAAAAAAAAAAAAAAAAAAAAAAAAAAAAAAAAAAAAAAAAAAAAAAAAAAAAAAAAAAAAAAAAAAAAAAAAAAAAAAAAAAAAAAAAAAAAAAAAAAAAAAAAAAAAAAAAAAAAAAAAAAAAAAAAAAAAAAAAAAAAAAAAAAAAAAAAAAAAAAAAAAAAAAAAAAAAAAAAAAAAAAAAAAAAAAAAAAAAAAAAAAAAAAAAAAAAAAAAAAAAAAAAAAAAAAAAAAAAAAAAAAAAAAAAAAAAAAAAAAAAAAAAAAAAAAAAAAAAAAAAAAAAAAAAAAAAAAAAAAAAAAAAAAAAAAAAAAAAAAAAAAAAAAAAAAAAAAAAAAAAAAAAAAAAAAAAAAAAAAAAAAAAAAAAAAAAAAAAAAAAAAAAAAAAAAAAAAAAAAAAAAAAAAAAAAAAAAAAAAAAAAAAAAAAAAAAAAAAAAAAAAAAAAAAAAAAAAAAAAAAAAAAAAAAAAAAAAAAAAAAAAAAAAAAAAAAAAAAAAAAAAAAAAAAAAAAAAAAAAAAAAAAAAAAAAAAAAAAAAAAAAAAAAAAAAAAAAAAAAAAAAAAAAAAAAAAAAAAAAAAAAAAAAAAAAAAAAAAAAAAAAAAAAAAAAAAAAAAAAAAAAAAAAAAAAAAAAAAAAAAAAAAAAAAAAAAAAAAAAAAAAAAAAAAAAAAAAAAAAAAAAAAAAAAAAAAAAAAAAAAAAAAAAAAAAAAAAAAAAAAAAAAAAAAAAAAAAAAAAAAAAAAAAAAAAAAAAAAAAAAAAAAAAAAAAAAAAAAAAAAAAAAAAAAAAAAAAAAAAAAAAAAAAAAAAAAAAAAAAAAAAAAAAAAAAAAAAAAAAAAAAAAAAAAAAAAAAAAAAAAAAAAAAAAAAAAAAAAAAAAAAAAAAAAAAAAAAAAAAAAAAAAAAAAAAAAAAAAAAAAAAAAAAAAAAAAAAAAAAAAAAAAAAAAAAAAAAAAAAAAAAAAAAAAAAAAAAAAAAAAAAAAAAAAAAAAAAAAAAAAAAAAAAAAAAAAAAAAAAAAAAAAAAAAAAAAAAAAAAAAAAAAAAAAAAAAAAAAAAAAAAAAAAAAAAAAAAAAAAAAAAAAAAAAAAAAAAAAAAAAAAAAAAAAAAAAAAAAAAAAAAAAAAAAAAAAAAAAAAAAAAAAAAAAAAAAAAAAAAAAAAAAAAAAAAAAAAAAAAAAAAAAAAAAAAAAAAAAAAAAAAAAAAAAAAAAAAAAAAAAAAAAAAAAAAAAAAAAAAAAAAAAAAAAAAAAAAAAAAAAAAAAAAAAAAAAAAAAAAAAAAAAAAAAAAAAAAAAAAAAAAAAAAAAAAAAAAAAAAAAAAAAAAAAAAAAAAAAAAAAAAAAAAAAAAAAAAAAAAAAAAAAAAAAAAAAAAAAAAAAAAAAAAAAAAAAAAAAAAAAAAAAAAAAAAAAAAAAAAAAAAAAAAAAAAAAAAAAAAAAAAAAAAAAAAAAAAAAAAAAAAAAAAAAAAAAAAAAAAAAAAAAAAAAAAAAAAAAAAAAAAAAAAAAAAAAAAAAAAAAAAAAAAAAAAAAAAAAAAAAAAAAAAAAAAAAAAAAAAAAAAAAAAAAAAAAAAAAAAAAAAAAAAAAAAAAAAAAAAAAAAAAAAAAAAAAAAAAAAAAAAAAAAAAAAAAAAAAAAAAAAAAAAAAAAAAAAAAAAAAAAAAAAAAAAAAAAAAAAAAAAAAAAAAAAAAAAAAAAAAAAAAAAAAAAAAAAAAAAAAAAAAAAAAAAAAAAAAAAAAAAAAAAAAAAAAAAAAAAAAAAAAAAAAAAAAAAAAAAAAAAAAAAAAAAAAAAAAAAAAAAAAAAAAAAAAAAAAAAAAAAAAAAAAAAAAAAAAAAAAAAAAAAAAAAAAAAAAAAAAAAAAAAAAAAAAAAAAAAAAAAAAAAAAAAAAAAAAAAAAAAAAAAAAAAAAAAAAAAAAAAAAAAAAAAAAAAAAAAAAAAAAAAAAAAAAAAAAAAAAAAAAAAAAAAAAAAAAAAAAAAAAAAAAAAAAAAAAAAAAAAAAAAAAAAAAAAAAAAAAAAAAAAAAAAAAAAAAAAAAAAAAAAAAAAAAAAAAAAAAAAAAAAAAAAAAAAAAAAAAAAAAAAAAAAAAAAAAAAAAAAAAAAAAAAAAAAAAAAAAAAAAAAAAAAAAAAAAAAAAAAAAAAAAAAAAAAAAAAAAAAAAAAAAAAAAAAAAAAAAAAAAAAAAAAAAAAAAAAAAAAAAAAAAAAAAAAAAAAAAAAAAAAAAAAAAAAAAAAAAAAAAAAAAAAAAAAAAAAAAAAAAAAAAAAAAAAAAAAAAAAAAAAAAAAAAAAAAAAAAAAAAAAAAAAAAAAAAAAAAAAAAAAAAAAAAAAAAAAAAAAAAAAAAAAAAAAAAAAAAAAAAAAAAAAAAAAAAAAAAAAAAAAAAAAAAAAAAAAAAAAAAAAAAAAAAAAAAAAAAAAAAAAAAAAAAAAAAAAAAAAAAAAAAAAAAAAAAAAAAAAAAAAAAAAAAAAAAAAAAAAAAAAAAAAAAAAAAAAAAAAAAAAAAAAAAAAAAAAAAAAAAAAAAAAAAAAAAAAAAAAAAAAAAAAAAAAAAAAAAAAAAAAAAAAAAAAAAAAAAAAAAAAAAAAAAAAAAAAAAAAAAAAAAAAAAAAAAAAAAAAAAAAAAAAAAAAAAAAAAAAAAAAAAAAAAAAAAAAAAAAAAAAAAAAAAAAAAAAAAAAAAAAAAAAAAAAAAAAAAAAAAAAAAAAAAAAAAAAAAAAAAAAAAAAAAAAAAAAAAAAAAAAAAAAAAAAAAAAAAAAAAAAAAAAAAAAAAAAAAAAAAAAAAAAAAAAAAAAAAAAAAAAAAAAAAAAAAAAAAAAAAAAAAAAAAAAAAAAAAAAAAAAAAAAAAAAAAAAAAAAAAAAAAAAAAAAAAAAAAAAAAAAAAAAAAAAAAAAAAAAAAAAAAAAAAAAAAAAAAAAAAAAAAAAAAAAAAAAAAAAAAAAAAAAAAAAAAAAAAAAAAAAAAAAAAAAAAAAAAAAAAAAAAAAAAAAAAAAAAAAAAAAAAAAAAAAAAAAAAAAAAAAAAAAAAAAAAAAAAAAAAAAAAAAAAAAAAAAAAAAAAAAAAAAAAAAAAAAAAAAAAAAAAAAAAAAAAAAAAAAAAAAAAAAAAAAAAAAAAAAAAAAAAAAAAAAAAAAAAAAAAAAAAAAAAAAAAAAAAAAAAAAAAAAAAAAAAAAAAAAAAAAAAAAAAAAAAAAAAAAAAAAAAAAAAAAAAAAAAAAAAAAAAAAAAAAAAAAAAAAAAAAAAAAAAAAAAAAAAAAAAAAAAAAAAAAAAAAAAAAAAAAAAAAAAAAAAAAAAAAAAAAAAAAAAAAAAAAAAAAAAAAAAAAAAAAAAAAAAAAAAAAAAAAAAAAAAAAAAAAAAAAAAAAAAAAAAAAAAAAAAAAAAAAAAAAAAAAAAAAAAAAAAAAAAAAAAAAAAAAAAAAAAAAAAAAAAAAAAAAAAAAAAAAAAAAAAAAAAAAAAAAAAAAAAAAAAAAAAAAAAAAAAAAAAAAAAAAAAAAAAAAAAAAAAAAAAAAAAAAAAAAAAAAAAAAAAAAAAAAAAAAAAAAAAAAAAAAAAAAAAAAAAAAAAAAAAAAAAAAAAAAAAAAAAAAAAAAAAAAAAAAAAAAAAAAAAAAAAAAAAAAAAAAAAAAAAAAAAAAAAAAAAAAAAAAAAAAAAAAAAAAAAAAAAAAAAAAAAAAAAAAAAAAAAAAAAAAAAAAAAAAAAAAAAAAAAAAAAAAAAAAAAAAAAAAAAAAAAAAAAAAAAAAAAAAAAAAAAAAAAAAAAAAAAAAAAAAAAAAAAAAAAAAAAAAAAAAAAAAAAAAAAAAAAAAAAAAAAAAAAAAAAAAAAAAAAAAAAAAAAAAAAAAAAAAAAAAAAAAAAAAAAAAAAAAAAAAAAAAAAAAAAAAAAAAAAAAAAAAAAAAAAAAAAAAAAAAAAAAAAAAAAAAAAAAAAAAAAAAAAAAAAAAAAAAAAAAAAAAAAAAAAAAAAAAAAAAAAAAAAAAAAAAAAAAAAAAAAAAAAAAAAAAAAAAAAAAAAAAAAAAAAAAAAAAAAAAAAAAAAAAAAAAAAAAAAAAAAAAAAAAAAAAAAAAAAAAAAAAAAAAAAAAAAAAAAAAAAAAAAAAAAAAAAAAAAAAAAAAAAAAAAAAAAAAAAAAAAAAAAAAAAAAAAAAAAAAAAAAAAAAAAAAAAAAAAAAAAAAAAAAAAAAAAAAAAAAAAAAAAAAAAAAAAAAAAAAAAAAAAAAAAAAAAAAAAAAAAAAAAAAAAAAAAAAAAAAAAAAAAAAAAAAAAAAAAAAAAAAAAAAAAAAAAAAAAAAAAAAAAAAAAAAAAAAAAAAAAAAAAAAAAAAAAAAAAAAAAAAAAAAAAAAAAAAAAAAAAAAAAAAAAAAAAAAAAAAAAAAAAAAAAAAAAAAAAAAAAAAAAAAAAAAAAAAAAAAAAAAAAAAAAAAAAAAAAAAAAAAAAAAAAAAAAAAAAAAAAAAAAAAAAAAAAAAAAAAAAAAAAAAAAAAAAAAAAAAAAAAAAAAAAAAAAAAAAAAAAAAAAAAAAAAAAAAAAAAAAAAAAAAAAAAAAAAAAAAAAAAAAAAAAAAAAAAAAAAAAAAAAAAAAAAAAAAAAAAAAAAAAAAAAAAAAAAAAAAAAAAAAAAAAAAAAAAAAAAAAAAAAAAAAAAAAAAAAAAAAAAAAAAAAAAAAAAAAAAAAAAAAAAAAAAAAAAAAAAAAAAAAAAAAAAAAAAAAAAAAAAAAAAAAAAAAAAAAAAAAAAAAAAAAAAAAAAAAAAAAAAAAAAAAAAAAAAAAAAAAAAAAAAAAAAAAAAAAAAAAAAAAAAAAAAAAAAAAAAAAAAAAAAAAAAAAAAAAAAAAAAAAAA==",
          "dtype": "f4"
         }
        },
        {
         "hoverinfo": "name+x",
         "jitter": 0.2,
         "line": {
          "color": "#edc946"
         },
         "marker": {
          "color": "rgba(237,201,70,1)",
          "opacity": 0.1
         },
         "name": "Other",
         "orientation": "h",
         "type": "box",
         "x": {
          "bdata": "tChiPqKVzzjtJpk7Mx/iPIasNzsrWQE/ZDGmPVHKajgdj6I7nvbRO6e6XT7se4A5kNU4PfxesTn6OQM8yqbgORxdCz0wt2k+T4aWPWomAjv6Lx08/lckPNyMoDk2pUQ/mQgJPxQ80Doe5A8+00mjPFNo8j2IzNQ9h4wXPK70HDsrLjU6C6CLO5oVvju+ezQ8pSdUPW99Cj2n3c08+yXaPNBY4jhhQ5A6AACAP/zScT7okd07ZZ0zPSe1Bj+cKSU/+SOePIGzEDyohpQ+75wOPYoBWzxti8k7iQznPTJTBTy9uIQ9wjoRPycAzDvAAOU5ljs+O50PfzpWnU4/iWIRPMUcYztRXl4/Zc/7PJvwVTlEMXk5S0CXOnrphTwOp4Y+F7qXOeF7czkqH4Q8fWsoOuLhZTt4ukg7oadoOmVwcDx0vOo7ht31PmPXcD6Hthc7k9DOOo0FGz4UPac++0XWOwVSjTk+C886zCn8PSdlzjz0oDU+PUJ2PysLkTqK/ao8r1sEPWXJ8D0F/qg+XMQbPOzv2z5OCCw9UERVO7vHhj3R1xA8vYb4PntzCjw6cBU83Xs6Pz6d5DnxAoE8aMzLPJOSLzw6meU8SclDP+lgBT08Giw/eRKPOnGGVzxM0I493g/NPa1RWTo=",
          "dtype": "f4"
         },
         "y": {
          "bdata": "AAAAAAAAAAAAAAAAAAAAAAAAAAAAAAAAAAAAAAAAAAAAAAAAAAAAAAAAAAAAAAAAAAAAAAAAAAAAAAAAAAAAAAAAAAAAAAAAAAAAAAAAAAAAAAAAAAAAAAAAAAAAAAAAAAAAAAAAAAAAAAAAAAAAAAAAAAAAAAAAAAAAAAAAAAAAAAAAAAAAAAAAAAAAAAAAAAAAAAAAAAAAAAAAAAAAAAAAAAAAAAAAAAAAAAAAAAAAAAAAAAAAAAAAAAAAAAAAAAAAAAAAAAAAAAAAAAAAAAAAAAAAAAAAAAAAAAAAAAAAAAAAAAAAAAAAAAAAAAAAAAAAAAAAAAAAAAAAAAAAAAAAAAAAAAAAAAAAAAAAAAAAAAAAAAAAAAAAAAAAAAAAAAAAAAAAAAAAAAAAAAAAAAAAAAAAAAAAAAAAAAAAAAAAAAAAAAAAAAAAAAAAAAAAAAAAAAAAAAAAAAAAAAAAAAAAAAAAAAAAAAAAAAAAAAAAAAAAAAAAAAAAAAAAAAAAAAAAAAAAAAAAAAAAAAAAAAAAAAAAAAAAAAAAAAAAAAAAAAAAAAAAAAAAAAAAAAAAAAAAAAAAAAAAAAAAAAAAAAAAAAAAAAAAAAAAAAAAAAAAAAAAAAAAAAAAAAAAAAAAAAAAAAAAAAA=",
          "dtype": "f4"
         }
        },
        {
         "hoverinfo": "name+x",
         "jitter": 0.2,
         "line": {
          "color": "#70cfcf"
         },
         "marker": {
          "color": "rgba(112,207,207,1)",
          "opacity": 0.1
         },
         "name": "White",
         "orientation": "h",
         "type": "box",
         "x": {
          "bdata": "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",
          "dtype": "f4"
         },
         "y": {
          "bdata": "AAAAAAAAAAAAAAAAAAAAAAAAAAAAAAAAAAAAAAAAAAAAAAAAAAAAAAAAAAAAAAAAAAAAAAAAAAAAAAAAAAAAAAAAAAAAAAAAAAAAAAAAAAAAAAAAAAAAAAAAAAAAAAAAAAAAAAAAAAAAAAAAAAAAAAAAAAAAAAAAAAAAAAAAAAAAAAAAAAAAAAAAAAAAAAAAAAAAAAAAAAAAAAAAAAAAAAAAAAAAAAAAAAAAAAAAAAAAAAAAAAAAAAAAAAAAAAAAAAAAAAAAAAAAAAAAAAAAAAAAAAAAAAAAAAAAAAAAAAAAAAAAAAAAAAAAAAAAAAAAAAAAAAAAAAAAAAAAAAAAAAAAAAAAAAAAAAAAAAAAAAAAAAAAAAAAAAAAAAAAAAAAAAAAAAAAAAAAAAAAAAAAAAAAAAAAAAAAAAAAAAAAAAAAAAAAAAAAAAAAAAAAAAAAAAAAAAAAAAAAAAAAAAAAAAAAAAAAAAAAAAAAAAAAAAAAAAAAAAAAAAAAAAAAAAAAAAAAAAAAAAAAAAAAAAAAAAAAAAAAAAAAAAAAAAAAAAAAAAAAAAAAAAAAAAAAAAAAAAAAAAAAAAAAAAAAAAAAAAAAAAAAAAAAAAAAAAAAAAAAAAAAAAAAAAAAAAAAAAAAAAAAAAAAAAAAAAAAAAAAAAAAAAAAAAAAAAAAAAAAAAAAAAAAAAAAAAAAAAAAAAAAAAAAAAAAAAAAAAAAAAAAAAAAAAAAAAAAAAAAAAAAAAAAAAAAAAAAAAAAAAAAAAAAAAAAAAAAAAAAAAAAAAAAAAAAAAAAAAAAAAAAAAAAAAAAAAAAAAAAAAAAAAAAAAAAAAAAAAAAAAAAAAAAAAAAAAAAAAAAAAAAAAAAAAAAAAAAAAAAAAAAAAAAAAAAAAAAAAAAAAAAAAAAAAAAAAAAAAAAAAAAAAAAAAAAAAAAAAAAAAAAAAAAAAAAAAAAAAAAAAAAAAAAAAAAAAAAAAAAAAAAAAAAAAAAAAAAAAAAAAAAAAAAAAAAAAAAAAAAAAAAAAAAAAAAAAAAAAAAAAAAAAAAAAAAAAAAAAAAAAAAAAAAAAAAAAAAAAAAAAAAAAAAAAAAAAAAAAAAAAAAAAAAAAAAAAAAAAAAAAAAAAAAAAAAAAAAAAAAAAAAAAAAAAAAAAAAAAAAAAAAAAAAAAAAAAAAAAAAAAAAAAAAAAAAAAAAAAAAAAAAAAAAAAAAAAAAAAAAAAAAAAAAAAAAAAAAAAAAAAAAAAAAAAAAAAAAAAAAAAAAAAAAAAAAAAAAAAAAAAAAAAAAAAAAAAAAAAAAAAAAAAAAAAAAAAAAAAAAAAAAAAAAAAAAAAAAAAAAAAAAAAAAAAAAAAAAAAAAAAAAAAAAAAAAAAAAAAAAAAAAAAAAAAAAAAAAAAAAAAAAAAAAAAAAAAAAAAAAAAAAAAAAAAAAAAAAAAAAAAAAAAAAAAAAAAAAAAAAAAAAAAAAAAAAAAAAAAAAAAAAAAAAAAAAAAAAAAAAAAAAAAAAAAAAAAAAAAAAAAAAAAAAAAAAAAAAAAAAAAAAAAAAAAAAAAAAAAAAAAAAAAAAAAAAAAAAAAAAAAAAAAAAAAAAAAAAAAAAAAAAAAAAAAAAAAAAAAAAAAAAAAAAAAAAAAAAAAAAAAAAAAAAAAAAAAAAAAAAAAAAAAAAAAAAAAAAAAAAAAAAAAAAAAAAAAAAAAAAAAAAAAAAAAAAAAAAAAAAAAAAAAAAAAAAAAAAAAAAAAAAAAAAAAAAAAAAAAAAAAAAAAAAAAAAAAAAAAAAAAAAAAAAAAAAAAAAAAAAAAAAAAAAAAAAAAAAAAAAAAAAAAAAAAAAAAAAAAAAAAAAAAAAAAAAAAAAAAAAAAAAAAAAAAAAAAAAAAAAAAAAAAAAAAAAAAAAAAAAAAAAAAAAAAAAAAAAAAAAAAAAAAAAAAAAAAAAAAAAAAAAAAAAAAAAAAAAAAAAAAAAAAAAAAAAAAAAAAAAAAAAAAAAAAAAAAAAAAAAAAAAAAAAAAAAAAAAAAAAAAAAAAAAAAAAAAAAAAAAAAAAAAAAAAAAAAAAAAAAAAAAAAAAAAAAAAAAAAAAAAAAAAAAAAAAAAAAAAAAAAAAAAAAAAAAAAAAAAAAAAAAAAAAAAAAAAAAAAAAAAAAAAAAAAAAAAAAAAAAAAAAAAAAAAAAAAAAAAAAAAAAAAAAAAAAAAAAAAAAAAAAAAAAAAAAAAAAAAAAAAAAAAAAAAAAAAAAAAAAAAAAAAAAAAAAAAAAAAAAAAAAAAAAAAAAAAAAAAAAAAAAAAAAAAAAAAAAAAAAAAAAAAAAAAAAAAAAAAAAAAAAAAAAAAAAAAAAAAAAAAAAAAAAAAAAAAAAAAAAAAAAAAAAAAAAAAAAAAAAAAAAAAAAAAAAAAAAAAAAAAAAAAAAAAAAAAAAAAAAAAAAAAAAAAAAAAAAAAAAAAAAAAAAAAAAAAAAAAAAAAAAAAAAAAAAAAAAAAAAAAAAAAAAAAAAAAAAAAAAAAAAAAAAAAAAAAAAAAAAAAAAAAAAAAAAAAAAAAAAAAAAAAAAAAAAAAAAAAAAAAAAAAAAAAAAAAAAAAAAAAAAAAAAAAAAAAAAAAAAAAAAAAAAAAAAAAAAAAAAAAAAAAAAAAAAAAAAAAAAAAAAAAAAAAAAAAAAAAAAAAAAAAAAAAAAAAAAAAAAAAAAAAAAAAAAAAAAAAAAAAAAAAAAAAAAAAAAAAAAAAAAAAAAAAAAAAAAAAAAAAAAAAAAAAAAAAAAAAAAAAAAAAAAAAAAAAAAAAAAAAAAAAAAAAAAAAAAAAAAAAAAAAAAAAAAAAAAAAAAAAAAAAAAAAAAAAAAAAAAAAAAAAAAAAAAAAAAAAAAAAAAAAAAAAAAAAAAAAAAAAAAAAAAAAAAAAAAAAAAAAAAAAAAAAAAAAAAAAAAAAAAAAAAAAAAAAAAAAAAAAAAAAAAAAAAAAAAAAAAAAAAAAAAAAAAAAAAAAAAAAAAAAAAAAAAAAAAAAAAAAAAAAAAAAAAAAAAAAAAAAAAAAAAAAAAAAAAAAAAAAAAAAAAAAAAAAAAAAAAAAAAAAAAAAAAAAAAAAAAAAAAAAAAAAAAAAAAAAAAAAAAAAAAAAAAAAAAAAAAAAAAAAAAAAAAAAAAAAAAAAAAAAAAAAAAAAAAAAAAAAAAAAAAAAAAAAAAAAAAAAAAAAAAAAAAAAAAAAAAAAAAAAAAAAAAAAAAAAAAAAAAAAAAAAAAAAAAAAAAAAAAAAAAAAAAAAAAAAAAAAAAAAAAAAAAAAAAAAAAAAAAAAAAAAAAAAAAAAAAAAAAAAAAAAAAAAAAAAAAAAAAAAAAAAAAAAAAAAAAAAAAAAAAAAAAAAAAAAAAAAAAAAAAAAAAAAAAAAAAAAAAAAAAAAAAAAAAAAAAAAAAAAAAAAAAAAAAAAAAAAAAAAAAAAAAAAAAAAAAAAAAAAAAAAAAAAAAAAAAAAAAAAAAAAAAAAAAAAAAAAAAAAAAAAAAAAAAAAAAAAAAAAAAAAAAAAAAAAAAAAAAAAAAAAAAAAAAAAAAAAAAAAAAAAAAAAAAAAAAAAAAAAAAAAAAAAAAAAAAAAAAAAAAAAAAAAAAAAAAAAAAAAAAAAAAAAAAAAAAAAAAAAAAAAAAAAAAAAAAAAAAAAAAAAAAAAAAAAAAAAAAAAAAAAAAAAAAAAAAAAAAAAAAAAAAAAAAAAAAAAAAAAAAAAAAAAAAAAAAAAAAAAAAAAAAAAAAAAAAAAAAAAAAAAAAAAAAAAAAAAAAAAAAAAAAAAAAAAAAAAAAAAAAAAAAAAAAAAAAAAAAAAAAAAAAAAAAAAAAAAAAAAAAAAAAAAAAAAAAAAAAAAAAAAAAAAAAAAAAAAAAAAAAAAAAAAAAAAAAAAAAAAAAAAAAAAAAAAAAAAAAAAAAAAAAAAAAAAAAAAAAAAAAAAAAAAAAAAAAAAAAAAAAAAAAAAAAAAAAAAAAAAAAAAAAAAAAAAAAAAAAAAAAAAAAAAAAAAAAAAAAAAAAAAAAAAAAAAAAAAAAAAAAAAAAAAAAAAAAAAAAAAAAAAAAAAAAAAAAAAAAAAAAAAAAAAAAAAAAAAAAAAAAAAAAAAAAAAAAAAAAAAAAAAAAAAAAAAAAAAAAAAAAAAAAAAAAAAAAAAAAAAAAAAAAAAAAAAAAAAAAAAAAAAAAAAAAAAAAAAAAAAAAAAAAAAAAAAAAAAAAAAAAAAAAAAAAAAAAAAAAAAAAAAAAAAAAAAAAAAAAAAAAAAAAAAAAAAAAAAAAAAAAAAAAAAAAAAAAAAAAAAAAAAAAAAAAAAAAAAAAAAAAAAAAAAAAAAAAAAAAAAAAAAAAAAAAAAAAAAAAAAAAAAAAAAAAAAAAAAAAAAAAAAAAAAAAAAAAAAAAAAAAAAAAAAAAAAAAAAAAAAAAAAAAAAAAAAAAAAAAAAAAAAAAAAAAAAAAAAAAAAAAAAAAAAAAAAAAAAAAAAAAAAAAAAAAAAAAAAAAAAAAAAAAAAAAAAAAAAAAAAAAAAAAAAAAAAAAAAAAAAAAAAAAAAAAAAAAAAAAAAAAAAAAAAAAAAAAAAAAAAAAAAAAAAAAAAAAAAAAAAAAAAAAAAAAAAAAAAAAAAAAAAAAAAAAAAAAAAAAAAAAAAAAAAAAAAAAAAAAAAAAAAAAAAAAAAAAAAAAAAAAAAAAAAAAAAAAAAAAAAAAAAAAAAAAAAAAAAAAAAAAAAAAAAAAAAAAAAAAAAAAAAAAAAAAAAAAAAAAAAAAAAAAAAAAAAAAAAAAAAAAAAAAAAAAAAAAAAAAAAAAAAAAAAAAAAAAAAAAAAAAAAAAAAAAAAAAAAAAAAAAAAAAAAAAAAAAAAAAAAAAAAAAAAAAAAAAAAAAAAAAAAAAAAAAAAAAAAAAAAAAAAAAAAAAAAAAAAAAAAAAAAAAAAAAAAAAAAAAAAAAAAAAAAAAAAAAAAAAAAAAAAAAAAAAAAAAAAAAAAAAAAAAAAAAAAAAAAAAAAAAAAAAAAAAAAAAAAAAAAAAAAAAAAAAAAAAAAAAAAAAAAAAAAAAAAAAAAAAAAAAAAAAAAAAAAAAAAAAAAAAAAAAAAAAAAAAAAAAAAAAAAAAAAAAAAAAAAAAAAAAAAAAAAAAAAAAAAAAAAAAAAAAAAAAAAAAAAAAAAAAAAAAAAAAAAAAAAAAAAAAAAAAAAAAAAAAAAAAAAAAAAAAAAAAAAAAAAAAAAAAAAAAAAAAAAAAAAAAAAAAAAAAAAAAAAAAAAAAAAAAAAAAAAAAAAAAAAAAAAAAAAAAAAAAAAAAAAAAAAAAAAAAAAAAAAAAAAAAAAAAAAAAAAAAAAAAAAAAAAAAAAAAAAAAAAAAAAAAAAAAAAAAAAAAAAAAAAAAAAAAAAAAAAAAAAAAAAAAAAAAAAAAAAAAAAAAAAAAAAAAAAAAAAAAAAAAAAAAAAAAAAAAAAAAAAAAAAAAAAAAAAAAAAAAAAAAAAAAAAAAAAAAAAAAAAAAAAAAAAAAAAAAAAAAAAAAAAAAAAAAAAAAAAAAAAAAAAAAAAAAAAAAAAAAAAAAAAAAAAAAAAAAAAAAAAAAAAAAAAAAAAAAAAAAAAAAAAAAAAAAAAAAAAAAAAAAAAAAAAAAAAAAAAAAAAAAAAAAAAAAAAAAAAAAAAAAAAAAAAAAAAAAAAAAAAAAAAAAAAAAAAAAAAAAAAAAAAAAAAAAAAAAAAAAAAAAAAAAAAAAAAAAAAAAAAAAAAAAAAAAAAAAAAAAAAAAAAAAAAAAAAAAAAAAAAAAAAAAAAAAAAAAAAAAAAAAAAAAAAAAAAAAAAAAAAAAAAAAAAAAAAAAAAAAAAAAAAAAAAAAAAAAAAAAAAAAAAAAAAAAAAAAAAAAAAAAAAAAAAAAAAAAAAAAAAAAAAAAAAAAAAAAAAAAAAAAAAAAAAAAAAAAAAAAAAAAAAAAAAAAAAAAAAAAAAAAAAAAAAAAAAAAAAAAAAAAAAAAAAAAAAAAAAAAAAAAAAAAAAAAAAAAAAAAAAAAAAAAAAAAAAAAAAAAAAAAAAAAAAAAAAAAAAAAAAAAAAAAAAAAAAAAAAAAAAAAAAAAAAAAAAAAAAAAAAAAAAAAAAAAAAAAAAAAAAAAAAAAAAAAAAAAAAAAAAAAAAAAAAAAAAAAAAAAAAAAAAAAAAAAAAAAAAAAAAAAAAAAAAAAAAAAAAAAAAAAAAAAAAAAAAAAAAAAAAAAAAAAAAAAAAAAAAAAAAAAAAAAAAAAAAAAAAAAAAAAAAAAAAAAAAAAAAAAAAAAAAAAAAAAAAAAAAAAAAAAAAAAAAAAAAAAAAAAAAAAAAAAAAAAAAAAAAAAAAAAAAAAAAAAAAAAAAAAAAAAAAAAAAAAAAAAAAAAAAAAAAAAAAAAAAAAAAAAAAAAAAAAAAAAAAAAAAAAAAAAAAAAAAAAAAAAAAAAAAAAAAAAAAAAAAAAAAAAAAAAAAAAAAAAAAAAAAAAAAAAAAAAAAAAAAAAAAAAAAAAAAAAAAAAAAAAAAAAAAAAAAAAAAAAAAAAAAAAAAAAAAAAAAAAAAAAAAAAAAAAAAAAAAAAAAAAAAAAAAAAAAAAAAAAAAAAAAAAAAAAAAAAAAAAAAAAAAAAAAAAAAAAAAAAAAAAAAAAAAAAAAAAAAAAAAAAAAAAAAAAAAAAAAAAAAAAAAAAAAAAAAAAAAAAAAAAAAAAAAAAAAAAAAAAAAAAAAAAAAAAAAAAAAAAAAAAAAAAAAAAAAAAAAAAAAAAAAAAAAAAAAAAAAAAAAAAAAAAAAAAAAAAAAAAAAAAAAAAAAAAAAAAAAAAAAAAAAAAAAAAAAAAAAAAAAAAAAAAAAAAAAAAAAAAAAAAAAAAAAAAAAAAAAAAAAAAAAAAAAAAAAAAAAAAAAAAAAAAAAAAAAAAAAAAAAAAAAAAAAAAAAAAAAAAAAAAAAAAAAAAAAAAAAAAAAAAAAAAAAAAAAAAAAAAAAAAAAAAAAAAAAAAAAAAAAAAAAAAAAAAAAAAAAAAAAAAAAAAAAAAAAAAAAAAAAAAAAAAAAAAAAAAAAAAAAAAAAAAAAAAAAAAAAAAAAAAAAAAAAAAAAAAAAAAAAAAAAAAAAAAAAAAAAAAAAAAAAAAAAAAAAAAAAAAAAAAAAAAAAAAAAAAAAAAAAAAAAAAAAAAAAAAAAAAAAAAAAAAAAAAAAAAAAAAAAAAAAAAAAAAAAAAAAAAAAAAAAAAAAAAAAAAAAAAAAAAAAAAAAAAAAAAAAAAAAAAAAAAAAAAAAAAAAAAAAAAAAAAAAAAAAAAAAAAAAAAAAAAAAAAAAAAAAAAAAAAAAAAAAAAAAAAAAAAAAAAAAAAAAAAAAAAAAAAAAAAAAAAAAAAAAAAAAAAAAAAAAAAAAAAAAAAAAAAAAAAAAAAAAAAAAAAAAAAAAAAAAAAAAAAAAAAAAAAAAAAAAAAAAAAAAAAAAAAAAAAAAAAAAAAAAAAAAAAAAAAAAAAAAAAAAAAAAAAAAAAAAAAAAAAAAAAAAAAAAAAAAAAAAAAAAAAAAAAAAAAAAAAAAAAAAAAAAAAAAAAAAAAAAAAAAAAAAAAAAAAAAAAAAAAAAAAAAAAAAAAAAAAAAAAAAAAAAAAAAAAAAAAAAAAAAAAAAAAAAAAAAAAAAAAAAAAAAAAAAAAAAAAAAAAAAAAAAAAAAAAAAAAAAAAAAAAAAAAAAAAAAAAAAAAAAAAAAAAAAAAAAAAAAAAAAAAAAAAAAAAAAAAAAAAAAAAAAAAAAAAAAAAAAAAAAAAAAAAAAAAAAAAAAAAAAAAAAAAAAAAAAAAAAAAAAAAAAAAAAAAAAAAAAAAAAAAAAAAAAAAAAAAAAAAAAAAAAAAAAAAAAAAAAAAAAAAAAAAAAAAAAAAAAAAAAAAAAAAAAAAAAAAAAAAAAAAAAAAAAAAAAAAAAAAAAAAAAAAAAAAAAAAAAAAAAAAAAAAAAAAAAAAAAAAAAAAAAAAAAAAAAAAAAAAAAAAAAAAAAAAAAAAAAAAAAAAAAAAAAAAAAAAAAAAAAAAAAAAAAAAAAAAAAAAAAAAAAAAAAAAAAAAAAAAAAAAAAAAAAAAAAAAAAAAAAAAAAAAAAAAAAAAAAAAAAAAAAAAAAAAAAAAAAAAAAAAAAAAAAAAAAAAAAAAAAAAAAAAAAAAAAAAAAAAAAAAAAAAAAAAAAAAAAAAAAAAAAAAAAAAAAAAAAAAAAAAAAAAAAAAAAAAAAAAAAAAAAAAAAAAAAAAAAAAAAAAAAAAAAAAAAAAAAAAAAAAAAAAAAAAAAAAAAAAAAAAAAAAAAAAAAAAAAAAAAAAAAAAAAAAAAAAAAAAAAAAAAAAAAAAAAAAAAAAAAAAAAAAAAAAAAAAAAAAAAAAAAAAAAAAAAAAAAAAAAAAAAAAAAAAAAAAAAAAAAAAAAAAAAAAAAAAAAAAAAAAAAAAAAAAAAAAAAAAAAAAAAAAAAAAAAAAAAAAAAAAAAAAAAAAAAAAAAAAAAAAAAAAAAAAAAAAAAAAAAAAAAAAAAAAAAAAAAAAAAAAAAAAAAAAAAAAAAAAAAAAAAAAAAAAAAAAAAAAAAAAAAAAAAAAAAAAAAAAAAAAAAAAAAAAAAAAAAAAAAAAAAAAAAAAAAAAAAAAAAAAAAAAAAAAAAAAAAAAAAAAAAAAAAAAAAAAAAAAAAAAAAAAAAAAAAAAAAAAAAAAAAAAAAAAAAAAAAAAAAAAAAAAAAAAAAAAAAAAAAAAAAAAAAAAAAAAAAAAAAAAAAAAAAAAAAAAAAAAAAAAAAAAAAAAAAAAAAAAAAAAAAAAAAAAAAAAAAAAAAAAAAAAAAAAAAAAAAAAAAAAAAAAAAAAAAAAAAAAAAAAAAAAAAAAAAAAAAAAAAAAAAAAAAAAAAAAAAAAAAAAAAAAAAAAAAAAAAAAAAAAAAAAAAAAAAAAAAAAAAAAAAAAAAAAAAAAAAAAAAAAAAAAAAAAAAAAAAAAAAAAAAAAAAAAAAAAAAAAAAAAAAAAAAAAAAAAAAAAAAAAAAAAAAAAAAAAAAAAAAAAAAAAAAAAAAAAAAAAAAAAAAAAAAAAAAAAAAAAAAAAAAAAAAAAAAAAAAAAAAAAAAAAAAAAAAAAAAAAAAAAAAAAAAAAAAAAAAAAAAAAAAAAAAAAAAAAAAAAAAAAAAAAAAAAAAAAAAAAAAAAAAAAAAAAAAAAAAAAAAAAAAAAAAAAAAAAAAAAAAAAAAAAAAAAAAAAAAAAAAAAAAAAAAAAAAAAAAAAAAAAAAAAAAAAAAAAAAAAAAAAAAAAAAAAAAAAAAAAAAAAAAAAAAAAAAAAAAAAAAAAAAAAAAAAAAAAAAAAAAAAAAAAAAAAAAAAAAAAAAAAAAAAAAAAAAAAAAAAAAAAAAAAAAAAAAAAAAAAAAAAAAAAAAAAAAAAAAAAAAAAAAAAAAAAAAAAAAAAAAAAAAAAAAAAAAAAAAAAAAAAAAAAAAAAAAAAAAAAAAAAAAAAAAAAAAAAAAAAAAAAAAAAAAAAAAAAAAAAAAAAAAAAAAAAAAAAAAAAAAAAAAAAAAAAAAAAAAAAAAAAAAAAAAAAAAAAAAAAAAAAAAAAAAAAAAAAAAAAAAAAAAAAAAAAAAAAAAAAAAAAAAAAAAAAAAAAAAAAAAAAAAAAAAAAAAAAAAAAAAAAAAAAAAAAAAAAAAAAAAAAAAAAAAAAAAAAAAAAAAAAAAAAAAAAAAAAAAAAAAAAAAAAAAAAAAAAAAAAAAAAAAAAAAAAAAAAAAAAAAAAAAAAAAAAAAAAAAAAAAAAAAAAAAAAAAAAAAAAAAAAAAAAAAAAAAAAAAAAAAAAAAAAAAAAAAAAAAAAAAAAAAAAAAAAAAAAAAAAAAAAAAAAAAAAAAAAAAAAAAAAAAAAAAAAAAAAAAAAAAAAAAAAAAAAAAAAAAAAAAAAAAAAAAAAAAAAAAAAAAAAAAAAAAAAAAAAAAAAAAAAAAAAAAAAAAAAAAAAAAAAAAAAAAAAAAAAAAAAAAAAAAAAAAAAAAAAAAAAAAAAAAAAAAAAAAAAAAAAAAAAAAAAAAAAAAAAAAAAAAAAAAAAAAAAAAAAAAAAAAAAAAAAAAAAAAAAAAAAAAAAAAAAAAAAAAAAAAAAAAAAAAAAAAAAAAAAAAAAAAAAAAAAAAAAAAAAAAAAAAAAAAAAAAAAAAAAAAAAAAAAAAAAAAAAAAAAAAAAAAAAAAAAAAAAAAAAAAAAAAAAAAAAAAAAAAAAAAAAAAAAAAAAAAAAAAAAAAAAAAAAAAAAAAAAAAAAAAAAAAAAAAAAAAAAAAAAAAAAAAAAAAAAAAAAAAAAAAAAAAAAAAAAAAAAAAAAAAAAAAAAAAAAAAAAAAAAAAAAAAAAAAAAAAAAAAAAAAAAAAAAAAAAAAAAAAAAAAAAAAAAAAAAAAAAAAAAAAAAAAAAAAAAAAAAAAAAAAAAAAAAAAAAAAAAAAAAAAAAAAAAAAAAAAAAAAAAAAAAAAAAAAAAAAAAAAAAAAAAAAAAAAAAAAAAAAAAAAAAAAAAAAAAAAAAAAAAAAAAAAAAAAAAAAAAAAAAAAAAAAAAAAAAAAAAAAAAAAAAAAAAAAAAAAAAAAAAAAAAAAAAAAAAAAAAAAAAAAAAAAAAAAAAAAAAAAAAAAAAAAAAAAAAAAAAAAAAAAAAAAAAAAAAAAAAAAAAAAAAAAAAAAAAAAAAAAAAAAAAAAAAAAAAAAAAAAAAAAAAAAAAAAAAAAAAAAAAAAAAAAAAAAAAAAAAAAAAAAAAAAAAAAAAAAAAAAAAAAAAAAAAAAAAAAAAAAAAAAAAAAAAAAAAAAAAAAAAAAAAAAAAAAAAAAAAAAAAAAAAAAAAAAAAAAAAAAAAAAAAAAAAAAAAAAAAAAAAAAAAAAAAAAAAAAAAAAAAAAAAAAAAAAAAAAAAAAAAAAAAAAAAAAAAAAAAAAAAAAAAAAAAAAAAAAAAAAAAAAAAAAAAAAAAAAAAAAAAAAAAAAAAAAAAAAAAAAAAAAAAAAAAAAAAAAAAAAAAAAAAAAAAAAAAAAAAAAAAAAAAAAAAAAAAAAAAAAAAAAAAAAAAAAAAAAAAAAAAAAAAAAAAAAAAAAAAAAAAAAAAAAAAAAAAAAAAAAAAAAAAAAAAAAAAAAAAAAAAAAAAAAAAAAAAAAAAAAAAAAAAAAAAAAAAAAAAAAAAAAAAAAAAAAAAAAAAAAAAAAAAAAAAAAAAAAAAAAAAAAAAAAAAAAAAAAAAAAAAAAAAAAAAAAAAAAAAAAAAAAAAAAAAAAAAAAAAAAAAAAAAAAAAAAAAAAAAAAAAAAAAAAAAAAAAAAAAAAAAAAAAAAAAAAAAAAAAAAAAAAAAAAAAAAAAAAAAAAAAAAAAAAAAAAAAAAAAAAAAAAAAAAAAAAAAAAAAAAAAAAAAAAAAAAAAAAAAAAAAAAAAAAAAAAAAAAAAAAAAAAAAAAAAAAAAAAAAAAAAAAAAAAAAAAAAAAAAAAAAAAAAAAAAAAAAAAAAAAAAAAAAAAAAAAAAAAAAAAAAAAAAAAAAAAAAAAAAAAAAAAAAAAAAAAAAAAAAAAAAAAAAAAAAAAAAAAAAAAAAAAAAAAAAAAAAAAAAAAAAAAAAAAAAAAAAAAAAAAAAAAAAAAAAAAAAAAAAAAAAAAAAAAAAAAAAAAAAAAAAAAAAAAAAAAAAAAAAAAAAAAAAAAAAAAAAAAAAAAAAAAAAAAAAAAAAAAAAAAAAAAAAAAAAAAAAAAAAAAAAAAAAAAAAAAAAAAAAAAAAAAAAAAAAAAAAAAAAAAAAAAAAAAAAAAAAAAAAAAAAAAAAAAAAAAAAAAAAAAAAAAAAAAAAAAAAAAAAAAAAAAAAAAAAAAAAAAAAAAAAAAAAAAAAAAAAAAAAAAAAAAAAAAAAAAAAAAAAAAAAAAAAAAAAAAAAAAAAAAAAAAAAAAAAAAAAAAAAAAAAAAAAAAAAAAAAAAAAAAAAAAAAAAAAAAAAAAAAAAAAAAAAAAAAAAAAAAAAAAAAAAAAAAAAAAAAAAAAAAAAAAAAAAAAAAAAAAAAAAAAAAAAAAAAAAAAAAAAAAAAAAAAAAAAAAAAAAAAAAAAAAAAAAAAAAAAAAAAAAAAAAAAAAAAAAAAAAAAAAAAAAAAAAAAAAAAAAAAAAAAAAAAAAAAAAAAAAAAAAAAAAAAAAAAAAAAAAAAAAAAAAAAAAAAAAAAAAAAAAAAAAAAAAAAAAAAAAAAAAAAAAAAAAAAAAAAAAAAAAAAAAAAAAAAAAAAAAAAAAAAAAAAAAAAAAAAAAAAAAAAAAAAAAAAAAAAAAAAAAAAAAAAAAAAAAAAAAAAAAAAAAAAAAAAAAAAAAAAAAAAAAAAAAAAAAAAAAAAAAAAAAAAAAAAAAAAAAAAAAAAAAAAAAAAAAAAAAAAAAAAAAAAAAAAAAAAAAAAAAAAAAAAAAAAAAAAAAAAAAAAAAAAAAAAAAAAAAAAAAAAAAAAAAAAAAAAAAAAAAAAAAAAAAAAAAAAAAAAAAAAAAAAAAAAAAAAAAAAAAAAAAAAAAAAAAAAAAAAAAAAAAAAAAAAAAAAAAAAAAAAAAAAAAAAAAAAAAAAAAAAAAAAAAAAAAAAAAAAAAAAAAAAAAAAAAAAAAAAAAAAAAAAAAAAAAAAAAAAAAAAAAAAAAAAAAAAAAAAAAAAAAAAAAAAAAAAAAAAAAAAAAAAAAAAAAAAAAAAAAAAAAAAAAAAAAAAAAAAAAAAAAAAAAAAAAAAAAAAAAAAAAAAAAAAAAAAAAAAAAAAAAAAAAAAAAAAAAAAAAAAAAAAAAAAAAAAAAAAAAAAAAAAAAAAAAAAAAAAAAAAAAAAAAAAAAAAAAAAAAAAAAAAAAAAAAAAAAAAAAAAAAAAAAAAAAAAAAAAAAAAAAAAAAAAAAAAAAAAAAAAAAAAAAAAAAAAAAAAAAAAAAAAAAAAAAAAAAAAAAAAAAAAAAAAAAAAAAAAAAAAAAAAAAAAAAAAAAAAAAAAAAAAAAAAAAAAAAAAAAAAAAAAAAAAAAAAAAAAAAAAAAAAAAAAAAAAAAAAAAAAAAAAAAAAAAAAAAAAAAAAAAAAAAAAAAAAAAAAAAAAAAAAAAAAAAAAAAAAAAAAAAAAAAAAAAAAAAAAAAAAAAAAAAAAAAAAAAAAAAAAAAAAAAAAAAAAAAAAAAAAAAAAAAAAAAAAAAAAAAAAAAAAAAAAAAAAAAAAAAAAAAAAAAAAAAAAAAAAAAAAAAAAAAAAAAAAAAAAAAAAAAAAAAAAAAAAAAAAAAAAAAAAAAAAAAAAAAAAAAAAAAAAAAAAAAAAAAAAAAAAAAAAAAAAAAAAAAAAAAAAAAAAAAAAAAAAAAAAAAAAAAAAAAAAAAAAAAAAAAAAAAAAAAAAAAAAAAAAAAAAAAAAAAAAAAAAAAAAAAAAAAAAAAAAAAAAAAAAAAAAAAAAAAAAAAAAAAAAAAAAAAAAAAAAAAAAAAAAAAAAAAAAAAAAAAAAAAAAAAAAAAAAAAAAAAAAAAAAAAAAAAAAAAAAAAAAAAAAAAAAAAAAAAAAAAAAAAAAAAAAAAAAAAAAAAAAAAAAAAAAAAAAAAAAAAAAAAAAAAAAAAAAAAAAAAAAAAAAAAAAAAAAAAAAAAAAAAAAAAAAAAAAAAAAAAAAAAAAAAAAAAAAAAAAAAAAAAAAAAAAAAAAAAAAAAAAAAAAAAAAAAAAAAAAAAAAAAAAAAAAAAAAAAAAAAAAAAAAAAAAAAAAAAAAAAAAAAAAAAAAAAAAAAAAAAAAAAAAAAAAAAAAAAAAAAAAAAAAAAAAAAAAAAAAAAAAAAAAAAAAAAAAAAAAAAAAAAAAAAAAAAAAAAAAAAAAAAAAAAAAAAAAAAAAAAAAAAAAAAAAAAAAAAAAAAAAAAAAAAAAAAAAAAAAAAAAAAAAAAAAAAAAAAAAAAAAAAAAAAAAAAAAAAAAAAAAAAAAAAAAAAAAAAAAAAAAAAAAAAAAAAAAAAAAAAAAAAAAAAAAAAAAAAAAAAAAAAAAAAAAAAAAAAAAAAAAAAAAAAAAAAAAAAAAAAAAAAAAAAAAAAAAAAAAAAAAAAAAAAAAAAAAAAAAAAAAAAAAAAAAAAAAAAAAAAAAAAAAAAAAAAAAAAAAAAAAAAAAAAAAAAAAAAAAAAAAAAAAAAAAAAAAAAAAAAAAAAAAAAAAAAAAAAAAAAAAAAAAAAAAAAAAAAAAAAAAAAAAAAAAAAAAAAAAAAAAAAAAAAAAAAAAAAAAAAAAAAAAAAAAAAAAAAAAAAAAAAAAAAAAAAAAAAAAAAAAAAAAAAAAAAAAAAAAAAAAAAAAAAAAAAAAAAAAAAAAAAAAAAAAAAAAAAAAAAAAAAAAAAAAAAAAAAAAAAAAAAAAAAAAAAAAAAAAAAAAAAAAAAAAAAAAAAAAAAAAAAAAAAAAAAAAAAAAAAAAAAAAAAAAAAAAAAAAAAAAAAAAAAAAAAAAAAAAAAAAAAAAAAAAAAAAAAAAAAAAAAAAAAAAAAAAAAAAAAAAAAAAAAAAAAAAAAAAAAAAAAAAAAAAAAAAAAAAAAAAAAAAAAAAAAAAAAAAAAAAAAAAAAAAAAAAAAAAAAAAAAAAAAAAAAAAAAAAAAAAAAAAAAAAAAAAAAAAAAAAAAAAAAAAAAAAAAAAAAAAAAAAAAAAAAAAAAAAAAAAAAAAAAAAAAAAAAAAAAAAAAAAAAAAAAAAAAAAAAAAAAAAAAAAAAAAAAAAAAAAAAAAAAAAAAAAAAAAAAAAAAAAAAAAAAAAAAAAAAAAAAAAAAAAAAAAAAAAAAAAAAAAAAAAAAAAAAAAAAAAAAAAAAAAAAAAAAAAAAAAAAAAAAAAAAAAAAAAAAAAAAAAAAAAAAAAAAAAAAAAAAAAAAAAAAAAAAAAAAAAAAAAAAAAAAAAAAAAAAAAAAAAAAAAAAAAAAAAAAAAAAAAAAAAAAAAAAAAAAAAAAAAAAAAAAAAAAAAAAAAAAAAAAAAAAAAAAAAAAAAAAAAAAAAAAAAAAAAAAAAAAAAAAAAAAAAAAAAAAAAAAAAAAAAAAAAAAAAAAAAAAAAAAAAAAAAAAAAAAAAAAAAAAAAAAAAAAAAAAAAAAAAAAAAAAAAAAAAAAAAAAAAAAAAAAAAAAAAAAAAAAAAAAAAAAAAAAAAAAAAAAAAAAAAAAAAAAAAAAAAAAAAAAAAAAAAAAAAAAAAAAAAAAAAAAAAAAAAAAAAAAAAAAAAAAAAAAAAAAAAAAAAAAAAAAAAAAAAAAAAAAAAAAAAAAAAAAAAAAAAAAAAAAAAAAAAAAAAAAAAAAAAAAAAAAAAAAAAAAAAAAAAAAAAAAAAAAAAAAAAAAAAAAAAAAAAAAAAAAAAAAAAAAAAAAAAAAAAAAAAAAAAAAAAAAAAAAAAAAAAAAAAAAAAAAAAAAAAAAAAAAAAAAAAAAAAAAAAAAAAAAAAAAAAAAAAAAAAAAAAAAAAAAAAAAAAAAAAAAAAAAAAAAAAAAAAAAAAAAAAAAAAAAAAAAAAAAAAAAAAAAAAAAAAAAAAAAAAAAAAAAAAAAAAAAAAAAAAAAAAAAAAAAAAAAAAAAAAAAAAAAAAAAAAAAAAAAAAAAAAAAAAAAAAAAAAAAAAAAAAAAAAAAAAAAAAAAAAAAAAAAAAAAAAAAAAAAAAAAAAAAAAAAAAAAAAAAAAAAAAAAAAAAAAAAAAAAAAAAAAAAAAAAAAAAAAAAAAAAAAAAAAAAAAAAAAAAAAAAAAAAAAAAAAAAAAAAAAAAAAAAAAAAAAAAAAAAAAAAAAAAAAAAAAAAAAAAAAAAAAAAAAAAAAAAAAAAAAAAAAAAAAAAAAAAAAAAAAAAAAAAAAAAAAAAAAAAAAAAAAAAAAAAAAAAAAAAAAAAAAAAAAAAAAAAAAAAAAAAAAAAAAAAAAAAAAAAAAAAAAAAAAAAAAAAAAAAAAAAAAAAAAAAAAAAAAAAAAAAAAAAAAAAAAAAAAAAAAAAAAAAAAAAAAAAAAAAAAAAAAAAAAAAAAAAAAAAAAAAAAAAAAAAAAAAAAAAAAAAAAAAAAAAAAAAAAAAAAAAAAAAAAAAAAAAAAAAAAAAAAAAAAAAAAAAAAAAAAAAAAAAAAAAAAAAAAAAAAAAAAAAAAAAAAAAAAAAAAAAAAAAAAAAAAAAAAAAAAAAAAAAAAAAAAAAAAAAAAAAAAAAAAAAAAAAAAAAAAAAAAAAAAAAAAAAAAAAAAAAAAAAAAAAAAAAAAAAAAAAAAAAAAAAAAAAAAAAAAAAAAAAAAAAAAAAAAAAAAAAAAAAAAAAAAAAAAAAAAAAAAAAAAAAAAAAAAAAAAAAAAAAAAAAAAAAAAAAAAAAAAAAAAAAAAAAAAAAAAAAAAAAAAAAAAAAAAAAAAAAAAAAAAAAAAAAAAAAAAAAAAAAAAAAAAAAAAAAAAAAAAAAAAAAAAAAAAAAAAAAAAAAAAAAAAAAAAAAAAAAAAAAAAAAAAAAAAAAAAAAAAAAAAAAAAAAAAAAAAAAAAAAAAAAAAAAAAAAAAAAAAAAAAAAAAAAAAAAAAAAAAAAAAAAAAAAAAAAAAAAAAAAAAAAAAAAAAAAAAAAAAAAAAAAAAAAAAAAAAAAAAAAAAAAAAAAAAAAAAAAAAAAAAAAAAAAAAAAAAAAAAAAAAAAAAAAAAAAAAAAAAAAAAAAAAAAAAAAAAAAAAAAAAAAAAAAAAAAAAAAAAAAAAAAAAAAAAAAAAAAAAAAAAAAAAAAAAAAAAAAAAAAAAAAAAAAAAAAAAAAAAAAAAAAAAAAAAAAAAAAAAAAAAAAAAAAAAAAAAAAAAAAAAAAAAAAAAAAAAAAAAAAAAAAAAAAAAAAAAAAAAAAAAAAAAAAAAAAAAAAAAAAAAAAAAAAAAAAAAAAAAAAAAAAAAAAAAAAAAAAAAAAAAAAAAAAAAAAAAAAAAAAAAAAAAAAAAAAAAAAAAAAAAAAAAAAAAAAAAAAAAAAAAAAAAAAAAAAAAAAAAAAAAAAAAAAAAAAAAAAAAAAAAAAAAAAAAAAAAAAAAAAAAAAAAAAAAAAAAAAAAAAAAAAAAAAAAAAAAAAAAAAAAAAAAAAAAAAAAAAAAAAAAAAAAAAAAAAAAAAAAAAAAAAAAAAAAAAAAAAAAAAAAAAAAAAAAAAAAAAAAAAAAAAAAAAAAAAAAAAAAAAAAAAAAAAAAAAAAAAAAAAAAAAAAAAAAAAAAAAAAAAAAAAAAAAAAAAAAAAAAAAAAAAAAAAAAAAAAAAAAAAAAAAAAAAAAAAAAAAAAAAAAAAAAAAAAAAAAAAAAAAAAAAAAAAAAAAAAAAAAAAAAAAAAAAAAAAAAAAAAAAAAAAAAAAAAAAAAAAAAAAAAAAAAAAAAAAAAAAAAAAAAAAAAAAAAAAAAAAAAAAAAAAAAAAAAAAAAAAAAAAAAAAAAAAAAAAAAAAAAAAAAAAAAAAAAAAAAAAAAAAAAAAAAAAAAAAAAAAAAAAAAAAAAAAAAAAAAAAAAAAAAAAAAAAAAAAAAAAAAAAAAAAAAAAAAAAAAAAAAAAAAAAAAAAAAAAAAAAAAAAAAAAAAAAAAAAAAAAAAAAAAAAAAAAAAAAAAAAAAAAAAAAAAAAAAAAAAAAAAAAAAAAAAAAAAAAAAAAAAAAAAAAAAAAAAAAAAAAAAAAAAAAAAAAAAAAAAAAAAAAAAAAAAAAAAAAAAAAAAAAAAAAAAAAAAAAAAAAAAAAAAAAAAAAAAAAAAAAAAAAAAAAAAAAAAAAAAAAAAAAAAAAAAAAAAAAAAAAAAAAAAAAAAAAAAAAAAAAAAAAAAAAAAAAAAAAAAAAAAAAAAAAAAAAAAAAAAAAAAAAAAAAAAAAAAAAAAAAAAAAAAAAAAAAAAAAAAAAAAAAAAAAAAAAAAAAAAAAAAAAAAAAAAAAAAAAAAAAAAAAAAAAAAAAAAAAAAAAAAAAAAAAAAAAAAAAAAAAAAAAAAAAAAAAAAAAAAAAAAAAAAAAAAAAAAAAAAAAAAAAAAAAAAAAAAAAAAAAAAAAAAAAAAAAAAAAAAAAAAAAAAAAAAAAAAAAAAAAAAAAAAAAAAAAAAAAAAAAAAAAAAAAAAAAAAAAAAAAAAAAAAAAAAAAAAAAAAAAAAAAAAAAAAAAAAAAAAAAAAAAAAAAAAAAAAAAAAAAAAAAAAAAAAAAAAAAAAAAAAAAAAAAAAAAAAAAAAAAAAAAAAAAAAAAAAAAAAAAAAAAAAAAAAAAAAAAAAAAAAAAAAAAAAAAAAAAAAAAAAAAAAAAAAAAAAAAAAAAAAAAAAAAAAAAAAAAAAAAAAAAAAAAAAAAAAAAAAAAAAAAAAAAAAAAAAAAAAAAAAAAAAAAAAAAAAAAAAAAAAAAAAAAAAAAAAAAAAAAAAAAAAAAAAAAAAAAAAAAAAAAAAAAAAAAAAAAAAAAAAAAAAAAAAAAAAAAAAAAAAAAAAAAAAAAAAAAAAAAAAAAAAAAAAAAAAAAAAAAAAAAAAAAAAAAAAAAAAAAAAAAAAAAAAAAAAAAAAAAAAAAAAAAAAAAAAAAAAAAAAAAAAAAAAAAAAAAAAAAAAAAAAAAAAAAAAAAAAAAAAAAAAAAAAAAAAAAAAAAAAAAAAAAAAAAAAAAAAAAAAAAAAAAAAAAAAAAAAAAAAAAAAAAAAAAAAAAAAAAAAAAAAAAAAAAAAAAAAAAAAAAAAAAAAAAAAAAAAAAAAAAAAAAAAAAAAAAAAAAAAAAAAAAAAAAAAAAAAAAAAAAAAAAAAAAAAAAAAAAAAAAAAAAAAAAAAAAAAAAAAAAAAAAAAAAAAAAAAAAAAAAAAAAAAAAAAAAAAAAAAAAAAAAAAAAAAAAAAAAAAAAAAAAAAAAAAAAAAAAAAAAAAAAAAAAAAAAAAAAAAAAAAAAAAAAAAAAAAAAAAAAAAAAAAAAAAAAAAAAAAAAAAAAAAAAAAAAAAAAAAAAAAAAAAAAAAAAAAAAAAAAAAAAAAAAAAAAAAAAAAAAAAAAAAAAAAAAAAAAAAAAAAAAAAAAAAAAAAAAAAAAAAAAAAAAAAAAAAAAAAAAAAAAAAAAAAAAAAAAAAAAAAAAAAAAAAAAAAAAAAAAAAAAAAAAAAAAAAAAAAAAAAAAAAAAAAAAAAAAAAAAAAAAAAAAAAAAAAAAAAAAAAAAAAAAAAAAAAAAAAAAAAAAAAAAAAAAAAAAAAAAAAAAAAAAAAAAAAAAAAAAAAAAAAAAAAAAAAAAAAAAAAAAAAAAAAAAAAAAAAAAAAAAAAAAAAAAAAAAAAAAAAAAAAAAAAAAAAAAAAAAAAAAAAAAAAAAAAAAAAAAAAAAAAAAAAAAAAAAAAAAAAAAAAAAAAAAAAAAAAAAAAAAAAAAAAAAAAAAAAAAAAAAAAAAAAAAAAAAAAAAAAAAAAAAAAAAAAAAAAAAAAAAAAAAAAAAAAAAAAAAAAAAAAAAAAAAAAAAAAAAAAAAAAAAAAAAAAAAAAAAAAAAAAAAAAAAAAAAAAAAAAAAAAAAAAAAAAAAAAAAAAAAAAAAAAAAAAAAAAAAAAAAAAAAAAAAAAAAAAAAAAAAAAAAAAAAAAAAAAAAAAAAAAAAAAAAAAAAAAAAAAAAAAAAAAAAAAAAAAAAAAAAAAAAAAAAAAAAAAAAAAAAAAAAAAAAAAAAAAAAAAAAAAAAAAAAAAAAAAAAAAAAAAAAAAAAAAAAAAAAAAAAAAAAAAAAAAAAAAAAAAAAAAAAAAAAAAAAAAAAAAAAAAAAAAAAAAAAAAAAAAAAAAAAAAAAAAAAAAAAAAAAAAAAAAAAAAAAAAAAAAAAAAAAAAAAAAAAAAAAAAAAAAAAAAAAAAAAAAAAAAAAAAAAAAAAAAAAAAAAAAAAAAAAAAAAAAAAAAAAAAAAAAAAAAAAAAAAAAAAAAAAAAAAAAAAAAAAAAAAAAAAAAAAAAAAAAAAAAAAAAAAAAAAAAAAAAAAAAAAAAAAAAAAAAAAAAAAAAAAAAAAAAAAAAAAAAAAAAAAAAAAAAAAAAAAAAAAAAAAAAAAAAAAAAAAAAAAAAAAAAAAAAAAAAAAAAAAAAAAAAAAAAAAAAAAAAAAAAAAAAAAAAAAAAAAAAAAAAAAAAAAAAAAAAAAAAAAAAAAAAAAAAAAAAAAAAAAAAAAAAAAAAAAAAAAAAAAAAAAAAAAAAAAAAAAAAAAAAAAAAAAAAAAAAAAAAAAAAAAAAAAAAAAAAAAAAAAAAAAAAAAAAAAAAAAAAAAAAAAAAAAAAAAAAAAAAAAAAAAAAAAAAAAAAAAAAAAAAAAAAAAAAAAAAAAAAAAAAAAAAAAAAAAAAAAAAAAAAAAAAAAAAAAAAAAAAAAAAAAAAAAAAAAAAAAAAAAAAAAAAAAAAAAAAAAAAAAAAAAAAAAAAAAAAAAAAAAAAAAAAAAAAAAAAAAAAAAAAAAAAAAAAAAAAAAAAAAAAAAAAAAAAAAAAAAAAAAAAAAAAAAAAAAAAAAAAAAAAAAAAAAAAAAAAAAAAAAAAAAAAAAAAAAAAAAAAAAAAAAAAAAAAAAAAAAAAAAAAAAAAAAAAAAAAAAAAAAAAAAAAAAAAAAAAAAAAAAAAAAAAAAAAAAAAAAAAAAAAAAAAAAAAAAAAAAAAAAAAAAAAAAAAAAAAAAAAAAAAAAAAAAAAAAAAAAAAAAAAAAAAAAAAAAAAAAAAAAAAAAAAAAAAAAAAAAAAAAAAAAAAAAAAAAAAAAAAAAAAAAAAAAAAAAAAAAAAAAAAAAAAAAAAAAAAAAAAAAAAAAAAAAAAAAAAAAAAAAAAAAAAAAAAAAAAAAAAAAAAAAAAAAAAAAAAAAAAAAAAAAAAAAAAAAAAAAAAAAAAAAAAAAAAAAAAAAAAAAAAAAAAAAAAAAAAAAAAAAAAAAAAAAAAAAAAAAAAAAAAAAAAAAAAAAAAAAAAAAAAAAAAAAAAAAAAAAAAAAAAAAAAAAAAAAAAAAAAAAAAAAAAAAAAAAAAAAAAAAAAAAAAAAAAAAAAAAAAAAAAAAAAAAAAAAAAAAAAAAAAAAAAAAAAAAAAAAAAAAAAAAAAAAAAAAAAAAAAAAAAAAAAAAAAAAAAAAAAAAAAAAAAAAAAAAAAAAAAAAAAAAAAAAAAAAAAAAAAAAAAAAAAAAAAAAAAAAAAAAAAAAAAAAAAAAAAAAAAAAAAAAAAAAAAAAAAAAAAAAAAAAAAAAAAAAAAAAAAAAAAAAAAAAAAAAAAAAAAAAAAAAAAAAAAAAAAAAAAAAAAAAAAAAAAAAAAAAAAAAAAAAAAAAAAAAAAAAAAAAAAAAAAAAAAAAAAAAAAAAAAAAAAAAAAAAAAAAAAAAAAAAAAAAAAAAAAAAAAAAAAAAAAAAAAAAAAAAAAAAAAAAAAAAAAAAAAAAAAAAAAAAAAAAAAAAAAAAAAAAAAAAAAAAAAAAAAAAAAAAAAAAAAAAAAAAAAAAAAAAAAAAAAAAAAAAAAAAAAAAAAAAAAAAAAAAAAAAAAAAAAAAAAAAAAAAAAAAAAAAAAAAAAAAAAAAAAAAAAAAAAAAAAAAAAAAAAAAAAAAAAAAAAAAAAAAAAAAAAAAAAAAAAAAAAAAAAAAAAAAAAAAAAAAAAAAAAAAAAAAAAAAAAAAAAAAAAAAAAAAAAAAAAAAAAAAAAAAAAAAAAAAAAAAAAAAAAAAAAAAAAAAAAAAAAAAAAAAAAAAAAAAAAAAAAAAAAAAAAAAAAAAAAAAAAAAAAAAAAAAAAAAAAAAAAAAAAAAAAAAAAAAAAAAAAAAAAAAAAAAAAAAAAAAAAAAAAAAAAAAAAAAAAAAAAAAAAAAAAAAAAAAAAAAAAAAAAAAAAAAAAAAAAAAAAAAAAAAAAAAAAAAAAAAAAAAAAAAAAAAAAAAAAAAAAAAAAAAAAAAAAAAAAAAAAAAAAAAAAAAAAAAAAAAAAAAAAAAAAAAAAAAAAAAAAAAAAAAAAAAAAAAAAAAAAAAAAAAAAAAAAAAAAAAAAAAAAAAAAAAAAAAAAAAAAAAAAAAAAAAAAAAAAAAAAAAAAAAAAAAAAAAAAAAAAAAAAAAAAAAAAAAAAAAAAAAAAAAAAAAAAAAAAAAAAAAAAAAAAAAAAAAAAAAAAAAAAAAAAAAAAAAAAAAAAAAAAAAAAAAAAAAAAAAAAAAAAAAAAAAAAAAAAAAAAAAAAAAAAAAAAAAAAAAAAAAAAAAAAAAAAAAAAAAAAAAAAAAAAAAAAAAAAAAAAAAAAAAAAAAAAAAAAAAAAAAAAAAAAAAAAAAAAAAAAAAAAAAAAAAAAAAAAAAAAAAAAAAAAAAAAAAAAAAAAAAAAAAAAAAAAAAAAAAAAAAAAAAAAAAAAAAAAAAAAAAAAAAAAAAAAAAAAAAAAAAAAAAAAAAAAAAAAAAAAAAAAAAAAAAAAAAAAAAAAAAAAAAAAAAAAAAAAAAAAAAAAAAAAAAAAAAAAAAAAAAAAAAAAAAAAAAAAAAAAAAAAAAAAAAAAAAAAAAAAAAAAAAAAAAAAAAAAAAAAAAAAAAAAAAAAAAAAAAAAAAAAAAAAAAAAAAAAAAAAAAAAAAAAAAAAAAAAAAAAAAAAAAAAAAAAAAAAAAAAAAAAAAAAAAAAAAAAAAAAAAAAAAAAAAAAAAAAAAAAAAAAAAAAAAAAAAAAAAAAAAAAAAAAAAAAAAAAAAAAAAAAAAAAAAAAAAAAAAAAAAAAAAAAAAAAAAAAAAAAAAAAAAAAAAAAAAAAAAAAAAAAAAAAAAAAAAAAAAAAAAAAAAAAAAAAAAAAAAAAAAAAAAAAAAAAAAAAAAAAAAAAAAAAAAAAAAAAAAAAAAAAAAAAAAAAAAAAAAAAAAAAAAAAAAAAAAAAAAAAAAAAAAAAAAAAAAAAAAAAAAAAAAAAAAAAAAAAAAAAAAAAAAAAAAAAAAAAAAAAAAAAAAAAAAAAAAAAAAAAAAAAAAAAAAAAAAAAAAAAAAAAAAAAAAAAAAAAAAAAAAAAAAAAAAAAAAAAAAAAAAAAAAAAAAAAAAAAAAAAAAAAAAAAAAAAAAAAAAAAAAAAAAAAAAAAAAAAAAAAAAAAAAAAAAAAAAAAAAAAAAAAAAAAAAAAAAAAAAAAAAAAAAAAAAAAAAAAAAAAAAAAAAAAAAAAAAAAAAAAAAAAAAAAAAAAAAAAAAAAAAAAAAAAAAAAAAAAAAAAAAAAAAAAAAAAAAAAAAAAAAAAAAAAAAAAAAAAAAAAAAAAAAAAAAAAAAAAAAAAAAAAAAAAAAAAAAAAAAAAAAAAAAAAAAAAAAAAAAAAAAAAAAAAAAAAAAAAAAAAAAAAAAAAAAAAAAAAAAAAAAAAAAAAAAAAAAAAAAAAAAAAAAAAAAAAAAAAAAAAAAAAAAAAAAAAAAAAAAAAAAAAAAAAAAAAAAAAAAAAAAAAAAAAAAAAAAAAAAAAAAAAAAAAAAAAAAAAAAAAAAAAAAAAAAAAAAAAAAAAAAAAAAAAAAAAAAAAAAAAAAAAAAAAAAAAAAAAAAAAAAAAAAAAAAAAAAAAAAAAAAAAAAAAAAAAAAAAAAAAAAAAAAAAAAAAAAAAAAAAAAAAAAAAAAAAAAAAAAAAAAAAAAAAAAAAAAAAAAAAAAAAAAAAAAAAAAAAAAAAAAAAAAAAAAAAAAAAAAAAAAAAAAAAAAAAAAAAAAAAAAAAAAAAAAAAAAAAAAAAAAAAAAAAAAAAAAAAAAAAAAAAAAAAAAAAAAAAAAAAAAAAAAAAAAAAAAAAAAAAAAAAAAAAAAAAAAAAAAAAAAAAAAAAAAAAAAAAAAAAAAAAAAAAAAAAAAAAAAAAAAAAAAAAAAAAAAAAAAAAAAAAAAAAAAAAAAAAAAAAAAAAAAAAAAAAAAAAAAAAAAAAAAAAAAAAAAAAAAAAAAAAAAAAAAAAAAAAAAAAAAAAAAAAAAAAAAAAAAAAAAAAAAAAAAAAAAAAAAAAAAAAAAAAAAAAAAAAAAAAAAAAAAAAAAAAAAAAAAAAAAAAAAAAAAAAAAAAAAAAAAAAAAAAAAAAAAAAAAAAAAAAAAAAAAAAAAAAAAAAAAAAAAAAAAAAAAAAAAAAAAAAAAAAAAAAAAAAAAAAAAAAAAAAAAAAAAAAAAAAAAAAAAAAAAAAAAAAAAAAAAAAAAAAAAAAAAAAAAAAAAAAAAAAAAAAAAAAAAAAAAAAAAAAAAAAAAAAAAAAAAAAAAAAAAAAAAAAAAAAAAAAAAAAAAAAAAAAAAAAAAAAAAAAAAAAAAAAAAAAAAAAAAAAAAAAAAAAAAAAAAAAAAAAAAAAAAAAAAAAAAAAAAAAAAAAAAAAAAAAAAAAAAAAAAAAAAAAAAAAAAAAAAAAAAAAAAAAAAAAAAAAAAAAAAAAAAAAAAAAAAAAAAAAAAAAAAAAAAAAAAAAAAAAAAAAAAAAAAAAAAAAAAAAAAAAAAAAAAAAAAAAAAAAAAAAAAAAAAAAAAAAAAAAAAAAAAAAAAAAAAAAAAAAAAAAAAAAAAAAAAAAAAAAAAAAAAAAAAAAAAAAAAAAAAAAAAAAAAAAAAAAAAAAAAAAAAAAAAAAAAAAAAAAAAAAAAAAAAAAAAAAAAAAAAAAAAAAAAAAAAAAAAAAAAAAAAAAAAAAAAAAAAAAAAAAAAAAAAAAAAAAAAAAAAAAAAAAAAAAAAAAAAAAAAAAAAAAAAAAAAAAAAAAAAAAAAAAAAAAAAAAAAAAAAAAAAAAAAAAAAAAAAAAAAAAAAAAAAAAAAAAAAAAAAAAAAAAAAAAAAAAAAAAAAAAAAAAAAAAAAAAAAAAAAAAAAAAAAAAAAAAAAAAAAAAAAAAAAAAAAAAAAAAAAAAAAAAAAAAAAAAAAAAAAAAAAAAAAAAAAAAAAAAAAAAAAAAAAAAAAAAAAAAAAAAAAAAAAAAAAAAAAAAAAAAAAAAAAAAAAAAAAAAAAAAAAAAAAAAAAAAAAAAAAAAAAAAAAAAAAAAAAAAAAAAAAAAAAAAAAAAAAAAAAAAAAAAAAAAAAAAAAAAAAAAAAAAAAAAAAAAAAAAAAAAAAAAAAAAAAAAAAAAAAAAAAAAAAAAAAAAAAAAAAAAAAAAAAAAAAAAAAAAAAAAAAAAAAAAAAAAAAAAAAAAAAAAAAAAAAAAAAAAAAAAAAAAAAAAAAAAAAAAAAAAAAAAAAAAAAAAAAAAAAAAAAAAAAAAAAAAAAAAAAAAAAAAAAAAAAAAAAAAAAAAAAAAAAAAAAAAAAAAAAAAAAAAAAAAAAAAAAAAAAAAAAAAAAAAAAAAAAAAAAAAAAAAAAAAAAAAAAAAAAAAAAAAAAAAAAAAAAAAAAAAAAAAAAAAAAAAAAAAAAAAAAAAAAAAAAAAAAAAAAAAAAAAAAAAAAAAAAAAAAAAAAAAAAAAAAAAAAAAAAAAAAAAAAAAAAAAAAAAAAAAAAAAAAAAAAAAAAAAAAAAAAAAAAAAAAAAAAAAAAAAAAAAAAAAAAAAAAAAAAAAAAAAAAAAAAAAAAAAAAAAAAAAAAAAAAAAAAAAAAAAAAAAAAAAAAAAAAAAAAAAAAAAAAAAAAAAAAAAAAAAAAAAAAAAAAAAAAAAAAAAAAAAAAAAAAAAAAAAAAAAAAAAAAAAAAAAAAAAAAAAAAAAAAAAAAAAAAAAAAAAAAAAAAAAAAAAAAAAAAAAAAAAAAAAAAAAAAAAAAAAAAAAAAAAAAAAAAAAAAAAAAAAAAAAAAAAAAAAAAAAAAAAAAAAAAAAAAAAAAAAAAAAAAAAAAAAAAAAAAAAAAAAAAAAAAAAAAAAAAAAAAAAAAAAAAAAAAAAAAAAAAAAAAAAAAAAAAAAAAAAAAAAAAAAAAAAAAAAAAAAAAAAAAAAAAAAAAAAAAAAAAAAAAAAAAAAAAAAAAAAAAAAAAAAAAAAAAAAAAAAAAAAAAAAAAAAAAAAAAAAAAAAAAAAAAAAAAAAAAAAAAAAAAAAAAAAAAAAAAAAAAAAAAAAAAAAAAAAAAAAAAAAAAAAAAAAAAAAAAAAAAAAAAAAAAAAAAAAAAAAAAAAAAAAAAAAAAAAAAAAAAAAAAAAAAAAAAAAAAAAAAAAAAAAAAAAAAAAAAAAAAAAAAAAAAAAAAAAAAAAAAAAAAAAAAAAAAAAAAAAAAAAAAAAAAAAAAAAAAAAAAAAAAAAAAAAAAAAAAAAAAAAAAAAAAAAAAAAAAAAAAAAAAAAAAAAAAAAAAAAAAAAAAAAAAAAAAAAAAAAAAAAAAAAAAAAAAAAAAAAAAAAAAAAAAAAAAAAAAAAAAAAAAAAAAAAAAAAAAAAAAAAAAAAAAAAAAAAAAAAAAAAAAAAAAAAAAAAAAAAAAAAAAAAAAAAAAAAAAAAAAAAAAAAAAAAAAAAAAAAAAAAAAAAAAAAAAAAAAAAAAAAAAAAAAAAAAAAAAAAAAAAAAAAAAAAAAAAAAAAAAAAAAAAAAAAAAAAAAAAAAAAAAAAAAAAAAAAAAAAAAAAAAAAAAAAAAAAAAAAAAAAAAAAAAAAAAAAAAAAAAAAAAAAAAAAAAAAAAAAAAAAAAAAAAAAAAAAAAAAAAAAAAAAAAAAAAAAAAAAAAAAAAAAAAAAAAAAAAAAAAAAAAAAAAAAAAAAAAAAAAAAAAAAAAAAAAAAAAAAAAAAAAAAAAAAAAAAAAAAAAAAAAAAAAAAAAAAAAAAAAAAAAAAAAAAAAAAAAAAAAAAAAAAAAAAAAAAAAAAAAAAAAAAAAAAAAAAAAAAAAAAAAAAAAAAAAAAAAAAAAAAAAAAAAAAAAAAAAAAAAAAAAAAAAAAAAAAAAAAAAAAAAAAAAAAAAAAAAAAAAAAAAAAAAAAAAAAAAAAAAAAAAAAAAAAAAAAAAAAAAAAAAAAAAAAAAAAAAAAAAAAAAAAAAAAAAAAAAAAAAAAAAAAAAAAAAAAAAAAAAAAAAAAAAAAAAAAAAAAAAAAAAAAAAAAAAAAAAAAAAAAAAAAAAAAAAAAAAAAAAAAAAAAAAAAAAAAAAAAAAAAAAAAAAAAAAAAAAAAAAAAAAAAAAAAAAAAAAAAAAAAAAAAAAAAAAAAAAAAAAAAAAAAAAAAAAAAAAAAAAAAAAAAAAAAAAAAAAAAAAAAAAAAAAAAAAAAAAAAAAAAAAAAAAAAAAAAAAAAAAAAAAAAAAAAAAAAAAAAAAAAAAAAAAAAAAAAAAAAAAAAAAAAAAAAAAAAAAAAAAAAAAAAAAAAAAAAAAAAAAAAAAAAAAAAAAAAAAAAAAAAAAAAAAAAAAAAAAAAAAAAAAAAAAAAAAAAAAAAAAAAAAAAAAAAAAAAAAAAAAAAAAAAAAAAAAAAAAAAAAAAAAAAAAAAAAAAAAAAAAAAAAAAAAAAAAAAAAAAAAAAAAAAAAAAAAAAAAAAAAAAAAAAAAAAAAAAAAAAAAAAAAAAAAAAAAAAAAAAAAAAAAAAAAAAAAAAAAAAAAAAAAAAAAAAAAAAAAAAAAAAAAAAAAAAAAAAAAAAAAAAAAAAAAAAAAAAAAAAAAAAAAAAAAAAAAAAAAAAAAAAAAAAAAAAAAAAAAAAAAAAAAAAAAAAAAAAAAAAAAAAAAAAAAAAAAAAAAAAAAAAAAAAAAAAAAAAAAAAAAAAAAAAAAAAAAAAAAAAAAAAAAAAAAAAAAAAAAAAAAAAAAAAAAAAAAAAAAAAAAAAAAAAAAAAAAAAAAAAAAAAAAAAAAAAAAAAAAAAAAAAAAAAAAAAAAAAAAAAAAAAAAAAAAAAAAAAAAAAAAAAAAAAAAAAAAAAAAAAAAAAAAAAAAAAAAAAAAAAAAAAAAAAAAAAAAAAAAAAAAAAAAAAAAAAAAAAAAAAAAAAAAAAAAAAAAAAAAAAAAAAAAAAAAAAAAAAAAAAAAAAAAAAAAAAAAAAAAAAAAAAAAAAAAAAAAAAAAAAAAAAAAAAAAAAAAAAAAAAAAAAAAAAAAAAAAAAAAAAAAAAAAAAAAAAAAAAAAAAAAAAAAAAAAAAAAAAAAAAAAAAAAAAAAAAAAAAAAAAAAAAAAAAAAAAAAAAAAAAAAAAAAAAAAAAAAAAAAAAAAAAAAAAAAAAAAAAAAAAAAAAAAAAAAAAAAAAAAAAAAAAAAAAAAAAAAAAAAAAAAAAAAAAAAAAAAAAAAAAAAAAAAAAAAAAAAAAAAAAAAAAAAAAAAAAAAAAAAAAAAAAAAAAAAAAAAAAAAAAAAAAAAAAAAAAAAAAAAAAAAAAAAAAAAAAAAAAAAAAAAAAAAAAAAAAAAAAAAAAAAAAAAAAAAAAAAAAAAAAAAAAAAAAAAAAAAAAAAAAAAAAAAAAAAAAAAAAAAAAAAAAAAAAAAAAAAAAAAAAAAAAAAAAAAAAAAAAAAAAAAAAAAAAAAAAAAAAAAAAAAAAAAAAAAAAAAAAAAAAAAAAAAAAAAAAAAAAAAAAAAAAAAAAAAAAAAAAAAAAAAAAAAAAAAAAAAAAAAAAAAAAAAAAAAAAAAAAAAAAAAAAAAAAAAAAAAAAAAAAAAAAAAAAAAAAAAAAAAAAAAAAAAAAAAAAAAAAAAAAAAAAAAAAAAAAAAAAAAAAAAAAAAAAAAAAAAAAAAAAAAAAAAAAAAAAAAAAAAAAAAAAAAAAAAAAAAAAAAAAAAAAAAAAAAAAAAAAAAAAAAAAAAAAAAAAAAAAAAAAAAAAAAAAAAAAAAAAAAAAAAAAAAAAAAAAAAAAAAAAAAAAAAAAAAAAAAAAAAAAAAAAAAAAAAAAAAAAAAAAAAAAAAAAAAAAAAAAAAAAAAAAAAAAAAAAAAAAAAAAAAAAAAAAAAAAAAAAAAAAAAAAAAAAAAAAAAAAAAAAAAAAAAAAAAAAAAAAAAAAAAAAAAAAAAAAAAAAAAAAAAAAAAAAAAAAAAAAAAAAAAAAAAAAAAAAAAAAAAAAAAAAAAAAAAAAAAAAAAAAAAAAAAAAAAAAAAAAAAAAAAAAAAAAAAAAAAAAAAAAAAAAAAAAAAAAAAAAAAAAAAAAAAAAAAAAAAAAAAAAAAAAAAAAAAAAAAAAAAAAAAAAAAAAAAAAAAAAAAAAAAAAAAAAAAAAAAAAAAAAAAAAAAAAAAAAAAAAAAAAAAAAAAAAAAAAAAAAAAAAAAAAAAAAAAAAAAAAAAAAAAAAAAAAAAAAAAAAAAAAAAAAAAAAAAAAAAAAAAAAAAAAAAAAAAAAAAAAAAAAAAAAAAAAAAAAAAAAAAAAAAAAAAAAAAAAAAAAAAAAAAAAAAAAAAAAAAAAAAAAAAAAAAAAAAAAAAAAAAAAAAAAAAAAAAAAAAAAAAAAAAAAAAAAAAAAAAAAAAAAAAAAAAAAAAAAAAAAAAAAAAAAAAAAAAAAAAAAAAAAAAAAAAAAAAAAAAAAAAAAAAAAAAAAAAAAAAAAAAAAAAAAAAAAAAAAAAAAAAAAAAAAAAAAAAAAAAAAAAAAAAAAAAAAAAAAAAAAAAAAAAAAAAAAAAAAAAAAAAAAAAAAAAAAAAAAAAAAAAAAAAAAAAAAAAAAAAAAAAAAAAAAAAAAAAAAAAAAAAAAAAAAAAAAAAAAAAAAAAAAAAAAAAAAAAAAAAAAAAAAAAAAAAAAAAAAAAAAAAAAAAAAAAAAAAAAAAAAAAAAAAAAAAAAAAAAAAAAAAAAAAAAAAAAAAAAAAAAAAAAAAAAAAAAAAAAAAAAAAAAAAAAAAAAAAAAAAAAAAAAAAAAAAAAAAAAAAAAAAAAAAAAAAAAAAAAAAAAAAAAAAAAAAAAAAAAAAAAAAAAAAAAAAAAAAAAAAAAAAAAAAAAAAAAAAAAAAAAAAAAAAAAAAAAAAAAAAAAAAAAAAAAAAAAAAAAAAAAAAAAAAAAAAAAAAAAAAAAAAAAAAAAAAAAAAAAAAAAAAAAAAAAAAAAAAAAAAAAAAAAAAAAAAAAAAAAAAAAAAAAAAAAAAAAAAAAAAAAAAAAAAAAAAAAAAAAAAAAAAAAAAAAAAAAAAAAAAAAAAAAAAAAAAAAAAAAAAAAAAAAAAAAAAAAAAAAAAAAAAAAAAAAAAAAAAAAAAAAAAAAAAAAAAAAAAAAAAAAAAAAAAAAAAAAAAAAAAAAAAAAAAAAAAAAAAAAAAAAAAAAAAAAAAAAAAAAAAAAAAAAAAAAAAAAAAAAAAAAAAAAAAAAAAAAAAAAAAAAAAAAAAAAAAAAAAAAAAAAAAAAAAAAAAAAAAAAAAAAAAAAAAAAAAAAAAAAAAAAAAAAAAAAAAAAAAAAAAAAAAAAAAAAAAAAAAAAAAAAAAAAAAAAAAAAAAAAAAAAAAAAAAAAAAAAAAAAAAAAAAAAAAAAAAAAAAAAAAAAAAAAAAAAAAAAAAAAAAAAAAAAAAAAAAAAAAAAAAAAAAAAAAAAAAAAAAAAAAAAAAAAAAAAAAAAAAAAAAAAAAAAAAAAAAAAAAAAAAAAAAAAAAAAAAAAAAAAAAAAAAAAAAAAAAAAAAAAAAAAAAAAAAAAAAAAAAAAAAAAAAAAAAAAAAAAAAAAAAAAAAAAAAAAAAAAAAAAAAAAAAAAAAAAAAAAAAAAAAAAAAAAAAAAAAAAAAAAAAAAAAAAAAAAAAAAAAAAAAAAAAAAAAAAAAAAAAAAAAAAAAAAAAAAAAAAAAAAAAAAAAAAAAAAAAAAAAAAAAAAAAAAAAAAAAAAAAAAAAAAAAAAAAAAAAAAAAAAAAAAAAAAAAAAAAAAAAAAAAAAAAAAAAAAAAAAAAAAAAAAAAAAAAAAAAAAAAAAAAAAAAAAAAAAAAAAAAAAAAAAAAAAAAAAAAAAAAAAAAAAAAAAAAAAAAAAAAAAAAAAAAAAAAAAAAAAAAAAAAAAAAAAAAAAAAAAAAAAAAAAAAAAAAAAAAAAAAAAAAAAAAAAAAAAAAAAAAAAAAAAAAAAAAAAAAAAAAAAAAAAAAAAAAAAAAAAAAAAAAAAAAAAAAAAAAAAAAAAAAAAAAAAAAAAAAAAAAAAAAAAAAAAAAAAAAAAAAAAAAAAAAAAAAAAAAAAAAAAAAAAAAAAAAAAAAAAAAAAAAAAAAAAAAAAAAAAAAAAAAAAAAAAAAAAAAAAAAAAAAAAAAAAAAAAAAAAAAAAAAAAAAAAAAAAAAAAAAAAAAAAAAAAAAAAAAAAAAAAAAAAAAAAAAAAAAAAAAAAAAAAAAAAAAAAAAAAAAAAAAAAAAAAAAAAAAAAAAAAAAAAAAAAAAAAAAAAAAAAAAAAAAAAAAAAAAAAAAAAAAAAAAAAAAAAAAAAAAAAAAAAAAAAAAAAAAAAAAAAAAAAAAAAAAAAAAAAAAAAAAAAAAAAAAAAAAAAAAAAAAAAAAAAAAAAAAAAAAAAAAAAAAAAAAAAAAAAAAAAAAAAAAAAAAAAAAAAAAAAAAAAAAAAAAAAAAAAAAAAAAAAAAAAAAAAAAAAAAAAAAAAAAAAAAAAAAAAAAAAAAAAAAAAAAAAAAAAAAAAAAAAAAAAAAAAAAAAAAAAAAAAAAAAAAAAAAAAAAAAAAAAAAAAAAAAAAAAAAAAAAAAAAAAAAAAAAAAAAAAAAAAAAAAAAAAAAAAAAAAAAAAAAAAAAAAAAAAAAAAAAAAAAAAAAAAAAAAAAAAAAAAAAAAAAAAAAAAAAAAAAAAAAAAAAAAAAAAAAAAAAAAAAAAAAAAAAAAAAAAAAAAAAAAAAAAAAAAAAAAAAAAAAAAAAAAAAAAAAAAAAAAAAAAAAAAAAAAAAAAAAAAAAAAAAAAAAAAAAAAAAAAAAAAAAAAAAAAAAAAAAAAAAAAAAAAAAAAAAAAAAAAAAAAAAAAAAAAAAAAAAAAAAAAAAAAAAAAAAAAAAAAAAAAAAAAAAAAAAAAAAAAAAAAAAAAAAAAAAAAAAAAAAAAAAAAAAAAAAAAAAAAAAAAAAAAAAAAAAAAAAAAAAAAAAAAAAAAAAAAAAAAAAAAAAAAAAAAAAAAAAAAAAAAAAAAAAAAAAAAAAAAAAAAAAAAAAAAAAAAAAAAAAAAAAAAAAAAAAAAAAAAAAAAAAAAAAAAAAAAAAAAAAAAAAAAAAAAAAAAAAAAAAAAAAAAAAAAAAAAAAAAAAAAAAAAAAAAAAAAAAAAAAAAAAAAAAAAAAAAAAAAAAAAAAAAAAAAAAAAAAAAAAAAAAAAAAAAAAAAAAAAAAAAAAAAAAAAAAAAAAAAAAAAAAAAAAAAAAAAAAAAAAAAAAAAAAAAAAAAAAAAAAAAAAAAAAAAAAAAAAAAAAAAAAAAAAAAAAAAAAAAAAAAAAAAAAAAAAAAAAAAAAAAAAAAAAAAAAAAAAAAAAAAAAAAAAAAAAAAAAAAAAAAAAAAAAAAAAAAAAAAAAAAAAAAAAAAAAAAAAAAAAAAAAAAAAAAAAAAAAAAAAAAAAAAAAAAAAAAAAAAAAAAAAAAAAAAAAAAAAAAAAAAAAAAAAAAAAAAAAAAAAAAAAAAAAAAAAAAAAAAAAAAAAAAAAAAAAAAAAAAAAAAAAAAAAAAAAAAAAAAAAAAAAAAAAAAAAAAAAAAAAAAAAAAAAAAAAAAAAAAAAAAAAAAAAAAAAAAAAAAAAAAAAAAAAAAAAAAAAAAAAAAAAAAAAAAAAAAAAAAAAAAAAAAAAAAAAAAAAAAAAAAAAAAAAAAAAAAAAAAAAAAAAAAAAAAAAAAAAAAAAAAAAAAAAAAAAAAAAAAAAAAAAAAAAAAAAAAAAAAAAAAAAAAAAAAAAAAAAAAAAAAAAAAAAAAAAAAAAAAAAAAAAAAAAAAAAAAAAAAAAAAAAAAAAAAAAAAAAAAAAAAAAAAAAAAAAAAAAAAAAAAAAAAAAAAAAAAAAAAAAAAAAAAAAAAAAAAAAAAAAAAAAAAAAAAAAAAAAAAAAAAAAAAAAAAAAAAAAAAAAAAAAAAAAAAAAAAAAAAAAAAAAAAAAAAAAAAAAAAAAAAAAAAAAAAAAAAAAAAAAAAAAAAAAAAAAAAAAAAAAAAAAAAAAAAAAAAAAAAAAAAAAAAAAAAAAAAAAAAAAAAAAAAAAAAAAAAAAAAAAAAAAAAAAAAAAAAAAAAAAAAAAAAAAAAAAAAAAAAAAAAAAAAAAAAAAAAAAAAAAAAAAAAAAAAAAAAAAAAAAAAAAAAAAAAAAAAAAAAAAAAAAAAAAAAAAAAAAAAAAAAAAAAAAAAAAAAAAAAAAAAAAAAAAAAAAAAAAAAAAAAAAAAAAAAAAAAAAAAAAAAAAAAAAAAAAAAAAAAAAAAAAAAAAAAAAAAAAAAAAAAAAAAAAAAAAAAAAAAAAAAAAAAAAAAAAAAAAAAAAAAAAAAAAAAAAAAAAAAAAAAAAAAAAAAAAAAAAAAAAAAAAAAAAAAAAAAAAAAAAAAAAAAAAAAAAAAAAAAAAAAAAAAAAAAAAAAAAAAAAAAAAAAAAAAAAAAAAAAAAAAAAAAAAAAAAAAAAAAAAAAAAAAAAAAAAAAAAAAAAAAAAAAAAAAAAAAAAAAAAAAAAAAAAAAAAAAAAAAAAAAAAAAAAAAAAAAAAAAAAAAAAAAAAAAAAAAAAAAAAAAAAAAAAAAAAAAAAAAAAAAAAAAAAAAAAAAAAAAAAAAAAAAAAAAAAAAAAAAAAAAAAAAAAAAAAAAAAAAAAAAAAAAAAAAAAAAAAAAAAAAAAAAAAAAAAAAAAAAAAAAAAAAAAAAAAAAAAAAAAAAAAAAAAAAAAAAAAAAAAAAAAAAAAAAAAAAAAAAAAAAAAAAAAAAAAAAAAAAAAAAAAAAAAAAAAAAAAAAAAAAAAAAAAAAAAAAAAAAAAAAAAAAAAAAAAAAAAAAAAAAAAAAAAAAAAAAAAAAAAAAAAAAAAAAAAAAAAAAAAAAAAAAAAAAAAAAAAAAAAAAAAAAAAAAAAAAAAAAAAAAAAAAAAAAAAAAAAAAAAAAAAAAAAAAAAAAAAAAAAAAAAAAAAAAAAAAAAAAAAAAAAAAAAAAAAAAAAAAAAAAAAAAAAAAAAAAAAAAAAAAAAAAAAAAAAAAAAAAAAAAAAAAAAAAAAAAAAAAAAAAAAAAAAAAAAAAAAAAAAAAAAAAAAAAAAAAAAAAAAAAAAAAAAAAAAAAAAAAAAAAAAAAAAAAAAAAAAAAAAAAAAAAAAAAAAAAAAAAAAAAAAAAAAAAAAAAAAAAAAAAAAAAAAAAAAAAAAAAAAAAAAAAAAAAAAAAAAAAAAAAAAAAAAAAAAAAAAAAAAAAAAAAAAAAAAAAAAAAAAAAAAAAAAAAAAAAAAAAAAAAAAAAAAAAAAAAAAAAAAAAAAAAAAAAAAAAAAAAAAAAAAAAAAAAAAAAAAAAAAAAAAAAAAAAAAAAAAAAAAAAAAAAAAAAAAAAAAAAAAAAAAAAAAAAAAAAAAAAAAAAAAAAAAAAAAAAAAAAAAAAAAAAAAAAAAAAAAAAAAAAAAAAAAAAAAAAAAAAAAAAAAAAAAAAAAAAAAAAAAAAAAAAAAAAAAAAAAAAAAAAAAAAAAAAAAAAAAAAAAAAAAAAAAAAAAAAAAAAAAAAAAAAAAAAAAAAAAAAAAAAAAAAAAAAAAAAAAAAAAAAAAAAAAAAAAAAAAAAAAAAAAAAAAAAAAAAAAAAAAAAAAAAAAAAAAAAAAAAAAAAAAAAAAAAAAAAAAAAAAAAAAAAAAAAAAAAAAAAAAAAAAAAAAAAAAAAAAAAAAAAAAAAAAAAAAAAAAAAAAAAAAAAAAAAAAAAAAAAAAAAAAAAAAAAAAAAAAAAAAAAAAAAAAAAAAAAAAAAAAAAAAAAAAAAAAAAAAAAAAAAAAAAAAAAAAAAAAAAAAAAAAAAAAAAAAAAAAAAAAAAAAAAAAAAAAAAAAAAAAAAAAAAAAAAAAAAAAAAAAAAAAAAAAAAAAAAAAAAAAAAAAAAAAAAAAAAAAAAAAAAAAAAAAAAAAAAAAAAAAAAAAAAAAAAAAAAAAAAAAAAAAAAAAAAAAAAAAAAAAAAAAAAAAAAAAAAAAAAAAAAAAAAAAAAAAAAAAAAAAAAAAAAAAAAAAAAAAAAAAAAAAAAAAAAAAAAAAAAAAAAAAAAAAAAAAAAAAAAAAAAAAAAAAAAAAAAAAAAAAAAAAAAAAAAAAAAAAAAAAAAAAAAAAAAAAAAAAAAAAAAAAAAAAAAAAAAAAAAAAAAAAAAAAAAAAAAAAAAAAAAAAAAAAAAAAAAAAAAAAAAAAAAAAAAAAAAAAAAAAAAAAAAAAAAAAAAAAAAAAAAAAAAAAAAAAAAAAAAAAAAAAAAAAAAAAAAAAAAAAAAAAAAAAAAAAAAAAAAAAAAAAAAAAAAAAAAAAAAAAAAAAAAAAAAAAAAAAAAAAAAAAAAAAAAAAAAAAAAAAAAAAAAAAAAAAAAAAAAAAAAAAAAAAAAAAAAAAAAAAAAAAAAAAAAAAAAAAAAAAAAAAAAAAAAAAAAAAAAAAAAAAAAAAAAAAAAAAAAAAAAAAAAAAAAAAAAAAAAAAAAAAAAAAAAAAAAAAAAAAAAAAAAAAAAAAAAAAAAAAAAAAAAAAAAAAAAAAAAAAAAAAAAAAAAAAAAAAAAAAAAAAAAAAAAAAAAAAAAAAAAAAAAAAAAAAAAAAAAAAAAAAAAAAAAAAAAAAAAAAAAAAAAAAAAAAAAAAAAAAAAAAAAAAAAAAAAAAAAAAAAAAAAAAAAAAAAAAAAAAAAAAAAAAAAAAAAAAAAAAAAAAAAAAAAAAAAAAAAAAAAAAAAAAAAAAAAAAAAAAAAAAAAAAAAAAAAAAAAAAAAAAAAAAAAAAAAAAAAAAAAAAAAAAAAAAAAAAAAAAAAAAAAAAAAAAAAAAAAAAAAAAAAAAAAAAAAAAAAAAAAAAAAAAAAAAAAAAAAAAAAAAAAAAAAAAAAAAAAAAAAAAAAAAAAAAAAAAAAAAAAAAAAAAAAAAAAAAAAAAAAAAAAAAAAAAAAAAAAAAAAAAAAAAAAAAAAAAAAAAAAAAAAAAAAAAAAAAAAAAAAAAAAAAAAAAAAAAAAAAAAAAAAAAAAAAAAAAAAAAAAAAAAAAAAAAAAAAAAAAAAAAAAAAAAAAAAAAAAAAAAAAAAAAAAAAAAAAAAAAAAAAAAAAAAAAAAAAAAAAAAAAAAAAAAAAAAAAAAAAAAAAAAAAAAAAAAAAAAAAAAAAAAAAAAAAAAAAAAAAAAAAAAAAAAAAAAAAAAAAAAAAAAAAAAAAAAAAAAAAAAAAAAAAAAAAAAAAAAAAAAAAAAAAAAAAAAAAAAAAAAAAAAAAAAAAAAAAAAAAAAAAAAAAAAAAAAAAAAAAAAAAAAAAAAAAAAAAAAAAAAAAAAAAAAAAAAAAAAAAAAAAAAAAAAAAAAAAAAAAAAAAAAAAAAAAAAAAAAAAAAAAAAAAAAAAAAAAAAAAAAAAAAAAAAAAAAAAAAAAAAAAAAAAAAAAAAAAAAAAAAAAAAAAAAAAAAAAAAAAAAAAAAAAAAAAAAAAAAAAAAAAAAAAAAAAAAAAAAAAAAAAAAAAAAAAAAAAAAAAAAAAAAAAAAAAAAAAAAAAAAAAAAAAAAAAAAAAAAAAAAAAAAAAAAAAAAAAAAAAAAAAAAAAAAAAAAAAAAAAAAAAAAAAAAAAAAAAAAAAAAAAAAAAAAAAAAAAAAAAAAAAAAAAAAAAAAAAAAAAAAAAAAAAAAAAAAAAAAAAAAAAAAAAAAAAAAAAAAAAAAAAAAAAAAAAAAAAAAAAAAAAAAAAAAAAAAAAAAAAAAAAAAAAAAAAAAAAAAAAAAAAAAAAAAAAAAAAAAAAAAAAAAAAAAAAAAAAAAAAAAAAAAAAAAAAAAAAAAAAAAAAAAAAAAAAAAAAAAAAAAAAAAAAAAAAAAAAAAAAAAAAAAAAAAAAAAAAAAAAAAAAAAAAAAAAAAAAAAAAAAAAAAAAAAAAAAAAAAAAAAAAAAAAAAAAAAAAAAAAAAAAAAAAAAAAAAAAAAAAAAAAAAAAAAAAAAAAAAAAAAAAAAAAAAAAAAAAAAAAAAAAAAAAAAAAAAAAAAAAAAAAAAAAAAAAAAAAAAAAAAAAAAAAAAAAAAAAAAAAAAAAAAAAAAAAAAAAAAAAAAAAAAAAAAAAAAAAAAAAAAAAAAAAAAAAAAAAAAAAAAAAAAAAAAAAAAAAAAAAAAAAAAAAAAAAAAAAAAAAAAAAAAAAAAAAAAAAAAAAAAAAAAAAAAAAAAAAAAAAAAAAAAAAAAAAAAAAAAAAAAAAAAAAAAAAAAAAAAAAAAAAAAAAAAAAAAAAAAAAAAAAAAAAAAAAAAAAAAAAAAAAAAAAAAAAAAAAAAAAAAAAAAAAAAAAAAAAAAAAAAAAAAAAAAAAAAAAAAAAAAAAAAAAAAAAAAAAAAAAAAAAAAAAAAAAAAAAAAAAAAAAAAAAAAAAAAAAAAAAAAAAAAAAAAAAAAAAAAAAAAAAAAAAAAAAAAAAAAAAAAAAAAAAAAAAAAAAAAAAAAAAAAAAAAAAAAAAAAAAAAAAAAAAAAAAAAAAAAAAAAAAAAAAAAAAAAAAAAAAAAAAAAAAAAAAAAAAAAAAAAAAAAAAAAAAAAAAAAAAAAAAAAAAAAAAAAAAAAAAAAAAAAAAAAAAAAAAAAAAAAAAAAAAAAAAAAAAAAAAAAAAAAAAAAAAAAAAAAAAAAAAAAAAAAAAAAAAAAAAAAAAAAAAAAAAAAAAAAAAAAAAAAAAAAAAAAAAAAAAAAAAAAAAAAAAAAAAAAAAAAAAAAAAAAAAAAAAAAAAAAAAAAAAAAAAAAAAAAAAAAAAAAAAAAAAAAAAAAAAAAAAAAAAAAAAAAAAAAAAAAAAAAAAAAAAAAAAAAAAAAAAAAAAAAAAAAAAAAAAAAAAAAAAAAAAAAAAAAAAAAAAAAAAAAAAAAAAAAAAAAAAAAAAAAAAAAAAAAAAAAAAAAAAAAAAAAAAAAAAAAAAAAAAAAAAAAAAAAAAAAAAAAAAAAAAAAAAAAAAAAAAAAAAAAAAAAAAAAAAAAAAAAAAAAAAAAAAAAAAAAAAAAAAAAAAAAAAAAAAAAAAAAAAAAAAAAAAAAAAAAAAAAAAAAAAAAAAAAAAAAAAAAAAAAAAAAAAAAAAAAAAAAAAAAAAAAAAAAAAAAAAAAAAAAAAAAAAAAAAAAAAAAAAAAAAAAAAAAAAAAAAAAAAAAAAAAAAAAAAAAAAAAAAAAAAAAAAAAAAAAAAAAAAAAAAAAAAAAAAAAAAAAAAAAAAAAAAAAAAAAAAAAAAAAAAAAAAAAAAAAAAAAAAAAAAAAAAAAAAAAAAAAAAAAAAAAAAAAAAAAAAAAAAAAAAAAAAAAAAAAAAAAAAAAAAAAAAAAAAAAAAAAAAAAAAAAAAAAAAAAAAAAAAAAAAAAAAAAAAAAAAAAAAAAAAAAAAAAAAAAAAAAAAAAAAAAAAAAAAAAAAAAAAAAAAAAAAAAAAAAAAAAAAAAAAAAAAAAAAAAAAAAAAAAAAAAAAAAAAAAAAAAAAAAAAAAAAAAAAAAAAAAAAAAAAAAAAAAAAAAAAAAAAAAAAAAAAAAAAAAAAAAAAAAAAAAAAAAAAAAAAAAAAAAAAAAAAAAAAAAAAAAAAAAAAAAAAAAAAAAAAAAAAAAAAAAAAAAAAAAAAAAAAAAAAAAAAAAAAAAAAAAAAAAAAAAAAAAAAAAAAAAAAAAAAAAAAAAAAAAAAAAAAAAAAAAAAAAAAAAAAAAAAAAAAAAAAAAAAAAAAAAAAAAAAAAAAAAAAAAAAAAAAAAAAAAAAAAAAAAAAAAAAAAAAAAAAAAAAAAAAAAAAAAAAAAAAAAAAAAAAAAAAAAAAAAAAAAAAAAAAAAAAAAAAAAAAAAAAAAAAAAAAAAAAAAAAAAAAAAAAAAAAAAAAAAAAAAAAAAAAAAAAAAAAAAAAAAAAAAAAAAAAAAAAAAAAAAAAAAAAAAAAAAAAAAAAAAAAAAAAAAAAAAAAAAAAAAAAAAAAAAAAAAAAAAAAAAAAAAAAAAAAAAAAAAAAAAAAAAAAAAAAAAAAAAAAAAAAAAAAAAAAAAAAAAAAAAAAAAAAAAAAAAAAAAAAAAAAAAAAAAAAAAAAAAAAAAAAAAAAAAAAAAAAAAAAAAAAAAAAAAAAAAAAAAAAAAAAAAAAAAAAAAAAAAAAAAAAAAAAAAAAAAAAAAAAAAAAAAAAAAAAAAAAAAAAAAAAAAAAAAAAAAAAAAAAAAAAAAAAAAAAAAAAAAAAAAAAAAAAAAAAAAAAAAAAAAAAAAAAAAAAAAAAAAAAAAAAAAAAAAAAAAAAAAAAAAAAAAAAAAAAAAAAAAAAAAAAAAAAAAAAAAAAAAAAAAAAAAAAAAAAAAAAAAAAAAAAAAAAAAAAAAAAAAAAAAAAAAAAAAAAAAAAAAAAAAAAAAAAAAAAAAAAAAAAAAAAAAAAAAAAAAAAAAAAAAAAAAAAAAAAAAAAAAAAAAAAAAAAAAAAAAAAAAAAAAAAAAAAAAAAAAAAAAAAAAAAAAAAAAAAAAAAAAAAAAAAAAAAAAAAAAAAAAAAAAAAAAAAAAAAAAAAAAAAAAAAAAAAAAAAAAAAAAAAAAAAAAAAAAAAAAAAAAAAAAAAAAAAAAAAAAAAAAAAAAAAAAAAAAAAAAAAAAAAAAAAAAAAAAAAAAAAAAAAAAAAAAAAAAAAAAAAAAAAAAAAAAAAAAAAAAAAAAAAAAAAAAAAAAAAAAAAAAAAAAAAAAAAAAAAAAAAAAAAAAAAAAAAAAAAAAAAAAAAAAAAAAAAAAAAAAAAAAAAAAAAAAAAAAAAAAAAAAAAAAAAAAAAAAAAAAAAAAAAAAAAAAAAAAAAAAAAAAAAAAAAAAAAAAAAAAAAAAAAAAAAAAAAAAAAAAAAAAAAAAAAAAAAAAAAAAAAAAAAAAAAAAAAAAAAAAAAAAAAAAAAAAAAAAAAAAAAAAAAAAAAAAAAAAAAAAAAAAAAAAAAAAAAAAAAAAAAAAAAAAAAAAAAAAAAAAAAAAAAAAAAAAAAAAAAAAAAAAAAAAAAAAAAAAAAAAAAAAAAAAAAAAAAAAAAAAAAAAAAAAAAAAAAAAAAAAAAAAAAAAAAAAAAAAAAAAAAAAAAAAAAAAAAAAAAAAAAAAAAAAAAAAAAAAAAAAAAAAAAAAAAAAAAAAAAAAAAAAAAAAAAAAAAAAAAAAAAAAAAAAAAAAAAAAAAAAAAAAAAAAAAAAAAAAAAAAAAAAAAAAAAAAAAAAAAAAAAAAAAAAAAAAAAAAAAAAAAAAAAAAAAAAAAAAAAAAAAAAAAAAAAAAAAAAAAAAAAAAAAAAAAAAAAAAAAAAAAAAAAAAAAAAAAAAAAAAAAAAAAAAAAAAAAAAAAAAAAAAAAAAAAAAAAAAAAAAAAAAAAAAAAAAAAAAAAAAAAAAAAAAAAAAAAAAAAAAAAAAAAAAAAAAAAAAAAAAAAAAAAAAAAAAAAAAAAAAAAAAAAAAAAAAAAAAAAAAAAAAAAAAAAAAAAAAAAAAAAAAAAAAAAAAAAAAAAAAAAAAAAAAAAAAAAAAAAAAAAAAAAAAAAAAAAAAAAAAAAAAAAAAAAAAAAAAAAAAAAAAAAAAAAAAAAAAAAAAAAAAAAAAAAAAAAAAAAAAAAAAAAAAAAAAAAAAAAAAAAAAAAAAAAAAAAAAAAAAAAAAAAAAAAAAAAAAAAAAAAAAAAAAAAAAAAAAAAAAAAAAAAAAAAAAAAAAAAAAAAAAAAAAAAAAAAAAAAAAAAAAAAAAAAAAAAAAAAAAAAAAAAAAAAAAAAAAAAAAAAAAAAAAAAAAAAAAAAAAAAAAAAAAAAAAAAAAAAAAAAAAAAAAAAAAAAAAAAAAAAAAAAAAAAAAAAAAAAAAAAAAAAAAAAAAAAAAAAAAAAAAAAAAAAAAAAAAAAAAAAAAAAAAAAAAAAAAAAAAAAAAAAAAAAAAAAAAAAAAAAAAAAAAAAAAAAAAAAAAAAAAAAAAAAAAAAAAAAAAAAAAAAAAAAAAAAAAAAAAAAAAAAAAAAAAAAAAAAAAAAAAAAAAAAAAAAAAAAAAAAAAAAAAAAAAAAAAAAAAAAAAAAAAAAAAAAAAAAAAAAAAAAAAAAAAAAAAAAAAAAAAAAAAAAAAAAAAAAAAAAAAAAAAAAAAAAAAAAAAAAAAAAAAAAAAAAAAAAAAAAAAAAAAAAAAAAAAAAAAAAAAAAAAAAAAAAAAAAAAAAAAAAAAAAAAAAAAAAAAAAAAAAAAAAAAAAAAAAAAAAAAAAAAAAAAAAAAAAAAAAAAAAAAAAAAAAAAAAAAAAAAAAAAAAAAAAAAAAAAAAAAAAAAAAAAAAAAAAAAAAAAAAAAAAAAAAAAAAAAAAAAAAAAAAAAAAAAAAAAAAAAAAAAAAAAAAAAAAAAAAAAAAAAAAAAAAAAAAAAAAAAAAAAAAAAAAAAAAAAAAAAAAAAAAAAAAAAAAAAAAAAAAAAAAAAAAAAAAAAAAAAAAAAAAAAAAAAAAAAAAAAAAAAAAAAAAAAAAAAAAAAAAAAAAAAAAAAAAAAAAAAAAAAAAAAAAAAAAAAAAAAAAAAAAAAAAAAAAAAAAAAAAAAAAAAAAAAAAAAAAAAAAAAAAAAAAAAAAAAAAAAAAAAAAAAAAAAAAAAAAAAAAAAAAAAAAAAAAAAAAAAAAAAAAAAAAAAAAAAAAAAAAAAAAAAAAAAAAAAAAAAAAAAAAAAAAAAAAAAAAAAAAAAAAAAAAAAAAAAAAAAAAAAAAAAAAAAAAAAAAAAAAAAAAAAAAAAAAAAAAAAAAAAAAAAAAAAAAAAAAAAAAAAAAAAAAAAAAAAAAAAAAAAAAAAAAAAAAAAAAAAAAAAAAAAAAAAAAAAAAAAAAAAAAAAAAAAAAAAAAAAAAAAAAAAAAAAAAAAAAAAAAAAAAAAAAAAAAAAAAAAAAAAAAAAAAAAAAAAAAAAAAAAAAAAAAAAAAAAAAAAAAAAAAAAAAAAAAAAAAAAAAAAAAAAAAAAAAAAAAAAAAAAAAAAAAAAAAAAAAAAAAAAAAAAAAAAAAAAAAAAAAAAAAAAAAAAAAAAAAAAAAAAAAAAAAAAAAAAAAAAAAAAAAAAAAAAAAAAAAAAAAAAAAAAAAAAAAAAAAAAAAAAAAAAAAAAAAAAAAAAAAAAAAAAAAAAAAAAAAAAAAAAAAAAAAAAAAAAAAAAAAAAAAAAAAAAAAAAAAAAAAAAAAAAAAAAAAAAAAAAAAAAAAAAAAAAAAAAAAAAAAAAAAAAAAAAAAAAAAAAAAAAAAAAAAAAAAAAAAAAAAAAAAAAAAAAAAAAAAAAAAAAAAAAAAAAAAAAAAAAAAAAAAAAAAAAAAAAAAAAAAAAAAAAAAAAAAAAAAAAAAAAAAAAAAAAAAAAAAAAAAAAAAAAAAAAAAAAAAAAAAAAAAAAAAAAAAAAAAAAAAAAAAAAAAAAAAAAAAAAAAAAAAAAAAAAAAAAAAAAAAAAAAAAAAAAAAAAAAAAAAAAAAAAAAAAAAAAAAAAAAAAAAAAAAAAAAAAAAAAAAAAAAAAAAAAAAAAAAAAAAAAAAAAAAAAAAAAAAAAAAAAAAAAAAAAAAAAAAAAAAAAAAAAAAAAAAAAAAAAAAAAAAAAAAAAAAAAAAAAAAAAAAAAAAAAAAAAAAAAAAAAAAAAAAAAAAAAAAAAAAAAAAAAAAAAAAAAAAAAAAAAAAAAAAAAAAAAAAAAAAAAAAAAAAAAAAAAAAAAAAAAAAAAAAAAAAAAAAAAAAAAAAAAAAAAAAAAAAAAAAAAAAAAAAAAAAAAAAAAAAAAAAAAAAAAAAAAAAAAAAAAAAAAAAAAAAAAAAAAAAAAAAAAAAAAAAAAAAAAAAAAAAAAAAAAAAAAAAAAAAAAAAAAAAAAAAAAAAAAAAAAAAAAAAAAAAAAAAAAAAAAAAAAAAAAAAAAAAAAAAAAAAAAAAAAAAAAAAAAAAAAAAAAAAAAAAAAAAAAAAAAAAAAAAAAAAAAAAAAAAAAAAAAAAAAAAAAAAAAAAAAAAAAAAAAAAAAAAAAAAAAAAAAAAAAAAAAAAAAAAAAAAAAAAAAAAAAAAAAAAAAAAAAAAAAAAAAAAAAAAAAAAAAAAAAAAAAAAAAAAAAAAAAAAAAAAAAAAAAAAAAAAAAAAAAAAAAAAAAAAAAAAAAAAAAAAAAAAAAAAAAAAAAAAAAAAAAAAAAAAAAAAAAAAAAAAAAAAAAAAAAAAAAAAAAAAAAAAAAAAAAAAAAAAAAAAAAAAAAAAAAAAAAAAAAAAAAAAAAAAAAAAAAAAAAAAAAAAAAAAAAAAAAAAAAAAAAAAAAAAAAAAAAAAAAAAAAAAAAAAAAAAAAAAAAAAAAAAAAAAAAAAAAAAAAAAAAAAAAAAAAAAAAAAAAAAAAAAAAAAAAAAAAAAAAAAAAAAAAAAAAAAAAAAAAAAAAAAAAAAAAAAAAAAAAAAAAAAAAAAAAAAAAAAAAAAAAAAAAAAAAAAAAAAAAAAAAAAAAAAAAAAAAAAAAAAAAAAAAAAAAAAAAAAAAAAAAAAAAAAAAAAAAAAAAAAAAAAAAAAAAAAAAAAAAAAAAAAAAAAAAAAAAAAAAAAAAAAAAAAAAAAAAAAAAAAAAAAAAAAAAAAAAAAAAAAAAAAAAAAAAAAAAAAAAAAAAAAAAAAAAAAAAAAAAAAAAAAAAAAAAAAAAAAAAAAAAAAAAAAAAAAAAAAAAAAAAAAAAAAAAAAAAAAAAAAAAAAAAAAAAAAAAAAAAAAAAAAAAAAAAAAAAAAAAAAAAAAAAAAAAAAAAAAAAAAAAAAAAAAAAAAAAAAAAAAAAAAAAAAAAAAAAAAAAAAAAAAAAAAAAAAAAAAAAAAAAAAAAAAAAAAAAAAAAAAAAAAAAAAAAAAAAAAAAAAAAAAAAAAAAAAAAAAAAAAAAAAAAAAAAAAAAAAAAAAAAAAAAAAAAAAAAAAAAAAAAAAAAAAAAAAAAAAAAAAAAAAAAAAAAAAAAAAAAAAAAAAAAAAAAAAAAAAAAAAAAAAAAAAAAAAAAAAAAAAAAAAAAAAAAAAAAAAAAAAAAAAAAAAAAAAAAAAAAAAAAAAAAAAAAAAAAAAAAAAAAAAAAAAAAAAAAAAAAAAAAAAAAAAAAAAAAAAAAAAAAAAAAAAAAAAAAAAAAAAAAAAAAAAAAAAAAAAAAAAAAAAAAAAAAAAAAAAAAAAAAAAAAAAAAAAAAAAAAAAAAAAAAAAAAAAAAAAAAAAAAAAAAAAAAAAAAAAAAAAAAAAAAAAAAAAAAAAAAAAAAAAAAAAAAAAAAAAAAAAAAAAAAAAAAAAAAAAAAAAAAAAAAAAAAAAAAAAAAAAAAAAAAAAAAAAAAAAAAAAAAAAAAAAAAAAAAAAAAAAAAAAAAAAAAAAAAAAAAAAAAAAAAAAAAAAAAAAAAAAAAAAAAAAAAAAAAAAAAAAAAAAAAAAAAAAAAAAAAAAAAAAAAAAAAAAAAAAAAAAAAAAAAAAAAAAAAAAAAAAAAAAAAAAAAAAAAAAAAAAAAAAAAAAAAAAAAAAAAAAAAAAAAAAAAAAAAAAAAAAAAAAAAAAAAAAAAAAAAAAAAAAAAAAAAAAAAAAAAAAAAAAAAAAAAAAAAAAAAAAAAAAAAAAAAAAAAAAAAAAAAAAAAAAAAAAAAAAAAAAAAAAAAAAAAAAAAAAAAAAAAAAAAAAAAAAAAAAAAAAAAAAAAAAAAAAAAAAAAAAAAAAAAAAAAAAAAAAAAAAAAAAAAAAAAAAAAAAAAAAAAAAAAAAAAAAAAAAAAAAAAAAAAAAAAAAAAAAAAAAAAAAAAAAAAAAAAAAAAAAAAAAAAAAAAAAAAAAAAAAAAAAAAAAAAAAAAAAAAAAAAAAAAAAAAAAAAAAAAAAAAAAAAAAAAAAAAAAAAAAAAAAAAAAAAAAAAAAAAAAAAAAAAAAAAAAAAAAAAAAAAAAAAAAAAAAAAAAAAAAAAAAAAAAAAAAAAAAAAAAAAAAAAAAAAAAAAAAAAAAAAAAAAAAAAAAAAAAAAAAAAAAAAAAAAAAAAAAAAAAAAAAAAAAAAAAAAAAAAAAAAAAAAAAAAAAAAAAAAAAAAAAAAAAAAAAAAAAAAAAAAAAAAAAAAAAAAAAAAAAAAAAAAAAAAAAAAAAAAAAAAAAAAAAAAAAAAAAAAAAAAAAAAAAAAAAAAAAAAAAAAAAAAAAAAAAAAAAAAAAAAAAAAAAAAAAAAAAAAAAAAAAAAAAAAAAAAAAAAAAAAAAAAAAAAAAAAAAAAAAAAAAAAAAAAAAAAAAAAAAAAAAAAAAAAAAAAAAAAAAAAAAAAAAAAAAAAAAAAAAAAAAAAAAAAAAAAAAAAAAAAAAAAAAAAAAAAAAAAAAAAAAAAAAAAAAAAAAAAAAAAAAAAAAAAAAAAAAAAAAAAAAAAAAAAAAAAAAAAAAAAAAAAAAAAAAAAAAAAAAAAAAAAAAAAAAAAAAAAAAAAAAAAAAAAAAAAAAAAAAAAAAAAAAAAAAAAAAAAAAAAAAAAAAAAAAAAAAAAAAAAAAAAAAAAAAAAAAAAAAAAAAAAAAAAAAAAAAAAAAAAAAAAAAAAAAAAAAAAAAAAAAAAAAAAAAAAAAAAAAAAAAAAAAAAAAAAAAAAAAAAAAAAAAAAAAAAAAAAAAAAAAAAAAAAAAAAAAAAAAAAAAAAAAAAAAAAAAAAAAAAAAAAAAAAAAAAAAAAAAAAAAAAAAAAAAAAAAAAAAAAAAAAAAAAAAAAAAAAAAAAAAAAAAAAAAAAAAAAAAAAAAAAAAAAAAAAAAAAAAAAAAAAAAAAAAAAAAAAAAAAAAAAAAAAAAAAAAAAAAAAAAAAAAAAAAAAAAAAAAAAAAAAAAAAAAAAAAAAAAAAAAAAAAAAAAAAAAAAAAAAAAAAAAAAAAAAAAAAAAAAAAAAAAAAAAAAAAAAAAAAAAAAAAAAAAAAAAAAAAAAAAAAAAAAAAAAAAAAAAAAAAAAAAAAAAAAAAAAAAAAAAAAAAAAAAAAAAAAAAAAAAAAAAAAAAAAAAAAAAAAAAAAAAAAAAAAAAAAAAAAAAAAAAAAAAAAAAAAAAAAAAAAAAAAAAAAAAAAAAAAAAAAAAAAAAAAAAAAAAAAAAAAAAAAAAAAAAAAAAAAAAAAAAAAAAAAAAAAAAAAAAAAAAAAAAAAAAAAAAAAAAAAAAAAAAAAAAAAAAAAAAAAAAAAAAAAAAAAAAAAAAAAAAAAAAAAAAAAAAAAAAAAAAAAAAAAAAAAAAAAAAAAAAAAAAAAAAAAAAAAAAAAAAAAAAAAAAAAAAAAAAAAAAAAAAAAAAAAAAAAAAAAAAAAAAAAAAAAAAAAAAAAAAAAAAAAAAAAAAAAAAAAAAAAAAAAAAAAAAAAAAAAAAAAAAAAAAAAAAAAAAAAAAAAAAAAAAAAAAAAAAAAAAAAAAAAAAAAAAAAAAAAAAAAAAAAAAAAAAAAAAAAAAAAAAAAAAAAAAAAAAAAAAAAAAAAAAAAAAAAAAAAAAAAAAAAAAAAAAAAAAAAAAAAAAAAAAAAAAAAAAAAAAAAAAAAAAAAAAAAAAAAAAAAAAAAAAAAAAAAAAAAAAAAAAAAAAAAAAAAAAAAAAAAAAAAAAAAAAAAAAAAAAAAAAAAAAAAAAAAAAAAAAAAAAAAAAAAAAAAAAAAAAAAAAAAAAAAAAAAAAAAAAAAAAAAAAAAAAAAAAAAAAAAAAAAAAAAAAAAAAAAAAAAAAAAAAAAAAAAAAAAAAAAAAAAAAAAAAAAAAAAAAAAAAAAAAAAAAAAAAAAAAAAAAAAAAAAAAAAAAAAAAAAAAAAAAAAAAAAAAAAAAAAAAAAAAAAAAAAAAAAAAAAAAAAAAAAAAAAAAAAAAAAAAAAAAAAAAAAAAAAAAAAAAAAAAAAAAAAAAAAAAAAAAAAAAAAAAAAAAAAAAAAAAAAAAAAAAAAAAAAAAAAAAAAAAAAAAAAAAAAAAAAAAAAAAAAAAAAAAAAAAAAAAAAAAAAAAAAAAAAAAAAAAAAAAAAAAAAAAAAAAAAAAAAAAAAAAAAAAAAAAAAAAAAAAAAAAAAAAAAAAAAAAAAAAAAAAAAAAAAAAAAAAAAAAAAAAAAAAAAAAAAAAAAAAAAAAAAAAAAAAAAAAAAAAAAAAAAAAAAAAAAAAAAAAAAAAAAAAAAAAAAAAAAAAAAAAAAAAAAAAAAAAAAAAAAAAAAAAAAAAAAAAAAAAAAAAAAAAAAAAAAAAAAAAAAAAAAAAAAAAAAAAAAAAAAAAAAAAAAAAAAAAAAAAAAAAAAAAAAAAAAAAAAAAAAAAAAAAAAAAAAAAAAAAAAAAAAAAAAAAAAAAAAAAAAAAAAAAAAAAAAAAAAAAAAAAAAAAAAAAAAAAAAAAAAAAAAAAAAAAAAAAAAAAAAAAAAAAAAAAAAAAAAAAAAAAAAAAAAAAAAAAAAAAAAAAAAAAAAAAAAAAAAAAAAAAAAAAAAAAAAAAAAAAAAAAAAAAAAAAAAAAAAAAAAAAAAAAAAAAAAAAAAAAAAAAAAAAAAAAAAAAAAAAAAAAAAAAAAAAAAAAAAAAAAAAAAAAAAAAAAAAAAAAAAAAAAAAAAAAAAAAAAAAAAAAAAAAAAAAAAAAAAAAAAAAAAAAAAAAAAAAAAAAAAAAAAAAAAAAAAAAAAAAAAAAAAAAAAAAAAAAAAAAAAAAAAAAAAAAAAAAAAAAAAAAAAAAAAAAAAAAAAAAAAAAAAAAAAAAAAAAAAAAAAAAAAAAAAAAAAAAAAAAAAAAAAAAAAAAAAAAAAAAAAAAAAAAAAAAAAAAAAAAAAAAAAAAAAAAAAAAAAAAAAAAAAAAAAAAAAAAAAAAAAAAAAAAAAAAAAAAAAAAAAAAAAAAAAAAAAAAAAAAAAAAAAAAAAAAAAAAAAAAAAAAAAAAAAAAAAAAAAAAAAAAAAAAAAAAAAAAAAAAAAAAAAAAAAAAAAAAAAAAAAAAAAAAAAAAAAAAAAAAAAAAAAAAAAAAAAAAAAAAAAAAAAAAAAAAAAAAAAAAAAAAAAAAAAAAAAAAAAAAAAAAAAAAAAAAAAAAAAAAAAAAAAAAAAAAAAAAAAAAAAAAAAAAAAAAAAAAAAAAAAAAAAAAAAAAAAAAAAAAAAAAAAAAAAAAAAAAAAAAAAAAAAAAAAAAAAAAAAAAAAAAAAAAAAAAAAAAAAAAAAAAAAAAAAAAAAAAAAAAAAAAAAAAAAAAAAAAAAAAAAAAAAAAAAAAAAAAAAAAAAAAAAAAAAAAAAAAAAAAAAAAAAAAAAAAAAAAAAAAAAAAAAAAAAAAAAAAAAAAAAAAAAAAAAAAAAAAAAAAAAAAAAAAAAAAAAAAAAAAAAAAAAAAAAAAAAAAAAAAAAAAAAAAAAAAAAAAAAAAAAAAAAAAAAAAAAAAAAAAAAAAAAAAAAAAAAAAAAAAAAAAAAAAAAAAAAAAAAAAAAAAAAAAAAAAAAAAAAAAAAAAAAAAAAAAAAAAAAAAAAAAAAAAAAAAAAAAAAAAAAAAAAAAAAAAAAAAAAAAAAAAAAAAAAAAAAAAAAAAAAAAAAAAAAAAAAAAAAAAAAAAAAAAAAAAAAAAAAAAAAAAAAAAAAAAAAAAAAAAAAAAAAAAAAAAAAAAAAAAAAAAAAAAAAAAAAAAAAAAAAAAAAAAAAAAAAAAAAAAAAAAAAAAAAAAAAAAAAAAAAAAAAAAAAAAAAAAAAAAAAAAAAAAAAAAAAAAAAAAAAAAAAAAAAAAAAAAAAAAAAAAAAAAAAAAAAAAAAAAAAAAAAAAAAAAAAAAAAAAAAAAAAAAAAAAAAAAAAAAAAAAAAAAAAAAAAAAAAAAAAAAAAAAAAAAAAAAAAAAAAAAAAAAAAAAAAAAAAAAAAAAAAAAAAAAAAAAAAAAAAAAAAAAAAAAAAAAAAAAAAAAAAAAAAAAAAAAAAAAAAAAAAAAAAAAAAAAAAAAAAAAAAAAAAAAAAAAAAAAAAAAAAAAAAAAAAAAAAAAAAAAAAAAAAAAAAAAAAAAAAAAAAAAAAAAAAAAAAAAAAAAAAAAAAAAAAAAAAAAAAAAAAAAAAAAAAAAAAAAAAAAAAAAAAAAAAAAAAAAAAAAAAAAAAAAAAAAAAAAAAAAAAAAAAAAAAAAAAAAAAAAAAAAAAAAAAAAAAAAAAAAAAAAAAAAAAAAAAAAAAAAAAAAAAAAAAAAAAAAAAAAAAAAAAAAAAAAAAAAAAAAAAAAAAAAAAAAAAAAAAAAAAAAAAAAAAAAAAAAAAAAAAAAAAAAAAAAAAAAAAAAAAAAAAAAAAAAAAAAAAAAAAAAAAAAAAAAAAAAAAAAAAAAAAAAAAAAAAAAAAAAAAAAAAAAAAAAAAAAAAAAAAAAAAAAAAAAAAAAAAAAAAAAAAAAAAAAAAAAAAAAAAAAAAAAAAAAAAAAAAAAAAAAAAAAAAAAAAAAAAAAAAAAAAAAAAAAAAAAAAAAAAAAAAAAAAAAAAAAAAAAAAAAAAAAAAAAAAAAAAAAAAAAAAAAAAAAAAAAAAAAAAAAAAAAAAAAAAAAAAAAAAAAAAAAAAAAAAAAAAAAAAAAAAAAAAAAAAAAAAAAAAAAAAAAAAAAAAAAAAAAAAAAAAAAAAAAAAAAAAAAAAAAAAAAAAAAAAAAAAAAAAAAAAAAAAAAAAAAAAAAAAAAAAAAAAAAAAAAAAAAAAAAAAAAAAAAAAAAAAAAAAAAAAAAAAAAAAAAAAAAAAAAAAAAAAAAAAAAAAAAAAAAAAAAAAAAAAAAAAAAAAAAAAAAAAAAAAAAAAAAAAAAAAAAAAAAAAAAAAAAAAAAAAAAAAAAAAAAAAAAAAAAAAAAAAAAAAAAAAAAAAAAAAAAAAAAAAAAAAAAAAAAAAAAAAAAAAAAAAAAAAAAAAAAAAAAAAAAAAAAAAAAAAAAAAAAAAAAAAAAAAAAAAAAAAAAAAAAAAAAAAAAAAAAAAAAAAAAAAAAAAAAAAAAAAAAAAAAAAAAAAAAAAAAAAAAAAAAAAAAAAAAAAAAAAAAAAAAAAAAAAAAAAAAAAAAAAAAAAAAAAAAAAAAAAAAAAAAAAAAAAAAAAAAAAAAAAAAAAAAAAAAAAAAAAAAAAAAAAAAAAAAAAAAAAAAAAAAAAAAAAAAAAAAAAAAAAAAAAAAAAAAAAAAAAAAAAAAAAAAAAAAAAAAAAAAAAAAAAAAAAAAAAAAAAAAAAAAAAAAAAAAAAAAAAAAAAAAAAAAAAAAAAAAAAAAAAAAAAAAAAAAAAAAAAAAAAAAAAAAAAAAAAAAAAAAAAAAAAAAAAAAAAAAAAAAAAAAAAAAAAAAAAAAAAAAAAAAAAAAAAAAAAAAAAAAAAAAAAAAAAAAAAAAAAAAAAAAAAAAAAAAAAAAAAAAAAAAAAAAAAAAAAAAAAAAAAAAAAAAAAAAAAAAAAAAAAAAAAAAAAAAAAAAAAAAAAAAAAAAAAAAAAAAAAAAAAAAAAAAAAAAAAAAAAAAAAAAAAAAAAAAAAAAAAAAAAAAAAAAAAAAAAAAAAAAAAAAAAAAAAAAAAAAAAAAAAAAAAAAAAAAAAAAAAAAAAAAAAAAAAAAAAAAAAAAAAAAAAAAAAAAAAAAAAAAAAAAAAAAAAAAAAAAAAAAAAAAAAAAAAAAAAAAAAAAAAAAAAAAAAAAAAAAAAAAAAAAAAAAAAAAAAAAAAAAAAAAAAAAAAAAAAAAAAAAAAAAAAAAAAAAAAAAAAAAAAAAAAAAAAAAAAAAAAAAAAAAAAAAAAAAAAAAAAAAAAAAAAAAAAAAAAAAAAAAAAAAAAAAAAAAAAAAAAAAAAAAAAAAAAAAAAAAAAAAAAAAAAAAAAAAAAAAAAAAAAAAAAAAAAAAAAAAAAAAAAAAAAAAAAAAAAAAAAAAAAAAAAAAAAAAAAAAAAAAAAAAAAAAAAAAAAAAAAAAAAAAAAAAAAAAAAAAAAAAAAAAAAAAAAAAAAAAAAAAAAAAAAAAAAAAAAAAAAAAAAAAAAAAAAAAAAAAAAAAAAAAAAAAAAAAAAAAAAAAAAAAAAAAAAAAAAAAAAAAAAAAAAAAAAAAAAAAAAAAAAAAAAAAAAAAAAAAAAAAAAAAAAAAAAAAAAAAAAAAAAAAAAAAAAAAAAAAAAAAAAAAAAAAAAAAAAAAAAAAAAAAAAAAAAAAAAAAAAAAAAAAAAAAAAAAAAAAAAAAAAAAAAAAAAAAAAAAAAAAAAAAAAAAAAAAAAAAAAAAAAAAAAAAAAAAAAAAAAAAAAAAAAAAAAAAAAAAAAAAAAAAAAAAAAAAAAAAAAAAAAAAAAAAAAAAAAAAAAAAAAAAAAAAAAAAAAAAAAAAAAAAAAAAAAAAAAAAAAAAAAAAAAAAAAAAAAAAAAAAAAAAAAAAAAAAAAAAAAAAAAAAAAAAAAAAAAAAAAAAAAAAAAAAAAAAAAAAAAAAAAAAAAAAAAAAAAAAAAAAAAAAAAAAAAAAAAAAAAAAAAAAAAAAAAAAAAAAAAAAAAAAAAAAAAAAAAAAAAAAAAAAAAAAAAAAAAAAAAAAAAAAAAAAAAAAAAAAAAAAAAAAAAAAAAAAAAAAAAAAAAAAAAAAAAAAAAAAAAAAAAAAAAAAAAAAAAAAAAAAAAAAAAAAAAAAAAAAAAAAAAAAAAAAAAAAAAAAAAAAAAAAAAAAAAAAAAAAAAAAAAAAAAAAAAAAAAAAAAAAAAAAAAAAAAAAAAAAAAAAAAAAAAAAAAAAAAAAAAAAAAAAAAAAAAAAAAAAAAAAAAAAAAAAAAAAAAAAAAAAAAAAAAAAAAAAAAAAAAAAAAAAAAAAAAAAAAAAAAAAAAAAAAAAAAAAAAAAAAAAAAAAAAAAAAAAAAAAAAAAAAAAAAAAAAAAAAAAAAAAAAAAAAAAAAAAAAAAAAAAAAAAAAAAAAAAAAAAAAAAAAAAAAAAAAAAAAAAAAAAAAAAAAAAAAAAAAAAAAAAAAAAAAAAAAAAAAAAAAAAAAAAAAAAAAAAAAAAAAAAAAAAAAAAAAAAAAAAAAAAAAAAAAAAAAAAAAAAAAAAAAAAAAAAAAAAAAAAAAAAAAAAAAAAAAAAAAAAAAAAAAAAAAAAAAAAAAAAAAAAAAAAAAAAAAAAAAAAAAAAAAAAAAAAAAAAAAAAAAAAAAAAAAAAAAAAAAAAAAAAAAAAAAAAAAAAAAAAAAAAAAAAAAAAAAAAAAAAAAAAAAAAAAAAAAAAAAAAAAAAAAAAAAAAAAAAAAAAAAAAAAAAAAAAAAAAAAAAAAAAAAAAAAAAAAAAAAAAAAAAAAAAAAAAAAAAAAAAAAAAAAAAAAAAAAAAAAAAAAAAAAAAAAAAAAAAAAAAAAAAAAAAAAAAAAAAAAAAAAAAAAAAAAAAAAAAAAAAAAAAAAAAAAAAAAAAAAAAAAAAAAAAAAAAAAAAAAAAAAAAAAAAAAAAAAAAAAAAAAAAAAAAAAAAAAAAAAAAAAAAAAAAAAAAAAAAAAAAAAAAAAAAAAAAAAAAAAAAAAAAAAAAAAAAAAAAAAAAAAAAAAAAAAAAAAAAAAAAAAAAAAAAAAAAAAAAAAAAAAAAAAAAAAAAAAAAAAAAAAAAAAAAAAAAAAAAAAAAAAAAAAAAAAAAAAAAAAAAAAAAAAAAAAAAAAAAAAAAAAAAAAAAAAAAAAAAAAAAAAAAAAAAAAAAAAAAAAAAAAAAAAAAAAAAAAAAAAAAAAAAAAAAAAAAAAAAAAAAAAAAAAAAAAAAAAAAAAAAAAAAAAAAAAAAAAAAAAAAAAAAAAAAAAAAAAAAAAAAAAAAAAAAAAAAAAAAAAAAAAAAAAAAAAAAAAAAAAAAAAAAAAAAAAAAAAAAAAAAAAAAAAAAAAAAAAAAAAAAAAAAAAAAAAAAAAAAAAAAAAAAAAAAAAAAAAAAAAAAAAAAAAAAAAAAAAAAAAAAAAAAAAAAAAAAAAAAAAAAAAAAAAAAAAAAAAAAAAAAAAAAAAAAAAAAAAAAAAAAAAAAAAAAAAAAAAAAAAAAAAAAAAAAAAAAAAAAAAAAAAAAAAAAAAAAAAAAAAAAAAAAAAAAAAAAAAAAAAAAAAAAAAAAAAAAAAAAAAAAAAAAAAAAAAAAAAAAAAAAAAAAAAAAAAAAAAAAAAAAAAAAAAAAAAAAAAAAAAAAAAAAAAAAAAAAAAAAAAAAAAAAAAAAAAAAAAAAAAAAAAAAAAAAAAAAAAAAAAAAAAAAAAAAAAAAAAAAAAAAAAAAAAAAAAAAAAAAAAAAAAAAAAAAAAAAAAAAAAAAAAAAAAAAAAAAAAAAAAAAAAAAAAAAAAAAAAAAAAAAAAAAAAAAAAAAAAAAAAAAAAAAAAAAAAAAAAAAAAAAAAAAAAAAAAAAAAAAAAAAAAAAAAAAAAAAAAAAAAAAAAAAAAAAAAAAAAAAAAAAAAAAAAAAAAAAAAAAAAAAAAAAAAAAAAAAAAAAAAAAAAAAAAAAAAAAAAAAAAAAAAAAAAAAAAAAAAAAAAAAAAAAAAAAAAAAAAAAAAAAAAAAAAAAAAAAAAAAAAAAAAAAAAAAAAAAAAAAAAAAAAAAAAAAAAAAAAAAAAAAAAAAAAAAAAAAAAAAAAAAAAAAAAAAAAAAAAAAAAAAAAAAAAAAAAAAAAAAAAAAAAAAAAAAAAAAAAAAAAAAAAAAAAAAAAAAAAAAAAAAAAAAAAAAAAAAAAAAAAAAAAAAAAAAAAAAAAAAAAAAAAAAAAAAAAAAAAAAAAAAAAAAAAAAAAAAAAAAAAAAAAAAAAAAAAAAAAAAAAAAAAAAAAAAAAAAAAAAAAAAAAAAAAAAAAAAAAAAAAAAAAAAAAAAAAAAAAAAAAAAAAAAAAAAAAAAAAAAAAAAAAAAAAAAAAAAAAAAAAAAAAAAAAAAAAAAAAAAAAAAAAAAAAAAAAAAAAAAAAAAAAAAAAAAAAAAAAAAAAAAAAAAAAAAAAAAAAAAAAAAAAAAAAAAAAAAAAAAAAAAAAAAAAAAAAAAAAAAAAAAAAAAAAAAAAAAAAAAAAAAAAAAAAAAAAAAAAAAAAAAAAAAAAAAAAAAAAAAAAAAAAAAAAAAAAAAAAAAAAAAAAAAAAAAAAAAAAAAAAAAAAAAAAAAAAAAAAAAAAAAAAAAAAAAAAAAAAAAAAAAAAAAAAAAAAAAAAAAAAAAAAAAAAAAAAAAAAAAAAAAAAAAAAAAAAAAAAAAAAAAAAAAAAAAAAAAAAAAAAAAAAAAAAAAAAAAAAAAAAAAAAAAAAAAAAAAAAAAAAAAAAAAAAAAAAAAAAAAAAAAAAAAAAAAAAAAAAAAAAAAAAAAAAAAAAAAAAAAAAAAAAAAAAAAAAAAAAAAAAAAAAAAAAAAAAAAAAAAAAAAAAAAAAAAAAAAAAAAAAAAAAAAAAAAAAAAAAAAAAAAAAAAAAAAAAAAAAAAAAAAAAAAAAAAAAAAAAAAAAAAAAAAAAAAAAAAAAAAAAAAAAAAAAAAAAAAAAAAAAAAAAAAAAAAAAAAAAAAAAAAAAAAAAAAAAAAAAAAAAAAAAAAAAAAAAAAAAAAAAAAAAAAAAAAAAAAAAAAAAAAAAAAAAAAAAAAAAAAAAAAAAAAAAAAAAAAAAAAAAAAAAAAAAAAAAAAAAAAAAAAAAAAAAAAAAAAAAAAAAAAAAAAAAAAAAAAAAAAAAAAAAAAAAAAAAAAAAAAAAAAAAAAAAAAAAAAAAAAAAAAAAAAAAAAAAAAAAAAAAAAAAAAAAAAAAAAAAAAAAAAAAAAAAAAAAAAAAAAAAAAAAAAAAAAAAAAAAAAAAAAAAAAAAAAAAAAAAAAAAAAAAAAAAAAAAAAAAAAAAAAAAAAAAAAAAAAAAAAAAAAAAAAAAAAAAAAAAAAAAAAAAAAAAAAAAAAAAAAAAAAAAAAAAAAAAAAAAAAAAAAAAAAAAAAAAAAAAAAAAAAAAAAAAAAAAAAAAAAAAAAAAAAAAAAAAAAAAAAAAAAAAAAAAAAAAAAAAAAAAAAAAAAAAAAAAAAAAAAAAAAAAAAAAAAAAAAAAAAAAAAAAAAAAAAAAAAAAAAAAAAAAAAAAAAAAAAAAAAAAAAAAAAAAAAAAAAAAAAAAAAAAAAAAAAAAAAAAAAAAAAAAAAAAAAAAAAAAAAAAAAAAAAAAAAAAAAAAAAAAAAAAAAAAAAAAAAAAAAAAAAAAAAAAAAAAAAAAAAAAAAAAAAAAAAAAAAAAAAAAAAAAAAAAAAAAAAAAAAAAAAAAAAAAAAAAAAAAAAAAAAAAAAAAAAAAAAAAAAAAAAAAAAAAAAAAAAAAAAAAAAAAAAAAAAAAAAAAAAAAAAAAAAAAAAAAAAAAAAAAAAAAAAAAAAAAAAAAAAAAAAAAAAAAAAAAAAAAAAAAAAAAAAAAAAAAAAAAAAAAAAAAAAAAAAAAAAAAAAAAAAAAAAAAAAAAAAAAAAAAAAAAAAAAAAAAAAAAAAAAAAAAAAAAAAAAAAAAAAAAAAAAAAAAAAAAAAAAAAAAAAAAAAAAAAAAAAAAAAAAAAAAAAAAAAAAAAAAAAAAAAAAAAAAAAAAAAAAAAAAAAAAAAAAAAAAAAAAAAAAAAAAAAAAAAAAAAAAAAAAAAAAAAAAAAAAAAAAAAAAAAAAAAAAAAAAAAAAAAAAAAAAAAAAAAAAAAAAAAAAAAAAAAAAAAAAAAAAAAAAAAAAAAAAAAAAAAAAAAAAAAAAAAAAAAAAAAAAAAAAAAAAAAAAAAAAAAAAAAAAAAAAAAAAAAAAAAAAAAAAAAAAAAAAAAAAAAAAAAAAAAAAAAAAAAAAAAAAAAAAAAAAAAAAAAAAAAAAAAAAAAAAAAAAAAAAAAAAAAAAAAAAAAAAAAAAAAAAAAAAAAAAAAAAAAAAAAAAAAAAAAAAAAAAAAAAAAAAAAAAAAAAAAAAAAAAAAAAAAAAAAAAAAAAAAAAAAAAAAAAAAAAAAAAAAAAAAAAAAAAAAAAAAAAAAAAAAAAAAAAAAAAAAAAAAAAAAAAAAAAAAAAAAAAAAAAAAAAAAAAAAAAAAAAAAAAAAAAAAAAAAAAAAAAAAAAAAAAAAAAAAAAAAAAAAAAAAAAAAAAAAAAAAAAAAAAAAAAAAAAAAAAAAAAAAAAAAAAAAAAAAAAAAAAAAAAAAAAAAAAAAAAAAAAAAAAAAAAAAAAAAAAAAAAAAAAAAAAAAAAAAAAAAAAAAAAAAAAAAAAAAAAAAAAAAAAAAAAAAAAAAAAAAAAAAAAAAAAAAAAAAAAAAAAAAAAAAAAAAAAAAAAAAAAAAAAAAAAAAAAAAAAAAAAAAAAAAAAAAAAAAAAAAAAAAAAAAAAAAAAAAAAAAAAAAAAAAAAAAAAAAAAAAAAAAAAAAAAAAAAAAAAAAAAAAAAAAAAAAAAAAAAAAAAAAAAAAAAAAAAAAAAAAAAAAAAAAAAAAAAAAAAAAAAAAAAAAAAAAAAAAAAAAAAAAAAAAAAAAAAAAAAAAAAAAAAAAAAAAAAAAAAAAAAAAAAAAAAAAAAAAAAAAAAAAAAAAAAAAAAAAAAAAAAAAAAAAAAAAAAAAAAAAAAAAAAAAAAAAAAAAAAAAAAAAAAAAAAAAAAAAAAAAAAAAAAAAAAAAAAAAAAAAAAAAAAAAAAAAAAAAAAAAAAAAAAAAAAAAAAAAAAAAAAAAAAAAAAAAAAAAAAAAAAAAAAAAAAAAAAAAAAAAAAAAAAAAAAAAAAAAAAAAAAAAAAAAAAAAAAAAAAAAAAAAAAAAAAAAAAAAAAAAAAAAAAAAAAAAAAAAAAAAAAAAAAAAAAAAAAAAAAAAAAAAAAAAAAAAAAAAAAAAAAAAAAAAAAAAAAAAAAAAAAAAAAAAAAAAAAAAAAAAAAAAAAAAAAAAAAAAAAAAAAAAAAAAAAAAAAAAAAAAAAAAAAAAAAAAAAAAAAAAAAAAAAAAAAAAAAAAAAAAAAAAAAAAAAAAAAAAAAAAAAAAAAAAAAAAAAAAAAAAAAAAAAAAAAAAAAAAAAAAAAAAAAAAAAAAAAAAAAAAAAAAAAAAAAAAAAAAAAAAAAAAAAAAAAAAAAAAAAAAAAAAAAAAAAAAAAAAAAAAAAAAAAAAAAAAAAAAAAAAAAAAAAAAAAAAAAAAAAAAAAAAAAAAAAAAAAAAAAAAAAAAAAAAAAAAAAAAAAAAAAAAAAAAAAAAAAAAAAAAAAAAAAAAAAAAAAAAAAAAAAAAAAAAAAAAAAAAAAAAAAAAAAAAAAAAAAAAAAAAAAAAAAAAAAAAAAAAAAAAAAAAAAAAAAAAAAAAAAAAAAAAAAAAAAAAAAAAAAAAAAAAAAAAAAAAAAAAAAAAAAAAAAAAAAAAAAAAAAAAAAAAAAAAAAAAAAAAAAAAAAAAAAAAAAAAAAAAAAAAAAAAAAAAAAAAAAAAAAAAAAAAAAAAAAAAAAAAAAAAAAAAAAAAAAAAAAAAAAAAAAAAAAAAAAAAAAAAAAAAAAAAAAAAAAAAAAAAAAAAAAAAAAAAAAAAAAAAAAAAAAAAAAAAAAAAAAAAAAAAAAAAAAAAAAAAAAAAAAAAAAAAAAAAAAAAAAAAAAAAAAAAAAAAAAAAAAAAAAAAAAAAAAAAAAAAAAAAAAAAAAAAAAAAAAAAAAAAAAAAAAAAAAAAAAAAAAAAAAAAAAAAAAAAAAAAAAAAAAAAAAAAAAAAAAAAAAAAAAAAAAAAAAAAAAAAAAAAAAAAAAAAAAAAAAAAAAAAAAAAAAAAAAAAAAAAAAAAAAAAAAAAAAAAAAAAAAAAAAAAAAAAAAAAAAAAAAAAAAAAAAAAAAAAAAAAAAAAAAAAAAAAAAAAAAAAAAAAAAAAAAAAAAAAAAAAAAAAAAAAAAAAAAAAAAAAAAAAAAAAAAAAAAAAAAAAAAAAAAAAAAAAAAAAAAAAAAAAAAAAAAAAAAAAAAAAAAAAAAAAAAAAAAAAAAAAAAAAAAAAAAAAAAAAAAAAAAAAAAAAAAAAAAAAAAAAAAAAAAAAAAAAAAAAAAAAAAAAAAAAAAAAAAAAAAAAAAAAAAAAAAAAAAAAAAAAAAAAAAAAAAAAAAAAAAAAAAAAAAAAAAAAAAAAAAAAAAAAAAAAAAAAAAAAAAAAAAAAAAAAAAAAAAAAAAAAAAAAAAAAAAAAAAAAAAAAAAAAAAAAAAAAAAAAAAAAAAAAAAAAAAAAAAAAAAAAAAAAAAAAAAAAAAAAAAAAAAAAAAAAAAAAAAAAAAAAAAAAAAAAAAAAAAAAAAAAAAAAAAAAAAAAAAAAAAAAAAAAAAAAAAAAAAAAAAAAAAAAAAAAAAAAAAAAAAAAAAAAAAAAAAAAAAAAAAAAAAAAAAAAAAAAAAAAAAAAAAAAAAAAAAAAAAAAAAAAAAAAAAAAAAAAAAAAAAAAAAAAAAAAAAAAAAAAAAAAAAAAAAAAAAAAAAAAAAAAAAAAAAAAAAAAAAAAAAAAAAAAAAAAAAAAAAAAAAAAAAAAAAAAAAAAAAAAAAAAAAAAAAAAAAAAAAAAAAAAAAAAAAAAAAAAAAAAAAAAAAAAAAAAAAAAAAAAAAAAAAAAAAAAAAAAAAAAAAAAAAAAAAAAAAAAAAAAAAAAAAAAAAAAAAAAAAAAAAAAAAAAAAAAAAAAAAAAAAAAAAAAAAAAAAAAAAAAAAAAAAAAAAAAAAAAAAAAAAAAAAAAAAAAAAAAAAAAAAAAAAAAAAAAAAAAAAAAAAAAAAAAAAAAAAAAAAAAAAAAAAAAAAAAAAAAAAAAAAAAAAAAAAAAAAAAAAAAAAAAAAAAAAAAAAAAAAAAAAAAAAAAAAAAAAAAAAAAAAAAAAAAAAAAAAAAAAAAAAAAAAAAAAAAAAAAAAAAAAAAAAAAAAAAAAAAAAAAAAAAAAAAAAAAAAAAAAAAAAAAAAAAAAAAAAAAAAAAAAAAAAAAAAAAAAAAAAAAAAAAAAAAAAAAAAAAAAAAAAAAAAAAAAAAAAAAAAAAAAAAAAAAAAAAAAAAAAAAAAAAAAAAAAAAAAAAAAAAAAAAAAAAAAAAAAAAAAAAAAAAAAAAAAAAAAAAAAAAAAAAAAAAAAAAAAAAAAAAAAAAAAAAAAAAAAAAAAAAAAAAAAAAAAAAAAAAAAAAAAAAAAAAAAAAAAAAAAAAAAAAAAAAAAAAAAAAAAAAAAAAAAAAAAAAAAAAAAAAAAAAAAAAAAAAAAAAAAAAAAAAAAAAAAAAAAAAAAAAAAAAAAAAAAAAAAAAAAAAAAAAAAAAAAAAAAAAAAAAAAAAAAAAAAAAAAAAAAAAAAAAAAAAAAAAAAAAAAAAAAAAAAAAAAAAAAAAAAAAAAAAAAAAAAAAAAAAAAAAAAAAAAAAAAAAAAAAAAAAAAAAAAAAAAAAAAAAAAAAAAAAAAAAAAAAAAAAAAAAAAAAAAAAAAAAAAAAAAAAAAAAAAAAAAAAAAAAAAAAAAAAAAAAAAAAAAAAAAAAAAAAAAAAAAAAAAAAAAAAAAAAAAAAAAAAAAAAAAAAAAAAAAAAAAAAAAAAAAAAAAAAAAAAAAAAAAAAAAAAAAAAAAAAAAAAAAAAAAAAAAAAAAAAAAAAAAAAAAAAAAAAAAAAAAAAAAAAAAAAAAAAAAAAAAAAAAAAAAAAAAAAAAAAAAAAAAAAAAAAAAAAAAAAAAAAAAAAAAAAAAAAAAAAAAAAAAAAAAAAAAAAAAAAAAAAAAAAAAAAAAAAAAAAAAAAAAAAAAAAAAAAAAAAAAAAAAAAAAAAAAAAAAAAAAAAAAAAAAAAAAAAAAAAAAAAAAAAAAAAAAAAAAAAAAAAAAAAAAAAAAAAAAAAAAAAAAAAAAAAAAAAAAAAAAAAAAAAAAAAAAAAAAAAAAAAAAAAAAAAAAAAAAAAAAAAAAAAAAAAAAAAAAAAAAAAAAAAAAAAAAAAAAAAAAAAAAAAAAAAAAAAAAAAAAAAAAAAAAAAAAAAAAAAAAAAAAAAAAAAAAAAAAAAAAAAAAAAAAAAAAAAAAAAAAAAAAAAAAAAAAAAAAAAAAAAAAAAAAAAAAAAAAAAAAAAAAAAAAAAAAAAAAAAAAAAAAAAAAAAAAAAAAAAAAAAAAAAAAAAAAAAAAAAAAAAAAAAAAAAAAAAAAAAAAAAAAAAAAAAAAAAAAAAAAAAAAAAAAAAAAAAAAAAAAAAAAAAAAAAAAAAAAAAAAAAAAAAAAAAAAAAAAAAAAAAAAAAAAAAAAAAAAAAAAAAAAAAAAAAAAAAAAAAAAAAAAAAAAAAAAAAAAAAAAAAAAAAAAAAAAAAAAAAAAAAAAAAAAAAAAAAAAAAAAAAAAAAAAAAAAAAAAAAAAAAAAAAAAAAAAAAAAAAAAAAAAAAAAAAAAAAAAAAAAAAAAAAAAAAAAAAAAAAAAAAAAAAAAAAAAAAAAAAAAAAAAAAAAAAAAAAAAAAAAAAAAAAAAAAAAAAAAAAAAAAAAAAAAAAAAAAAAAAAAAAAAAAAAAAAAAAAAAAAAAAAAAAAAAAAAAAAAAAAAAAAAAAAAAAAAAAAAAAAAAAAAAAAAAAAAAAAAAAAAAAAAAAAAAAAAAAAAAAAAAAAAAAAAAAAAAAAAAAAAAAAAAAAAAAAAAAAAAAAAAAAAAAAAAAAAAAAAAAAAAAAAAAAAAAAAAAAAAAAAAAAAAAAAAAAAAAAAAAAAAAAAAAAAAAAAAAAAAAAAAAAAAAAAAAAAAAAAAAAAAAAAAAAAAAAAAAAAAAAAAAAAAAAAAAAAAAAAAAAAAAAAAAAAAAAAAAAAAAAAAAAAAAAAAAAAAAAAAAAAAAAAAAAAAAAAAAAAAAAAAAAAAAAAAAAAAAAAAAAAAAAAAAAAAAAAAAAAAAAAAAAAAAAAAAAAAAAAAAAAAAAAAAAAAAAAAAAAAAAAAAAAAAAAAAAAAAAAAAAAAAAAAAAAAAAAAAAAAAAAAAAAAAAAAAAAAAAAAAAAAAAAAAAAAAAAAAAAAAAAAAAAAAAAAAAAAAAAAAAAAAAAAAAAAAAAAAAAAAAAAAAAAAAAAAAAAAAAAAAAAAAAAAAAAAAAAAAAAAAAAAAAAAAAAAAAAAAAAAAAAAAAAAAAAAAAAAAAAAAAAAAAAAAAAAAAAAAAAAAAAAAAAAAAAAAAAAAAAAAAAAAAAAAAAAAAAAAAAAAAAAAAAAAAAAAAAAAAAAAAAAAAAAAAAAAAAAAAAAAAAAAAAAAAAAAAAAAAAAAAAAAAAAAAAAAAAAAAAAAAAAAAAAAAAAAAAAAAAAAAAAAAAAAAAAAAAAAAAAAAAAAAAAAAAAAAAAAAAAAAAAAAAAAAAAAAAAAAAAAAAAAAAAAAAAAAAAAAAAAAAAAAAAAAAAAAAAAAAAAAAAAAAAAAAAAAAAAAAAAAAAAAAAAAAAAAAAAAAAAAAAAAAAAAAAAAAAAAAAAAAAAAAAAAAAAAAAAAAAAAAAAAAAAAAAAAAAAAAAAAAAAAAAAAAAAAAAAAAAAAAAAAAAAAAAAAAAAAAAAAAAAAAAAAAAAAAAAAAAAAAAAAAAAAAAAAAAAAAAAAAAAAAAAAAAAAAAAAAAAAAAAAAAAAAAAAAAAAAAAAAAAAAAAAAAAAAAAAAAAAAAAAAAAAAAAAAAAAAAAAAAAAAAAAAAAAAAAAAAAAAAAAAAAAAAAAAAAAAAAAAAAAAAAAAAAAAAAAAAAAAAAAAAAAAAAAAAAAAAAAAAAAAAAAAAAAAAAAAAAAAAAAAAAAAAAAAAAAAAAAAAAAAAAAAAAAAAAAAAAAAAAAAAAAAAAAAAAAAAAAAAAAAAAAAAAAAAAAAAAAAAAAAAAAAAAAAAAAAAAAAAAAAAAAAAAAAAAAAAAAAAAAAAAAAAAAAAAAAAAAAAAAAAAAAAAAAAAAAAAAAAAAAAAAAAAAAAAAAAAAAAAAAAAAAAAAAAAAAAAAAAAAAAAAAAAAAAAAAAAAAAAAAAAAAAAAAAAAAAAAAAAAAAAAAAAAAAAAAAAAAAAAAAAAAAAAAAAAAAAAAAAAAAAAAAAAAAAAAAAAAAAAAAAAAAAAAAAAAAAAAAAAAAAAAAAAAAAAAAAAAAAAAAAAAAAAAAAAAAAAAAAAAAAAAAAAAAAAAAAAAAAAAAAAAAAAAAAAAAAAAAAAAAAAAAAAAAAAAAAAAAAAAAAAAAAAAAAAAAAAAAAAAAAAAAAAAAAAAAAAAAAAAAAAAAAAAAAAAAAAAAAAAAAAAAAAAAAAAAAAAAAAAAAAAAAAAAAAAAAAAAAAAAAAAAAAAAAAAAAAAAAAAAAAAAAAAAAAAAAAAAAAAAAAAAAAAAAAAAAAAAAAAAAAAAAAAAAAAAAAAAAAAAAAAAAAAAAAAAAAAAAAAAAAAAAAAAAAAAAAAAAAAAAAAAAAAAAAAAAAAAAAAAAAAAAAAAAAAAAAAAAAAAAAAAAAAAAAAAAAAAAAAAAAAAAAAAAAAAAAAAAAAAAAAAAAAAAAAAAAAAAAAAAAAAAAAAAAAAAAAAAAAAAAAAAAAAAAAAAAAAAAAAAAAAAAAAAAAAAAAAAAAAAAAAAAAAAAAAAAAAAAAAAAAAAAAAAAAAAAAAAAAAAAAAAAAAAAAAAAAAAAAAAAAAAAAAAAAAAAAAAAAAAAAAAAAAAAAAAAAAAAAAAAAAAAAAAAAAAAAAAAAAAAAAAAAAAAAAAAAAAAAAAAAAAAAAAAAAAAAAAAAAAAAAAAAAAAAAAAAAAAAAAAAAAAAAAAAAAAAAAAAAAAAAAAAAAAAAAAAAAAAAAAAAAAAAAAAAAAAAAAAAAAAAAAAAAAAAAAAAAAAAAAAAAAAAAAAAAAAAAAAAAAAAAAAAAAAAAAAAAAAAAAAAAAAAAAAAAAAAAAAAAAAAAAAAAAAAAAAAAAAAAAAAAAAAAAAAAAAAAAAAAAAAAAAAAAAAAAAAAAAAAAAAAAAAAAAAAAAAAAAAAAAAAAAAAAAAAAAAAAAAAAAAAAAAAAAAAAAAAAAAAAAAAAAAAAAAAAAAAAAAAAAAAAAAAAAAAAAAAAAAAAAAAAAAAAAAAAAAAAAAAAAAAAAAAAAAAAAAAAAAAAAAAAAAAAAAAAAAAAAAAAAAAAAAAAAAAAAAAAAAAAAAAAAAAAAAAAAAAAAAAAAAAAAAAAAAAAAAAAAAAAAAAAAAAAAAAAAAAAAAAAAAAAAAAAAAAAAAAAAAAAAAAAAAAAAAAAAAAAAAAAAAAAAAAAAAAAAAAAAAAAAAAAAAAAAAAAAAAAAAAAAAAAAAAAAAAAAAAAAAAAAAAAAAAAAAAAAAAAAAAAAAAAAAAAAAAAAAAAAAAAAAAAAAAAAAAAAAAAAAAAAAAAAAAAAAAAAAAAAAAAAAAAAAAAAAAAAAAAAAAAAAAAAAAAAAAAAAAAAAAAAAAAAAAAAAAAAAAAAAAAAAAAAAAAAAAAAAAAAAAAAAAAAAAAAAAAAAAAAAAAAAAAAAAAAAAAAAAAAAAAAAAAAAAAAAAAAAAAAAAAAAAAAAAAAAAAAAAAAAAAAAAAAAAAAAAAAAAAAAAAAAAAAAAAAAAAAAAAAAAAAAAAAAAAAAAAAAAAAAAAAAAAAAAAAAAAAAAAAAAAAAAAAAAAAAAAAAAAAAAAAAAAAAAAAAAAAAAAAAAAAAAAAAAAAAAAAAAAAAAAAAAAAAAAAAAAAAAAAAAAAAAAAAAAAAAAAAAAAAAAAAAAAAAAAAAAAAAAAAAAAAAAAAAAAAAAAAAAAAAAAAAAAAAAAAAAAAAAAAAAAAAAAAAAAAAAAAAAAAAAAAAAAAAAAAAAAAAAAAAAAAAAAAAAAAAAAAAAAAAAAAAAAAAAAAAAAAAAAAAAAAAAAAAAAAAAAAAAAAAAAAAAAAAAAAAAAAAAAAAAAAAAAAAAAAAAAAAAAAAAAAAAAAAAAAAAAAAAAAAAAAAAAAAAAAAAAAAAAAAAAAAAAAAAAAAAAAAAAAAAAAAAAAAAAAAAAAAAAAAAAAAAAAAAAAAAAAAAAAAAAAAAAAAAAAAAAAAAAAAAAAAAAAAAAAAAAAAAAAAAAAAAAAAAAAAAAAAAAAAAAAAAAAAAAAAAAAAAAAAAAAAAAAAAAAAAAAAAAAAAAAAAAAAAAAAAAAAAAAAAAAAAAAAAAAAAAAAAAAAAAAAAAAAAAAAAAAAAAAAAAAAAAAAAAAAAAAAAAAAAAAAAAAAAAAAAAAAAAAAAAAAAAAAAAAAAAAAAAAAAAAAAAAAAAAAAAAAAAAAAAAAAAAAAAAAAAAAAAAAAAAAAAAAAAAAAAAAAAAAAAAAAAAAAAAAAAAAAAAAAAAAAAAAAAAAAAAAAAAAAAAAAAAAAAAAAAAAAAAAAAAAAAAAAAAAAAAAAAAAAAAAAAAAAAAAAAAAAAAAAAAAAAAAAAAAAAAAAAAAAAAAAAAAAAAAAAAAAAAAAAAAAAAAAAAAAAAAAAAAAAAAAAAAAAAAAAAAAAAAAAAAAAAAAAAAAAAAAAAAAAAAAAAAAAAAAAAAAAAAAAAAAAAAAAAAAAAAAAAAAAAAAAAAAAAAAAAAAAAAAAAAAAAAAAAAAAAAAAAAAAAAAAAAAAAAAAAAAAAAAAAAAAAAAAAAAAAAAAAAAAAAAAAAAAAAAAAAAAAAAAAAAAAAAAAAAAAAAAAAAAAAAAAAAAAAAAAAAAAAAAAAAAAAAAAAAAAAAAAAAAAAAAAAAAAAAAAAAAAAAAAAAAAAAAAAAAAAAAAAAAAAAAAAAAAAAAAAAAAAAAAAAAAAAAAAAAAAAAAAAAAAAAAAAAAAAAAAAAAAAAAAAAAAAAAAAAAAAAAAAAAAAAAAAAAAAAAAAAAAAAAAAAAAAAAAAAAAAAAAAAAAAAAAAAAAAAAAAAAAAAAAAAAAAAAAAAAAAAAAAAAAAAAAAAAAAAAAAAAAAAAAAAAAAAAAAAAAAAAAAAAAAAAAAAAAAAAAAAAAAAAAAAAAAAAAAAAAAAAAAAAAAAAAAAAAAAAAAAAAAAAAAAAAAAAAAAAAAAAAAAAAAAAAAAAAAAAAAAAAAAAAAAAAAAAAAAAAAAAAAAAAAAAAAAAAAAAAAAAAAAAAAAAAAAAAAAAAAAAAAAAAAAAAAAAAAAAAAAAAAAAAAAAAAAAAAAAAAAAAAAAAAAAAAAAAAAAAAAAAAAAAAAAAAAAAAAAAAAAAAAAAAAAAAAAAAAAAAAAAAAAAAAAAAAAAAAAAAAAAAAAAAAAAAAAAAAAAAAAAAAAAAAAAAAAAAAAAAAAAAAAAAAAAAAAAAAAAAAAAAAAAAAAAAAAAAAAAAAAAAAAAAAAAAAAAAAAAAAAAAAAAAAAAAAAAAAAAAAAAAAAAAAAAAAAAAAAAAAAAAAAAAAAAAAAAAAAAAAAAAAAAAAAAAAAAAAAAAAAAAAAAAAAAAAAAAAAAAAAAAAAAAAAAAAAAAAAAAAAAAAAAAAAAAAAAAAAAAAAAAAAAAAAAAAAAAAAAAAAAAAAAAAAAAAAAAAAAAAAAAAAAAAAAAAAAAAAAAAAAAAAAAAAAAAAAAAAAAAAAAAAAAAAAAAAAAAAAAAAAAAAAAAAAAAAAAAAAAAAAAAAAAAAAAAAAAAAAAAAAAAAAAAAAAAAAAAAAAAAAAAAAAAAAAAAAAAAAAAAAAAAAAAAAAAAAAAAAAAAAAAAAAAAAAAAAAAAAAAAAAAAAAAAAAAAAAAAAAAAAAAAAAAAAAAAAAAAAAAAAAAAAAAAAAAAAAAAAAAAAAAAAAAAAAAAAAAAAAAAAAAAAAAAAAAAAAAAAAAAAAAAAAAAAAAAAAAAAAAAAAAAAAAAAAAAAAAAAAAAAAAAAAAAAAAAAAAAAAAAAAAAAAAAAAAAAAAAAAAAAAAAAAAAAAAAAAAAAAAAAAAAAAAAAAAAAAAAAAAAAAAAAAAAAAAAAAAAAAAAAAAAAAAAAAAAAAAAAAAAAAAAAAAAAAAAAAAAAAAAAAAAAAAAAAAAAAAAAAAAAAAAAAAAAAAAAAAAAAAAAAAAAAAAAAAAAAAAAAAAAAAAAAAAAAAAAAAAAAAAAAAAAAAAAAAAAAAAAAAAAAAAAAAAAAAAAAAAAAAAAAAAAAAAAAAAAAAAAAAAAAAAAAAAAAAAAAAAAAAAAAAAAAAAAAAAAAAAAAAAAAAAAAAAAAAAAAAAAAAAAAAAAAAAAAAAAAAAAAAAAAAAAAAAAAAAAAAAAAAAAAAAAAAAAAAAAAAAAAAAAAAAAAAAAAAAAAAAAAAAAAAAAAAAAAAAAAAAAAAAAAAAAAAAAAAAAAAAAAAAAAAAAAAAAAAAAAAAAAAAAAAAAAAAAAAAAAAAAAAAAAAAAAAAAAAAAAAAAAAAAAAAAAAAAAAAAAAAAAAAAAAAAAAAAAAAAAAAAAAAAAAAAAAAAAAAAAAAAAAAAAAAAAAAAAAAAAAAAAAAAAAAAAAAAAAAAAAAAAAAAAAAAAAAAAAAAAAAAAAAAAAAAAAAAAAAAAAAAAAAAAAAAAAAAAAAAAAAAAAAAAAAAAAAAAAAAAAAAAAAAAAAAAAAAAAAAAAAAAAAAAAAAAAAAAAAAAAAAAAAAAAAAAAAAAAAAAAAAAAAAAAAAAAAAAAAAAAAAAAAAAAAAAAAAAAAAAAAAAAAAAAAAAAAAAAAAAAAAAAAAAAAAAAAAAAAAAAAAAAAAAAAAAAAAAAAAAAAAAAAAAAAAAAAAAAAAAAAAAAAAAAAAAAAAAAAAAAAAAAAAAAAAAAAAAAAAAAAAAAAAAAAAAAAAAAAAAAAAAAAAAAAAAAAAAAAAAAAAAAAAAAAAAAAAAAAAAAAAAAAAAAAAAAAAAAAAAAAAAAAAAAAAAAAAAAAAAAAAAAAAAAAAAAAAAAAAAAAAAAAAAAAAAAAAAAAAAAAAAAAAAAAAAAAAAAAAAAAAAAAAAAAAAAAAAAAAAAAAAAAAAAAAAAAAAAAAAAAAAAAAAAAAAAAAAAAAAAAAAAAAAAAAAAAAAAAAAAAAAAAAAAAAAAAAAAAAAAAAAAAAAAAAAAAAAAAAAAAAAAAAAAAAAAAAAAAAAAAAAAAAAAAAAAAAAAAAAAAAAAAAAAAAAAAAAAAAAAAAAAAAAAAAAAAAAAAAAAAAAAAAAAAAAAAAAAAAAAAAAAAAAAAAAAAAAAAAAAAAAAAAAAAAAAAAAAAAAAAAAAAAAAAAAAAAAAAAAAAAAAAAAAAAAAAAAAAAAAAAAAAAAAAAAAAAAAAAAAAAAAAAAAAAAAAAAAAAAAAAAAAAAAAAAAAAAAAAAAAAAAAAAAAAAAAAAAAAAAAAAAAAAAAAAAAAAAAAAAAAAAAAAAAAAAAAAAAAAAAAAAAAAAAAAAAAAAAAAAAAAAAAAAAAAAAAAAAAAAAAAAAAAAAAAAAAAAAAAAAAAAAAAAAAAAAAAAAAAAAAAAAAAAAAAAAAAAAAAAAAAAAAAAAAAAAAAAAAAAAAAAAAAAAAAAAAAAAAAAAAAAAAAAAAAAAAAAAAAAAAAAAAAAAAAAAAAAAAAAAAAAAAAAAAAAAAAAAAAAAAAAAAAAAAAAAAAAAAAAAAAAAAAAAAAAAAAAAAAAAAAAAAAAAAAAAAAAAAAAAAAAAAAAAAAAAAAAAAAAAAAAAAAAAAAAAAAAAAAAAAAAAAAAAAAAAAAAAAAAAAAAAAAAAAAAAAAAAAAAAAAAAAAAAAAAAAAAAAAAAAAAAAAAAAAAAAAAAAAAAAAAAAAAAAAAAAAAAAAAAAAAAAAAAAAAAAAAAAAAAAAAAAAAAAAAAAAAAAAAAAAAAAAAAAAAAAAAAAAAAAAAAAAAAAAAAAAAAAAAAAAAAAAAAAAAAAAAAAAAAAAAAAAAAAAAAAAAAAAAAAAAAAAAAAAAAAAAAAAAAAAAAAAAAAAAAAAAAAAAAAAAAAAAAAAAAAAAAAAAAAAAAAAAAAAAAAAAAAAAAAAAAAAAAAAAAAAAAAAAAAAAAAAAAAAAAAAAAAAAAAAAAAAAAAAAAAAAAAAAAAAAAAAAAAAAAAAAAAAAAAAAAAAAAAAAAAAAAAAAAAAAAAAAAAAAAAAAAAAAAAAAAAAAAAAAAAAAAAAAAAAAAAAAAAAAAAAAAAAAAAAAAAAAAAAAAAAAAAAAAAAAAAAAAAAAAAAAAAAAAAAAAAAAAAAAAAAAAAAAAAAAAAAAAAAAAAAAAAAAAAAAAAAAAAAAAAAAAAAAAAAAAAAAAAAAAAAAAAAAAAAAAAAAAAAAAAAAAAAAAAAAAAAAAAAAAAAAAAAAAAAAAAAAAAAAAAAAAAAAAAAAAAAAAAAAAAAAAAAAAAAAAAAAAAAAAAAAAAAAAAAAAAAAAAAAAAAAAAAAAAAAAAAAAAAAAAAAAAAAAAAAAAAAAAAAAAAAAAAAAAAAAAAAAAAAAAAAAAAAAAAAAAAAAAAAAAAAAAAAAAAAAAAAAAAAAAAAAAAAAAAAAAAAAAAAAAAAAAAAAAAAAAAAAAAAAAAAAAAAAAAAAAAAAAAAAAAAAAAAAAAAAAAAAAAAAAAAAAAAAAAAAAAAAAAAAAAAAAAAAAAAAAAAAAAAAAAAAAAAAAAAAAAAAAAAAAAAAAAAAAAAAAAAAAAAAAAAAAAAAAAAAAAAAAAAAAAAAAAAAAAAAAAAAAAAAAAAAAAAAAAAAAAAAAAAAAAAAAAAAAAAAAAAAAAAAAAAAAAAAAAAAAAAAAAAAAAAAAAAAAAAAAAAAAAAAAAAAAAAAAAAAAAAAAAAAAAAAAAAAAAAAAAAAAAAAAAAAAAAAAAAAAAAAAAAAAAAAAAAAAAAAAAAAAAAAAAAAAAAAAAAAAAAAAAAAAAAAAAAAAAAAAAAAAAAAAAAAAAAAAAAAAAAAAAAAAAAAAAAAAAAAAAAAAAAAAAAAAAAAAAAAAAAAAAAAAAAAAAAAAAAAAAAAAAAAAAAAAAAAAAAAAAAAAAAAAAAAAAAAAAAAAAAAAAAAAAAAAAAAAAAAAAAAAAAAAAAAAAAAAAAAAAAAAAAAAAAAAAAAAAAAAAAAAAAAAAAAAAAAAAAAAAAAAAAAAAAAAAAAAAAAAAAAAAAAAAAAAAAAAAAAAAAAAAAAAAAAAAAAAAAAAAAAAAAAAAAAAAAAAAAAAAAAAAAAAAAAAAAAAAAAAAAAAAAAAAAAAAAAAAAAAAAAAAAAAAAAAAAAAAAAAAAAAAAAAAAAAAAAAAAAAAAAAAAAAAAAAAAAAAAAAAAAAAAAAAAAAAAAAAAAAAAAAAAAAAAAAAAAAAAAAAAAAAAAAAAAAAAAAAAAAAAAAAAAAAAAAAAAAAAAAAAAAAAAAAAAAAAAAAAAAAAAAAAAAAAAAAAAAAAAAAAAAAAAAAAAAAAAAAAAAAAAAAAAAAAAAAAAAAAAAAAAAAAAAAAAAAAAAAAAAAAAAAAAAAAAAAAAAAAAAAAAAAAAAAAAAAAAAAAAAAAAAAAAAAAAAAAAAAAAAAAAAAAAAAAAAAAAAAAAAAAAAAAAAAAAAAAAAAAAAAAAAAAAAAAAAAAAAAAAAAAAAAAAAAAAAAAAAAAAAAAAAAAAAAAAAAAAAAAAAAAAAAAAAAAAAAAAAAAAAAAAAAAAAAAAAAAAAAAAAAAAAAAAAAAAAAAAAAAAAAAAAAAAAAAAAAAAAAAAAAAAAAAAAAAAAAAAAAAAAAAAAAAAAAAAAAAAAAAAAAAAAAAAAAAAAAAAAAAAAAAAAAAAAAAAAAAAAAAAAAAAAAAAAAAAAAAAAAAAAAAAAAAAAAAAAAAAAAAAAAAAAAAAAAAAAAAAAAAAAAAAAAAAAAAAAAAAAAAAAAAAAAAAAAAAAAAAAAAAAAAAAAAAAAAAAAAAAAAAAAAAAAAAAAAAAAAAAAAAAAAAAAAAAAAAAAAAAAAAAAAAAAAAAAAAAAAAAAAAAAAA==",
          "dtype": "f4"
         }
        }
       ],
       "layout": {
        "autosize": true,
        "boxmode": "group",
        "height": 400,
        "hovermode": "closest",
        "paper_bgcolor": "rgba(0,0,0,0)",
        "plot_bgcolor": "rgba(0,0,0,0)",
        "template": {
         "data": {
          "bar": [
           {
            "error_x": {
             "color": "#2a3f5f"
            },
            "error_y": {
             "color": "#2a3f5f"
            },
            "marker": {
             "line": {
              "color": "#E5ECF6",
              "width": 0.5
             },
             "pattern": {
              "fillmode": "overlay",
              "size": 10,
              "solidity": 0.2
             }
            },
            "type": "bar"
           }
          ],
          "barpolar": [
           {
            "marker": {
             "line": {
              "color": "#E5ECF6",
              "width": 0.5
             },
             "pattern": {
              "fillmode": "overlay",
              "size": 10,
              "solidity": 0.2
             }
            },
            "type": "barpolar"
           }
          ],
          "carpet": [
           {
            "aaxis": {
             "endlinecolor": "#2a3f5f",
             "gridcolor": "white",
             "linecolor": "white",
             "minorgridcolor": "white",
             "startlinecolor": "#2a3f5f"
            },
            "baxis": {
             "endlinecolor": "#2a3f5f",
             "gridcolor": "white",
             "linecolor": "white",
             "minorgridcolor": "white",
             "startlinecolor": "#2a3f5f"
            },
            "type": "carpet"
           }
          ],
          "choropleth": [
           {
            "colorbar": {
             "outlinewidth": 0,
             "ticks": ""
            },
            "type": "choropleth"
           }
          ],
          "contour": [
           {
            "colorbar": {
             "outlinewidth": 0,
             "ticks": ""
            },
            "colorscale": [
             [
              0,
              "#0d0887"
             ],
             [
              0.1111111111111111,
              "#46039f"
             ],
             [
              0.2222222222222222,
              "#7201a8"
             ],
             [
              0.3333333333333333,
              "#9c179e"
             ],
             [
              0.4444444444444444,
              "#bd3786"
             ],
             [
              0.5555555555555556,
              "#d8576b"
             ],
             [
              0.6666666666666666,
              "#ed7953"
             ],
             [
              0.7777777777777778,
              "#fb9f3a"
             ],
             [
              0.8888888888888888,
              "#fdca26"
             ],
             [
              1,
              "#f0f921"
             ]
            ],
            "type": "contour"
           }
          ],
          "contourcarpet": [
           {
            "colorbar": {
             "outlinewidth": 0,
             "ticks": ""
            },
            "type": "contourcarpet"
           }
          ],
          "heatmap": [
           {
            "colorbar": {
             "outlinewidth": 0,
             "ticks": ""
            },
            "colorscale": [
             [
              0,
              "#0d0887"
             ],
             [
              0.1111111111111111,
              "#46039f"
             ],
             [
              0.2222222222222222,
              "#7201a8"
             ],
             [
              0.3333333333333333,
              "#9c179e"
             ],
             [
              0.4444444444444444,
              "#bd3786"
             ],
             [
              0.5555555555555556,
              "#d8576b"
             ],
             [
              0.6666666666666666,
              "#ed7953"
             ],
             [
              0.7777777777777778,
              "#fb9f3a"
             ],
             [
              0.8888888888888888,
              "#fdca26"
             ],
             [
              1,
              "#f0f921"
             ]
            ],
            "type": "heatmap"
           }
          ],
          "histogram": [
           {
            "marker": {
             "pattern": {
              "fillmode": "overlay",
              "size": 10,
              "solidity": 0.2
             }
            },
            "type": "histogram"
           }
          ],
          "histogram2d": [
           {
            "colorbar": {
             "outlinewidth": 0,
             "ticks": ""
            },
            "colorscale": [
             [
              0,
              "#0d0887"
             ],
             [
              0.1111111111111111,
              "#46039f"
             ],
             [
              0.2222222222222222,
              "#7201a8"
             ],
             [
              0.3333333333333333,
              "#9c179e"
             ],
             [
              0.4444444444444444,
              "#bd3786"
             ],
             [
              0.5555555555555556,
              "#d8576b"
             ],
             [
              0.6666666666666666,
              "#ed7953"
             ],
             [
              0.7777777777777778,
              "#fb9f3a"
             ],
             [
              0.8888888888888888,
              "#fdca26"
             ],
             [
              1,
              "#f0f921"
             ]
            ],
            "type": "histogram2d"
           }
          ],
          "histogram2dcontour": [
           {
            "colorbar": {
             "outlinewidth": 0,
             "ticks": ""
            },
            "colorscale": [
             [
              0,
              "#0d0887"
             ],
             [
              0.1111111111111111,
              "#46039f"
             ],
             [
              0.2222222222222222,
              "#7201a8"
             ],
             [
              0.3333333333333333,
              "#9c179e"
             ],
             [
              0.4444444444444444,
              "#bd3786"
             ],
             [
              0.5555555555555556,
              "#d8576b"
             ],
             [
              0.6666666666666666,
              "#ed7953"
             ],
             [
              0.7777777777777778,
              "#fb9f3a"
             ],
             [
              0.8888888888888888,
              "#fdca26"
             ],
             [
              1,
              "#f0f921"
             ]
            ],
            "type": "histogram2dcontour"
           }
          ],
          "mesh3d": [
           {
            "colorbar": {
             "outlinewidth": 0,
             "ticks": ""
            },
            "type": "mesh3d"
           }
          ],
          "parcoords": [
           {
            "line": {
             "colorbar": {
              "outlinewidth": 0,
              "ticks": ""
             }
            },
            "type": "parcoords"
           }
          ],
          "pie": [
           {
            "automargin": true,
            "type": "pie"
           }
          ],
          "scatter": [
           {
            "fillpattern": {
             "fillmode": "overlay",
             "size": 10,
             "solidity": 0.2
            },
            "type": "scatter"
           }
          ],
          "scatter3d": [
           {
            "line": {
             "colorbar": {
              "outlinewidth": 0,
              "ticks": ""
             }
            },
            "marker": {
             "colorbar": {
              "outlinewidth": 0,
              "ticks": ""
             }
            },
            "type": "scatter3d"
           }
          ],
          "scattercarpet": [
           {
            "marker": {
             "colorbar": {
              "outlinewidth": 0,
              "ticks": ""
             }
            },
            "type": "scattercarpet"
           }
          ],
          "scattergeo": [
           {
            "marker": {
             "colorbar": {
              "outlinewidth": 0,
              "ticks": ""
             }
            },
            "type": "scattergeo"
           }
          ],
          "scattergl": [
           {
            "marker": {
             "colorbar": {
              "outlinewidth": 0,
              "ticks": ""
             }
            },
            "type": "scattergl"
           }
          ],
          "scattermap": [
           {
            "marker": {
             "colorbar": {
              "outlinewidth": 0,
              "ticks": ""
             }
            },
            "type": "scattermap"
           }
          ],
          "scattermapbox": [
           {
            "marker": {
             "colorbar": {
              "outlinewidth": 0,
              "ticks": ""
             }
            },
            "type": "scattermapbox"
           }
          ],
          "scatterpolar": [
           {
            "marker": {
             "colorbar": {
              "outlinewidth": 0,
              "ticks": ""
             }
            },
            "type": "scatterpolar"
           }
          ],
          "scatterpolargl": [
           {
            "marker": {
             "colorbar": {
              "outlinewidth": 0,
              "ticks": ""
             }
            },
            "type": "scatterpolargl"
           }
          ],
          "scatterternary": [
           {
            "marker": {
             "colorbar": {
              "outlinewidth": 0,
              "ticks": ""
             }
            },
            "type": "scatterternary"
           }
          ],
          "surface": [
           {
            "colorbar": {
             "outlinewidth": 0,
             "ticks": ""
            },
            "colorscale": [
             [
              0,
              "#0d0887"
             ],
             [
              0.1111111111111111,
              "#46039f"
             ],
             [
              0.2222222222222222,
              "#7201a8"
             ],
             [
              0.3333333333333333,
              "#9c179e"
             ],
             [
              0.4444444444444444,
              "#bd3786"
             ],
             [
              0.5555555555555556,
              "#d8576b"
             ],
             [
              0.6666666666666666,
              "#ed7953"
             ],
             [
              0.7777777777777778,
              "#fb9f3a"
             ],
             [
              0.8888888888888888,
              "#fdca26"
             ],
             [
              1,
              "#f0f921"
             ]
            ],
            "type": "surface"
           }
          ],
          "table": [
           {
            "cells": {
             "fill": {
              "color": "#EBF0F8"
             },
             "line": {
              "color": "white"
             }
            },
            "header": {
             "fill": {
              "color": "#C8D4E3"
             },
             "line": {
              "color": "white"
             }
            },
            "type": "table"
           }
          ]
         },
         "layout": {
          "annotationdefaults": {
           "arrowcolor": "#2a3f5f",
           "arrowhead": 0,
           "arrowwidth": 1
          },
          "autotypenumbers": "strict",
          "coloraxis": {
           "colorbar": {
            "outlinewidth": 0,
            "ticks": ""
           }
          },
          "colorscale": {
           "diverging": [
            [
             0,
             "#8e0152"
            ],
            [
             0.1,
             "#c51b7d"
            ],
            [
             0.2,
             "#de77ae"
            ],
            [
             0.3,
             "#f1b6da"
            ],
            [
             0.4,
             "#fde0ef"
            ],
            [
             0.5,
             "#f7f7f7"
            ],
            [
             0.6,
             "#e6f5d0"
            ],
            [
             0.7,
             "#b8e186"
            ],
            [
             0.8,
             "#7fbc41"
            ],
            [
             0.9,
             "#4d9221"
            ],
            [
             1,
             "#276419"
            ]
           ],
           "sequential": [
            [
             0,
             "#0d0887"
            ],
            [
             0.1111111111111111,
             "#46039f"
            ],
            [
             0.2222222222222222,
             "#7201a8"
            ],
            [
             0.3333333333333333,
             "#9c179e"
            ],
            [
             0.4444444444444444,
             "#bd3786"
            ],
            [
             0.5555555555555556,
             "#d8576b"
            ],
            [
             0.6666666666666666,
             "#ed7953"
            ],
            [
             0.7777777777777778,
             "#fb9f3a"
            ],
            [
             0.8888888888888888,
             "#fdca26"
            ],
            [
             1,
             "#f0f921"
            ]
           ],
           "sequentialminus": [
            [
             0,
             "#0d0887"
            ],
            [
             0.1111111111111111,
             "#46039f"
            ],
            [
             0.2222222222222222,
             "#7201a8"
            ],
            [
             0.3333333333333333,
             "#9c179e"
            ],
            [
             0.4444444444444444,
             "#bd3786"
            ],
            [
             0.5555555555555556,
             "#d8576b"
            ],
            [
             0.6666666666666666,
             "#ed7953"
            ],
            [
             0.7777777777777778,
             "#fb9f3a"
            ],
            [
             0.8888888888888888,
             "#fdca26"
            ],
            [
             1,
             "#f0f921"
            ]
           ]
          },
          "colorway": [
           "#636efa",
           "#EF553B",
           "#00cc96",
           "#ab63fa",
           "#FFA15A",
           "#19d3f3",
           "#FF6692",
           "#B6E880",
           "#FF97FF",
           "#FECB52"
          ],
          "font": {
           "color": "#2a3f5f"
          },
          "geo": {
           "bgcolor": "white",
           "lakecolor": "white",
           "landcolor": "#E5ECF6",
           "showlakes": true,
           "showland": true,
           "subunitcolor": "white"
          },
          "hoverlabel": {
           "align": "left"
          },
          "hovermode": "closest",
          "mapbox": {
           "style": "light"
          },
          "paper_bgcolor": "white",
          "plot_bgcolor": "#E5ECF6",
          "polar": {
           "angularaxis": {
            "gridcolor": "white",
            "linecolor": "white",
            "ticks": ""
           },
           "bgcolor": "#E5ECF6",
           "radialaxis": {
            "gridcolor": "white",
            "linecolor": "white",
            "ticks": ""
           }
          },
          "scene": {
           "xaxis": {
            "backgroundcolor": "#E5ECF6",
            "gridcolor": "white",
            "gridwidth": 2,
            "linecolor": "white",
            "showbackground": true,
            "ticks": "",
            "zerolinecolor": "white"
           },
           "yaxis": {
            "backgroundcolor": "#E5ECF6",
            "gridcolor": "white",
            "gridwidth": 2,
            "linecolor": "white",
            "showbackground": true,
            "ticks": "",
            "zerolinecolor": "white"
           },
           "zaxis": {
            "backgroundcolor": "#E5ECF6",
            "gridcolor": "white",
            "gridwidth": 2,
            "linecolor": "white",
            "showbackground": true,
            "ticks": "",
            "zerolinecolor": "white"
           }
          },
          "shapedefaults": {
           "line": {
            "color": "#2a3f5f"
           }
          },
          "ternary": {
           "aaxis": {
            "gridcolor": "white",
            "linecolor": "white",
            "ticks": ""
           },
           "baxis": {
            "gridcolor": "white",
            "linecolor": "white",
            "ticks": ""
           },
           "bgcolor": "#E5ECF6",
           "caxis": {
            "gridcolor": "white",
            "linecolor": "white",
            "ticks": ""
           }
          },
          "title": {
           "x": 0.05
          },
          "xaxis": {
           "automargin": true,
           "gridcolor": "white",
           "linecolor": "white",
           "ticks": "",
           "title": {
            "standoff": 15
           },
           "zerolinecolor": "white",
           "zerolinewidth": 2
          },
          "yaxis": {
           "automargin": true,
           "gridcolor": "white",
           "linecolor": "white",
           "ticks": "",
           "title": {
            "standoff": 15
           },
           "zerolinecolor": "white",
           "zerolinewidth": 2
          }
         }
        },
        "title": {
         "text": "Distribution of scores by race"
        },
        "xaxis": {
         "fixedrange": true,
         "gridcolor": "rgb(159, 197, 232)",
         "hoverformat": ".3f",
         "title": {
          "text": "Score"
         },
         "zerolinecolor": "rgb(159, 197, 232)"
        },
        "yaxis": {
         "fixedrange": true,
         "gridcolor": "rgba(0,0,0,0)",
         "ticktext": [
          ""
         ],
         "tickvals": [
          0
         ],
         "title": {
          "text": ""
         },
         "zerolinecolor": "rgba(0,0,0,0)"
        }
       }
      }
     },
     "metadata": {},
     "output_type": "display_data"
    }
   ],
   "source": [
    "race_names = {\n",
    "    \"amer_indian_eskimo\": \"American Indian / Eskimo\",\n",
    "    \"asian_pac_islander\": \"Asian / Pacific Islander\",\n",
    "    \"black\": \"Black\",\n",
    "    \"other\": \"Other\",\n",
    "    \"white\": \"White\",\n",
    "}\n",
    "\n",
    "fig_dp_by_race = group_box_plots(\n",
    "    test_prob,\n",
    "    test.race.map(race_names),\n",
    "    title=\"Distribution of scores by race\",\n",
    "    xlabel=\"Score\",\n",
    ")\n",
    "fig_dp_by_race"
   ]
  },
  {
   "cell_type": "markdown",
   "metadata": {},
   "source": [
    "## Conditional demographic parity\n",
    "\n",
    "Distribution by sex and hours worked per week."
   ]
  },
  {
   "cell_type": "code",
   "execution_count": 53,
   "metadata": {},
   "outputs": [
    {
     "name": "stdout",
     "output_type": "stream",
     "text": [
      "Conditional demographic parity difference: 0.028\n",
      "Conditional demographic parity ratio: 0.750\n"
     ]
    }
   ],
   "source": [
    "test_hpw_enum = test.hours_per_week.map(bin_hours_per_week)\n",
    "\n",
    "cdpd = conditional_demographic_parity_difference(\n",
    "    test_oh.salary, test_pred, test.sex, test_hpw_enum,\n",
    ")\n",
    "cdpr = conditional_demographic_parity_ratio(\n",
    "    test_oh.salary, test_pred, test.sex, test_hpw_enum,\n",
    ")\n",
    "\n",
    "print(f\"Conditional demographic parity difference: {cdpd:.3f}\")\n",
    "print(f\"Conditional demographic parity ratio: {cdpr:.3f}\")"
   ]
  },
  {
   "cell_type": "code",
   "execution_count": 54,
   "metadata": {},
   "outputs": [
    {
     "data": {
      "application/vnd.plotly.v1+json": {
       "config": {
        "plotlyServerURL": "https://plot.ly"
       },
       "data": [
        {
         "hoverinfo": "name+x",
         "jitter": 0.2,
         "line": {
          "color": "#f2603b"
         },
         "marker": {
          "color": "rgba(242,96,59,1)",
          "opacity": 0.1
         },
         "name": "Female",
         "orientation": "h",
         "type": "box",
         "x": {
          "bdata": "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",
          "dtype": "f4"
         },
         "y": {
          "bdata": "AQEAAAECAQEAAgABAgEBAQEBAgAAAAEBAQEAAQACAAEBAwABAQABAQEBAAAAAAEBAQEBAwECAQMBAgEBAgIBAQIBAgMAAQEAAAEBAgEBAQABAQABAgEBAQECAQACAgEDAQICAQEBAAEBAAEBAQEBAQEBAQICAQEAAAEBAAEBAQEBAQIBAQEAAQEBAwABAAEBAQABAQABAQEBAQEAAQEAAQEBAQABAgEBAQEAAQABAQEBAQABAAAAAQAAAAEBAAEBAQABAQMBAQABAQADAQACAQADAgIBAQEBAQABAQABAAEBAQEAAgACAQADAQABAQAAAQEBAQEAAwEAAQIBAQEBAgIAAQEBAQEBAQIBAQMAAAABAQEBAQEBAQEBAQABAQEBAQIBAQEBAgABAQEBAgEBAAMAAAEBAgEBAQIBAQMAAgEBAAEAAAEAAwEAAQADAQECAQEBAQECAQEBAgEBAAACAgEBAQEBAwEAAQIAAQEAAQEBAQEBAQABAgEBAQEAAgEBAQEBAAIAAQABAQECAQMBAQECAQMBAAEBAQABAQABAAECAQMAAAEBAQAAAQEBAQEDAQEBAAAAAQEBAQEBAQEBAwMAAQEBAQABAAEBAQEAAAEAAAEBAgEBAgAAAQEAAQEBAQEBAAEBAQEBAwIAAQEBAAMDAAECAgEBAQEAAQEBAQEAAQABAAAAAQEAAAABAQEBAQMBAQEDAAEBAAEBAQIBAQAAAAECAQEBAQEAAQEBAQEBAgIBAQABAQEDAQEBAgEBAAEBAQEBAQIDAQEDAAIAAQEAAAEBAAABAQEBAQECAgEBAQABAAEBAQMAAAECAAABAAABAQEBAAABAQABAgEBAQABAAEBAQAAAQEAAQEAAQIBAQMCAQABAQEAAQABAAABAQEBAQABAQEBAQABAQEAAAEBAQEBAQEAAAIBAgEBAgIAAQECAQICAQECAQAAAAEAAAEBAAABAQEBAQEBAQEBAQEBAgEBAAABAQACAQEAAQABAAEBAQEBAgEBAQIDAQECAQEBAQACAQEAAwIBAQEBAAACAQABAQABAgEBAAIAAAIBAAEBAwEAAQEAAQEBAQEBAQEBAQEBAQIAAAIAAgEDAQEAAgEBAQABAQEBAQEBAAEBAAIAAQEBAAIAAQEDAQMAAQMAAQEBAgEBAAECAAABAQAAAgEAAQEBAQAAAQEBAQEBAAABAQEBAgABAQEAAAEBAQEDAwABAQABAgAAAAEBAQABAgABAgEAAwEAAgEBAQEAAgEBAAEBAQECAgAAAgMCAQEBAgICAAMBAQMBAAEBAQABAQAAAAABAQEAAAMBAQIAAAAAAwABAQABAQEBAQIBAQEAAQIBAQEBAQABAAEDAQABAAABAQECAAEBAgECAgAAAgEBAAABAAIAAQEBAQEBAgECAQIDAQEBAQEBAQACAgEBAAABAgEDAAEBAQIAAAABAQEAAAABAgEBAQAAAQEAAQEBAgABAgIBAQAAAgEBAQEAAQAAAQABAQEBAQEBAAEBAQEBAgEBAQEBAQABAgABAQEBAAEBAQIBAAEAAgAAAQEBAAAAAwAAAQEBAQEBAAEBAQEBAQIAAQEBAAABAwMBAQEAAQIAAAEAAAABAQABAQABAQABAgEAAAMBAQEBAAIBAQEBAQEBAQEBAQIBAAIBAAEBAQEDAQAAAAEAAQIBAQIAAAIBAQIBAQEBAQEDAQIBAQIAAQABAAEBAQEBAQIBAAEAAAEBAQABAAEBAQABAQEBAgEBAQEBAgIBAQECAAAAAgECAQACAQEBAgEBAQABAAADAQEBAQEBAAABAAABAQEBAwEBAQIBAgEBAwAAAAABAAEBAQEDAQEBAQACAQACAQEBAQAAAwEBAAIBAQEBAQACAgABAQEBAQEAAQEBAQECAwECAgAAAgEBAgACAQEAAAEBAgEDAAEBAQEBAQMAAQEBAQEAAAEAAQIAAQEAAQABAQEAAQADAQIBAQAAAQIAAQECAAEBAQMDAwEAAAEDAQEAAQACAQACAQEBAAEBAQEAAQECAwEBAwACAgEDAgEBAQEBAAIBAQABAQEAAAIBAgABAAIAAAECAQEBAAEBAQACAAABAQECAAEBAQEBAQEAAQEBAQEBAQEAAQEBAQEBAQIBAAEBAQEDAgEBAQEBAQEAAAABAQABAAABAQEAAQEAAgACAQIBAQAAAwECAQABAQABAAIBAAEBAQIAAAMDAAABAQIBAAEBAAEBAAABAQEDAQEBAQECAAEDAQACAAEBAQEBAQIDAQEBAQEBAAEAAQABAQEBAQEBAgIBAwEAAQIBAQEBAQEBAQECAAEBAQACAQABAgEAAQEBAwEBAQEAAQEBAQEBAQAAAQEAAQEDAAECAQICAQIAAgEBAQEAAgEBAQEBAQEAAgEDAAEBAgEAAAEBAAABAQECAAEBAQIBAgEAAwEBAAEAAwEDAgEBAAIBAQEBAQEAAQEBAgIBAQEBAQEBAQABAQEBAAEBAQICAQIBAAMDAAEBAQEBAQEBAQACAQEBAQEAAwIBAgMBAQEBAQEBAQAAAwMBAAEBAQEBAQEAAgEBAQEBAQEBAgEBAQEBAAEAAgEBAgEAAQEAAQIBAQEBAAEBAAEAAAEBAQEAAQEBAQABAQABAgABAAEBAAEAAAEBAQABAAEBAQABAAECAQEBAQAAAAEBAgACAQEAAQEBAQAAAQEDAQECAQEBAQEAAQAAAAEAAQECAQEAAQEBAQADAQEBAwACAAEBAQEBAQECAQEBAAEBAAECAQEBAQIDAQEBAQEBAQAAAgMDAQEDAQEDAQABAQEBAQEBAQADAQEBAAEAAAECAgEBAQEBAQEAAQMDAQEBAAABAQEBAQIBAgEBAQEBAQAAAQEAAQADAQEBAAEAAAECAQABAQABAQEAAwAAAQEBAQEBAQEBAQEAAQEBAgMBAQEAAQEBAQMBAQEBAQECAQECAQACAQEAAQEBAQEAAQEBAAEBAwEBAAEBAQEBAgMDAQIBAQEDAQAAAAEBAQABAQEBAQEBAAEAAAABAQABAQECAQEAAQICAgEAAgEBAgEBAAAAAAEBAQEBAAEBAQEBAQEBAwACAQECAQABAwECAQIBAQAAAQEAAQACAAABAAMCAAEBAQABAQICAQEBAQEAAQECAQABAQACAQEBAQECAQIBAQIBAgAAAgEAAAABAgAAAQEBAQEBAQEAAQABAQEBAQABAAIAAgEBAwAAAQECAAEDAQABAQEBAgEBAQMCAgABAgMBAgEAAwEBAAEBAQEBAQECAAEBAQECAQABAQIAAQIAAAEBAQEBAQIBAgADAgMBAQEBAgABAQEBAQMBAAEAAgIBAQEBAQABAQMBAQABAgIBAQEBAQABAQIAAQIBAQEAAQACAAECAQIBAQEBAAABAQEDAQABAQEAAgEBAAABAAEDAQIBAQECAQECAQEBAAEAAQICAQEBAQEBAQABAgEBAwEBAQEBAQEDAQIAAwIBAQABAQIAAQECAQEBAwEBAAEDAAEBAQEAAwEBAQEBAQEBAQEAAQIBAwIBAQABAwIAAwMBAQEAAQEBAQEBAwECAQEBAAEAAgEBAwMBAgMBAAEBAAEAAAEBAQEBAQABAQAAAgIDAQACAQABAQEBAwEBAQABAQAAAQECAQMBAQEDAQEBAAEBAAAAAQEBAgEAAQEBAQEAAgEBAQEBAQIBAAIBAQABAQECAgMAAQAAAwMBAAECAAEAAQIBAgMBAQEAAQEDAAABAAEBAQEBAQIBAQEDAQEBAwMAAAABAgECAAECAQAAAQEAAAMBAQMBAAEBAgAAAQMCAQMBAQEBAwEBAgABAQIBAQABAQECAgEDAgABAAEBAgECAAEAAgEBAQEDAQEBAAABAQEAAQEAAAEAAQECAQEBAQEAAAEBAQABAAEAAQEBAQAAAQEBAQACAQABAAEBAgEAAQABAwIDAQABAQEAAQAAAQABAAABAAEAAQEBAAMAAAMBAAEAAgIDAwEBAQEBAgECAQECAQABAQEAAQEBAAABAQABAQIDAQEBAgEBAAECAgEBAAECAAEAAQABAQABAAAAAQECAQAAAAEAAQADAQMBAgIBAAECAAEAAQEBAQABAQMBAQABAQABAQEAAAEBAQEBAgABAQEBAQEAAQIAAAEBAQAAAwEAAQEBAQECAQABAQEBAQEBAQEDAQECAQEAAQIBAgIAAQEBAAIBAQEBAAEBAAEBAAAAAAIAAgEBAQABAQEAAAEAAQABAAAAAAEBAAECAQEBAQEBAQIBAQAAAAAAAQABAQEBAQEBAwEBAAIBAQEAAQEAAQIBAQEBAAABAQIAAAEBAAEBAQEAAwABAgIBAAABAAECAAEAAQABAQMBAgIBAAIDAQEAAQEAAQEBAQABAQEBAQABAAEBAwEBAQIBAQEBAAEBAQIAAQABAQEAAQACAQEBAQICAAAAAQEAAQEBAQEBAQEBAAMAAQEBAQABAQABAQEAAQEBAQIBAQABAQIAAQEAAAEBAQEBAQEBAQEAAQADAAMBAAEAAwEBAQABAQACAQMBAQABAwEAAAEBAQIAAQABAgIDAQABAQIDAQEBAAEBAQEBAQMAAAADAAEBAQAAAAMBAAEAAQIAAQEBAQEAAwABAQAAAAEBAAEBAQABAQABAAECAQEBAgEBAwIDAQIBAwEBAQIBAQEBAQEBAQEAAAIBAQEAAAEBAAEAAgEBAQEAAQEBAQEBAAEBAQEBAAMBAQEAAwACAQMBAQADAQAAAQMCAwEAAAEAAAABAQECAQEBAwIBAAABAAECAQEBAQEBAAEBAAEBAQIBAAEDAQIBAAEBAgAAAQABAQEAAAAAAAEBAAAAAQEAAAEBAQEBAwEBAQEBAQABAQMCAQEBAQIBAAIBAQIBAQEBAQABAQEBAAAAAQECAQIAAgEAAQMBAQEBAQEBAQEBAQEBAwACAAABAQECAAMBAAMAAQABAAEBAQIAAQABAAAAAwAAAQEAAQEAAAMBAAEAAQEAAAACAAECAAEAAAIBAQIDAgECAQEAAwEBAQEBAQEBAAABAgEBAgECAAEBAAAAAQEBAAEAAQEBAQEBAQEBAgEBAAAAAQEBAQEBAwEBAQMAAwAAAQIBAQEBAAEBAgEBAQEAAQEBAwAAAAEBAAABAQABAQIBAAEBAQAAAQEAAQEBAQEBAAECAQABAQAAAQAAAQMCAQEDAwEBAwAAAQEBAgABAAADAAABAQEBAgIBAQABAQEBAQEBAAIAAQEBAQABAgEBAwEDAgIAAQAAAQABAQECAAEBAgIBAQABAQIAAAMAAAEBAQEAAwEDAQEBAgEAAQEBAQEBAQEBAQEAAAMBAQEBAgABAAEBAgMBAQADAgEAAAEBAQEBAgABAwEBAgAAAgAAAAMAAQEBAQEAAAIBAQEBAQEAAQAAAQMBAAEBAQEAAAEBAQEBAAEBAAEDAQEBAAICAQEBAQEBAQECAQAAAAABAwMAAAEDAQEBAQIBAQEBAQEBAQABAgEBAQEBAQEBAAABAQAAAgEBAAMAAQEBAQEBAQABAgIAAQEBAwEBAAEBAgEAAwMCAQEBAQABAQECAAEBAQEBAAEBAQEBAQEBAwAAAQEAAQIBAAADAAEAAwEAAwEBAgECAAEDAQIBAQEBAQEBAQEBAgIBAgADAQECAQEBAQIBAQABAQEBAQECAwEDAQEBAQADAQEAAQEBAgECAAAAAgEAAAEDAQIBAQABAQMBAQABAQEDAQEBAAEBAQAAAQADAQABAAEBAQEBAQEBAQECAwABAwEBAAABAAMAAgEDAAABAwEBAQIAAQEBAwABAwIAAQEAAgEBAAIAAQEBAQIBAgIBAQEBAAEBAQEBAAAAAQEAAQEBAQABAQABAAABAQAAAQEAAQEBAQIBAAEAAAEBAAEAAQABAQEBAQEAAQABAQEDAgIBAQEBAQIBAQEAAQEAAAEBAQEDAAEBAQIAAQABAQEBAQMBAgABAAAAAgEAAQEBAQABAgEDAQIBAQEBAQIBAAABAAECAwECAAEBAAEAAgEAAQIBAAABAwEBAQMAAQIBAgIBAQEBAwEDAQEDAQIDAQEBAQIBAAABAAICAQIBAgABAQEBAQADAgAAAgAAAQEBAwABAQEBAQEAAAEBAQABAQEBAQEBAQIBAwMBAQEAAgABAQEAAQIBAQEBAAEBAAEBAQABAQIAAQECAQEAAQEBAQEBAQAAAQEBAQECAAIBAAEAAQEBAQADAAEBAAMAAQACAQEBAQIAAAABAQEDAQEBAAIAAQABAQEBAAEBAwEDAAEBAQABAQEBAQMCAQEBAAEBAQEAAQABAQEAAQIBAQABAAIBAQEBAQEAAQEBAQEAAgEAAQEBAAABAQECAAEDAAECAQEBAQMBAQIDAQEBAQEBAQEBAQEBAQABAAECAQEAAgEBAAABAQEDAQABAgECAQABAAIBAQIBAQAAAQEAAQIBAQABAAEAAgIBAAEBAgABAgIDAAIBAAABAQEAAAICAAMAAQEBAQEBAQECAQEBAQEBAgEBAAADAgEBAQEBAgEDAAEAAAEBAQEAAQEAAgEBAQE=",
          "dtype": "i1"
         }
        },
        {
         "hoverinfo": "name+x",
         "jitter": 0.2,
         "line": {
          "color": "#262445"
         },
         "marker": {
          "color": "rgba(38,36,69,1)",
          "opacity": 0.1
         },
         "name": "Male",
         "orientation": "h",
         "type": "box",
         "x": {
          "bdata": "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",
          "dtype": "f4"
         },
         "y": {
          "bdata": "AQIBAQABAAEBAgIAAgIBAwADAQMBAgEBAgEBAgIBAQEBAgABAwMBAgIBAQMAAQICAQEBAgABAgEBAgMBAAEBAQEBAQEBAAEBAQEBAAEDAgECAgMBAQEDAgECAAAAAQIBAAEAAQIBAgEAAgABAQEDAgIBAgEBAQICAQICAQECAgEDAQADAAEBAQEBAQEBAQEBAQECAQABAQMBAQMBAAIBAgEBAQABAQADAQEDAAIDAQEDAQEBAQMBAQEBAQEDAgEBAAEDAwIBAwIBAQEBAQEBAgADAAECAwEBAQIBAgEAAwICAwEBAwACAAMDAwEBAgIBAAEDAQMBAwICAQMDAQMBAQABAQEBAgECAAEDAwIBAQMDAgEBAQECAQICAQMBAQMBAQEBAQEBAgEBAQEBAAIBAQABAQEAAwEBAQEDAQEDAQMCAwEBAQMCAgMAAgEBAgIBAwIBAwACAgIDAQECAwABAgEBAQMBAgEDAQMDAQIBAwICAgECAQABAQEBAQIDAwEBAwECAQEDAgEBAQABAQMBAQEBAgIDAQEBAwEBAgEBAQEBAQIDAgEAAQEDAQICAAEBAwEDAwEBAwEAAwIBAgMBAQECAwEBAgEBAwIBAgMBAgIBAgIBAAIBAwABAQIBAwEBAgIBAgMBAQEBAQMCAwEBAQEBAAEBAQEBAAICAAIBAQIBAQEDAQEBAAEAAQEBAgMCAAEBAQEAAQABAAIAAQABAwECAQEAAQEAAgEBAQEBAwECAgEBAQEBAwIBAQEBAgMBAwECAgACAgMBAQMDAwMBAQEBAQEBAQEBAAIBAQMDAAIBAQECAQEDAQEBAQEDAgIBAwEBAwEBAQECAwEDAgEBAQMDAwABAQECAQABAQEBAgEAAQIBAQIBAQECAAICAQEBAwEAAQECAQMBAwMCAQEBAAICAAEBAgMDAQEBAgICAgEBAgMCAwIDAQEBAAEBAgMBAwECAQEDAQECAQEBAQMCAAIBAQMBAQEBAgECAQECAQMCAQIDAQMBAQICAgEBAQEBAAMBAQABAQIBAgEDAgABAQACAQEDAQECAgABAgMCAQADAgEBAgECAAAAAQEBAQEBAQMBAQECAQECAQEDAQEBAQACAQMBAwEBAQECAgACAgEBAQIBAgIBAQECAQEAAgEBAQEDAwEBAgIAAwIBAQIAAQIBAQABAgIDAQECAQIDAAIBAQEBAQEBAQABAQEDAAEBAgEBAgMBAQECAQEBAQECAQECAQIBAQAAAQMCAwICAQEAAQEBAwEBAgAAAwIDAgIBAgECAQEDAAIBAQECAQEBAwMDAQADAQADAQEBAQEDAQECAQEBAQECAQMBAQEDAQECAQEBAgEBAQIBAgACAwMDAQIAAQICAQEBAAACAQIBAQEDAQEBAQEBAQMBAAMBAQECAgICAQECAwIBAwMBAQADAgEBAgMBAgEBAwMBAgEBAQEDAQICAwEDAQMBAQACAQEDAgEBAQEBAQEBAAEDAgEBAQEBAwIDAQEBAQMBAwMBAgEBAwEBAQMBAQECAQIBAQICAQEDAQEBAQEBAQIBAwMBAQABAwEBAQIBAwMCAAEBAQICAQICAQECAgACAQEBAAIBAQECAQEBAgEBAAIBAgEBAQIBAQMCAwMBAQEAAQIBAwIDAQEDAQMDAQEBAQEBAQICAQACAAEBAQECAQIBAwIBAwEDAQEAAQMBAwEBAwEBAgECAwACAwICAAECAgIDAQEAAQMBAgICAQEAAAMDAQEBAAICAgEBAgEAAgECAgABAQECAgABAQEBAwEBAQEBAgECAQEBAQIBAQIBAgEAAQIBAQEBAQECAQIAAgMBAwEBAgEBAQIBAQMBAgEBAwECAgECAQEBAQEBAgICAgEBAgIBAgECAwECAgICAQEBAQIAAQEBAwIAAwEBAwMCAgMAAQEDAQACAQMDAwEDAgICAQECAQICAQMBAQABAwMBAgACAgEBAQICAgEAAwMBAQEBAQEBAgEBAQEBAgEBAQEAAQEAAAEBAQMDAAEBAQEAAQABAQIAAwEDAQEBAgEDAwEAAQMDAgEBAgEBAAECAgIBAQIBAQECAgMBAgMDAwEBAQEAAQEDAQECAQEBAQMAAgEBAQMBAQECAAEDAwECAQMBAQEBAgECAQEBAgABAAECAQECAgEBAQEDAgECAwMDAwICAQEBAQMDAQIAAQEAAAIBAAICAwEBAQMCAQEBAgIDAQADAgIBAAMCAAECAQEBAQACAgEBAAIBAQMCAQECAQMDAwECAgEBAwEBAQIBAQEBAAMDAAEBAQABAQEBAAEBAwEBAQACAQECAQIBAAMBAgMCAwECAQEBAgMCAQABAQECAQEBAQEDAgEAAQEBAQMBAwIBAgABAQIBAQAAAgECAQIDAQEDAQEAAgIBAAACAgIBAgECAgABAQEBAQAAAgEBAQEDAwEBAwIBAQIBAQICAAIBAQMCAAABAQMBAwEBAQIDAQABAAMCAgEBAQIAAAIAAQEBAwEBAgABAgEBAwIAAQMBAQIAAQEAAQMAAQIBAgMBAQEBAQECAAMBAQMBAAEAAgIAAAEBAgADAwIBAQICAgEDAQMBAwICAgIBAQEAAQEDAQIDAgAAAwIBAQIBAwACAwEBAgEDAQMCAQMAAQMDAwEBAAEDAQEDAQAAAQIBAQACAwEDAgEBAAMAAgABAAMBAQIBAwEBAQEBAQIAAQEBAQICAgEAAgEAAAMCAAABAAIBAgIBAAICAQEDAgEDAAABAwMCAgEDAwEBAwEBAgEBAQEBAwIBAwMBAQIBAQMBAQECAQEDAgABAwEAAQMBAgECAgMBAAEDAQICAQECAQIAAwEBAgEDAQECAgEBAgEBAQEBAwEBAQABAQEDAQEDAQICAgECAgADAQEBAAICAQIAAQEBAgMBAgIBAwEBAgEBAQABAAEBAwIAAwEDAAEDAgEBAQABAgIBAAMCAQMBAQEAAwEBAQMBAQMBAQICAAAAAAEBAgEBAQEBAQIBAQECAQICAwEAAgIBAQEAAQIBAQEDAQEBAAMAAwECAQEBAQMBAgMCAQMAAQECAgABAQIBAAEBAAEBAwEBAQEBAQABAgEBAQEAAQMBAQMBAQEBAQEAAQMDAQEBAgMBAQIBAQEBAAMBAgEBAQEBAQEDAQECAQECAQIBAgEDAQECAQIDAgEBAgEBAgIDAQEBAQIDAQIBAAIBAgMBAgMBAwICAQEDAgABAQEBAAICAQEBAgEBAQEBAwEBAQEBAwEDAQEBAwABAQEBAwADAQABAgIBAQMBAQEBAQIBAgEBAQABAgEBAgECAQEBAQMAAwMCAQEBAQEBAQEBAgIBAQICAgEBAQEBAwIBAAABAQMDAgIBAgMBAQEDAQEAAgMAAgMDAQIBAQEDAQEBAQEBAAIBAgIBAQEBAwEBAQEBAwEBAQIDAQIBAQMBAQABAQIBAAIBAQECAwEAAwABAQICAwEAAgECAQEBAQEBAgAAAQIBAQICAQIBAQIBAQECAgECAgIDAwMBAgIAAgMCAgEDAQEBAQIBAgIBAQIDAQIAAQECAgEDAQECAgEBAQEBAgEAAQEDAAIBAQEBAgEBAQMBAgICAQEBAgICAAMAAQABAgECAwEBAQIBAQECAwEBAgEBAQMAAAEBAwEBAQECAQMAAQABAwIDAQIBAQECAAABAQEBAQECAgEBAQEBAQEBAgECAQIBAQMAAwEBAQIAAQEAAQIBAgMBAgEBAAMDAQEBAQECAQEBAwIAAgACAgABAgEAAgADAQEBAgECAwEBAQICAgEAAQEBAQEDAQEAAQMBAQEDAgEBAQEBAwECAQEBAgMBAQEDAQIAAAEBAQIDAQEBAQICAgMBAQADAQEBAQEBAgIDAQIBAQIBAQABAgEBAQMBAgEBAgABAwEBAQEBAwIBAQECAQIAAgABAQECAAMBAgEBAQEBAAECAQEBAgEBAQEDAwABAgEBAQEBAQIBAgMAAwEBAgIDAQEBAQECAQMCAgECAQEDAQMCAQICAQMCAQMCAQECAQICAQMBAQEBAgECAQEBAQMBAwEBAQIAAwEDAQABAQEDAAMBAQICAQECAQACAgABAQECAwEBAQMBAQECAQECAQEBAQEBAgMCAQEBAQEBAQMBAgEBAgIDAQMDAgECAwECAwICAgMCAwEBAQICAwEBAgEBAQMBAgICAAEBAwADAQMBAwECAQICAwMDAQEBAwEDAgIBAwECAwEDAQIBAAACAAEBAwEBAgEDAQMBAgMBAQMBAgABAQABAQMAAgECAgMBAgIBAQEBAgAAAgEAAQECAgAAAQMCAAIBAgECAQMBAgEBAwEDAwICAwEDAQEDAQMBAQEAAwEBAQICAgEBAQEBAgICAgEBAAEBAQICAwEAAQEAAQMCAgEBAQEBAwEDAQICAwEBAQECAgMCAAABAQMBAQEBAQMAAQIBAQEBAQIBAgEBAQEAAQIBAQEDAgABAQEBAQEBAgECAgECAQABAQMBAgEBAQEBAQEDAQEBAgEBAgIBAQIBAgECAQEBAQEDAgIBAgMBAgEBAQEBAgICAAEBAQECAwIBAwEBAwEBAQEBAAICAQECAQIBAQECAwECAQMCAQEBAgEBAQEBAQMCAQEBAQEDAQIBAgMCAQEBAQEDAwAAAQMDAQEBAgEBAQMBAgEBAQIDAQEAAQEBAQEBAgIDAgEBAgECAQEBAQABAQICAgEBAAICAgECAQICAwECAQEDAQEBAQMDAQIBAwMBAAEBAAEBAwADAwMCAQIBAQMBAgEBAAIBAQEBAgEAAQIDAwEBAwIDAwIBAgEBAQIBAgECAgEAAgMBAgEDAQIBAgMBAwICAQMBAgEBAQMBAAABAgEDAwADAQIBAQEBAQEBAwICAwEBAAIDAQICAQMBAQACAgIBAQMBAQECAQIBAQEBAQEAAgEBAgEBAQEBAQABAwEBAQABAQABAQICAQECAQIBAQEDAgEAAgIBAwEBAAEBAwMBAQIBAQECAQEBAQMBAgEBAQEBAQMBAQEBAQEBAgMCAQICAAECAQEBAwMBAAEBAwMBAgECAQIDAQEBAQMBAAMBAQECAQECAgEBAAICAQABAAEBAAACAQEAAQIBAQEBAAIBAQIBAQMDAQICAQEAAwEBAQIBAwEBAwEBAwICAwABAQEDAgIDAQEDAQEBAQIBAQMBAgEBAQECAQMDAQMDAQMBAgICAQMBAgIDAwEDAQICAQABAgABAgMDAQABAQMBAQEBAQABAQECAQEBAgICAAABAQEBAAEBAQECAQEAAgEDAwEBAgEDAQABAQMBAgECAgEDAAICAgICAQECAQACAgACAQICAQIBAgEBAgECAgECAQIBAwICAgADAAABAAEAAQIBAQIBAQIDAgMBAgEBAQMDAwMBAQEDAQIBAQEAAQEBAwIAAwEBAQEBAQEBAAEBAQABAQMBAQEBAgMCAgEAAgEBAAEBAgIBAgMCAwIBAQIBAQECAQEBAQECAAEBAwMBAAEBAwECAQABAwIBAQMBAQEDAwEBAwECAQECAQEBAgECAQMBAgECAwEBAAEAAgABAgMDAQEAAgEBAQEBAQECAQABAAEDAwMAAQECAQMBAQEBAwEBAgMCAQICAgEDAQABAQEBAQEBAQMAAwEBAQECAQEBAgICAwICAgECAAACAwECAwICAwEAAQIAAwICAwEDAgIBAwABAQMBAgIBAgICAQEAAQMBAQIBAQMBAQMAAQICAQEBAQEBAQEBAQABAAEBAAEBAQEBAQIDAQECAQIDAQEBAQABAQEBAgEDAQMBAgMBAQEBAAEAAAIBAQABAQEBAgEDAQEDAgECAgMDAgEBAwIAAQABAgEBAAEBAQIBAQEDAQEBAgEDAQEBAQEBAQACAQECAgADAgEDAQEBAwEBAQACAQIBAQIBAQEAAwEBAQEBAgMCAwMAAQEBAwECAgMCAwEBAQEDAQABAQEBAwEDAgIBAgICAQICAgEDAwEBAgECAQEBAQIBAQEBAAMAAQEBAwMCAQEBAwIBAQIBAAEBAgEAAgEDAQADAgIDAQEBAQEBAQEBAwMBAQEBAQEBAwECAAIDAgIDAQMBAQIBAwEDAQECAQADAgMBAQICAwEAAQEDAQIDAAICAQACAQEDAQECAQMDAAECAQECAQIBAgEBAAEBAwIBAwABAgABAQEBAQEBAAMBAQEBAgECAAEBAQEBAQECAwEBAwMCAQIBAQEBAwECAQEBAgICAQECAQEBAgMDAgEBAwIDAQEBAQABAQMBAAEBAQABAQIBAQIBAQEBAgMCAQEBAQIBAQEBAQECAwMBAgEBAQEBAQEAAgIDAgEBAgEBAQEBAQEBAAIBAQMBAgEBAgECAAIBAQADAgAAAwABAQEBAwEBAQMBAQEBAwIBAQEBAAABAAMCAQABAQMBAQECAQEDAQICAwECAgEAAwIBAAEBAQEAAQIBAAEAAQEBAQEBAQECAwEDAgECAwMCAgABAQACAgMCAwIBAQEBAQEBAQIBAQMDAQMBAQMBAwABAQMBAgMAAgEBAQEBAwEAAQIBAAACAQIBAQEBAgECAgIBAQIBAQAAAgICAAEBAgMAAAECAQECAQEBAQEDAwEAAQIBAQMCAgEBAgEDAQICAQEBAQEBAQECAQEBAQIAAQECAwECAQEBAgECAQEDAgICAgEDAwMBAwIBAwIBAgMBAQECAgIBAQECAQIBAQEBAwIBAgEBAQEDAQMBAAECAQMBAQMDAQIBAQIBAAMAAQEBAQECAQEDAAECAQEBAQEBAQAAAAIBAQIAAgMDAQIAAgEBAQABAQICAQMAAQEBAAEBAQECAQEBAQIBAQEAAQICAQICAQEBAQIAAgECAQIBAQEBAQEAAQMCAAEBAgIBAQEBAgICAQMDAgMBAQMBAQECAgABAgEDAQEBAwEBAQMCAQEBAQMDAQEBAgICAQEBAQIAAQMBAgABAQEBAAECAwEBAAEBAQECAgEBAgIBAAABAQMAAQMBAQEBAAMBAQEBAwEDAQEDAAIBAgIDAQEBAQMBAQEBAQEBAwIBAQEBAQEBAQEBAQACAgEBAQEBAgEBAgICAwADAgIDAAEDAgECAQAAAAMBAgEBAQIBAQEBAAEBAAACAgEBAQIBAQIDAAEBAwMBAAMBAQEAAgIBAgMBAwICAQEBAQEBAQEBAgEBAQIBAQMBAQEBAwEBAQEBAQMBAQEDAQEBAQMCAwABAQMCAQICAQEBAgEAAQMBAQEBAQEBAgEDAwICAQIDAwEBAQEBAwEDAAIBAgMCAQMBAQIBAQACAQMAAwMCAQEBAgEBAQICAwABAgMCAQECAwEAAQADAAICAQACAgECAQEAAQEAAQEBAQEAAwEAAQIDAgEBAwICAQEBAAMBAQMBAQACAQECAgEBAAIBAQMAAQEBAwMBAQEBAwEBAQECAgEBAQEBAwICAQIBAQECAwEDAAEBAgEBAQEBAwECAQEBAQECAgIBAQEDAQEBAQMBAQEDAgEAAwMBAQECAgIBAAACAAECAgEBAAMBAgABAQABAwMBAgABAgEBAgEBAQACAAIDAQIBAAIAAQICAgICAQECAQEDAgEDAQMBAQECAQEBAwEBAAMCAAECAgECAgECAAIBAQEAAQADAwECAQECAQEDAQIDAgEBAwECAQIBAQIBAwECAQECAQECAQACAgEBAQACAQECAAEBAQIBAQMCAQIBAwABAQEBAQEBAwIBAQECAQEBAwMCAQEAAQMBAAEBAQABAgIBAwEDAgEDAQEDAQEDAQEBAAIBAQECAQEBAQEBAgEBAQECAgECAgICAwECAQEBAgIBAQEDAQEBAwAAAgIDAQEBAQICAwADAAABAQABAQMAAQEBAQEDAgEDAgEBAgMCAgMBAQEDAAIBAgABAQEBAQIBAAICAwEDAgEAAQIBAwEBAwEBAwEDAgEBAgMBAQEBAQECAwEBAwEBAAIBAgEBAgIBAwEBAQEBAQIDAQEBAQIBAgIBAwEBAQABAQEAAQMCAgEBAQEBAQMAAwEBAQIBAQIBAQIDAQIBAQIAAgIBAQEDAAEBAgICAwICAQMAAQECAgEBAQEAAwMBAQEDAQABAQEBAQEBAQEAAgMCAQABAwEAAQEBAgIBAQIBAgEBAQEBAQEAAQEBAgABAwEBAgEBAQEBAQICAQICAQEBAQEBAgICAgEBAgMBAgMDAwEBAQIBAQEBAQEAAAADAQMCAwECAAIBAgMCAAECAQEDAgICAQEBAQECAwEBAQEBAQEAAgEBAQEAAgIBAQECAQIBAAEAAQEBAQIBAQABAQEBAQABAQABAQECAgABAQEDAgECAgABAwIBAQICAgICAgEBAQMCAQAAAQACAQMAAQMAAgIBAgEBAgEBAQEBAAECAwIBAgEDAwABAwEBAgEDAwEBAwEDAQEDAgIBAQIDAQEBAwMBAQEDAQEDAQIBAQIBAQEBAQEBAAIBAgEBAgECAQECAgEDAgEBAgEAAwEDAQICAAEBAQIBAQMBAQAAAQEBAQIDAQIBAQEBAQMBAwICAAABAQMCAgEBAgEAAQIBAwEDAgEBAQIBAgACAQEAAAEBAgEBAgMBAgMBAQIBAQICAgEBAQEBAgABAQECAQEBAQACAAABAgEBAQMBAgEBAwEBAQIBAgECAgABAgIDAQEBAgEBAQIBAgMBAQABAQEDAwABAAEBAQABAQEBAQIBAwEBAQICAgEAAQIBAAABAQECAQEBAQIAAQIBAQABAQEBAQMBAgEBAQEBAQICAwMBAQIBAQICAAMCAQECAQEAAQICAgMAAgIBAAECAgABAQICAQEBAgEDAAEBAwIBAQMCAQICAQICAgECAQADAQEDAQEBAAIBAwEBAgICAgIBAQEBAwECAAEBAQECAwMBAQECAAEBAgIAAgEBAgEBAgMDAQIBAQADAgECAwABAQEDAQEBAQMCAgEBAQEBAwIBAQEBAwECAAMDAQMCAQIDAQMBAwECAQEDAwACAgECAAEDAQICAQEAAQEDAgEBAQICAwEBAQMCAQIBAgMDAQMCAAMDAwABAQICAQACAQIBAQEBAQEDAQEBAAABAgIBAgMCAgEBAwEBAwEBAQICAAMAAQMCAQEAAwEAAQEDAAEBAQEBAwEAAQIDAgABAgEDAwECAQABAQABAQEDAwEAAQABAQEBAQMBAwEDAgEBAgICAwEDAQABAAIAAAIBAQICAQMCAQECAQEDAQEBAgEBAwICAQIBAQEDAQABAgECAQEBAAEBAwADAQMBAgEBAQICAAMCAQIBAwEDAwECAgMCAgMAAQEDAwIBAQIBAQACAAMDAQMAAQEDAAMDAQEBAgEBAQEBAQEDAQEBAQECAgEBAQEBAQEBAQEBAwICAgIDAQIDAgEBAgEBAgEDAQEBAQIDAQEBAgECAgEBAQIBAQACAQEBAgABAgEBAQEBAQICAgEBAgIAAQECAQEBAQEAAQEAAgEDAgEBAAICAwEDAQIBAQMBAQEDAgEDAgADAwIBAQABAQEBAAEBAAMAAQEBAwEAAQEBAAACAQICAQECAgEAAQMAAQIBAwADAgEBAgEBAwEBAAABAQIAAQEBAQEBAQEBAQEBAQEBAQEBAAICAwECAQEBAgABAQMBAQMDAAACAQIBAQMBAgICAwEBAQEBAgIAAQEBAgMCAwEAAQMBAQICAQIAAgIBAQEAAQEAAwABAQIBAQEBAAIDAQEBAQMBAQECAAEAAQEDAQEAAAACAgEDAgIBAQECAwABAQEBAQIBAQABAgMCAQECAQEBAQAAAgIDAQEBAQEBAAIBAQEBAAMCAwEBAwEBAQIBAwEBAQECAQECAQECAgADAgIBAwABAAACAwMBAQMDAQEBAgEDAQICAQIDAwMBAQEBAQIBAAIAAQECAQEBAgEBAQEBAQMDAQMCAwEBAQIBAQEDAQADAQEAAQEBAgACAQEBAgEBAwEBAQEAAQIBAAEDAgADAgEDAgAAAgEBAgEBAQMCAwMAAQEBAQEBAwIBAQACAQIBAQIDAQEBAQEBAwEBAQABAgECAQIBAQECAgMCAgEBAgEBAgEBAwEAAQICAQIBAgECAgICAQECAQIBAAECAgEBAwICAwECAgECAQEBAQIDAQEBAQADAQICAQMDAQMDAAIDAQEBAwICAQMAAQABAQECAgECAQEBAQEBAwEBAQABAQEAAwEBAgEBAQECAQEAAAEBAQEBAgECAQEBAQEBAgICAQEAAAEAAgEBAgMCAAMBAQIAAgABAQEDAgEAAQEBAwEAAQMBAQEBAgEDAgEBAgEBAQIBAgIBAgMBAQABAAEAAwECAgMCAQMDAQICAwECAQEBAgEDAwMBAwIBAAEBAAABAQICAQEBAgEBAQEDAwMCAQEAAgMAAQMAAwABAgMCAQIBAgEBAQEBAgIDAwEBAQEBAQMCAwEBAQMCAAEBAQMBAQECAwIBAAIBAwIBAgEBAAEBAQEBAQICAQECAQEBAwEBAQMCAQMBAQECAwIBAQEDAgIDAQEAAQECAAECAwEBAQEBAQIBAQABAgEBAQMCAAEBAgEAAQEBAgECAQEBAgEBAQICAQEBAgIBAgIBAQECAAIAAgECAgEBAwECAwEBAAEBAAEDAQEBAQEBAgACAQEAAQABAQEDAAEDAQEBAwECAQEBAgICAgMBAQEDAQABAQICAAEBAAEAAQIBAQMAAwABAwMDAQIBAQIBAQEAAQACAQEAAAIDAgEBAAMBAAECAQECAQIBAgIAAgEDAgEBAQABAwEBAQACAgEBAgABAwEBAQEBAQIDAQICAQIDAwMBAgMBAQECAQEBAQEBAQEBAQEBAQECAAACAQEBAQABAQMBAAMCAQECAQEBAQEBAwABAQMBAAACAQEAAAEAAQIBAgECAQEBAgECAQMBAQABAgABAgEBAQEDAwADAgICAQIBAgEAAwIBAgMDAQMCAQIDAQEBAwABAgECAQMAAwEBAAECAwIBAQIBAgEBAgEBAQIBAQIDAwMBAQICAgEBAQEDAgEBAQMBAgMCAgEAAQADAgEBAQABAQICAwECAQEBAgIBAQEBAQABAgABAQEBAgMCAwEBAgMAAAIBAgEDAgIBAgABAQMBAwIBAQEBAQEBAQICAAIBAQEDAQIBAAECAQIBAgIBAAEBAQABAQIAAQEBAAIBAQMBAQIBAgMDAQEBAgABAgEBAQEBAQEBAQIBAQEDAwIDAQABAQEDAQIBAgEAAQEBAgECAgMDAQEAAQACAwEBAQECAwEBAgICAQIBAAEBAQEBAQEBAQIAAQABAQIBAQEBAQIAAQMBAwEBAQEDAQIBAQMCAQEBAgIBAQIBAAIBAwEBAQIBAQECAQEBAQEBAgEBAQECAQEBAQECAQECAQMBAgMBAQMBAQACAgEBAgABAwECAQEBAQEBAQEAAQEBAgABAQIBAwIBAgEBAwMBAQEBAgIAAQABAgECAgEBAQABAwEDAgADAQEDAwEBAgABAgMCAQECAgMBAQECAgECAAECAQECAwMDAQECAQEDAQECAgECAQEBAwEBAwEBAQEDAQEBAQECAQICAQECAQEBAQEDAAEBAwECAgIBAQEBAgABAQICAAICAQEDAQECAgMCAQMCAwECAQEBAwACAgEAAQEBAAECAgIBAgEBAgEDAgEBAAEBAQEBAgEBAQEDAQEDAAICAQICAQEBAQEBAQEAAwEBAQIBAQMBAwEBAQABAwECAQMCAAEBAQEAAgIBAgIBAgIBAgEBAQECAQMCAQACAQIDAQEBAQIDAgECAgECAwADAgEDAwABAQMCAwIAAQMBAQEAAwICAQICAQECAgICAgEBAwECAgEBAgEBAgEBAAEBAAIBAwEAAQECAgECAQMDAgICAwECAwIBAQABAQECAQIBAQEBAgIBAgICAQABAQEBAAMBAAEDAQMCAQEBAQMBAAECAgEBAQEDAAEAAQEBAQEDAwEDAQEDAwACAQMDAQMBAQEBAQEBAQEAAwEBAgICAAMBAQEDAQMBAgICAQICAQAAAQMCAQICAAEBAQIBAwECAAMBAwICAQEBAQECAgECAQACAwECAQMBAwIDAQMBAgEDAQECAQECAQECAQECAgIBAQEAAQABAAEAAwMBAQEDAgMBAwEDAwEBAQECAAECAQEBAQIDAgEBAQEBAQAAAAEBAQABAwEBAQECAQIBAQMBAgEBAQEBAgEBAQABAgEAAgEBAQABAwMBAAABAQIBAQICAgECAwEDAQECAAICAgECAQEBAgIBAQICAgEBAwEBAAEBAgIBAwICAQIBAQEBAQECAwEDAgEBAgEBAAEBAQEAAQIBAAECAgECAQACAAEBAQEBAQIBAQEBAQECAwEDAgEAAgICAwECAAEBAQEBAQIBAgIBAQEBAgECAQIAAgEBAQIBAQIBAQEBAAEBAQEBAQECAQEBAQMCAgIDAwIBAQIBAgEBAwAAAQAAAwEBAQEBAgAAAQEAAQECAQEAAgEDAQIAAQEAAAABAAEBAgMBAQMBAQICAgMBAQIDAwMBAgABAwEDAQEBAgEBAAMBAAEBAQABAQMAAQIBAAMCAgEBAQECAgEBAQEBAQEBAgIBAAEDAwECAQEDAQICAQIDAQEAAQECAQECAQMCAgEBAgADAQEBAQEBAQEBAgMBAQMDAwIBAgEBAAIDAwECAQMAAwEAAgEBAQEDAgIDAQECAQECAgEBAQICAQICAQEBAQEDAQEBAQIAAAEAAAMBAQIBAgEBAgABAgEBAQMCAgIBAgECAQMBAQIAAwEBAgIDAQIBAgICAgEAAwMBAwEBAQABAwEDAQAAAgEBAAECAAEBAQEBAgADAgEBAAICAQACAgEDAwECAQIBAQEAAQMDAQEAAQMCAgIAAgMBAgEBAQEBAQEBAwECAQMBAwEBAQEBAAEAAQEAAQEDAQICAQEBAQIBAQABAAICAQEBAQEBAQAAAQMBAQICAQABAgEDAwEDAgMBAQACAQEDAQEBAgMDAgIBAwEBAgMCAQIBAQEDAQABAgEBAQIAAgEBAQEBAQEBAQECAQICAQADAgEBAQEBAgIBAQACAQACAAECAgABAQABAQEDAQMBAwABAQECAwMDAQMBAgEDAQEDAQIBAAICAwEBAgMAAgMBAAEBAgIBAQEBAQMBAAIBAgEBAgMCAgIDAQIBAgABAQICAwABAQMBAQIBAwIAAQMBAQEBAQICAgECAQIBAwICAQECAwICAQIBAQEDAQIAAwIBAQEBAQECAQAAAQADAAABAQEBAQEBAgEBAQIDAQEBAQEBAQEBAgAAAQABAAEBAwEBAQABAQIBAQEDAQECAgIBAQIBAAACAgEBAQEDAQEBAAMBAQIBAgEBAwICAgIAAwEBAQIBAQIBAwEDAQMDAQEBAQIDAgEBAQMBAQEBAwMBAgEDAgMDAQEBAQEBAQMCAAEDAwECAAMBAQIDAQEBAQABAQECAQICAgMBAgMBAwIBAQIBAAIBAgIBAwEAAQEBAQEBAQEAAgMCAQEDAgIBAAMAAAEBAgECAQMBAwMBAgIDAQABAQEBAQICAQEDAQEBAQEBAgEBAQIBAw==",
          "dtype": "i1"
         }
        }
       ],
       "layout": {
        "autosize": true,
        "boxmode": "group",
        "height": 520,
        "hovermode": "closest",
        "paper_bgcolor": "rgba(0,0,0,0)",
        "plot_bgcolor": "rgba(0,0,0,0)",
        "template": {
         "data": {
          "bar": [
           {
            "error_x": {
             "color": "#2a3f5f"
            },
            "error_y": {
             "color": "#2a3f5f"
            },
            "marker": {
             "line": {
              "color": "#E5ECF6",
              "width": 0.5
             },
             "pattern": {
              "fillmode": "overlay",
              "size": 10,
              "solidity": 0.2
             }
            },
            "type": "bar"
           }
          ],
          "barpolar": [
           {
            "marker": {
             "line": {
              "color": "#E5ECF6",
              "width": 0.5
             },
             "pattern": {
              "fillmode": "overlay",
              "size": 10,
              "solidity": 0.2
             }
            },
            "type": "barpolar"
           }
          ],
          "carpet": [
           {
            "aaxis": {
             "endlinecolor": "#2a3f5f",
             "gridcolor": "white",
             "linecolor": "white",
             "minorgridcolor": "white",
             "startlinecolor": "#2a3f5f"
            },
            "baxis": {
             "endlinecolor": "#2a3f5f",
             "gridcolor": "white",
             "linecolor": "white",
             "minorgridcolor": "white",
             "startlinecolor": "#2a3f5f"
            },
            "type": "carpet"
           }
          ],
          "choropleth": [
           {
            "colorbar": {
             "outlinewidth": 0,
             "ticks": ""
            },
            "type": "choropleth"
           }
          ],
          "contour": [
           {
            "colorbar": {
             "outlinewidth": 0,
             "ticks": ""
            },
            "colorscale": [
             [
              0,
              "#0d0887"
             ],
             [
              0.1111111111111111,
              "#46039f"
             ],
             [
              0.2222222222222222,
              "#7201a8"
             ],
             [
              0.3333333333333333,
              "#9c179e"
             ],
             [
              0.4444444444444444,
              "#bd3786"
             ],
             [
              0.5555555555555556,
              "#d8576b"
             ],
             [
              0.6666666666666666,
              "#ed7953"
             ],
             [
              0.7777777777777778,
              "#fb9f3a"
             ],
             [
              0.8888888888888888,
              "#fdca26"
             ],
             [
              1,
              "#f0f921"
             ]
            ],
            "type": "contour"
           }
          ],
          "contourcarpet": [
           {
            "colorbar": {
             "outlinewidth": 0,
             "ticks": ""
            },
            "type": "contourcarpet"
           }
          ],
          "heatmap": [
           {
            "colorbar": {
             "outlinewidth": 0,
             "ticks": ""
            },
            "colorscale": [
             [
              0,
              "#0d0887"
             ],
             [
              0.1111111111111111,
              "#46039f"
             ],
             [
              0.2222222222222222,
              "#7201a8"
             ],
             [
              0.3333333333333333,
              "#9c179e"
             ],
             [
              0.4444444444444444,
              "#bd3786"
             ],
             [
              0.5555555555555556,
              "#d8576b"
             ],
             [
              0.6666666666666666,
              "#ed7953"
             ],
             [
              0.7777777777777778,
              "#fb9f3a"
             ],
             [
              0.8888888888888888,
              "#fdca26"
             ],
             [
              1,
              "#f0f921"
             ]
            ],
            "type": "heatmap"
           }
          ],
          "histogram": [
           {
            "marker": {
             "pattern": {
              "fillmode": "overlay",
              "size": 10,
              "solidity": 0.2
             }
            },
            "type": "histogram"
           }
          ],
          "histogram2d": [
           {
            "colorbar": {
             "outlinewidth": 0,
             "ticks": ""
            },
            "colorscale": [
             [
              0,
              "#0d0887"
             ],
             [
              0.1111111111111111,
              "#46039f"
             ],
             [
              0.2222222222222222,
              "#7201a8"
             ],
             [
              0.3333333333333333,
              "#9c179e"
             ],
             [
              0.4444444444444444,
              "#bd3786"
             ],
             [
              0.5555555555555556,
              "#d8576b"
             ],
             [
              0.6666666666666666,
              "#ed7953"
             ],
             [
              0.7777777777777778,
              "#fb9f3a"
             ],
             [
              0.8888888888888888,
              "#fdca26"
             ],
             [
              1,
              "#f0f921"
             ]
            ],
            "type": "histogram2d"
           }
          ],
          "histogram2dcontour": [
           {
            "colorbar": {
             "outlinewidth": 0,
             "ticks": ""
            },
            "colorscale": [
             [
              0,
              "#0d0887"
             ],
             [
              0.1111111111111111,
              "#46039f"
             ],
             [
              0.2222222222222222,
              "#7201a8"
             ],
             [
              0.3333333333333333,
              "#9c179e"
             ],
             [
              0.4444444444444444,
              "#bd3786"
             ],
             [
              0.5555555555555556,
              "#d8576b"
             ],
             [
              0.6666666666666666,
              "#ed7953"
             ],
             [
              0.7777777777777778,
              "#fb9f3a"
             ],
             [
              0.8888888888888888,
              "#fdca26"
             ],
             [
              1,
              "#f0f921"
             ]
            ],
            "type": "histogram2dcontour"
           }
          ],
          "mesh3d": [
           {
            "colorbar": {
             "outlinewidth": 0,
             "ticks": ""
            },
            "type": "mesh3d"
           }
          ],
          "parcoords": [
           {
            "line": {
             "colorbar": {
              "outlinewidth": 0,
              "ticks": ""
             }
            },
            "type": "parcoords"
           }
          ],
          "pie": [
           {
            "automargin": true,
            "type": "pie"
           }
          ],
          "scatter": [
           {
            "fillpattern": {
             "fillmode": "overlay",
             "size": 10,
             "solidity": 0.2
            },
            "type": "scatter"
           }
          ],
          "scatter3d": [
           {
            "line": {
             "colorbar": {
              "outlinewidth": 0,
              "ticks": ""
             }
            },
            "marker": {
             "colorbar": {
              "outlinewidth": 0,
              "ticks": ""
             }
            },
            "type": "scatter3d"
           }
          ],
          "scattercarpet": [
           {
            "marker": {
             "colorbar": {
              "outlinewidth": 0,
              "ticks": ""
             }
            },
            "type": "scattercarpet"
           }
          ],
          "scattergeo": [
           {
            "marker": {
             "colorbar": {
              "outlinewidth": 0,
              "ticks": ""
             }
            },
            "type": "scattergeo"
           }
          ],
          "scattergl": [
           {
            "marker": {
             "colorbar": {
              "outlinewidth": 0,
              "ticks": ""
             }
            },
            "type": "scattergl"
           }
          ],
          "scattermap": [
           {
            "marker": {
             "colorbar": {
              "outlinewidth": 0,
              "ticks": ""
             }
            },
            "type": "scattermap"
           }
          ],
          "scattermapbox": [
           {
            "marker": {
             "colorbar": {
              "outlinewidth": 0,
              "ticks": ""
             }
            },
            "type": "scattermapbox"
           }
          ],
          "scatterpolar": [
           {
            "marker": {
             "colorbar": {
              "outlinewidth": 0,
              "ticks": ""
             }
            },
            "type": "scatterpolar"
           }
          ],
          "scatterpolargl": [
           {
            "marker": {
             "colorbar": {
              "outlinewidth": 0,
              "ticks": ""
             }
            },
            "type": "scatterpolargl"
           }
          ],
          "scatterternary": [
           {
            "marker": {
             "colorbar": {
              "outlinewidth": 0,
              "ticks": ""
             }
            },
            "type": "scatterternary"
           }
          ],
          "surface": [
           {
            "colorbar": {
             "outlinewidth": 0,
             "ticks": ""
            },
            "colorscale": [
             [
              0,
              "#0d0887"
             ],
             [
              0.1111111111111111,
              "#46039f"
             ],
             [
              0.2222222222222222,
              "#7201a8"
             ],
             [
              0.3333333333333333,
              "#9c179e"
             ],
             [
              0.4444444444444444,
              "#bd3786"
             ],
             [
              0.5555555555555556,
              "#d8576b"
             ],
             [
              0.6666666666666666,
              "#ed7953"
             ],
             [
              0.7777777777777778,
              "#fb9f3a"
             ],
             [
              0.8888888888888888,
              "#fdca26"
             ],
             [
              1,
              "#f0f921"
             ]
            ],
            "type": "surface"
           }
          ],
          "table": [
           {
            "cells": {
             "fill": {
              "color": "#EBF0F8"
             },
             "line": {
              "color": "white"
             }
            },
            "header": {
             "fill": {
              "color": "#C8D4E3"
             },
             "line": {
              "color": "white"
             }
            },
            "type": "table"
           }
          ]
         },
         "layout": {
          "annotationdefaults": {
           "arrowcolor": "#2a3f5f",
           "arrowhead": 0,
           "arrowwidth": 1
          },
          "autotypenumbers": "strict",
          "coloraxis": {
           "colorbar": {
            "outlinewidth": 0,
            "ticks": ""
           }
          },
          "colorscale": {
           "diverging": [
            [
             0,
             "#8e0152"
            ],
            [
             0.1,
             "#c51b7d"
            ],
            [
             0.2,
             "#de77ae"
            ],
            [
             0.3,
             "#f1b6da"
            ],
            [
             0.4,
             "#fde0ef"
            ],
            [
             0.5,
             "#f7f7f7"
            ],
            [
             0.6,
             "#e6f5d0"
            ],
            [
             0.7,
             "#b8e186"
            ],
            [
             0.8,
             "#7fbc41"
            ],
            [
             0.9,
             "#4d9221"
            ],
            [
             1,
             "#276419"
            ]
           ],
           "sequential": [
            [
             0,
             "#0d0887"
            ],
            [
             0.1111111111111111,
             "#46039f"
            ],
            [
             0.2222222222222222,
             "#7201a8"
            ],
            [
             0.3333333333333333,
             "#9c179e"
            ],
            [
             0.4444444444444444,
             "#bd3786"
            ],
            [
             0.5555555555555556,
             "#d8576b"
            ],
            [
             0.6666666666666666,
             "#ed7953"
            ],
            [
             0.7777777777777778,
             "#fb9f3a"
            ],
            [
             0.8888888888888888,
             "#fdca26"
            ],
            [
             1,
             "#f0f921"
            ]
           ],
           "sequentialminus": [
            [
             0,
             "#0d0887"
            ],
            [
             0.1111111111111111,
             "#46039f"
            ],
            [
             0.2222222222222222,
             "#7201a8"
            ],
            [
             0.3333333333333333,
             "#9c179e"
            ],
            [
             0.4444444444444444,
             "#bd3786"
            ],
            [
             0.5555555555555556,
             "#d8576b"
            ],
            [
             0.6666666666666666,
             "#ed7953"
            ],
            [
             0.7777777777777778,
             "#fb9f3a"
            ],
            [
             0.8888888888888888,
             "#fdca26"
            ],
            [
             1,
             "#f0f921"
            ]
           ]
          },
          "colorway": [
           "#636efa",
           "#EF553B",
           "#00cc96",
           "#ab63fa",
           "#FFA15A",
           "#19d3f3",
           "#FF6692",
           "#B6E880",
           "#FF97FF",
           "#FECB52"
          ],
          "font": {
           "color": "#2a3f5f"
          },
          "geo": {
           "bgcolor": "white",
           "lakecolor": "white",
           "landcolor": "#E5ECF6",
           "showlakes": true,
           "showland": true,
           "subunitcolor": "white"
          },
          "hoverlabel": {
           "align": "left"
          },
          "hovermode": "closest",
          "mapbox": {
           "style": "light"
          },
          "paper_bgcolor": "white",
          "plot_bgcolor": "#E5ECF6",
          "polar": {
           "angularaxis": {
            "gridcolor": "white",
            "linecolor": "white",
            "ticks": ""
           },
           "bgcolor": "#E5ECF6",
           "radialaxis": {
            "gridcolor": "white",
            "linecolor": "white",
            "ticks": ""
           }
          },
          "scene": {
           "xaxis": {
            "backgroundcolor": "#E5ECF6",
            "gridcolor": "white",
            "gridwidth": 2,
            "linecolor": "white",
            "showbackground": true,
            "ticks": "",
            "zerolinecolor": "white"
           },
           "yaxis": {
            "backgroundcolor": "#E5ECF6",
            "gridcolor": "white",
            "gridwidth": 2,
            "linecolor": "white",
            "showbackground": true,
            "ticks": "",
            "zerolinecolor": "white"
           },
           "zaxis": {
            "backgroundcolor": "#E5ECF6",
            "gridcolor": "white",
            "gridwidth": 2,
            "linecolor": "white",
            "showbackground": true,
            "ticks": "",
            "zerolinecolor": "white"
           }
          },
          "shapedefaults": {
           "line": {
            "color": "#2a3f5f"
           }
          },
          "ternary": {
           "aaxis": {
            "gridcolor": "white",
            "linecolor": "white",
            "ticks": ""
           },
           "baxis": {
            "gridcolor": "white",
            "linecolor": "white",
            "ticks": ""
           },
           "bgcolor": "#E5ECF6",
           "caxis": {
            "gridcolor": "white",
            "linecolor": "white",
            "ticks": ""
           }
          },
          "title": {
           "x": 0.05
          },
          "xaxis": {
           "automargin": true,
           "gridcolor": "white",
           "linecolor": "white",
           "ticks": "",
           "title": {
            "standoff": 15
           },
           "zerolinecolor": "white",
           "zerolinewidth": 2
          },
          "yaxis": {
           "automargin": true,
           "gridcolor": "white",
           "linecolor": "white",
           "ticks": "",
           "title": {
            "standoff": 15
           },
           "zerolinecolor": "white",
           "zerolinewidth": 2
          }
         }
        },
        "title": {
         "text": "Distribution of scores by sex and hours worked per week"
        },
        "xaxis": {
         "fixedrange": true,
         "gridcolor": "rgb(159, 197, 232)",
         "hoverformat": ".3f",
         "title": {
          "text": "Score"
         },
         "zerolinecolor": "rgb(159, 197, 232)"
        },
        "yaxis": {
         "fixedrange": true,
         "gridcolor": "rgba(0,0,0,0)",
         "ticktext": [
          "0-30",
          "30-40",
          "40-50",
          "50+"
         ],
         "tickvals": [
          0,
          1,
          2,
          3
         ],
         "title": {
          "text": "Hours worked per week"
         },
         "zerolinecolor": "rgba(0,0,0,0)"
        }
       }
      }
     },
     "metadata": {},
     "output_type": "display_data"
    }
   ],
   "source": [
    "fig_cdp_by_sex = group_box_plots(\n",
    "    test_prob,\n",
    "    test.sex.map(lambda x: \"Male\" if x else \"Female\"),\n",
    "    groups=test_hpw_enum,\n",
    "    group_names=[\"0-30\", \"30-40\", \"40-50\", \"50+\"],\n",
    "    title=\"Distribution of scores by sex and hours worked per week\",\n",
    "    xlabel=\"Score\",\n",
    "    ylabel=\"Hours worked per week\",\n",
    ")\n",
    "fig_cdp_by_sex"
   ]
  },
  {
   "cell_type": "markdown",
   "metadata": {},
   "source": [
    "Distribution by race and hours worked per week."
   ]
  },
  {
   "cell_type": "code",
   "execution_count": 55,
   "metadata": {},
   "outputs": [
    {
     "name": "stdout",
     "output_type": "stream",
     "text": [
      "Conditional demographic parity difference: 0.218\n",
      "Conditional demographic parity ratio: 0.077\n"
     ]
    }
   ],
   "source": [
    "cdpd = conditional_demographic_parity_difference(\n",
    "    test_oh.salary, test_pred, test.race, test_hpw_enum,\n",
    ")\n",
    "cdpr = conditional_demographic_parity_ratio(\n",
    "    test_oh.salary, test_pred, test.race, test_hpw_enum,\n",
    ")\n",
    "\n",
    "print(f\"Conditional demographic parity difference: {cdpd:.3f}\")\n",
    "print(f\"Conditional demographic parity ratio: {cdpr:.3f}\")"
   ]
  },
  {
   "cell_type": "code",
   "execution_count": 56,
   "metadata": {},
   "outputs": [
    {
     "data": {
      "application/vnd.plotly.v1+json": {
       "config": {
        "plotlyServerURL": "https://plot.ly"
       },
       "data": [
        {
         "hoverinfo": "name+x",
         "jitter": 0.2,
         "line": {
          "color": "#f2603b"
         },
         "marker": {
          "color": "rgba(242,96,59,1)",
          "opacity": 0.1
         },
         "name": "American Indian / Eskimo",
         "orientation": "h",
         "type": "box",
         "x": {
          "bdata": "i/DoPF+OqzuZ5Y48hm8iPqymaj3ZMhI9RixiPGDATjgj/wk+DuZ+P1q85zvn4cQ+D6fkO6bLeDsBzgA+zt4aPbRPgDmsly8/5MRYPWNFHz7zaDw8CH17PVSiRz4TyLQ+GiROPHXizT3RMBw+dQ6OO826Hz5p9+Q8UNowOmwhdD4sgqA6F1yPPWVxvjyB9TI8F7edPHTnfD16gLY5WZEAO6vmQT0Q4z0+R/39PSKMDz8yt5Y866wiO2ALmTrHVYo9y0LiPf43uz0XTVk+Q1gCPhZXbTzZ3O86yY1IPaIfWj4wUQ4/Ho1BPjYkij17tTM/toOcPQIGWD9dCrg9DXx+PTtiATyctAE+aCWqOjD4PD6sP4E+xauFPljNHzzJai87AZtXPcloQT4QmRA+CZs5OhVSrz1n3Y09fc9cPiEhrzuawlA7E+UbPZED0z2RLvE8YlcCPstVoz1n39o+ioOYPbz7oDy4z9E8O9ECPSmCHTvX650+4JR3PGFfkj627o093NZvPZoblz1b9rM+7OFpPPdKXT7imrI99sN1PBu++DrzpII4RwmBOk3p1jtV/w0+n5XcPJ+Yfjq+fQs9lVJsPJJrWD3ZrNc9P5sgPcxccT5p8DE8aQRMPS+agj3pUMw5uP8GPWfotT6Scaw95S3MPl/8kTvXdk47hUtlPC5QGz+jbck83wiROnQrrT2gGbo+u/SGO6pdpDwOyw0+Z2udPUJR+zx/OAM/7bhfP/WNQTsGkRI8p2utPa8DOz6TzQA9XMz2PRrmTD4eKJg8mm+WO8afvD0=",
          "dtype": "f4"
         },
         "y": {
          "bdata": "AQEBAQMAAQABAQEBAAEBAwABAgEBAwEAAQEDAQEBAAAAAgEBAgEBAQEBAQIDAQEBAQIBAgECAQEBAgEBAQEBAQEBAgECAQABAQEBAwEBAQMAAQEBAQIBAQMBAQACAAIDAAIBAQEBAQEAAQEBAwEBAQADAQIBAQEBAQEBAQECAQABAQMDAQEBAgIBAQACAQEBAQMBAAE=",
          "dtype": "i1"
         }
        },
        {
         "hoverinfo": "name+x",
         "jitter": 0.2,
         "line": {
          "color": "#262445"
         },
         "marker": {
          "color": "rgba(38,36,69,1)",
          "opacity": 0.1
         },
         "name": "Asian / Pacific Islander",
         "orientation": "h",
         "type": "box",
         "x": {
          "bdata": "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",
          "dtype": "f4"
         },
         "y": {
          "bdata": "AAEBAgMBAQMCAgEBAwMBAQAAAgIDAQEBAQEAAQEBAQABAQEBAAEAAQICAQABAQABAgIBAgMCAQIAAQEDAQEAAQEAAgABAQIBAQEAAgEDAQEBAwIBAQEAAQEBAQMDAQEBAQMBAQEBAQEBAQEAAQICAQEBAgMBAQEAAQABAgEBAQEBAwIBAgIBAQIAAgEBAQEBAQEBAAABAQEBAQIAAQEAAQECAQECAAEBAQECAQABAQEBAQEBAQIBAgEDAQAAAQEAAQEBAQMBAgEBAwEAAQEBAQMBAAACAQEBAQADAgIBAAACAgEBAQEBAwEBAgEDAQABAAECAQEBAQEBAQEBAQABAQEBAgEBAgEAAQEAAQMBAQEBAQEAAQABAQABAQABAgECAgEDAQAAAQEAAQIBAQEAAwABAQEBAQEBAgEAAQIBAQABAQIBAQADAQIBAgIBAAMBAQMAAQIDAQMBAgEBAQIAAQAAAQMDAQIBAQEBAQECAQEBAgEBAQIBAQECAwEBAgMAAAMBAQEBAQECAQEAAwEDAgEBAQECAAMB",
          "dtype": "i1"
         }
        },
        {
         "hoverinfo": "name+x",
         "jitter": 0.2,
         "line": {
          "color": "#00a886"
         },
         "marker": {
          "color": "rgba(0,168,134,1)",
          "opacity": 0.1
         },
         "name": "Black",
         "orientation": "h",
         "type": "box",
         "x": {
          "bdata": "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",
          "dtype": "f4"
         },
         "y": {
          "bdata": "AQEBAwEAAQABAQABAgEAAQEBAQEDAQEAAQEDAwMBAQEBAQIBAQEBAQEBAQEBAAEBAgEBAQEBAQABAQEBAQABAQMBAwACAAICAQIBAQEBAQABAQECAgEBAQEDAQEBAQEBAQECAQEBAQIBAgEBAgEAAAEBAAIBAQAAAQABAQABAQMCAAECAgEAAQEDAQEBAQABAgEAAwEAAQEBAQEBAwEBAQEBAQEBAQEAAQECAQEBAQEBAQEBAQEBAQEAAwEBAQEBAQABAQEBAgEBAQEBAQECAQMBAwEBAQEBAQEBAQEBAQABAgEDAQIBAQEBAQIAAQEBAAEBAAEBAAIBAQEDAQIBAQEBAQABAQAAAQMBAQAAAgEBAQEAAQEBAQIBAAEDAQADAQEBAQABAAECAgABAAEBAwECAAEBAQEBAQEBAQEBAQEAAQEBAQEBAQEBAQEAAQEBAQABAQECAQEBAQEBAQEBAQABAQEBAQEAAwEBAQABAAECAQIAAQICAQEBAQEBAgEAAAEBAQIBAgMBAQEBAQECAQABAQEBAQMBAQEBAgIAAQEBAAEDAQEBAQEAAQEBAQEAAQECAgMBAQEBAAEBAQABAQEBAwECAQMBAQEBAwEBAQEBAQIBAwEBAQEBAQECAQEAAwECAQABAQEBAgEBAwEBAQEBAQECAQEBAQEBAwIBAQABAgEBAAECAQIBAQEAAwEBAgEBAgEBAQMBAQEBAQEBAQEBAgEBAQIBAQACAwEBAQECAQABAQEAAQEBAwEBAQEBAQEAAAIBAQEBAQEBAAMBAQEBAQEAAQEAAgEBAQEBAAAAAQEBAQEBAAEBAAEBAgEBAQEBAgEBAQEBAQEBAwEBAQABAQEDAAEBAQEBAAEBAQECAgEBAQMBAQEBAQEAAQACAQEBAQEDAQEAAwEBAQEDAAEBAQEBAQEBAQEBAgEBAQABAQEBAQABAAEAAQEBAQEBAQEBAAEBAQEBAQEBAQEBAQIAAAEBAQEBAgABAQICAQEDAQEDAQEBAQEBAQEBAAEBAQEAAQEBAAEBAwEBAQEBAAABAQEBAwEBAgEBAQEBAQIBAQEBAQEBAQEBAQEBAQEDAQEBAQAAAQEBAQEBAQMDAQABAQIBAQAAAQECAQEBAQEBAQABAAIBAQEDAQADAQEBAQEAAwEBAQEAAAEBAQEBAQEBAQEBAAEBAAEBAQEBAQEBAAEBAQADAAEBAQADAQEBAQIAAQEBAAEAAQEBAAEDAQMDAQIAAQEBAQEBAgEBAAEBAQEAAAEBAQACAQEBAQEBAQEBAQEBAQEBAgIBAQEAAQIBAQMBAAEAAQECAQECAQABAgEBAgAAAgEAAQEBAQACAQEDAQABAQEDAQEBAQEAAwAAAQEAAQEBAQIAAwEBAQEBAgEBAQEBAQEBAQEBAQMBAQEBAgICAwACAQEBAAEBAwEBAQIBAAABAQEBAQEAAQIBAQEBAQEBAQEBAQEBAQEBAQAAAAEBAgABAQEDAQIBAQEAAQEBAQECAQEBAAEBAAEDAwMBAwMBAQEBAgMBAQEBAAEBAAEBAgEBAwEBAgABAQEBAQMAAQEBAQEBAQECAQIBAQEBAQEBAgECAQEBAAEBAgIBAQEBAQICAQEBAQMBAQEBAQEBAQIDAgACAQEBAQEBAgEBAQIBAQEBAQMBAQMBAQECAQECAgEBAAEAAQEAAQEBAQABAQEAAwEBAQMCAAEBAgEBAQABAwEBAQEBAwEBAAICAQEBAQEDAAEBAQEDAQEAAAIBAAEBAgEBAQIBAQEBAAEBAQADAQIBAAMCAwEBAQEBAQEBAQIBAAECAAIBAQEAAQEBAgEBAgMDAQEBAQIBAQMBAQEBAQABAQEBAQECAAEAAAEBAgABAQEBAQEBAgEBAQ==",
          "dtype": "i1"
         }
        },
        {
         "hoverinfo": "name+x",
         "jitter": 0.2,
         "line": {
          "color": "#edc946"
         },
         "marker": {
          "color": "rgba(237,201,70,1)",
          "opacity": 0.1
         },
         "name": "Other",
         "orientation": "h",
         "type": "box",
         "x": {
          "bdata": "R6RPPmms2TmrM8s7tKxxPE9VLz07LxM/x9nDPjmusTyc64M7cWkmPBX/ej2j3RI6ZNoqPYoXOjpZAeI9tEbgOsdThTwE/hA+1j2GPZexNz1I2do9H7S3Ox3Qwztna+8+h9ehPnFRUDoh+pc9v3LaPIlqoz3cUY49JxfsO38bOD2z2Nw6bpiPOyQ17zpD5SA8k7DpPNJ86jyEkqE8PJacPMZPoTs7rwQ7AACAP5MJDj5bDWM7It5dPtiRRj8UNfA+OYdGPKJxlT1oDt89aeYIPfR4AjwqEmI7DwI5PssuQTwZM2c+kiGRPh9rkz06I745ch2hO+ZSFDuSlwQ/ghIFPLNanj2psTw/6ButPPT8MTsoeIA5/kYkPURJiT5eBAA+9YFXOjnr+Tu7w1U8IhIuPMGqfD04u/k7boijOoYTJzx1b0U9nBeePnjg/T1f1907AHgFO1JRLj7TDDw9i9d5O9p7Izq9cc86FQe8PQ95LD53kL09OXtwP7G9HDsds408ayiKPLs6nT4zhiQ+5zgtPJaccz4bXAw+Zm+WOz+IoD7fuIk9p7SePjRTzz3uRUA91UlIP4ydgzwGqLE7axG/PNz5TTwrSjU8wZCpPrDJzzx5ijI/zmIJPTiOYT2K4/08locIPebOVzo=",
          "dtype": "f4"
         },
         "y": {
          "bdata": "AQABAgEDAgEBAQEBAQEBAAMBAQECAQEBAQEBAQMBAAEBAQMBAQEBAQABAQMBAAEBAgEBAQEBAQIBAQABAQEBAQEBAQEAAQABAQABAAABAQEBAQMBAQEBAQEBAQEBAwEBAwEBAQMDAAIAAQIBAQACAQEBAgEBAQEBAQA=",
          "dtype": "i1"
         }
        },
        {
         "hoverinfo": "name+x",
         "jitter": 0.2,
         "line": {
          "color": "#70cfcf"
         },
         "marker": {
          "color": "rgba(112,207,207,1)",
          "opacity": 0.1
         },
         "name": "White",
         "orientation": "h",
         "type": "box",
         "x": {
          "bdata": "VtaUPcw/YT7mMZI74CsfP95xbj2SNhA8nLW0PpzuAD/Ogjg9cLnBPj/hNT81ZsA6nSgdP6Akhj1j0gs/eqUUPYCrej4AUsg+9zmWOrFUSz6T+Lk9vUAnPnrWmD01Y/A9cCOVPTLh2z55NYY791xeOlQF6DrSbg8/85b0PiUhCz2zTAw9HhsHOkRUMD8bBYg8sGEGP8m80z7Dgoc6RNHBPCr2Hz/gflw86Tr6PBaHRT4ybBc/UNsvP3yZgz1q8KM+mfbDPYLGYT5SJ/Y8mwkePrTQdD9OSpY6E2MBPbPooj7uBHc/UxbqPlNbtjz9mPo826RnPtI4Nj45YW0+eFoqPd1ymj6vebg8wqQJPfIqCj5mT/A9C9PZO50zoT51Zyg77lyuPh6BZT/K1jg+Xg46OvqHtj1YqRw9f2A9Pgg1ujz+3SA+XJpXPlyOIT2MGak+ZpS/O8zoNTwNtvM76sPdPdu8DT6IvCw+/FhFO6VPez7w8FM8ShxJPveCxD6xwG0+IbxzPF9dZTuOvpU+TwvZPZ9swD0OQ14/9PMpPGe6hT0g70s/2QeUPuEPOD84UFc+bc10PsgR2j5SLqc7mkkbP94GUz9YRCY/NeSDPjTgfz4xG7U+KrwMPiUqeD9dm6k75M9CPK30hzta1BY/9F1BPZ0yjjtgOR48iUyyPTzmEz2+Vv89+aEjPdcX6TxRhyU/KUpEPre98j5FIoQ+aFYNOrqFPz2hDs8+QX4TPvcr+z2YWa8+9zasPvM7ST3usB0+L9hUPtPIeD4Oi2Q+Aoh2P7y4/z6dRjc9tW2LOxZDJD3WqCw/KeJKPtzCJT5iMkY9AM5cP66gPDx3owY9x+PtPhLprT7STRs+UgKHPtOI5j5zVvA+fWSRPe5ZQD8FlFM+v9CBOgwxWD0Ajyc/56OtPkX3Sj6Au3089j6aOVmt3Dwsvx4+r9zoPNfDqT66AoE+aqqOPg49dj+rZY4+lQ8IOx6IKz8cwls+NJIWPTe6nz5SVDc/jZjAPWpTrD3eLHs863a6PuyN2DshfiM+6LzgPEPloD0ewDU+O2+SPljDND7dVhM7lns7PeyMZD5D0/08ucsCO63sKDwPjok+C8wzP8HmWj3aljk+yeLDPT4AeD5sdw0+llaXPA90oj7k3DA+pDzaPU/dGz8PbRQ+sHFbOd0dcz+QjT4+KNFNPVlIuDtybiA+xCUoPo7Drz4lguM+tr6VPZnRyD2duQI+SPVNPfgv+Tt/9008+tN8O54efj+DeJg9d6mDPl1NMDs/LxY+I2xGPWXmATo+ObA+TYY6PNwNET9gRrA+BvfaOlBkzj0VbTU/0f48P9V6wj22Etk8tCAJP9JQ2Twvkw4/GFcnPpWDojztxRQ7iM/jPmfWoj4qAK45KT7EPRj8WTlqIXM+KvyfPrZDST8xmr88X0YBPonDFj4H/ro9FtDyPrWFjT3RTnw91NRkPPyLDz+MuFM/wCWCPplnhT75b988ZK/7PKNnHzrQSPY90oTIPolWQT5zFc49AACAP2u+oj2c9PA9C5PiPPkQlj6giJk+RW9EPzxMhD4j6VM+npZRP+u1Gz1xWew9LauMO8tYLT1bEK0+8plXPKnqoT5awyM6+4ZgPs99Zz+10cg9nb0fPWGxRD5TGdM+vnggP1nPsj6Ints+3D8UPVrRJD+iRtQ+1Q3ePJ0h5DtdO4Q+dwVsPIFRjD4tUGM7qJOLPQRISz+3AfI9O0saP/q1KDvGZxk+luvqPRbkuDwAAIA/pgE6PnLM1D2rcRc8ycoUPX+gDT2uzDo+LZPLPZc+kD1tsXI+GkfzPkmarD4YvHA+JKorP22iSj6aqT0+pca0PWIwZz556FU8gf8pP4arJz+ulTg9i1MnPNrnBD5YJZI9GTExP4AGLD1Tm6s9tUDJO7MmjzzRjuU+u6SsPAPrCT6dkfk+wUXzPQ6w9j6Db2s9aFISPjd0+jshj00+3xe5PdOcJzobB4083B9aPrE7gzy6Ctg9UvwQPVFyyDtVxxM/U4GtPgMgPz95EGs8Dz1/P6CVMz6w7gc9lsrROiDN+DulvMw816wlPUW5MTwSxJY7F28iPmXo1z6oDNc6t7d2PYW05T5GdwE+7AwPPgeSkD4rL3Y+0CwOPmVWNTsJ/3U/w+kpPRWDGT472RA7VXUBPm5KIjxggdk8YjjPPVB/UT98/Yg+1dmUPXOTEz4xRI05yyCxPhsZAz9z+Yg+hb7iPudYdj9TYKk91/RHPige3z2Qk0Y/zZrnPfAnJT9c6po+FyfkOWPCoj1sBuw+R67VPqeaCz0UcxU/kTGLPkNIBj+q6+I9LnUTPRiYijqctbo6joDcPkKGuD56uZo9p8ZlPjjHAj/9SwE/Dx9yPVrMvT3E1bM+6ZOAPFsCAT5GMlY+YbzePgmfQT12RqE+cEDHPi70JT5fdCg+wWbzPlEGXT/I+Xo949mMPpYkMj/nwlY+2TwpPXbBOj92EyY/CXuzPEznFjx+1e497lYwP8lpATwlSRI77GybPSthRTwQTy0/rsw6Pjoj0T4Oyfo+LmUBP6cNSTy2exo+xU7aPovCAT1EyJg9qeWcPt5wbD4ATVw/S/UGPr9eZz28ZPY6HIIuPusQWDxmaGI/eVQTPv8NXj3LAwI8xXt0PY5vhz1qzVQ/6RVVP9azuT0wgx8+IchzPUjSBT0yhz89pLlcP1pGGz0/JsQ++w2xOdw0UT9+OHk/751YPNr9qDwXH4A9pbSBPMHecD++Vv89IOIyP1m4pz3KJHs9MgBJP05PGj2vmEA+nsx/PsQdaj096HA8gNhDPg4MFD/q3X48ye5xO4j6Bj7tqmM/OdpsPrk+vzwTZE4+FBm1PmC3oT7MtWg+QmV5PrGh1j2C4dM8lC2IPQAAgD/MJxI+E0PrPC3PVj2phmQ8jCZ6Pq9mHj8qOYQ8kAgjPwAAgD9GQUA+BYM5PpeeCD87E0c8ylHHPmhgID+V9qY9xwO+Ph2dqj6XyhM9C6KEPhThcDzjCes9X08AP2OgTD9EOJQ9CXYRP3uogD6IxZU+DRlpPV7D7DwyBqo9iHwcPgLPCT8gIHw7w2kYOtMICz5voU4+deKlPrdU1DtUY4o+E2ROPvRfsD2jimk+phDzPF9UuT6X0ZU86iqFPt87hD4A5oY8niOWPoeGwz4OU1A+yg+hPZCKHT9Fvqw+WgpQPDksojys6CQ9RJxBPa+Ptz5gtx89EIHaOw7RgDyt9J4+PPzkPtp5Gz/LLH88msa4Pi2/9D0NgW8+X17OPO+B1D6kbB8/rsk0P8gEQD7yWhg/IjeSPBol4T4YnrY8ZRtzPNfahD2uE2M+IouLPjf9/T7B15g9Giv2O8zOoz7hBuo925waPs0I1z2+dSU9JJM4PwNjSD7n8IA9a+GbPvO0uzz7vFQ+fU+lPAK5Hz/PKlQ8M7w2N8pQvT5j4LI9YLvSPKCLDDxxDsU+MwCLPUn7Cz5eRI08kkAmP6QfOT8GcJw+gMEmPR2yQD6EALY+HqzhPS1O5Tsatao9VaWgPKV3bTxTdJY94cglPVFXIjvMgo45ZyvIPgUtTj51ziY/Vz4WO7xlmzwabmo/+oZOOqDlVz6OTQE8ZB/GPaDIUz5HXBo/PwiJPRGTOD6xb1Q+GIMMPai8zDzcqrE856UhP2F2sz0Iyh4/NgYEPDlo9D4uB4I9L6GVPsi8fD5yjB07A/XkPm1gAD+q/Xw+AACAP3H87DyMwQM/a5BKPQnkDj//xKo90yUJPzUD2T3WcP8+Dp02PmpylD4HFic7M/NAPWugMT9bfTA6e8X1PRGlnT65e9c+KtYAPtjDkDlIFx4/pnXnPjblDD71200+tC2BPua/6zsgzqs9nI8qPgLqyT4gZHs9x9ZaPkj/zTvPUuQ+4KccP/UttD4nw3Y+3M1uPM+K3jyI5gc9U/GnPVKW5Dut5/Q9ieTzPovm/j3GOEQ+9Hh7PuXaJT0meYg+AcAqPZJwUz0XN5s+mW59PY8q6zpqYc49ct/YPfhnED0qOA894VsMP9wiKzq+b40+LUj2PH8tQj1C+o0+w9gvPza2hT6dksk8s6IQP7YiVDuleEs+3xGqPl1Vxz0+sHg/GQg3PsONVz0UIhA9OIOePZiRTz2SmdU+o0x+P1UDfj8QjFs+ANx4Pszr3jxKS20+y22QPkv5tzxrbY87YC00P6spCD8AAIA/dHBcPk1IST9vSBQ8Rr8TPpEB5jp/Xwc/FjouP6qcrTzBMXM+jFGaPnOLkT0DWRQ9fsrYPoHDHT7Ru8o+/GOqPoXUPT/wF4k9ehRAPtaBkj0NxUo7KEpeP+GPSz5tcRw/EEhDPg8GIj2+NDE+4gSpPqcmOz77shw+UY3PPBRkTj6hlVg+vFwDPtddUz87Rq87ofBDPx7aIj5NGBA+sjp+Pk4EOD+GgEU8EW2NPh9fDj/1kDY7pzicPvOd8T1WJ4g5xQEQPLESjT2LDZE+faxtPuw2FT+MFz8/EptGO0Bf+zwIDnc/MWR0P4E2kD3V92Y+n1T2Pjy5gT0TY7Y7MQvvPmjQFz/8o3g8/bL/PbiBeD+wFRI+lMQ5PSWixT7yyrE+pakSPXiT3jtwBMY8159qPT8IHTpaXI4+rIJVP9pbND0UIrU9Z8ObPUXfCTnesXY8U/1jPXWPZD52JNI+M4KKPZpZbz+VS5s+bNcLPy0nBz+2SDc+hfk7Pl+eyDpD65E+jNWCPqFncD4rZGU/CNbtPbpT9T3Xv2U99cG1Pei0xT3YHQs+AACAPzIpAjzdDlE8zBoWPkiLzjxN1hw8q1MQPsxE8j59j3M+ztLVPpS4tT2QFsw9zUNNPVb4qDttoGo+eE1ePBEK9z6T+QM+gjYuPwAAgD+uwrI9AACAPzynVT8hEJE7XbvlPtaVJz4KvlI97VRePp68Oz7buOQ9+P5cPl8PMj9wd5494F2nPpQHdj2iKYc9EBDXPCXUAD/SLY8+lk9BP7IW6D6chgo+vMoUPwxIFT4pZag9mr8UOYE1Ej+FLxg9fkE3PGiLvTw7X989sDEtPmkiUz7eF608EF0SPwx9iT19r7A+wAr/PmMhOD59CRU+U9EsO6L/VD0h7iY+JOnTPpcF6Dm/XaQ+0PyyPSBgJT5BezI9P0oxP3BtZD6QCYk8C+hRPrnlcj/DgyM+HLRYPgAAgD9QWFM/j3cgPiud8j7d7h89CKTyPWdOwzqzZwE/W6pCPBYAAj49JyY+MbkLP8edZj/7s+o9ZUAzPlx1oT7jKbc9ZwsSO+3CSjtKyEU/HXjwPNWSPz+2D489D4FvPsCkuj5NmTs+nI0CPtDgMj6Grwo+PMsQPNqd/D6HhBI+vp+wPa+gUT3SBTA/nSk7O94QpTxdB689tC2BPgmgeT4msyY7yg+hPRJhOz/vBmc7uTeqPt1s1z2TzaE8toIVPjAchD42ZfA+31sLPuG04T3sVXQ+7BF7P75Eiz5JCQU/P8XNPWrpATxary4+pVfPPtXHhT41h9c6jzgQPNXtmD0hknY+68l9PnmPojwNq5Y8po3NPmXagD0ekms7L0DNPux2oDq0IAk/uUc/PiH8YT07p9o9wWNHP0xqDj4O/ZE+llpyPy1L4DstIR8/+YeEPomrID/YHOA9o17IOrxuqj0Mt5s+IezpPnmY8joUs/U8MjMcP5qazj61KyI+AACAP7lgiD5ljTM/ermPPkm+tzz6cyM+D3nlO6VIETltzXQ+Hk71Pa/UaDzwmrw+Cb63PTky5T6CwsQ+Y/xuP3vFHz+HA4g9PYFMP3JaRDrZ49M96E+WPG1GJT4WnZ4+L1HYPZliCT6Refk9KcosP/u4oT7eq+E+WWZnPxJuuD7yQig8U9G5PO/q0zpx/mQ9XPjaPg38jj43J3k+2Gd4PNpPtD3J+e47DZotPdVbmD0wJCc+dIU5PqlkcD+HHYA9XNIPPXi33D5xXP0+HkFbO0TaST/rJ0Y+uhPgPm1xtD1DGYk+8R5iP7Jm7Tq66eg+p9y7PkbCMj63+xo7gmbVPv0nKT8P96Y+EE8tP8z6+z3Geos+u5/8O3F8hz1usyg+o20UPJ8TOT6HLWU/m/q8PkbGJz2rsXc+yFm9Pk1+Gj8slsc9z/UVPaLjNT6YWNo+YLhiPXLpFz/GJs4+63ysO0p40D3zMVw+/3NtPsW2xT4/QLs9Xt6MPg0MET8p49g+mHcmPgQHYD43800+Qx3WPp+OUD3Dhbw+6OgnPVOWBD+YxAI8WCS0PUdcGj/46iA+j9RhPFlyzz313KE+/adgP9Zy6D6jOtA9Lf5MPlXxJj5cBTs9Ea+NPWuHFT6qTIY+A2KWPs0miTcmeko+QPtJPEERxD1bnRI+l0dHPfuJ+D5+XHY/Pfz+O/zvHD5AvUA8f531O4/fxTzvi90+4YaWPrt66T6d+oI+EwRWPHAexT3bnBo+6TADPh/GCT7WPKU+25waPhl/5D5elZE+3ZbTPmtZgT0Yktc+8pIlPm+n6z20Kuw+CjItPKXdBzqV1nk8X4OfPlYu2jnKpXo+g0MnP3grpz75uDI/LGVbPqlY9zzzGHU+jg40PEQfKD4RwmU7jSMTPdYuAj1Q9SI+TrLrPBa9AzudKis9/+mEPqNFUD/cDRE/ylynPns2Tz0MMNM9hy8YPSs+9T7my7Q+EgWcPmJLBTwSKAY9ZrIaPI/uzD1qb8k9reGIPYQSjj1rO54+pcICPCGGXT6BHbA+30APPr13KT2u5rA+IpOMPlww/j34iZ0+0itHPOybhDxL1EQ/mzuJOubR1D5Savo+J4DGPl96aTuOkZM88yv7PWp2Dz8Aagk+hoJIPkcPTj5zBN86JMFkPft2zz06Gss+df3MPEZugz7LOPw57QyJPvbyNT/rXuY9QazrPmig/zx3bPs8TUFDPrFo7T4UERE8kdLDPtp6vD5NTOA8OEJ+PaKaAT2obfs7LHeZO/dmsD2HwJg+6PCFPapdZT7yZXQ+3qiVOwPjfj7fCes9OkbxOTdVRD7NVqA+sipGPrvKBT7TmSU+kzTQO+w0vDxqoE485gqjO5e+gz0UOm0+g2j9PfVGADlvfYE9icbnPiq5GT33Ptk+HM49PhZcez7Pit488QF8Przjbj7PypQ7y0kGP3lnWzzyHk4+1DuyPfs6Uz64S409G48fP3HyoDz0N5M+ncoyPkQ2SD0SYPE+08OEPvXnuT4O23g/DAOoPg7Gzz395eg9CfvkPYhNzz4q9hs/PGIlPGgVrT6eIBY+rJglPwhxzT4jrsY+PONTP9mXED5pH4o+YxhzPyCu+TtvnY4+FMxqPol8yz4SzF8+iNKAOmfRlTpMQks+FJn5OwK5Hz/3jv49gyT7PpzzBj5wzlA7pUwXPoBy5j2ebzU/i4+oPdbIPT7GjNM9WAKWPl4ahT7hLqo+wbgsPhAi5j7VvkQ+TaPcOhMCkTzjAk0+NjETPs1jtzsCRaA+RARhPKHdmT5Jqe4+bOpGP8LHDD+i6sg+Afj5PuYBlzxYLFA/vrJLPL4aLD/xpqs+5Di9O1/9Ij7YxxY8YRrHPOl2DzylT3s+a6uRPqzb4j78Rx09QjxWPTKkEj8g0RY+3K+YPBop1T1f0gk+FFhLPJk9uD6yCK88fDpPPvCo/jybVlo/AhVgPLj1tD4Haco+61MpPQ1u0TweaLQ+vsRAP/hkyDxQ6X09ofUaPplAqDw13/Y9AACAP81R1j1AAAM+A1KYPf+VJz+CXSA/TrlvPSoegD0Nq9c7zex5P9hRjTz1aE89E0jqPmESCD1Bhnk/mPJOPbIZYj4fK4M9HqhqPh0EyjwhcTc+0/RwPl0bkzs4EKw9G/w3PYdCPjlhfls9EfURO14OOjpCb2E6mLNsPgxFez76lIA+I7LHPv/3mT42xZc9GLaPO6qp6z4s3r45BSSEPFSwKju6ZR4+K8SYPA4D3j7sVXA/51uPO6qFBj90Glk8lmUNPo6oOD6j8bg+Pr+DPbvROj3cEHY+R6FKP7EF6jtODbg9zkdZPURuDTsTV5w+Dc+LPJSLmzxWyNc+HwdSPqKZeT3Q5dA+ea8VPwNSmD37IIg6JFIuPdy3OT/E79s+MTLwPKU2ZD5XR5M+dPZeOg64pj4HUUU/Vn42Pr+seD2MyM4+y5RZP/cHzTzoroM+53ocPrwOyT5XPjI+tG9UPmyvGz9Vb14+B6+rPod08D4Jsmg+YXENPGq5rj6mopw7bBlBPv9OnTxUlJE9TsoeP51dqz6y0PY88nSVPgcNujuoftc7mPxWPPnoJjy3p1c/UVmEOw2+XT999yI/XbQIP+iR8D4MUoc9oTm7PtGhRz+tzRY/04lNP3eGjj6Dmb492Pe/Pg7t8TuOgUw+l9GVPI6gyjoIa5A9kRmEPDVuijpEAKM7WuiyPgH4+T5bC1I9ig/sPOI9qz6Isoc86yrpPI/XZz5HHYA9fAxmPTZq6T75i3g/XeggP3aBFDuOHG48mCpLPusrPDy0vsY+5EfTPmkinj1nnzo9JReJOmx2gj0iNaE+Ic2FPitEUz7FyXU+UfcJPwDdTD/yDbU91qYePGrvlD3+Jb4+TT60PhzfCz0heW4/4CCoPJsyPT/wGZU+ZRlfPh3Yuj5XkE8/z5cOPA11Sj4/cvI4Zc5IPsxBUj6nEjo9y5FWPssUID28hRE+thLGPoHqhj0Owjo+OpJ7PVIoBDtgm1U/5VWyPk8nhjzpH4w831TBPUyWpD5Ci5M+MrmAPnjvwz34G1s9bDVUP/D0yT3GMUQ+LmEmP0YGJD/XYpY823tCPx03Uj32aGI67PdcPjwQij5CZoY+psSiPgo+YDsj+yk9yiibPK73qzv1aw07rjpJP46ZCD25Ksw+dor/Pb5W/z0vIvA+ovREPR33JzsHm1A+8KGUPir2BD+6fP07Gy9EPr0XWz2L8IE+NKp3PkRTuD7f/wM/24pKOlMNUD6OhIw9YOccPmCpMT+Trsg+PcxzPcx/OT2q3+s+mFpFPzCbej22eA0+I4eAPhe5Pj7DEos+qB0RPqR8Sj/FYj499BkpPqLZiT14FuE+E3g8PjsRBD/bmI0+iGwIPsfbdj+K2ns+Z/YzPkC9QDxLQVg9EsgOPRt0zD6FfQ48rcuZPNdqnz6cJ549w8xIPwAAgD9trxs/9X4BP+GaQD+AkR89ZyfaOOfLEjzHEj49W4A+PFuG4Dxkvbk9lGlBPmXsBj+S/4E+BATBPRtt2T5dLsc75RtdP/tR/zyaZKs7O/31PCRHgz6sDJ4+3OzxPA8i5j7ozB0+3jYEPUu0rT0uOrs9OZ8rPRRkTj70XUE9zmyiPvsziDtiD8Q9QGCyO767Zjyqf0M+19c5PkbQVT+1lD8+NPjzPpXVSD6GJCI/765jPgAAgD/LHLE9n1cMPg/MXz7WME47xt7qO0eAbzs0rac7LkEnP1+O3D4YSLU9B2NrP1l+rTo6mNk7BX8hPmcMPT/GWBQ/NUy2O4oTYj1F5G0/b3U7P/QWFD8fnjs/GV4nPENmDD4mx9A7GNbNPpxJvj2q61g+qoYpPZqhjj3hugc+OkwlP03a8jvXsPg8GwoNPQJ55jtqqo4+JogVPz2JHT6B/AU9TS9tPnlygjuEBmE+VyOAPQv+sj4CIWI/dc83Pf14eT8t5i0+SGuePlW5ozwVzys9mWIOPB01+j6vmEA+zB4fPpeoDT3Ojms+LgN6P6zUtTxkOgc/YEacPZB1Vjx8cHk/W3ErPjSIqz2eegA/WEWNPlMbPz+SzFI+04K0PXH58TqzyW4+wBtEPd7fED98TKs+48dhP1Vg3D3nehw+6ctMP3UyzTw5ra0++f21Pi5KyDyirp89ICMLO+G04T2lHzk/ixz8Pv8OdT6lOqg8a7MHPxWQwjpGi6o+yvkBPsiAbTydp/k+SXN2P1NHhz6K1w0/nNeDPsQCyD6mDY89cC4PPaX+Xzvi1Ag/9bPaPSJZzT4E2jU7/yABP4O6+j2TRmw+cloqPY3UnzrgHXE+iKWiPrHlXzpEN+0+1bqRPZS1az5yZks+MoMfPtWcBz695/g+gokJP8a0/zxYfZM9gUe0PiFTQz3IyCE8buM4O5esuT2ramU9Xnt3PR9AVDuJzP4+vJ3VOm+24TvbQUI//U/FPuakoD2vZd48IKZfPqo/iD65b3M+z5AYPaT/aj79zrM9MbfLPpl1FD4xkmU8SKQCP+i/lDtD3fI+OZoNPmbBBT5AfV87a3QHP8+eqj4BYpQ9OSL/PpACBD+vo2E/wKBiP3I0zT746849ir7RPjKt5D49HR4/A5xZO6HjEj5K4tg+k4yqPNHZNj4/3RM9AACAP7aPvD6lNBg/opZJPUDfuDwQR2g6NvPFPk5PFTzJJdI9PgOLPTiQyDzfxdg9CA5EPzW9KD3X9Ik87uYSPhauCj6HSEA9864PP9/TZz5uM0U+yaP3PDbp5j73IEk50OcxP2MlNz31v3E7pTurPn0U9j4cBN098zOIO/haDz+Yqag+uTGzPqr1KD0XjR8+vBADP3gqBT2NwQQ7iIq7Ps/iQj6IQUY8V9/nOjN3zzt3M3c/UYlCPkqEBD9qD8E8Y7ycPmDxTz457UY+zly0PNgBYjzBdsc+eE01PwGO0D3wBgg/VeIWPtMICz6Jfw4/60HoOwqBOj7UVAU9xSHYPioYZj6WIy084sM/Ps+iZjwRsxQ9fSjpPohBaj7awQ08wJhwPCj3OT8hlgY/uTPLPckrgT1eUfA+l0BwPlQF6DqqAFw+QMZXPsUh2D7yqqc7jJHNPggTcj4CuR8/fhMQO0Vk1T7XCqY+DucOO10gOT9VrVU81cgMPqDr/jvVm0A79TpSPc+B9T4Qf2I+qHExP2Y0PDtbdYQ+UGE7PaTCeTuBFqk6gIb0PAnpJD/B8i0/7iIjPdUPUD+I1Lg+DlF+PljTaTyfQhc+/4bsPqi/kD57ag8+C2XbPidDhz7PCbc+K4e1PH16ij6/t5A+jVErPpAIIz+mgwk/e7ccPioJMD6ESVw+SxGGPRBQdT4JfIk9bBqFPmRlsD4g87s9J6BhP7CyVT27YnI70u76PQXrbD3sjdg7X9PiO/4YUD4A/gE8oujNPuMxWz3L64U+kJJaP/AuGD4UTqw+mX6/Ox7Yuj4vIvA+j+mWPFa/Rj/Z2lw++yCIOhI/Hj8FszU+9z0cPJ8XxT2YbC8+azYHPq29kT5dbAE+MPhLPYfKaD0lTr059K40PrjwBj6ok90+PNKcPgFkkDwWlsI7pP/ZPni15Dyhp6Q+ElMoPkNYwj6sKIA9SG5ZPbBYND/LrzA/s8luPnsKIzyYkws/jj8kPyDYKz35AP8+wXD1PRIcRT3+Lao+u2PjPfubrD4viMg8so9VOzrwqDzp3as8dSyoPtO5ZTzT5SQ+fVQYPOMOST4/Yk0/WP8PP/8xPz/uRzU9drXoPWzhZD7J+Uk/drf1PR0Cqz1vWxE+maU6PwyeYTov6Hw+z5KdPI9D8T7kgZw801SjPD2pLz6/I7o+two+OmK6UT/qVp8++JxePkW/6D6/P+46E+h9Pl37GD4cTLM9Cf63PCoAlj5eTv09Q0QXOgSQPj8LluM74HOqPNGNTDyRuhM+QMCFPrNWAjsCzp89Yo6dPpas4juVrqE+WgJEP/oPVT0F6k8+Zu4yPq3QCjwiaBQ+4t5VPSh3ij71gl0+k6VUP5bNoTyiMIs9vFy3PsNXUj6WhWY/v8dDPH0SKD4dA7g64+o0PQh1TjnkGu0+to8lPhFp+j4s8R8+UE70PhMCZD54Ehc/Hn/XPWPiYDwYwP86199pP0YCmjuBaIM8yX0wPg+iUz9S9a8+5jnIPjPFfj7wW8k+AcggPTWogj5+BeQ6v1pwPko/tz6887c+QMdFPSimjj60nO09s6UKPz0HXj7D8Rs+AACAP3DFsz7hP0c/1zxrPl8FTz4OjxI/XhHIPSW1Azz+iT05KllFPtf0iTyaS4Y7Hh7OPmN8zD5wOIY8E9hgPuHfBz/SXgE90BW9PSbroTwaX0k/tXdWPp06ujo4aUk9+J3SPVhVlz4ZVyc+Tjx/O4rRhzrS83I963+lPupoMT7S5Dw9CmxHPTN8BD9Uhwg9ALxPPOzugj0Klqs9qBeAPlRrGj4UZE4+R6cKPWGCaz61Q8g8PXudPYr7mDvGUQc6G3J2PgalfD2bT8w9fSNwPXfdwD0rG8k7Tg7rPiFC1z4TCJE7N+8xPpOG+j37Dls/Y4sOO3rcyjx1/r8+8f1OOraV5jxrM4A8iM8DO6pyQD760aM+ud/FPPQ3Bz9Yxgk6m6EMPx0EyjzMgwc9LwaqPXNKzTtE93A/VefSPnIiZT6FRgs/DwBLPxFyaj4s5eo8/WznPfuHvj3pSfs9Jb5MPrlhDD7Ep0s9718RP78P0T4cAws/3xQ9PGntizxNYdc+6Fc/Phcn5DlxpzQ/ZuMFPWYNeT9jPTo/vvGoPRmAED7wfCk+/BOfPQxZFD0zxBI+CLw2PFEQqjpLIIQ8l3WmO5QMrj6itW8+On/sPiK/5z7ENH89o+37PRNrCD6Mpf8+o6QjP/4Doz2auV0/8DV5PtXBRj7r8SY5pqtTPB07kDzVcMg7rrPXPq8vFj5OBls+XITDPtLn1j5r4Dw+44yDPiAxvTxB/Qc8AACAP9es5DmRDUU8ao3WPhVlVj1aX6M+DG0FP7RDGzx6/HU+02h2PBUkWDyyd548rRDrPl5Toz64QWg8OGFKP0+XcD46TxQ/P38WPssYDz2gTSI8jnk3PqiU+T3LOPw5HPGWOxKZ6D50Idw80iPGOsHBDz7Pq58+ek9KPtTPZz5UIjU7M9VFPSpRxzyCYBI+wGWrPg6glj1N36U6YdI1P5y8WT67T/4+dOUoPUg2/j2/hRw/DHoXPgLvNj4y7AE9bp5WPhQ1rz1lQNE9yJFnPD+8cjz1fd88p/XrPaDTiD6CO0g9AQVmPs20zz6gYEo+l2HCPoqaPD+GBYw85kxKPHzvkz4r8j49X3K/PiuzLDnAye0+kE1SP610jT46HOA5wNi/Oxrr9T4CIF49M6nJPiA6Ej5VKpc9KilKPQGA5D0XrFA8N8AYPrD+ij0Kpj49Kmq5PpyC1j7Zg8s+rbUEOUUdET//HlQ/6rWgPsS53TyEwJY9n4PkPWeQhD4XEDI7WbvrPBPgiT6ZczU+cNzJPfpj3DtZJfU+8VpXPnh1Lz+xO609dt4TPippNj0XH4A9UfX8PSVdfDq40/k5k9eDPkx9sD6eIfE+phDzPL7NCj+oA7w941kDPiYdNT+QTWU/s/k7Peu2Sj67Z7A76HUPPI0Lnz70XYg+wlSBPaVHfD2+F2k7sQVrP1WTiz1apgY+foU6P8W1hDvs0xU+9BVcPVGThT1eNb0++PLGPSI66j6rbho+wnjhOZ86AT7SRJc9zNW8Pu3TPj7lUzs+pxUUPB203D4f/wI9f531O7vrdD+fB4k8IJODPvdJyzw4nGo/W7JmP039FT3jnzc+XuO8Pq2QYT7203089yePO7tmTDrQ04w+kVijPcIXHD+sz6M9xIIHPQwiCD1Qz4Y7aKcAP0HUoD0AOpg7JQ4+PKO/Lz7PEdc9lmUNPsi4tz1Hh4U95JfBOWfPjj7afzw+AACAP6vYrjx/nL8+86sUPRPJ7z01cAE9K0IYPfj8zT6C6o0+xYB2OZdcAD742/s7gdVYOqCFwT3Cccc6/awKPd6r4T4PzTo8i5p6POdlTDsDpfI+RTJBPG9Gmj5CqQc/8C4YP1ZKSj0nD6Y+udtrORTICzp4NoQ8rtXPPFlqOT/eNvc+RwL+PUyC2j43MCg7FA0jPprg3zt3kXY/bxzcPsNk9jpbfYA9LyY5PlM2iD6xGSQ/xQP+PNqCgzqgHyI+oiRfPRbsGT63HNY9L1SNPbaCFT5/tqY+lZ26PHu53Tkyd4c+tUYiPgAAgD8hah4+lkZLP7YTETzgKVQ/luv8PfhbPD60i5M5JvxZOd6r4T6Jib48tudiPprNaDwEaiQ+PktKPk6JHT+bIeI+uiP/Pk7g4jwoeLw7kfxyPw5SUj7K5Fk786IGPUgahj1MHJY+4qGQPVsRAz/EjCU8Cr2APcd1mjkc82U/yARAPsK7Lz4UcCQ+SLFHO+S2HD2FIqY+jQPSPvXu6D2GJCI/0DziPdhZoT4BfT48DSBHPd3Bfz5Ky4k8bUywPjWWET2Hg6c+Dys1PbxUIz6sTaY+jGONPDLjSTwR/nw9fSNCP8BAHD4wYao+4+qWPn8PZDo8mBs+IcLRPhhXJz4KGUQ8Jlw+PgYCMjvTCCQ+6DCCO24OqTwu/jI7tB0JP+kyNj4h0f89TWHXPics1zyaeM08IresPByjjT2pPgQ8icS4PJwjNj34OcQ+FZfnPmLfXz/Q5aU731d+PpsHQj/mg6s90orePD4LTD7tqOk9Xb4ZPFm+pT7GOHA+Qeb7Pm2v4z6npzY/+qO0PhHhID8y+Cg+YDwRPkDgeT7lPpc8cUh2Pb7/JTzbZEU8H9UnPjh7oD5QIak+LvOvPcU82DpZV709hWtXPiM4HD3DcfU5YdSDPnsThD2zs2Q7KCQyPI7xRjt5FUA9xh6QPpCVAjxlIcQ+HKM6PedixD7CrMw+mPgkPgdNKD0AWqQ79v45PEx2pj4Y4gw/SF0yPurIZD78Jcw+A1QIPkmg4D7YK4A+Wg+lPkgjhz49iSk/eF4dPB3Jlz5fmeM+0EQwPjgKDz88wBw8WGDAOg0VUT7ch7g9oEZKP8kP+D7/N6k+hDsSPlzEoj2lrpE+vSmVPn20zT7ZwQk/fZ52PfhYnT5GNIU+tisiPgOrnT616Q0/9+UdPGUPND5OQL06M4CBPpSBUj0p+y4+B5ZFPhtPqD6lfRo8GB8aPxXtDD1o8jM+L5zvPkwCUD7So1s7451CPQFV7zxYwSI93wnrPelY9Dwx1ss+hvclP0e65TqB3sM9lxPiPXmrEz9PXic+HVfSO6T4Wj3rKbE951OBPWAo7jy2puA+YMIuPqDbBj/lFYE+SxEZPgV3pD1JLSY9TIMhPU6stjul5rk8zqw/PSq8DD7/XsY8PVHjOb1d6j6HwJg+CRu/PqbGAz873RQ+BshLPtu6xj29JJ0+O6AfPfEy/Tz/Ur8+v2h2Pyj0sT3iXlk8p9ACPRjjST/KF1A70MFTPvaNUj325aU88mUVPxaHRT6WBas9DuJRPteMxTy0y2U+1bv+PvIn0T4i5BA/KjVfPuTstT6/lI09ZJMcPXXKXT59Poo9NcQxPynZfj8h6Sw/SbutPqhn8zxKK2k9nYJuPNGhoj3BqaY+3pPSPPB4Xz6fv+E+BYL3Pbt4Cj6KYSE+MeiWPIEx4T6p24I7q+eAPmi7AT5Pw4093D9APXzGKz3xw3o+ZdQBP71KCDvTr6087udqPm2weD/XR6M7aTYHPpV+Pz/+U5A8YUQ2P5RsYj63XpI+7fIBP9BQCT5EN+0+OhbgO/slLT7pQMU8r4TiPiTCMztBajY+2mSiPSQm/z1/8no9pzMuP0MAwz2rebg84KHLO0QfoDso0IA+RlElO8NRsj1d61g9Ou0hPjAY6TubklE/b138Pa9iiz2J4No8hiQiPyLY2zxG95M7t7NLPV4zcz9YRLA85qCFPXJg4z4cPrA980TBPeCxiD6WwbE+huovO1kLTT9vuoY+pDSyPh29/jvGeEA8uSUfPq5jjT3BcQE7laMaPkH0LjyRHJY8HiR6PsLEdj+c3rY9IbxzPMtYLT22w386frh0PoAvwz35vRM7NuNvPWykbj8rBEY/6tnAPC2stj0FEZo8zZPOPAttVz2VPsk7r5HdPs2Xvz5xARc8R9CTPG9tvT69sfA+XgJfPoUO/ztCBIc+P4+mPk62KD4aaGQ9ePbSPQMwGjyVGgo+h+MEPq57MT9g7gU+z5zlOwgTaT7qgrI+LeHmPeXDEj9CZ947bgidPuG04T1zbwA94TWbPuw9wz3NOS4+oEYpPJN8tD1+mIk+HwdSPkMEBD6kAhU7P60TPYazzz6YsUg97RibPT61Hj/sufI+wW//Paf2NT5I7ao+GDrqPAK5Hz9wxx4/qX/BPu1mujq+dYo7cR9vPvyQSjs7Sxo/nl1FPsy8FD4r5T09UQ4gPj8+Cz9qaFI/UszQPo/XZz5BsUU/kKEBPwiE8T2g9pI7dWSvPZRJbT20nig8/DWjPkSxKj2rwNc9CtzoPQ5VmD4U6mk+bi5jPlYkfj7couY8yUNNPQFr6jsTYSo/2XagO9NbjD6Iar0+FAb3PhoFVT04/s47BMwAPxtJWjqS/J8+SIojPLc6qD5912c87gjvPabMsj4UH4o+XdycPFyFCT5QTUw+DFWpPif4Tj6Y7A8+egNVPrtryzupFnw+mGeDPmERWj/glHc8ICB8O+Pwjz3APpc89Vy5OmPPvz4sY2c8EJznO9Sv2D6+yYo93fnhPUstCD+uhUo8XBIyPe1z0z7dL4s+Yl6rOxb+8j1+VRI8xWb7Pgk0bT48mLE9H2n+PTF46z0x5wM/qmO5PhgauTwM/Yg+xH9mPc99Bj4SgsU9WGZkPFCLTD/m6lU/28J/PCnn9Dy2q64+TYkNPAAAgD9KbQY8xpqNPhXGHzy3Ck489F1sPMcojT0dMxc8Yh2QPuuU6j5ciww+IY6APnNaCDnqNv8+baXAPR1IMj6hKAk/KAkFP8fRNj0SzF8+fH2hPF3ZMD2B6kI7GInNO3rjMz5w2949EBDXPEro5D2F/vc+fpkFP4epTj7zRME9R1waP7g14TuMIWE+tlZfPLL/kj7DXh4/iqJsP0EfLz+7jac+FXekPJFfLT+eZpg9LFT1PbN9kz6Z7C896FNnPgAAgD8JyY49YtUZPtzaCD2soHY/BjKePLY8rz5UOnQ9Z6wzPHXugTuj6549dykYPRNkTj7jUXg+GeinPvovkz6ML1s+Vn42Psj/FD+SjVQ9ZxmkPsbhoTwWI9w4eOsRPj4ALD7zp8E+38YVPlEnOT7iRo4+rFGCPQh+FD1A+XY/Xk0NP6GzvTwotL0+8dXsPuGwEj6qR8w+l8IbPt4iXD/EzJo9S8KsPvEEKD8DLgs+h2HkPeyVeT8tBw4+GInNO/L+uD5ryLM+sOzFPIugiz6+arc6LTKzPc9p6D1MjS0+oz3YPnf/Vz5s4MQ+sKYgP8CNMj86Gss+OgW9PPJegD5fAB876GkIPybzdT56W3E/cFuePWML1D0PwjQ9d2z7PFjcTj5X2o49DwoWPfxwBD+IhZk9BbKTPomFvz4PlhA9YfBIPrNUtT5rWnQ/iM8DO/0nXj580f88tEj3OpCeoD5m7/s9jHnmPKXrgD4fMD8+/7wzPWTfZD+YeG0/CY8/PjsuBz9w7aY+NHN1P2eASj449ds8V4dGPToayz4zgpo9lMAJPW/uHDvDq5s9YgPTPhrOIT3Wx7g9xfIGPvEYxT7TMc4+DaqJPihAIz2Hoh09RiFJPzf5oT5mImY7ftzKPGSzAj7NCvU9w+/KPryA8j2lxPU7LH+KPS2iRj3Hgoc61q8/P+yFoTyuaOU8SGXQPC8JRD6DdJE6I5z1PAzKkz4FnHA+mXUUPp+o/j7yCo48aBo7PxKfMjyCdzg/f531OwHz8j4bMWg+xXXPPinN9j7ZZNk9upCfPbxpQzxeujQ/crMVPTt4kD25Gpw+TDY8PCcVrjrH3go/BiVQPfE//zsYVyc+x1ilPsIHjzvRNiQ/F594P4ZJFT/Vx1s+EExaPvaSKj897gY+7d1YPK7ryTxi5D08SGGcPdqkVz60RHg/eie4PcwNwT6Z0Ig7JT5dPHOi1To5qF88R2D9OjO0qT7SV4E9QWrEPlXajj0KAR89TFl6PHhZRzzpZHo9pxWhPeKYND9zYyo/NnIcPpCWRj3MVQE/nTdcPosnsz0kLeQ+jjNrO1JZzT6Zo2g/sPV1Ps7iBz5i4Nc8uhIZPlb4qDuYhGs+blNePjsWXD5lpXU+hlFBPo8Wqj5y4MU+b/WTPLs4Bz9laMI+fVmrO3PIqj0JpqI9WFitPlM6lzwF7eA8jFO8PWnMuz71ABE+ylw8PxUUAz68sKg9E9nMPfirGT78XEI7ozulPUGb+T4Ml6s6/dUDP1LThz4cQJM++KpJPRagQj4o96c8gHHEPlUJoD7n3Z8++VaPO/NEwT28xUU+rPcbP0c/Cz5K3rs+F3CBPLBTBD5wCpE+b4PQPjsabT/QME47JZsYPR3sMj3thPs9kkKVPjbhyj40+0M7Sd3vPSNwFT7BUFM+LUz4Pmuu/T6OFIw9NKK1Pu1eYz7xF3g7tzeCPthCKT4Dkgc//b1wPX3LUD8BkG88wammPr+xEz7+EUk/ZsrLPW0CBDug/GQ6LN6+OQmM7zwS0AM+IcEiP0dRAD/rmy48F6j2PJqfpzsjcBU+rGYXPr+LmD49128+TnwdPzVwJDw1BNw+tEZQPmN+Hj4ea1Q+T9VjPSqMmT5VyKM+xXjTOog9ejoDE6I98WYXPpPNxj3ARrs7nmH2PSeV6z5M95E+AEboPuwN/D3dvz8+nwvWPAJztTyD200+kBG7PNO5ZTwP1Sw+owb7Pt5DLD4qUp49bvWjOQeWBTqoBEU/gZdTPdtiDD+V3Ws8pknLPoaBBj7mtDQ9bK81P9shkTwoSH8/nS4GPztvJT5jb6g9NfQ8PlRq5T6itWQ+yjcJPfN0MT1c52Q+PTCJPPkRPjy2rZs9XnDEPQ1ilTyvgJI+rPNBP7uYZz4bcnM8PfmCPvoQBj8ODY49xyOhPJ6PwD10JQk87/+WPPXQOT55pU49rKdVPdWLAD+Pdaw+usNzPmXSSD9FA+M9KdcVOXJbnj2p/o89jZWRPCPBDjwOJgE8atZfPhZ4YTvUHbY9eNYzPgLgzD7d7Lc9FQC4PlZ5xz71IZA+K62OPuOpIz9eRBM/NjcZP5R3ZjwXQAA+ldm+PqqSAjvv7pI9KLpMPmP4sD124Ok8iJuzPhOf7j30juo7DWtMP8P8Jj57dmk7NIocP7911z7jXos+24vRPPZ9uz4967A8AjkdPt8XUz71DQ48mBcuPhIInjzwxgk/4GAPO9myTz+aF3w8VVYWP6CcDToAa+A+KOXGPQUNOD8GiJc6VbxUOm87cT+mS44+UrIPPhv1+z087gY+acTDPjEbKD5adYQ+cAEaPivqXz43aW8+Yvu+PGIxwz60RFA/5Yv3OhYt/T0iu5Y6JcXPO13Uhj1dNFA9ckuCPOTdHz9nLBw9/vVfPQM1zTtgyzQ/DQHgPhLk2D7kZTw9mRQvPpQFzD75V0E+2rx1Pm8Lzj084sQ9GaDaPuRarT6HCJQ9XjakO/jiBj4b9zE+LcBaPbIDwjpO3YQ+OBMrPvTF0T4s0hE9C/0sPFLWUz1xH28+no2BPoQzujwrPS49U8yDPi9JnD4MGmM+c4TTOxn3OjxoPyw/zLqTPkf5Cj5xpxM+TbFdPSPyrj7QJ7o9uw3BO0d+kj5RE849zsE9PtdXhj5D5aA9sgOPPsKBhD7N3YM+vO2dPrw4Yjui8dk9foVZPn42Tz6h1jI7+PXYPS//eD/AssE+A1KYPdarjT6kaZI+4EJQPkNfsj0nWlA+wqGNO8biUz//eoA+G0REPngB0z6g6/47qa6JPLxXKj0z6pc+iwldPgAAgD9DsYY+744uPGzkRTwOQWk+yo9IO7fsrz4LnDc+R7rlOn6voD49mBs+BlQ3OFG7Gj/fKHA+JRy9Pf6g4z4S5Ng+I9TQPgyyfTyg13Y/D4W+PcALtzz0jxM7EkbxPlLtNj0mV6A+naORPkhMnD4yzOc77GG1PIaYMj81GQw++AdAO5CEbD3+tsE9huL7PSHZXjwE4RY9YXcpPmtzYT9gmXU/7k8ePxbRQz679Q0+r2yEPWO8Sj1aUW4+cELcPiaJCT5+fwQ+CKTyPZ4VXj51h5s+iZsrPxqWsD5khxQ+dRVAPfDIGD3YHCo+f7+kPf+apzwhxxw/WH+3OxN2zDzNCPc9QBBpPZQ9MT6xpe85dy7hPc8KJDuCWsQ+TpGEPuO3jD5FUPU+oQvVPTeSJjwsNYc+5wlbPF2hYD1aSK49OQiNPuH/1z5KfGE6cs5mP9L0kDqEzh8/MLXLPUJe+j3N4YM6tOkMP9mfoz4zZB8+Eh3/PvkoTT24SME512wQPbK3RT4EqSQ9jxAHPTQHQz7XoQ8+tgfsPunplD2HA6s6OvtDO7xH8T1pq9M+QylTP/ic3j4shu49I298PmhvrTtskTg/c2MqPxh+3jwhj00+1wvrPhStrD5fe6c9FXS+Pjte6D7Y5gE9vEi/PuOKAT/RKSw+wKzAPtQfSj5u0cQ7C5TwPO3arDzAx5c979sSPg4f8D4UmRA//tQgO9ucGj7uI9U+qVfnPb1QoD5dDHc+rayBO8mfnD75C+s+4QHcPpgMVD6BxAs9l/QIP8S3Yz5zMgQ/EsG0Pkrk7DrMGng+P8c1Ptv/ST0hgZk9lqiIPIiZOD98suI+Gi9EPjCHpT4YFVA9cPiZPBQ8HTvr4oQ+CXCKPtCdCj6gaxM/gA7FPWRV1z7/x0U/AOKaPq9RlD7u+CY/d7LwPrJUND8TdxM/nYc7P4/HFD+a8D481/SOPNrDwD7vfAo8GwY5PurbFzx+Yw4/QZmcPjBHiz6MIWE+UfARPzEqmDsOIrg9DRSmPO1pMz54OGk+o4t5PCuZ8j6wl5s+7IxkPmN5Oz8TTQ4+k7w/Plx7Ez97hYA7MhbrPsUh2D777yE+Mqp3PmQiSj8MGmo+8zqNPl2jjDphu4E+NAuBPhyTxD2kQn0+HPwAPyQ+gDz4I4Q9OVmkPXdORD87PQ87ovZHP5hJJT/bPjw+nEqrPoAc9TwroQw8Cwd2P5U5ET+lI4k8JFFXOpZHEz/PkBg9TiH2PVS9Nz7blV4+8OIHPm6HHD9LFMc+XXVUPnlctzzByDU/tciLPYOaRz8nJmU+9GNKPnHnXjufzKE7JI5IPl281Tyj5uk8gSSPPhTNmT0Ht4M9LyOLPVsG8DzhCyo8drJ9PfubrD5Rxdk75fVKOuZv9TtyMVw8EItgP+v5HTwypyw+gcn5O6y2SD5Aw0A+TLYRPx3Yuj7v+Rc7vdQRPnK+ADvtWsI9lPucPmwdMjtbeZs+C2ZsPnysWD7WDnI7CBgZO+AyXj9YCcE+WlLFPnW1Nj/LDko+wOQ7P5zaCz87Xoc8jcm6PHNo9juVrXo/fZozPyVDNT8PgW8+3niPPQAAgD8ceOU6G3pjPt/POT3AVAQ9MAamPoHUhz1GSCo+h3onPvCFJD+2w4s+FL04P4/eqzxsWKM+aglmPRhWTT2zfxg+GlNVPeiILz7GptM9+3KbOnmL/z3f3o49AACAP+ymwj5MPjM6XwAfO1QPKz5ZKvs992trOziRkjwWaRk+TLdAPzRIGT4vOx4/ACA2P/Ue4DzHzLc+4F2nPhNmFj/2HQc8oJRHPnlpNTs7F8w+F1YIP7Pf+T2QNxQ+MgaqPcSlIj7y/yw9/wp3PXSukT7oDfw+DfyOPiIynDvMfZY8YI83PAWW9TxYoh4/Sl4SPwb2Rjz2sRU+M3wEP80Vfz+aSLI+qjWPPkzZPDxPNUo9fbFNPcR9uTz1y1c+qeYXPJ6Imz5m/SA7phvwPSmSoDyx3BM+99HlOt9NPzwd/YI+h7jaPMYGRT1Q6cQ7g1Y4P1PmQz6UqlU9/T4qPvuH+z5A14U+98mRPgRL5j1Z3Q4/sYkPPwjnwz59i5s+HFBBP3uAGD+WxLI8GXtLPmzQ7z6Ni049Gh8GP4/OJz5xYj0/wfToPuiFtj4vG/U8qQCWOyDNhT4BjtA9SuAGOpoXfDy9c+g+UXNvO78DPD/z1Wg+2cigPrU9ST5j10o9uP6YPrzXjj3Bsrc8TC/yPuzqhjz8dDk/MBmAOcoo8D78MKQ9P4gEPWYYKz4d65g9dE6iPogaHjuDFs0+Iw/jPvrdLD89zLs+bhiMOjpGhj5d3606M0tSPnyOJD3f/2o+meW/PeXDEj/P4KA+Mf2zPpNFojqGJe09IbelPjP+VD8fXas8nlZ1P2bVqz3goZA9xoioPTLEMT/fxug+sJOoPqrzLj+7VgI7fmZHP7S30z0KrB89SXP8Pa9FVz4hHZQ+AACAP+ERhT7rt50+cDUSP8l5vz7Ytrs+zoqdPjWiiz6e5rw+NoQUPg+i3T2tsOE9XQPUPjHcST9lRuQ+/yLAPB3TNj9mhsI8WlyOPi7G+T1jdO0+ecHvPkxzUj5byHo/A+gSPk2H8D2TgY49Cv2bPb3Fsj331Xs97MMfPhyNsz16ACY/SXxhP92aMj9qI8o+/TtaP8vh1j1sRrk+UmJXP5QbXzygdUY6QNmRPFSH2j3pNhA+iLfzOnvqOD9TuiQ/hnWbPsPCEju+BYQ9Qm/CPLUqmz0alrA+cB/ZOx3sMj3dKx477geQPEoeyz25YQc/DNf6PqOrLT7eJ4g+X/FHPghxrj4v288+LgMZPqu4rz4nSkU8rkEKPQjzHzwoEGw+PtT6PlLAaDy/WWw9bR6nPggVHz4MJjM9LsY2PsJpsT1UW0I7zoETPUCnwD59zP07Y2JHPAmxUz9vv+E7VHrRPe3yAT8m40k87OojPC0I7D2U5U8+q3EVO6s1aT1SzNw9reNNPfmgeTsbD3s76o/vPva9OjwveLw7wSd2P7mCiD5QVpQ9CyCvPu/ihTy6K/07rq+QPZH3CD78Jd05bggIPvKa0j1wPrc+IHqFPvEEKD/L27A7Uf23O/iQOD7qVqQ+5oKCPeNcGT8wbII+H0PaPieOUjuyxIw9En85Pz6DKTxUOnQ9POEqPdVsVzowxC4+l+ugPtjcRj1HzQ4+EjWvPVoE0D5N0T49CfeNPIPyXD5yA3c9xdZaPi4CMD4Kpho/pU97PotdJT+wGNI82EsUP1SEbj4fwXI8ua0ZPmIJoz2ol6E+DakwPN6cZT5HlV8+5RChPJpl5jspJ60+xDJbP4ltdj8hAlg/vo+6PiBz/DyzT2U+KZVfPWyU4j6K3BY/bvEMPoB/Rj+ZVbo9vsJKP2gjaD/1ihM+b1dFPKYzUD7sz64+i+FtPZh8pz6yPug9hcJrPgxAaT5r0oY+oA3lPmbQBz2Eho47n8CAPNFgvD77OxI9oV0aPzWrgD4DtLE9ZntpOw6QCD7fyy49AACAPwNQAj10/KY5FQRQPPhooT0AAIA/h1FYPQAV1j6F29s8DYgsPwrgqjrC6Ds9CcrIPbXV+TkYic07B3JXPWKueT8/kAA/zRFXPjntVD3wdYE89I4NPGZZRjx3kVo/CfcnP3cgtj5GAQc+MNOwPSQ5CT6Lcyg+3FodOxbuqj1z7CA9XSiMPWGOAj/xKsg+rOFOPunVMDz+F5E8+jbvO1d4GjylAYY+pOzLPmyMyT5/b3o+hDl6PmULyz4G8QA9uVFAPW7YGj6hxdA6L0wuP9vmWT9+wBI9tpSDO5GEcD5S/VQ8wIvuPogw8zolVh0/DKgRPmgrOD7urdw+X5V8PtrlhzxWDkA/l+nIPeiBOD4seJ48RYjWPQV4Aj7UaJU8eQj3PWrvED4b37s6T9QbPjcFoD6qH30+GvV3PZhPyj1RqIM9JtkKPnPBEj/ZWlw+TDYqP35CrDxX4Ys+LZiRPRS+5DzfZQM9zM6jPqfErTwKxmE9ZTPTPJNROT6zOR4+RQU3OzMqFj+BjkE+f9pHPmU3jz4YE0M97jy5PSBrlD0ylj4+CFHZPDBaPz+UaUE+MU1TPRop1T1c3Qo/vQEDOsOFUj7FxUM++D/RPmz5IT8GjTA/a5NbOiGmPD5DL1o/fV17Pj1XNz3D/CY+sb3EPrGcqT0Yz0w9VYIrPlqqTz7Su7Q9T0W6PVQF6Do2pIY9+6usPkB5sT14tJ49yx3WOyaMRj1C3BQ7bWwePQdJhz7hN9w+g/QcP3HT8jy5L6E+m++GPqWirT2UbyA+Qoa4Pg2Bbz4figQ+QPvhPRop1T1OXic+zxYMPmohcz5pmBk+vNRVPGzMej8yLdA8voBvPsbZ2j5xJpM9u/MSPgEatz7irgY7RFO4Pua6hTtImkc+ASwqOw7FND/KpYQ+nh1MPsXksDwAAIA/L3x5Oly2nj0WkBQ+CV4gPlZZwzse0lU+mcokPbbt3DwBwdE9c8rPPkgp8j4CYUk97RgLPp3VrD6GTzs/uEX3Ps01nzuHjE8/CNYuPGG9cj2brYQ8JQe3PXexEj3vzno9uMqhPW/5/T7LeRU/qRc4Pi8u4T7k2U09N68MPwLCDz8ozMg8ISaKPPUYdT4grR4/TOfwPYUMpz4LlsI+2pQ/P85LRjtCzhI/LlCpPbc6Rj+YVcU9R8BnPR9TTz/eU/k6xlk1Pyt9nj1eMyg7iHxYPvN13zvj/t09e1InPS22gT6nBUM+xpxCPaC8ZD58DyU+90EwO/X3kDx8NMo+ExK3PEJ9BD+D5nc/xegLP33bCD49aDU7wbpBPlRbQjsgxsI+fAeQPgAAgD+jJ6M9d16oPJUndz0gGMc8G1U8PNMsvT10PpQ6EK5CPko8Wz4sqps8t6RsPbXx/z68Pl0/eOY2Omvwsj5aJj88V+7mPiXx4D7cH/A+B04gPvJ3Fj7VgpU+J1lTP/suSD6ljtU7spCUPs0yAD1kGe895mF2PM/OKj9JSJY7XrcFP8ZWFz7U/AA/GinVPX2HQD4aeD0/FNkfP1ARUD4UVgI9aQUIPYaYjj6gqgs9utBQPt7SNTvKNRk/wsTNPmJrMj9oU+E8SyVkPlZcAD5p7oI7RiAXPw23vj1zecA9e1tXPZBU7z5Sn8k9GV4nPPtwWz5pbXc+/jFqPbvD1j2053I+k2RmPiZ2KD4f/bs+sVwXPhRrGD4gHIc+vIcfPVO8sD7rDgw/lPqNPcPtKT4jIOI96qFvPr6MpT6n5kQ9DbiePqvtOj94yvg7KBltPBkmHT7rXKM+HPkyP9rb5T3V/mw9cyo8PsSoKT7zXiY/wsM5P/Wb1z6dcgE/bMtXPtBs0T5/s28/DhEFPodNuz78Sbs+dA+IPmLlgD3EZRk+8IQMP4zNjD28Gbc93J9QPoHdCj91bFg97VXYPb+FHD/WkoY+JXoDPYCV1zsDPAM7z+KpPd4M6julxrQ9QckpPlrksD1Dbaw+PXuNPl8TLj4BfZw+rlEvPNkExz5N+Yk6YBFNPV6vwTz/PjI+MTkAPrzxpD7qyeE8Tzz+PHJT8z5B1Cc+q6XFPY3+gD7vZ2M83aiyPupPxD1L8bc5njUHPz01Jj5fAB87uZiJPe2tLT41BlA+I4VSP2rcvjxmZSI9zULNPmyCsDxLuPk90JzQPi+hDDzvUQM96RUaPd1Jszqi/4g6Fo2LPbPF0D5iwlE9maZQPj5kEz8j7lM/NuVOPgVNgzwCuR8/EmntPYXCaz7sNDY6Hp6xPGLyRDtf27Q9ZTIIPY1/mzqJuTE9VCyxPW3WhDtx+fE6xSKJPtwZbz44uRs+39qTPfLwtz6SyrE9ig6gPfDTGD66EdU+C4iePpjmeD/pBWk+mgC+PnxMhD6HNZ48wu1HPM9vPD2ENH8//CRbPsp11T3gQlA+4otWP8AapDtGkCU+2E87PdRreT5aDlg+nOcfO5wO+D1wUvY8MO+FPbjwODwUGbU+I7LHPvpTFTpHxcQ85EWiPJi3xj3B/QA8TUebOunIaz24tyI/d/yGPu4HkDzz/H4+7U9/P+/r9z21ePk7C0nhPOzP5j5K6P8+bIRAP1Ktqz56/eA9EtBvPvGFTjwciWw9iXqnPoOgyjuv2Ss/Hj9wPjsqWD93+Ho+n5nROniPxz1rDyg/y2m1O1XJcz28zyY+mqzePPhooT1h5QI9m7EcPQg4FT/W7no+uxE+PshqHD64yqE9rkl/P3PsrT4qKcI+YMIfPP7o0DuDTMM7FZTfO/ibmD5ujxQ/qOexPKhMpT3fiyM9bBUqP3zVhT5WEiA/DutmPvTR1D5qzPU9mITSPETbbT7TiOY+5aLRPvACgjtwTZA97RibPTSR6j5FDl8/7/fRPa/sEj56Ays/zwjpPu7E2jsAMKo7lUL0Pj31GT0JBLE+nsFeP/zSlz5eJpY6jLlkPqY0nz5SaWE8w8rhPd/POT0AAIA/TlaUPVkg0z1gxKo+H9UnPjYQ5z0aUl0+PEj1PGfZKT8M7Dw+zwAYPrvh3D6iSLE+vo+6PiKkaD0FBg8/NpmFPsMheT4pEUw/2DcVPhbYeD/vD/08eS6EPTXuojzgjGU/qkHDPhTuzz4lwuI+MAgrPbGWgj0ewAo+zmrRPvlLhzyOTQE8oYVDPq7V1D0xFQk9dehxP6L9iz6kje4+7PjRPbhLjT3bkXU90WQBPypSLD2YUc0+JdQYPiWJxTvd7c4+JjG+PKC2RD0TQSM97ZroPQRmpT6D/Ek/zl4aPzN8IjxAGNo+jEcmOlRzRT7arh08L5MrPcERsT5znLM+3wCpPpgmijzsdFk9qhc4Pj2VPjoBdIs9d3UBP4R/Ij+mfJE8q09JPz1ASj42EOc9V5TyPs9rnz79ffc9JsUFPrNugz4KXqs+N/90PZ7NXDtv6ak91ErVOpKGIT1tdoU+45zTPfT2nDpRVgA9oYIZPnJbnj2e9F49b7mjPSwIOz6Bw9A+jH4oPWZyoTpr9Sw9bwvOPQWV+j2lPbk+h90CPwACej0d04o+HDHTPTQtuD1HrtU+o5KBPU5qGD8WThQ872G4PtRUBT0OVAQ/HH8DPj0hhT2jqDw+AACAP0FClD0EPqU+j65EPpv7YD1v9Zk+FykTPY9Rmj1ostQ9MWCOPbCsfj4OzPQ8k1vAPedzKTzZZnU/LwaqPddyBz5Wjio/MrczP0x5bzwp7JU9NPMfPvvTGj8HmHQ6KTgYP8DBeD9fiGM/fQuzOndGZD2RCvI+88MSPhX1fj7/KAY+ZEr3Pl4Ikj79omM/1VuTPr6Puj6LWzE85JsgPpUMNDv/bnU/KgTZPrTEjD34q+k+wqZTPjGbtj16j5c9qW9fPimGFz6PBPQ+GxLLOwjpwD4thZg8uO4wPvj6SDybncU+BoiXOsEMgT56N7A+HJnrO7KjOT3XFfc8XOC5PtbmAT1rjjg9GkjIPQm+Qj6sMUY95RlOP9ijPz4ZkHw+2pkWPdacsDtb57Y+YQ+vPkx5mz4NKHU+LgPNPtmxWDyJWa0+idqoPm/E9D4f1Sc+RWRMP2Tfgz0elZU5AjYcPon+rTo8k4U+0wRIPnl3YD6fAds+TySOPD9vhj5NvBI9zfYvPwdY4T7+fwY+sgPRPNUxpjwMJIA+jCznPZ9YFz/iiA0/pSOJPFAQjj0inEI+8/70PtehDz4fj2Y/azYHPjEpKz6gsBo+d3kEPZWTBT6Z7lU9SZ+IOzZVrz1Fe3Q7ogs0PysELTxqLEg+fIB8PWmYlj1XQEg9rcoCOxGdqD68NzI+T5RlPdf0iTz7ZgE/5k/EPfMGSz3mEfg9cfHcOoWd2z4h56k+5v4fPyU8ET9tzkQ+j9d5P4z/Ij8Li4E+vN0gP84S6zu2MWc+tZmmPHcmZz4AAIA/47y5PvtwWz7qt7Y+G+xwP1VkkDxQKfM+dwKDPhpJ2jyPNes5iIpePN0hAz/2TA0+MTLzOqZpuzyXDok+BTBIPq6ckjwZnQw/pYoEPiwFlz41x3w9OpSMPuBdpz68EBo/5vuBOkzkFz9+sqQ+vX+2Pfz/Dj/uheg+XKffPcmH3D0dlfc76ad2OwAAgD/xpqY9u7shPdLcSz1nGcU+YLlkPPFEQz94Kok9vTsWPWNXCT8jdmI7yHrWPrdNSj1d6CA/6FNnPvvDGz9ry1c+yjexO9g8JT0f36E8AhqBPYl9KD4g+y85XDS0Po70ADtFI408NicGP24BKT3VzQA7iV1XP0PloD1CZoY+7aTEPpUUAjwQjKw5tAA5PJyPKj6K+PQ8j7ekOTh0Fz0p/EU9xPokPg+aTTsUunE/6vjRPTLkuj6QUyc8n2RJP4HiTT9cZCo/nTQrPgvfpzutqW07OI5yPiIbzDkZVyc+v/9LOzSnBj4Mkfc+3DUNPsOzdT+2v8E8I3goPRhvHT100yo9lucvPa1ztD6BDy0/xI+XPpDAnz1UOIs+bWRBPCRkaD4xAyk9+2+VPoOVGz0DkeM9hzhhPXo3Kj+RxsQ95QAnPoypmj6J6Ak/FbQYPtcDIj6ssyo9C4cTPosGBzmVWdI8FQ0iP4mFRj7T/Jk9nlNkOWEGMD2+Pus6Q9nmPcrXkT40Rw4+fWJkP3qewzqrkuw+dyRtPlw0MD5Dyjk8cOgDP7hihz0lphU70wbXPul+ED/CKf49jmTfOwFPQjwnLvU7cNthPc4n8z5uNeA6eJBoPqHkaT4dETk/y8CtPdswfD5Duxg++48tPDuvRT6xZMU5OyehPdmcGj77vFQ+zsZlPs9wljvgQlA+ezwrPifHIT9By2I94KsyPmU+1z4b/pQ+BOV6Ps53fjqj8KE9s/wfPxdZETyAD0U9Cs5rPvDbMj8bYAw8PKsJOzGkoD0ktYM9ZyvcPqldwD6UWmg+isRYPl9oaj64DEI+5IcTPt3ICT+blKY+NqJoPiDNhT5YAzk9SH8yPuY4Ez/Yh5E93birPRNjtjurU/Y8sX1xP61nhD7F3pA+azVnPUyLzjzHwDk8LQilPW3b5Tzf40s5BJWSPqJMbj4Awlc+hBoGOqEofD0iBYM+IwybPUTzbj6iBmQ+wA2jPsU2BzwyaSU+BOsdPYdNLDxbrYM+MjLIPrpLuDts8bc+ierJPlA+Ez18ugs+tw17PPJHHD+nYaM+DWIwPQLO0D4SPAo+mxf4O3hfZz924zE+BxNpPsqoWz/Wdrc8+wgZPgtd5z79a8o+o2ZpPS+cjz5Gozc+VcNHPZRwVj9NFfM+J8sGP4rGwj07MEg9dyunPqMm4z0EjH4+MYwOP71VSj5lk7Y9Tl4nPjjkjz4O4do7j7r3PvtYND6dQS8+tiyTPqcAJD/xZRE/z3NAPmSggzyO6Ag9W1JSPHh6sT0G9UI+e/vxOwT5pTuqO10+LjKTO+ap0D2u7gc9Pe1oPB7FhT3SzOA9ornmOyfBQD9nhJY+s1SpPVgZgT0xnVM+1gksPFjxSDy4akM+yD/0PWO8nD4C17Y9hYioPYu14jseJI0+0iFBP1xdzz7BH4M8ji39PDHhiT4AAIA//Wd7PofRpzvwT+Q+b5ouPvp3wT75nmU9v7mKPhuUDD4tnow5yDjvOiVdVj1N0yM+dSfyPrRDFTv2HV89E7SUPnP+Ez3XJYA+lM3PPLQ8dz5DnGs9sZvZPgElOT5rnvY+szADPgjAPTueE+o9Rt7YPT5HAz+IHzg+ZSZjOuLcEz6x+Zs+EeIbP7fXQT/OhPE+WSvXPAdoDj/oazE+vERnPV+yrj2lT3s+LW8pPrgIxjzphHU/fLLiPgKIlzrrM3I8ZBWUPPjMJT2/OSA7V8jIPkQgAD6bU7U+c+SEPmvk/z4QpfA9W5rnOsNv/z1Vdd8+IR3HPHE8Bz/vDUk9lGlBPuyuzj49l4g+3HzdPh64hToE+aU7ckd6Og8NTj4Zn/o8xAYhPmjbJTvBhQA+0T1vPsa6rj5VLHI+EFEVPy2d2DzLesY8pYKrPkAAAz5Jypo+Hi2yPHROoj708fA+kBWzPV4H3j5GAqE7UQCZPEoyvj0HdLs7kPz3PRFcfj8Xt08/3fZYP9vddT0uk7w9m8XQOuOICDwncec7mFHNPh5+Bz43DSQ/25NsPiGEJj/lAKs+kG+HPWn2Mz4+h2k+i7ZPPGPSXD0bxh88glFEPh18Tz7AyRI/a9fEPZJGpT6q0LY+OkbMPEQxDj7ALGQ/5fSLPaAtaj4h6wk+3rqjO2XsBj9YE+48M0uBPbWYPTnJteU8aPOrPmO8nD55LqU4jViFPGSIqz4AAIA/EAyZPEPcQT5gMAo+GC1WPcc+zT5Rfnc9AiBePapx7T7q18U9TG55Ph9XZD27Bxc+DcwtP5AL1D4tacU8Cyt0PkPd8j47EtA80ye3OuyItj55zbA+Cc41PbxwiT1/41I9NP1TPhmnhT0izIQ9YgMJPlkLOD62RiI+yOE4P/p/+T1rZzk+9vbWPeuE0DvCHsE+azRcPTMMGT6uQFU+GVcnPsABBz/zK/s9NYOSPixOhD4tBzM+2J+tPs+h0D3y35g9YCWDOyHlbj/9mfc+N6hsPWoUQz9VxwQ/l73FOx4dyzmVCms9FC/8Pv5UfD6VNig+DT2KPqRS+z38WEU7nF7IOlQF6DrzXns+GI6yOzHMTT3E8rw+ef7gPE9PLT3sjGQ+WxTiPMPLvj6ZpSo/rlMWPxQnFzqInTk+3PJxPsajLj5rZho/Ni0vPaYebj4vUIA+Y9DLPqSzYTu0IAk/Lgj6Paa1/z3+lfw83vuPPnqDYz7HjCM9l/HIPtfIbD4dNEI6PkhGP9ulHT8mgws/AiBePR2gxz2Qd+M+UOY2PiL+Yz6OZ9E9ajvuO2XQWjzm8KY+GX/OPbjuoz5SupM9FOsAP9DktD0kHBA+eRGgOjySYzpoAcs9FuxoPvomLj8ZcaQ+Z1AoPJPp9z1SFv45CaEfPvdEgjzZifA7PvOVOxPXZj8QDpw+csPbPoG6Az70xeg6QZV8PrCELDzogwE/6RGfPWfNiTtgqe49G5pZO32f2jv6oDE+2k4EPOhfFj7zCN88UMCkPH10Bz4Rs4k9ioVGPvv31z03YW0+R14yPh3m2T2vnuY+PlXZPX4+1z3KnaI7BzXLPiFLfTzBlnk/ZcqgPsZk1D4BfsI+NXsePfS+Mz4ruiU+6TosPnxyAz/6MXA9jNW7OwkeMj4nbdo+5XtXPU60gzt9Q24+GpEcPh7oKD4c4LM9gFGMPozsqz5WT189nqGtPSV/pD1K5ho+092sPvRlqz5vpb49rNfKPZA2MTsiHlM5RHJePpkK1D2vHqI9T2iQPSjfETsgr6Q+5kKcPipUqj01yfc7MFEuPt4jxjol1Rk+osCIPXuAGz59AUw/fDaPPgSDqj0aYIg6soefPgBYlzzeRfQ8o2OAPe81ETuXHV071zwSPrwSJjtkXiw/HjINPNbxqD7ORNk81nezPssczj7RNiQ/75P1Pi6Igj0K5cU838GcPR2d6j2IQHE9Ni0vPdHBPT5PARA+WGLKPnXYRD0AAno9lbVrPmwJGz4k6Fk9mxm7PrDTzz4rLvg8DumaPdyuHD7+NYI8/7iLPYPxeDzvd7o+UCu+O7jGwz67GP0+2XjbPa9l3jwztlE9ON0jPhj+9zpdvHA+AbD2Pgshgz0QkVk9Ng6APqnNtj4AAIA/+b4yPpFGzj4uk/E7nvqCPu/mMT6pQuw8zMZtPqISjDxG7/E6FOy7PgmTPD4ivuc8YP9HP96r4T4lqg8/95wIPS7jSztn6t0+LW2WPEaJdz0/aOs8ixI4P4fxED4N9So9mlQTPRVmuT4FbkM+xzLDPMYehD4d3ZQ+OfoDP7OT6z6BbMs+ledWPedFYD/iBZw7aqVxO77GiDpej3I/GrWqPZN+TjtIyN47Lq2gPh07Lj7NGjM7RD5GP/1xTDzYRvk+w6wnPqLdKT9OFBI9MFs5Pan6Iz1pReM8OmNQPvjfYTvhewc9nvqCPrN9ID5AGpQ9667OPshUrT6ugHU/0T1vPjSgZjr6o7A+gnc4P7QgCT81ffM87z1RPvnbyDpPoY48WvTaPDKDHz5rwcI8AQwWPM3D6z28AbA80znbO+YECz8rypM9ug/lO1C5qT2PTgU+vV3UPrQdCT8AoI49aWCBOrt8ez0Djys/rBKTO+e8Vj0MWk4+Hx6OPUK8pj5p9jM+8Z2kPjJDnz7eazM+ta7iPR203D40FaY74ZlEPjzjnj6yEvc+CWByPikAPz+Ksn0+If/VPqzqwTu/MWc6ALH/PUO3JT5KC+k9nSj3PmvS3z33nAg9jfWJPMECfz/9LXA9eetiPiGyrz7IqTk++M+8PsDNDT9GYzM+CR0YPo6NAD52Wpc+6voQPNeMxTzR30s/7OdoP3Bt3j7YYGM+nY93Pk2KIzxjljc/HckgPLDaZz/+atg+BOuVPrzWaT6ILQI+0JzQPvZ6Cz8PYpU8svroPAB13T59lCA/2jGrPmhaQz2ufOk7Lf7cPoUdez0aZqc8G0laOlW8nT0YCLU9A8isPT/zkD2WS4Y7dtV2P7b+HDzM3QA/3DrqPQAAgD+XkM46Il+7PK1f5D6RXA89DvmVPEU8lTseOLk9bOpGP3xUAj1QIWU88jR/PnyJwT5EGZE+c/IgPu/UEzxLlaQ9jCFhPnORtTwFLMM+g41BP3R1KD+ghUM+nTlfPeR0Jj51hTk+mEgnPo/zFDwIpPI9UpVRPkZ4ND51F+89+LirPeADET5KQLE+5CAlPkM5mzzogPs90nrJPZ91gTq+5kY8uGozP2d6gT7piFU/jyQBPqBxPz+UVdI+mo+lPVqu8Tlt/2I/a+44PoGIdT2RSgc/60asPqrsQj9uCF8+HUckPljecTrDiSU+24bGPoFQyjod3Yc9XRU9PXEVADzyZPQ935XSPOlbBT9MGiI/nKKSPWN/2D69PLk8mSk0P19SiDz/dN48oeL+PMDUTj9UOIs+nf+dPpeC/D6cXsg6JrCuPsDSMz8EsKA8Mf2zPpPkyjsoGPQ+qd+5PggaLT1plEo+AjhGPuqE3D4ZkyA6mj1JPLIUjzvlocA9XG/lPH16ij4V+y85F13xPDGz7DyORH89TzZfPlNlCD6VzUE8B6C0PQzKkz4ay7E+UZD3PoKKUTlQPXA9/Ra6PjtGrztRMaQ+jA04Po6NAD7So2o8Bw8rO6QbcT5yIPE9OdqLPLkFpTryMNA+WYJhO4yGrT0Ak0A4+LPaPRkvLT/CKLU9QD0LOyL4MT5H8fE8Xpr8PrlRjjxuiII+vOl1PjMKsTsIE2k+1dczPDbyyz6KWug+rBqyPrZx9TyI+H4+ke17Pts5Sj/r6jM/b8UCPqU2ZD57p6Y5b89LPg4r6DpAKgE+WfzUPud6HD4jZ2s6fMGzO00A5TzpL0E/LJi8PdvEFj9F90o+hkWzPSDesj6yqa48INYuPnagJT9HnEE9KuULPh75ZD7sOzA+K39iPnu+ST6NxCc/w2//PcRYXz3Akc88pUmCOnO36jsKpj496dcPOLGOKj5pE9M7sjlYPfGSIjsDvac8/OTWPa4CUTtxEUo92vyIPNDWMD7nheQ9ZttMPd5uLD6QPiM/yhlFPsPB0z1O1l4+8JymPpae2j5Sl7g9R2YlPox49TjnL+87ycgOPcUWvD66blw/AACAP1mnCz+QkkU+17CCPlcrUD7Ucq47zW9fPxRkTj7VEyI+pt+5PDCs8DwbxiQ/gDlEPEvwgj7fCes9WQtNP1Awlj7GGEo+Nl5QParPjj05dWU+lP66PIzcgT7iutY7DC1UPWEZVj7bULI9VIVwPRlXJz40FKE9pL9gPgnfgjtzr44+zghsPWkJjj5eBJk5A7fuO1GKyz3htOE9j5v+Pdojtz32eKc7yfEiPtEOFj/7mpo+AACAP2eeWz/ldDQ/PAw0O02ZOz5/7kk7sWODPiDNhT5Ptlw+F40fPjagVD5q6II+XhzWO4mpGz4ATpY+tlqNPKc8uD7JLCU9otQCOqV7fjvxWVE+crVePE9sdz9v8qA8RjtvPVdeEDtuJQM+h8s+PFhWLz86384+1R2gPAYUQT4rPoo+6IMBP4J5mjpu1pE+4rBXPvkwQj9evYc9y/MyOrgYHz0hfuo+YvjJPr/sED+71048kiADPvmLIT/+jAI+V7e2PDNUNj3eA4Y9phV6PnROoj7n/ak89pmpO/2gcz75kgE/gPDVPY+FGz64Mz8+F2kPP+ubLjy7jQM9QpIYPR8VlTvw2Zw+jY0oPrAFnjt0Bhs+zQjMPT/FzT3GA7k9aL73PNAoVj4yHjs++WALPSstOD+gYlc/GO8ePuL1VTseMJc+bBANP7jxaj1pkk4/GNkwPMV65DxurBE+gf0kPyKWOD8Q/Zc898n2PYzAvD7Ases+aYERPdUGeT3uyG49fm4sPqNnPT0HE2k+CrFTP2nn2T5Dz7o9NUJaPs5ZzT3tv3E7FAJdP1Jzsj5Y6Xw9wg6MPWbOCD9PLqM8yv8QPg+Bbz6UkiY/wq8sPnxdKjxzCDA/yVg1PjTHQD7LiUU+wRm+Pf+HXj43xwQ+jivkPhZNqj6pWQo9RPBsPcbZJz/Vz5o8TRPYPnzfWT/zBks9ia5GP4boQz8j8w4/+agyPNhHPj2ak2I+tPPRPbHsez4QXRI/4QicO1qjPj6l960+voCVPmifwzt4rLg7c488P8/Tdj96+qQ+u+HcPmfU4jy6Qug++KAAPWQXAz8jEvE+r88gPEBHsz3gw3Q9AQayPUFjBj/NEV0+8vmsPhA7GT653Gg+ZlUMPgvoUT+LjpQ7/0V1Pk5Irz4SuWc+lUUHPvJCQz/U6kU9SqYAPi1/xD0mfn8+eykYPe06+jyW8mM+/iWOPsnt/z47TRk8Li5OPyrWAD4eLbI8tFvcPrShNTzauWI+YzmlPow3bj7ueAc7ldJEOgfi3j4JDVI9W4k5PvjQ5z75Yj0+2HmVPSnKpD7ZsA8+9GsuPRDnSjuqt9U8m06vPKcBlT4BP+89RYufPPRrFjpmb8E9BRIXPtu9DjzvviA/jjjOPYLvoj5tStw8A0hePjYnBj/21EQ+7QIOPr00tDrx+4A+8YmbPZ+jBT+XKLM6tMSMPTBZPT8l0oQ+bXsnP9anGT2YWYw+IKdNPnYyNj2WGLc8jseSPFGEzzwBAAg93EejOyStTD01Cx0+rFkoP/kvOz7LUJY7OdIbPHOTpzs2WJc+TI6LPohFBD/vYlo/RqvPPZ3IxDzSFRM+m4eNPSWVXT4u/VU/AjxOPqXwPz+0axQ+MyYKPyK8Ijwkb7w+rDtVOz5BFz7/XSM/EsxfPj8GLDkAAIA/tQ1YPm3gPD7pD549Oh/sOk20fT3PHos+YIdNPWEXOT0sZys+tHWEPvAvxT6T2II8DZCtPFeoVz4YgLE9dWRHPnga2z6cxAE+HNUgPnnKezz2xVk/p1J1P4jn+zp+xUM9f2A9PlpPjD5lqwo8tCRUPzKjozwTQSM9Vt/HPumzXD59i2A+ivU/PhymVT4J73g/671gP9vXqT5blvY8bAfdPVY2Gzr8m1k715+vPdh8JTwZNnk/MasXP9TxVD2uEsU8nOAHO2d7LD8aKdU9vUCIPjMQYD6zNDM/DiWJO3dKtz41Tbs9xTP6PjfNmT0tE7I+/DEWP99GKT0RcyQ7QmaGPp6VDz95K9c9R7mlPdyOKz81GBI/ZhkUPBEoujvwIwI9BaO9OZKKNT+Fwms+bOtGPnjSsD6qnCk+TTWlPoT5lT0qCyU+Ic2FPrHVmj4OmhI+A8SAPh1otD5yusY+bmDiPipsuj1juLY+qp+xPbuMFj4XnZw8GjGjOxAwmj6FLu0+lDstPMFE/D6PjTE94HBUP32LED4oBQc81rmsPi3xMzw0Agg/TefwPNfYLj5e/xo99xqNPXkAxjyWpdg+pKj8PaGleT9DSAY/udwAPZdgGjz7z5A+1djKPhONcT91vJU9Fhb8Pe5pMz4nMgc+CDk+PynSAj6ik4A8y6gKPkzf9D4CS4I+A/m7OgYGkzs8eiw/0rJxPnXEQDxiMRY/nGedOducGj5qIXM+AACAP0wQFj+9Ayo/aaHuPZiZTD3qD4g+8Qv0PkUcrD1/udk+6mxWPnqrhj4CMks6T2ghPTlkuTygOrE8L0adPjSi9j01Tbs9fkzDOymxij24C3o+NDuyPjpGzDzZBGI+1lxVPx2xQD1b71U+DV+zPvVOtj7KOzs/SoVFPMZMRT3Yxjc9HJydPcdJrDwSzF8+dcpdPtehCT8hdyg+hZIbP8DJEj/RPW8+MaHEPQxvADu3P7c8UzaIPrGnRD2ZhUU8iMHgPcP2bT/8jo07R0pHPtOfdD54gxY/zDSKPel4Nz1oBQA/Q1IqPo3gKj8ZNdY6aD3uPlraUz8Rd6Y+QXkPPwD3pz075AU+1BgGPvJp0D2nw5A8C4iXOotuID9W7Cg+egNVPjIzqj11Fqk+WEg2PXBbnj2tHTA9RVTIPQuzzD4Ogps+A8DHPSu8DD70gVw+PP+GPiHpoDvBx6c8WaFPPLw4YjsOe6g+gg2MPkj1Az1YwCE7otyqO3ZGoT6KGqA+DJuDO+nmTz7U9cc+QluYPj7Vaj7e7Y49Ei/DPipPQz9HeBk9NxEPPiTCMzvziWs+7hMGPj6YNz9Y7y89n4C6PeQgJT65fVk+1Qf3PoGBkj2wYyI+3nQJP4j1xz1Gn5Y8hMcaP7YJjT0mmTg/HfIFPyiYwT6fqAc/uvkxP6nulDxot+0+105DPsz2rT37/zY6k/9yP7qTCz07W4g9GYxRP2Bn9z5JHnM+Ab5MPmQA4T4TSe0+qI0FPldJkjvXFew9mKwtPX0ntz6LrjA758d7PIJkFj4DoEU+TCnxPZZK1Dzlxwc9u42nPqb/AT8bLBM7KIrHO7yfdz13WpQ+aoSQPrymHD7ZnBo+rV7WPE2MSj5wZIQ+OGKbPqa8hT7GRuQ9kmKQPsNSCz6PTkI+lkssO9b+UD2+K7M7GeQEP3x9eT9Dxp0+LGK6O2Rb8z7vBn88WZ4SP5dJKj12pYQ73hWpPCfGIz+cdGg9b86ePSBIlT2l7U49cycJPwhomj5udro9dM4TPmf95z4U/s09BzpJP+WYfj7cLh8+jm+HPev4Az/5C+s+CCQaP1OvFz+3Mkc9ILcsPFiz4DlNqwg+a+pIPDsRBD85PtA+c0rNO8ieez/J7ps9HH9RP0D90j4vBqo9UrwpPgSXvD0b7Ao8n3ohO9DlTD4H59M9NrKuPOqCPzzBZR08fNT9Pjhh6D5/cKI+jH6jPoUM/TqHwJg+Zu+EPu9lkz7joQ8/ouexPLfKnju8Wsk+800hO4hGIz9yssc+2ZwaPpX9Fz8AAIA/tRWXPQA5aDwufik8Co4zPplBED4ZtWQ+BngGPUjcaT56xxE8toILPTuMWT/Uqa47p/A/Pjz/zz59kzs+axMqP9YeHz+HWrc9gQERPpVXoT5RdwU/O06uPe2xjj0evD08VhwNP+oOJD+xLhs+b9M5Pvxolj1bKAg/+NjFO/NEwT0UvVs6giv5PQ6+pT7vQIo7ZPduPWyBez7RQQ89/uc8PGu1FD9sIw4+G2IYP2otcT2m0fc9F75rPsbQQT7VQnc9UwODPOv6iD1VC1Y9G/gsPSUcED4yTis+dAjtPcDJEj9rbB8+UZ0/Ptjk7DzuSxo/RJ3YPkyBeD9Xn10+X47cPrn2uTtIPig+tlqNPOX1eT8w9oc9EbPFPT2pLz5trFE9zy/3PJbzEDyqDrY6BiF7PwLxqT4sNDM/ouM4PVP2FD8fjSM/DzatPSL7iT6TWJc7zVMtPim0Sz7CwAI/LQUHPDPIBD2QeaE8gMLkPqbLmz4EdEw+eyGZPgVPOT999OM9hPEmPXIImDtlIJs+qBZrP3+DUjx03XM+DqEcP8j5ej2dGDQ6eSYwP/WYDT/Bvx0/B3pJPZ/RxT7EPeE9cZHzPGP+9T2kqDw+ebuKPEmDuz7u+T88RF+CPmIMuz2D0xI/+ougPbF4lj6/2jw9tQuqPfrOED4fYNE6UkqWOstnNT0U6xk/frVMPgMT3j1yqDw/Y+2cPkxihz68eno9FaHCPh1D1joiVJo+GMKPPaaY+j0z+G8+zyLZPGODSz2zi0s9MJy7PX55TD7RPW8+kAgjP0NmNDyAhvQ8TCuHPbOuQT/KJxs/pf0iPnuIcT4S8uM+C5+jPifjBT1CZoY+Ed81OfukMj24Yqo+9tzPPg2Q9T0Si6s+ul30O2N2Mz4G+7g+5mBpP8pD6DxqU6w9+8rIPlxNCT9qjdY+0gM3PkOjLzubyv8+9HtQPDa3RT2WaUE+vgd/P9pPKz8rCc4+Jr8IPpZlDT5h7QM8hUZEP12Onj13iO49TahmOz89DzvB8O08Qf+QPnHYAD3p5Hk+VAVJP9LJYz23oAk/0mnlOotO0D4NBDQ9WdUlPtSGzz3rZqg+8Mm8Pn8Z2T4AOBE+5jd5PvtezT2fmeA9h1O/Popwdj6dqsw+Egr0PUP14Ts0a+s+lW3rPW3KFD4TPxI/BYpRPzAMmz6h+xY/QvCsPmN8zD6UcRE+9NAGPQzFjj5HCA49Yj4ZPQuXEj7DZVk+uZNtPfTgJD9wSao+eBrbPsLIJz9SEiE+lPSrPYZrJj/0rh8/HFBbPuICJz7fLKQ9wCXMPtlJszoDtrw+hnNmPtOcJzqhxBI68T//O2nx9DsKFHo+JsQAPieNkD7i1Qk/fruMOyG8czzD828+ZQLqOlsZzT329tY92Yb2PdjpwD5zgIY+AACAP5kiAz7O1iY8XjpyP0lxXzxZwC0+G94YP6nivD0p+E4+1fjfPAfEJD/pMBw+ECsGP245rz1g8U8+aqqOPu0PFjx24ss8eGv8PUq2zTuC/IE8e5bfPNDucTuE8hc/sur+Oh0yyD5BuqQ+QUvqOfQWqTycj709W62WPopWSD/lnk8/zi+ZO0KGuD5VuOs+Oj6FPSs/2j01+4o9fL9zPnUsoT3uRVc6bupbP/yFFD+ksi4972owP347IT4Kclo96nYpP1uohT62/II+MydRPv1dQz7xmg8/3gzqO4aydD4s40k8jdXcOlCzYz3X1aw+GxkDPwvuHT7I/xo+n3OtOxxQuT6WtA46dYj9PuMfcDpwJIY+TCqYPpEgtTp4bQE+oKMkPqgd8z1RA3s6uJyXPqXuAT4Oh0A90UimPk4hiz4iyCU9obNxP3aFAj+G5Ao+VRTRPkHUoD1Msuw9HhvxPJTQhz6AaJI+h7I9PKxBgT2m71w+LqPhPsS25zyBTqM93k0OPgjDnDqDAcw9DYFvPhg2Qj4a8g8/EuU4OzAegT7hrj4+qggFPOQOeT084RA9NU27PXoA5z0sjUo+VVorPzmaDT5pzTQ8pAShPUqSQj9u/J09RFqIPfnwAj6P5cA9Y0mQPZYvvz0axac+9+iZPMldoD0DUpg9zBSWPvP7zT6+Zn8/CnyLPt5DCj56aLU9+bWhPf8YDz2bKT46yplgPqzEHz2Fk80+rsnmOnPp7j510N0+xLmMO5rTuj2qsXs7CF3APUffND0bmlk77yeUPJ8QjD2+CL8+9tXrPo+YMT6f/Hk/LsmFPmMgEj5AZeI+JhGpPhhzGDsgFT8/aRkGP8fGLz+DEc89mhv/PmuuQj2MppA+UUqPPiTDoj5Bi3s/JnuBPU0YpT5bDa4+//YlPeXPHD/Ki/M+e2JkPSCnTT45Lzo9CB32PY7cSz9p9jM+hPIXP3iRSD4Gt6U9NUVAPsI8Gj5lDxA+tANDPxfGRD1ykm89zRZPP8+Rqjl8gDw+5eAnPj/bHz4etoQ+aStUO2zLVz5Gn4I89baxPuu7Fj7Vg788hgwjP7F0gzz9Oc05RgYkPxflSj84mEY7kLR4P+pUIT6qFwg+8kvpPN/LJz4Q/Qg/F80EPyU0cD5zib8+p10aPzptSjtB5wY+AZBvPPDQuT5zH+w8LNYAPpw/MDumxN4+E+x5PSaNnD7ZApk9oAhUPQAAgD/qy6E9APuPPS+2PD6J7RA85ouGPuxQIz3KE/g+J0CbPGNvqD0OzHY9ARq3PlCeLD+Tvyc/A4JMPi9BcT1uG9I+MmnpPn9mFD6bSMU8VT0RPKX4XD7p/SU+Hd5IPaaGuj6RMTM/j4MoOzsIIT24W4g+0b/kPrLx3TqTp+w93lXSPALPjz446hQ/JK6KPE2oET7m3/Q7ZDJXPrTCOz/I5ZA8tqbgPqA+Fj8c8kY8dC2kPXj3ED7JfTA+ulA6PmGgnD4UNa89juWWPvx8sz05j0U/OeAhPV4J8T1vkK0+/DXTOtmeMT9mvhU+9sm6OnJNQz625LU7XXNrPgmq3zrw0P48QgOLPb8SCDws0Hk+CHaKPZ1HQD8yKTQ7SDzwPLw6uj4P1FI98Uo8Pi8eHj//Slk9U/c2P+Pq6TyrQyc//e9UPhxv2jzppWM+e7XiPi/yqTsMmew9wi1mPUO3gD6x/4k+GuNIPtyeBj4Wh0U+I41SPAOBYT7ea6s++ZARPjVq3j7gGco9KOPYPoe8Sj7M1CE75CAlPjxe5DuEqxo+IUnBPl24JDwiIZQ+P5zZPihSWTzEF1A8AACAP4Rodzyguc0638WpPeo5Bj7xLJA97iPVPvrUADx2aTE+FB8EPkMLtDyB1Ak/OA2gO1MRKj7NMCA96luxPntamD6IJbU+NZxPOaN1/j3TIQU/sHOlPWlKZz/qyGQ+WP4eP9uHVD9mHh0+Fu2SPNbT4z564y89f5gIPxVnED7xEv4+vohyPVQNpj6FUNg+B7C+PsYfijuLsI09QWRfPijJGz6sySg/nS40PjGw4z2HE0E/p7lmPpFfiTvpGpI+tjEpPCvCdD8kNMY+TStpPbBHaz0Fqw8+nLuaPlltnz0OI+096jQdPU6Fkz19PZo85OAGPZSGCD2J3cU+HSBePGQeOTzhdQs/4151PznWHz7iNow9u/6hO3UybT3L1uQ9oecfOz4SvD54dKA7QGxlPu2nsj55+zo/fxnZPpfNqToS0yY/07DZOyL9LD0CkUo7r0t/POculD77hw89XlTzPI5hvzvQg+877YzdPpLCKT7/Vig/61t8PjiVMjxTpqM+BbK+PtG9WD6rENc9mR6APuNApD1X9oI7fJ9yPRan2T1E1EI+yUbMPqVL+TmocFE+pJwSP4eqpj4X2gs/ty8CP+hujD6xxwA/WO+EPqgOST9dz+M88h/iPvLrtTo92Js+KpxlPQAAgD+IsHk/H0qTPvXirjzJFKs83dcLPwIgXj1z/hM91YkCP5pfCj/xP/87DTeUO1Fz/z2YqR08oZktPljN7ztTvgg+dKiJPjlzJT9ct0g+AoiXOhujGT7dsEw9Kef0PAGQbzyIil48djHbPaCImT4Fvp09WfkZPkt6Ez/g5CM/zN0AP8IXHD8Koyc/k+WNPkFzBj3mna8+WAKWPohdET8drq08v1MnPI5L2z7ECvk+oU5MPonl/j27wn89Lt27Pb4xWjtPixM9D91EPHV/mj7j2Kc+PjukPu4KjjyPYjw+LaJGPRRkTj6BKM08BwpGPYE8wT4tdXk+iNUvP4X/Fj/A8IA8VXLDPURTuD5scAU/xjG5PLwQYzoAAIA/6yahPmzPRj7S0IM+5uSgPSAsRj953d09/EVXPmaYNT1QXWU7XtYEP3UQAjyRLLU+6nM0Pph8qT3tHyc++7FVPoZUhT7+ZbE9lGlBPjLMPj0zI8c8GnBAP+/u2T3LPio/AACAP+DxVjzkSZ08aSSzPjU7gD1UBeg67IQuPq/mwzxaS0Y76tnAPCQ0xj7KJ1w/7tWiPjKnwT18V0g890CdPRqFej6Augw+m4dSPObPFT7eRgg6p6bxPuWkez8IjHo+XAskPDcKXD7E52Q+oVMPP9hgmD4dkKA5Dv5qPyxUYj3Y07Y+nkIXPlbqqzwh2pM8M9OwPRKvhDwWoio+7usGPgMGUz7nMGI9KXMzPo56hT0+w3c95/8IPvBwnTw5f2k8BJtxPgimsz5+EsA8bkb5PSSm5z645Jw4Cyy1OznZNT5qIXM+H4fOPbHM8j0W0Rg/B0QXP8sJdT/wRe4+fscEPwNSmD0DOwM/ASoHPs+QGD3HAVw+pAdqPo7oWj8E+aU7u9MCPwAAgD8nocU+c0kUO1hZIj6Z0cg9n3ohO5SIfjubMqg+Uph4PbbmuT1rmcY83/l8Pr1BUj3lPIU9nEMlPPOsPz8NWUM+pidoP7nFRT48tRk/IiQyPK3Rhj1EP08+fI8UPTtGrztCneU9pSOJPOg1sT4dW1U+cMhYPYGQHDyBfPk8qjtaPnrimD587/Y8Zv0gO3vqCT4HhbY7/FUdP+IOoD1y/94+aGGpPtTSuTy5+o48RF9tP6izBj28MOg9tc6DPhy+oj59T3A9ez1LPtSM5j5zG4w7Y9ibPoOrlD5fulk/IM2FPkJmhj4qBc4+uGQ5P891PT2JoIQ+xdlkP5SOlT42nSU7jEUDPzpGzDzDPhg++euwPsjiKTt/qok+hdQyO0DMXjzuVSI/OiUgPwhyHj+wKSE7AACAP1dAijk5bnk+59ZKP/V4uT72z7E+ZV5GPwVckD7bzhs9lmvMPF6c9TvXR6M7nNx3PtGfsz0A/mA/cbAFP+hixD7eq+E+5pj6PReriTwIQRU9EtMmP7r0ND9sRuM97ZsyOp66cD48zA8/ea4XPlAndzzOjpg7gclKPDVF/jj0RvM+zrkNPz6XbjxhKxk/ky1NPRcnNDuJicc+GsSXOkmIZj/ayLE+W+e2PkNWSz6oFqc90lmVPlPutjz8jeI7gQ2YPj3Mcz1dODU+2geUPo+7ID4BegU/xDxAPuHrBz2u+Lg9NFUKO0IRhD2NK/8+iMb8PnbsNDyzLYE+x7iNPC6nWD4AAno9SSFpOp4I+DwjU+U9D/gSP+hVXT2QF3M99UVSOyoIej/HsYQ6oXyFPP8C+zw1z4c6kbkQPU5ujTxJ1Ag/H2zrPc23+j3+UTA8FxFzPS9caD/ZPUQ++T1cPnkD8z0w95U+X1hwPcXyVz4yRQU+4Z2FPSmziT3/NWI8vafLPtH0JT59fe0+1WKhPunQQj6W6+o9w+hPPvb38D7WMXc/UTmDPnuLSz4CsWo+yXduPt5eZj7mLVk7AFusPac+sz5RpM89KgCuOUBJ5jy3Yqo+RoGzPZ90aD1CZ688twgPPVeaXT5Ow309CrghPrlELz/XESo9p12IPnBqET/OUK480/XQPZ+HDD7+Pi0/4vXNPBauqDwOBYs+CGSDPrMOFj4UZE4+xwFcPmRccjxN33w9RW3YPjujXj5Afws9piNNOpvCMT/kCn440URoPFNB5T0AAIA/xmqDPrGf6T2oF4A+HWVPP6ojbT08Bwg9lpmFPiXJmj6LVZI9JMIzO/wqlT07tcY9P5J5PzLqsT31z4I9b+m9PSzEIT9qRuU9CBNpPh2sdz+fCfs7NaJfPs0q3T1Vr2s9nkIXPuNZrD51f7Y+YWD4PY47eD9c6mA96vlzPC3+3D4kQVw8lGreO/P7Rz9BUkM+B34DPFUjez5c4Mc+r0hVP6UmAT97eho/04k1PmsqCT3C8SQ/bHcAO2498Dz9rBk+rs4tP1TmNT6xbBo+VPuNPoT9uz23qiI/euobPuG04T2Vb60+ztnRPU4a2TxBglY9zFQePoxdtz6koQ0/2TMNP+9HhT4k9Rg84rtkO/OiBj1onD89M4HqPjGQOj81xLM8Bw4WPf+7vz4q+Sg+f2R8PqaWCD9F2NE+puvjPNaPAD9JTOA8YK+OPrgguj4rlVU9bnMYP9aJ7j0t5rM8ywOUPs3JPD7A8aA9dbMUPyoseT/XD7w8vz9lOjKFrD0qUTc91pXAO3oSGDxPfjg9wGDMPrD1dz6hBC4/mkiTOTVNuz0d5P88jImhPoUaGT1MTo49mbyyO+h2rT556FU8M+XqPAopzjy6Lvk+6LCOOt3XNT3k1w4/w8ghPIdMuz6TaUE+88vJPXdd7z3+xgk/xjUkP+PHWD098LE83wnrPS4cnz4MSBU+OlRFPj3KlT6vNbY7hKsaPkLsGjzRvAg+LnUXPcqZYD6raOU8FWCtPovUkT7xibI9QKz5PUyvwTrijyE/iClePghRrz6cE8E5cwcbPoTo+D5vn9c9HwDCPuACeD09Xf0+YdQEP2dRKTyHyDc8cl7JOSQZQz9J4qI9+pBlPmA0hT0qnjw9+PLGPdeMxTzeLg0+2ApAP/Wljz0Xky8+S/99PPzCaz6OOgY/vDQoPAUp4jwXIYE8ZoHDPg+Bbz53dsI9idNwPpURUT5m7NU7fgG5PdFEJT65dS8+thu5Ob2rsjsuUXY+5qLsPS020DyRVMQ+a6yaPTCFvT6BlfI+KuxFP79GzjsMdJM9DcTOPNkOJT2pO9c+51gyP0OrDTywWY8++O6aPPTaMDw7t788x4OYPuM74TybM3k/vMfhPHIhWD7Rxb0+5yWSPUxkmz3DqVk/NJgVPygrTz47XJk5Gdk/PYBmFD79/kk+SnqrPX7zyT5lFAc7b8OzPCvAfTxxvCY9L2iKOeDV0juyaSI+xPEpOmFvwDz8iw8/Rt6tPlXFtD7oORg/ujTqPQAAgD8mWIE9uqWUPgdZNj6C9A8+tca7PsiHdz7FIdg+BAxNPhl9wD4Dxgw+KPF+PQw6yz7/jVA9eUx6PgizqD5niw4+cZq+POTyaj4HJLM6/m90PzqHsz5Ir9E70WxTPN+Zcj9eRBM/BOCqOk2ZOz6f0/Y9Pe4GPjKDHz5QuNQ8AACAPwP6gD5mKb4+lN17Pvhfwz4cOEk91eQJPjqvIj5tBMY8N5+tPa9TxT6GRck6tvWcPb6JAD7F0Pg7592oPbvSxD6Iil48VmZ4OhWTMD5iWAc+XN51PrFWJztDJSM/JkXBO2mzAz/+Gv471S5TPjFXez0PGWI+f0YwPlAMwTpd3Bk/13aaPtX0ET0CKAI+JKJLPh2NTT5dDo096gJyPml5rTwYJZY9F1mjPWjWxT54ULc9SNGTPEGcBT4ryoU+peM4PYIp1z53bPs8pMgUPdjGPzyPlg8++bTKPEKqDj7LXqE+zek7PGm95jsVl+c+YYCiPmi+qDoQXtM9v5cQPKmNRj8lbTs+H8pZPnHcoz6d+oI+j4zwPrXJLD18dgY8mbqGPizAND3rP+88JgzzPPFzHT7OC/87r+hMP+AGzT3o0JM+OwfaPrF4lj4C1do7kkRbP4pSuzzYKQU+YhCgPErS1D7ntUU/zrItPZzTBD6Mb4c9tgyRPubZND7uVyo7YZqfPhJOpz6qDcE8Pe4GPhSywjyxZIg7XY6ePXW6Lz5mT+k9nz4VPwgbvz4IsVQ/kboTPqr4qTspeBs9LxI1Pnai1DuhN9w8fE71PVr/3D4R8Uw+QA2EOkqvnz0s1Uk+y2/gPX7t0jraB5Q+FZl3Pd/P2T34yes9MKx4P1QF6Dr7KeI+XMKfPCUcvT32Qhc/UkEjPyhxID+jfBo9A7GtOj4AeD5sAgk/goy+PS7RSj8LJTU/vm8kPtN7yj3dSbM6+/jNPvoUXT35BSk/HG3ZPluUFj9u8zc/1CWlPmx7jz6N+OI++prjPn1Kwjtzclo/LbtuPmHSDj5Fvqw+Y2+oPfSW9TsTRp0+zNO8OVxAODoMtBA/LwsTPzhiET3yRxw/UQIJP6TCeTvZq0I+Tf1iP4Lgdj9WaH88h5wSP1Xz+Tt4Ehc/TUP9PCZZAD5ckwY+2xABP6uQaDzvfUo7elZfOnv2sT5fRWo/cQ9wPoCNhj0rojk+/n8GPs7lNj1xe4Y+lImjPty4xz0a8AE8WLxsPRbWQz8YVyc+feKoO/xC/T6gP0o7bHacPfjxxD6LjiQ8duMxPuyVdj4IDOs+hDFDPQ7GSz+MnxM+COfDPhrYaT9yKY8+qPiVO2CPNzzDZnk++3UcPjLugD3lo3o9RaNkPvDIGD3cZCU+fJkRPWLUvT1j0t4+LpBNPWTSsTyv1QA9eVsKPprBdj1YohY+Y/Y1P0pNsz7CMyA+r8E6Pzp4UD7vhPs9Pm5sPqjF0Dr4RSA6BFRQPz/RAT/W94c+nhQxO3J7jD4+EwU/Q93yPvEMYzpSpnc82ZwaPvL8JTuduEM94ivPPvnmFT6u7Fs+25qwPqEx/z5FN6E7PJ5uPZjhDT5xh4A+vl1KP8LGLz2R/8I+eUpYPFxtCD9j7Co+Uqj/PQHJjj5egoU+t74vPjcJBD8OtuQ8pU97PmFczT2Beog8GmEJPqUImT6T4CI8joJ+PgOMuT7BHpI+9C5lPgmaTTvUz+s9S0cGP3EQsz0MgYw9gD3FPJvCTj2SAZE+p7RmOwXv8j48lfU8KdEFP7tekD2W2DU+K0VcP2KCJT6u0EY+sOm3PJB1Vjw+D9E9kG+HPQz4NjwLxf09smODPviXLT+/pSM+lxbkPgF9OD8liig+n64APyog/j7MzqM+LWb9PdmJ8Ds+3qA+zra1PQf7FD1I0uc+PKAwPjsogT2lUws83lKnPd/COD/MsRk/MZJrPiHx1T0XQAA+GmIHP4OjMTuo0aE9mabsPS7DDz+Q/XY+m89APv7UIDvrMlw9Zba7PjrSBT96JgI9fgy4PsjipT6nvOI9j9c7PSlCIz4xWjw+wq8sPvgCbDyMQEA8/3AYPDleiz1H2iU/2kOhPg6RET7UzLI+M4lhPvstuDksO3o+irplPMVEKj60DNw+QStPOigaLTzyFMw+BZcpPcVT+D24tdI77ak2P6bFMj7emjI/jo/aO/Egeztk/XI7dRAxP+lu4jw8nm497jaRPnHBsTv9JFo/eVUSPFkKiDp3owY9b5koPb2VTz88HPk7nuEbPrticjuC0lo/CtMjPV8iLD9AcHc/XVL4PhdrwD5DivI98oXZPSGH5TssgUY+nlP/Ptc8az4RvYg9BRU6P7l4iTsty3I7+D6nPqbFaz5qOJw7IzgrP+UWbDtJ+kY+M1wePxWWqz4ZQa0+3zN2P8h9MD4Y5KY+buAFP6yAuDq6tlw9wPQ9P855pTxuS5s8i4jwPqMSOz77Gpg+iAxTOz0N6D70N0I+Ct+NPidsnzjmNQs+w49mPyfdJT6WO2Y8GgyzOmfZMT25Ksw+vElKPSLbAD+sPvc7xxdMPSJ0Ejz5uhk/Q93yPhs8IT9Y7vI+x4U0P7/kXjw510E/KuZvPLFqOjyuURM/ZslUP6+pgz5rxxk/itBEPxl/ND4q3pA98UTBPTXlTj4GXu0+Q7GCPuzojj6FKqM+QVebO5zeEz3i5js/XZujPl0xNT+Jomc/VVgCP6nKzz3+rag6HALaO+snRj6DXlI947KrPv6qyz7TNZ0+rchNPsc9Lj60u80+pH3iPgSzDTsISUA983AOP3G2jD6OUWY+gI2OPnn0oD0O9FE9lizVPJ02qz3/fAI+it8BPBQHcD0zQPE++HSmPuRzmzqUpto98lihPlZWUD7NWjE/04osPtslgDukyHw+0RymPkhuDTul/eE9WTLwPfgfij7/oXE/42kkP+3/LzvaQfo8Go/MPcgSID89NBQ/afGUPvt/CD4ymAQ/Ps6cPi1O5TvzqPQ9C73cPjs97jxZbZ89xa2/PcjASz1L9Z0+zMMRPhmy9D61pgI8qevjPEKvhD1PlGU9RJ43PI7ykD3xAJo+alBXP3J8gD63MeA8WNa6PHNAxTv5aYE93+zSPZzYOD9STJU+T6h6PT2aLD4U6mk+McsKP4wQKz98YYc9cgoWPGkKSTuc1Ac+wfwOPhL6Hj+QLnI8hwOIPfKqgT5MMzE+cQRyPkNhwDzjrUw/XwAfO+3wvDv0XaY+omkVP13m7T7TPDE+UjEaPn1NRz330nE/hs/YPDubnD33JZ898kIUP8sHkDz743g/0e/9Pkp/LTuV9kc+FFejPq4CRT7ENiE+dox0PMdy4z5WJgg+snElP2KbgDtcWI49AACAPxXDNj8hCIM70rMzP0pIHzvCZ/E89USoPm1RQD4O1548ZeZ1P4U+uT26HFg9LoAmPZcXVDwMWXY+0WsnP4QRyDvuvRk/9jD8PT+XKj8CZMc+qEzSPo6QgD6JLyg7QZ5SPr8wJT4xB7s7mdnJPpMjbz1pFjA6nlUrPXPqhT4aZwg/SdPfPro5Xj4QKRw7CS0APtd/Oj6z4jQ9jovLPt6fND6XWso8y9QsPbQgCT8/GRE+bEYJP+miNT8dNDI/nCkKPkus5T7Ee2s+Dx1uO6URJT1Y1xw8fClxP2o33z0VIE4+stD2PGdOVz3biJU9L+dCO+tUIT72lxU+YczXO8zjCz9Cb+8+XpQtPkC3CT5KrDg8ZTNjPIe8Sj4uRp0+JqaoPvZ1mz0QF+U+qrKtPvP/AD28vss9qLsKP5jsOD4Wk/U+HAyzPmnugjvNXnw9rdKSOocUFj/Pvjs+HpVuPE5/+joZ62U/OegMPyffUT0jnJU9UGlRPwqRFj7w9dU8HTX6Pszrxj42py08Gz+2PbeGCj+Ymkw8QGIhPn364jw3OtE7fdQ3PxTVxjqWUeA+rQkoPprVtT1y9qQ+KJzPPBAQcz73wJE7dusNP5NGbD61f989CXNePW4r8DzA2L87SWxXPbKkGDt9Was7fvPJPhp61D08Ezg/NejmPfX+Yz99O4I+37mHOyahnjsX4Js+mRasPlV2yzwypmU/dMFpPB8OXT2ulac+0enOPsdXIzwiXo4+ln7jPS+uxz1AO78+GzlzPg4VcD1D4Zk62ePaPqKp7j0nwXQ+wV0PPyfqNTsvZo0+4T//PQ5Sbz50oD8/cQBPPnGFrzzzRME9TTFlO/i8VD5tU9Y+czEpOpAMqzyFZ/s9Fuc2O7a5kD5kYbg+M9uWPmFRFj5GIB4+gU9fPw3rQj4hKpo+ldgtPrNN/D1QBoM8oBXiPcbMlz65tUU9js6RPjVNfz9cr685n5KhPdRlUjz7pDI9sSzdPdoaqz44Uhs+T5k7PsJc6j1xPis/dnq0PsKMRD4nLAg+lmQ2P+5XKjvTPhQ+sSyPPPyDjD5JM649Ewx3PT/zkD0Cs6w8KDcyPj3fFT0vx5A9lWYRPMGQljnTIww9M1IfO9rKyT1NP/A6CaqoPpOpxj4kfIw+mtVePvl63DnSmx4/WB2KPAlawjzO/+89eTI2PeQdPT/O2JQ94SwiPSkJwz6vu8A+KjI8PNu9DjzXgpU+qmF5PwTMAD9md/o7d0ABPNKAgz13Z8M9vjORPuGXMz4gYCU+8iEqPInzPj0O1Rw/ebxlOutIHj+FvTc7HBlZO/KN2DsC06Q9tL0vP3MfmTuG1V4/Z9MHP2rSfDqZSxo9x7gtP4+o5TnuJZ47PNMsPo2VBz40LS89WZnwO3hDaD4CtY09GinVPXOs4DzWSbM8WnuLOoMnvT4QTgA7BVg4Pl1eKj/WJDg+KjiePXdVGj8788E9EsxfPosjjDxhIoU+p//0PQDceD5yaJI9ptSxO5Htez6DNBI6Z/YzPlEXBT0XzSw+QmaGPtA8nDsWfbc9n0IXPtHq0D6lBzo/BJhHO1OzlD2d7Rg8JiTiPOoPiD4bi0o+N44GOYAPRT1BxOU90OrkPQ3FSjs6dAk/G5CHPZmGgz4pLEE9/+CHPdiemT5FVUk9357uPj7HHD0dn289pSOJPAseZj7w86k9MC/0PQgeVTqWDU0/XyW1OZTORT6XvPo9HEaDO2PiYDy0DhY+wFb/PWh5TD2CvJ4+zL64PYZfHD4fE0I/dBS1Pd6WOT0AkCs+Yc4BP/5p4j5yHk8+0pseP6PEFz6wozk9FNWmPol6pz79qxI++t0sP3FIlz4FmzE+iB25PbdAAjteDjo6G/cxPj3ixT7ksgg/1d4sPuL6MD+YSpY+R+tWPhmAXT9kGbU+RdioOnq5jz4JO0c/muXZPgZllj7Q0/4+B4dOOnChTj5zMDM/XE38Pc6vbD3yJ9E+6q09OlpETz/WwUM/z0dhO3W4wjxyAOc+4U8BOzWrgD6S9AA7dlJNPu5XKjuiOk0/qg40PoDoFj0qt7k+7q59PTPSdj3qzvE9XPUPPr1gCTyqxGo8ImGoPtliUz4HggA/76eBPibLjj5RELc8gJU6Pe06+jxrdAc/rflyPmYBZz9I1WE7qag7PXPqhT4BQ0I/+fHGPIoZejln0cQ7MmCsPryq0zt1r8w+P03iOkL6fz5x+fE6tYNYP0mePj5nzTI+OiJYPn7vHzy5dlM+Hd2xPc9iAD1DoAc/RqvPPQpjQD/6FVg9WRMsP3kmrTxklRE/yIJdP1tsDT5VzEk/0aQSPO9T3zsRovI7bB9yPafNkzs2Ux8/A5xZO/FfIz6Tlgc/O8kTPw+wgD2R3wc/WTNVPrbAAz5zc5c++asZPrQPMj5ROIs+jq1WPtf0iTxJpZA8RUh1PkVf6z7XWSs9XDTRPqu2lT5OvE89bYkvPmFbPT3j6eE9d/Y9PiVYUT1UYxc/bjabPQH3KD5zZ1Y9SAYnPMfbszxau7Y9nCWAPqFIDj+dI1k9740GPWNpOTpyhfI+59XSO6tZiT64C3o+fr73Pay1qTsyyBc86If9PjdFkztGwf0+JesbPf1wmj5KueI+ySfxO+x/Vj0VvtU9qOAAPS1rBjxAAC49DTr4PMVzQj1dOuE9WEWcPa/I3T2i6ic9z7+UPtkQwD45m9s+ASwqO0vAyzwdywY+oWrQPYkLxz3yhac4qvYuP7jG4D7wmEk/ZUiJOysdyzlDuAQ/pM4ePa5SuD40GP0+2OgiO0PloD0FnDk+QtWkPgAAgD+t53o+aW1YP+ccpD0vG7E8r5EoPgWccD4GV1Q8SVgBP9kk6T6HwNI9jHbhO8fEdz+7fHs9o0hxPhNYBD4g6lI8zR6qPGhsLz+tsNc7N+UEP3TQXz5dEhk/pckSPeoZuT5liO0+fe0BPvY+zztJtC4+rchNPlGayj6YM1I/l/oOP47B4D3V1aM8LwaqPXu0xz2f62o98/sdO3vPRj/sLHk/5NVfPlx8/z0rVI49bwvOPRNhej+kSzM/0YDFPQlF8D4cUFs+EjWvPR8u5z5ZSQs/TmIjO2NbJzysInQ9STa5PvY/gT5+EoA+KwKIPOrDWj5qOEI/5R9bOwJkET+gVqk9doPrPcKNwzwHhgY+WAKWPhLO/D4BU/I+BLLxPkv7ij5dIxY+jBmpPsH3tT08Wps6ejn/O+u3kD6pFzg+fn6mPobV2TrQ4g89ZG3NPgAmXz5lAKE7hyjCPgIigDnvMqs9aMCdPSyCyT1sBuw+9l8SP6f/9D1vZis+CCOjPp1bZz9rZho/MKfKPtqWlDxD/zo9dSElO4oxUz70Qjc/dmUBPu2qYz8D4+Q7pc+WPSPW8T4lk6k+OLcqP9SkmD6J7qY+V2qAPbjaLz7KqkI/jJ26PJprjT5CoUs/Gn2ePsezHz77YrI76rtyPiE2Rz78EaY+VhE2Pvh0pj7Ki/M+QCx7PnUCrT1OakI7y+9OP+qEsTwpBz4+rYa1PhRkTj6Xx9E+yQVTPOuQDD6oLzM9LPPLPA1rWD93Wwo+Tp66PatSjD7UwG46mUIuPYfYiD4I4BU9SOEcPCfHND+mNOY+FydhPMWtcz64py4+nfGaPnsuVz6U5uY9+lKMO/46LT9HuaU9cEvlPPjSdj6z7hw/icU9P+knRjv08mc+btJkPIGeNTviw007Gr0iPrdqVT492XE/SHLtPXXxPD6eKP486OaQPk3gOj5u/J09SXZvObK8uz5HpRQ+EdAjP6uQaDylNmQ+mAD/Pc8zgj2hOTk9dd0YP/0Yaz6tF845qeK8PZL73z3F2A8+8GsrPwY39z1MN348PpnjO+2E+z2wb6Y+s9j3O21/Uj/lPxA/VChhPugL4TwhIv49r8ZHP72TNj1Uryg8UclzPYz06D5WQS8++k/kPA3bET9hrqw7hnmlPq1coD3xmHI9BAhPPbOa2z7yAnY+6KuNPtQ+kT4ouBA/4PKdPXOQiz08iZI9bt/lPKhriT2ZFqw+U0WvPfj1nD3DIC09X37WPdjgwD4aOVg+eeSGPeXpyz3UTzE+nO+NPpGpmT6/ncM81veHPi4Waj6OXuw9Ge2gPZgAeT6gzwA95BvyPtfuCD3Jq1Q/2J9BPeptND2u/3A8o6E5P62x0T3UQic8qeuHPqI+Uz5lC00+BSs5PiJh0z6mhb094F9CP0r9MD0eEYA99T7wOJatQj8h6Sw/swObPr3yUz0c+TI/tAivPJ/jmj565e0+dvPJPf/g5D3lnk8//n6UPddC7D3BBk8+u6gTPTt3AjybZZA+GRk3PIyMNj9VLGU/zJOKPaO/QD9mPm89JRKTPgAAgD+9Ja48+DKhPaySwT3L2K49eOsRPu2+5zyjPJE90kbCPdDmAjyD06w+uEuNPQUACD3hicE+EW8/PltyADxgonU94wJNPrt3dztu8Dc7fJaoPTij0zuGcx8/8/I5PVL0rT6Boww+/9TuPMKmUz5yn7E9RC8iPxTOizvsBg49ElCtPewMkzrM9pI+qiNtPY6YMT4o/pA95kidPStCnj42LS89YTsVPyCZVT0TrWs8j1W4PSInDz/MVq49pMwVPhd0bjsCJBY/lv39PsWsJz7q5zA/qX3qPh7oKD6jjNw94cd8PM05Jj6mm2E92WprPsuoCj5i9HU8fKaSPgTZVj8eDUc+DvvEPkA/zz4ZFrU7uIwYPdVOAj3LR4g+I7jHPnO8nz4q/g890S4IP+CJAD2AFVc+SG4NO2JzHj+SyT88QFcXPTa+HT7CjcM8MALJPtTkhD5UlJE9QGgZOkh/mT6lnGQ9yO8fPBfA6T7hOII9HEztPuMs9T7FqWQ+Z+S2Pa2wAD6pm1E6lOrQPuyQRjzx9yM+AaKEOpSutD4qKFo8hPtZPrDruTwNH749A/o8PuCwEj52hQI/e+QlP1MW/T2+Pus6dleRPfabND52ILY+vkbjPchMxj1c63o8MzWEPi7SvTwqAK45X4U/PpPCpz2SZcM8G/muPN0lgD30vh4+ae6CO7XzmD7gfB09ue1LPkigizs6F2c/BbaUPiv3kT4Eiwg7mDgOPsQ0ETtYtUY+6jbdPuL1kz0sz9Y+uQD9PQQMkD69MaQ9eU1DPi5jAT/Q3mo7EtIaPReHoD1H3YQ8PxLcPO7naj6B3Qo/9fD5Pgf7Tz3kY58+ZxZUO6B4fj7846M+VMWJPb15ET+gaDg+wXBdPnQmzTvYB9w+UnJ0PPpSOzrHFMI+aYnBPf3+FjpFTlo+37CRPeuvMT1QNao+sUnVPo8vMD0iRkA+5/y+OeZ3/j13g5w87YSxPEMSfD+IwIg+0X4pPwj0mD7AYMw+voFlPt6y2j0tEIQ+hhM4PjmMgj4TQ+s8qIqAPQWQSD5ws6Y8l06tPRpEczwEI5k9ewe5PgzKUD8k/CE8jVu7OxPBPz+B9r46xFPYPHt54T0pkI88GFhnO1PdFD7zse48mIC9PuOLEz67eF4+n9+ZPl8+Nj+aYcU81H3aPv5Tcz/vn44+NTohPa1ZAT5bI3g9+ukQP8+QGD3mbd482ZFTPZDDcT1GIBc/s46XPhUXhT5WvUk+y1CfPhOXtDvVuJE+ZUMpP6fHET+w60o9N/mhPg9m6j1TtVQ9y2qZPJuueT6KiEc8MgyoPGZf2z6B4zs+FLrYPO3WIT1S1+w9Tek6OnplNT5Gvrc85CjiO9jTnT4NvGQ+iaQHPhfbeD946xE+i0omP4nWZz7YyL8+xVTbPT1Y0z41qC4+Lx9BPF6BGT+GZrs6o0WrPCrbpj6raZU9DR++PTbZEDsm8fs7qTHlPkZp7DsT4Js8YMSrPIAyRD5bZNs+gnmaOso9Qz18uSk+1RwbP0ashj4oHDI/ayjkPI6jBj4/gi86Q7kEPrrchD1vqiY/jk0lP4BzgT7jWlE+dQ1/PuqTKT9sy1c+hsCcPlKhwT47kuw8WMNQPl1sAT7hNHg/oQQuP1CfZD30Piw+D8s/PU0PtTwBGaM9t5JUP6F49jst6jU7qgiUPlDwET2mcb4+wxV6OeWyBz/TDEM+afEFO/P11Twudxk+803yO4lz4z2RJFU8OS4TPmCp7j1R4cg+gaPWPoIGfz/zGvI7xB2XPiAGYj6VeI4+Xh3BPTxQaj5D5Ow6kNJkPrQx3jzw3h894BOHPm9IFDwtwrs+pRP6PUlftjtQ22M+yDkoP310Gj7dgJY+OU8NPQLW3D7ZyKA+xSHYPhNEyD6hk209WJdLPTWQxD7CU70+DEUMP9VudD7EAOg95oYHP58nYj9Emj4/JV0EPJSq0D7mHWc8UCeYPqy14D4ZcXE+TNFRPUAUNT+C33c+9cZ4PgJwaj8d1tM+9vHDPazLNz8MRX45kPR4PkqaHT4+JLs8dKMYPpQdKTyrfdo7+asZPqP5TT2xj8E+hvEFPzMvAD0PVc46cTplPk8+uDsoFYM+WSD5PCkEQDtarR09dn5RPXZ+Hz47uSg/ppUtPXIVvT2/P2U6YdJdPsGrVz5hGNw9KBltPI7zjT2hDuI9IMOnPapqYD5f1iI/exgPP+5pJzxnug0/tmUYPgrgMD71Htc9YPlSPJEGgD4rlBc+5zVqPn+52T4b7DI+ObFKP8//nDwAAIA/qq1VPn7J4D6oCQE+5GAjPcdXSz07dFg+mqk9PtaANT5dZ0s/obhKP0OGvD7Wi6U+chO9PlVwXD9O+Lw+c8NZP+QZyj3momw+94ElPYq7gz7fJWc+K5ggP7LKKT9Ft5g7JRJSP/3ngT6iC+Y9nh8VP1UYXT0H2FM9w8u+PtWTDz/kOVg7twpvO6S19z5o9q49cMndPnUw4jybLS8/pjW7PCKQyjzC1Ro/U1KuPve8yTxMdzY76TvpPtGbHj8jme4+uBhTPzafrT6k17c+mM8DP17JADwL4d8+c0BjPXbbFj4Dnws/VSsSPvlkpj06G/E+zfjdPvupKTtUglE9kY0JPu9nYzzvv50+Ft5GPtZk2T2C33k8v6UjPn6hITs1qYY+01+cPF1ccjzFXOo9QoUkPX8Oez30Zw4+TXI9PrfT2z3TvA080iUlPeJDnz4IE2k+bB8aPZQ8Pj5m1/U9AsIpPCpyoTxTMUQ+RZq9PflpgD7S/1k/Lg95P/Rndz0q0uc+mCpaPlG4Az6RMgg+cl0gProcWD3gE4c+li+9PDidgj0AAIA/iB25Pfhxtz0l3RA8sPipO4whYT71aBM/NL5gPf7Y4z5DZQI+p2LUPmNlAzwBDOI978oEOTZVrz3HmmA9G8J+PjSMTD7D8aA+950GPjtQMjuSET4+Z/jjPeEDzzwAAIA/AHVPPRdedj9XpuQ80zYLPmfsyTzhKmc+NAqoPnxAPj4Gaes8/51MPd4p2z6FXLg68S21Pe4HhT5Tz/09uDM/Pioy9z0aPRg+vBK4PXBRpjvEL+8+TzIGPmLc3D5WkcE96P4RP7eRqT5uAVI/JnHFPZZhXz5OevI8yBOcPIEUwT1Y4xg95k/EPfP9Jz19Jow+LnIZPtJ/iD2o3eE+FF9fPkPRgz6a2Gg+v/8DPusD2T1pWh4+d9SMPqqFBj9KlRo+SOL5PstMyD4wR6k8LyLwPlDxwz59fvU9rReqPdwGCj3fwlA+YI54PwmSdTu/Pu88OxEEP7Jjgz7IXSo+konOPSGlGT8yk68+oO3ePaPxuD7TgX0+IbxzPAI4ET7T2Dg8+FcqO5BsTD7R1iI+gnTHOLGnRD0rjZg+unz9O8Ihrzr1S9w7U2aYPr8rrz4nbJM+SAB3Pj6XbjwumTU+ktgbP/WJYj39C4U7aHlMPSJkQD9LH1U+rWxxOpAKej/g53Q/CuDjPuUfjDz/26M+dE6iPlDzQz8BcgI/H4++PshqHD5dRrM9Co8/PjRFHj/Jg4M5NRAPO/WMoDqwa6c+1QPaPWJX+j5FCmY7RhhtPM7GZT5V59I+nzoXP9R7lz40oGY6Bp5TOk9eJz5t6AU+fhTBPS0EbD7n4m09dmbUPl8bljyR3189iDctPnipPT77gms+1DBzPNWtID2jalc+XS17P6RpNT+NS7E9AACAP4ldWzy9bUk8llhpPUxSED8K6KA+xG4APXYSjjyfHgE/LjwLPDp1OzwAAIA/YPFPPtBMlTvzYak+p/d5P63nmjmMU5M+P9VOPtSBez7z8w8++XYbPzxOXj6lMlM/vMuLPpeBYj18qYY+4jOhOzQHQz7P9QY/tipEPlkefj6msx8/ETznPmaQhD7j//4+z/UVPXM5+j7lKoI98QtOPuUXAj7Cuqg+oNjDPiEnkTwKYDU/g7kLPm2Asj5lwTA+ltitPQA82DtPByw/M8lNPaA6nD2Evqs+cwYmP5FWwj4oNQU/RTA4Pm3+/Dza1zA+QWycPniV+j4RGT492GcYP0GP5j1rv8M+fEyrPpAqVD/Tr8Q+j4j6PpFCET2MDYk98gxBP5oehD5F4ic/wXt0PXXk8jrwidQ9y9zUPcbbUT2xpxE8N23oPq8nBj47K808QT6FPhC4iTuD/2Y/mHu/Pga6Ez7gIzE/QGQBP4J/GD+7jac+yzFVPtGXlT6DUx8/xSHYPhTlpD1cHKw8z9l0P0SRYD5X5Ts/2ts6PiGKYj1gQuQ8359XPuO00j3Rh3M+/gdmPsCmtj7oUQA9AACAP2UXQD7mWng/rfiPOmfzqz6PCFY/cUiYPgQ31DzCSvg9m9ufPCrlkz5qomA+I51DPge/Ljr8Pi0+rmPYPGDQCT7MiZk8CZ+jPGBCLTomdto+73EyPdNUBT3Od3469bWCPQEkqT4A1hk+MH7BPiUdqj6hLTU9avmXPnR+zj1iYoU8lBO1PHZWQj4UoYA++QvrPpxYGTqo1bQ9opoFPg+YaDzwlA0+QlasPZqs6j7zRME9/c6zPVxPIjrvBb06No/6PAYdejwuAjA+8dlSPoDtFT51Njw8FeIoPUAITD59sA49GHbnPq/R0z0U4CE/+Es1PxdYJT/rlec+ccGxOxkKkz6cSBE5AhBMO/qN8z1ry1c+WFeCPthhsT4aYWM99C4VP6PQEj8mlR0/7eekPjot8Tz+2Rs/ZGu1PrWLoz13Dh8/n3W3Pr6Puj4JrF49aZoxPs99MT4k0K49jiAOPSuyHj/XNPU9p+sLPf/phD4I9xs/SBtgPgkuGz1YqUQ97GnEPfKlkT2GwSI+vBADPx6TLT6jScg+GUnHPjvLNzyFmxg+EDBsPrwAOj7Vqac8HLgnPs3guTzGeNI7lsF2PaBI6D497gY+/jNjPg4voz6M2FU/cwvTOwt2BD0yBqo9b8DwO6OAJz4UG3k+q7gwPW/hCz/b7hQ6tbeSPQOErTvmLMw8RTyWO4ZFIT6BCeU9kSAQPR8XGj6xgMc+drWXPosNOD52Uks/SKCyPLJBpj3bMVc/YgeMPQgkGj9NnF48/E6aPJ0jWT0VoTs+9I9SPh2BnT4AAIA/Yq+qPZDcSz9mpJM8sYnoPX05FD8qiAc/P3LyOPCvXD7YrWM/A7ZTPVowij4UxBY/CShUPjezcz8GM3M/2nKuOxDnSjuhnVY+c3mBPbiekzy/fUY8ToVpOgzrUDzFMVo78ZDePRDnUT87m7A9MNj/PlbD/T4SSMw9mJhFPnllGT2GwJg+jx4GP6WO1Tviz0M+O2tWP7kHej9FukY8BkymPlTfcD7AYyE/8KsCP0YCoTu0D14+0sWAPti9Dj+2onQ+rlYOO/Z4pzsi8Ec97geQPCBMdj8Vbnk/WX/IPlM+Pj4UzQ49kNvHPFi0QT5WTHM9ZOlHPRWOaTr/MVE/dkIbP0m2wj2Ynqg+MXTtO/b/Mj11Pp09qmurPc6KTD/AXXo8ulYiPytdzD3cdMU9GpzOPX3eeTwwGLI7sUpzPSV4wT4KyUw9PemPPWO4PT6sASw+6Gm0PtM1Qz7SJEs8F7gEP/jy6DmFVuY9bk6BPWHIsjtdLn0+fFN5P3LTizzrkpw8pok5PuuidT+aSCU8X544PaUhiTqGeSk/UZrKPn3NtjxET14+6FHFPYW/YT1FysU9dHXtOm2CkTzNgEM+IYGPPgzFjj7Efw4+IyDiPWpwHz2RDCY/Y7W8PqtdyzweWzM+wIAtPbFDSTzB/5w9hDCCPvcstjxTY8Y8Xpz1O6j4Nj7WxJM+y+MLP5eAkD4EsAA/ZJN+P7Fwmjwyn5M8goSsPj46uT6Z0cg9ljuXPmHQQz9yqFU+Aq4UP/Is8j4EBBg+d1sKPjk2ADwET6Q8+ZARPt/T6Txc+YQ6IE33PhBOADuxp0Q9jiQBPhLMXz6fJSg+lM8KPzbkfj+zEX8/APX/PpDofj8sJGY9fnPpPP+NIT20FGU/XKQaPiedEj78hnc+s8luPs3Zbz46q4A+pZ5GPzXNjztNw9w9n84WPrVN1z2LXCI9vUXzPd+Pqj5HOhY7fkxZPtL/ED/Lmw0/cYG6Pg//Mz/EctE9Vu2TPv3IqT7ot9Y9p4UwP9dqaz4kPTQ8sjE/PpBlVT8AAno9lmUNPup1Jz3zsJs+CY/CPIgC5j1RzHY/2nOgPXDkCDzTHy8/mZLEPrY0bTqcwnk7r0gAPyLNsjuWllc90HPHOwxbTD0BCQs/GinVPY0XTz946xE+me7RPOVFszv7I7o+X4ZWPup75juK9xY9htRBP++BRjxPCBY/qFznPTSYFT+B4CI/i/ygPIvqjT62CLE+p12QPkaQBD5NSJY7Y060PrNWAjthgR49y1CfPoaTjj2igDY9wLy6Pf9FdT7VHts+aMnTPqt64z1Nlfw98CdsOW3WNj/d2aU7s8eWO531Hz5z1w4+IZ92PhM/Ej+eELQ+oRwRPK8n+D5Acxw5yi3GPljN7zslXFY+QfQAPZGMQTzJiIQ8MwhEPoGvXD462yU+z+4XPrfYeD67giU/rcaqPYjkED68EBo/L0dtPIYjCD7RqZg89HtQPA/MXD9YyAs/L/51P3K6hz7pGIQ90tCDPuq58j5xozY+8IUkP4p+ez2/kxw/z+QnP0LGoTrmkQs+hB/MOw6qQT9WkvI+9iQCPXN6RT0XJ+Q5qY3WPtVXZT+IngY+WyVoPPPnAz8LByI9tM4APiAlsD1kt8g8CmJ/P86trT1KZ3Q/NduQPTp/MDsUc4w+tisiPhnXGTwTS4s+9I4WPIAGPz5pLsw+gGLmPXA0ID8QENc88L9zPs8ptD1O74w+XsMkPn8iTj+lpmk9pZyKPlLheD/CXik/revjPL8ALj1SsoQ8ZF2wPibUQT6vhxE/O0xxPlqjKj7C7uI+XWU8Phi7hjvbDvI8z54VP13TKj0AAIA/byZOPifTMT0amDw/doCvPpQCkT7kGz8+aYbpPXVY+T0ynD4+OvmqPeR2FD9CVns98DMDPdIa9D2Kzk0/KY1SP1AMEzxCQwg+9RuZPo+QgTt0TqI+8tyTPoh5BD6NWIU8wEa7O4AfCj5ysCY/Bx4eP4uvpj4DxN899m/fPJG6Ez67+5I+dd0YP4ba1T2PyG8+WTCtPaUpsD0r1fs701gfPaKXqDtnvZg+GtjiOUrHcj8erLs7kAGNPtHUgD2LQW89cLu5PsTWZz2agW49yIfCPlTv4z0r6Wo+kLpFPneHGD1D9L49t2I6PmA+rz5cwe48loGJPdzvgz66jo0+rdJGP9ctgz4Hh046XoWTPhu4xT5JTOA8dmuxPQVAKT0UNa89jsUnPA1d+T7bSWk9QZV8PgQJCT7z1v09oOwiP7OaoT4CFWA8w4W8Pu+0kz56GKk+D3VBPkBHRj5pSCk+mX/5OkRTuD6a07o9bGMjPOzKxT6kLyM+70cRPqUIfT0dGMI+BzGBPZiIWj+KNLo+BGuDPPcjLT79oQQ+KSoVPbRqaD3hHBA/xFPYPJvElD7/e0Y7dFE3PSCtBzykyHU6Q0b+PUiqWT5hjv47rNrcPOkhFD5jvJw+nmW2PkcTdT2VKSY8eBbhPtR2wT5znCA+0B+lPS6btj1yW549Vyd8Py/LNz8UZE4+g3EZPz4UpTyvEzY/OQHOPRueLj4kwbE5h55+PmmEkD0Xmw8/HBJlP0kafz/fJ7I7zPHIPqs8dz/qceo94HJ+PstMez4n9g89ApxGPmvLVz4Foxw9JHCYPB5oPz2e9FU/AACAPwIgXj3G7jw9PdfvPkRkXz48U/Y+N2FtPkftDT7TnCc6NYkBPpq2STzY4p09S40tPua2xT2aTFs6Le4ePo/QDTt1EDE/Dm0NPv7P6D30acc+vfQaPbi3gT1mGMY92YsUOrfyoT0HtVk/yCuRPudSNj/nX/o+XYV5Pj8sqz6nqyc/ucgEP05R3T6zi8s7m0/MPaPyszvZuuE9vga9PnXcXT8I9DU/JY62PcUh2D4s14o+8kWjPk4F5z6RRGA/UH5ZOziXTz+c5yA/Mc8FPRe30jyJa3Q838wbP1BSkz20uSU+q2jlPJZlDT63fHs9J9CuPVnVZT/oCPw9H8MiPoweHD+5kpY+bTprPqMkJj6loSs+c2fWPrDvJT2EESE/k8yYOZyE/z2W/f0+LsqUPbIt6D4HdRE97aiYPvAcDTzn2Qw+tisiPg1uFT0xclw+VwJcOdewgj4VXKY+R/ApPqbk7DuFRCI/6UFoPHbBNT6IbAg+QiM7PwM8lzgQuq4+V+/jPaQLHj+DnYA++ZcXPjxVPj8m4OU9z8/WPqY6tT4vIvA+qXfSPpLMUj6rIl0/CNGCPG0KJz5N+5I+C4iXOqGzkz63N4I+QE4wOCsrZz/oz5Y7i8/hPY7ayz59IZc+GJYJPxAEUT5TiBU/foaWO0xl9DzLo0c+/GljPM2VKDwTLUo7QbFZPXAJuz5yHMg9fIB8PSuHtDqwLTo/oI03POIELT/BHIk5fSlmP9sguz7ErDI/x5PXPEdVmj3cQB4+C3ltPmJTZz5U9Hg/05lVPhU8DT2ve6g9B4HqO9ziQz7rFlQ70eYnPwxtBT96lCw9UQDIPNZy6D5dC6g+8vcjPp2E3z2nVpk+8I6dPvS/iDtAuuU6XI/+PKvOoTwNplY8FcFdPJuboT6wdLQ+QpbiPitNoj2ocxE9MZl2PwFrKz4vXZ0+l7UyPv108T305Nw+AzMjP/qsHT9Fxzs6k3ELPL8TTj1JdhY+mMQCPN6mPDu7ieE8J1xmPJ36gj4dUgU/xPtFP+cHbz29pqo9+sYLPynXbjsx0dY6S6x3PmFzGD8aKdU96aPhPEirzz0sDmA+Ni7XPCfGIz8zN0I+t/SZPgKzjT43kL0+y3ZYPUMvKz6fe24+bTAJPdnQqD0LUNE+qdtEPEP3Sj7HsGY9y5nrPcsxjz4CLm8+5rqFO0PHBDvWd3w9Dh/sPsQCeD55w2Q9Zx4dPlHb8D5kAB87Rqf6PFMgezuyCK88vGYlPTsRBD86a3w9r0IOPo9+Tj8hZis+iE3PPusSHz+R7Xs+6wD0O/6pVz7KX2s9hTC1PVW5Qj8Lg587yx2dPttNbD16myo/MSt8Ps55CD/s8rI+YoRnPvZaAT+9CL8+mb8RPsgyOD7SOTs+EuMLPpgpOzvOd346hQ67PTF98zz3Bz898RzpPl3oID/eaRA+Fxa4Pa3x1j4bIv89xI7pO11LDD6YpjY+VccEP3w6Kj8CrPs8H+cnP0WbOD42bJo+dyMQPim4kD0CiDI+RJUCPtxlJD3cAb89bn97O/n2Lz4Rpgc+PGQ2P762qz3M4Mo9F6FlPlafcj+lhGE+kPgyPcQ+QjzPa58+2U/DPl3oID8RRrE9vvDjO5NpQT7ZYgY/fS3mPizxHz6kL908AbtgPgBXFz4IHAk+ip1LP70UWj/oqPg8XKffPX9JbD5gqaQ8xA9QPhvdpTvN7ZI7yVg1Ppe9LDwdfE8+FfcwPzVnHj7FCuk+Yw3OPhnKljs4tyo/TRilPifYQz+7eXU+ufAGPq9OpT1NlqE+mp7DO9RA4T6VcQ49rQzXOnJYGj9/e+E9yKftPO+L3T7E27M8+qcLOpCeTj2GaYo+36itPBZFNz5UlMk+sFYpPypsuj0imM88AACAP9yjTT4pNis/90VpPnIedD73Gfw8o2J6PYJ99zzRnww7A9NrPp9tOD3JL+87JBAxP8JjNz4mysA9dzyHPW7ssDwCNI89UTmDPrBSyj08tRk/NsHDPnnyHj8HCzs7f1jYPjmJ7z3Asb0+SH7TPfNEwT0SlpQ949wTPrAY0jzHwyg+aLSnPfMJQjtfiTI+Sx9VPkDMcz2cSak9ZqIiPj3iWzyCp9U+h31hPntPvT4whBI8AACAP4haiD7FPTo/s14tP70Ivz4zujw+Ok26PV1qND/nfrQ8GXZZP5d55j7AquI+u9tyPmKzjDwlhTI9Us+vO0EqPTy5psQ7V7cgPYXzJjxjFA0+m2gCPlUx3z5oebY81CCTPRHXnT4459A+F0AAPj376T5wje4+LwaqPW3saT5pmUw7tcGfPCUOPjzV5Q8+BcJuPioArjn8eCM/8qbSO8iSoz26g0o84fAOOpVlAz2SEOw9GRGvPn23Gj+eoB89rI4wPVWRPT09/vY9wOanO7w8cDysuws9E5ktPjV3Rj9uH5k76jFUPPl/5j5aJfA+Dh+cPnEbxD4tjhM/dxVDPmVVGD9m8Rk9pFhYPo38xD7iHko+jyQBPi8qrT4COEY+41AKO/jW6T33yMg7krTMPp1tIj8sm4A82e2KPuN+tjvgqR4+fBUGPZxH1z73PV8+XEqrPFA9cTtJGe09uYKIPpPHHT38s0I9hPi2PSqEbj4AAIA/9mORPiV9QD/sD4k7TQupPB9KMj+8x+E8egDnPb56kT1FukY8LX/EPev/5z4/eD48UKgsPcaIqD2CNxw/B5xdPv1nez4RSxE/v1IIPmghcz7CrMw+2SUfP1ipBT6XxXM/ampNPvuUgD6Aq3o+bCMGPVJAizzp5MM7lFcYPq8Qqz5HxcQ8mFNHP9lVXj4vo7g69WY/PmECGT6i+8Y+3qgMPgc15j3jADc+L1QFPZ+KVz3ZabA7avnxOhqPzD1vmVM+goaAPvPZUj0UXW89oAolPiRNNj2L8hQ/DZXKPpMlfD9qaDU/yf8lPFG/IT3pDUk9SYY8Pcfzgz0BRnU+lX6LPaAYOjy5lDQ+7n8lPQv3oT447DQ/V4kiO1aoHj9YApY+4/ZdPbTEjD1YApY+WBKYPUHO8D5yW549hVbmPXfatD56X5M+a7z8PYC9zD2RO64+F3XGPcB55Tt2tZg+0wpzP8n7qj4SlOs+HzMbPxNARj1j1J0+moVFP7dWAjtDdEw+f8+ZPkpNjjtuCJ0+Am8QP34VIz/7Bc4+/WzLOwZe7T4xO9Y+1s9IP7Zmhz3ZUds9JAaYPQdJVT5wR7s91MYAPkvEEj4dBbw9OMEbPXa1mD4Wvgg/wdf7Pr3KnjuxodY9LCXpPZWwZT7uLnY9OJgCPTyebj3zTwU9O78TPvsUlz0F+U0+W4+hPMkkqjxMn40+we1LP6W5PT/EbgA9TGW7Pce8Uz0bYjk96Q+ePaT7ET4hWjU/XeV2P15BWT+4quY+H6xGPhjykT5iwD0+5FQ+PMiYiD1VsBU+PmBoO5wSzzsiVYc8HgdZPigE1zuikzE//Zn3Ph5PAD6921c5wi9aP7j/iTwuqvA+MpVbP6+0Jz9LM0o/cCOVPYvKdj8nsgA97AIVPwcTaT5E6CQ+LNzcPoxNYz9kvbk9th/hPBqggD2U9Ak9yr8XPExwqjv0gc49yiibPGk5vT6T1DU9cOpXPt2osj5BPmA+/cQDPwAKBTz/lnU/TE2pPv97RjtyE70+ohTEPNcFkj6RmZQ8f4q1Omd6FTxgPR0/8QJSPugVoDz5NrU7I8prPqSN7j5gNIU9L2qQPtVdvT6w7gc9wmB5PKEl8zpxURI+BCv9Pa3KAD6DYco91QUMPmaQhD6NxCc/m7XuPlbRLz5Buww+Va9rPaBWBD/jN84+BgxfP6XjOD0FMEg+3/T2Pn6Zgz34h6U8YD0dPynoXzx1/Y49ZxBZPsXqCDnU9hQ+uxlOPWJ+5D7Bxjo4SCCKPRGN0T1+DUo+afKEPitFhj7nvzs+gIpyPS11eT7hpC49OWllPqNNiT7pK/Y9k56+PSb+zz7DNOc6+QFXO/EIYj15Jq08j08VO8gFOT1q7+w+CvvBPhtZyj0aKdU98UXLOvy7yj1QUck9LaE5PUX3bz34Jrc+EJSkOnROoj4i2BA8c6QQP1jL+T6coiw++c16PnUlSz6FWVc85rqFO+XUNz6j124/xyc3P1xxOz4jqvY8EjWvPTfJGD35tuk85BEWP7ccGz7aSLg+JbwCPplIaT2P4wY+QFkYPhg8CT4aB9E75KQ7PxZ0ST752kc+jkiePlBBvj4UnJI7V78IPhU8yz3252E+46OXPk819D2ahjo/2wBoP00B3T4Mn2E78KWNPvleDj3DGyo9Tqo4P8Fk8jxZ0Aw/6I06PsCA3j4nkGA/TPAOPqBawj16LCc/RqM3PrHuCT5d92U/ks6LPopBCTtz98U+wvh+P15EjTzzLhE+9DuAPtGmDjojR4M+mRasPlzgxz6s/JU+a3kpO8Zjdz+zDzI+WeU8PWPGej9sod49+VVgP7ZwHz/T47k9BuPsPu/kpjrlABw/uUc/Psbiwz3gNrI+f5cLO2CZAT+6oDQ+bOQRPnQrZj7j13c+n6sxPsN4ND8x1vA8KSi1PncXsz5Sf6c8s8isPi6btj1Eso48/a8WPuMJ6z1nz44+dMO0Ps+QGD3lC+8+iffJPhEkKT9B24o6rTCTPqJE8z1AKrc+PwsiP4hvgj5+YVE9X9YEP4eMuTsI+JY6sJerPN5iuz3gG3Y8JhrtPe32wj49iSk/LNYAPnaxRT+yclw+sAC/PHcFRD8ShFQ82vboPrEsiDwCIF49BGcyPf+GpzsgYCU+W2LJPCFrsz4sqlQ/VebAPvqLqz7r3jE9VMMuPhE85z6ixG0+snxJO/La9T30lrY8zs5tPBPuCjpGSxU+3cOBOp4tuT6XvvQ+LwaqPXCHgD4X94E881IIPw8phj3eq+E+jkyNPcmG3T6CJwM/ZxLEPRZb5T78m1k7wOLCPk34FT8rRM0+FvzBPSVfDj5c55M+3wsTPRUNIj81cwY+JUZAPh4UPT3cNOg8wBx4PEgVJD3zb4s+ywjyPr5UHztyU/M+xk9uPQAAgD/q6U4+quWNPRfNBD+MHpE+yOC5Pc7d8T0lWBk/zQcXPlDf5zr8OlM+NZlSPXejBj24t5Y86UKMPTNu/TyeaGU+1+R7PKn0DD8IqEE+HBFIPvfXlj348bQ+hkjcPkJFcT1wW549g1eCPN5DCj6PYS0/BtuvO/7cEz52L8Y69Bu0Ppxj6z7urJE8d8lHPwRwKD7YnBo+hgscPe+qVj6Frwo+3cPEO6W49j6WvZQ+XdXpPXfYSTzXC4E+v5R2PXtWwj38eIg+hOqCPoMkkz4qe6k+SUppPguIlzorvAk+qkY1PDCvwz7CXXo9l3UBPKpcvTzRxb0+jP8iP+bZND4zMLo88G4KPu8vxT5AMX89CkwgPnjQpz7jaaU9JBwQPurEjD6yxDw6rgUQPe7lRz0/MaI9/erhO2Mrcz5kIx8+SFvRPPXR2Dxsgr8+VpKIPjGxHT0RTJE9+y8/PtdSTjz/XPU+X9EZP7sAOj5g/nY8uloNP58WnjvILWI+o9NiPsB4/DwI5v4+PGFePvnBjD6mAH8/Pwt1PUJJNj4rn0I/A5xZO25/ezvt/YQ97oFdPWaeajy4S409bNfvPmbxGT27d3c788OHPLN/GD4Xgxk+bdaEO4cFUzwbNCw/ffgMP3NYKD5j1J0+34QsPoWpWDyO40E+d2z7PAYmdz4aKdU9exlHPUj1XDvRUvQ+JGTjPv3KHzw/Hvk8/aBzPgF0iz2SX589TzoUP2jyHjmjP7A82ZwaPqtfpTxGV289xUE6PwACej2hwlY+li6XPlJKljoeCjw+G3mkPjrvnT1CujQ/70NaPv0cwT4FzK491TyNPmrWITyIeqc+Xv4wPqqJVz1bgrg9KNT1PmJp5j6zDzI+ZjHePWeQhD6yJSM/PyLmPImabj4/fug74YlFPYHcFz7/B1E9v901P4cSEz6d+oI+7mS3OgoKnD7GTu49ygNDP/JKgT4dC107xaw6PyAUZj7wezc72nkbPzU+0T052rs7oiGsPc7DLT7+sic8PODNPIl1YT77V5Q9tMSMPSzgDD92nhc/nVwwPnNESjpW7ZM+zirQPeKSMT5gNE0//4l3P9kPpD07NKI+qfm3PQyMSj9O6GA/JOOpPR54AjzqEwA//q2oOlepJj8/Fo478VupOZqvHj/k0Pk+ngLrPjmaDT6Rc0g+LFHKO6cdpD4ODCw+kWlgPizddT4rCvY+XJ1pP0pKDDvRsi09b9aRPvmLOz8Weis7k/+hPZjNoTy9Mrg9ecQNPikHPj5Lkok+JKjhPqjnuz3EsOo7aRjBPuEJ5D6vKFk8my4nPeuTMz9zx5I7yuaxO42Hfj9bpUI+KH+MPg933zsD1go92xABP7lFlz5faVY9ow1BOwLa5zzw+bk+WA63Pvz18T0TRGM6NtkQO2a6Qz4PatI+fFMVPf7U1jzD26g+RwlCPsw8ST/OEzU+sf6GPk4caD2Icks+0nE0PhR1QT9G4xY6/zlzPvaXFT6fYdg+TPQLPgC/pz0iH3Q8bwvOPV3aNj74X8M+uGKqPuJjSD9MVFg/KssKPUXEbz4blx0+voaRPYiM4Tw+HY49XSejPlsU4jy4MHY+w18GPqidgjzXI4o9H3mxPe7AqD5qATY+zlCRPuJNeT68OGI7v8eBPqamOD/4d8E+VtksPrfT2z1/0S8/zAKAPixxXT/9riI+Ss5vPla74z0fXUM+Rd3jPkcqCD74RSA65auxPmYOFT1I1WE7zeRfPwLPtz6onwM/kyd3Otdvljuq+og8shM0PrMtgT7tvDI/7PNNPXW2ajyXLnI8jq4wPtIbzjuzLYE+t7NLPYocFjoLypM+dvIZPq6hID8TtXo7KrbXPKGjpj6QIBY+e0WhPhBU4D7Cakc8dOFrO3rbnD7oYsQ+W4ppPmG1jT1AFDU/ywHHO23jvj6cFxs+pfREPeI66z6yrco+6/XMPhQiuz3MrqI7CDxvPJrZij0HiAI9S9uVPZ3GIDodPl08Nc6LPmZ6gT6pMhw+S6WEPTrhej8+teo8847nPsBmeTy/HK0+GInNO+AfeT9B2go/KIurPhuJET9ZIZM+VGHrPX7GPDp8obM7x0yVOxWNTj+q7Ow8FVG3Pik6wT7i1Ag/4db1PSR2KT1/0K0+astXPhnMjj6Cr4M+j13aPal6wz1UZy08dbOAPHokDz+bjGU81mmlPI0bkDuUMyw9Rhd3P8X4WjtXmOU+tVuUPoKahz6XwvU6WS5zPRSGPDyK1E8+X60AP0+LEj9SDys+oT6rPFy+6T33wpM+xkjYPlHWKDy1HkQ7p5oLPQ/fuzpJE2U/HIN9PuYRnz2j6gM/7Qk5PtuWzz1NDIw+qzvLPZ5a/jyG/JE+sSWJPitJHDpGeXY+b4O1POW1iD6RYQ8/Q+++PtvlID4DdAw9JOAjPmmQPj6jqxY9zLQTPvi4pD7D0RQ71/uTPQDnNT5kiBY+CzNLPyIWVzpm0aU82rgtP9LPLj0e1Rw/1kA1P347mTnFo3s+7swTPob4xTsxWtM+GMeKPOHDcD4H+YI9XjSFPUi3Jz/liyI/ilSQPgKIMj7t4y48y3a5PpRshD5ceTs/N9MhPcy/CT6uQOQ9ZPEVPu06+jxkQ7E+bQdvP0LTrj1iLX88Q4wlPCa5PDsinfc9nUB6PzrTxj4njFY+1t0kPpAIWz/k4Cc+qkyQPlqbpTpfTwI/rgo6Pubxmj4xsVI91PmDPsJX8z1UDiA+TuD6PUuSLj7FbvE8kGaXPFsZzT361qM9TdxEPRlkgj7ciP8+7tVzPi6gQD2iHmM/FcFdPHF2iDz6F+I7lJGQPqPiFD40+0M7iG0IPnetjT1RIiA9k5ixPS9oijlu4hs+0eGRPXgd/j64ChM+ZwjpPEtvNz6wdgM9ZskFP1NVsjz6MxI6mXUUPlyiiD7CgHA+K9DIPC9JHDqfNwo+a6qOPm8YmT12BWA7O1r9PbV60T1qtEk6rKqpPb1F8z1bx3g/x8V9Pq/Qkz5JJ3s78p1zO+UT0T04+Uw+A40FP0IbHDsGwwY/cdYjPLklAT8He688HJ3cPSQypzs7X18+xvTJPKRC9T6LU7o9ZFxyPJTodD+c6g89jxqFPvwVZz4a9Xc9axR1PhNkTj4w1KA+1HWHPid0uT7R92g9Afj5PmHoKz/fGT89fFoIORXGHzybxdA6mb1oPazrOT5p/u86UPBVO/H5PD6ycgU/kmWfPnWFOT4Ay306Aq1xPvJldD4aKaM9MspJPoAvwz3j3hs9vkYUPUyNLT62FWA+f5UQPxnXSzw6N309O0avOyltYz66BSA9FRILP+6t5T506iw/V8zKPkb2uDvRRCU+eaCKPusI8DssD2k+9UhlP/6qxzueXHU9ovUaPnOKMT3MkYQ+aN2CPZQWkz2JmpA7CKazPgAAgD9OC3s8rH2MPpN+Tjt3ocI7r6iLPRmzaD/WYwo+AACAPyRqQT2B4Bw8RAIIPYIIlj4AAIA/NdApPZ2U/zpmqPQ+K/3cOQNSLz6dJ/k93H1+PhzCWz7GQa4+7h/8PgIEhj2PlJk9lv39PkLhgj3Y3OA8W4ppPgKRSju5lTc/KEeuPmf0cD7WMTQ7NwWgPtvfVT/zdZE+AACAP2Ypvj61TAw9cTcgPaclBj+dwuc98j/DPv4+LT9Bi6U7RMPwPtaSOD79oeA+LOs1P31LVj/G+zw9slopPiow0T78r+w+rJNOPm5HDz5nrm89+rCEPmYBhz78UU8+G3txPRiIyT5USOQ+QhQDP1Pl6j2PXCo8/rS+PfpNDT5a1NY+2pvRO163Hj4ZgBA+3z+aPcqwrT1nkIQ+wJTVPZ24yz5Jmx0/XVxyPG6Fhz5Wlkk8SApNPubLxD4YXYg9N3C8Pis0hD7LwmI80xvrOcEcAD+JVBY/SCEAPRhsED5p8pE+AjgRPpEIGz7yQsI+0s91PWtGbz4PRqo9QKlLPjhFOj1wh4A+8OwFP9XVozx+7Zw+FX4pP+Q53T7wlpo+BZtGPzGSaz5sZiw/bH/1Pmua4Ty0DzI+pAkJPy6MCz/gCVA+s0hPP4dehj3nXUM8g1MqPX+r4D1w5gM/V2QjPxBIQz48dxY/74UwP3BGLD5uBgs8TN+5PfSboT3YQw8/wfToPmIJOT6llUY+SAoWP8COdT9i+748A3v1PUX7vD4jCcM7hVbmPbyFET4DUpg9KTxPPuv8Xz4BpTI9d1sKPlTC0zwF5dg9otz5Pn4Iiz2GDH89xOuaPNtVij7uw7M8RnBfPnyy4j4qihw+zd1dPZACIzz+GOY9hjbTPV7+Jzws9Yg9gLp+P+xkFT/pXNc+vnxEO/TCxz1630I9TRsKPysuOT48MDc+STDRPi6ZUzuYDT4/lowzPqCFDD5jfJ4+nfQLPwaypT6sZ305Ht9jO6zRuTuTqJY+jxNJP/47xz4nSAc/yYJRPxTfuzp2C58+PwpYPr8oCD4s1es9KRt5PyDNhT6kwnk75mYtPXg3+T0ARas9pyNtPV7thz4G1Yo+8UTBPSpRxzxF2d89L0VRPVphtT4rFQA/ve0DPw==",
          "dtype": "f4"
         },
         "y": {
          "bdata": "AgEAAQEAAQEBAgIAAAACAgEDAAEDAgIBAQECAQECAgEBAQEBAgIAAAMDAQECAgECAQEBAQMAAQICAQEBAgABAQIBAQICAAMBAAABAQEBAQEBAAEBAQACAQEBAQEAAQEDAAABAQABAQMCAQIBAwEBAQMCAAAAAQIAAAECAQEAAQABAgECAQACAAEBAQEDAgIBAgEBAQMCAgIBAgECAgEBAQICAQEDAAIDAAIBAQEBAQECAQEBAQEBAQIBAAMBAQEBAwABAAEBAwEAAgECAQEAAgEBAQEBAAADAQEBAAIBAQABAgEDAQEBAQEBAQMCAQEBAQABAQMCAQMCAQIAAQEBAQEBAgIAAwABAgIBAwEDAgEBAQIBAgIBAQABAAMCAwEDAAECAAMDAAEDAQECAgEAAQEDAQEBAwICAQEBAAADAwEBAQABAQMBAQABAQEBAgEBAQICAQMDAgEBAQMAAwIBAQECAQIBAgEDAQEBAQMBAQEBAQECAQEDAQEAAQABAgEBAQABAQEAAwEBAwEBAwEBAwACAQMBAQABAQMBAgMAAgEBAQIBAQMAAgEDAAICAQECAwEBAgABAgEBAwECAAEBAQMBAwEBAAIBAQIDAgICAQECAQABAQEBAQACAQMDAQEDAQEBAgMCAQEAAQEDAQEBAQECAgMBAQADAQECAQEBAAABAQABAgMCAAEBAQEAAQEBAAECAAEBAwEDAwEBAQMBAQAAAwIBAgMBAQABAQECAwEBAgEBAwIBAgMBAQIBAgIBAAIBAwABAQECAQECAQIBAQIDAQEBAQABAQEAAQABAwIDAQEBAQEBAAEBAQEBAQEAAgIAAAICAQIBAQEBAwEBAAEAAAMAAQEBAQEAAgMAAgABAQEBAQABAAEAAgABAAEDAQIBAQEBAAIBAQEBAQEDAQACAgMBAQEBAwABAQEBAgMBAQMBAgIAAgIDAQEDAwMDAQEBAQEBAQEBAQACAQEDAwABAgEBAQECAgIBAQEDAgIAAQEDAQEBAQMBAQIBAwEDAgEBAQEDAwMAAQIBAgEAAQEBAQMAAAECAAACAQEBAgEBAgEBAgEBAQEBAQEDAQABAQEBAQIAAwMBAwIBAQEAAgEBAQIDAQMBAQECAgECAgEBAgEDAgIDAAIDAQEBAQABAQMBAwEBAgECAQMBAQIBAQEBAQMCAAIBAQADAwABAQECAQECAQECAQECAQEDAgIBAgMBAQMBAQMAAQICAgEBAAAAAQEBAwEBAAMBAQEBAgEAAgEDAgADAAEBAQACAQEBAwIBAQICAQECAwIBAQADAgECAQEBAgABAAABAQIBAQEBAwEBAQECAQECAQEDAQIBAQECAQABAgEDAQEBAwEDAQABAgEBAAEBAgIAAgIBAQEBAgEBAgEBAgEBAQIBAQABAgEBAAEBAwEDAQECAgADAgEBAgECAQIBAQABAQICAwEBAQIBAgMCAQABAgEBAQEAAQEBAQEBAQEAAgABAQIBAwEBAQEBAQIBAgEDAQEBAQEBAgEBAgIBAQIDAQEBAAABAQEDAgMCAQABAgEBAAEBAQEDAAEBAQIAAAADAgMCAQECAQIBAQEDAAMAAAIBAQIBAQEBAwMDAQADAQADAQEBAAEBAwEBAQECAQEBAQAAAAEBAQEBAQEDAQEBAQMBAQIBAQEBAQEBAQEDAwIBAQEBAQACAAIBAwMAAQMCAQEAAQIBAQEAAAIBAgEBAwEAAQEBAQABAQEBAwECAAEBAQECAgICAQIAAAIDAgEBAwEBAwIBAgMBAAIBAQEBAQEDAwEAAQIBAQEBAQEDAQICAQEDAwECAwEAAwEBAAIBAQEDAgEBAQEBAQEAAQEDAwIDAQEBAAEDAgMBAQECAQMCAQMBAQEAAgEBAwEBAQEDAQEBAAIAAQAAAQACAQIBAQAAAQEBAwEBAQEBAwEBAQECAQEDAwEBAwABAQABAwEAAQECAQEBAwIBAAMAAQEAAQICAQICAQIBAQEBAgABAQACAAEBAQECAQEBAQEBAgEBAAICAQIBAQIAAQEBAQEDAwIDAQEBAQABAgIBAwIDAAEBAQEDAQMDAQEBAQIBAQECAgEAAgABAwEBAQIBAgEAAQMCAQADAQEDAQABAAEDAQEBAAADAQEBAgECAwEBAAIDAgIAAQECAgIBAwEBAgACAQEAAAMBAQECAgMCAAEAAQAAAwMBAgABAAEBAAICAAECAQABAQIBAQAAAQICAAABAgEBAQECAgEBAQMBAQEAAQABAQEBAQIBAQACAQABAQIBAQIBAQEBAAEAAgEBAQECAQIAAgMBAwEBAAIBAQIBAgEBAwECAQEDAwECAgIBAgEBAQEBAQABAgIBAgIBAQICAQIBAgEDAQIAAgECAAEBAQABAgABAQEDAgADAQEDAAICAwEBAAEBAQMBAAECAQADAQEDAgICAQECAgECAQABAwEBAQEAAAEDAwABAgACAgEBAQECAQICAQADAwEBAQEBAQECAQABAAEBAQICAgEBAQEBAAIBAQAAAQEBAwMAAgEBAQABAQEBAgADAQIDAQECAgECAQMBAgMBAQAAAAABAwMCAQABAgABAQECAgAAAQIBAQEBAQIBAQEBAgEDAQIDAwMBAQEBAQABAQEBAQIBAQEBAQECAQEDAAIAAAEBAQMBAQABAQIAAQMDAQECAQEAAwEBAQEBAAECAAEBAgEBAgEBAQABAgEBAgEBAQEBAwIBAgIDAwMBAQECAwIDAgEBAQEBAwIBAQIAAQEAAQEAAgECAQEAAAICAwMBAQIDAgEBAQICAwEAAwICAQADAQECAQEBAQACAgEBAAACAQIBAwIBAQIAAQEDAAEDAgEBAgIAAQMCAQEBAAICAQEBAAMDAQAAAwEBAQABAQEBAAEBAAEBAQEDAQEBAQEBAQEBAQEBAgECAQIBAAADAAIBAgMCAwABAgEBAQIBAwIDAgEAAQEBAQACAQIBAQEBAQEDAgEAAQABAQEDAQEDAgECAQABAQIBAAABAgECAQIDAQEBAQABAAICAQAAAQACAgIBAAIBAgECAAEBAQEBAQEAAAIAAgABAQEDAQMBAwMBAAEDAgEBAgEDAQACAQABAQIBAQEAAwECAAABAQIDAQMBAAEAAgEDAQEAAQAAAAIDAgIBAQEAAgAAAgABAQEBAQEDAQEAAQIAAgEBAwIAAQMBAQEBAQIBAQEBAQMAAQEBAgEBAgMBAQEBAQECAAIAAQEBAQMBAAABAAACAgEAAAEBAQIBAAMDAwABAwIBAQECAgICAAEDAQMBAwACAQICAgEBAQEAAQEDAQEAAgMCAQAAAAMCAgEAAwEBAgEDAAACAQIDAQEBAQIBAQMBAAMCAgEBAwABAwMDAQABAwEBAwEAAQEAAQIBAQIBAAICAwEDAgABAQIDAAMAAAIAAwECAQEDAQEBAQECAAEBAQICAgICAQACAQAAAwMCAQABAAIBAQICAQADAQICAQABAQMAAAEDAwACAQECAAEAAAMBAQMBAQIBAQEBAQEAAAEDAwIBAwMBAgMBAgECAQMCAAAAAQADAQABAwECAQECAwEAAQMBAgIBAQECAwABAQIBAwEBAQEBAQECAgEBAgIBAQEBAQEAAQIDAQEBAQEAAQEBAAEBAwEBAwECAgACAQICAwEBAQACAwECAAIAAQAAAQEBAgECAQIBAwEBAQIBAQEAAQEAAgEBAgIDAgADAQMAAwIAAQEAAQABAgIBAAIBAwIBAwEBAQEAAAABAwEBAQMBAQACAwABAQIBAgAAAAEAAQEBAgEBAgEBAQIBAQIBAQECAgMCAgMBAAICAQEBAQEAAQIBAwEBAQABAwABAgABAQIBAgEBAwABAgMAAgEDAQIBAQMBAAICAAEBAQECAAABAQAAAQEAAwEBAQEBAAEBAQABAAABAgIBAQEBAAEAAwEBAAEDAAEBAgABAgIBAAEDAwECAwEBAQECAQEBAAECAAMBAgEBAQEBAQABAQEBAAMBAQIBAQIBAgECAwEBAgABAQEBAQIDAQECAQEBAQIBAQICAQMBAQEBAQEBAgMBAgEAAgECAgMBAgMBAQMBAgEBAQADAQIAAQEBAAICAAEBAQEBAQIBAQEAAQMBAQECAQABAQEDAQEDAQACAAMAAQABAQMAAwEBAQABAgIBAwEBAAAAAQMCAAEBAgEBAQABAgEBAgIBAQEDAAMDAQIBAQEBAQEBAQABAQEBAgIBAQICAgEBAQMCAQAAAQMBAwECAgEBAgACAQMBAwEBAQABAAIAAAIBAwEDAwIBAQEBAwEBAQEBAQECAQIAAgEBAQECAQEAAQEAAQMBAQIDAQIDAQEAAAECAQACAQEAAQIDAwABAQEAAQIDAQEAAQEAAAIBAQIBAQEBAQIAAQACAAIBAwEBAQIBAQECAQEBAgABAgICAgMBAQMBAgIAAQIDAQICAQEBAQIBAgIBAQACAwIBAQACAQABAQICAQEDAQECAQMBAgEAAQEBAQIBAQABAAECAQMAAgEBAQIBAAABAwEBAgICAQEBAgICAAEDAQABAAEBAgEBAQECAwECAQEBAgECAwIBAgABAQEAAAEAAQABAQEBAQEDAQEBAgEBAQMCAAEAAQMAAQACAwABAgEBAAEBAgEAAAABAQEBAQEBAQIAAQECAQIBAQEBAQEBAQECAgEBAQECAQECAQIBAQMAAwABAQECAAABAAABAgIBAgMBAgIBAgEBAQEAAwMBAQIBAQEBAgEBAQMCAAEAAQACAAIAAgACAwEBAAECAAMBAQEBAQIBAQECAwEAAAEBAQICAgABAAEAAQEBAQEBAwMBAQEBAQADAQIBAQMCAQEBAgEBAAABAwEAAAIBAAEBAQEBAwECAQADAQEBAAEDAQIBAQEBAQEBAgMBAQABAgIDAQIDAAEBAAMBAQECAQEBAQICAQEDAgECAgEAAgEBAAEBAQIBAQEDAQIBAQIAAQEAAQEBAQEBAQEDAgEDAQEBAgEAAgABAgIAAwICAQAAAQEAAgECAQEBAQIAAgEBAQEAAQMBAgMAAQMAAgEBAQEBAQEBAgEBAAMBAQECAgMAAQEDAQEBAAEBAQIBAAEBAwICAAEBAgEAAQIAAQEDAQMBAgABAgIBAwEAAwMBAgECAQIBAgEAAQADAQEBAgEBAAIBAQIBAQEBAQIAAwEBAQMCAwADAwMBAQAAAQMBAQMAAwEBAgIAAAEBAgIBAAICAgABAQECAwEBAQEBAwEBAQIBAQIBAQEBAQEBAQECAwIAAQEBAQEBAQIBAQMDAgEBAQMAAQICAgMBAwICAwECAgEDAwICAgEBAwIDAQEBAgMBAQIBAQEBAQMAAgEBAgECAgEAAwABAwEBAQECAwMDAQABAAEDAQMCAgEDAgIDAQMCAAEBAgABAAACAAEBAgADAAEBAgEDAQMCAQECAQMBAQMBAgABAAEBAAACAQIBAgMBAgACAQECAAIAAAACAQABAQICAAEAAQECAAMBAgABAQIBAgEBAQIBAwEBAgEBAwEAAwMCAgMBAQMBAQMBAwEBAAMBAQECAgECAQEBAQECAgEBAAIBAQEBAAEBAQIBAgEBAQEAAQIBAAEAAQEBAwECAgEDAgEBAQEBAwEDAgIBAwEBAQEBAQICAAMCAAAAAAEBAQABAQAAAwEBAQEBAAEBAQABAgMAAAECAQECAQIBAgEBAQABAgEBAQMCAAIAAQEBAQEAAQEBAQECAQIAAQACAQECAQABAwECAQABAQEBAQEBAQIDAQEBAgEBAAICAQMCAQICAwEBAAEBAwACAgECAQMBAgIBAQEBAQECAgIAAQEDAgABAQEBAQEBAAEBAAICAQEBAgIBAQABAAMBAgEBAwECAQEDAQEBAQEBAgEBAQECAQABAQMBAwIBAQEAAgEAAQEBAQMBAQIBAgMCAQEBAQEBAQIDAwMAAAEBAwMBAgEBAQEDAQECAQABAQACAQMBAQAAAQEBAQEBAQEBAQECAQECAwMBAgEBAgECAAEBAQEBAAEBAQECAgEBAgEBAAIAAgIBAQEAAgIBAgIDAQIBAQMAAQEBAgEBAQMDAQABAQIBAQMBAAEBAAMBAQEDAAMBAAMDAgECAQEBAQMBAgEBAAEBAQEBAQIBAAABAgEDAwEBAQMAAgMBAwIBAgMBAQEAAQIBAQICAgECAgEBAgAAAgMBAgECAQEDAQIBAgMBAAMCAgIBAQMBAQEBAQEBAQEDAQABAAECAQMCAQEDAQMCAQMBAAACAQEBAQEAAQEAAQEBAwICAQIDAQEAAAIBAwEBAQICAQIDAQEAAgIBAQMBAQEBAgEBAQEBAAEAAwIBAQIBAQEBAQEAAwEBAAEBAAABAQMCAgEBAgICAQEDAgEBAAACAgEBAgEDAQEBAQABAQEDAwABAQECAQEBAQECAgEBAQEBAQMBAQECAQEBAQEBAQEDAAEBAQEBAQECAwECAgABAgEAAQMDAQECAQEDAwIBAgIBAQACAQIDAwEBAwABAQEBAQMBAQABAQECAQICAQEBAAEAAgICAQABAQEBAAEAAwACAgEBAAECAQIBAQEAAwIBAQEBAgEBAQMBAQMBAgIBAQABAAMAAQMCAwEDAQEBAwEAAQEBAwICAQMBAAEBAQEDAgMAAgEBAQMBAQEBAQEBAgEBAQMBAQIBAQEBAgEBAwMCAQMDAQEDAgECAgEDAQABAgIAAwMBAwICAAEBAgABAgMBAAEBAwECAQEBAQEBAgEBAQICAQAAAQEBAAEAAQEBAgEBAQABAgABAQMCAwEBAgEBAQEAAQEBAQMBAQICAAMBAAICAQIAAAACAgEBAQIBAAIBAAIAAgEBAQICAQECAQACAQEBAQACAQECAgEBAgACAQADAgECAQADAAAAAQEAAAEBAgEBAAEBAAIBAQECAwIDAQIBAQMDAwMBAQEAAQMBAgIBAQEBAAEBAQIAAwEBAQEAAQEBAgAAAQEBAAECAQEDAQEBAgADAgIAAgEBAAEBAQIBAAACAQIDAgMCAQMBAgEBAQEBAQECAQEBAQEBAgEAAQABAwMBAQAAAQMBAgEAAQEDAgABAQMBAQEDAwEBAQMBAgEBAgEBAQECAQEBAwECAQACAwEBAAABAgABAQMCAQMBAwEBAAIBAQEBAwABAQEBAgEAAQIAAAEBAwMBAQMBAQEBAAEBAgEBAwEBAQEBAAMBAQIDAgEBAQACAQICAgEBAQMAAQEBAQIBAQMBAQMAAQMBAQEBAQECAQEBAQACAAICAwICAgEDAgEBAAIDAQMBAgEDAQADAQICAQMBAAEBAgADAQECAAMCAwEBAwACAgEDAAEBAwICAQICAAIBAQABAwEAAQIBAwEBAQIDAAECAgIBAQEBAQEBAQEBAQEBAQEAAQEAAQEBAQEBAgMBAQIBAgMBAQEBAQAAAQEDAwEBAQECAQEAAwEDAQEBAQIDAQEBAQEAAQABAQEAAQIBAQICAQMBAQEBAQMCAQICAQMAAAMCAQABAAMBAQEBAwIAAQAAAQECAQABAgEBAQIBAQEDAQEBAAECAQMBAQEBAQEBAAADAgABAAECAgADAQECAQMBAQEBAwEBAQEBAgEBAQECAQABAQEBAgECAwEAAwEBAQEBAgMCAwMAAQEBAQEBAwMBAgIBAgMBAQEBAQEDAQABAQEBAQMDAgECAgICAQICAgIBAwMBAQIAAgECAQEBAQEAAQEBAQEBAQEAAwABAQEDAQMAAQEBAQMBAgABAgEBAAEBAgACAQMAAwMCAgMBAQEBAQEBAQABAQMDAQEBAQEBAQEDAQECAgACAwICAwMBAwMBAQECAQIDAQEBAgMCAwEBAgIDAQEBAQMBAAABAQMBAgMAAAICAQACAQABAwEBAgEDAQMAAQIBAQECAQIBAQECAQADAgEBAQABAgEBAQEAAAMBAQEBAgECAAEBAAEBAQABAQIDAQMAAwECAQACAQEBAQMBAQECAQEBAgECAgIBAQECAAECAQMCAwIBAQMCAgIDAQEBAAIBAQABAQMBAQACAQEBAQEAAQIAAQAAAgEBAQEBAQIDAQIBAQEBAAIBAQEBAQEBAQECAQMDAQIBAQEBAQEBAQMBAQACAgADAgEBAQEBAgABAQEBAQEBAAIBAQEDAQMCAQEBAgIBAgACAQEAAQMCAAACAwEAAQEBAQAAAQEDAQEBAwACAQEAAQIAAQAAAAEAAwIBAAEBAwEBAwEBAQIBAgIDAQACAgEAAwIAAQEAAQEBAQIBAAIBAgEBAQAAAQEBAQEBAQEBAgMBAwIAAQIDAwECAgECAAABAQEAAgEBAAICAwIBAwIBAQEBAQECAQEBAQIBAQIBAQIBAwMBAwEBAwEBAgMAAAEBAAMBAgECAwACAAEBAQEAAQEDAQACAAEBAAACAQIBAQECAQICAgEBAQECAQEBAAACAQIAAQECAwAAAQEAAgEBAQEBAgEBAAEBAwEAAgEBAAMCAgIBAQIBAAMCAQECAQEBAQMBAQIBAQABAgABAQEBAgIAAgEBAwECAQACAQEBAQEDAgICAgIBAQMBAgIDAwECAQMCAQECAwEBAgECAgIDAQECAQEAAgECAQEBAwMCAQIBAQEBAAEBAQEBAQMBAwEBAQABAgIAAQEBAwEDAwECAQACAQECAQABAgABAwACAAEBAQEBAAIBAQEBAwABAQIBAQEBAQEBAQEBAAACAgEBAgACAwMBAQIAAgADAgIBAQEDAAEBAgIBAwEBAQEBAQIAAAEBAQEBAgEBAQEBAgEBAQABAgMCAQICAQEBAAECAQACAQIBAgEBAAIBAQADAgEAAQEBAQEBAAICAQEBAQMBAgICAQEDAwECAAMBAgMBAQICAgEBAQIBAwEBAQEDAQEDAQIBAAEDAwEBAQICAgEBAQECAAEDAgABAAEBAQIBAAEBAgMBAQEAAQEAAgEBAAEBAgECAgIBAQICAQEBAAEBAQMAAQMBAQABAwEAAQEBAQMDAQEDAAICAgMBAQEBAwEBAQMBAQEBAQEBAAIDAgEBAAABAQABAwEBAQECAQEBAQEAAgECAQECAQICAQECAgIBAwADAgIDAAEDAgECAQEAAAAAAwEBAQICAgEBAQIBAQEBAQEAAQEAAAICAQABAQIBAQECAwIBAAEBAwMBAAMBAQACAgECAwEDAQEBAQEBAwICAQMBAQIBAQEBAAEDAQIBAQIBAQEBAAIBAQEDAQEBAgABAQMBAQECAQEDAQEDAQEBAQEBAwEBAwIAAAEBAwIDAQICAQEAAQEBAQEBAwEBAQMBAQECAQMDAgECAwMBAQEBAQEDAQMAAgECAQMBAgEBAAMBAQECAQEAAgECAQMDAAEDAwIBAQECAQMBAgIDAAECAwEBAgMAAAADAAMCAQEBAgEAAQACAgECAQEBAAEBAQEBAQMAAQECAQEBAQEAAQABAgMCAAEBAwICAQEBAAEBAwEBAAICAQEBAwICAgEDAAIBAQEDAAEAAQEDAwEBAQAAAwEBAQECAAECAQEBAQEDAQIBAgECAQEBAQIAAwEDAAEBAQIAAQEBAQEDAAICAQIBAwEBAQEBAAICAgECAQADAQEBAQEDAwEBAQEDAgEBAAMBAwEBAQEBAgIAAgABAAACAAEBAgIBAQECAAMBAgABAQMBAwECAAEBAgMBAQEAAQIBAQEAAAEAAgACAwEBAgEAAgACAgIBAgICAQEBAQECAQEBAwACAgEDAQMBAQEBAQECAQEBAwEBAwIBAgEBAgICAAIBAgIBAgEBAQEAAAEBAAMDAQIBAQIBAQEDAgECAwMCAQABAQMAAQIBAgEAAwECAQMCAQECAQABAQECAAEAAgEBAgACAgECAQEAAgMBAQIAAQEBAgEBAwECAQIBAwABAQEAAQEBAQMAAQMCAQEBAQEBAQIBAQEDAwICAQEAAQMBAwEBAAEBAQABAgMCAQMBAwIAAQMAAQEBAgMBAQMBAQEBAAIBAQIAAgEBAQECAQABAAIBAQEBAAABAwIBAQIBAgICAwMBAgEBAQECAgEBAQABAwECAQEAAwAAAgIDAQECAQEBAgIDAAMAAAEBAAMBAwEAAQEBAQEBAQMDAgEDAgECAwIBAgACAQMBAQMAAgECAAEBAAEBAQEBAgIBAAIDAQMBAwICAQACAAEAAwEBAwEBAgEDAwIBAgECAwABAQEBAAECAgEDAQEDAQEBAQACAQECAwECAgEBAwEAAQEBAQABAQIDAQEBAAEBAQIBAgIBAAEDAQEAAQEBAAEBAQICAQEBAQEBAwADAQEBAQIBAQIBAQIDAQABAAIBAQEBAQIAAgIBAQABAwEBAQIBAgEBAgEDAgIBAwABAAECAgEAAQEBAQEAAwMBAQMAAQEAAAEBAQABAQABAQEBAQEAAgMAAgEAAwEAAQIBAQECAgEBAgECAQEBAQEBAQEBAAEBAAEBAgAAAQAAAQMBAQECAAEBAQABAAICAgEBAQEBAQEAAgICAgEBAwACAwMBAgMAAwEDAQEBAgEBAgIBAwEBAQEBAAADAwIDAgACAQIDAgABAgEBAwECAgEBAQECAgEBAQECAQEBAQACAQABAQEBAAICAQEBAQACAQECAQABAAEBAAECAQABAAEBAQEBAQEAAAEBAQEBAgECAAEBAQIDAQEDAQIBAgIAAwECAgEBAQECAgICAgEBAwIBAAABAgIBAgMAAQABAwIAAAECAAIBAQIBAQACAQEBAQEAAQIDAgEBAgEAAwMBAQABAgABAwMBAQMBAQEDAQECAQMCAgEBAgADAQEBAwABAQEDAAEBAQMAAQABAgEDAQECAwEBAQIBAAECAAECAgECAAECAQEBAQIBAgABAQMBAwIBAQIBAAMBAQICAAEBAQIBAQMAAQABAAEBAQABAgMBAgEBAQEBAQMBAQADAgABAgEAAQABAQEBAwICAgEBAgABAAECAQEDAQEBAQMCAAEBAQECAgECAgABAQEAAAECAQEBAAADAgADAQIBAwEBAgEBAgICAQEBAQEBAgIAAQEBAQIBAQABAAIAAAECAQEBAQMBAQIBAQMBAQEBAgEBAwECAQICAAECAgMBAQECAQECAQIBAgMCAQEBAgIAAQEAAwMBAAEBAAEBAQIBAQEBAgEDAQEBAQICAgEAAQECAAABAQIBAQABAQIBAAEBAQABAAEBAQABAwEAAgEBAAEAAQECAAECAgMDAQECAQIBAgIAAQMCAQECAQEAAQEAAQICAgMAAgIBAAECAgABAQIAAgEBAAECAQMAAAEAAQADAgABAQEBAgECAgECAQICAgEBAgEBAQACAwEBAQEAAQEAAQACAAEDAQABAgECAQICAQEBAwEBAAIBAQMBAQEAAQEBAQECAwEBAQABAgEAAQECAgACAQIBAQIDAgEDAQIBAQEAAQMCAQIAAwABAQABAQECAwEAAQEBAQABAwEBAgIBAQEBAQEDAwACAQECAgEDAgMDAAEDAAIBAAIBAwIAAQABAQABAQMBAgEDAgICAgEAAQEDAAECAgMBAgEBAQEAAQEDAgABAQEBAgMBAQMCAQECAQIDAwEDAgAAAwMDAAECAQIAAgECAQEBAQEBAQABAAEBAwEBAQABAgECAwECAwEBAwEBAwEBAQECAgADAgEDAgEBAQADAQEAAQEDAAEBAQEBAAMBAAECAwIAAQIBAwEDAQECAQACAAEBAQAAAQEBAQEBAAMAAwECAQABAQEBAQEDAQMBAQMBAgICAQABAgABAgIBAwEAAQEDAQABAQABAQECAQAAAgEBAwACAgEDAgEBAgEBAQMBAQIBAgICAQEBAQMBAAECAQEBAQABAAEDAAMBAQMBAgABAQEBAgIAAwIBAgEBAwEDAwECAQIBAAECAwIBAgIAAwABAQMDAgEBAAABAQECAQEAAQIAAwEDAQMAAQEBAQMAAwMBAQEBAgEBAQEBAQMBAQEBAgIBAQEBAQEAAQEBAQABAQEDAgICAgMDAAMCAwACAQECAQABAwIBAwEBAQEBAgMBAAEBAQABAgECAgIBAQECAQEAAgEBAgADAQECAQEBAQABAQEBAwICAgEBAgIAAQABAgABAQIBAAEBAAEBAQABAAIBAwICAQIDAQIAAQIBAwMBAgEBAwMBAQEBAwIBAwADAwIBAQEAAQEBAAABAQMAAQEDAQABAQEBAAIBAQIDAQABAgIAAAMBAAABAwEBAAEBAAACAAEDAwADAgEBAgEBAAMBAQAAAAEBAgIAAAEBAQEBAQEBAQEBAQEBAQEAAQMBAQEBAAEBAAICAwEBAgEBAQIBAQEBAAMDAAABAAIBAQACAQEBAwEBAAIBAgIDAQABAQEBAgIBAgEBAQECAwIDAgMBAAEDAwECAQECAgECAAIBAQEBAAMBAQADAQEBAQECAQEBAQACAwEBAQEBAQMBAQEBAQAAAgEBAAEBAwEBAQAAAgMCAgEBAQECAwABAAEAAQEBAQIBAgABAgMCAQECAQABAQEBAQEBAAACAwEBAQEBAQEAAQEBAQADAgEBAwEBAQECAQMBAQEBAgEBAgEBAgIAAwICAAEDAAEAAwMDAQEDAwEBAQEBAgEDAQACAgECAwMDAAMBAQEBAgEAAQIAAQEDAgEBAQEAAgEBAQEDAwEDAgAAAQEBAgMBAQMBAAEAAgMAAQECAAIBAQECAQEDAQEAAQEAAAIBAQABAQMCAgABAwECAQECAQMCAAACAQABAQIBAQIBAwECAwMBAQEBAQEBAQEBAQMCAQEAAgABAgEBAgMBAQEBAQIBAQEAAwEDAQEAAgIBAAEBAgECAQEBAAICAwICAQABAQEBAQIBAAABAAIBAQMAAQIAAgEBAgECAQIBAgAAAgABAQIBAQIBAQAAAQIBAQECAQEDAgIBAgIBAQIDAQEBAQEBAgEAAwEBAQEBAAMBAgIBAwMDAgEBAwMBAAICAwEBAAEBAQMBAgIBAwABAAECAQEBAgIBAgEBAQEBAAEBAQEBAQEAAQEAAwECAAEBAAECAQEAAAABAQEBAQIBAgEBAQIBAQECAgECAgEBAAAAAgEBAgACAwEAAQIAAwMBAQIBAAIAAQEBAwIBAAEBAQMAAQEDAQEBAgECAQECAQEBAgECAgEBAQECAQMBAQEAAQABAAMDAAEAAgABAwECAQEDAQIDAQADAwIBAAEBAAIBAQMDAwABAwECAQECAAEBAAABAQECAgEBAQAAAAIBAwEBAAMAAQABAgEBAQAAAgMAAQMAAwABAgMDAQACAQEAAgEBAgEAAAEBAAECAgIDAwABAQEBAQEBAwMBAQMCAAECAQMBAQECAwIBAgEDAgIBAAEBAQEAAQEAAQECAgECAQIBAQEBAQMBAQIDAwICAQIBAwEBAQIDAgEBAQEDAgIAAwEBAAMBAQECAAECAwEBAQEBAgEBAQEBAwIAAQAAAgEAAQIBAQECAQIBAQECAgEBAgIBAQEBAgIBAgICAAEBAQIAAgAAAAACAQIBAgEBAwABAQIDAAEBAAEBAAEDAQEBAQEBAgACAQEBAAEBAAEBAgEBAQMAAAADAQEDAAEBAQEBAgIBAgECAwEBAQEDAQEDAQMAAAECAgADAAEAAQEAAgEAAQEBAgEBAAEDAgEAAwABAwMDAQECAQEBAgABAQEBAQEAAQIBAQIAAAADAQIBAQADAAEAAQEBAAEBAgEAAgECAQEBAgIBAAIAAQMBAQABAQIBAQEAAQEDAQEAAQIAAgIBAQABAAEDAQEBAQABAAEBAAECAQICAwIBAQECAwMDAQIDAQMBAgMBAQEBAQEBAQEBAQEDAAEBAAECAAEBAAECAQABAQABAwABAAAAAQEBAAMCAQECAQIBAAEBAQMAAQEDAQEBAAIBAQEAAAEBAQEAAgIBAgEBAAEBAgIBAwEBAAECAQABAAECAQEBAgEBAQMBAwMCAgMAAAMCAgIBAgECAQEAAAADAAIBAQECAwADAQEDAgECAwEBAQIAAgEBAgEBAgAAAQMCAQEAAQIAAwIBAgEDAgECAQEBAgABAQECAwEBAQICAQIBAAEBAwIBAQEDAQEBAgIBAgECAQABAAADAgEBAQEAAQECAgMBAgEBAQEBAgEBAQEBAQABAgABAQEBAQEBAgMCAAMBAAMAAAIBAgEBAwICAQIAAQEDAQEDAQIBAQIBAAECAgECAAEBAQEDAQACAwECAQABAgIBAwECAQABAAABAQEBAQIBAAEBAQACAQECAAMDAQEBAgECAwEDAQABAAICAAEAAgABAQEBAQABAQEBAgEBAQEDAgMBAAEBAQADAQIAAgEBAgEAAQEBAQECAQECAwMAAAEDAQEAAQACAAMBAQEBAgMBAQABAQABAgICAQIBAQABAQEAAQEBAQEAAQECAQEBAQEAAAECAgECAQEBAQECAAEBAwEDAQEBAQMBAgEBAgABAwIAAQICAQEAAQAAAgEBAQEDAgEBAQMBAAABAQEBAgEDAQECAQEBAQEBAQECAgEBAgEDAQIDAQMBAQABAgIBAQEBAgABAwEBAgEBAQEBAQEBAQAAAQEBAQIBAQECAwIBAgEDAwEBAQEBAgECAAEBAAECAgEBAQEBAAADAQMAAgEAAwEBAQMBAAACAAECAgMCAQEBAgMBAwEBAAICAQIAAQEBAQEBAgEDAwEDAQECAQEDAAECAQEAAQIBAgEBAQMBAQEAAQMBAgEAAwEBAwEBAwEBAgEBAgEBAQECAQEBAQEBAwABAQMBAAICAgEBAQECAQECAAABAQICAAICAQEBAQMBAQICAwIBAQMBAgMAAQEBAQEBAgEBAQMAAgECAQABAQEAAAABAgICAQIBAQABAQIBAAIAAQMAAwIBAQABAwEAAQIBAQIBAQABAgEBAQMBAQEDAQMAAgIBAgIBAgEBAQEBAQEAAwEBAQEBAQIBAQMBAwEBAQEAAwEBAgECAAEBAQEBAgICAQICAQIBAgEAAwEBAQEBAgECAQMBAgEAAQIDAQEBAQIDAQICAQICAQIDAAMCAQMBAwAAAQEDAgMCAAEDAQEBAQADAgIDAQICAQICAgICAQEDAQECAgMBAQIBAQEBAAEBAgEAAQEBAQACAQMAAQECAgEBAgEDAQMAAgAAAgIDAQIDAgEBAAEAAQEBAAICAQEBAwEBAgECAQIBAgICAQABAQEDAQABAwEAAQMBAwIBAQEBAQEDAQEBAwABAAEBAgIBAQEBAwABAAEBAQAAAQEBAwEDAQMBAQADAQMAAgEAAwMBAQADAQEBAQEBAQEBAQEBAQEBAAEDAQECAgECAQMCAwEBAAMBAwECAQICAQECAgEAAAEDAgEAAgIAAAMAAQIBAwAAAQIBAwEBAgADAQMCAgEBAQABAQIBAgEBAAACAwEDAQMCAwEBAgMBAQECAAEBAQECAQEBAgICAQEAAQAAAgEBAQACAAADAQEDAQECAQEBAgIDAgMBAQMBAwMBAQEBAQACAAECAQEBAQIDAQIBAQEBAQEAAQAAAQEAAAEDAQEBAAIBAgEBAQMBAgABAQEBAQIBAQEBAQEBAAEAAQIBAAIBAQEBAAAAAQEBAwADAQAAAAEBAQEAAQIBAQECAQECAgECAwEDAgEBAQIAAAIBAgIAAQEBAgEBAAECAQIBAAICAQEBAwABAQEBAAEBAgIDAQECAgABAgEBAQEBAQIBAwEDAQIBAQIBAQABAQEAAQECAQMCAAECAgIBAgEAAgEAAQEBAQEBAgEBAgEBAQEBAQEBAAABAQEBAQEAAgEBAQMCAQMCAAEAAgICAwIAAAEBAQEBAQEBAQECAAIBAQEBAAECAAECAgECAAIBAQEBAAIBAQIBAQEBAQEBAAEBAQABAQIBAQEBAwIDAwECAQECAgEBAQMDAQAAAQIAAQADAQEBAQEBAQICAAEAAAEBAAEBAgABAAIBAwECAAEAAQAAAgEAAQIBAgMAAQEDAQEBAgIAAwEAAQECAwIAAQIBAAADAQMBAwIAAQEBAwEDAQEBAgEBAQADAwACAQABAQEBAAEBAwIAAQICAQADAgECAQEBAQMBAQIBAwEBAQEBAQECAgEBAwIAAQMDAQEBAgEBAwEBAgECAQICAAMAAQEBAAIBAQECAgMBAgIBAQICAAADAQEBAQEBAQEBAQIBAAMBAwIDAAADAgICAQEAAAIDAwECAQMAAwEAAwACAQEBAQECAgEBAQMBAgEBAgIBAAECAgEAAgIBAQEBAQEBAAMBAQEBAQEBAgEAAQEAAAMBAQEBAQICAQEBAwECAQEAAQECAQEDAgACAgIBAgEDAQEBAgABAwEBAgIBAgMBAQACAQIBAgEBAAMDAAEBAQEBAAEDAQMBAQAAAAIBAQEBAgABAQECAAECAQACAQMCAQEAAQIBAgIBAwMBAAECAQEAAQEBAQMBAAEBAwECAgIAAgMBAgEAAQEBAQEBAwECAQEBAwEBAwIBAQABAQEAAAIBAQEBAAEAAQEBAwEBAgEAAAEBAgEBAQIAAQMAAQEAAQACAgABAQEBAQEBAQAAAQMBAQIBAgEBAgEDAgABAwABAwACAQEDAQEBAAIBAAECAwADAgEBAgEDAQEAAgMCAQEDAQEDAQEAAwEAAQIBAQECAAIBAAEBAQEBAQEBAQEBAgIBAwMCAgEBAQEBAQICAAEBAQABAgEAAgABAQABAAEBAAEAAQEBAQIDAwEBAwABAQABAgEDAgMDAQMBAQEBAgEDAQMBAgEAAgIDAQECAwEBAAIDAQAAAQEBAQIBAQEBAQACAwACAQIBAQECAwICAAMBAQIBAgABAQECAQIAAQEAAAEBAQEBAwIAAgEDAAEAAgEBAwEBAQEBAwEBAgICAwIBAgECAgEBAQEBAQEBAQECAQMCAAICAQEBAQMBAgADAAIBAQIBAQEBAQEBAgAAAQAAAwIAAAEBAQEBAQEBAgEBAQIAAQMBAQMBAAEBAQIBAQEBAgEBAQIAAAABAAIAAQEBAwEAAQIBAgEBAQEBAQIAAAECAgECAQABAAICAQEBAQMCAQEBAQABAwABAQIBAgABAQMCAQICAAICAQEAAQEBAgECAQACAQMBAQMBAwEBAQIDAgICAQEDAwEBAQEDAgEAAwEBAQMCAwMAAAECAQEBAQEBAwMCAAEBAQMDAQECAAEDAQIDAQEBAQECAQABAQEBAgECAQICAwEBAgMBAwECAQEBAgECAQEAAgEAAgIAAQMBAwIAAQEBAQEBAQEAAgMCAQMAAQMCAgEAAwABAAEAAQIBAQEBAwADAQICAwEAAQEBAQECAgEBAQACAwEBAQEBAQECAQEBAQECAw==",
          "dtype": "i1"
         }
        }
       ],
       "layout": {
        "autosize": true,
        "boxmode": "group",
        "height": 1000,
        "hovermode": "closest",
        "paper_bgcolor": "rgba(0,0,0,0)",
        "plot_bgcolor": "rgba(0,0,0,0)",
        "template": {
         "data": {
          "bar": [
           {
            "error_x": {
             "color": "#2a3f5f"
            },
            "error_y": {
             "color": "#2a3f5f"
            },
            "marker": {
             "line": {
              "color": "#E5ECF6",
              "width": 0.5
             },
             "pattern": {
              "fillmode": "overlay",
              "size": 10,
              "solidity": 0.2
             }
            },
            "type": "bar"
           }
          ],
          "barpolar": [
           {
            "marker": {
             "line": {
              "color": "#E5ECF6",
              "width": 0.5
             },
             "pattern": {
              "fillmode": "overlay",
              "size": 10,
              "solidity": 0.2
             }
            },
            "type": "barpolar"
           }
          ],
          "carpet": [
           {
            "aaxis": {
             "endlinecolor": "#2a3f5f",
             "gridcolor": "white",
             "linecolor": "white",
             "minorgridcolor": "white",
             "startlinecolor": "#2a3f5f"
            },
            "baxis": {
             "endlinecolor": "#2a3f5f",
             "gridcolor": "white",
             "linecolor": "white",
             "minorgridcolor": "white",
             "startlinecolor": "#2a3f5f"
            },
            "type": "carpet"
           }
          ],
          "choropleth": [
           {
            "colorbar": {
             "outlinewidth": 0,
             "ticks": ""
            },
            "type": "choropleth"
           }
          ],
          "contour": [
           {
            "colorbar": {
             "outlinewidth": 0,
             "ticks": ""
            },
            "colorscale": [
             [
              0,
              "#0d0887"
             ],
             [
              0.1111111111111111,
              "#46039f"
             ],
             [
              0.2222222222222222,
              "#7201a8"
             ],
             [
              0.3333333333333333,
              "#9c179e"
             ],
             [
              0.4444444444444444,
              "#bd3786"
             ],
             [
              0.5555555555555556,
              "#d8576b"
             ],
             [
              0.6666666666666666,
              "#ed7953"
             ],
             [
              0.7777777777777778,
              "#fb9f3a"
             ],
             [
              0.8888888888888888,
              "#fdca26"
             ],
             [
              1,
              "#f0f921"
             ]
            ],
            "type": "contour"
           }
          ],
          "contourcarpet": [
           {
            "colorbar": {
             "outlinewidth": 0,
             "ticks": ""
            },
            "type": "contourcarpet"
           }
          ],
          "heatmap": [
           {
            "colorbar": {
             "outlinewidth": 0,
             "ticks": ""
            },
            "colorscale": [
             [
              0,
              "#0d0887"
             ],
             [
              0.1111111111111111,
              "#46039f"
             ],
             [
              0.2222222222222222,
              "#7201a8"
             ],
             [
              0.3333333333333333,
              "#9c179e"
             ],
             [
              0.4444444444444444,
              "#bd3786"
             ],
             [
              0.5555555555555556,
              "#d8576b"
             ],
             [
              0.6666666666666666,
              "#ed7953"
             ],
             [
              0.7777777777777778,
              "#fb9f3a"
             ],
             [
              0.8888888888888888,
              "#fdca26"
             ],
             [
              1,
              "#f0f921"
             ]
            ],
            "type": "heatmap"
           }
          ],
          "histogram": [
           {
            "marker": {
             "pattern": {
              "fillmode": "overlay",
              "size": 10,
              "solidity": 0.2
             }
            },
            "type": "histogram"
           }
          ],
          "histogram2d": [
           {
            "colorbar": {
             "outlinewidth": 0,
             "ticks": ""
            },
            "colorscale": [
             [
              0,
              "#0d0887"
             ],
             [
              0.1111111111111111,
              "#46039f"
             ],
             [
              0.2222222222222222,
              "#7201a8"
             ],
             [
              0.3333333333333333,
              "#9c179e"
             ],
             [
              0.4444444444444444,
              "#bd3786"
             ],
             [
              0.5555555555555556,
              "#d8576b"
             ],
             [
              0.6666666666666666,
              "#ed7953"
             ],
             [
              0.7777777777777778,
              "#fb9f3a"
             ],
             [
              0.8888888888888888,
              "#fdca26"
             ],
             [
              1,
              "#f0f921"
             ]
            ],
            "type": "histogram2d"
           }
          ],
          "histogram2dcontour": [
           {
            "colorbar": {
             "outlinewidth": 0,
             "ticks": ""
            },
            "colorscale": [
             [
              0,
              "#0d0887"
             ],
             [
              0.1111111111111111,
              "#46039f"
             ],
             [
              0.2222222222222222,
              "#7201a8"
             ],
             [
              0.3333333333333333,
              "#9c179e"
             ],
             [
              0.4444444444444444,
              "#bd3786"
             ],
             [
              0.5555555555555556,
              "#d8576b"
             ],
             [
              0.6666666666666666,
              "#ed7953"
             ],
             [
              0.7777777777777778,
              "#fb9f3a"
             ],
             [
              0.8888888888888888,
              "#fdca26"
             ],
             [
              1,
              "#f0f921"
             ]
            ],
            "type": "histogram2dcontour"
           }
          ],
          "mesh3d": [
           {
            "colorbar": {
             "outlinewidth": 0,
             "ticks": ""
            },
            "type": "mesh3d"
           }
          ],
          "parcoords": [
           {
            "line": {
             "colorbar": {
              "outlinewidth": 0,
              "ticks": ""
             }
            },
            "type": "parcoords"
           }
          ],
          "pie": [
           {
            "automargin": true,
            "type": "pie"
           }
          ],
          "scatter": [
           {
            "fillpattern": {
             "fillmode": "overlay",
             "size": 10,
             "solidity": 0.2
            },
            "type": "scatter"
           }
          ],
          "scatter3d": [
           {
            "line": {
             "colorbar": {
              "outlinewidth": 0,
              "ticks": ""
             }
            },
            "marker": {
             "colorbar": {
              "outlinewidth": 0,
              "ticks": ""
             }
            },
            "type": "scatter3d"
           }
          ],
          "scattercarpet": [
           {
            "marker": {
             "colorbar": {
              "outlinewidth": 0,
              "ticks": ""
             }
            },
            "type": "scattercarpet"
           }
          ],
          "scattergeo": [
           {
            "marker": {
             "colorbar": {
              "outlinewidth": 0,
              "ticks": ""
             }
            },
            "type": "scattergeo"
           }
          ],
          "scattergl": [
           {
            "marker": {
             "colorbar": {
              "outlinewidth": 0,
              "ticks": ""
             }
            },
            "type": "scattergl"
           }
          ],
          "scattermap": [
           {
            "marker": {
             "colorbar": {
              "outlinewidth": 0,
              "ticks": ""
             }
            },
            "type": "scattermap"
           }
          ],
          "scattermapbox": [
           {
            "marker": {
             "colorbar": {
              "outlinewidth": 0,
              "ticks": ""
             }
            },
            "type": "scattermapbox"
           }
          ],
          "scatterpolar": [
           {
            "marker": {
             "colorbar": {
              "outlinewidth": 0,
              "ticks": ""
             }
            },
            "type": "scatterpolar"
           }
          ],
          "scatterpolargl": [
           {
            "marker": {
             "colorbar": {
              "outlinewidth": 0,
              "ticks": ""
             }
            },
            "type": "scatterpolargl"
           }
          ],
          "scatterternary": [
           {
            "marker": {
             "colorbar": {
              "outlinewidth": 0,
              "ticks": ""
             }
            },
            "type": "scatterternary"
           }
          ],
          "surface": [
           {
            "colorbar": {
             "outlinewidth": 0,
             "ticks": ""
            },
            "colorscale": [
             [
              0,
              "#0d0887"
             ],
             [
              0.1111111111111111,
              "#46039f"
             ],
             [
              0.2222222222222222,
              "#7201a8"
             ],
             [
              0.3333333333333333,
              "#9c179e"
             ],
             [
              0.4444444444444444,
              "#bd3786"
             ],
             [
              0.5555555555555556,
              "#d8576b"
             ],
             [
              0.6666666666666666,
              "#ed7953"
             ],
             [
              0.7777777777777778,
              "#fb9f3a"
             ],
             [
              0.8888888888888888,
              "#fdca26"
             ],
             [
              1,
              "#f0f921"
             ]
            ],
            "type": "surface"
           }
          ],
          "table": [
           {
            "cells": {
             "fill": {
              "color": "#EBF0F8"
             },
             "line": {
              "color": "white"
             }
            },
            "header": {
             "fill": {
              "color": "#C8D4E3"
             },
             "line": {
              "color": "white"
             }
            },
            "type": "table"
           }
          ]
         },
         "layout": {
          "annotationdefaults": {
           "arrowcolor": "#2a3f5f",
           "arrowhead": 0,
           "arrowwidth": 1
          },
          "autotypenumbers": "strict",
          "coloraxis": {
           "colorbar": {
            "outlinewidth": 0,
            "ticks": ""
           }
          },
          "colorscale": {
           "diverging": [
            [
             0,
             "#8e0152"
            ],
            [
             0.1,
             "#c51b7d"
            ],
            [
             0.2,
             "#de77ae"
            ],
            [
             0.3,
             "#f1b6da"
            ],
            [
             0.4,
             "#fde0ef"
            ],
            [
             0.5,
             "#f7f7f7"
            ],
            [
             0.6,
             "#e6f5d0"
            ],
            [
             0.7,
             "#b8e186"
            ],
            [
             0.8,
             "#7fbc41"
            ],
            [
             0.9,
             "#4d9221"
            ],
            [
             1,
             "#276419"
            ]
           ],
           "sequential": [
            [
             0,
             "#0d0887"
            ],
            [
             0.1111111111111111,
             "#46039f"
            ],
            [
             0.2222222222222222,
             "#7201a8"
            ],
            [
             0.3333333333333333,
             "#9c179e"
            ],
            [
             0.4444444444444444,
             "#bd3786"
            ],
            [
             0.5555555555555556,
             "#d8576b"
            ],
            [
             0.6666666666666666,
             "#ed7953"
            ],
            [
             0.7777777777777778,
             "#fb9f3a"
            ],
            [
             0.8888888888888888,
             "#fdca26"
            ],
            [
             1,
             "#f0f921"
            ]
           ],
           "sequentialminus": [
            [
             0,
             "#0d0887"
            ],
            [
             0.1111111111111111,
             "#46039f"
            ],
            [
             0.2222222222222222,
             "#7201a8"
            ],
            [
             0.3333333333333333,
             "#9c179e"
            ],
            [
             0.4444444444444444,
             "#bd3786"
            ],
            [
             0.5555555555555556,
             "#d8576b"
            ],
            [
             0.6666666666666666,
             "#ed7953"
            ],
            [
             0.7777777777777778,
             "#fb9f3a"
            ],
            [
             0.8888888888888888,
             "#fdca26"
            ],
            [
             1,
             "#f0f921"
            ]
           ]
          },
          "colorway": [
           "#636efa",
           "#EF553B",
           "#00cc96",
           "#ab63fa",
           "#FFA15A",
           "#19d3f3",
           "#FF6692",
           "#B6E880",
           "#FF97FF",
           "#FECB52"
          ],
          "font": {
           "color": "#2a3f5f"
          },
          "geo": {
           "bgcolor": "white",
           "lakecolor": "white",
           "landcolor": "#E5ECF6",
           "showlakes": true,
           "showland": true,
           "subunitcolor": "white"
          },
          "hoverlabel": {
           "align": "left"
          },
          "hovermode": "closest",
          "mapbox": {
           "style": "light"
          },
          "paper_bgcolor": "white",
          "plot_bgcolor": "#E5ECF6",
          "polar": {
           "angularaxis": {
            "gridcolor": "white",
            "linecolor": "white",
            "ticks": ""
           },
           "bgcolor": "#E5ECF6",
           "radialaxis": {
            "gridcolor": "white",
            "linecolor": "white",
            "ticks": ""
           }
          },
          "scene": {
           "xaxis": {
            "backgroundcolor": "#E5ECF6",
            "gridcolor": "white",
            "gridwidth": 2,
            "linecolor": "white",
            "showbackground": true,
            "ticks": "",
            "zerolinecolor": "white"
           },
           "yaxis": {
            "backgroundcolor": "#E5ECF6",
            "gridcolor": "white",
            "gridwidth": 2,
            "linecolor": "white",
            "showbackground": true,
            "ticks": "",
            "zerolinecolor": "white"
           },
           "zaxis": {
            "backgroundcolor": "#E5ECF6",
            "gridcolor": "white",
            "gridwidth": 2,
            "linecolor": "white",
            "showbackground": true,
            "ticks": "",
            "zerolinecolor": "white"
           }
          },
          "shapedefaults": {
           "line": {
            "color": "#2a3f5f"
           }
          },
          "ternary": {
           "aaxis": {
            "gridcolor": "white",
            "linecolor": "white",
            "ticks": ""
           },
           "baxis": {
            "gridcolor": "white",
            "linecolor": "white",
            "ticks": ""
           },
           "bgcolor": "#E5ECF6",
           "caxis": {
            "gridcolor": "white",
            "linecolor": "white",
            "ticks": ""
           }
          },
          "title": {
           "x": 0.05
          },
          "xaxis": {
           "automargin": true,
           "gridcolor": "white",
           "linecolor": "white",
           "ticks": "",
           "title": {
            "standoff": 15
           },
           "zerolinecolor": "white",
           "zerolinewidth": 2
          },
          "yaxis": {
           "automargin": true,
           "gridcolor": "white",
           "linecolor": "white",
           "ticks": "",
           "title": {
            "standoff": 15
           },
           "zerolinecolor": "white",
           "zerolinewidth": 2
          }
         }
        },
        "title": {
         "text": "Distribution of scores by race and hours worked per week"
        },
        "xaxis": {
         "fixedrange": true,
         "gridcolor": "rgb(159, 197, 232)",
         "hoverformat": ".3f",
         "title": {
          "text": "Score"
         },
         "zerolinecolor": "rgb(159, 197, 232)"
        },
        "yaxis": {
         "fixedrange": true,
         "gridcolor": "rgba(0,0,0,0)",
         "ticktext": [
          "0-30",
          "30-40",
          "40-50",
          "50+"
         ],
         "tickvals": [
          0,
          1,
          2,
          3
         ],
         "title": {
          "text": "Hours worked per week"
         },
         "zerolinecolor": "rgba(0,0,0,0)"
        }
       }
      }
     },
     "metadata": {},
     "output_type": "display_data"
    }
   ],
   "source": [
    "fig_cdp_by_race = group_box_plots(\n",
    "    test_prob,\n",
    "    test.race.map(race_names),\n",
    "    groups=test_hpw_enum,\n",
    "    group_names=[\"0-30\", \"30-40\", \"40-50\", \"50+\"],\n",
    "    title=\"Distribution of scores by race and hours worked per week\",\n",
    "    xlabel=\"Score\",\n",
    "    ylabel=\"Hours worked per week\",\n",
    ")\n",
    "fig_cdp_by_race"
   ]
  },
  {
   "cell_type": "markdown",
   "metadata": {},
   "source": [
    "## Equalised odds\n",
    "\n",
    "To assess equalised odds we compare scores across the outcome classes."
   ]
  },
  {
   "cell_type": "code",
   "execution_count": 71,
   "metadata": {},
   "outputs": [
    {
     "name": "stdout",
     "output_type": "stream",
     "text": [
      "Equalised odds difference: 0.067\n",
      "Equalised odds ratio: 0.519\n"
     ]
    }
   ],
   "source": [
    "eod = equalized_odds_difference(\n",
    "    test_oh.salary, test_pred, sensitive_features=test.sex,\n",
    ")\n",
    "eor = equalized_odds_ratio(\n",
    "    test_oh.salary, test_pred, sensitive_features=test.sex,\n",
    ")\n",
    "\n",
    "print(f\"Equalised odds difference: {eod:.3f}\")\n",
    "print(f\"Equalised odds ratio: {eor:.3f}\")"
   ]
  },
  {
   "cell_type": "code",
   "execution_count": 58,
   "metadata": {},
   "outputs": [
    {
     "data": {
      "application/vnd.plotly.v1+json": {
       "config": {
        "plotlyServerURL": "https://plot.ly"
       },
       "data": [
        {
         "hoverinfo": "name+x",
         "jitter": 0.2,
         "line": {
          "color": "#f2603b"
         },
         "marker": {
          "color": "rgba(242,96,59,1)",
          "opacity": 0.1
         },
         "name": "Female",
         "orientation": "h",
         "type": "box",
         "x": {
          "bdata": "3nFuPc6COD2dKB0/oCSGPdPtoj29QCc+cCOVPURUMD8XDxs9ybzTPkTRwTzpOvo8avCjPoLGYT5SJ/Y8mwkePv2Y+jx4Wio9Zk/wPQvT2TvuXK4+HoFlP/qHtj0INbo8ylnAPf7dID5cmlc+XI4hPczoNTwNtvM78PBTPEocST73gsQ+scBtPiG8czyOvpU+TwvZPZ9swD0OQ14/OkwQPThQVz7IEdo+O/8+PDXkgz404H8+MRu1Prv7kD70XUE9GLLzPfcr+z3Itbw+vLj/PpcKaz4WQyQ9njCJPnm13j3cwiU+AM5cP66gPDxSAoc+7llAPwwxWD0Ajyc/vZ00PSy/Hj7ZZ9M8LK8FPze6nz7C+ZU9jZjAPd4sezzsjdg76LzgPB7ANT5kkeI9C8wzP9qWOT7J4sM9PgB4Pg90oj5P3Rs/X46rO1lIuDtybiA+xCUoPp25Aj4/LxY+I2xGPT45sD4VbTU/0f48P7YS2Txn1qI+KvyfPjGavzxfRgE+icMWPhbQ8j7AJYI+AACAP/lv3zzQSPY90oTIPgFtLT75EJY+npZRP+u1Gz0REmM/eyzGPPuGYD7PfWc/GAx7PgCiUj5hsUQ+UxnTPlnPsj6Ints+3D8UPaJG1D7VDd48nSHkO4FRjD6ok4s9BEhLP7cB8j07Sxo/cszUPYSksT2uzDo+LZPLPZc+kD3iRxQ/qkIlPaXGtD156FU8U5urPbukrDydkfk+ugrYPVXHEz9Tga0+AyA/P6CVMz6FtOU+Ky92PmVWNTvD6Sk9VXUBPm5KIjxiOM89fP2IPoZvIj6FvuI+U2CpPdf0Rz6Qk0Y/R67VPqeaCz0PH3I9edAnPlrMvT1GMlY+CZ9BPXBAxz5fdCg+UQZdP3bBOj+M4Rg+B48aPYNPCD8rYUU8rsw6Pi8cMD0uZQE/i8IBPUTImD3/DV49D9CHPkjSBT3cNFE/751YPNr9qDzqrQg8pbSBPMHecD/ROHw8MgBJP6cLmDyezH8+PehwPIDYQz6n/Rg+6t1+PMnucTtPVS89iPoGPkJleT6ULYg9E0PrPC3PVj1GQUA+BYM5PpeeCD97qIA+iMWVPml3Jj4c8xk+VGOKPgaZaT07LxM/eus8P8OZUj+WdhU+6iqFPp4jlj6Qih0/Rb6sPjksojys6CQ9RJxBPWC3Hz1kSDc9DtGAPJrGuD4tv/Q98loYPxol4T7ZMhI9IouLPsHXmD3MzqM+A2NIPs8qVDzKUL0+EUKrPWPgsj0zAIs9SfsLPl5EjTwGcJw+hAC2PmMyJj5DX5k+DElJPrFvVD45aPQ+yLx8Pqr9fD5x/Ow81nD/Pv/SCj0q1gA+IM6rPa3n9D3l2iU9AcAqPZJwUz0qOA894VsMPy1I9jzD2C8/pXhLPoffnj5jGYg9mJFPPcttkD5L+bc8YC00P01IST9vSBQ8Rr8TPhY6Lj+MUZo+hdQ9P/AXiT3hj0s+bXEcPxBIQz4PBiI9+7IcPqGVWD68XAM+ciszPjtGrztNGBA+MvkvP8UBEDwj/wk+faxtPsfZwz569Ro+gTaQPTy5gT1o0Bc//bL/PZTEOT3Xn2o9FCK1Pd6xdjx1j2Q+diTSPrZINz5D65E+6LTFPdgdCz5fYME8MikCPKtTED7O0tU+kBbMPc1DTT14TV48J/WtPYI2Lj9du+U+7VRePp68Oz7buOQ9Y06hPpQHdj2iKYc9EBDXPO+kmj4l1AA/0i2PPrIW6D7mtkU+vMoUP4UvGD3eF6081mdcPWMhOD59CRU+JOnTPtD8sj1wbWQ+HLRYPt3uHz05rrE8x51mP/uz6j1lQDM+4ym3PUrIRT9HDUk91ZI/P4avCj6zEe8+sqyJPTz6QTwJoHk+7wZnO1sccD25N6o+k82hPN9bCz7sVXQ+7BF7P75Eiz5q6QE8Wq8uPqVXzz6Jg689FQIUPNXHhT6POBA81e2YPSGSdj4vQM0+O6faPUxqDj4O/ZE+DLebPjIzHD+5YIg+gsLEPmP8bj/oT5Y8kXn5PSnKLD/v6tM6XPjaPg2aLT3VW5g95+HEPjAkJz6pZHA/cVz9Pv4lbz9E2kk/QxmJPqfmoTun3Ls+RsIyPoJm1T79Jyk/D/emPsZ6iz5usyg+nxM5PoctZT/IWb0+z/UVPZhY2j7GJs4+0bLdPP9zbT7FtsU+mHcmPgQHYD43800+U5YEP4/UYTz13KE+VfEmPgNilj6fXgs+l0dHPfzvHD5AvUA8f531O3AexT3+wCQ9b6frPQoyLTx1WOk9yqV6PoNDJz9i8KE8LGVbPoj4kz6onb89oFW0PTjpzzvzGHU+RB8oPhHCZTuNIxM91i4CPU6y6zydKis9DDDTPYcvGD1qb8k9reGIPYQSjj2lwgI8gR2wPt9ADz7bLhg9ruawPiKTjD5cMP49+ImdPuybhDxSavo+jpGTPPMr+z2Ggkg+Rw9OPkZugz7tDIk+FBERPE1M4Dzyoco9opoBPfdmsD2qXWU+8mV0PgHOAD43VUQ+7DS8PGqgTjzmCqM71tDKPW99gT3LSQY/8h5OPvs6Uz64S409cfKgPAB3Lz1c0yU+EmDxPtPDhD4Oxs89/eXoPayYJT8Icc0+I67GPmkfij5vnY4+FJn5O55vNT/WyD0+xozTPeEuqj7VvkQ+NjETPuiQVD6i6sg+WCxQP76ySzzkOL07HBABP1/9Ij7YxxY8qSi5Pazb4j4ypBI/NJX0PayXLz8UWEs80PWPPbIIrzx8Ok8+8Kj+PJtWWj+49bQ+Hmi0Pr7EQD/4ZMg8UOl9PfKBoj7X+AE/Nd/2Pc1R1j2CXSA/Q8jiPk65bz3N7Hk/rQbTPWESCD0eqGo+HQTKPCFxNz7T9HA+YX5bPZizbD4MRXs++pSAPv/3mT4jt4g+NsWXPf7D8DsYto87umUePuavEz6OqDg+Pr+DPQROYz+70To93BB2PgAAgD8Nz4s8HwdSPnmvFT8kUi493Lc5P4MXwT6C6Oo+DrimPr+seD0gr0s/y5RZP+iugz7nehw+vA7JPrRvVD4Hr6s+fdguPWFxDTx6Y8c9TsoePyu3mz4C27Y8mPxWPPnoJjy3p1c/G9l5PkaGsj7zaDw8NZYeP3eGjj5a6LI+j9dnPn82ij0IfXs9Rx2APWbH4T12gRQ7WFgaPpgqSz5pIp4906WUPStEUz7FyXU+UfcJPwDdTD9q75Q9mzI9P/AZlT7MQVI+vIURPoHqhj06kns9YJtVP+VVsj6897Q8Ftg1PukfjDxRFg8931TBPUKLkz4yuYA+eO/DPfD0yT0uYSY/12KWPNt7Qj+mxKI+Cj5gO8oomzyu96s7rjpJP3aK/z28Rh8+B5tQPvChlD4bL0Q+vRdbPYvwgT40qnc+VKJHPlMNUD6OhIw9YOccPj3Mcz31mIQ+qB0RPsViPj30GSk+otmJPRN4PD6IbAg+itp7PkC9QDwbdMw+9X4BP4CRHz3HEj49daECPpStsT7c7PE8Ljq7PTmfKz30XUE9JzBuPqp/Qz6V1Ug+n1cMPkeAbzsYSLU9ReRtP/QWFD8mx9A7nEm+PaqGKT3hugc+TdryO3XPNz1VuaM8Fc8rPYE3rz7MHh8+rNS1PJB1VjxPOLE+W3ErPqYRaD3e3xA/yW3IPlVg3D3nehw+Oa2tPi5KyDwgIws7/w51Pp2n+T5TR4c+nNeDPnAuDz2Duvo9cloqPYiloj6x5V861bqRPb3n+D55EX49gokJP4OwGD4hU0M9l6y5PSCmXz4TyLQ+cK/VPTGSZTxmwQU+4zixPgFilD05Iv8+kAIEP/jrzj2KvtE+PR0eP6HjEj5K4tg+k4yqPAI8VzyY6t48QN+4PD4Diz04kMg8Nb0oPdf0iTzu5hI+39NnPm4zRT7Jo/c80OcxP30U9j4XjR8+BeGGPlGJQj514s09Y7ycPmDxTz7OXLQ8wXbHPnhNNT8BjtA9iX8OP+tB6DuuvIs+liMtPM+iZjyIQWo+uTPLPZdAcD6qAFw+CBNyPn4TEDtFZNU+DucOO10gOT/PgfU+EH9iPojUuD5ZAeI9qL+QPs8Jtz4rh7U8fXqKPr+3kD6mgwk/hElcPhQxqT5kZbA+IPO7PbHhZj3S7vo9BetsPeyN2DvL64U+kJJaP/AuGD4UTqw+Vr9GPxI/Hj+fF8U9dn/GPnUOjjuk/9k+FeBVP44/JD8SHEU9/i2qPundqzzsv9A9dSyoPn1UGDzjDkk+WP8PP/8xPz+YpzE+yflJP29bET55mi49z5KdPI9D8T74nF4+vz/uOpYjGDz+Q0w+E+h9Pl5O/T0FppY90Y1MPJG6Ez5AwIU+Xbs3P7XOzj4Czp89lqziO/oPVT0F6k8+Zu4yPiJoFD7i3lU99YJdPpOlVD+WzaE8w1dSPpaFZj/j6jQ9to8lPhFp+j5j4mA8D6JTP1L1rz7mOcg+v1pwPkDHRT0opo4+PQdePsPxGz5p9+Q8cMWzPtf0iTzh3wc/sRTkPbV3Vj6Too0+0vNyPQC8TzwY+x8+VGsaPpexNz0bcnY+BqV8PYtDxT5ODus+k4b6PXrcyjxrM4A8ud/FPPQ3Bz8dBMo8zIMHPWlUFD5E93A/hUYLPw8ASz/9bOc9xKdLPRwDCz9p7Ys86Fc/PnGnND9m4wU9SNnaPWM9Oj+2+rg98HwpPgxZFD2UDK4+o+37PYyl/z7+A6M91cFGPh07kDyus9c+ry8WPoTaoz1B/Qc8Wl+jPgxtBT96/HU+rRDrPrhBaDw6TxQ/LN6WPnQh3DzBwQ8+z6ufPjPVRT0qUcc8lTRHPGwhdD6cvFk+u0/+Pkg2/j3YKzM+oNOIPoI7SD0BBWY+zD7YPaBgSj5875M+X3K/Pq10jT4zqck+VSqXPeUmIz4BgOQ9N8AYPrD+ij0Kpj49Vew2PWenET5FHRE//x5UP5+D5D2CJAU++mPcO/FaVz4qaTY9vs0KP6gDvD2z+Ts9A8XhPeh1Dzw7US89wlSBPaVHfD2+F2k7sQVrP1qmBj5Rk4U9XjW9Pvjyxj3CeOE5nzoBPuVTOz5/nfU7IJODPvdJyzxkoDs/TKmCPGinAD8Xxhs8QdSgPc8R1z3IuLc92n88PmK2AT0Tye89+PzNPoLqjT6ghcE9u+MiPiUIET+Lmno8sJcyPllqOT/eNvc+W32APS8mOT7FA/48txzWPTJ3hz61RiI+thMRPOApVD/52ZM9HdDDO5rNaDw+S0o+TokdP/w+gz26I/8+KHi8O5H8cj/zogY9HPNlP8K7Lz4UcCQ+SLFHO4Uipj43OgE90VpuPW1MsD77t787MuNJPBH+fD3AQBw+ARgIPi63HD4mXD4+N0ObPpwjNj2bB0I/5oOrPT4LTD7tqOk9Wb6lPvqjtD5gPBE+cUh2PQT0hD3bZEU8H9UnPjh7oD4u8689WVe9PYVrVz5h1IM+exOEPSgkMjyfEg4+B00oPfwlzD5aD6U+SCOHPnheHTzQRDA+OAoPPzzAHDxmfHs+hDsSPn20zT74WJ0+tekNP/OzMD5lDzQ+M4CBPqRJrD0HlkU+G0+oPljBIj0x1ss+pPhaPespsT3lFYE+TIMhPU6stjul5rk8psYDPzvdFD7busY9CjhlPuNxuj3/Ur8+GONJP9DBUz77AH8+DuJRPiLkED/k7LU+v5SNPTXEMT8p2X4/RB4APmMitT1NE14+BYL3Pbt4Cj7xw3o+Pm2fPW2weD+Vfj8/YUQ2P5RsYj4LFVk90FAJPulAxTzaZKI9JCb/PaczLj9DAMM94KHLO38Zrzzr5P09Ou0hPpuSUT9vXfw9ItjbPFhEsDxZC00/b7qGPqQ0sj4dvf47uSUfPq5jjT3BcQE7laMaPpEcljweJHo+nN62PSG8czw24289bKRuP5ICOD/q2cA8Lay2PSeGFz4FEZo8zZPOPAttVz0W+EY8r5HdPs2Xvz5Otig+ePbSPSruijvPnOU76oKyPk5KHD5zbwA94TWbPs05Lj6TfLQ9HwdSPjq0iz0/rRM9Y5kRP/yQSjs7Sxo/zLwUPivlPT1RDiA+UszQPo/XZz4IhPE9DuoxPHVkrz0K3Og9bi5jPtyi5jzJQ009kvyfPn3XZzwUH4o+ZlKCPuDZ3j1QTUw+J/hOPrtryzuYZ4M+6GUVPRCc5zvUr9g+3fnhPVwSMj3dL4s+flUSPKgggD48mLE9H2n+PTHnAz+qY7k+GBq5PFCLTD8p5/Q8tquuPk2JDTwVxh88XIsMPiGOgD7WXbM8fH2hPF3ZMD2B6kI7euMzPhAQ1zyrOBU9SujkPcNeHj/oU2c+p/gNPqygdj+2PK8+de6BO3cpGD3jUXg+QPl2P6GzvTyyUKI+4bASPpfCGz7eIlw/S8KsPi0HDj5ryLM+sOzFPC0ysz1MjS0+bODEPrCmID/yXoA+YwvUPVjcTj6IhZk9YfBIPmtadD980f88Zu/7PWeASj6MWjY8V4dGPdbHuD1GIUk/+XKKPmYiZjt+3Mo8vIDyPaXE9Tssf4o9LaJGPdavPz+uaOU8yzUlPkCaWj4SnzI8f531O8V1zz4pzfY+2WTZPbqQnz1ysxU98T//O8dYpT7/xso+XKcyPdXHWz4QTFo+SGGcPXonuD236IM+gao0PKu/5D7BXQg+0leBPac4LTwKAR89eFlHPOKYND82chw+kJZGPZ03XD6w9XU+R/39PW5TXj47Flw+ZaV1PnLgxT4n55c7UzqXPJgoPz6MU7w9acy7PvUAET7KXDw/Uw8EP7Kmdz791QM/UtOHPp05uD4o96c8HfeQPlUJoD6wUwQ+b4PQPh3sMj024co+Sd3vPSNwFT6GLSI+a679Po4UjD2G54g97V5jPn3LUD+/sRM+CYzvPBLQAz4hwSI/R1EAP+ubLjwjcBU+rGYXPr+LmD5jfh4+HmtUPlXIoz7q9qQ9wEa7O55h9j0nles+7A38Pd2/Pz6D200+I2vPPpARuzzeQyw+KlKePYGXUz2GgQY+bK81PyhIfz+dLgY/O28lPjX0PD5N62w+VGrlPqK1ZD7KNwk9XOdkPvkRPjy20ZI9r4CSPqzzQT+7mGc++hAGP56PwD3sCuQ+ZdJIPyPBDjxq1l8+eNYzPvUhkD4rrY4+VnINPJW9ST7jqSM/EToPPhdAAD6V2b4+E5/uPQ1rTD/jXos+3xdTPvUNDjyYFy4+EgiePJoXfDwo5cY9BQ04P287cT9pxMM+cAEaPjdpbz5iMcM+IruWOiXFzztd1IY9AzXNOw0B4D4S5Ng+mRQvPvlXQT7avHU+GaDaPl42pDv44gY+G/cxPvTF0T4L/Sw8U8yDPi9JnD4MGmM+riGoPnOE0zsZ9zo8cacTPk2xXT0KgiA+uw3BO0d+kj5RE84911eGPnN8lz6yA48+woGEPq0N6jz8Ths+vO2dPrw4YjsqGaY+foVZPvj12D3h1l8+pGmSPuBCUD5DX7I9/3qAPiaNiz28Vyo9Q7GGPh4Aiz7vji48yo9IO98ocD4S5Ng+I9TQPg+Fvj3AC7c8fxs4PaCTUDwmV6A+naORPjLM5zvHVYo9rwytPpCEbD2G4vs97k8ePyaJCT5+fwQ+nhVePnWHmz6Jmys/nRWGPbHXFz2VQ2s/IcccP5Q9MT5OkYQ+LDWHPl2hYD1aSK49hM4fPzC1yz1CXvo92Z+jPjNkHz4SHf8+q0UOP7K3RT5BvxA8BKkkPZfswj3XoQ8+tgfsPk4lJj28R/E9aavTPvic3j4shu49I298Pl97pz3jigE/JYvKPtQfSj5u0cQ7C5TwPO3arDzv2xI+Dh/wPhSZED/+1CA7l2WTO10Mdz6trIE7+QvrPpgMVD6X9Ag/xLdjPnMyBD/MGng+P8c1PiGBmT2ImTg/Gi9EPhgVUD0UPB076+KEPv/HRT+vUZQ+7vgmPxN3Ez+dhzs/2sPAPu98Cjzq2xc8MEeLPlHwET8NFKY8eDhpPpO8Pz5cexM/e4WAO9D7az4yqnc+VLHKPGQiSj/zOo0+YbuBPqRCfT4kPoA8+COEPYdY8jx3TkQ/ovZHPyWEWT6lI4k8fvZuPCRRVzpOIfY93CLmPfDiBz5LFMc+g5pHP1281Tyj5uk8NkL2PHayfT0Qi2A/MqcsPqy2SD7v+Rc7vdQRPpT7nD58rFg+WAnBPssOSj7A5Ds/nNoLPztehzx9mjM/MAamPoHUhz2Heic+tsOLPo/eqzxsWKM+9jI0PlQPKz5ZKvs9FmkZPky3QD80SBk+9R7gPPYdBzyEt7w9FldtPJA3FD4iMpw7YI83PKo1jz5SwFI+9ctXPqnmFzyeiJs+KZKgPINWOD9T5kM+/T4qPsmNSD19i5s+HFBBPxl7Sz4BjtA9mhd8PCbdPD7z1Wg+Y9dKPbzXjj3KKPA+/DCkPWYYKz6Pruw+OkaGPjNLUj7f/2o+meW/Pc/goD6GJe09IbelPmbVqz3GiKg9oh9aPqrzLj8hHZQ+2La7Pp7mvD5Mc1I+TYfwPdCD6z4cjbM9egAmP9Sa+T1JfGE/y+HWPWxGuT54PZ896TYQPnvqOD9TuiQ/hnWbPrUqmz0d7DI93SseO+4HkDy5YQc/o6stPghxrj4v288+LgMZPqu4rz7BIiI+y9X0PIy4aT4MJjM9fcz9O2NiRzxUetE97OojPJTlTz6rNWk9UszcPfmgeTvqj+8+9r06PC94vDu5gog+CyCvPror/Tuur5A9kfcIPm4ICD7ymtI9IHqFPlH9tzswbII+L/xTPhJ/OT884So9R80OPt7ROz8J9408JQJsPt9UGT+D8lw+i10lP7AY0jxUhG4+YgmjPUeVXz7lEKE8mmXmOyknrT7EMls/gH9GP5lVuj1vV0U8pjNQPph8pz6LhiU+n8CAPDWrgD4AAIA/FQRQPAAV1j4wUQ4/CcrIPQdyVz0/kAA/Fu6qPV0ojD1/dzU++jbvO1d4GjwG8QA92+ZZP7aUgzslVh0/aCs4Pl+VfD5WDkA/l+nIPSx4njxFiNY91GiVPGrvED6qH30+mE/KPSbZCj5zwRI/V+GLPt9lAz3MzqM+CsZhPcux3T2zOR4+RQU3O4GOQT4wWj8/MU1TPcOFUj74P9E+tlmmPSGmPD5DL1o/yBW8PbGcqT1PRbo9QHmxPcsd1jsmjEY9bWwePbkvoT6b74Y+paKtPZRvID4figQ+QPvhPc8WDD4uSzY/aZgZPums7j1szHo/voBvPnEmkz0BLCo73P4+PLchWD7KpYQ+AACAPxx9uD7rFJ0+FpAUPgleID5ni689tu3cPAHB0T1zys8+hk87PwjWLjy3mno+Yb1yPZuthDwlB7c9IOwBPijMyDz1GHU+TOfwPdqUPz+3OkY/mFXFPUfAZz3GWTU/LbaBPsacQj02JIo9fDTKPm9UKD4TErc8wbpBPnwHkD4QrkI+SjxbPiyqmzx7tTM/au4dPWvwsj604a85JfHgPidZUz+ljtU7SaHgPWQZ7z3GVhc+Gng9PxTZHz9QEVA+FFYCPYaYjj660FA+YmsyP0slZD5p7oI7e1tXPZBU7z77cFs+wZz3PnkRfj2xXBc+U7ywPpT6jT3qoW8+p+ZEPQ24nj6r7To/GSYdPtX+bD1zKjw+814mP8LDOT/1m9c+xk+hO9Bs0T4OEQU+/Em7PnQPiD7whAw/jM2MPYHdCj8ZPaQ91pKGPgM8AzveDOo7pca0PT17jT5fEy4+YBFNPf8+Mj688aQ+Tzz+PEHUJz6rpcU9jf6APmrcvjzpFRo9Fo2LPZmmUD4FTYM8ZTIIPbaDnD1t1oQ73BlvPvLwtz7dZ2M+8NMYPguInj58TIQ+wu1HPPwkWz7KddU94EJQPtRreT4BJG4/Wg5YPnBS9jz6UxU6R8XEPLi3Ij/uB5A87U9/PxtHBD/v6/c9C0nhPEro/z56/eA9iXYgPhLQbz6v2Ss/d/h6PstptTsCBlg/k+JWPGF4AD5dCrg9g0zDOztwID6oTKU9B3i7Pd+LIz300dQ+asz1PUTbbT7lotE+8AKCO+/30T3PCOk+7sTaOwAwqjuVQvQ+CQSxPoy5ZD63IpI8XDOdPB/VJz42EOc9GlJdPjxI9TyiSLE+BQYPPzaZhT4F4YY+wyF5PikRTD/YNxU+eS6EPapBwz6xloI9HsAKPnXocT+kje4+uEuNPduRdT0qUiw93e3OPghnyj4mMb48g/xJPzN8Ijzarh08wRGxPt8AqT4BdIs9pnyRPD1ASj42EOc9JsUFPjH8PT4KXqs+b+mpPRe6Dj5RVgA9oYIZPp70Xj2Bw9A+jH4oPQWV+j0d04o+HDHTPUeu1T6jqDw+BD6lPqNUXD6PUZo9sKx+PgAAgD92vL4+13IHPlaOKj8p7JU98W8bPpEK8j45Pow+/251P7juMD7XFfc8Cb5CPhmQfD7WnLA7YQ+vPg0odT4f1Sc+ZN+DPTyThT7TBEg+zfYvP/5/Bj6MLOc94ogNP+OxNz2lI4k8UBCOPWtYWj7XoQ8+H49mP5nuVT1Jn4g7daM0PmosSD58gHw9EZ2oPtf0iTzzBks95hH4PYWd2z7m/h8/vN0gP84S6zsXSxM8dyZnPvtwWz4b7HA/GknaPIiKXjz2TA0+MTLzOsbdAj6XDok+rpySPKWKBD41x3w9OpSMPkzkFz+x7bE9+GK0PlFFPT3xREM/eCqJPTLIpjzIetY+6FNnPv76uz3YPCU9dk4mPiLeXT7yIjc91c0AO2bprT6kArM+7aTEPpUUAjwp/EU9xPokPl8naz+B4k0/hPtuPTSnBj7YkUY/tr/BPCN4KD0Ybx09MPg8PooLWj4kZGg+A5HjPYc4YT2sP4E+kcbEPeUAJz4VtBg+iYVGPhJzgz5hBjA9NEcOPquS7D4X2z87vn24POl+ED8BT0I8Q7sYPsWrhT4whqA94EJQPhv+lD4XWRE8sLsGPiS1gz2UWmg+sZx/PljNHzxfaGo+5IcTPpuUpj7duKs9sX1xP61nhD6iTG4+AMJXPiIFgz6iBmQ+wA2jPjJpJT4E6x09h00sPFutgz6J6sk+fLoLPqdhoz4CztA+mxf4O/1ryj6jZmk9L5yPPlXDRz0nywY/isbCPTswSD29VUo+ZZO2PTjkjz77WDQ+tiyTPlXkRj/Pc0A+jugIPXv78TvmqdA9CjcBPh7FhT2iueY7J8FAP7hqQz4k1/A9Y7ycPgLXtj0eJI0+0iFBPzHhiT4AAIA//Wd7PofRpztvmi4+TGEXPL+5ij5N0yM+E7SUPnP+Ez19nDE9tEeZPpTNzzy0PHc+ASU5PqJxlT1rnvY+CMA9O8loQT68RGc96zNyPHPkhD5r5P8+VXXfPu8NST3g8iE9GZ/6PMGFAD7Guq4+6HaoPRe3Tz8ncec7Hn4HPjcNJD/bk2w+IYQmPw/ihT2Ltk88G8YfPNv9zTuSRqU+qtC2PjpGzDygLWo+Y7ycPmSIqz4AAIA/YDAKPlF+dz2qce0+6tfFPfMb4D5Ic7Q+Cyt0PjsS0DzTJ7c6Cc41PaDOvDy8cIk9f+NSPTT9Uz4Zp4U9IsyEPbZGIj66X8g9wh7BPms0XD3AAQc/Elx7PPMr+z01g5I+LQczPpoIWz03qGw9ahRDP5e9xTsNPYo+98dhPvNeez4xzE09xPK8Pk9PLT1bFOI83PJxPsajLj55oXE+L1CAPmPQyz56g2M+juNGPseMIz3XyGw+PkhGP9ulHT8doMc9kHfjPiL+Yz6OZ9E95vCmPhl/zj3Q5LQ9nc4QPiQcED7qoEk9syQTPgmhHz4T12Y/EA6cPoG6Az7ogwE/YKnuPfqgMT7oXxY+EbOJPYqFRj6Zp/Y9R14yPn4+1z3GZNQ+cCSAPidt2j7le1c9GpEcPoBRjD5WT189nqGtPSV/pD30Zas+b6W+PeZCnD41yfc7tjw0P6LAiD19AUw/BIOqPQBYlzy3WPM9yxzOPgrlxTyIQHE9ddhEPUNYbD4O6Zo93K4cPu0KhD64xsM+2XjbPQGw9j42DoA+kUbOPu/mMT5GiXc9P2jrPIsSOD+H8RA+DfUqPZpUEz2V51Y9k35OO4lQyz11yAY+w6wnPhBWCj1pReM8QBqUPchUrT51gA0+NX3zPO89UT6bYPQ9vAGwPAd78D6sEpM7QrymPjQVpjs8454+CWByPikAPz9KC+k9nSj3PiGyrz7IqTk+FVKvPQkdGD7q+hA87OdoP9hgYz7+atg+vNZpPvZ6Cz+y+ug8AHXdPriaHT4aZqc8GAi1PQPIrD121XY/zN0AP5eQzjqtX+Q+kVwPPR44uT18VAI9c/IgPkZzTz5/BXk+g41BP5hIJz5SlVE+Rng0Pvi4qz2wbM4+6ID7Pb7mRjxneoE+oHE/P4GIdT1bg9Q9quxCP24IXz7Pvgw+HUckPoFQyjq9PLk8wNROP53/nT4msK4+AjhGPuWhwD19eoo+jkR/PVNlCD6VzUE8B6C0PSBopT07Rq870nbMPtKjajykG3E+ciDxPfIw0D4PAjk+msJQO7zpdT428ss+2zlKP8/PIz5S/6M8tcOCPkAqAT7nehw+6S9BP9vEFj8g3rI+R5xBPSrlCz4rf2I+e75JPgqmPj0Dvac8GTNnPtDWMD7nheQ93m4sPsoZRT5O1l4+8JymPlKXuD1HZiU+5y/vO5CSRT7Nb18/1RMiPiQeLD4bxiQ/WQtNP1Awlj7GGEo+OXVlPozcgT5zr44+zghsPQO37juPm/49yfEiPtEOFj9nnls/PAw0O0+2XD4XjR8+AE6WPrZajTzD2FE7ySwlPW/yoDxGO289BhRBPuiDAT/isFc+Xr2HPWL4yT4fa5M9phV6Puf9qTz9oHM++ZIBPyCnUz+PhRs+65suPEKSGD2RA9M9aL73PPlgCz1sEA0/bqwRPoyBqD4iljg/jMC8PqNnPT1p59k+NUJaPs5ZzT1Sc7I+WOl8Pcn3wj3K/xA+wq8sPnxdKjzJWDU+NMdAPsuJRT6aWnQ9jivkPk0T2D7bUmM88wZLPfekbj6JrkY/huhDPz8jFD9aoz4+c488P7pC6D4+GbM+IxLxPq/PIDzgw3Q9ZlUMPpVFBz7yQkM/SqYAPi1/xD0mfn8+eykYPe06+jyW8mM+KtYAPrRb3D5jOaU+7ngHOwfi3j4JDVI9+NDnPinKpD7ZsA8+9GsuPRDnSjsWZUs/Zm/BPQUSFz7bvQ48774gP21K3DwDSF4+8YmbPTBZPT8l0oQ+mFmMPgEACD0krUw9rFkoP0yOiz4CPE4+pfA/P7RrFD4kb7w+PkEXPgAAgD/Ux3s9YRc5PSxnKz60dYQ+V6hXPhiAsT0c1SA+9sVZP37FQz2j4tQ9ina2PBymVT4r4I0915+vPTGrFz8OJYk7d0q3PjqTpD7fRik9npUPP3kr1z1HuaU9NRgSP2YZFDzMzIs+koo1P3jSsD6x1Zo+HWi0Pm5g4j5juLY+qp+xPRAwmj7BRPw+4HBUP03n8Dx5AMY8pKj8PbncAD1n4k0+ThT6PctVoz11xEA8YjEWP0wQFj+YmUw96mxWPnqrhj7HZfU+T2ghPaA6sTwvRp0+fkzDO7gLej40O7I+OkbMPNZcVT9KhUU82MY3PcdJrDyzWp49DG8AO5mFRTzD9m0/EXemPgD3pz3UGAY+p8OQPO6qiz4yM6o9dRapPsEL2jxFVMg9C7PMPgWuRT7VKFg+PP+GPiHpoDtZoU88vDhiOw57qD6CDYw+6cvCPIoaoD5CW5g+EJNXPSpPQz/ziWs+7hMGPtaWTT5Y7y89sGMiPqmxPD/M9q09upMLPWBn9z4JfIA8Ab5MPmQA4T6ojQU+SekjPreOBz5C9So8A6BFPkwp8T3xlUk9aoSQPrymHD6mvIU+w1ILPo9OQj6Lh3c+b86ePSBIlT1zJwk/CGiaPgXLQz9udro9dM4TPmf95z7r+AM/+QvrPlOvFz9r6kg8OT7QPsieez8cf1E/UrwpPp96ITvqgj88FKN8Pox+oz6FDP06g/lwPWbvhD68Wsk+tRWXPZlBED4ZtWQ+BngGPXrHETypLP0+p/A/Pjz/zz6HWrc9Hrw9PFYcDT+xLhs+WygIP4Ir+T2Iez8+Dr6lPp4X7D6Kg5g9OihMPi+a8j1VC1Y9JRwQPnQI7T1Endg+V59dPkg+KD62Wo08EbPFPQYhez8C8ak+H40jPyONIT0i+4k+wsACP0FSJDyZ6sQ+psubPvO6bj55JjA/n9HFPg6GMD5xkfM8Y/71PaSoPD7u+T88RF+CPrULqj3LZzU9frVMPgMT3j1yqDw/TGKHPhWhwj4iVJo+GMKPPaaY+j1EtEQ/TCuHPSfjBT3aOhI+Y3YzPuZgaT/KQ+g8vPugPPvKyD6Qis8+0gM3PpvK/z7aTys/Ye0DPJpjoj7B8O08cdgAPRmikT7p5Hk+WdUlPtSGzz3mN3k+h1O/Pp2qzD4TPxI/BYpRP6H7Fj9Qt6E8RwgOPcNlWT6U9Ks9hmsmP/SuHz/AJcw+hnNmPvE//zsmxAA+J42QPiG8czz0/DE7WxnNPdmG9j3Y6cA+c4CGPklxXzwp+E4+6TAcPpyjET1g8U8+duLLPIL8gTzQ7nE7nI+9PeWeTz9VuOs+bupbP/yFFD9+OyE+J+QuPVuohT79XUM+8ZoPP94M6juGsnQ+LONJPGsR6j0L7h0+yP8aPp9zrTv3kgE9pf9TPnhtAT4iyCU9obNxP0HUoD2/Cu09wXpiPkyy7D04g8g+lNCHPqbvXD7Etuc83k0OPjAegT7hrj4+qggFPG78nT2bvHI9/kYkPURaiD358AI+9+iZPPP7zT6+Zn8/+bWhPcqZYD6sxB899Gj3Pp8QjD321es+IK1EP2MgEj4Ycxg7IBU/P4MRzz1Bi3s/JnuBPZ4GeD8IHfY9jtxLP3iRSD4Gt6U9NUVAPsI8Gj5lDxA+F8ZEPc0WTz9F1h4/HraEPuu7Fj7qVCE+38snPjPhqT1zH+w8LNYAPhPseT0mjZw+2QKZPaXNFD4A+4895obLPS+2PD6J7RA8yhP4PrH+gT2iIeo+UJ4sP24b0j7ZKKg9RfUtPen9JT4d3kg9poa6PiInsT07CCE9As+PPpnzkj7I5ZA8HPJGPERJiT549xA+ulA6PjmPRT9yTUM+tuS1O/DQ/jws0Hk+CHaKPZ1HQD9IPPA8D9RSPf9KWT1T9zY/4+rpPP3vVD7ppWM+DJnsPdyeBj4DgWE+PF7kO4SrGj5duCQ8IiGUPsQXUDyEaHc89YFXOvEskD12aTE+Qwu0PGlKZz/bh1Q/euMvPX+YCD8VZxA+hVDYPhFJCT6HE0E/p7lmPpFfiTu2MSk8Ys1KPYKy5j1vsDY+ToWTPeTgBj3tgTo+4XULP0ee0j051h8+FIqsPnh0oDtAbGU+efs6P9Ow2Tvbsvw9ApFKOw7CfT77hw897YzdPpLCKT4Fsr4+40CkPTC73j3JRsw+pJwSP4eqpj5Y74Q+qA5JPyqcZT0fSpM+0GF4PnP+Ez2aXwo/8T//O1jN7ztTvgg+eFaDPBujGT4p5/Q8iIpePODkIz/M3QA/Oev5O5PljT7mna8+iF0RP2rcGD67wn89Fyq6PfrTED4tokY9VXLDPcYxuTy8EGM66yahPtLQgz4gLEY//EVXPm+3Sj6RLLU+mHypPYZUhT5Hhrc+MyPHPO/u2T3LPio/4PFWPOrZwDx8V0g890CdPep8gj7mzxU+NGMmPsTnZD6lg9o+oVMPPw7+aj8sVGI9VuqrPIGfDz4h2pM85dDHPpARbz8Sr4Q8AwZTPjl/aTwIprM+Nj71PjnZNT4lgUM+sczyPSISLjy70wI/AACAP1hZIj6feiE7igd/PrbmuT1rmcY83/l8PuU8hT2mJ2g/i5OWPCIkMjyt0YY9O0avO0Kd5T2lI4k8Mm6gPnrimD52DVc/B4W2O0RfbT/IzYU8qLMGPbXOgz65Q8s+cxuMO4OrlD4CQSM9xdlkP5SOlT5IhJo+jEUDPzpGzDz567A+59ZKP1cRQD/Rn7M9AP5gP+aY+j0IQRU9uvQ0P566cD48zA8/gclKPD6XbjxhKxk/XCXNPUNWSz5T7rY8PcxzPbQYoz3DO0A+NFUKO3bsNDwup1g+I1PlPZAXcz1Obo08zbf6PS9caD/ZPUQ+eQPzPV9YcD3R9CU+1WKhPunQQj7D6E8+/cigO95eZj5GgbM9twgPPQq4IT4YiMA+uUQvP62VnzxwahE/zlCuPJ+HDD7i9c08CGSDPmRccjzZQNk+sZ/pPTwHCD2tBF49+mKAO/wqlT0y6rE9NaJfPs0q3T11f7Y+YWD4PfP7Rz+lJgE/bHcAO/2sGT6xbBo+VPuNPoT9uz2Vb60+ThrZPMxUHj7c9Uo970eFPred1T3zogY9M4HqPjGQOj8HDhY9f2R8Pqo6Sz2xeJs8SUzgPDkuVD5gr44+K5VVPdaJ7j3LA5Q+wPGgPXWzFD8d5P881tAZPnnoVTy6Lvk+3dc1PYdMuz4uHJ8+OlRFPoSrGj5C7Bo8yplgPqto5TyL1JE+QKz5PeKPIT8IUa8+HwDCPmdRKTz6kGU+TcxyPGA0hT348sY93i4NPtgKQD9L/308/MJrPmaBwz5rrUM+lRFRPsxRxz7RRCU+kVTEPmusmj0whb0+gZXyPsL/DD6/Rs47qTvXPqGqHT7jVtA9TGSbPcOpWT8oK08+/f5JPivAfTxVxbQ+ujTqPbqllD7Cpzc/uVufPhl9wD4MOss+/41QPTsg1j55THo+OoezPkYiPz5QuNQ8e4CvPQAAgD8UyEg8UJgxPRw4ST06ryI+N5+tPa9TxT7F0Pg78N5XPoiKXjxiWAc+N4c+PWmzAz/wdBY81fQRPQIoAj5o1sU+2MY/PMteoT4KnsY+v5cQPKmNRj9Op1g+cdyjPnx2BjwmDPM8zgv/O+jQkz47B9o+57VFP86yLT1hmp8+nz4VPwixVD+RuhM+5tMbPvlGlD2ba188+MnrPY1wUj5cwp88s2kUPqN8Gj0+AHg+bAIJPy7RSj/Te8o99TSZPfv4zT75BSk/ObkQPmx7jz6N+OI+B87VPEW+rD43wvE9BferPvSW9TvEwZI8E0adPgy0ED84YhE9UQIJP4JCpzzZq0I+wap8PVZofzxNQ/08JlkAPquQaDzp6ek9e/axPmr3RjxxD3A+/n8GPs7lNj1xe4Y+lImjPhrwATyhX6I+WLxsPRbWQz9sdpw9+PHEPuyVdj5gjzc8w2Z5PjLugD0MnMQ9bDejPWP2NT9KTbM+C09jPT5ubD4EVFA/PhMFP/L8JTuduEM9+eYVPq7sWz7wDL4+RTehOzyebj2+XUo/wsYvPVxtCD8FgC4+Y+wqPre+Lz62Iv4+GmEJPqUImT6Ogn4+wR6SPvQuZT6ooxg/gD3FPKe0Zju4mx08KdEFP5bYNT5igiU+rtBGPrDptzyQdVY8Pg/RPQz4NjwLxf09OFX6Pks/GD5N/Yc+zM6jPi1m/T3OtrU9PKAwPt5Spz3fwjg/zLEZPxdAAD6o0aE9mabsPWvdED7+1CA71iJePjrSBT/Cryw+4auaPSw7ej4Flyk96W7iPM12lj08nm497jaRPnHBsTv9JFo/eVUSPF7HoD4Xa8A+8oXZPfWAED/4Pqc+psVrPjNcHj/so6Q+GOSmPsD0PT/eyeY+w49mPxs8IT/HhTQ/AV/yPq5REz9myVQ/r6mDPhl/ND5DsYI+7OiOPoUqoz5BV5s777csPuLmOz+Jomc/g15SPaR94j4ISUA9PnEePnG2jD6OUWY+0VEVPXn0oD2dNqs9/3wCPjNA8T6Upto98lihPlZWUD6C+gw/0RymPqX94T1ZMvA9+B+KPuNpJD89NBQ/EPNaPGnxlD77fwg+S/WdPmpQVz9Y1ro8nNg4P+8OGD1PqHo9PZosPowQKz/O96A+fMDsPpAucjxDYcA8461MP/Rdpj47m5w9xkRwPpX2Rz4UV6M+xDYhPnaMdDzHcuM+XFiOPRXDNj8hCIM7hT65PbocWD0ugCY9lxdUPAxZdj6oTNI+vzAlPhpnCD9J098+s+I0PT8ZET4dNDI/FSBOPutUIT72lxU+YczXO0C3CT68vss9qLsKP5jsOD78lGI9ae6CO9mqKT5Of/o6OegMP/D11TycyIQ9EnADPkBiIT43OtE7fdQ3PxTVxjoQEHM+uhBjPjwTOD816OY9F+CbPlV2yzwfDl090enOPi+uxz2iqe49J+o1Oy9mjT7hP/899sN1PA5Sbz5xAE8+bVPWPpAMqzyFZ/s9YVEWPg3rQj4hKpo+ldgtPlAGgzygFeI9ubVFPa1nOz7aGqs+cT4rP0kzrj0oNzI+lWYRPJOpxj7Smx4/CVrCPM7/7z1Tdm8+ztiUPa+7wD7bvQ48Znf6O3dAATzSgIM9vjORPonzPj0O1Rw/60gePxwZWTvyjdg7tL0vP4bVXj+NlQc+WZnwOzwqMDxzrOA8gye9Pl1eKj/WJDg+d1UaPzvzwT1hIoU+cmiSPRfNLD4Wfbc90erQPiYk4jw6dAk/RVVJPaUjiTwwL/Q9CB5VOpYNTT+XvPo9Y+JgPGh5TD2CvJ4+hl8cPnQUtT0AkCs+iU0fPjiifj/Smx4/o8QXPnVvRT2rW6M+k6KNPgWbMT48krE9iB25PRv3MT494sU+1d4sPuL6MD8JO0c/BmWWPtDT/j7WwUM/NauAPnZSTT6A6BY9nSotPbSvZj4qt7k+7q59PSJhqD7tOvo8rflyPn2OYDys3qk9qag7PQFDQj9c0gU+Z9HEOzJgrD51r8w+SZ4+PgpjQD/RpBI8EaLyOwdBjT5sH3I9edajPlsBwjzA/6E9O8kTP5HfBz+y8yY9N+ooP46tVj7X9Ik8RUh1Pqu2lT7ItU0+TrxPPQH3KD5HR5w+Wru2PZ7PIT7vjQY9q1mJPrgLej5dOuE9ASwqO7jG4D6uUrg+NBj9PlX/DT7nHKQ9SVgBP4x24TvtQ+o+N+UEP2WI7T5Rmso+s4XQPpgzUj+F8eM8nl76PVx8/z0rVI49E2F6PwlF8D5JNrk+9j+BPqcaVz9+EoA+XSMWPsH3tT16Of87ZacmPME3Azx+fqY+0OIPPWRtzT6HKMI+7zKrPSyCyT32XxI/fiOpPm9mKz4II6M+kDwnPooxUz70Qjc/qaG2O4NjqD4j1vE+1KSYPtkcAj3eyfs+jJ26PEKhSz8afZ4+iry3Puq7cj78EaY+6oSxPKgvMz1cDDU9Tp66PatSjD6H2Ig+COAVPSfHND+mNOY+zAUsPp3xmj6U5uY9+lKMO0e5pT308mc+kQVgP27SZDxUkVE9SHLtPXXxPD7o5pA+TeA6Pm78nT0R0CM/q5BoPJgA/z3F2A8+sMK7PAY39z3lPxA/6AvhPCEi/j29kzY9VkEvPoZ5pT6tXKA9kmtYPfICdj7oq40+1D6RPtUPMj7DIC09GjlYPob8Dz955IY934EJPpzvjT6RqZk+LhZqPo5e7D2YAHk+1+4IPaI+Uz4FKzk+bSlJP6aFvT0eEYA9WZiHPJatQj+98lM9tAivPKR2CT+f45o+5Z5PP1UsZT/Mk4o9o79AP2Nphz7ytEY9rJLBPdJGwj3Q5gI8uEuNPQUACD3WKIk+8/I5Pf/U7jzsBg49zPaSPhOtazwiJw8/xawnPql96j4E2VY/Hg1HPkA/zz4ZFrU7uIwYPSO4xz5zld89gBVXPuMs9T7gsBI+Uxb9PcNEDz92V5E99ps0Pvf6cz6+RuM9iEUFPjM1hD4u0r089L4ePmnugjtosrA+4HwdPUigizs6F2c/K/eRPpg4Dj7ugA4/XNv0PSzP1j65AP09BAyQPnlNQz4S0ho9NzoBPT8S3DyB3Qo/oHh+PqnYlz29eRE/wXBdPtgH3D4MvE07RU5aPhjzMj7fsJE95nf+PXeDnDzthLE80X4pP76BZT4tEIQ+hhM4PtJVJj45jII+E0PrPAWQSD4aRHM8OZTpPlPdFD6YgL0+44sTPl8+Nj+aYcU875+OPiLsUT1bI3g9+ukQP9mRUz2zjpc+E5e0O6fHET9S1+w9Lx9BPKNFqzyraZU9JvH7O1tk2z58uSk+KBwyP7rchD1vqiY/gHOBPnUNfz7qkyk/9D4sPvM4XD0t6jU75bIHP39ttD7z9dU8YKnuPVHhyD6VeI4+PFBqPs0Jvz4wvaY+b0gUPC3Cuz7p+Jc9fXQaPt2Alj41kMQ+wlO9PpSq0D6C33c+9cZ4PgJwaj/oZcQ7SpodPj4kuzyUHSk8sY/BPs0feT4EbmQ9Tz64OygVgz52flE9dn4fPnIVvT1jUjs/oQ7iPapqYD6nuBA+9R7XPSuUFz5ANhU+ObFKPwAAgD+qrVU+qAkBPuRgIz2huEo/1oulPnITvT7momw+iruDPiUSUj/954E+ogvmPZ4fFT9VGF09POyIPNWTDz/kOVg7my0vP6Y1uzzC1Ro/97zJPOk76T7Rmx4/uBhTP6TXtz4L4d8+c0BjPZ42uD122xY+VSsSPvlkpj2ZMQM+1mTZPTWphj5dXHI8fw57PU1yPT6309s92azXPWbX9T0Cwik8KnKhPEWavT3S/1k/mCpaPpEyCD5yXSA+uhxYPZYvvTw4nYI9spUyP4gduT0OfgE+Jd0QPDS+YD1DZQI+AQziPceaYD2vs8U+w/GgPvedBj47UDI7khE+Pmf44z0PeSw+Z+zJPNvRHT58QD4+BmnrPP+dTD3eKds+U8/9PSoy9z0aPRg+B0LAPbeRqT4mccU9TnryPFvGMz3IE5w8gRTBPS5yGT7Sf4g9qN3hPkPRgz7LTMg+UPHDPq0Xqj3cBgo9MpOvPqDt3j0hvHM8kGxMPtHWIj4/myA9K42YPr8rrz4nbJM+PpduPJLYGz+iAos+9YliPf0LhTtoeUw9cs6ePSJkQD9LH1U+dod3PVDzQz8BcgI/LoEcPh+Pvj5dRrM98JypPdUD2j1FCmY71HuXPn4UwT0tBGw+5+JtPV8bljzUMHM8lrEpPhO/7jzEbgA9nx4BPy48Czxg8U8+p/d5P4xTkz4/1U4+1IF7Pu7ZpT48Tl4+pTJTP7zLiz7iM6E7z/UVPfELTj7lFwI+R4dWPqDYwz5gyxg9g7kLPm2Asj5nf7A9ADzYOzPJTT3UJ9w7eJX6PthnGD9Bj+Y9kCpUP4wNiT3yDEE/NoCrPkXiJz/widQ9sacRPIP/Zj/Rl5U+S0WTPJOzmT2DUx8/RJFgPt+fVz7+B2Y+ftr8PuZaeD+3exA/cUiYPsJK+D1qomA+/D4tPq5j2DwJn6M8/e12PAEkqT5p8DE8FKGAPvkL6z4PmGg8gs66PYDtFT4hJDM+QAhMPn2wDj34SzU/ccGxO7k3Nz7YYbE+n3W3PmmaMT6OIA49K7IeP6frCz0JLhs97GnEPfKlkT0ZScc+hZsYPhAwbD68ADo+L5qCPc3guTz+M2M+jNhVP3ML0zsLdgQ9o4AnPhQbeT5v4Qs/tbeSPeYszDyBCeU9dlJLP0igsjxcsFc+2zFXP2IHjD0dgZ0+qCaqPZDcSz+xieg9KogHP3+UMT/YrWM/WjCKPgd4JT8Q50o78FHrPqGdVj5zeYE98ZDePRDnUT+ljtU7RbpGPAZMpj5U33A+0sWAPti9Dj+2onQ+7geQPG2kPT3EN4M8H3AwPhTNDj2Q28c8WLRBPlZMcz2cSy0+MXTtO2fotT7cdMU9GpzOPbs6nT593nk8JXjBPgrJTD2XrS0/F7gEP2G7pz5uToE9XS59PtD+Jz6miTk+mkglPFGayj48Xxk/fc22PERPXj7oUcU9RcrFPc2AQz4hgY8+kQwmP2O1vD7xP5A+wf+cPaj4Nj7WxJM+RBWYPQSwAD9kk34/sXCaPD46uT5yqFU+BE+kPN/T6TyScaw9nyUoPpDofj9+c+k8/40hPfyGdz46q4A+34+qPn5MWT7S/xA/5S3MPsubDT/zsJs+2nOgPdMfLz+6hSc+lpZXPVc3dD2NF08/+yO6Pup75ju87Zk+mr3wPU8IFj+B4CI/bQ3tPIaTjj2reuM9bdY2PxM/Ej+hHBE8WM3vO8mIhDyBr1w+t9h4Pi9HbTyGIwg+WMgLP9LQgz4UNRU9CRmRPM/kJz+EH8w7qY3WPoieBj4LByI9ICWwPUUc8j7Ora094XqmPPSOFjyABj8+aS7MPo2TbT4QENc88L9zPqWcij43CEc/stTfPuXjtD2/AC49UrKEPGRdsD72JEQ+O0xxPukiUz/C7uI+XWU8Pm8mTj52gK8+5Bs/PjKcPj6FS2U8UAwTPMBGuzsDxN899m/fPJG6Ez67+5I+WTCtPdHUgD2LQW89yIfCPkP0vj1cwe48uo6NPq3SRj/XLYM+N4M3P16Fkz4buMU+SUzgPAQJCT7vtJM+iAKqPQ91QT5AR0Y+7epYPu9HET6lCH09BzGBPZiIWj+KNLo+BGuDPP2hBD60amg94RwQP3RRNz0grQc8Q0b+PUiqWT4uUBs/TsnvPqo0PTys2tw86SEUPmO8nD5HE3U91HbBPj4UpTyvEzY/OQHOPczxyD7qceo94HJ+PgKcRj4eaD89nvRVPwAAgD891+8+2OKdPUuNLT6P0A07ygWDPv4nVD+38qE951I2P9m64T2+Br0+JY62PSzXij7yRaM+TgXnPpznID+raOU8H8MiPrmSlj5tOms+B3URPefZDD52wTU+iGwIPosToT1CIzs/BOvOPXCnCj6kCx4/g52APqGzkz4rK2c/fSGXPhAEUT4rMqc8U4gVP36GljsbXAw+y6NHPlXcEj4TLUo7QbFZPXyAfD1HVZo9EpkqPdOZVT4/iKA+r3uoPdziQz7rFlQ7DG0FP6dWmT7wjp0+FcFdPKhzET0xmXY/L12dPpe1Mj79dPE9AzMjP9+4iT0nXGY8XygdPx1SBT/E+0U/vaaqPe3I9jwsDmA+MzdCPgKzjT43kL0+y3ZYPUMvKz6EpPg+2dCoPcewZj0CLm8+UdvwPlMgezuyCK88j35OP/6pVz7KX2s9hTC1PXqbKj9ihGc+9loBP5m/ET7SOTs+EuMLPjF98zysxSg+Fxa4Pa3x1j5dSww+RZs4PncjED4CiDI+RJUCPm5/ezsXoWU+tPwePyrocjzEPkI8pREYPqQv3Tw2ZkM+ip1LP70UWj/oqPg8f0lsPmCppDzED1A+G92lO83tkjvJWDU+FfcwPzVnHj7FCuk+r06lPfhiMD3UQOE+usYJPnPkIz5/e+E922MnP5CeTj33Gfw8oBm6PjRTzz0D02s+dzyHPe6XgT3Asb0+SH7TPSGr5D4SlpQ9sBjSPMfDKD5otKc9Sx9VPkDMcz2qBcU+PeJbPIKn1T6HfWE+AACAP4haiD5RjSo9M7o8PsCq4j679IY7QSo9PO5FQD0XQAA+cI3uPgXCbj7VSUg/wNRAPrqDSjysjjA9vfa4Pbw8cDz5f+Y+6cPyPmbxGT2kWFg+jfzEPoydgzwCOEY++NbpPffIyDvgqR4+XEqrPFA9cTu5gog+k8cdPSqEbj4lfUA/H0oyP756kT1FukY8LX/EPcaIqD0HnF0+/Wd7PmpqTT77lIA+lFcYPkfFxDxojsw9L6O4OvVmPz5hAhk+L1QFPW+ZUz6ChoA+JE02PZMlfD9qaDU/6Q1JPYY7rj7ufyU9C/ehPllXHT1WqB4/el+TPjdkkD4XdcY90wpzP3/PmT5+FSM/+wXOPjE71j5LxBI+OMEbPRa+CD+VsGU+R4gHPziYAj08nm49808FPfsUlz1JP9Q9ySSqPEyfjT7B7Us/pbk9P8RuAD1MZbs9x7xTPRtiOT0FqQk+IVo1P15BWT+4quY+H6xGPmLAPT4+YGg74c0gPcIvWj+4/4k8LqrwPqpdpDyvtCc/cCOVPUZitD0nsgA9eWarPCzc3D4aoIA9yr8XPMoomzzGK2s+cOpXPnITvT6iFMQ8DssNPvECUj6kje4+YDSFPaEl8zqgVgQ/3/T2Pq0WTz4p6F88ZxBZPmJ+5D5IIIo9afKEPoCKcj0rUfo+OWllPqNNiT4m/s8+wzTnOhtZyj1zpBA/UHRBPGwyEz75zXo+6ODLPhV5yj3l1Dc+I6r2POw+LzzkERY/j+MGPhg8CT4aB9E7UEG+Pmzl0T0UnJI7V78IPhU8yz3252E+46OXPk819D3bAGg/8KWNPsFk8jxZ0Aw/se4JPnP3xT5eRI088HNGPfMuET6s/JU+Y8Z6P7ZwHz8FUno+xuLDPWCZAT9s5BE+dCtmPp+rMT4pKLU+s8isPuUL7z6J98k+MgukPhEkKT+kCK4+PwsiP35hUT3eYrs94Bt2PCYa7T0s1gA+sAC/PBKEVDz52ZM9BGcyPbcwET0YQh0+W2LJPCyqVD/r3jE99Ja2PM7ObTyXvvQ+bLw7Phf3gTy4vhw+gicDP2cSxD1RQMA+TfgVPxb8wT0lXw4+3wsTPdw06DxKfVY7xYN1PVz9Yj5/OAM/yOC5Pc7d8T2tOJI9z9KpPfw6Uz4zbv08nmhlPtfkezyDV4I8di/GOoYLHD3vqlY+ha8KPt3DxDvqI2A/lr2UPtcLgT57VsI9gySTPklKaT7CXXo9qly9PDMwujzwbgo+X1cdPwpMID540Kc+JBwQPurEjD5Gngs+PzGiPfXR2Dxa8DE+EUyRPbsAOj4kVuc9yC1iPvnBjD6mAH8/MhWVPSufQj+ogJM8bn97O7hLjT1m8Rk9bdaEOxs0LD+FqVg8exlHPdFS9D79oHM+AXSLPUZXbz3FQTo/5F9pPpYulz4eCjw+G3mkPtU8jT5mMd496N70PYHcFz7/B1E9v901P8ZO7j3ySoE+toeCPMbuyD3+sic84dFhPc4q0D0ktdw+4pIxPjs0oj4MjEo/HngCPJqvHj+eAus+G2aDPJFzSD4ODCw+kWlgPizddT7Rsi09+Ys7PxZ6KzsdMdQ9k/+hPZjNoTy9Mrg9xLDqO+EJ5D6vKFk8my4nPQ933ztuaig9uUWXPvD5uT7D26g+zhM1PtJxND71jUE7FHVBP/aXFT67HLc+yXMhPBlnDD9M9As+ndLAPeJjSD9MVFg/KssKPUXEbz6+hpE9eYoyP1sU4jyonYI8WLvzPNcjij2cJ5k8vDhiO3HZ+T2309s9f9EvPyxxXT/9riI+H11DPnwZ6Tyk4H8+5auxPrITND7tvDI/7PNNPZcucjzOYgk90Pc+PKGjpj57RaE+EFTgPrNkRj+na609ywHHO23jvj6cFxs+sq3KPjiOYT2/XxE9S9uVPTXOiz5meoE+qTIcPjrhej8+teo8847nPuAfeT9FvVE+WSGTPhWNTj8pOsE+VXZcPeHW9T2Cr4M+j13aPVRnLTy4AIc9T4sSP1IPKz5R1ig8p5oLPesUKj4cg30+o+oDP68DOz6eWv48hvyRPtvlID7MtBM+1/uTPdq4LT/WQDU/MVrTPhjHijzhw3A+B/mCPV40hT0CiDI+7eMuPJRshD5ceTs/N9MhPcy/CT5k8RU+7Tr6PFDnXz5DjCU8Ip33PZ1Aej8njFY+ZYN/PdWqqj6qTJA+KpuBO+bxmj7CV/M9VA4gPkuSLj7FbvE8kGaXPFsZzT1hBHg++tajPU3cRD0ZZII+7tVzPhXBXTyUkZA+0eGRPbgKEz5Lbzc+U1WyPMKAcD5vGJk9tXrRPTj5TD7Pyso+B3uvPEzTiTwcndw9O19fPsb0yTykQvU+i1O6PWRccjyPGoU+/BVnPmsUdT7UdYc+MJMqPmJlZDw+z/g8FcYfPKzrOT6ycgU/Aq1xPvJldD5MjS0+k80APTo3fT07Rq87KW1jPtFEJT55oIo+XMz2PcyRhD4IprM+Tgt7PJN+TjsFK0M+JGpBPTXQKT0h1fo9A1IvPp0n+T3cfX4+xkGuPgIEhj2PlJk92NzgPAKRSjvzdZE+8j/DPkGLpTv9oeA+4jgvPqyTTj5uRw8+Z65vPSgUejtmAYc+/FFPPuzMiT6PXCo8/rS+PVrU1j7CSqo+LSJKO524yz5dXHI8boWHPkgKTT43cLw+wRwAP0WWUD2RCBs+8kLCPmtGbz4PRqo98OwFPwWbRj9rmuE8h16GPX+r4D1w5gM/V2QjPxBIQz5wRiw+2EMPP6WVRj4De/U9Rfu8PryFET5UwtM8hw60Pnpkbj7E65o8Anc/Px8kEz3bVYo+7sOzPEZwXz6OZpY7Xv4nPCz1iD3sZBU/TRsKPysuOT4umVM7/jvHPnYLnz6/KAg+LNXrPXg3+T1PxQs+KlHHPFphtT4=",
          "dtype": "f4"
         },
         "y": {
          "bdata": "AAAAAAAAAAEAAAAAAAAAAAAAAAAAAQAAAAAAAAAAAAABAAAAAAABAAAAAAAAAAAAAAAAAAAAAAAAAQAAAQAAAAAAAAAAAAAAAAAAAAAAAAABAAAAAAAAAAABAAAAAAAAAAABAQAAAQAAAAAAAAABAAAAAAEAAAAAAAAAAQABAAAAAAABAAAAAAAAAAAAAAAAAAAAAAAAAAAAAAAAAQAAAAAAAAAAAQEAAAAAAAABAAAAAAABAAAAAAEAAQAAAAAAAAAAAAAAAAAAAAAAAAAAAAABAQEAAQABAQAAAAAAAAAAAQAAAAAAAAAAAAAAAAAAAQAAAAAAAAAAAAAAAAAAAAAAAAABAAAAAAAAAAEAAAEAAAAAAAAAAAAAAAAAAQAAAQAAAAAAAAAAAAAAAAAAAAAAAAAAAAAAAAEAAAAAAAAAAAAAAQAAAAAAAAAAAAAAAAAAAQAAAAAAAQABAAAAAAAAAAAAAQAAAAAAAAAAAAAAAAAAAAEAAAEAAAAAAQAAAAABAAEAAAAAAAABAAAAAAEBAAEBAAABAAAAAAAAAAEAAAEAAAAAAAAAAAAAAAAAAAAAAAAAAAAAAAAAAAAAAAAAAAAAAAAAAAAAAAAAAAAAAAAAAAAAAAAAAAAAAAAAAAAAAAAAAAAAAAAAAAAAAAAAAAAAAAAAAAAAAAAAAAEAAAAAAAEAAAEAAAAAAAABAAABAAAAAAAAAAAAAAAAAAAAAAAAAAEAAAEAAAAAAQAAAAABAQAAAAAAAAAAAAAAAAABAAAAAAAAAAAAAQAAAAAAAAAAAAEAAAEAAAAAAQAAAAAAAAAAAAEBAAEAAAAAAQAAAAAAAAAAAAAAAAAAAAAAAAAAAAAAAAAAAAAAAAAAAAAAAAAAAQEAAAAAAAAAAAAAAAAAAAAAAAAAAAAAAAEAAAAAAAAAAAEAAAAAAAABAAAAAAAAAAABAQAAAAAAAAAAAAAAAAAAAQEAAAAAAAAAAAAAAAAAAAAAAAAAAAAAAAEAAAAAAAAAAAAAAAAAAAAAAAABAQAAAQAAAAAAAAEAAAAAAQAAAAABAAAAAAAAAAAAAAAAAAABAAAAAAAAAQAAAAEAAAEAAAAAAAAAAAAAAAAAAAAAAAAAAAAAAAAAAAEAAAAAAAEAAAABAQEAAAAAAAAAAAEAAAAAAAAAAAABAAAAAAEAAQAAAAAAAAAAAAAAAAAAAAAAAAAAAAAAAAAAAAAAAAAAAQAAAAAAAAAAAAAAAAAAAQAAAAAAAAAAAAAAAAEAAAAAAAAAAAAAAAAAAAEBAAAAAAAAAAEAAAAAAQAAAAEAAAAAAAAAAAEAAAAAAQAAAAABAAAAAAEAAAAAAAEAAAAAAAAAAAAAAAAAAQAAAAAAAAAAAAAAAQAAAAAAAAAAAAAAAAAAAQAAAAEAAAEBAAAAAAAAAAEBAQAAAAAAAAEAAAAAAAEAAAABAAAAAAAAAAAAAAAAAQAAAAAAAAAAAQAAAAAAAAEAAAAAAAAAAAAAAAAAAAAAAAAAAAAAAAAAAAAAAAAAAAAAAAAAAAAAAAABAAAAAAAAAAAAAAAAAAAAAAEAAAEAAAAAAQAAAAABAAAAAAAAAAEAAAAAAAEAAAAAAAABAAAAAAAAAAAAAAAAAAEAAAAAAAAAAAAAAAAAAAAAAAAAAAEAAAAAAAAAAAAAAAAAAAAAAAABAAAAAAAAAAAAAAAAAQAAAAEAAAABAQAAAAAAAAAAAAABAAAAAAAAAAAAAQABAAAAAQAAAAAAAAEAAAAAAAAAAAAAAAAAAAAAAAEAAAAAAAAAAAEBAAAAAAAAAAAAAAAAAAAAAAAAAAEAAAAAAAAAAAAAAAAAAAAAAAAAAAAAAAAAAAAAAAAAAAAAAAAAAAABAAAAAQAAAQAAAAAAAAABAQAAAAAAAAAAAAABAAAAAAAAAAAAAAAAAAAAAAAAAAAAAAAAAAAAAAEAAAAAAAABAAAAAQEAAAABAAAAAAEAAAAAAAAAAAEBAAAAAAAAAQAAAAAAAAABAQAAAAABAAAAAAABAAABAQAAAAAAAAAAAAEAAAEAAAAAAAAAAAAAAAAAAAEAAAAAAAAAAAAAAAABAAAAAQAAAAAAAAAAAAAAAAAAAAEAAAABAAAAAAABAAAAAAAAAAAAAAAAAAAAAAAAAAAAAAAAAAAAAAAAAAAAAAABAAEAAAAAAAAAAQAAAAAAAAABAAAAAAAAAAABAAEBAAAAAAAAAAAAAQABAAABAAAAAAAAAAAAAAAAAAAAAAABAAAAAAABAAAAAAAAAAAAAAAAAAAAAAABAAAAAAAAAQAAAAAAAAAAAQAAAAAAAAAAAAAAAAABAAAAAAAAAAAAAAAAAAAAAAEAAAAAAQEAAAAAAQAAAAAAAAAAAAAAAAABAAAAAQEAAAAAAAAAAAAAAAAAAAAAAAAAAAAAAAAAAAAAAAAAAAEAAAAAAAAAAAABAAAAAAEAAQAAAAEAAAAAAAAAAAAAAAAAAAAAAAAAAAAAAAAAAQAAAAAAAAABAQAAAAEAAAAAAAEAAAAAAAAAAQAAAAAAAAABAAAAAAAAAAAAAAAAAAABAAAAAAEAAAAAAAEAAQAAAAAAAAAAAAAAAAAAAQAAAAAAAQAAAAAAAAAAAAEAAAAAAAABAAAAAAAAAAAAAAEAAAABAAABAAEAAAAAAAAAAAAAAAEBAAABAAAAAAAAAAAAAAABAAAAAAAAAAAAAAAAAAAAAAAAAAAAAAAAAQAAAAEAAAAAAAABAAAAAAAAAAAAAAAAAAAAAAEAAAAAAAAAAQAAAAAAAQABAAAAAAAAAAAAAAABAAABAAAAAAAAAAAAAAAAAAAAAAAAAAAAAAAAAAAAAAEBAQAAAAAAAAAAAAAAAAAAAAAAAAABAAAAAAAAAQAAAAAAAQAAAAAAAAAAAAAAAQAAAAAAAAAAAAAAAAABAAAAAAAAAAAAAAAAAAAAAAAAAAAAAQAAAQABAAAAAAAAAAAAAAAAAAEAAQAAAAEAAAAAAAAAAAAAAAAAAAAAAAAAAAAAAAAAAQAAAAAAAQAAAAAAAQAAAAABAAAAAAAAAAAAAAAAAAAAAAAAAQAAAQAAAAAAAQABAAAAAAAAAAAAAAAAAAAAAAAAAQAAAAAAAQABAAAAAAAAAAAAAAAAAAAAAAABAAAAAQAAAAEAAAAAAAEAAAAAAAAAAAAAAAAAAAAAAAAAAAAAAAAAAAAAAAAAAQAAAAAAAAAAAAAAAQAAAAAAAAAAAQAAAQAAAAAAAAABAAAAAAAAAAAAAAEAAAAAAAABAAAAAAAAAAAAAQAAAQAAAQAAAAEAAAAAAAAAAQAAAAAAAAAAAAAAAAAAAQAAAQABAAAAAAAAAQAAAAAAAAAAAAAAAAAAAAAAAAABAAAAAAAAAAABAAAAAAAAAAAAAQAAAAAAAAAAAAEAAAEAAAAAAAEAAAAAAAAAAAAAAAAAAAAAAAAAAAABAAEAAAABAAEAAQEBAAAAAQAAAAAAAAAAAAAAAAAAAAAAAQABAAAAAAAAAAAAAAAAAAEAAAAAAAABAAABAAAAAAAAAAAAAAABAAAAAAAAAAAAAAEAAAEAAAEBAAAAAAAAAAAAAAAAAQEAAAAAAAEAAAAAAAAAAAAAAAAAAAAAAAAAAAEAAQAAAAAAAAAAAAAAAAAAAAAAAQAAAAABAAAAAAAAAAAAAAAAAAABAAAAAAAAAQAAAQABAAEAAQAAAAAAAAEAAAAAAAAAAAAAAAAAAAAAAAAAAQAAAAAAAAAAAAAAAAAAAAEAAAAAAAEAAAAAAAAAAAAAAAAAAAAAAAAAAAEBAAAAAAABAAAAAAAAAAAAAQAAAAAAAQAAAAAAAAAAAAAAAAAAAQAAAAAAAAAAAAAAAAAAAAABAAAAAAAAAAAAAAABAAAAAAAAAAABAAAAAAAAAAAAAAEAAAAAAAEAAAAAAQAAAAABAQAAAAAAAAABAAAAAAAAAAABAAEAAAAAAAAAAQABAAAAAQEAAQAAAAABAAAAAAAAAAAAAAAAAAAAAAEBAAAAAAAAAAAAAAAAAQAAAAAAAAAAAAAAAAAAAAAAAAEBAAAAAAABAAAAAAAAAAEAAAAAAAEAAAAAAAAAAAAAAAAAAAAAAAAAAAEAAAAAAAAAAAAAAAAAAAAAAAAAAAAAAAAAAAEAAAAAAAABAAAAAAAAAAAAAAEAAAABAAAAAAAAAAEAAAAAAAAAAAEAAAAAAAAAAQAAAQAAAAAAAAAAAAAAAAEAAAABAAAAAAAAAAAAAAEAAAAAAAAAAAAAAAABAAAAAAAAAAEAAQAAAAAAAAAAAAABAAAAAAAAAAABAAEAAAAAAAAAAAAAAAAAAAAAAAAAAAAAAAAAAAAAAAAAAAAAAAAAAAAAAAAAAAAAAAABAAAAAAEAAAEAAAEBAAEBAAABAAAAAAAAAAEBAAAAAAEAAAAAAAAAAAAAAAAAAAAAAAAAAAEAAQAAAAEAAAAAAQAAAAAAAAAAAAEAAAAAAAAAAAAAAAAAAAAAAAAAAAAAAAAAAAAAAAAAAAAAAAEAAAAAAQAAAAAAAAAAAAAAAAAAAAAAAAAAAAAAAAAAAAAAAAAAAAAAAAAAAAAAAAEAAAAAAAAAAAAAAAAAAAAAAAAAAAEAAAAAAAAAAAEBAAAAAAAAAAAAAAAAAAABAAEAAAABAAEAAAAAAAAAAAAAAAAAAAAAAAAAAAAAAAAAAAAAAAAAAAAAAAABAAAAAAAAAAAAAAEAAAEAAAAAAQAAAAAAAAAAAAAAAAAAAAAAAAAAAAAAAAAAAAAAAAEAAAAAAAAAAAEAAAAAAAAAAAAAAQAAAAAAAAABAAAAAAAAAAAAAAAAAAAAAAAAAQAAAAAAAAAAAAAAAQAAAAAAAAEBAQEAAQEAAAAAAAAAAAAAAAABAAEBAAAAAAAAAAAAAAAAAAAAAAAAAAABAAABAAABAAAAAAAAAAAAAAAAAAEAAAAAAAAAAQAAAAAAAAAAAAAAAAEAAAAAAQAAAAEAAAAAAAAAAQABAAAAAAAAAAAAAAAAAAAAAAAAAAAAAAAAAAEAAAAAAAAAAAAAAAABAAAAAAAAAQEAAAAAAAEAAAABAQAAAAAAAAAAAAABAQAAAAAAAAAAAAAAAAAAAAAAAAABAAEAAAAAAQAAAAAAAAAAAAAAAAAAAAABAAAAAAAAAAAAAAAAAAAAAAABAAAAAAAAAAAAAQEAAAABAAAAAAEAAAAAAAAAAAAAAAAAAAAAAAAAAAAAAQAAAAAAAQAAAAAAAAAAAAAAAAAAAAAAAQABAAAAAAEAAAAAAAAAAAEAAAAAAAAAAAAAAAAAAAAAAAABAAAAAAAAAAAAAAAAAAAAAAABAQAAAAAAAAAAAQAAAQAAAAEAAQEBAAEAAAAAAAEAAAAAAAABAAAAAAAAAAAAAAAAAAAAAAABAAAAAAAAAAABAAAAAAAAAQEAAAAAAAABAAAAAAAAAAEAAAAAAAAAAAAAAAAAAAABAAAAAAABAAAAAQEAAAABAAAAAAAAAAAAAAAAAAAAAAAAAQAAAAAAAAAAAAAAAAEAAAABAAAAAAAAAAAAAQAAAAAAAAABAQAAAAAAAAAAAAAAAAEAAAAAAAAAAAEAAAAAAAEAAAABAAAAAAAAAAEAAAAAAAEAAAAAAAAAAAEAAAAAAAAAAAAAAAABAAABAAAAAAAAAAAAAAAAAAAAAAAAAAAAAAABAAAAAAAAAAABAAAAAAAAAAAAAAAAAAAAAQAAAAAAAAAAAAAAAAAAAAAAAAAAAAAAAAAAAAEAAAAAAAAAAQAAAAAAAAAAAQAAAAABAAAAAAAAAAAAAAABAAAAAQAAAAAAAAAAAAABAAAAAAAAAQAAAQAAAAAAAAAAAAABAAAAAAAAAAABAAAAAAAAAAABAAEBAAAAAAAAAAAAAQAAAAAAAAAAAAAAAAAAAAEAAAAAAAAAAAEBAAAAAAEAAAAAAAAAAAAAAAAAAAEAAAAAAAAAAQAAAAAAAAAAAAAAAAAAAAAAAAAAAAAAAAAAAAAAAAAAAAABAAABAAEAAAAAAQAAAAAAAAAAAAAAAQEAAAEAAAEAAAAAAAAAAAAAAAAAAAAAAAAAAAAAAAAAAAAAAAAAAAAAAAAAAAAAAAABAAAAAAAAAAAAAQAAAAAAAAAAAAAAAAABAAEAAAAAAAAAAAAAAAABAAAAAAAAAAAAAAAAAAAAAAAAAAABAAAAAAAAAAAAAQAAAAAAAAAAAAAAAQAAAAAAAQAAAAAAAAEBAAAAAAAAAAAAAAAAAQEAAAAAAAAAAAAAAAAAAAEAAAAAAAAAAAAAAAEAAAEAAAEAAAAAAAAAAAAAAAAAAAAAAAAAAAEBAAAAAAAAAAABAAAAAAAAAAEAAAABAAAAAAAAAAAAAAAAAAAAAAAAAAAAAAAAAAAAAAABAAAAAAAAAAAAAAAAAAAAAAAAAAAAAAAAAAAAAAAAAAAAAAAAAAAAAAAAAAAAAAAAAAAAAAABAAAAAAAAAAAAAAAAAAEAAAAAAAAAAQAAAAAAAAAAAQAAAAAAAAABAQAAAAAAAAAAAAA=",
          "dtype": "i1"
         }
        },
        {
         "hoverinfo": "name+x",
         "jitter": 0.2,
         "line": {
          "color": "#262445"
         },
         "marker": {
          "color": "rgba(38,36,69,1)",
          "opacity": 0.1
         },
         "name": "Male",
         "orientation": "h",
         "type": "box",
         "x": {
          "bdata": "6wKYOlbWlD3MP2E+SUo3P+YxkjvgKx8/kjYQPJy1tD6c7gA/cLnBPj/hNT81ZsA6Y9ILP3qlFD2Aq3o+AFLIPvc5ljoL+Q48sVRLPpP4uT1FoVk/etaYPTVj8D0y4ds+eTWGO/dcXjpUBeg60m4PP/OW9D4lIQs9s0wMPR4bBzobBYg8sGEGP8OChzo/Rv47KvYfP+B+XDwWh0U+MmwXP1DbLz98mYM9mfbDPbTQdD9OSpY6E2MBPbPooj7uBHc/UxbqPlNbtjxHpE8+26RnPtI4Nj45YW0+3XKaPq95uDzCpAk98ioKPp0zoT51Zyg7MNi0O8rWOD6L8Og8Xg46OlipHD1/YD0+K74+O4wZqT5mlL87xyGiOerD3T3bvA0+iLwsPvxYRTulT3s+X11lO/TzKTxnuoU9IO9LP9kHlD7hDzg/xa2QPm3NdD5+wgo9Ui6nO5pJGz/eBlM/WEQmPyq8DD4lKng/XZupO7BngTvkz0I8rfSHO1rUFj+dMo47YDkePIlMsj085hM9vlb/PfmhIz3XF+k8UYclPylKRD63vfI+RSKEPmhWDTq6hT89oQ7PPkF+Ez6YWa8+9zasPvM7ST3usB0+L9hUPtPIeD4Oi2Q+Aoh2P51GNz21bYs71qgsPyniSj5iMkY9d6MGPcfj7T4S6a0+0k0bPtOI5j5zVvA+08hMPX1kkT0FlFM+v9CBOuejrT5F90o+gLt9PPY+mjlZrdw80nmaPq/c6DzXw6k+ugKBPmqqjj4OPXY/q2WOPpUPCDseiCs/HMJbPjSSFj1SVDc/alOsPet2uj4hfiM+Q+WgPTtvkj5YwzQ+3VYTO5Z7Oz3sjGQ+Q9P9PLnLAjthdaI+rewoPA+OiT7B5lo9bHcNPpZWlzzk3DA+pDzaPQ9tFD7+SoY9sHFbOd0dcz8mQac8kI0+PijRTT1dUO8+CTGKOo7Drz5tq6Q+Y5s1PCWC4z62vpU9mdHIPUj1TT34L/k7f/dNPPrTfDueHn4/g3iYPXepgz5dTTA7ZeYBOk2GOjzcDRE/MQJbPmBGsD4G99o6UGTOPdV6wj20IAk/abS/PdJQ2Twvkw4/GFcnPpWDojztxRQ7iM/jPioArjkpPsQ9GPxZOWohcz62Q0k/B/66PbWFjT3RTnw91NRkPPyLDz+MuFM/mWeFPmSv+zyjZx86iVZBPkbhAj9zFc49AACAP+iZVD1rvqI9nPTwPQuT4jygiJk+RW9EPzxMhD4j6VM+cVnsPS2rjDvLWC09WxCtPvKZVzyp6qE+WsMjOkpDND610cg9nb0fPb54ID+ES387FVHuPExfEj+sZxM/WtEkP107hD53BWw8LVBjO/q1KDvGZxk+luvqPRbkuDyBlW8+AACAP6YBOj6rcRc8ycoUPX+gDT1tsXI+aazZORpH8z5Jmqw+GLxwPiSqKz9toko+mqk9PmIwZz6B/yk/hqsnP66VOD2LUyc8qzPLO9rnBD5YJZI9GTExP4AGLD21QMk7syaPPNGO5T4D6wk+wUXzPQ6w9j6Db2s9aFISPjd0+jsi1j8/IY9NPt8XuT3TnCc6GweNPNwfWj6xO4M8UvwQPVFyyDt5EGs8TIrpOg89fz+w7gc9lsrROiDN+DulvMw816wlPUW5MTwSxJY7F28iPpnljjyeDoE9ZejXPqgM1zq3t3Y9228rO0Z3AT7sDA8+B5KQPtAsDj4J/3U/FYMZPjvZEDtrIMo6YIHZPFB/UT+0rHE81dmUPXOTEz4xRI05yyCxPhsZAz9z+Yg+51h2P5dgAj509JA9KB7fPc2a5z3wJyU/XOqaPhcn5DljwqI9bAbsPhRzFT+RMYs+Q0gGP6rr4j0udRM9wZjRPRiYijqctbo6joDcPrqNBT9Chrg+ermaPafGZT44xwI//UsBP8TVsz5zxaM86ZOAPFsCAT5hvN4+dkahPi70JT7BZvM+yPl6PePZjD6WJDI/58JWPtk8KT12EyY/CXuzPEznFjx+1e497lYwP8lpATwlSRI77GybPRBPLT86I9E+Dsn6PhthMjunDUk8tnsaPsVO2j6p5Zw+LUPNPDJf9TzecGw+AE1cPz1yZzxL9QY+v15nPbxk9jocgi4+6xBYPGZoYj95VBM+ywMCPMV7dD2Ob4c9as1UP+kVVT/Ws7k9MIMfPiHIcz2vRCk+Moc/PaS5XD9aRhs9PybEPvsNsTl+OHk/MXRWPBcfgD2+Vv89bUFyPiDiMj9ZuKc9yiR7PU5PGj1kFJ47r5hAPsQdaj2w0Js+DgwUP+Z7azztqmM/OdpsPrk+vzwTZE4+FBm1PmC3oT5xU509zLVoPrGh1j2C4dM8AACAP8wnEj6phmQ8jCZ6Pq9mHj8qOYQ8kAgjPwAAgD87E0c8ylHHPmhgID+V9qY9xwO+Ph2dqj6XyhM9C6KEPhThcDzjCes9X08AP2OgTD9EOJQ9CXYRP6ymaj0NGWk9ArdfP17D7DwyBqo9iHwcPgLPCT8gIHw7w2kYOtMICz5voU4+deKlPrdU1DsTZE4+9F+wPaOKaT6mEPM867eRPZpVkj5fVLk+l9GVPN87hD4A5oY8h4bDPg5TUD7KD6E9WgpQPK+Ptz4Qgdo7rfSePjz85D7aeRs/yyx/PNOtQTwNgW8+X17OPO+B1D6kbB8/rsk0P8gEQD4iN5I8GJ62PGUbczzX2oQ9rhNjPjf9/T5ccI4+Giv2O+EG6j0vUoM925waPs0I1z2+dSU9JJM4P+fwgD1r4Zs+87S7PJ/yhD37vFQ+fU+lPAK5Hz8zvDY3YLvSPKCLDDxxDsU+kkAmP6QfOT+AwSY9HbJAPh6s4T0tTuU7GrWqPVWloDyld208U3SWPeHIJT1RVyI7zIKOOWcryD4FLU4+dc4mP1c+Fju8ZZs8Gm5qP/qGTjqg5Vc+jk0BPGQfxj3z1XE+oMhTPkdcGj8/CIk9EZM4PhiDDD2ovMw83KqxPOelIT9hdrM9CMoePzYGBDwuB4I9L6GVPjmAoTsDHyA+cowdOwP15D5tYAA/AACAP+ZFqD6MwQM/a5BKPQnkDj//xKo90yUJPzUD2T0OnTY+anKUPgcWJzsz80A9a6AxP1t9MDp7xfU9EaWdPrl71z7Yw5A5728UPEgXHj+mdec+NuUMPvXbTT60LYE+5r/rO5yPKj4C6sk+IGR7PcfWWj7lLTg+SP/NO89S5D7gpxw/9S20PifDdj7czW48z4rePIjmBz1T8ac9UpbkO4nk8z6L5v49xjhEPvR4ez4meYg+Ef1pO7g/Fz6dIJ4+FzebPq+RujqhJRc/mW59PY8q6zpqYc49ct/YPfhnED3cIis6vm+NPn8tQj1C+o0+NraFPsOXgjudksk8TZvaOrOiED+2IlQ73xGqPl1Vxz0+sHg/GQg3PsONVz0UIhA9OIOePZKZ1T6jTH4/VQN+PxCMWz5GLGI8GDTSPQDceD7M6948SkttPmttjzurKQg/AACAP3RwXD6RAeY6f18HPwtr6D2qnK08Gz1tPsExcz5zi5E9A1kUPX7K2D6IAwA8gcMdPtG7yj78Y6o+8uqAPYNYxT56FEA+1oGSPQ3FSjsoSl4/vjQxPuIEqT6nJjs+UY3PPBRkTj7XXVM/3v3ZPqHwQz9t+Wo+HtoiPrI6fj5OBDg/hoBFPBFtjT4fXw4/9ZA2O6c4nD4+jqY8YMBOOPOd8T1WJ4g5sRKNPYsNkT7sNhU/jBc/PxKbRjtAX/s8CA53PzFkdD/V92Y+n1T2Pl0gdzsTY7Y7MQvvPvyjeDy4gXg/sBUSPiWixT7yyrE+pakSPXiT3jtwBMY8PwgdOlpcjj6sglU/s3f0PtpbND12B4o+Z8ObPUXfCTlT/WM9UVcTPDOCij2aWW8/lUubPmzXCz8tJwc/hfk7Pl+eyDqM1YI+LWCYPqFncD4rZGU/CNbtPbpT9T3Xv2U99cG1PQAAgD+i0lw93Q5RPMwaFj5Ii848TdYcPMxE8j59j3M+lLi1PVb4qDttoGo+EQr3PpP5Az4AAIA/rsKyPQAAgD88p1U/IRCRO9aVJz4KvlI9+P5cPl8PMj9wd5494F2nPjdzpTyWT0E/nIYKPgxIFT4pZag9mr8UOYE1Ej9+QTc8aIu9PHB2Kjw7Y4g8O1/fPbAxLT5pIlM+EF0SPwx9iT19r7A+wAr/PlPRLDui/1Q9Ie4mPpcF6Dm/XaQ+IGAlPkF7Mj0/SjE/kAmJPAvoUT655XI/w4MjPpiFiTsAAIA/UFhTP493ID4rnfI+CKTyPWdOwzqzZwE/W6pCPA7mfj8WAAI+PScmPjG5Cz85eOc7XHWhPmcLEjvtwko7eLXpPh148DxavOc7tg+PPQ+Bbz7ApLo+TZk7PpyNAj7Q4DI+PMsQPNqd/D6HhBI+vp+wPa+gUT3SBTA/nSk7O94QpTxdB689tC2BPiazJjvKD6E9EmE7P91s1z22ghU+MByEPjZl8D7htOE9SQkFPz/FzT11/iM8NYfXOrYQJD7ryX0+eY+iPA2rljymjc0+ZdqAPR6SazvsdqA6tCAJP7lHPz4h/GE9wWNHP5Zacj8tS+A7LSEfP/mHhD6JqyA/2BzgPaNeyDq8bqo9IezpPnmY8joUs/U8mprOPrUrIj4AAIA/ZY0zP3q5jz5Jvrc8+nMjPg955TulSBE5bc10Ph5O9T2v1Gg88Jq8Pgm+tz0pQRI7OTLlPnvFHz+HA4g9PYFMP3JaRDrZ49M9bUYlPhadnj4vUdg9ohMROpliCT77uKE+3qvhPllmZz8Sbrg+sN3qO/JCKDxT0bk8b5KsPnH+ZD0N/I4+Nyd5PthneDz/2yk92k+0Pcn57jt0hTk+hx2APRHBez+Pei0+D6fkO1zSDz14t9w+HkFbO+snRj66E+A+bXG0PfEeYj+yZu06uunoPrf7GjsQTy0/2CXQPsz6+z27n/w7cXyHPaNtFDyb+rw+RsYnPauxdz5Nfho/LJbHPaLjNT5guGI9cukXP+t8rDtKeNA98zFcPj9Auz1e3ow+DQwRPynj2D5DHdY+n45QPcOFvD7o6Cc9mMQCPFgktD1HXBo/+OogPllyzz39p2A/1nLoPqM60D0t/kw+XAU7PRGvjT1rhxU+91UIP6pMhj7NJok3JnpKPkD7STxBEcQ9W50SPvuJ+D5+XHY/Pfz+O4/fxTwookg874vdPuGGlj67euk+nfqCPhMEVjzbnBo+6TADPh/GCT7WPKU+25waPhl/5D5elZE+3ZbTPmtZgT0Yktc+8pIlPpzrgzu0Kuw+pd0HOpXWeTxfg58+Vi7aOXgrpz75uDI/qVj3PI4ONDxQ9SI+Fr0DO//phD54cu8+o0VQP9wNET/KXKc+ezZPPTz/qT4rPvU+5su0PhIFnD5iSwU8EigGPWayGjyP7sw99wflPGs7nj5l0Xo9IYZdPr13KT3SK0c8S9REP5s7iTrm0dQ+J4DGPl96aTtqdg8/8nORPABqCT5zBN86JMFkPft2zz3MSzM8xFoCPjoayz51/cw8yzj8OQiVizv28jU/617mPUGs6z7pn9A9aKD/PHds+zxNQUM+sWjtPpHSwz7aerw+OEJ+Paht+zssd5k7h8CYPujwhT2my3g73qiVOydHYT4D434+3wnrPTpG8TnNVqA+sipGPrvKBT7TmSU+kzTQO0HKEj+XvoM9FDptPoNo/T31RgA5zt4aPYnG5z4quRk99z7ZPqQ2ujsczj0+Flx7Ptx9fj3Pit488QF8Przjbj7PypQ7eWdbPNQ7sj0bjx8/9DeTPp3KMj5ENkg99ee5Pg7beD8MA6g+CfvkPYhNzz4q9hs/PGIlPGgVrT6eIBY+PONTP9mXED5jGHM/IK75OxTMaj6JfMs+EsxfPojSgDpn0ZU6TEJLPgK5Hz/3jv49gyT7PpzzBj5wzlA7gJpzP6VMFz6AcuY9i4+oPVgClj5eGoU+tE+AOXFpJjzBuCw+ECLmPhX/ej1No9w6EwKRPOMCTT7NY7c7AkWgPkQEYTyh3Zk+SanuPmzqRj/Cxww/nmrNPLt8YD4B+Pk+5gGXPL4aLD/xpqs+YRrHPOl2DzylT3s+a6uRPvxHHT1CPFY9AWndOiDRFj7cr5g8GinVPV/SCT6ZPbg+AhVgPAdpyj45hXk/61MpPQ1u0TzkxFg9ofUaPplAqDwAAIA/QAADPgNSmD3/lSc/Kh6APedv0T4Nq9c72FGNPPVoTz0TSOo+QYZ5P5jyTj2yGWI+HyuDPV0bkzs4EKw9G/w3PYdCPjkR9RE7Xg46OkJvYTq2DZI9I7LHPqqp6z6NZKo9LN6+OQUkhDxUsCo7K8SYPA4D3j7sVXA/51uPO6qFBj90Glk8lmUNPqPxuD6QyQw/R6FKP7EF6juYH249VFZfO04NuD3OR1k9RG4NOxNXnD6Ui5s8VsjXPqKZeT3Q5dA+A1KYPfsgiDrE79s+MTLwPKU2ZD5XR5M+dPZeOgdRRT9WfjY+L6fEPsu+6TtjRR8+jMjOPvcHzTxXPjI+bK8bP1VvXj6HdPA+CbJoPswcuT5qua4+pqKcO2wZQT7/Tp08VJSRPZ1dqz6y0PY88nSVPgcNujuoftc7UVmEOw2+XT999yI/XbQIP+iR8D4MUoc9oTm7PtGhRz+tzRY/04lNP4OZvj3Y978+Du3xO46BTD6X0ZU8jqDKOghrkD2RGYQ8NW6KOkQAozsB+Pk+WwtSPYoP7DziPas+iLKHPOsq6Tx8DGY9NmrpPvmLeD9d6CA/jhxuPOsrPDy0vsY+5EfTPmefOj0lF4k6bHaCPSI1oT4hzYU+eKPgPSeuJj2/Tx078g21PdamHjz+Jb4+TT60PhzfCz0heW4/4CCoPGUZXz4d2Lo+V5BPP8+XDjwNdUo+P3LyOGXOSD6nEjo9y5FWPssUID22EsY+DsI6PiTSPDxSKAQ7TyeGPEyWpD54tO89+BtbPWw1VD/GMUQ+o90SOkYGJD8dN1I99mhiOuz3XD48EIo+QmaGPiP7KT31aw07i4YRPXwlAj+OmQg9uSrMPnI6LT2+Vv89LyLwPqL0RD0d9yc7KvYEP7p8/TtEU7g+3/8DP9uKSjpgqTE/k67IPsx/OT2q3+s+mFpFP0jnizowm3o9qDijObZ4DT4jh4A+F7k+PsMSiz6kfEo/eBbhPjsRBD/bmI0+x9t2P2f2Mz5LQVg9EsgOPXtIAT+FfQ48rcuZPNdqnz6cJ549w8xIPwAAgD9trxs/jkpIP+GaQD9nJ9o458sSPFuAPjxbhuA8GIXcO2S9uT2UaUE+buACPmXsBj+S/4E+BATBPRtt2T5dLsc75RtdP/tR/zyaZKs7O/31PCRHgz6sDJ4+DyLmPujMHT7eNgQ9ZNoqPUu0rT3QYoE9FGROPs5soj77M4g7Yg/EPUBgsju+u2Y819c5PkbQVT+1lD8+NPjzPoYkIj/vrmM+AACAP8scsT0PzF8+1jBOO8be6js0rac7LkEnP1+O3D4HY2s/WX6tOjqY2TsFfyE+Zww9P8ZYFD81TLY7ihNiPQu89z5vdTs/H547PxleJzxDZgw+GNbNPqrrWD6zDCs7tU3wPZqhjj06TCU/17D4PBsKDT0CeeY7aqqOPiaIFT89iR0+gfwFPU0vbT55coI7hAZhPlcjgD0L/rI+AiFiP1JECT39eHk/LeYtPkhrnj6ZYg48HTX6Pq+YQD6XqA09zo5rPi4Dej9kOgc/YEacPXxweT/qH8k+SWp2PjSIqz2eegA/WEWNPlMbPz+SzFI+04K0PXH58TqzyW4+pbldP8AbRD18TKs+48dhP+nLTD91Ms08+f21PqKunz3htOE9pR85P4sc/D6lOqg8a7MHPxWQwjpGi6o+yvkBPrY2lT3IgG08SXN2P4rXDT/EAsg+pg2PPQOIGj6l/l874tQIP/Wz2j0iWc0+BNo1O/8gAT+TRmw+kcgPP43UnzqKFzo64B1xPkQ37T6UtWs+eL4DPXJmSz4ygx8+1ZwHPsa0/zxYfZM9gUe0PsjIITxu4zg7q2plPV57dz0fQFQ7icz+Pryd1TpvtuE720FCP/1PxT7mpKA9r2XePKo/iD65b3M+4U+gPM+QGD2k/2o+/c6zPfq+KDsxt8s+mXUUPkikAj/ov5Q7Q93yPjmaDT5AfV87a3QHP5Xa/zzPnqo+r6NhP8CgYj9yNM0+Mq3kPgOcWTvR2TY+P90TPQAAgD+2j7w+pTQYP6KWST0QR2g6NvPFPhokTjy+j589Tk8VPMkl0j3fxdg9CA5EPxauCj6HSEA9864PPzbp5j73IEk5YyU3PfW/cTulO6s+qVEVPxwE3T3zM4g7+FoPP5ipqD65MbM+qvUoPbwQAz94KgU9jcEEO4iKuz7P4kI+iEFGPFff5zq1KMs9M3fPO3czdz9KhAQ/ag/BPDntRj5jRlk92AFiPPAGCD9V4hY+0wgLPgqBOj7UVAU9xSHYPioYZj7iwz8+EbMUPX0o6T5o4Kw+2sENPMCYcDwo9zk/IZYGP8krgT1eUfA+VAXoOkDGVz7FIdg+8qqnO4yRzT4CuR8/1wqmPlWtVTzVyAw+oOv+O9WbQDuLrNA99TpSPfg/ETyocTE/ZjQ8O1t1hD5QYTs9pMJ5O4EWqTqAhvQ8B3KcPAnpJD/B8i0/7iIjPdUPUD8OUX4+WNNpPJ9CFz7/huw+e2oPPgtl2z4nQ4c+jVErPpAIIz97txw+KgkwPksRhj0QUHU+CXyJPWwahT7RMBw+J6BhP7CyVT27YnI7X9PiO/4YUD4A/gE8tEbgOqLozT7jMVs9mX6/Ox7Yuj4vIvA+j+mWPNnaXD6JFT49+yCIOgWzNT73PRw8SC4nPJhsLz5rNgc+rb2RPl1sAT4w+Es9h8poPSVOvTn0rjQ+uPAGPqiT3T480pw+AWSQPBaWwjsRHxU96/RPPXi15Dyhp6Q+ElMoPkNYwj6sKIA9SG5ZPbBYND/LrzA/s8luPnsKIzyYkws/INgrPfkA/z7BcPU97nBsPbtj4z37m6w+L4jIPLKPVTs68Kg807llPNPlJD7HU4U8P2JNP+5HNT12teg9bOFkPna39T1ga5A9HQKrPZmlOj8MnmE6L+h8PuSBnDzTVKM8PakvPr8juj7Nuh8+two+OmK6UT/qVp8+Rb/oPl37GD4cTLM9Cf63PCoAlj5DRBc6BJA+PwuW4zsE/hA+4HOqPLNWAjtijp0+la6hPloCRD+t0Ao8KHeKPpIcdjrJThQ91j2GPaIwiz28XLc+v8dDPH0SKD4dA7g6CHVOOeQa7T4s8R8+UE70PhMCZD54Ehc/Hn/XPRjA/zrX32k/RgKaO4FogzzJfTA+M8V+PvBbyT4ByCA9NaiCPn4F5DpKP7c+vPO3PrrOcT20nO09s6UKPwAAgD/hP0c/1zxrPl8FTz4OjxI/XhHIPSW1Azz+iT05KllFPppLhjseHs4+Y3zMPnA4hjwT2GA+0l4BPdAVvT0m66E8Gl9JP506ujo4aUk9+J3SPVhVlz700/M9GVcnPk48fzuK0Yc663+lPupoMT7S5Dw9CmxHPTN8BD9Uhwg97O6CPQqWqz0YrLc9qBeAPhRkTj5Hpwo9YYJrPrVDyDw9e509ivuYO8ZRBzqbT8w9fSNwPXfdwD0rG8k7IULXPhMIkTs37zE++w5bP2OLDjt1/r8+8f1OOraV5jyIzwM7qnJAPvrRoz5Yxgk6m6EMP046bj4vBqo9c0rNO1Xn0j5yImU+EXJqPizl6jz7h7496Un7PSW+TD65YQw+ZmZHP+9fET+/D9E+3xQ9PE1h1z4/CQs9FyfkOWYNeT++8ag9GYAQPvwTnz0zxBI+CLw2PFEQqjpLIIQ8l3WmO6K1bz46f+w+Ir/nPsQ0fz1HpPk8E2sIPqOkIz+auV0/8DV5PuvxJjmmq1M81XDIO04GWz5chMM+0ufWPmvgPD7jjIM+IDG9PAAAgD/XrOQ5kQ1FPGqN1j4VZVY9tEMbPNNodjwVJFg8sneePF5Toz44YUo/T5dwPtQlIz1dqCk9P38WPssYDz2gTSI8jnk3PqiU+T3LOPw5HPGWOxKZ6D7SI8Y6ek9KPtTPZz5Q2jA6VCI1O4JgEj4qhGA8wGWrPg6glj1N36U6YdI1P3TlKD2/hRw/DHoXPgLvNj4y7AE9bp5WPhQ1rz1lQNE9yJFnPD+8cjz1fd88p/XrPYREeT/NtM8+l2HCPoqaPD+GBYw85kxKPCvyPj0rsyw5wMntPpBNUj86HOA5wNi/Oxrr9T4CIF49IDoSPiopSj0XrFA8Kmq5PpyC1j7Zg8s+rbUEOeq1oD7Eud08hMCWPWeQhD4XEDI7WbvrPBPgiT6ZczU+cNzJPVkl9T54dS8/sTutPXbeEz4XH4A9UfX8PSVdfDq40/k5k9eDPkx9sD6eIfE+phDzPONZAz4mHTU/kE1lP+u2Sj67Z7A7jQufPvRdiD4hURw9VZOLPX6FOj/FtYQ77NMVPvQVXD0iOuo+q24aPtJElz3M1bw+7dM+PqcVFDwdtNw+H/8CPbvrdD+fB4k8OJxqP1uyZj9N/RU94583Pl7jvD6tkGE+9tN9PPcnjzsrFOI8u2ZMOtDTjD6RWKM9whccP6zPoz3Eggc9DCIIPVDPhjsAOpg7JQ4+PKO/Lz6WZQ0+R4eFPeSXwTlnz44+AACAP6vYrjx/nL8+86sUPTVwAT0rQhg9xYB2OZdcAD742/s7gwBHPoHVWDobZcI6wnHHOv2sCj3eq+E+H7S3Ow/NOjznZUw7A6XyPkUyQTxvRpo+QqkHP/AuGD9IlHw+VkpKPScPpj6522s5wR+/OxTICzp4NoQ8rtXPPEcC/j1Mgto+NzAoOxQNIz6a4N87d5F2P28c3D7DZPY6LIKgOlM2iD6xGSQ/+S1YOtqCgzqgHyI+oiRfPRbsGT4vVI09toIVPn+2pj6Vnbo8e7ndOQAAgD8hah4+lkZLP5br/D34Wzw+F1yPPbRMrDxOBG4+tIuTOSb8WTneq+E+iYm+PLbnYj4EaiQ+myHiPk7g4jy9HaI+DlJSPkyu2D7K5Fk7SBqGPUwclj7ioZA9WxEDP8SMJTwKvYA9x3WaOcgEQD7kthw9jQPSPvXu6D2GJCI/0DziPdhZoT6iow8+AX0+PA0gRz1na+8+eKsePt3Bfz5Ky4k8ZXG+PDWWET2Hg6c+Dys1PQO9Ozu8VCM+rE2mPoxjjTx9I0I/MGGqPuPqlj5/D2Q6PJgbPiHC0T4YVyc+ChlEPAYCMjvTCCQ+PVcMP+gwgjtuDqk8Lv4yO7QdCT/pMjY+IdH/PU1h1z4nLNc8mnjNPCK3rDyUNFw+HKONPak+BDzdrGk7icS4PPg5xD4Vl+c+Yt9fP9DlpTvfV34+0orePF2+GTzGOHA+Qeb7Pm2v4z6npzY/EeEgPzL4KD5A4Hk+5T6XPL7/JTyH16E+UCGpPsU82DojOBw9gfUyPMNx9Tmzs2Q7jvFGO3kVQD3GHpA+kJUCPGUhxD4cozo952LEPsKszD6Y+CQ+AFqkO/b+OTxMdqY+GOIMP2cUoTpIXTI+5h8JO+rIZD4DVAg+SaDgPtgrgD49iSk/nGo2PR3Jlz5fmeM+WGDAOg0VUT7ch7g9oEZKPwQspj3JD/g+/zepPlzEoj2lrpE+vSmVPtnBCT99nnY9fWDbPkY0hT62KyI+A6udPlQaqjn35R08TkC9OpSBUj0p+y4+pX0aPBgfGj8V7Qw9aPIzPi+c7z5MAlA+0qNbO4UsqD3jnUI9AVXvPN8J6z3pWPQ8hvclP0e65TqB3sM9lxPiPXmrEz9PXic+HVfSO+dTgT1gKO48tqbgPmDCLj6g2wY/SxEZPgV3pD1JLSY9zqw/PSq8DD7/XsY8PVHjOb1d6j6HwJg+CRu/PgbISz69JJ0+O6AfPfEy/Ty/aHY/KPSxPeJeWTyn0AI9yhdQO/aNUj325aU88mUVPxaHRT6WBas914zFPChEsD20y2U+1bv+PvIn0T4qNV8+ZJMcPXXKXT59Poo9MF4kOyHpLD9Ju60+qGfzPEoraT2dgm480aGiPcGppj7ek9I88HhfPp+/4T6KYSE+MeiWPIEx4T5B5GE7nHdxPqnbgjur54A+aLsBPk/DjT3cP0A9fMYrPWXUAT+9Sgg7Cuh/P9OvrTzu52o+10ejO2k2Bz7+U5A8t16SPu3yAT9EN+0+OhbgO/slLT6vhOI+JMIzO0FqNj5oLKw6f/J6Pat5uDxEH6A7KNCAPkZRJTvDUbI9XetYPe6CvD4wGOk7r2KLPYng2jyGJCI/RveTO7ezSz1eM3M/5qCFPXJg4z4cPrA918YmO/NEwT3gsYg+lsGxPobqLzvGeEA8QfQuPHFRUDoaYYs8wsR2P8tYLT22w386fg8iP364dD6AL8M9+b0TOysERj/L8mU+ayDqO5wDgD0Z8TA/lT7JO3EBFzxH0JM8b229Pr2x8D5eAl8+U77UPYUO/ztxGfQ9QgSHPj+Ppj4aaGQ9AzAaPJUaCj6H4wQ+rnsxP2DuBT4IE2k+LeHmPeXDEj9CZ947bgidPuG04T3sPcM9yEjhO6BGKTx+mIk+QwQEPqQCFTuGs88+mLFIPe0Ymz0+tR4/7LnyPsFv/z2n9jU+SO2qPhg66jwCuR8/cMceP8Sp/Dupf8E+7Wa6Or51ijtxH28+nl1FPj8+Cz9qaFI/QbFFP5ChAT+g9pI7lEltPbSeKDz8NaM+RLEqPavA1z0OVZg+FOppPlYkfj4Ba+o7E2EqP9l2oDvTW4w+iGq9PhQG9z4aBVU9OP7OOwTMAD8bSVo6SIojPLc6qD4oRLQ+7gjvPabMsj5d3Jw8XIUJPhe3nTwMVak+mOwPPnoDVT6pFnw+YRFaP+CUdzx5uWk9ICB8O+Pwjz3APpc89Vy5OmPPvz4sY2c8vsmKPUstCD+uhUo87XPTPv+kYD5iXqs7Fv7yPcVm+z6b/Ig+CTRtPjF46z0M/Yg+xH9mPXTnfD3PfQY+EoLFPVhmZDzm6lU/Mhi3O9vCfzzNCws+AACAP0ptBjzGmo0+twpOPFvpNTv0XWw8xyiNPR0zFzxiHZA+65TqPnNaCDnqNv8+baXAPR1IMj7Xib07oSgJPygJBT/H0TY9EsxfPunaGj0XPzI8GInNO3Db3j2F/vc+fpkFP4epTj7zRME9R1waP7g14TuMIWE+tlZfPLES7zuy/5I+iqJsP5L0az1BHy8/eoC2ObuNpz4Vd6Q8kV8tP55mmD0sVPU9s32TPpnsLz0AAIA/CcmOPSH6lz1i1Rk+3NoIPQYynjxUOnQ9Z6wzPKPrnj0TZE4+GeinPvovkz6ML1s+Vn42Psj/FD+SjVQ9ZxmkPsbhoTx2yB88ZHMEPxYj3Dh46xE+PgAsPvOnwT7fxhU+USc5PuJGjj6sUYI9MSrrPgh+FD1eTQ0/KLS9PvHV7D6qR8w+xMyaPfEEKD8DLgs+Y1CyPb+0hj2HYeQ97JV5PxiJzTvy/rg+i6CLPsqBoT6+arc6z2noPUMbHz+jPdg+d/9XPsCNMj86Gss+OgW9PF8AHzvoaQg/JvN1PnpbcT9wW549o54vPQ/CND13bPs8/6Y7PFfajj0PChY9/HAEPwWykz6Jhb8+D5YQPbNUtT6IzwM7tNmBPP0nXj60fo09tEj3OpCeoD6MeeY8peuAPh8wPz7/vDM9WZEAO2TfZD+YeG0/CY8/PjsuBz/vQ6k5DujlPXDtpj40c3U/vR3SPTj12zw6Gss+q+ZBPTOCmj2UwAk9b+4cO8Ormz1iA9M+Gs4hPcXyBj7xGMU+0zHOPo/EzTqYBb89DaqJPihAIz2Hoh09N/mhPjw+hz1kswI+zQr1PcPvyj7Hgoc67IWhPEhl0DwvCUQ+MOwWPIN0kTojnPU8DMqTPgWccD6ZdRQ+n6j+Pl0mfDzyCo48aBo7P4J3OD+/cto85dL7PQHz8j7RSVw8GzFoPrxpQzxeujQ/O3iQPbkanD5MNjw8JxWuOsfeCj8GJVA9lpjGPRhXJz7CB4870TYkPxefeD+GSRU/lJhWP/aSKj897gY+7d1YPK7ryTxi5D082qRXPrREeD/MDcE+mdCIOyU+XTyJaqM9c6LVOjmoXzwQ4z0+R2D9OjO0qT7w5uc8QWrEPlXajj1MWXo8k4GQPelkej2nFaE9c2MqP8xVAT+LJ7M9JC3kPo4zaztSWc0+maNoP87iBz5i4Nc8uhIZPlb4qDuYhGs+hlFBPo8Wqj5v9ZM8uzgHP2Vowj59Was7c8iqPQmmoj34Q5U8WFitPgXt4DwVFAM+vLCoPRPZzD2fQRs6+KsZPvxcQjujO6U9QZv5PvGLZD4Ml6s6HECTPviqST0WoEI+IowPP4BxxD7n3Z8++VaPO/NEwT28xUU+rPcbP0c/Cz5K3rs+F3CBPHAKkT47Gm0/0DBOOyWbGD3thPs9kkKVPjT7QzvBUFM+LUz4PrrYhj00orU+8Rd4O7c3gj7YQik+AxHJPBUU4joDkgc//b1wPZjDjT4BkG88wammPv4RST9myss9bQIEOzK3ljyg/GQ6LN6+OReo9jyan6c7PddvPuusIjtOfB0/NXAkPDUE3D60RlA+T9VjPSqMmT7FeNM6iD16OgMToj3xZhc+k83GPUz3kT4ARug+YAuZOp8L1jwCc7U807llPA/VLD6jBvs+bvWjOQeWBTqoBEU/5rJRP9tiDD+V3Ws8pknLPua0ND3bIZE8Y2+oPfN0MT09MIk8JsMQO7atmz1ecMQ9DWKVPBtyczw9+YI+Dg2OPccjoTx0JQk87/+WPPXQOT55pU49rKdVPdWLAD+Pdaw+usNzPkUD4z0p1xU5cluePan+jz2NlZE85LqOPg4mATwWeGE71B22PQLgzD7d7Lc9FQC4PlZ5xz5eRBM/NjcZP5R3ZjyqkgI77+6SPSi6TD5j+LA9duDpPIibsz70juo7w/wmPnt2aTs0ihw/v3XXPtuL0Tz0lEY69n27Pj3rsDwCOR0+8MYJP+BgDzvZsk8/VVYWP6CcDTrRlfw7AGvgPgaIlzpVvFQ6pkuOPlKyDz4b9fs9PO4GPjEbKD5adYQ+K+pfPmL7vjy0RFA/5Yv3OhYt/T1dNFA9ckuCPOTdHz9nLBw9/vVfPWDLND/kZTw9WlA+PpQFzD7vRCA+bwvOPTzixD3kWq0+hwiUPS3AWj2yA8I6Zu4GPk7dhD44Eys+e0gBPyzSET1S1lM9cR9vPp6NgT6EM7o8Kz0uPdxRjj1oPyw/zLqTPkf5Cj4j8q4+0Ce6Pc7BPT5D5aA9zd2DPqLx2T1+Nk8+odYyOy//eD/AssE+A1KYPdarjT4EGlI8JxfsOydaUD7CoY07xuJTPxtERD54AdM+oOv+OziHrTyprok8M+qXPosJXT4AAIA/bORFPA5BaT637K8+C5w3Pke65Tp+r6A+U7i4Oz2YGz4GVDc4UbsaPyUcvT3+oOM+DLJ9PKDXdj/0jxM7BwjpPBJG8T5S7TY9SEycPuxhtTyGmDI/NRkMPvgHQDv+tsE9IdlePAThFj1hdyk+a3NhP2CZdT+z2Nw6FtFDPrv1DT6vbIQ9Y7xKPVpRbj5wQtw+KNNlPQik8j0alrA+ZIcUPnUVQD3wyBg92BwqPn+/pD3/mqc8WH+3OxN2zDwAAIA/zQj3PUAQaT2xpe85dy7hPc8KJDuCWsQ+UJ8rPT4ywzzjt4w+RVD1PqEL1T3bV/8+N5ImPMtC4j3nCVs88OawOjkIjT7h/9c+SnxhOoizNTtyzmY/0vSQOs3hgzq06Qw//je7PfkoTT24SME512wQPY8QBz00B0M+6emUPYcDqzo6+0M7QylTP7AnzTxob607bJE4P3NjKj8Yft48IY9NPtcL6z4Uraw+gkbkPgAAgD8VdL4+O17oPtjmAT28SL8+0SksPsCswD7Ax5c9UL2bO9ucGj7uI9U+qVfnPZoL6Dy9UKA+yZ+cPuEB3D6BxAs9EsG0Pkrk7Drb/0k9lqiIPG6Yjzt8suI+DJcuPjCHpT5w+Jk8tyByPwlwij7QnQo+oGsTP4AOxT1oW5Y8ZFXXPgDimj53svA++5TPPrJUND+PxxQ/mvA+PNf0jjyOTHQ/GwY5Pn5jDj9BmZw+jCFhPjEqmDsOIrg97WkzPqOLeTwrmfI+sJebPuyMZD5jeTs/E00OPrYcXT1jVlQ7MhbrPsUh2D4XTVk+++8hPgwaaj5do4w6NAuBPhzR2jsck8Q9HPwAP6ODCTog0ZE9OVmkPTs9DzuYSSU/2z48PpxKqz6AHPU8K6EMPAsHdj+VORE/lkcTP8+QGD1UvTc+25VePg6oQT1uhxw/XXVUPnlctzyJA0g8wcg1P7XIiz0nJmU+9GNKPnHnXjufzKE7JI5IPoEkjz4UzZk9B7eDPS8jiz1bBvA8w+W7PeELKjz7m6w+UcXZO+X1Sjrmb/U7cjFcPOv5HTyByfk7QMNAPky2ET8d2Lo+cr4AO+1awj1sHTI7W3mbPgtmbD7WDnI7CBgZO+AyXj9jMaY9WlLFPnW1Nj+Nybo8c2j2O5Wtej8lQzU/D4FvPt54jz1b6r87AACAPygesj0ceOU6G3pjPt/POT3AVAQ9RkgqPvCFJD9DWAI+FL04P2oJZj0YVk09s38YPhpTVT3oiC8+xqbTPftymzrMXT49eYv/Pd/ejj0AAIA/7KbCPkw+MzpfAB8792trOziRkjwvOx4/ACA2P8fMtz7gXac+qGvDPBNmFj9BfZA9oJRHPnlpNTs8QhI/OxfMPhdWCD+z3/k9JDXvOjIGqj3Z3O86xKUiPvL/LD32RYc9/wp3PXSukT7oDfw+DfyOPsx9ljwFlvU8WKIeP0peEj8G9kY89rEVPjN8BD/NFX8/mkiyPtB5sT5M2Tw8TzVKPX2xTT3Efbk8Zv0gO6Yb8D2x3BM+99HlOt9NPzwd/YI+h7jaPMYGRT1Q6cQ7lKpVPfuH+z5A14U+98mRPgRL5j1Z3Q4/sYkPPwjnwz57gBg/lsSyPGzQ7z6Ni049Gh8GP4/OJz5xYj0/wfToPuiFtj4vG/U82CgNPqkAljsgzYU+OF9TPnX1tD5K4AY6vXPoPlFzbzu/Azw/2cigPrU9ST5iQCg+uP6YPsGytzwlzHw9TC/yPuzqhjyl36g+/HQ5PzAZgDk/iAQ9HeuYPXROoj6IGh47gxbNPiMP4z763Sw/Pcy7Pm4YjDpd3606fI4kPeXDEj8x/bM+k0WiOjP+VD8fXas8nlZ1P+ChkD0yxDE/38boPrCTqD67VgI7fmZHP7S30z0KrB89SXP8Pa9FVz4AAIA/4RGFPuu3nT5wNRI/yXm/Ps6KnT41oos+jgrdPDaEFD4Pot09rbDhPV0D1D5D5SA8MdxJP2VG5D7/IsA8HdM2P2aGwjxaXI4+Lsb5PWN07T55we8+W8h6P8gAND0D6BI+k4GOPQr9mz29xbI999V7PezDHz6JMCA/3ZoyP2ojyj79O1o/UmJXP5QbXzygdUY6QNmRPFSH2j2It/M6ejpHP8PCEju+BYQ9Qm/CPBqWsD5wH9k7Sh7LPQzX+j7eJ4g+X/FHPidKRTyuQQo9CPMfPCgQbD6lBL49PtT6PlLAaDy/WWw9wN25PW0epz4IFR8+LsY2PsJpsT1UW0I7zoETPUCnwD4JsVM/b7/hO+3yAT8m40k8LQjsPatxFTut4009Gw97O8Endj+TsOk8UFaUPe/ihTz8Jd05cD63PvEEKD/L27A7+JA4PupWpD7UdRU85oKCPeNcGT8fQ9o+0nzqPCeOUjuyxIw9AyNjPtGpyDuEkqE8PoMpPFQ6dD3VbFc6MMQuPpfroD56P2M72NxGPRI1rz1aBNA+TdE+PXIDdz3F1lo+LgIwPgqmGj+lT3s+2EsUPx/Bcjy5rRk+qJehPg2pMDzenGU+g7JdP4ltdj8hAlg/vo+6PiBz/DyzT2U+XP4fPimVXz1slOI+itwWP27xDD6+wko/aCNoP/WKEz53NTM87M+uPovhbT2yPug9hcJrPgxAaT5r0oY+oA3lPmbQBz2Eho470WC8Pvs7Ej3Zo248oV0aPwO0sT1me2k7DpAIPvUAhTvfyy49A1ACPXT8pjlCjgg/+GihPQAAgD+HUVg9hdvbPA2ILD8K4Ko6wug7PbXV+TkYic07Yq55P80RVz457VQ98HWBPPSODTxmWUY8d5FaPwn3Jz93ILY+RgEHPuRQgT6YkdA+MNOwPSQ5CT5NI748i3MoPtxaHTuFn1E7NgYgP3PsID1hjgI/EE7WO/EqyD6s4U4+6dUwPP4XkTylAYY+pOzLPmyMyT5/b3o+hDl6PmULyz65UUA9ESxfO27YGj6hxdA6L0wuP37AEj0s5k8/kYRwPlL9VDzAi+4+iDDzOgyoET7urdw+2uWHPOiBOD4FeAI+eQj3PRvfuzpP1Bs+NwWgPhr1dz1RqIM92VpcPkw2Kj9+Qqw8LZiRPRS+5DynxK08ZTPTPJNROT4zKhY/f9pHPmU3jz4YE0M97jy5PSBrlD0ylj4+CFHZPJRpQT4aKdU9XN0KP70BAzrFxUM+bPkhPwaNMD9rk1s6u1t9Pn1dez49Vzc9bL+PPA5FOTrD/CY+sb3EPhjPTD1Vgis+WqpPPtK7tD1UBeg6NqSGPfurrD54tJ49PJacPELcFDsHSYc+4TfcPoP0HD9x0/I8Qoa4Pg2Bbz4aKdU9Tl4nPmohcz681FU8Mi3QPB6NQT7G2do+u/MSPgEatz7irgY7RFO4Pua6hTtImkc+DsU0P4KwOTyeHUw+xeSwPC98eTpctp49VlnDO6hyDz8e0lU+mcokPUgp8j4CYUk97RgLPp3VrD64Rfc+zTWfO4eMTz93sRI97856PbjKoT1v+f0+y3kVP6kXOD4vLuE+5NlNPTevDD8Cwg8/ISaKPCCtHj+FDKc+C5bCPs5LRjtCzhI/LlCpPR9TTz/eU/k6K32ePU3zDj9eMyg7iHxYPvN13zvj/t09e1InPacFQz6gvGQ+fA8lPvdBMDv195A8Qn0EP4Pmdz/F6As/fdsIPj1oNTtUW0I7IMbCPgAAgD+jJ6M9d16oPJUndz0gGMc8G1U8PNi4vz3TLL09Xp92P3Q+lDq3pGw9tfH/Prw+XT945jY6WiY/PFfu5j7cH/A+B04gPvJ3Fj7VgpU++y5IPrKQlD7NMgA95mF2PM/OKj9JSJY7XrcFP9T8AD8aKdU9fYdAPi1JGDxpBQg9oKoLPd7SNTvKNRk/wsTNPmhT4TxWXAA+RiAXPw23vj1zecA9Up/JPRleJzxpbXc+/jFqPbvD1j2053I+k2RmPiZ2KD4f/bs+FGsYPiAchz68hx896w4MP8PtKT4jIOI9J0TyPr6MpT54yvg7KBltPOtcoz4c+TI/2tvlPVXNSznEqCk+nXIBP2zLVz5/s28/h027PsaxrTxi5YA9xGUZPrwZtz3cn1A+dWxYPe1V2D2/hRw/JXoDPYCV1zvP4qk9QckpPlrksD1Dbaw+AX2cPq5RLzzZBMc+TfmJOl6vwTwxOQA+6snhPB43DT9yU/M+Q/YYP+9nYzzdqLI+6k/EPUvxtzmeNQc/PTUmPgbaoz1fAB87uZiJPe2tLT41BlA+I4VSP6dE9jqn8I48ZmUiPc1CzT5sgrA8S7j5PdCc0D4voQw871EDPd1Jszqi/4g6s8XQPmLCUT3q76M+PmQTPyWEATsj7lM/NuVOPgK5Hz8Sae09hcJrPuw0NjrAWOg9Hp6xPOoJ9zpi8kQ7X9u0PUFGYTqNf5s6ibkxPVQssT1x+fE6xSKJPji5Gz7f2pM9ksqxPRQ3MT2KDqA9M3AJO7oR1T4SSvM7CZeWPZjmeD/pBWk+mgC+Poc1njzPbzw9hDR/P+KLVj/AGqQ7RpAlPthPOz2c5x87nA74PTDvhT248Dg8FBm1PiOyxz7kRaI8mLfGPcH9ADxNR5s66chrPXf8hj7z/H4+tXj5O+zP5j5shEA/THYPPlKtqz7xhU48HIlsPYl6pz6DoMo7Hj9wPjsqWD+fmdE6eI/HPWsPKD9VyXM9vM8mPpqs3jz4aKE9YeUCPZuxHD0IOBU/1u56PrsRPj4l1ss8yGocPrjKoT2uSX8/c+ytPiopwj5gwh88/ujQO69C0z4VlN87+JuYPm6PFD+o57E8oLOSPGwVKj981YU+VhIgPw7rZj6wHSQ+mITSPNOI5j5wTZA97RibPTSR6j5FDl8/r+wSPnoDKz899Rk9nsFeP/zSlz5eJpY6pjSfPlL1vD5SaWE8w8rhPd/POT0AAIA/TlaUPc/wITxZINM9YMSqPmDuFj5n2Sk/DOw8Ps8AGD674dw+vo+6PiKkaD3VHTA8Mfi/PMCvgjwW2Hg/7w/9PDXuojzgjGU/FO7PPiXC4j4wCCs9zmrRPvlLhzyOTQE8oYVDPphlRT6u1dQ9MRUJPaL9iz7s+NE9DXx+PdFkAT+YUc0+JdQYPiWJxTugtkQ9E0EjPe2a6D0EZqU+zl4aP0AY2j6MRyY6VHNFPjuvBDsvkys9CRsWP3Ocsz6YJoo87HRZPaoXOD49lT46d3UBP4R/Ij+rT0k/V5TyPs9rnz79ffc9s26DPjf/dD2ezVw71ErVOpKGIT1tdoU+45zTPRuQNzz09pw6cluePW+5oz0sCDs+ZnKhOmv1LD1vC849pT25PofdAj87YgE8AAJ6PTQtuD2jkoE9TmoYPxZOFDzvYbg+1FQFPQ5UBD8cfwM+PSGFPQAAgD9BQpQ9j65EPpv7YD1v9Zk+FykTPWiy1D3Lb2o+MWCOPQ7M9DyTW8A953MpPNlmdT8vBqo9MrczP0x5bzw08x8++9MaPweYdDopOBg/EPwOPcDBeD9fiGM/6uj/Pn0Lszp3RmQ988MSPhX1fj7/KAY+ZEr3PpMJDj5eCJI+/aJjP9Vbkz6+j7o+i1sxPOSbID6VDDQ7KgTZPrTEjD34q+k+rxSjPD05LTvCplM+MZu2PXqPlz2pb18+KYYXPo8E9D4bEss7COnAPtLtUz4thZg8+PpIPJudxT4GiJc6wQyBPpy0AT56N7A+HJnrO7KjOT1c4Lk+1uYBPWuOOD0aSMg9rDFGPeUZTj/Yoz8+2pkWPVvntj5MeZs+LgPNPtmxWDyJWa0+idqoPm/E9D4V9Yc9RWRMPx6VlTkCNhw+if6tOnl3YD6fAds+aCWqOk8kjjw/b4Y+TbwSPWjFuzsHWOE+sgPRPNUxpjwMJIA+n1gXPyKcQj7z/vQ+DUGcPGs2Bz4xKSs+oLAaPnd5BD2VkwU+NlWvPUV7dDuiCzQ/KwQtPGmYlj1XQEg9rcoCO7w3Mj5PlGU9+2YBP+ZPxD1x8dw6IeepPiU8ET9tzkQ+j9d5P4z/Ij8xSaI9C4uBPrYxZz61maY8AACAP6803D7jvLk+6re2PlVkkDxQKfM+dwKDPlsczzsU7V89jzXrOd0hAz8oJIA+pmm7PAUwSD4ZnQw/LAWXPuBdpz68EBo/5vuBOn6ypD69f7Y9/P8OP+6F6D5cp989yYfcPVsNYzsdlfc76ad2OwAAgD/xpqY9u7shPdLcSz1nGcU+YLlkPL07Fj1jVwk/I3ZiO7dNSj1d6CA/+8MbP2vLVz7KN7E7uixHPx/foTwCGoE9YrHyPIl9KD4g+y85XDS0PpuQrzuO9AA7RSONPDYnBj9uASk9iV1XP0PloD1CZoY+EIysObQAOTycjyo+ivj0PI+3pDk4dBc9D5pNOxS6cT/q+NE9MuS6PpBTJzw6rhE6n2RJP1xkKj+dNCs+C9+nO2f6Gj6tqW07OI5yPiIbzDkZVyc+v/9LOwyR9z7cNQ0+w7N1P3TTKj2W5y89rXO0PoEPLT/Ej5c+kMCfPVQ4iz5tZEE8MQMpPftvlT6DlRs9ejcqP4ypmj6J6Ak/1wMiPqyzKj0LhxM+iwYHOZVZ0jwVDSI/0/yZPZ5TZDm+Pus6Q9nmPcrXkT59YmQ/ep7DOhQ18D53JG0+XDQwPkPKOTxw6AM/uGKHPSWmFTvTBtc+win+PY5k3zsnLvU7cNthPc4n8z5uNeA6eJBoPqHkaT4dETk/y8CtPdswfD77jy08O69FPrFkxTk7J6E92ZwaPvu8VD7OxmU+z3CWO3s8Kz4nxyE/QctiPeCrMj4ntF4/ZT7XPgTlej7Od346o/ChPbP8Hz+AD0U9Cs5rPvDbMj8bYAw8PKsJOzzefzsxpKA9ZyvcPqldwD6KxFg+uAxCPt3ICT82omg+IM2FPlgDOT1IfzI+5jgTP9iHkT0TY7Y7q1P2PMXekD5rNWc9TIvOPMfAOTwtCKU9bdvlPN/jSzkElZI+hBoGOqEofD0jDJs9RPNuPsU2BzwyMsg+uku4O2zxtz45h0Y8UD4TPbcNezzyRxw/DWIwPTQZUz0SPAo+eF9nP3bjMT4HE2k+yqhbP9Z2tzz7CBk+C13nPkajNz6UcFY/TRXzPncrpz6jJuM9gQ4uPgSMfj4xjA4/yWovO3tN3DtOXic+DuHaO4+69z6dQS8+uWnZPKcAJD/xZRE/ZKCDPFtSUjx4erE9BvVCPgT5pTuqO10+LjKTO67uBz097Wg80szgPWeElj6x/+Q+s1SpPVgZgT0xnVM+1gksPFjxSDzIP/Q9iwopPIWIqD2LteI7XF3PPsEfgzyOLf088E/kPvp3wT75nmU9G5QMPi2ejDnIOO86JV1WPXUn8j60QxU79h1fPdclgD5DnGs9sZvZPgGbVz2zMAM+nhPqPUbe2D0+RwM/iB84PmUmYzri3BM+sfmbPhHiGz/1Us47t9dBP86E8T5ZK9c8B2gOP+hrMT5fsq49pU97Pi1vKT64CMY86YR1P3yy4j4CiJc6ZBWUPPjMJT2Nkjg8vzkgO1fIyD5EIAA+m1O1PhCl8D1bmuc6w2//PSEdxzxxPAc/lGlBPuyuzj49l4g+3HzdPh64hToE+aU7ckd6Og8NTj7EBiE+aNslO7XRsjrRPW8+VSxyPhBRFT8tndg8y3rGPKWCqz5AAAM+ScqaPh4tsjx0TqI+9PHwPpAVsz1eB94+RgKhO1EAmTxKMr49B3S7O5D89z0RXH4/3fZYP9vddT0uk7w9m8XQOuOICDyYUc0+5QCrPpBvhz1p9jM+PodpPmPSXD2CUUQ+HXxPPsDJEj9r18Q9RDEOPsAsZD/l9Is9IesJPt66oztl7AY/WBPuPDNLgT21mD05r444Ood7lTzJteU8aPOrPnkupTjTnYk8jViFPDNGHD0QDJk8Q9xBPhgtVj3HPs0+AiBePUxueT4fV2Q9uwcXPg3MLT+QC9Q+LWnFPEPd8j7siLY+ec2wPmIDCT5ZCzg+yOE4P/p/+T1rZzk+9vbWPeuE0DszDBk+rkBVPhlXJz6VP2U/wYraOCxOhD7Yn60+zLRfPc+h0D3y35g9YCWDOyHlbj/9mfc+VccEP688YjoeHcs5lQprPRQv/D7+VHw+lTYoPmMarj569Cs9pFL7PfxYRTucXsg6VAXoOhiOsjt5/uA87IxkPsPLvj6ZpSo/rlMWPxQnFzqInTk+a2YaPzYtLz2mHm4+DenDPqSzYTu0IAk/Lgj6Paa1/z3+lfw83vuPPiPXvDqX8cg+HTRCOiaDCz8CIF49UOY2Pmo77jtl0Fo8EJkQPrjuoz5SupM9FOsAP2gO3z30Wuw+eRGgOjySYzpoAcs9FuxoPvomLj8ZcaQ+Z1AoPJPp9z1SFv4590SCPNmJ8Ds+85U7csPbPvTF6DpBlXw+sIQsPAmbOTrpEZ89Z82JOxuaWTt9n9o72k4EPDIYtzvzCN88UMCkPH10Bz7799c9N2FtPj7+Qz6/oyE6HebZPW356z2vnuY+PlXZPcqdojtp5gg9BzXLPiFLfTzBlnk/ZcqgPgF+wj41ex499L4zPiu6JT7pOiw+fHIDP/oxcD2M1bs7CR4yPk60gzt9Q24+HugoPhzgsz2M7Ks+XPVSPYoUaj1K5ho+092sPqzXyj2QNjE7Ih5TOURyXj6ZCtQ9rx6iPU9okD0o3xE7IK+kPipUqj3mltE8MFEuPt4jxjol1Rk+e4AbPnw2jz7gY/A6GmCIOrKHnz7eRfQ8o2OAPe81ETuXHV071zwSPjX+RD68EiY7ZF4sPx4yDTzW8ag+c8UkPs5E2TzWd7M+0TYkP++T9T4uiII938GcPR2d6j02LS890cE9Pk8BED5YYso+AAJ6PQIVEz2VtWs+bAkbPiToWT2bGbs+sNPPPubuRz4rLvg8/jWCPP+4iz2D8Xg873e6PlArvju7GP0+r2XePDO2UT043SM+GP73Ol28cD4LIYM9EJFZPanNtj4AAIA/+b4yPi6T8Tue+oI+qULsPMzGbT4AAIA/ohKMPEbv8ToU7Ls+krbjPvUDCT0Jkzw+Ir7nPGD/Rz/eq+E+JaoPP/ecCD0u40s7Z+rdPi1tljwVZrk+BW5DPscywzzGHoQ+Hd2UPjn6Az+zk+s+gWzLPudFYD/iBZw7aqVxO77GiDpej3I/GrWqPUjI3jsuraA+HTsuPs0aMztEPkY//XFMPNhG+T6i3Sk/ThQSPTBbOT2p+iM9OmNQPvjfYTvhewc9nvqCPrN9ID7rrs4+roB1P9E9bz6f4X0+NKBmOpH9WT7iNME++qOwPoJ3OD+0IAk/0HVBP/nbyDpPoY48WvTaPBcsTDwygx8+a8HCPPR4AjwBDBY8veYFO83D6z0mlT0+0znbO+YECz8rypM9ug/lO1C5qT2PTgU+vV3UPrQdCT8AoI49aWCBOrt8ez0Djys/57xWPQxaTj4fHo49afYzPvGdpD4yQ58+3mszPqeaYj61ruI9HbTcPuGZRD6yEvc+hFghPIqyfT4h/9U+rOrBO78xZzoAsf89Q7clPmvS3z33nAg9jfWJPMECfz/9LXA9eetiPvjPvD7AzQ0/RmMzPo6NAD52Wpc+14zFPPXiHj9n3Y090d9LP3Bt3j6dj3c+TYojPGOWNz8dySA8sNpnPwTrlT6ILQI+0JzQPg9ilTx9lCA/2jGrPmhaQz2ufOk7Lf7cPoUdez0bSVo6VbydPT/zkD2WS4Y7tv4cPIddtDzcOuo9BiwcPwAAgD8AAIA/Il+7PA75lTxFPJU7bOpGP1AhZTzyNH8+fInBPkQZkT7v1BM8S5WkPYwhYT5zkbU8BSzDPnR1KD+ghUM+nTlfPeR0Jj51hTk+j/MUPAik8j11F+894AMRPkpAsT7kICU+QzmbPNJ6yT2fdYE6uGozP+mIVT+PJAE+lFXSPpqPpT1arvE5bf9iP2vuOD6RSgc/60asPljecTrDiSU+24bGPh3dhz1dFT09cRUAPPJk9D3fldI8gr7kPOlbBT9MGiI/nKKSPWN/2D6ZKTQ/X1KIPP903jyh4v48VDiLPpeC/D6cXsg6wNIzPwSwoDwx/bM+k+TKOygY9D6p37k+CBotPWmUSj7qhNw+GZMgOpo9STyyFI87XG/lPBX7LzkXXfE8fc9cPjGz7DxPNl8+ISGvO9gpHT0MypM+SG9cPRrLsT5RkPc+gopROVA9cD0qEmI7/Ra6PlExpD6MDTg+jo0APgcPKzs52os8uQWlOlmCYTuMhq09AJNAOPiz2j0ZLy0/wii1PUA9Czsi+DE+R/HxPF6a/D65UY48boiCPjMKsTvLLkE8CBNpPtXXMzweJLc+ilroPqwasj62cfU8iPh+PpHtez7r6jM/b8UCPqU2ZD57p6Y5b89LPg4r6DpZ/NQ+I2drOnzBsztNAOU8LJi8PUX3Sj6GRbM9sqmuPCDWLj52oCU/HvlkPslF2j3sOzA+jcQnPzVBkz7Db/89xFhfPcCRzzylSYI6zgoWPXO36jvp1w84sY4qPmkT0zuyOVg98ZIiO/zk1j2uAlE7cRFKPdr8iDxm20w9kD4jP8PB0z2Wnto+jHj1OMnIDj3FFrw+um5cPwAAgD9Zpws/17CCPlcrUD7Ucq47FGROPqbfuTwwrPA8gDlEPEvwgj7fCes9Nl5QParPjj2U/ro84rrWOwwtVD1hGVY+21CyPVSFcD0ZVyc+NBShPaS/YD4J34I7aQmOPl4EmTlRiss94bThPdojtz32eKc7+5qaPgAAgD/JB5c55XQ0P02ZOz5/7kk7sWODPiDNhT42oFQ+auiCPl4c1juJqRs+ZthBPUkFez6nPLg+otQCOqV7fjvxWVE+crVePE9sdz8T5Rs9V14QOzIoEjuSIZE+biUDPofLPjxYVi8/Ot/OPtUdoDwrPoo+gnmaOm7WkT75MEI/vmQTP8vzMjq4GB89IX7qPr/sED9Ekrk+u9dOPJIgAz75iyE//owCPle3tjwzVDY93gOGPXROoj72mak7gPDVPbgzPz4XaQ8/qOa6PbuNAz170Tk7HxWVO/DZnD5Rt907jY0oPrAFnjt0Bhs+zdSMPs0IzD0/xc09xgO5PdAoVj4yHjs+Ky04P6BiVz8Y7x4+4vVVOx4wlz648Wo9+FBKPmmSTj9raug+GNkwPDojvjnFeuQ8gf0kPxD9lzz3yfY9wLHrPmmBET3VBnk97shuPX5uLD4HE2k+ch2hOwqxUz+jliU7Q8+6Pe2/cTsUAl0/Qrv8Pj8rHTzCDow9Zs4IP08uozwPgW8+lJImP7O3qDpzCDA/wRm+Pf+HXj43xwQ+Fk2qPqlZCj1E8Gw9xtknP9XPmjx831k/I/MOP/moMjzYRz49Fd7lPZqTYj6089E9sex7PhBdEj/hCJw7pfetPr6AlT5on8M7eKy4O8/Tdj96+qQ+u+HcPmfU4jz4oAA9ZBcDP0BHsz0BBrI9QWMGP80RXT7y+aw+EDsZPrncaD5B/BE/C+hRP4uOlDv/RXU+TkivPhK5Zz77w6E91OpFPf4ljj7J7f8+O00ZPC4uTj8eLbI8tKE1PNq5Yj6MN24+ldJEOluJOT6RLvE8QrmNPfliPT7YeZU9wg8eOqq31TybTq88pwGVPgE/7z1Fi5889GsWOo44zj2C76I+NicGP/bURD7tAg4+vTS0OvH7gD6fowU/lyizOrTEjD1teyc/1qcZPSCnTT52MjY9lhi3PI7HkjxRhM883EejOzULHT75Lzs+y1CWOznSGzxzk6c7MsdVOzZYlz6IRQQ/72JaP0arzz2dyMQ80hUTPpuHjT0llV0+Lv1VPzMmCj8ivCI8rDtVO/9dIz8SzF8+PwYsObUNWD5t4Dw+6Q+ePTof7DpNtH09zx6LPmCHTT1BBHg+8C/FPpPYgjwNkK08dWRHPnga2z4qRYY9nMQBPnnKezynUnU/iOf7On9gPT5aT4w+ZasKPLQkVD8yo6M8E0EjPVbfxz7ps1w+fYtgPor1Pz4J73g/671gP9vXqT5blvY8bAfdPVY2Gzr8m1k72HwlPBk2eT/U8VQ9rhLFPJzgBztneyw/GinVPb1AiD4zEGA+szQzPzVNuz2feyA85lIUO8Uz+j43zZk9/8k0Py0Tsj78MRY/EXMkO0Jmhj7cjis/ESi6O/AjAj0Fo705hcJrPmzrRj6qnCk+TTWlPoT5lT0qCyU+Ic2FPg6aEj4DxIA+crrGPipsuj1iVwI+kpcEP7uMFj4XnZw8GjGjOzDM9j2FLu0+lDstPKM8rTyPjTE9fYsQPigFBzzWuaw+LfEzPDQCCD/X2C4+Xv8aPWfr+Tv3Go09ewAQP5al2D6hpXk/3EkaPkNIBj9zOB4+l2AaPPvPkD7V2Mo+E41xP3W8lT0WFvw97mkzPicyBz4IOT4/KdICPqKTgDzLqAo+TN/0PgJLgj4D+bs6BgaTOzx6LD8zFoI+0rJxPpxnnTnbnBo+aiFzPgAAgD+9Ayo/aaHuPeoPiD7xC/Q+RRysPYISBTx/udk+AjJLOjlkuTw0ovY9NU27PSmxij3ZBGI+HbFAPVvvVT4NX7M+9U62Pso7Oz/GTEU9HJydPYGC4DoSzF8+dcpdPtehCT8hdyg+hZIbP8DJEj+IFo4+0T1vPjGhxD23P7c88eahPVM2iD6xp0Q9iMHgPfyOjTtHSkc+0590PuHilz54gxY/zDSKPel4Nz1oBQA/Q1IqPo3gKj80i70+GTXWOmg97j5a2lM/QXkPPzvkBT7yadA9C4iXOotuID9n39o+VuwoPnoDVT5YSDY9cFuePa0dMD1X+Jc+DoKbPgPAxz0rvAw+9IFcPsHHpzxI9QM9WMAhO6Lcqjt2RqE+DJuDO+nmTz7U9cc+PtVqPt7tjj0SL8M+R3gZPY/EzTo3EQ8+JMIzO1Ji4D0Mg6I9Ppg3P5+Auj3kICU+uX1ZPtUH9z6BgZI93nQJP4j1xz1Gn5Y8hMcaP7YJjT0mmTg/HfIFPyiYwT6fqAc/uvkxP6nulDxot+0+105DPvv/NjqT/3I/O1uIPRmMUT9JHnM+E0ntPldJkjvXFew9mKwtPX0ntz6LrjA758d7PIJkFj6WStQ85ccHPbuNpz6m/wE/GywTOyiKxzu8n3c9d1qUPp4ejT7ZnBo+rV7WPE2MSj5wZIQ+OGKbPsZG5D2SYpA+lkssO9b+UD2+K7M7GeQEP3x9eT9Dxp0+LGK6O2Rb8z7vBn88+z0hPFmeEj+XSSo9dqWEO94VqTwnxiM/nHRoPaXtTj0U/s09BzpJP+WYfj7cLh8+jm+HPQgkGj+3Mkc9ILcsPFiz4DlNqwg+OxEEP3NKzTvJ7ps9QP3SPi8Gqj0El7w9G+wKPNDlTD4H59M9NrKuPMFlHTx81P0+OGHoPn9woj6HwJg+72WTPuOhDz+i57E8t8qeOy+Njj3zTSE7iEYjP3Kyxz7ZnBo+BvMVPZX9Fz8AAIA/ADloPC5+KTwKjjM+SNxpPraCCz07jFk/7wUXP9SprjvZuYQ9fZM7PmsTKj/WHh8/gQERPpVXoT5RdwU/O06uPe2xjj3qDiQ/lnogPm/TOT5PrDU5/GiWPfjYxTvzRME9FL1bOu9Aijtk9249bIF7PkyPUT89nZk+0UEPPf7nPDxrtRQ/bCMOPhtiGD/yBg8/ai1xPabR9z0Xvms+xtBBPotS/DvVQnc9UwODPOv6iD0b+Cw9Mk4rPjpYCj7AyRI/a2wfPlGdPz7Y5Ow87ksaP0yBeD9fjtw+ufa5O+X1eT8w9oc9PakvPm2sUT3PL/c8lvMQPKoOtjosNDM/ouM4PVP2FD8PNq09k1iXO81TLT4ptEs+LQUHPDPIBD3Ul34+kHmhPIDC5D7I3ng/BHRMPnshmT4FTzk/ffTjPYTxJj1yCJg7ZSCbPqgWaz8KHho9f4NSPHTdcz4OoRw/yPl6PZnWsD6dGDQ6Zk1bPPWYDT/Bvx0/B3pJPcQ94T15u4o8SYO7PmIMuz2D0xI/+ougPbF4lj6/2jw9+s4QPh9g0TpSSpY6FOsZP2PtnD68eno972dJOx1D1joz+G8+zyLZPGODSz2zi0s96AYtPjCcuz1+eUw+0T1vPpAIIz9DZjQ8gIb0PLOuQT/KJxs/pf0iPnuIcT4S8uM+C5+jPtqWdD9CZoY+Ed81OcMsuj77pDI9uGKqPvbczz4NkPU9EourPrpd9DsG+7g+alOsPWWx2jxcTQk/ao3WPkOjLzsAxhA99HtQPDa3RT2WaUE+vgd/PysJzj4mvwg+lmUNPoVGRD9djp49d4juPU2oZjs/PQ87ggjePUH/kD5o4AQ7VAVJP9LJYz23oAk/0mnlOotO0D4NBDQ962aoPvDJvD7oG608fxnZPgA4ET77Xs09n5ngPYpwdj4SCvQ9Q/XhOzRr6z6Vbes9bcoUPl7xCT4wDJs+QvCsPmN8zD6UcRE+9NAGPQzFjj5iPhk9C5cSPrmTbT304CQ/cEmqPnga2z7CyCc/UhIhPhxQWz7iAic+3yykPdlJszoDtrw+05wnOqHEEjpp8fQ7ChR6PuLVCT9+u4w7NcFFPZ08hT3D828+balkPmUC6jo2FIY89vbWPQAAgD+ZIgM+ztYmPF46cj9ZwC0+G94YP6nivD3V+N88B8QkPxArBj9uOa89aqqOPu0PFjx4a/w9SrbNO3uW3zyE8hc/sur+Oh0yyD5BuqQ+QUvqOfQWqTxbrZY+ilZIP84vmTtChrg+Oj6FPSs/2j01+4o9fL9zPnUsoT3uRVc6vamPPCh4gDmksi4972owP9xDCz0sZbQ8CnJaPep2KT+2/II+MydRPrjP0TyN1dw6ULNjPdfVrD4bGQM/HFC5Ppa0Djp1iP0+4x9wOnAkhj5MKpg+kSC1OqCjJD6oHfM9UQN7Oriclz6l7gE+vgZ7Ow6HQD3RSKY+TiGLPnaFAj+G5Ao+VRTRPh4b8TyAaJI+h7I9PKxBgT0uo+E+gU6jPQjDnDqDAcw9DYFvPhg2Qj4a8g8/EuU4O+QOeT084RA9NU27PXoA5z0sjUo+VVorPzmaDT5pzTQ8U633O6QEoT1KkkI/sqmCO4/lwD1jSZA9li+/PTvRAj0axac+yV2gPQNSmD3MFJY+KYIdOwp8iz7eQwo+emi1Pf8YDz2bKT46hZPNPq7J5jpz6e4+ddDdPsS5jDua07o9qrF7OwhdwD1H3zQ9G5pZO+8nlDy+CL8+j5gxPp/8eT8uyYU+QGXiPiYRqT5pGQY/x8YvP5ob/z5rrkI9jKaQPlFKjz4kw6I+TRilPlsNrj7/9iU95c8cPxsIFj3Ki/M+e2JkPSCnTT45Lzo9afYzPoTyFz+0A0M/cpJvPc+Rqjl8gDw+5eAnPj/bHz5pK1Q7bMtXPkafgjz1trE+1YO/PIYMIz+xdIM8/TnNOUYGJD8X5Uo/OJhGO5C0eD+qFwg+bF6wOvJL6TwQ/Qg/F80EPyU0cD5zib8+p10aPzptSjtB5wY+AZBvPPDQuT6cPzA7psTePidovT2gCFQ9AACAP+rLoT3mi4Y+7FAjPSdAmzxjb6g9Dsx2PQEatz4D6Tc8k78nPwOCTD4vQXE9MmnpPn9mFD6bSMU8VT0RPKX4XD6RMTM/j4MoOzvBND+4W4g+0b/kPrLx3TqTp+w93lXSPDjqFD8kroo8TagRPubf9DtkMlc+tMI7P7am4D6gPhY/dC2kPcl9MD5hoJw+FDWvPY7llj78fLM9OeAhPV4J8T1vkK0+/DXTOtmeMT9mvhU+9sm6Oh/SgD5dc2s+CarfOg6aHT5CA4s9vxIIPDIpNDu0Gkk+vDq6PvFKPD4vHh4/q0MnP14EAD4cb9o8e/dkPnu14j4v8qk7wi1mPUO3gD6x/4k+GuNIPhaHRT4jjVI83murPvmQET41at4+4BnKPSjj2D6HvEo+zNQhO+QgJT4hScE+JvNiOz+c2T4oUlk8AACAP6C5zTpFj5I838WpPeo5Bj6aEJ487iPVPvrUADwUHwQ+gdQJPzgNoDtTESo+zTAgPepbsT57Wpg+iCW1PjWcTzmjdf490yEFP7BzpT0h1HU76shkPlj+Hj9mHh0+Fu2SPNbT4z7xEv4+vohyPebqCj5UDaY+B7C+PsYfijuLsI09QWRfPijJGz636CA/rMkoP50uND4xsOM96RqSPivCdD8kNMY+TStpPQyeCDuwR2s9BasPPpy7mj5ZbZ89DiPtPeo0HT19PZo8lIYIPYndxT4dIF48ZB45PONedT/iNow9u/6hO+5Z9z51Mm09y9bkPaHnHzs+Erw+7aeyPn8Z2T6Xzak6zsK7PRLTJj8i/Sw9r0t/PPSlUzrnLpQ+XlTzPI5hvzvQg+87/1YoPxecKTzrW3w+OJUyPFOmoz7RvVg+qxDXPZkegD5X9oI7fJ9yPRan2T1E1EI+pUv5OTyGmDyocFE+F9oLP7cvAj/obow+sccAP13P4zzyH+I+8uu1Oj3Ymz4AAIA/iLB5P/Xirjxiago8yRSrPN3XCz8CIF491YkCPw03lDtRc/89N/4EPJipHTyhmS0+dKiJPjlzJT9ct0g+AoiXOt2wTD0BkG88djHbPaCImT4Fvp09WfkZPkt6Ez/CFxw/CqMnP0FzBj1YApY+Ha6tPL9TJzyOS9s+xAr5PqFOTD5eRAE+u8NVPHRPrDuJ5f491+udPi7duz2+MVo7T4sTPQ/dRDx1f5o+49inPj47pD7uCo48j2I8PhRkTj6BKM08BwpGPYE8wT4tdXk+iNUvP4X/Fj/A8IA84325O0RTuD5scAU/AACAP2zPRj7m5KA9ed3dPWaYNT1QXWU7XtYEP3UQAjwNplg96nM0Pu0fJz77sVU+UdMZOP5lsT2UaUE+Msw+PRpwQD8AAIA/5EmdPGkksz41O4A9VAXoOuyELj6v5sM8WktGOyQ0xj7KJ1w/7tWiPjKnwT0ahXo+gLoMPpuHUjzeRgg6p6bxPuWkez8IjHo+XAskPFbsmz43Clw+2GCYPh2QoDnY07Y+nkIXPuLiKj0z07A9FqIqPu7rBj7nMGI9KXMzPo56hT0+w3c95/8IPvBwnTwEm3E+aDAsO34SwDy15QQ/bkb5PSSm5z645Jw4Cyy1O2ohcz4fh849FtEYPwdEFz/LCXU/8EXuPn7HBD8DUpg9AzsDPwEqBz7PkBg9xwFcPqQHaj6O6Fo/BPmlOyehxT5zSRQ7mdHIPZSIfjubMqg+Uph4Pb1BUj2cQyU886w/Pw1ZQz65xUU+PLUZPzpYCj5EP08+lFAnPcbXWz58jxQ9SQtxPeg1sT7BjLw9WhxIPh1bVT5wyFg9gZAcPIF8+TyqO1o+fO/2PGb9IDt76gk+/FUdP+IOoD1y/94+aGGpPtTSuTy5+o48vDDoPRy+oj59T3A9ez1LPtSM5j5j2Js+X7pZPyDNhT5CZoY+KgXOPrhkOT/PdT09iaCEPjadJTvDPhg+yOIpO3+qiT6F1DI7QMxePOCUdzzuVSI/asXePTolID8Ich4/sCkhO4Iu9j0AAIA/V0CKOTlueT5tAlk99Xi5PvbPsT5lXkY/BVyQPtvOGz2Wa8w8Xpz1O9dHozuc3Hc+mBqkPkWxdD9xsAU/4AFEPehixD7G+fs93qvhPheriTwS0yY/lUooP2xG4z3tmzI6qJEOPnmuFz5QJ3c8zo6YO64HaD01Rf449EbzPs65DT+TLU09Fyc0O4mJxz4axJc6SYhmP9rIsT5b57Y+qBanPdJZlT78jeI7gQ2YPl04NT7aB5Q+j7sgPgF6BT/EPEA+4esHPa74uD1CEYQ9OF9TPo0r/z6Ixvw+sy2BPse4jTwAAno9SSFpOp4I+DwP+BI/6FVdPfVFUjsqCHo/x7GEOjYevTmhfIU8/wL7PDXPhzqRuRA9SdQIPx9s6z3+UTA8FxFzPfk9XD4w95U+xfJXPjJFBT7hnYU9KbOJPf81YjyP+as9vafLPn197T6W6+o99vfwPtYxdz9ROYM+e4tLPn8OcD0CsWo+yXduPmCryzzmLVk7rUkYPwBbrD2nPrM+UaTPPSoArjlASeY8t2KqPvRULjyfdGg9QmevPFeaXT5Ow3091xEqPaddiD7T9dA9/j4tPxauqDwOBYs+sw4WPhRkTj7HAVw+Td98PUVt2D47o14+QH8LPaYjTTqbwjE/5Ap+ONFEaDxTQeU9AACAP8Zqgz6oF4A+HWVPP6ojbT2WmYU+JcmaPukDcTyLVZI9jp0LPyTCMzs7tcY9P5J5P/XPgj1v6b09LMQhP2pG5T0IE2k+Hax3P58J+ztVr2s9nkIXPuNZrD6OO3g/XOpgPer5czwt/tw+JEFcPJRq3jtBUkM+B34DPFUjez5c4Mc+IP62Pq9IVT97eho/04k1PmsqCT3C8SQ/bj3wPK7OLT9U5jU+t6oiP3rqGz7htOE9ztnRPUGCVj2MXbc+pKENPzi2tj7ZMw0/Z3tTOyT1GDzfxZ884rtkO2icPz1AAe07NcSzPPOI+D3/u78+KvkoPqaWCD9F2NE+puvjPNaPAD+4ILo+bnMYPy3mszzNyTw+Kix5P9cPvDy/P2U6MoWsPSpRNz3WlcA7ehIYPE9+OD0kBSM9wGDMPrD1dz6hBC4/mkiTOTVNuz3kVqQ6jImhPoUaGT1MTo49mbyyO+h2rT5o4so7M+XqPAopzjzosI465NcOP8PIITx/7yY+k2lBPvPLyT13Xe89/sYJP8Y1JD/jx1g9PfCxPN8J6z0MSBU+LqtePz3KlT6vNbY70bwIPi51Fz0VYK0+8YmyPUyvwTqIKV4+nBPBOXMHGz6E6Pg+b5/XPeACeD09Xf0+YdQEP4fINzxyXsk5JBlDP0nioj3S4vE+Kp48PdeMxTz1pY89F5MvPo46Bj+8NCg8BSniPBchgTwPgW8+d3bCPYELazmJ03A+ZuzVO34BuT25dS8+thu5Ob2rsjuk+r08LlF2Puai7D0tNtA8KuxFPwx0kz0NxM482Q4lPedYMj9Dqw08sFmPPvjumjz02jA8O7e/PMeDmD7jO+E8mzN5P7zH4TyJ21k+ciFYPtHFvT7nJZI9NJgVPztcmTkZ2T89gGYUPkp6qz1+88k+ZRQHO2/DszxxvCY9JlGhPC9oijng1dI7smkiPsTxKTphb8A8/IsPP0PI+D1G3q0+6DkYPwAAgD8mWIE9B1k2PoL0Dz61xrs+yId3PsUh2D4EDE0+A8YMPijxfj0Is6g+Z4sOPnGavjzk8mo+BySzOv5vdD9GGCQ/SK/RO9FsUzzfmXI/XkQTPwTgqjpNmTs+n9P2PT3uBj4a+Aw8MoMfPgP6gD5mKb4+lN17Pvhfwz7V5Ak+bQTGPIZFyTq29Zw9RlgmO76JAD7n3ag9u9LEPlZmeDoVkzA+XN51PrFWJztDJSM/JkXBO5Ekszv+Gv471S5TPkPxKz0xV3s9DxliPn9GMD5QDME6XdwZP9d2mj4AAIA/JKJLPh2NTT5dDo096gJyPml5rTwYJZY9F1mjPXhQtz2TSZk+SNGTPEGcBT5h1KA9K8qFPqXjOD2CKdc+d2z7PKTIFD2Plg8++bTKPEKqDj7N6Ts8ab3mO2Ffkj4Vl+c+YYCiPmi+qDoQXtM9JW07Ph/KWT7KPh0+nfqCPo+M8D61ySw9mbqGPizAND3rP+888XMdPq/oTD/gBs09sXiWPgLV2juSRFs/ilK7PNgpBT5iEKA8StLUPpzTBD77X3k/jG+HPbYMkT7m2TQ+7lcqOxJOpz6qDcE8Pe4GPhSywjyxZIg7XY6ePXW6Lz5mT+k9CBu/Pqr4qTspeBs9LxI1Pnai1DuhN9w8fE71PVr/3D4R8Uw+QA2EOkqvnz0s1Uk+y2/gPX7t0jraB5Q+FZl3Pd/P2T0wrHg/VAXoOvsp4j4lHL099kIXP1JBIz8ocSA/A7GtOl2b+D2CjL49CyU1P75vJD7dSbM6+hRdPd1gxj4cbdk+W5QWP27zNz/UJaU++prjPn1Kwjtzclo/LbtuPmHSDj5jb6g9zNO8OVxAODovCxM/8kccP6TCeTto5ag+Tf1iP4Lgdj+HnBI/VfP5O3gSFz+fIWM+XJMGPtsQAT/vfUo7elZfOu9gxD5fRWo/gI2GPSuiOT7cuMc9GFcnPn3iqDuu/VY7/EL9PqA/Sjvxugo9i44kPHbjMT4IDOs+hDFDPQ7GSz+MnxM+COfDPrbujT0a2Gk/cimPPqj4lTv7dRw+5aN6PUWjZD7wyBg93GQlPnyZET1i1L09Y9LePi6QTT0QCwM7ZNKxPK/VAD15Wwo+msF2PViiFj7CMyA+r8E6Pzp4UD7vhPs9qMXQOvhFIDo/0QE/1veHPp4UMTtye4w+Q93yPvEMYzpSpnc82ZwaPuIrzz7bmrA+oTH/PpjhDT5xh4A+kf/CPnlKWDxSqP89AcmOPl6ChT43CQQ/DrbkPKVPez5hXM09gXqIPJPgIjwDjLk+OLv5O703GDwJmk071M/rPSCfBTtLRwY/9z+7PHEQsz0MgYw9m8JOPZIBkT4F7/I+PJX1PLtekD0rRVw/kG+HPdxq4j6yY4M++JctP7+lIz6XFuQ+AX04P+xt2jpnMx8/JYooPtzWbz2frgA/KiD+PtmJ8DtJOvc+Pt6gPgf7FD1I0uc+OyiBPaVTCzwxkms+IfHVPRpiBz9roQg6g6MxOy7DDz+Q/XY+m89APusyXD1ltrs+eiYCPRmpyzx+DLg+yOKlPoU16z2nvOI9j9c7PSlCIz4xWjw++AJsPIxAQDz/cBg8OV6LPUfaJT/aQ6E+DpERPtTMsj4ziWE++y24OYq6ZTzFRCo+tAzcPkErTzooGi08DO0OPvIUzD7FU/g9BcBAPri10jvtqTY/psUyPt6aMj+Oj9o78SB7O2T9cjt1EDE/WQqIOnejBj1vmSg9vZVPPzwc+Tue4Rs+u2JyOxEJIzyC0lo/xwx5PwrTIz1fIiw/QHB3P11S+D6aG5c9Q4ryPSGH5TssgUY+nlP/Ptc8az4RvYg9BRU6P7l4iTvOlLk6LctyO2o4nDsjOCs/5RZsO0n6Rj7zhl06FZarPhlBrT7fM3Y/yH0wPm7gBT+sgLg6urZcPc55pTxuS5s8i4jwPqMSOz77Gpg+iAxTOz0N6D70N0I+Ct+NPidsnzjmNQs+J90lPpY7ZjwaDLM6Z9kxPbkqzD68SUo9ItsAP6w+9zvHF0w9InQSPPm6GT9D3fI+WO7yPr/kXjw510E/KuZvPLFqOjxrxxk/itBEPyrekD3xRME9NeVOPgZe7T6c3hM9XZujPl0xNT8JarA6VVgCP6nKzz3+rag6HALaO+snRj7jsqs+/qrLPtM1nT6tyE0+xz0uPrS7zT4Esw0783AOP4CNjj4O9FE9lizVPIrfATwUB3A9+HSmPuRzmzrNWjE/04osPtslgDukyHw+SG4NO/+hcT/t/y872kH6PBqPzD1b9rM+yBIgPzKYBD8+zpw+LU7lO/Oo9D0Lvdw+Oz3uPFltnz3Frb89yMBLPczDET4ZsvQ+taYCPDsphTyp6+M8Qq+EPU+UZT0zN307hAeRPUSeNzyO8pA9H1qNPPEAmj7gSBE+cnyAPrcx4DxzQMU7+WmBPd/s0j3s4Wk8UkyVPhTqaT5J/TM914R1PTHLCj98YYc9cgoWPD1HfTxpCkk7nNQHPsH8Dj4S+h4/hwOIPfKqgT5MMzE+cQRyPm6IozpfAB877fC8O6JpFT9d5u0+0zwxPlIxGj59TUc999JxP4bP2Dz3JZ898kIUP8sHkDz743g/0e/9Pkp/LTuuAkU+ViYIPrJxJT9im4A7AACAP9KzMz9KSB87wmfxPPVEqD5tUUA+DteePGXmdT/Rayc/hBHIO+69GT/2MPw9P5cqPwJkxz6OkIA+iS8oO0GeUj4xB7s7mdnJPpMjbz1pFjA6nlUrPXPqhT66OV4+ECkcOwktAD7Xfzo+jovLPt6fND6XWso8y9QsPbQgCT9ek+s9bEYJP0UnBT/2XDQ+6aI1P5wpCj5LrOU+xHtrPvdKXT4PHW47pRElPVjXHDx8KXE/ajffPbLQ9jxnTlc924iVPS/nQjvimrI9zOMLP0Jv7z5elC0+Sqw4PGUzYzyHvEo+LkadPiamqD72dZs9EBflPqqyrT7z/wA9AW0MPxaT9T4cDLM+zV58Pa3SkjqHFBY/z747Ph6VbjwZ62U/J99RPSOclT1QaVE/CpEWPh01+j7M68Y+NqctPBs/tj23hgo/mJpMPH364jyWUeA+rQkoPprVtT1y9qQ+KJzPPPfAkTt26w0/k0ZsPrV/3z0Jc149bivwPMDYvztJbFc9sqQYO31ZqzsNMD08fvPJPhp61D31/mM/fTuCPt+5hzsmoZ47mRasPjKmZT90wWk8rpWnPsdXIzwiXo4+ln7jPUA7vz6IeM48GzlzPg4VcD1D4Zk62ePaPifBdD7BXQ8/oHTnPXSgPz9xha8880TBPT/7AzxNMWU7+LxUPnMxKToW5zY7trmQPmRhuD4z25Y+RiAePoFPXz/pje88Ubs6PbNN/D3GzJc+js6RPjV11T01TX8/XK+vOZ+SoT3UZVI8+6QyPbEs3T04Uhs+T5k7PsJc6j12erQ+woxEPicsCD6WZDY/K1DrO+5XKjvTPhQ+sSyPPPyDjD4TDHc9P/OQPQKzrDxRSDg/Pd8VPS/HkD0WDxQ7wZCWOdMjDD0zUh87FkGQO9rKyT1NP/A6TFogPwmqqD6vPGI6JHyMPprVXj75etw5TgZbPRu++DpYHYo8eTI2PezVSjrkHT0/4SwiPSkJwz7US4s7KjI8PNeClT6qYXk/BMwAP3dnwz3hlzM+IGAlPvIhKjx5vGU6hb03OwLTpD1zH5k7Z9MHP2rSfDqZSxo9x7gtP4+o5TnuJZ47PNMsPoYTJzw0LS89eENoPgK1jT0aKdU91kmzPFp7izpRbZk9EE4AOwVYOD4qOJ49EsxfPosjjDyn//Q9ANx4PqbUsTuR7Xs+gzQSOmf2Mz5RFwU9QmaGPtA8nDufQhc+pQc6PwSYRztTs5Q9ne0YPOoPiD4bi0o+N44GOYAPRT1BxOU90OrkPQ3FSjsbkIc9mYaDPiksQT3/4Ic92J6ZPvOkgjjfnu4+PsccPYY9oD5e2mw+HZ9vPQseZj7w86k9dZ23Ol8ltTmUzkU+HEaDO7QOFj7AVv89MsF9O8y+uD0fE0I/3pY5PWHOAT/+aeI+ch5PPj6uETqwozk9FNWmPol6pz79qxI++t0sP3FIlz6Jm/Q9KF1iO7dAAjteDjo65LIIP5hKlj5H61Y+GYBdP2QZtT5F2Kg6ermPPprl2T4Hh046cKFOPnMwMz9cTfw9zq9sPfIn0T7qrT06WkRPP7xHdj/PR2E7dbjCPHIA5z7hTwE7kvQAO+2gKT7uVyo7ojpNP/Cagj2qDjQ+M9J2PerO8T1c9Q8+RwmBOr1gCTyqxGo82WJTPgeCAD/vp4E+JsuOPlEQtzyAlTo9a3QHP2YBZz9I1WE7c+qFPvnxxjxT2Lo8ihl6Obyq0zs/TeI6Qvp/PnH58Tq1g1g/Z80yPjoiWD5+7x88N1KYOrl2Uz54UgY9Hd2xPXExOD/PYgA9Q6AHP0arzz36FVg9WRMsP3kmrTxklRE/yIJdP1tsDT5VzEk/71PfO6fNkzs2Ux8/A5xZO/FfIz6Tlgc/LegEPA+wgD1N6dY7WTNVPrbAAz5zc5c++asZPrQPMj5ROIs+SaWQPEVf6z7XWSs9XDTRPm2JLz5hWz094+nhPflecz139j0+xKTtPCVYUT1UYxc/bjabPXNnVj1IBic8WOfXOo3YGD/H27M8nCWAPqFIDj+dI1k9Y2k5OnKF8j7n1dI7fr73PTTQOzystak7Y0ZbPjLIFzzoh/0+N0WTO0bB/T4l6xs9/XCaPkq54j7JJ/E77H9WPRW+1T2o4AA9LWsGPEAALj0NOvg8xXNCPaWCrztYRZw9r8jdPaLqJz3Pv5Q+2RDAPjmb2z5LwMs8HcsGPqFq0D2JC8c95WwBPfKFpzjftiA+qvYuP/CYST9lSIk7Kx3LOUO4BD+kzh492OgiO0PloD0FnDk+QtWkPgAAgD+t53o+aW1YPy8bsTyvkSg+BZxwPgZXVDzZJOk+h8DSPcfEdz+7fHs9YBHXPaNIcT4TWAQ+IOpSPM0eqjxobC8/rbDXO3TQXz5dEhk/pckSPeoZuT597QE+9j7PO0m0Lj6tyE0+l/oOP47B4D3V1aM8ZmDqPS8Gqj1xEMI+e7THPZ/raj3z+x07e89GP+wseT/k1V8+n5XcPG8Lzj2kG709pEszP9GAxT24jMo9HFBbPhI1rz0fLuc+WUkLP05iIzuz8X4/n5h+OmNbJzysInQ9lp80PSsCiDzqw1o+ajhCP+UfWzsCZBE/oFapPXaD6z3CjcM8B4YGPlgClj4Szvw+AVPyPgSy8T5L+4o+HAOzPowZqT48Wps6vn0LPeu3kD6pFzg+htXZOpVSbDwAJl8+ZQChOwIigDlowJ09bAbsPqf/9D2dW2c/a2YaPzCnyj7alpQ8Q/86PXUhJTt2ZQE+7apjPwPj5Dulz5Y9JZOpPji3Kj+J7qY+V2qAPbjaLz7bYNo7yqpCP5prjT7Hsx8++2KyOyE2Rz5WETY++HSmPsqL8z5ALHs+dQKtPU5qQjvL704/KQc+Pq2GtT4UZE4+l8fRPskFUzzrkAw+LPPLPA1rWD93Wwo+1MBuOrUIIT6ZQi49SOEcPBcnYTzFrXM+MewWP7inLj6q8xk8ey5XPv46LT9wS+U8+NJ2PrPuHD+JxT0/6SdGO5wXnj6BnjU74sNNOxq9Ij63alU+PdlxP54o/jxJdm85sry7PkelFD6lNmQ+zzOCPaE5OT113Rg//RhrPoyGBj+tF845qeK8PZL73z3ways/TDd+PD6Z4zvthPs9sG+mPrPY9zttf1I/VChhPi56bz2vxkc/VK8oPFHJcz2M9Og++k/kPA3bET9hrqw78ZhyPQQITz2zmts+KLgQP+DynT1zkIs9PImSPW7f5Tyoa4k9EPvNPpkWrD5TRa89+PWcPV9+1j3Y4MA+5enLPdRPMT6OHtE8v53DPNb3hz4Z7aA9oM8APeQb8j7Jq1Q/jKcjPtifQT3qbTQ9rv9wPKOhOT+tsdE91EInPKnrhz5lC00+ImHTPuBfQj9K/TA99T7wOCHpLD+zA5s+HPkyP3rl7T5288k9/+DkPf5+lD3XQuw9wQZPPruoEz07dwI8m2WQPhkZNzyMjDY/KzqzO2Y+bz0lEpM+AACAP70lrjz4MqE9y9iuPXjrET7WhVk97b7nPKM8kT2D06w+eOD9PeGJwT4Rbz8+W3IAPGCidT3jAk0+u3d3O8cbozxu8Dc7fJaoPQ0KsDw4o9M7hnMfP60OGD9S9K0+gaMMPsKmUz5yn7E9RC8iPxTOizsSUK097AyTOqojbT2OmDE+KP6QPeZInT3IDdc9K0KePjYtLz1hOxU/IJlVPY9VuD3MVq49pMwVPhd0bjtf1907AiQWP5b9/T7q5zA/HugoPqOM3D3hx3w8zTkmPuDBPDymm2E92WprPsuoCj5i9HU8fKaSPg77xD7VTgI9y0eIPnO8nz4q/g890S4IP+CJAD1Ibg07YnMeP5LJPzxAVxc9Nr4dPsKNwzwwAsk+1OSEPlSUkT1AaBk6SH+ZPqWcZD3I7x88F8DpPkvETj/hOII9HEztPsWpZD5n5LY9rbAAPqmbUTp5R7E9lOrQPuyQRjwjCmc/8fcjPgGihDqUrrQ+KihaPIT7WT6w67k8DR++PQP6PD4AeAU7doUCP3vkJT++Pus6diC2PshMxj1c63o8ildqPioArjlfhT8+k8KnPZJlwzwb+a483SWAPbXzmD5Krxs8ue1LPgW2lD4Eiwg7xDQRO1i1Rj6TQWU96jbdPuL1kz1TO2E/vTGkPXcIHz8uYwE/0N5qOxeHoD1H3YQ87udqPvXw+T4H+0895GOfPmcWVDv846M+VMWJPaBoOD50Js07UnJ0PPpSOzrHFMI+aYnBPf3+FjrrrzE9w+qmPVA1qj6xSdU+jy8wPSJGQD7n/L45QxJ8P4jAiD4I9Jg+wGDMPio46z168ek+TtbZPt6y2j2oioA9cLOmPJdOrT0EI5k9ewe5PgzKUD8k/CE8jVu7OxPBPz+B9r46xFPYPHt54T0pkI88GFhnO/Ox7jy7eF4+n9+ZPtR92j7+U3M/NTohPa1ZAT7PkBg95m3ePFf4lz6Qw3E9RiAXPxUXhT5WvUk+y1CfPtW4kT5lQyk/sOtKPTf5oT4PZuo9U7VUPctqmTyOa08/m655PoqIRzxSUS4+MgyoPGZf2z6B4zs+FLrYPO3WIT2xHwM8Tek6OnplNT5Gvrc85CjiO9jTnT4NvGQ+iaQHPhfbeD946xE+aVHsPItKJj+J1mc+2Mi/PsVU2z1NSCE/PVjTPjWoLj5egRk/A8NWOoZmuzoq26Y+DR++PTbZEDupMeU+RmnsOxPgmzxgxKs8gDJEPoJ5mjrKPUM91RwbP0ashj5rKOQ8jqMGPj+CLzpDuQQ+F+PYOo5NJT/jWlE+bMtXPobAnD5SocE+O5LsPFjDUD5dbAE+4TR4P6EELj9Qn2Q9D8s/PU0PtTwBGaM9t5JUP6F49juqCJQ+UPARPaZxvj7DFXo50wxDPmnxBTsudxk+803yO4lz4z2RJFU8OS4TPupPDz6Bo9Y+ggZ/P/Ma8jt3RMc8rn8dPMQdlz4gBmI+Xh3BPbEixToPmyg8DxKKPl90Cj5RLBo8Q+TsOpDSZD60Md488N4fPeAThz5qGkw7pRP6PUlftjtQ22M+yDkoPzlPDT0C1tw+2cigPsUh2D4TRMg+oZNtPViXSz2C/DI8DEUMP9VudD4qC0s9xADoPeaGBz+fJ2I/RJo+PyVdBDzmHWc8UCeYPqy14D4ZcXE+TNFRPUAUNT/TDDw9HdbTPvbxwz2syzc/DEV+OZD0eD50oxg+q33aO/mrGT6j+U09hvEFPzMvAD0PVc46cTplPlkg+TwpBEA7Wq0dPeobiT07uSg/ppUtPYvXeTu/P2U6YdJdPsGrVz5hGNw9KBltPI7zjT0gw6c9GOWIO9p7Izpf1iI/exgPP+5pJzxnug0/tmUYPgrgMD5g+VI8kQaAPuc1aj5/udk+G+wyPs//nDx+yeA+x1dLPb1xzzo7dFg+mqk9PtaANT6DOyw9XWdLP0OGvD6gStU9VXBcP074vD5sTrY8c8NZP+QZyj33gSU93yVnPiuYID+yyik/RbeYO8R77z0H2FM9w8u+PrcKbzsVB7w9pLX3Pmj2rj1wyd0+dTDiPCKQyjxTUq4+THc2O3ys5T0jme4+Np+tPpjPAz9eyQA8FjNGPwOfCz86G/E+zfjdPvupKTtUglE9kY0JPu9nYzzvv50+Ft5GPoLfeTy/pSM+fqEhO9NfnDzFXOo9QoUkPfRnDj7TvA080iUlPSPYvD3iQ58+CBNpPmwfGj3nkCo8wXgaPpQ8Pj5TMUQ++WmAPpONWD4uD3k/9Gd3PSrS5z5RuAM+7/4JPOAThz5KXgI/AACAP/hxtz2w+Kk7jCFhPvVoEz/+2OM+p2LUPmNlAzzvygQ5NlWvPRvCfj40jEw+4QPPPAAAgD8AdU89F152P1em5DzTNgs+4SpnPjQKqD53kL09+UGSPoVcuDrxLbU97geFPpyoyz24Mz8+LSsBPrwSuD1wUaY7xC/vPk8yBj5i3Nw+VpHBPej+ET9uAVI/lmFfPljjGD05e3A/5k/EPfP9Jz19Jow+FF9fPprYaD6//wM+6wPZPWlaHj531Iw+qoUGP0qVGj6MBLE8SOL5PjBHqTwvIvA+sb0cO31+9T3fwlA+YI54PwmSdTu/Pu88OxEEP7Jjgz7IXSo+konOPSGlGT+j8bg+04F9PgI4ET7T2Dg8+FcqO4J0xzj2ZgU/5GZyOrGnRD26fP07mj7jPsIhrzr1S9w7U2aYPkgAdz4umTU+rWxxOpAKej/g53Q/CuDjPuUfjDz/26M+KeomPnROoj6jV2o8b3gPP8hqHD4Kjz8+NEUeP8mDgzk1EA879YygOrBrpz5iV/o+RhhtPHJMHjrOxmU+VefSPp86Fz80oGY6Bp5TOk9eJz6JrIw6begFPnZm1D6R3189iDctPnipPT7MXHE++4JrPtWtID2jalc+XS17Px2zjTykaTU/jUuxPQAAgD+JXVs8vW1JPJZYaT1MUhA/CuigPnYSjjw6dTs8AACAP9BMlTvzYak+reeaOfPzDz75dhs/l4FiPXyphj40B0M+z/UGP7YqRD5ZHn4+prMfPxE85z5mkIQ+4//+PnM5+j7lKoI9wrqoPiEnkTwKYDU/ZcEwPpbYrT1PByw/oDqcPYS+qz5zBiY/kVbCPig1BT9FMDg+bf78PNrXMD5BbJw+8iDRPREZPj1rv8M+fEyrPtOvxD6PiPo+ZiCIPGsoijyRQhE9mh6EPsF7dD115PI6WGInPMvc1D3G21E9N23oPq8nBj63Asc8OyvNPEE+hT4QuIk7mHu/PgsmKzwGuhM+4CMxP0BkAT+Cfxg/u42nPssxVT7FIdg+FOWkPVwcrDzP2XQ/NKvbPtWmOD1X5Ts/2ts6PiGKYj1gQuQ847TSPdGHcz7AprY+DAfWPuhRAD0AAIA/ZRdAPs8AHj2t+I86Z/OrPo8IVj8EN9Q8m9ufPO4xFz8q5ZM+I51DPge/Ljpg0Ak+zImZPGBCLTomdto+73EyPdNUBT3Od3469bWCPQDWGT4wfsE+JR2qPqEtNT1q+Zc+dH7OPWJihTyUE7U8dlZCPpxYGTqo1bQ9opoFPtcFID/wlA0+QlasPZqs6j7zRME9/c6zPVxPIjrvBb06No/6PAYdejwuAjA+8dlSPnU2PDwV4ig9GHbnPq/R0z0U4CE/F1glP+KjrTrrlec+Woo2PxkKkz6cSBE5AhBMO/qN8z1ry1c+WFeCPhphYz30LhU/o9ASPyaVHT/t56Q+Oi3xPP7ZGz9ka7U+tYujPXcOHz++j7o+CaxePc99MT5SCLY+JNCuPQ3SHT5ehns+izLlPrJKnD3XNPU9/+mEPgj3Gz9IG2A+kRzAOVipRD2GwSI+vBADPx6TLT6jScg+O96WPuSz+z5HxXo9O8s3PGkETD3Vqac8HLgnPiCHeT7GeNI7lsF2PaBI6D497gY+4YlBOw4voz4yBqo9stMTPW/A8DuruDA92+4UOgOErTtFPJY7hkUhPulQzDmRIBA9HxcaPrGAxz52tZc+iw04PrJBpj0IJBo/TZxePPxOmjydI1k9FaE7PvSPUj4AAIA/Yq+qPWakkzwBlL8+fTkUPz9y8jjwr1w+A7ZTPRTEFj8JKFQ+N7NzP10TFjsGM3M/2nKuO7j/Bj24npM8v31GPE6FaToM61A8xTFaO1005j3fPSU/O5uwPTDY/z5Ww/0+EkjMPZiYRT55ZRk9hsCYPo8eBj/iz0M+O2tWP7kHej/AYyE/8KsCP0YCoTu0D14+rlYOO9EoID32eKc7IvBHPSBMdj8Vbnk/RiY0P1l/yD5TPj4+ZOlHPRWOaTr/MVE/dkIbP0m2wj2Ynqg+9v8yPXU+nT2qa6s9zopMP8Bdejy6ViI/K13MPTAYsjuxSnM9PemPPWO4PT6sASw+6Gm0PtM1Qz7SJEs8+PLoOYVW5j164Qk7YciyO3xTeT9y04s865KcPOuidT9fnjg9pSGJOoZ5KT84Aeo9hb9hPXR17TptgpE8DMWOPsR/Dj5G29Q8IyDiPWpwHz2rXcs85WLYPR5bMz7AgC09sUNJPIQwgj73LLY8U2PGPF6c9TvTyXE+y+MLPzOGJD6XgJA+Mp+TPIKErD63Tt48mdHIPZY7lz5h0EM/AywSPqoarDwCrhQ/8izyPgQEGD53Wwo+OTYAPD/1kj35kBE+XPmEOiBN9z4QTgA7gJ00PrGnRD2OJAE+EsxfPpTPCj825H4/sxF/P3UsIDwSJCo+APX/PiwkZj20FGU/XKQaPkyFYj0nnRI+s8luPs3Zbz6lnkY/Nc2PO9+xxTxNw9w9n84WPrVN1z2LXCI9vUXzPUc6Fjtxgbo+D/8zP8Ry0T1W7ZM+/cipPui31j2nhTA/12prPiQ9NDyyMT8+tn84PJBlVT8AAno9lmUNPup1Jz0Jj8I8iALmPVHMdj9w5Ag8mZLEPrY0bTqcwnk7r0gAPyLNsjvQc8c7DFtMPQEJCz94GwY9GinVPXjrET6Z7tE85UWzO1+GVj6K9xY9htRBP++BRjyoXOc9NJgVPwE+izqL/KA8i+qNPrYIsT5Rm6I7p12QPkaQBD5NSJY7Y060PrNWAjvnOC08YYEePctQnz6igDY9wLy6Pf9FdT7VHts+aMnTPk2V/D3wJ2w53dmlO7PHljtf/JE7ohpYPJ31Hz5z1w4+IZ92Pp4QtD6vJ/g+QHMcOcotxj5APQw+JVxWPkH0AD2RjEE8MwhEPjrbJT7P7hc+u4IlP63Gqj2I5BA+lpxzPrwQGj+nAoY80amYPPR7UDwPzFw/L/51P3K6hz7pGIQ96rnyPnGjNj7whSQ/9YjhPop+ez2/kxw/QsahOuaRCz4OqkE/VpLyPvYkAj1zekU9FyfkOdVXZT/Xdk47WyVoPPPnAz+0zgA+ZLfIPApifz9KZ3Q/NduQPTp/MDsUc4w+tisiPhnXGTwTS4s+gGLmPXA0ID8sCsU+zym0PU7vjD5ewyQ+fyJOP+CMNzulpmk9UuF4P8JeKT+t6+M8JtRBPq+HET9aoyo+GLuGO9sO8jzPnhU/XdMqPQAAgD8n0zE9Gpg8P5QCkT5phuk9dVj5PenMWz+DI6A9OvmqPeR2FD9CVns98DMDPdIa9D2Kzk0/KY1SP0JDCD71G5k+j5CBO3ROoj7y3JM+iHkEPo1YhTyAHwo+crAmPwceHj+Lr6Y+dd0YP4ba1T1h6LA7j8hvPqUpsD0r1fs701gfPaKXqDtnvZg+GtjiOUrHcj8erLs7kAGNPnC7uT7E1mc9moFuPfff2j5U7+M9K+lqPpC6RT53hxg9t2I6PmA+rz6WgYk93O+DPgeHTjp2a7E9BUApPRQ1rz2OxSc8DV35PttJaT1BlXw+89b9PaDsIj+zmqE+Jk7EOQIVYDzDhbw+ehipPmlIKT6Zf/k6RFO4PprTuj1sYyM87MrFPqQvIz4dGMI+9yMtPikqFT3EU9g8m8SUPv97RjukyHU6YY7+OydvOT+eZbY+lSkmPHgW4T5znCA+0B+lPS6btj1yW549Q34EPlcnfD8vyzc/FGROPoNxGT8bni4+JMGxOYeefj5phJA9F5sPPxwSZT9JGn8/3yeyO6s8dz/LTHs+N4ylPsQ4hDsn9g89ORECPmvLVz4Foxw9JHCYPIPHhT4CIF49xu48PURkXz48U/Y+N2FtPkftDT7TnCc6NYkBPpq2STyjHI495rbFPZpMWzqF8kk9Le4ePnUQMT8ObQ0+/s/oPRuu3j30acc+vfQaPbi3gT1mGMY92YsUOge1WT8h2g08yCuRPudf+j5dhXk+PyyrPqerJz+5yAQ/TlHdPkahbT6zi8s7m0/MPaPyszt13F0/CPQ1P8Uh2D6RRGA/UH5ZOziXTz8xzwU9F7fSPIlrdDztbOI738wbP1BSkz20uSU+qXlPP5ZlDT63fHs9J9CuPVnVZT/oCPw9jB4cP4lP/DyjJCY+paErPnNn1j6w7yU9hBEhP5PMmDmchP89lv39Pi7KlD2yLeg+7aiYPvAcDTy2KyI+DW4VPTFyXD5XAlw517CCPhVcpj5H8Ck+puTsO4VEIj9jG9Y+6UFoPP2iMj0DPJc4ELquPlfv4z3fQLg++ZcXPjxVPj8m4OU9saKyO8/P1j6mOrU+LyLwPql30j6SzFI+qyJdPwjRgjxtCic+TfuSPguIlzq3N4I+QE4wOOjPljuLz+E9jtrLPhiWCT9MZfQ8/GljPM2VKDxn+C87Zm+WO3AJuz5yHMg9K4e0OrAtOj+gjTc84gQtP9qfPTzBHIk5fSlmP9sguz7ErDI/x5PXPNxAHj4LeW0+YlNnPlT0eD8VPA09B4HqOzNFGz/R5ic/epQsPVEAyDzWcug+XQuoPvL3Iz6dhN899L+IO0C65Tpcj/48q86hPA2mVjybm6E+KYQBO7B0tD5CluI+K02iPU77+j4Bays+9OTcPvqsHT9Fxzs6k3ELPL8TTj1JdhY+mMQCPN6mPDu7ieE8tVMMPNnwCjyd+oI+5wdvPfrGCz8p1247MdHWOkusdz5hcxg/GinVPemj4TxIq889Ni7XPCfGIz+39Jk+n3tuPm0wCT0LUNE+qdtEPEP3Sj7Lmes9yzGPPua6hTujbck8Q8cEO9Z3fD0OH+w+xAJ4PnnDZD1nHh0+ZAAfO0an+jy8ZiU9OxEEPzprfD2vQg4+IWYrPohNzz7rEh8/ke17PusA9Du2uGA/VblCPwuDnzvLHZ0+201sPTErfD7OeQg/7PKyPr0Ivz7IMjg+mCk7O853fjqFDrs99wc/PfEc6T5d6CA/3mkQPhsi/z3Ejuk7mKY2PlXHBD98Oio/Aqz7PB/nJz82bJo+gC/LOim4kD3cZSQ93AG/PemgzTv59i8+EaYHPjxkNj++tqs9zODKPVafcj+lhGE+kPgyPc9rnz7ZT8M+XeggPxFGsT2+8OM7k2lBPtliBj99LeY+LPEfPgG7YD4AVxc+CBwJPm3gVzxcp989DhoPP5e9LDwdfE8+pm0XP98IkTpjDc4+GcqWOzi3Kj9NGKU+J9hDP7t5dT658AY+TZahPpqewzuVcQ49rQzXOqe0nj5yWBo/yKftPO+L3T4+Aro9xNuzPPqnCzqGaYo+36itPJ8OAj/3MaI9FkU3PlSUyT6wVik/Kmy6PSKYzzwAAIA/3KNNPnQrrT0pNis/90VpPj3cZT1yHnQ+o2J6PYJ99zzRnww7n204Pckv7zsHTDw9JBAxP8JjNz4mysA9buywPAI0jz1ROYM+sFLKPTy1GT82wcM+7RBBPnnyHj8HCzs7f1jYPjmJ7z3zRME9CkvxPePcEz7zCUI7X4kyPpxJqT1moiI+e0+9PjCEEjzFPTo/s14tP70Ivz46Tbo9XWo0P+d+tDwZdlk/l3nmPrvbcj5is4w8JYUyPVLPrzu5psQ7V7cgPYXzJjxjFA0+m2gCPlUx3z5oebY81CCTPRHXnT4459A+PfvpPu78iz4vBqo9bexpPmmZTDu1wZ88JQ4+PNXlDz4qAK45/HgjP/Km0jvIkqM94sGXPOHwDjqVZQM9khDsPRkRrz59txo/nqAfPRruhT1VkT09Pf72PcDmpzusuws9E5ktPjV3Rj9uH5k76jFUPFol8D4OH5w+cRvEPi2OEz93FUM+ZVUYP+IeSj6PJAE+LyqtPuNQCjuStMw+nW0iPyybgDzZ7Yo+4362O3wVBj2cR9c+9z1fPkkZ7T38s0I9hPi2PQAAgD/2Y5E+7A+JO00LqTy8x+E8egDnPev/5z4/eD48UKgsPYI3HD8RSxE/v1IIPmghcz7CrMw+2SUfP1ipBT6XxXM/gKt6PmwjBj1SQIs86eTDO68Qqz6YU0c/2VVePqL7xj7eqAw+BzXmPeMANz6filc9WpdKP9lpsDsc4307avnxOhqPzD3z2VI9FF1vPaAKJT6L8hQ/DZXKPsn/JTxRvyE9SYY8Pcfzgz0BRnU+lX6LPaAYOjyxHSQ+uZQ0PjjsND9XiSI7WAKWPuP2XT20xIw9WAKWPlgSmD1BzvA+cluePYVW5j132rQ+a7z8PYC9zD2RO64+wHnlO3a1mD4DvCg+yfuqPhKU6z4fMxs/E0BGPWPUnT5ZOws+moVFP7dWAjtDdEw+Sk2OO24InT4CbxA//WzLOwZe7T7Wz0g/tmaHPdlR2z0kBpg9B0lVPnBHuz3UxgA+HQW8PXa1mD6Zugk9wdf7PkL9TT69yp47saHWPSwl6T3uLnY9O78TPgX5TT5bj6E86Q+ePaT7ET5d5XY/GPKRPuRUPjzImIg9VbAVPpwSzzsiVYc8HgdZPigE1zuikzE//Zn3PkZ7QD4eTwA+vdtXOc8A/zwylVs/IYp2O0szSj+LynY/7AIVPwaosTsHE2k+ROgkPoxNYz9kvbk9th/hPJT0CT1McKo79IHOPWk5vT6T1DU93aiyPkE+YD79xAM/AAoFPP+WdT9MTak+/3tGO9cFkj6RmZQ8f4q1Omd6FTxgPR0/6BWgPPk2tTsjyms+L2qQPhUIjjzVXb0+sO4HPcJgeTyfuZc8cVESPgQr/T2tygA+g2HKPdUFDD5mkIQ+jcQnP5u17j7gfek8VtEvPr54ED5Buww+Va9rPeM3zj4GDF8/peM4PQUwSD5+mYM9Z2udPfiHpTxgPR0/df2OPcXqCDnU9hQ+uxlOPcHGOjgRjdE9fg1KPitFhj7nvzs+LXV5PuGkLj1r4OU96Sv2PZOevj35AVc78QhiPXkmrTyPTxU7yAU5PWrv7D4K+8E+GinVPRjcdD7xRcs6/LvKPVBRyT0toTk9RfdvPfgmtz4QlKQ6Y6jNPnROoj4i2BA8WMv5PpyiLD51JUs+hVlXPOa6hTuj124/xyc3P1xxOz4SNa89N8kYPfm26Ty3HBs+2ki4PiW8Aj6ZSGk9QlH7PEBZGD7kpDs/FnRJPvnaRz6OSJ4+moY6P00B3T4Mn2E7+V4OPcMbKj1Oqjg/6I06PsCA3j4nkGA/TPAOPqBawj16LCc/RqM3Pl33ZT+Szos+ikEJO8L4fj/0O4A+0aYOOiNHgz6ZFqw+XODHPmt5KTvGY3c/sw8yPlnlPD1sod49+VVgP9PjuT0G4+w+7+SmOuUAHD+5Rz8+4DayPn+XCzu6oDQ+axG/POPXdz6Bsgk+w3g0PwPyEzsx1vA8dxezPlJ/pzwum7Y9RLKOPP2vFj7jCes9Z8+OPnTDtD7PkBg9QduKOq0wkz6iRPM9QCq3Pohvgj5f1gQ/h4y5Owj4ljqwl6s87fbCPj2JKT92sUU/3PlNPLJyXD53BUQ/2vboPvclOz41ZbU5sSyIPAIgXj3/hqc7IGAlPiFrsz5V5sA+RGyUOvqLqz5Uwy4+ETznPqLEbT6yfEk78tr1PRPuCjpGSxU+3cOBOp4tuT4vBqo9cIeAPvNSCD82vK4+DymGPd6r4T6OTI09yYbdPhZb5T78m1k7HMzSO8Diwj4rRM0+XOeTPhUNIj8rSjU8NXMGPiVGQD4eFD09wBx4PEgVJD3zb4s+ywjyPr5UHztyU/M+xk9uPQAAgD/q6U4+quWNPRfNBD+MHpE+JVgZP80HFz5Q3+c6NZlSPXejBj0ogV4+uLeWPOlCjD2p9Aw/5LARPwioQT4cEUg+99eWPfjxtD6GSNw+QkVxPXBbnj3eQwo+zh/mPI9hLT8G2687/twTPvQbtD6cY+s+7qyRPHfJRz8EcCg+2JwaPliMPD2luPY+XdXpPXfYSTy/lHY9/HiIPoTqgj6gPEo6KnupPguIlzorvAk+qkY1PDCvwz6XdQE80cW9PqLZoz6M/yI/5tk0Pu8vxT5AMX8942mlPbLEPDquBRA9ZoigPu7lRz396uE7YytzPmQjHz5IW9E8bIK/PlaSiD5whww/MbEdPUUxBj77Lz8+11JOPP9c9T5f0Rk/YP52PLpaDT+fFp47o9NiPsB4/DwI5v4+PGFePj8LdT1CSTY+A5xZO+39hD3ugV09Zp5qPEqCoj5s1+8+SghWPrt3dzvzw4c8s38YPheDGT6HBVM8uM4YPn34DD9zWCg+Y9SdPt+ELD7z8tc9juNBPnds+zwGJnc+GinVPUj1XDskZOM+/cofPB0dqjw/Hvk8GtmRO5Jfnz1POhQ/aPIeOaM/sDztuF8/2ZwaPqtfpTwAAno9ocJWPlJKljo67509Qro0P+9DWj79HME+BcyuPcGQqT5q1iE8iHqnPun7Nz1e/jA+qolXPVuCuD0o1PU+YmnmPrMPMj7bwOE9Z5CEPrIlIz9NSuE8PyLmPImabj4/fug74YlFPTlNUT6HEhM+f30TPJ36gj7uZLc6CgqcPsoDQz8dC107xaw6PyAUZj7wezc72nkbPzU+0T052rs7oiGsPUaVzzrOwy0+PODNPIl1YT77V5Q9tMSMPSzgDD92nhc/nVwwPnNESjpW7ZM+YDRNP/+Jdz/ZD6Q9qfm3PU7oYD8k46k96hMAP/6tqDpXqSY/PxaOO5J4Fz3xW6k55ND5PjmaDT4sUco7px2kPisK9j5cnWk/SkoMO2/WkT55xA0+KQc+PulcMD1Lkok+JKjhPqjnuz1pGME+65MzP3PHkjvK5rE7jYd+P1ulQj4of4w+A9YKPdnzuT3bEAE/X2lWPaMNQTsC2uc8WA63Pvz18T0TRGM6NtkQO2a6Qz4PatI+fFMVPf7U1jxHCUI+zDxJPxUgwTrSmh8/sf6GPk4caD2Icks+p27hPUbjFjr/OXM+k7lAPpFbQT2fYdg+sMnPPAC/pz0iH3Q8bwvOPV3aNj74X8M+uGKqPhuXHT6IjOE8Ph2OPV0noz64MHY+w18GPh95sT3uwKg+agE2Ps5QkT7iTXk+v8eBPqamOD/4d8E+VtksPgaREjzMAoA+Ss5vPla74z1F3eM+RyoIPvhFIDpqjg0/Zg4VPUjVYTvN5F8/As+3PqifAz+TJ3c612+WO6r6iDyzLYE+dbZqPI6uMD7SG847sy2BPrezSz2KHBY6mgFOPAvKkz528hk+a/jAPHESZDquoSA/E7V6O+XXoTwqttc8kCAWPsJqRzx04Ws7etucPuhixD5bimk+YbWNPUAUNT/vbHY7pfREPeI66z7r9cw+FCK7PcyuojsIPG88mtmKPQeIAj0cZ1E80RSIO53GIDodPl08gGMWP0ulhD3AZnk8vxytPhiJzTtB2go/zAz9PSiLqz4biRE/VGHrPX7GPDp8obM7x0yVO6rs7DwVUbc+4tQIPyR2KT1/0K0+astXPhnMjj6pesM9dbOAPHokDz+bjGU81mmlPEVn6DyNG5A7lDMsPUYXdz/F+Fo7V5jlPrVblD6Cmoc+l8L1Olkucz0Uhjw8itRPPl+tAD+hPqs8XL7pPffCkz7GSNg+tR5EOw/fuzpJE2U/5YrRPOYRnz0Ws6087Qk5PtuWzz1NDIw+qzvLPbEliT4dsV09K0kcOkZ5dj5vg7U85bWIPpFhDz9D774+A3QMPSTgIz5pkD4+gq3CPaOrFj34uKQ+w9EUOwDnNT5kiBY+CzNLPyIWVzpm0aU80s8uPR7VHD9+O5k5O/mrPcWjez7uzBM+hvjFO0InwTz2XDQ+SLcnPwOWCD/liyI/ilSQPst2uT6uQOQ9ZEOxPm0Hbz9C0649Yi1/PHPvDD0muTw7OtPGPtbdJD6QCFs/5OAnPorj/Txam6U6X08CP64KOj6nPkc68rcTPjGxUj3U+YM+TuD6PUprHD/ciP8+LqBAPaIeYz9xdog8qvIZPfoX4juj4hQ+NPtDO4htCD53rY09USIgPZOYsT0vaIo5buIbPngd/j5nCOk8sHYDPWbJBT/6MxI6mXUUPlyiiD4r0Mg8+mI3Oy9JHDqfNwo+a6qOPnYFYDs7Wv09arRJOqyqqT29RfM9W8d4P8fFfT6v0JM+SSd7O/KdczvlE9E9A40FP0IbHDsGwwY/cdYjPLklAT8kMqc7vzhEPpTodD+c6g89GvV3PRNkTj4w1KA+J3S5PtH3aD0B+Pk+YegrP98ZPz18Wgg5m8XQOpm9aD0U3cc9af7vOlDwVTvx+Tw+kmWfPpaHCD0f0jw8dYU5PgDLfToaKaM9wbqsPTLKST6AL8M9494bPb5GFD3BS4I+thVgPn+VED8Z10s8ugUgPRUSCz/ureU+q1nzPXTqLD9XzMo+5s5XOkb2uDvrCPA7LA9pPvVIZT/+qsc7nlx1PaL1Gj5zijE9aN2CPZQWkz2JmpA7AACAP6x9jD53ocI7r6iLPRmzaD/WYwo+AACAP4HgHDxEAgg9ggiWPgAAgD+dlP86Zqj0PmUDUz4r/dw5GuZMPkRelDwcwls+7h/8Ppb9/T5C4YI9W4ppPrmVNz8oR64+Z/RwPtYxNDv45R0+NwWgPtvfVT8AAIA/Zim+PsHhwDu1TAw9cTcgPaclBj+dwuc9/j4tP0TD8D7Wkjg+HiiYPCzrNT99S1Y/xvs8PbJaKT4qMNE+/K/sPvqwhD4be3E974x9PZe5Lz8YiMk+VEjkPkIUAz9T5eo9+k0NPtqb0Ttetx4+GYAQPt8/mj3KsK09Z5CEPsCU1T1Jmx0/mm+WO1aWSTzmy8Q+GF2IPSs0hD7LwmI80xvrOYlUFj+72cY7SCEAPRhsED5p8pE+AjgRPkgzDj/Sz3U9QKlLPjhFOj1wh4A+1dWjPH7tnD4Vfik/5DndPvCWmj4xkms+bGYsP2x/9T60DzI+pAkJPy6MCz/gCVA+s0hPP+ddQzyDUyo9GNuOPTx3Fj/vhTA/bgYLPEzfuT30m6E9wfToPmIJOT5IChY/wI51P2L7vjwjCcM79CYvP4VW5j0xXN48A1KYPSk8Tz7r/F8+AaUyPXdbCj4F5dg9otz5Pn4Iiz2GDH89xp+8PUN9Ijx8suI+KoocPs3dXT2QAiM8/hjmPYY20z2Aun4/6VzXPr58RDuDxuA99MLHPXrfQj1LIz8+WL2vPhHeAz48MDc+STDRPpgNPj+WjDM+oIUMPmN8nj6d9As/BrKlPqxnfTke32M7XaCaO6zRuTuTqJY+jxNJPydIBz/JglE/FN+7Oj8KWD4pG3k/IM2FPqTCeTvmZi09AEWrPacjbT1e7Yc+BtWKPvFEwT1F2d89L0VRPSsVAD+986w+ve0DPw==",
          "dtype": "f4"
         },
         "y": {
          "bdata": "AAABAQABAAEAAQEAAQAAAQAAAAABAAABAAAAAQEAAAAAAAAAAQAAAQEAAAEAAAABAAAAAAAAAAAAAAEAAAAAAAABAAAAAAABAAAAAAABAQABAAEAAAABAQEBAAAAAAEAAAAAAAAAAQEBAAAAAQAAAQAAAQEAAQAAAQEAAQEAAAEAAAABAAAAAAAAAAABAQABAAAAAQAAAAAAAAEAAAABAAAAAAAAAQAAAQAAAAEAAQEAAAEAAAEAAAAAAQABAAEAAAABAAEAAAEBAQAAAAAAAAABAAEBAAEAAAEBAQAAAQEAAQAAAAABAQABAAAAAAABAAEBAAEAAAEAAAAAAAAAAQAAAQAAAAEAAAABAAEAAAABAAAAAAAAAQAAAAEAAAAAAAABAAAAAAEAAAAAAAEAAAAAAAAAAAAAAAAAAAEAAAABAQAAAAAAAQAAAAAAAQAAAAABAQAAAQEAAAAAAQAAAAEAAQABAAEAAAEAAAABAAABAQEBAQAAAAAAAQEAAAAAAAAAAAAAAQAAAAAAAAEAAAAAAQEAAAAAAAEAAQABAAAAAQEAAAAAAAAAAQABAAAAAAAAAQABAQAAAQEAAAEAAQAAAQEAAQABAQEAAAAAAQAAAAEAAAABAQAAAAAAAAAAAAEAAAAAAAEAAAABAAAAAAABAAEAAAAAAQABAAEAAAAAAQEAAAABAAEAAAAAAQEAAAAAAAAAAAAAAAEAAAAAAQAAAAABAAEAAAAAAAAAAAAAAQABAAEBAQEAAAEAAAEAAQAAAQABAQEAAAABAAEAAAABAAEBAAABAAAAAAAAAAAAAAABAAABAAABAAAAAAAAAAABAAAAAAEAAQABAAAAAQEBAQEAAQEAAQAAAQAAAAAAAAAAAAEAAAEAAAAAAAABAQAAAAEBAQEAAAEBAAABAAEAAAAAAAAAAQAAAQEAAQAAAQABAAEBAAAAAAABAAAAAQABAAABAQEBAAABAQABAAABAAEBAAAAAAEBAAAAAQABAAEAAAAAAAEAAAABAQEAAAEAAAAAAAABAQABAQAAAQABAAABAAEBAAABAQABAAAAAAEBAQAAAAAAAQAAAAAAAQABAAEAAQABAAAAAQAAAQAAAQEAAQAAAAAAAAABAAAAAAEAAQEAAAABAQAAAQAAAAABAQEAAAAAAAAAAQAAAAEAAQABAAAAAAABAQEBAAAAAQAAAQAAAAABAAEAAAAAAAEBAAAAAAABAQAAAAAAAAABAAABAQAAAAAAAQEBAAAAAAAAAAABAQAAAQAAAQAAAAAAAAEBAAAAAQABAAEAAAABAAAAAAAAAAABAAAAAAEBAAAAAAABAQEAAAEBAQAAAAAAAAEAAAAAAQABAAABAAAAAAAAAAEAAAABAAEAAAAAAQEAAAAAAAAAAAAAAAABAQEAAAAAAAEAAAEAAQABAQAAAQEAAAAAAAEAAAEAAAEBAAEBAQABAAEBAAAAAAAAAQAAAQAAAAABAAAAAAEAAAAAAAAAAQEAAAABAAEAAAAAAAABAAAAAAABAAABAAAAAQABAAABAAEAAAABAQABAAAAAAAAAAABAQEBAAAAAAABAAEAAAABAQAAAAABAAEAAQABAAABAAEAAAEAAQAAAAEBAAABAQEAAAAAAAEAAAAAAAEAAQAAAQEAAQAAAAAAAAAAAAAAAAAAAAAAAAEBAAABAQAAAAEAAAAAAAAAAAABAAABAQABAAEAAAAAAAAAAAEAAAEAAAEAAAEAAQAAAAEAAAAAAQAAAQABAAABAAAAAQAAAAAAAAEBAQEBAQAAAAAAAAAAAQEBAQEAAAAAAAABAAEAAAEAAQAAAAAAAQABAQEAAAAAAAAAAAEAAQEAAQABAAAAAQEBAAAAAAEAAAABAAAAAQAAAAABAAAAAQEAAAEAAAABAQABAAEAAQEAAQEBAQEBAAAAAAEBAAAAAQAAAQEAAQABAQEAAQABAAAAAQAAAAAAAQAAAAEBAQAAAAEBAAAAAQAAAAAAAAAAAAAAAQAAAAAAAAABAQAAAAEAAQAAAAAAAQEBAAAAAAEBAQAAAAAAAAAAAQEAAQAAAAAAAAEAAQAAAAEAAAEAAAAAAAEAAAAAAAEAAAAAAQAAAAEBAAABAQABAAAAAAEAAQABAAAAAAABAAEAAAAAAAAAAAEBAAABAQEAAAEBAAABAAAAAQAAAAAAAAEBAAEBAAAAAAEAAAEBAQAAAAAAAAEAAAAAAAEAAAEAAAEBAAABAAEBAAAAAAAAAAEAAQAAAAAAAAEAAQAAAQAAAAEAAQEAAAEAAQABAAAAAQEAAQAAAAEBAAAAAAEAAAABAAABAAAAAQAAAQAAAAABAQEBAAABAAAAAQABAQAAAAAAAQAAAAEAAAAAAAAAAAEAAAAAAAEAAAAAAAABAAAAAQABAQAAAAAAAQEAAQAAAAEAAQAAAAEAAQEAAAEBAAEAAAAAAAAAAAEBAQABAAEBAAAAAAAAAQEAAAEAAAEBAAAAAAEBAAAAAQAAAAAAAAEAAAAAAAAAAQAAAQABAAAAAQEAAAAAAAEBAQAAAAAAAQAAAQEAAAAAAAAAAAAAAAAAAAAAAAEBAQAAAAAAAAEBAAEBAQAAAAAAAAEAAAABAAABAAABAAEAAQEAAQEAAAAAAAAAAQAAAQAAAAAAAQABAQABAAAAAAAAAQAAAAAAAAAAAAAAAAAAAAAAAAAAAAAAAAAAAQEAAAEBAAAAAAAAAAAAAAEAAQAAAAAAAAABAAAAAQABAQEAAAAAAQAAAAAAAQABAAEBAAAAAAAAAAABAAAAAQABAAAAAQEBAAAAAQAAAAABAAEAAAAAAAAAAAEBAQAAAAABAQEBAQAAAAABAQAAAAAAAAAAAAAAAAEAAAAAAQAAAAAAAAABAAEAAAEAAQAAAQABAQEAAAABAAAAAAABAAEAAAEAAAAAAAAAAQAAAAEAAAEAAAABAAAAAAEAAAEBAQABAAEBAAAAAAAAAAAAAAAAAQEAAQEAAAABAAAAAAAAAAEBAAEAAAAAAAAAAAEAAAABAAEAAQAAAAABAAEAAAAAAQAAAAAAAAABAAABAAEAAAAAAAAAAAAAAQAAAAEBAAEAAAABAAAAAAEBAAAAAQAAAAAAAQABAQEAAAAAAAABAAABAAABAQABAQAAAQAAAAAAAAEBAQAAAAAAAAABAQAAAQABAAEAAAAAAAEAAAEAAAAAAAAAAQAAAAEAAAEAAAEAAQEAAAABAAAAAAEBAAABAAABAQAAAAAAAAAAAAABAAAAAAEBAAAAAAABAQAAAQABAAABAQABAAAAAQAAAQABAAAAAAAAAAAAAQEBAQEAAQAAAAAAAQAAAAAAAQABAQEAAAEBAAAAAQAAAQAAAQEBAAEAAAABAQEAAAEAAAAAAQAAAQAAAAEAAAEAAAEAAAEBAAAAAAEBAAAAAAAAAAABAAABAQABAAEAAAAAAAEAAAABAAAAAAAAAQAAAQEAAAEAAQAAAAAAAAEAAAEAAQEBAQEAAAAAAAEAAAAAAAABAAAAAQAAAAAAAQEAAQABAQAAAAABAAAAAAEAAAAAAQAAAAAAAAAAAQAAAAAAAQABAAEBAQAAAAEBAAAAAQAAAQAAAAAAAAABAAEAAQEAAAAAAAAAAQABAAEBAAAAAAAAAAABAAAAAAABAAABAQEAAQEAAAAAAAAAAAABAAAAAAEAAAAAAQEAAAEAAAAAAAEAAQEAAAAAAAAAAAAAAQABAQAAAAAAAQABAQAAAAAAAAAAAAABAAABAAAAAAEAAAEAAAEAAAABAAAAAAEAAQAAAAAAAAEBAAABAAEAAQEBAAEBAQAAAAEAAQEAAAAAAAABAAABAAABAAAAAQAAAAEAAAEAAQABAAAAAAAAAQEAAAEAAAABAAAAAAAAAAAAAAABAAAAAAAAAAABAQABAAEAAAAAAAABAAAAAAAAAAAAAAAAAQAAAQEAAAEAAQEBAAABAQAAAAEBAAABAAAAAAAAAAAAAQEAAQABAQAAAQAAAQEAAAABAQEBAQAAAAAAAQABAQAAAQEBAAEAAAAAAQAAAAABAAEAAAEBAQABAQABAQAAAQAAAQAAAQAAAAAAAAAAAAAAAAAAAAEBAAAAAQAAAAEAAQEAAAEBAAAAAQAAAQAAAAEBAQAAAAAAAAABAAABAQAAAAAAAAEBAAEAAAABAAAAAAAAAQAAAQEBAQAAAQAAAAEBAAAAAAAAAAAAAAABAAAAAAEAAAAAAAABAAEAAQABAQEAAAABAAEAAQABAQABAAAAAAABAAAAAQAAAQABAQAAAQEBAAEBAQABAAEAAAAAAAABAAEBAQABAAABAAEAAQAAAQAAAAEBAQAAAAABAQABAQEBAQAAAAAAAAAAAAEAAAEAAAAAAAEAAQAAAAEBAQEAAAEBAAEAAAAAAAEAAAAAAQEAAAEAAQEAAAABAQAAAAAAAAAAAAABAAAAAAAAAAAAAAAAAQEBAAABAQABAQABAQEAAQAAAAEAAQAAAAAAAQAAAAAAAAABAAEBAAEAAAAAAQAAAAAAAQEAAAABAAAAAQAAAQABAAABAAEAAQABAAABAAEAAQABAAAAAAAAAAAAAQABAAAAAQEAAAAAAAAAAAEAAQAAAAAAAQAAAAAAAQEAAAAAAQAAAAEAAAEAAAABAQEAAAEAAQAAAAEAAAAAAAABAQAAAAABAAEBAAAAAAAAAAEBAAAAAQABAAEAAAEAAQAAAAEAAAAAAAAAAAABAQAAAQEBAAAAAQEAAAAAAAAAAQAAAQEAAAEBAQEBAQABAAEAAAEAAAAAAAABAQAAAQAAAAABAAEBAAEBAAAAAQAAAQEAAAEBAAAAAQABAAAAAAAAAQABAAAAAAABAAABAAAAAAEBAQAAAAABAAAAAAEAAQEAAAAAAAAAAAAAAQABAQABAAAAAQAAAAAAAAAAAAAAAAAAAAAAAAEAAAEBAQAAAQEAAAAAAAEBAAEAAAAAAAEBAAEBAAEAAAAAAAEAAAEAAAAAAAABAQEAAAABAAEAAAEAAQEAAAEAAAAAAAAAAAEBAQEAAQEAAAEAAQABAQAAAQABAAABAQAAAAABAAABAQAAAAAAAAABAAAAAAEBAQAAAAAAAAEAAAAAAQAAAAAAAQEBAQEBAAAAAAAAAAAAAAAAAAAAAAEAAAAAAQAAAAAAAAEAAAAAAAEAAAAAAAEAAQAAAQABAAEBAQAAAAEAAQEAAQABAAAAAQEBAAAAAQABAAAAAQAAAAAAAAAAAAAAAAAAAAEAAAABAQAAAAEAAQAAAAABAAAAAAAAAAAAAQAAAAAAAAAAAQABAAAAAAEAAAAAAQEAAQEAAQEAAQEBAAAAAAAAAAEAAAABAQABAAAAAQEAAAAAAAEAAAABAAABAAABAQEAAQAAAAAAAAAAAAAAAQEAAAABAAAAAAEAAQAAAQEAAQAAAAAAAAEAAQABAAEAAAAAAAEAAQABAQAAAAABAQAAAAABAAEAAQABAQABAAAAAAAAAAABAAEAAAAAAQEAAAABAAABAQAAAAAAAQAAAAAAAAEAAAEAAAAAAAAAAAAAAAAAAAABAAAAAAABAAABAAAAAAAAAQEAAQAAAQABAAEAAQEBAAAAAAEAAAEAAAAAAQABAAAAAAABAAABAAAAAAAAAAAAAQABAQAAAAEAAAEAAAAAAAAAAAABAAEAAQAAAAEBAAAAAQEAAAAAAAABAQAAAAABAAEAAAAAAAEBAAAAAQEAAAAAAAABAQABAAAAAAEBAQAAAAABAQABAAAAAAABAAEAAQABAAAAAAAAAAAAAAAAAAABAAEAAAABAAABAAAAAQEAAQAAAAABAAEAAAAAAAEBAQAAAAEAAAAAAQAAAAAAAAEBAQAAAQAAAQABAAAAAAAAAAEAAAAAAQEAAQABAAAAAQEAAAAAAAAAAQAAAAAAAAAAAAAAAAAAAQAAAAABAQAAAAABAAEAAAAAAQAAAAAAAAEAAAABAAAAAAEAAAAAAAAAAAAAAAAAAAAAAAAAAAAAAQABAAABAQAAAAAAAQABAAABAQABAQAAAAAAAQABAAAAAAAAAAEBAAABAAEBAAAAAAABAAEAAQAAAAAAAAABAAEBAQEAAAABAAABAAAAAAEBAAAAAAABAAEAAQABAAAAAAEBAQAAAAABAAAAAAAAAAEAAAABAAEAAAABAAAAAAEBAAEAAAABAAABAAAAAAAAAQEAAAEAAAAAAAAAAQEAAAEAAQAAAQABAAAAAQAAAAEAAAABAQEBAAAAAQABAQAAAAAAAAEAAAABAAAAAAABAAEAAQEAAQAAAQAAAQAAAQAAAAAAAAEBAAEBAAAAAQAAAQABAAAAAAEAAAAAAAAAAQAAAAAAAAEAAAAAAQAAAAAAAAAAAAEBAAAAAAEAAQAAAAAAAAEAAAABAAAAAAABAAAAAQAAAAAAAAEBAAABAAAAAAAAAAAAAAAAAAAAAQABAAABAQEAAQAAAAAAAAEAAAAAAAAAAAEBAQAAAAAAAQAAAAEAAQAAAQEBAAAAAAEAAAABAAEAAAABAAABAAABAAEAAQAAAAEAAAABAQAAAAAAAAABAAAAAAAAAAAAAQAAAQEBAQEAAAAAAQEAAAAAAQAAAQAAAAABAAEAAAABAQAAAQAAAQABAQABAAAAAQABAQAAAQEAAAAAAQAAAAEAAAAAAAAAAQEBAQEBAQABAAEAAAABAAEAAAEAAAAAAAAAAAAAAAAAAAABAAAAAAABAAABAAEAAAAAAAABAAAAAAABAQEAAAAAAQAAAAEAAAAAAAAAAQAAAAAAAAAAAQABAAAAAAEAAAAAAAEBAQAAAAAAAAEAAAABAQAAAQEAAAEAAAABAAEBAAAAAAEAAAAAAQABAAAAAQAAAAAAAAAAAQABAAEAAAAAAAABAQEAAAEBAQABAAABAAAAAQAAAAEAAAAAAQEBAAEAAQABAAAAAAAAAAABAQAAAAABAAEAAQEAAAAAAAEAAAAAAAABAAABAQABAAABAQAAAAEBAAEAAQAAAQAAAAAAAAAAAAABAAABAAAAAAAAAQEAAQEAAQAAAQABAAEBAQAAAQABAAEAAQAAAAAAAAAAAAEBAAAAAAAAAAAAAQAAAAAAAQEAAAAAAAAAAAABAAABAQAAAQEBAAAAAQAAAAAAAAAAAAABAQABAAEAAAAAAAABAAEBAAAAAQEBAQAAAAEBAAEBAAEAAAAAAAAAAAABAQEAAAABAAEBAAABAAAAAAAAAAABAAAAAQEAAAEAAAAAAAABAAEAAAABAAABAAEBAQABAAAAAAEAAAABAAAAAAEBAAAAAAEBAAEAAAAAAQAAAAABAAAAAAAAAAEAAAEAAQABAAEAAAAAAQAAAAAAAQABAAAAAAAAAQEAAAEAAQAAAAAAAQABAAEAAQEAAQAAAAAAAAAAAAABAQEAAAEAAAABAAEBAQEAAAAAAAAAAAAAAAAAAQAAAQEAAAEBAAEAAQEAAQAAAAABAAAAAAABAQABAAEAAQAAAAAAAQAAAAAAAAAAAAAAAQABAAAAAAAAAAABAAABAAEBAQAAAAABAQABAQABAAAAAAEAAQAAAAABAAAAAAAAAAEAAAAAAAAAAQABAQAAAAAAAAAAAAEBAQABAAAAAAEAAAEAAQABAAABAAABAAAAAQAAAAAAAAEAAAEBAAEAAAABAQAAAAAAAAEAAAAAAQEAAAAAAAAAAQAAAAAAAAEBAAEBAAAAAAEAAAABAQEBAAEBAAAAAAEAAAEAAAAAAAAAAAAAAQABAQAAAAEAAQEAAAEAAQEBAAEBAAABAAEAAQAAAAEAAQAAAQABAAABAAABAAAAAAEAAAABAAEAAQAAAQEAAQABAQEBAQAAAQEAAAAAAAAAAAEAAAEAAAAAAQEAAQEAAAAAAAAAAQABAAEBAQEAAAAAAAAAAAEAAQABAAEBAQAAAAAAAQAAAAAAAQAAAAEAAQEAAQEBAQEBAAAAAQAAAAAAAQAAAAAAAAAAAQAAAAAAAQEAAAABAQAAAAAAAAAAAAEAAAEBAAEBAAEAAAAAAAABAAEAAQAAAAEAAAEAAQAAAAABAAAAAQAAAAAAAAAAAAEAAAAAAQEBAAEAAQAAAAEBAAEAAAAAAAAAAQEAAQEAAAAAAAEAAQAAAAABAAAAAAABAQAAAAEAAAEAAQABAAEAAQAAAAAAAAABAAEBAAABAAEAAAABAAAAAAABAAEBAAEBAQABAQAAAAAAAAAAAQEBAAAAAQEAAAAAAAAAAAEAAAAAAQAAAAABAAABAQABAAAAAAAAAQAAAAABAAAAAAAAAAAAAQEBAAAAAQAAAQABAAAAAQAAAAAAAAEAAQABAAAAAAEAAAABAAAAAQEAAQAAAAAAAQAAAQAAAQABAQAAAAEBAAABAQABAAAAAAEAAAABAAEAAQAAAAABAAABAAAAAAAAAAAAAAEBAAEBAQAAAQAAAAAAAAAAAAAAAAAAAQAAAAAAAAAAAAAAAAEAAQEAAAAAAQEAAAABAAABAAABAQAAAQAAAQEAAAABAAAAAAABAAAAAAAAAAAAAAAAAQAAAAEAAAAAAAEAAQAAAQAAAQAAAQABAAAAAAAAAQAAAAEBAQEAAAEAAAEBAQAAAAAAAAEBAAABAQAAAAAAAAEBAAEAAAAAAAAAAQAAAAABAAAAAQAAAQAAAAABAAAAAAAAAQAAAAAAAQABAAAAAAAAAAEBAQAAAQABAAEAAQAAAAEAAAABAQAAAQABAQEAAAEBAAEAAAEAAQABAQAAAQAAAAEBAQABAAEBAAEAAQEBAAAAAAAAAAABAQEBAQABAAAAAAABAQABAQEBAAEBAAEAAAABAAABAAAAAQAAAAABAAEAAAABAAABAAAAAQAAAQAAAAAAAAAAAQEAAAABAAABAQAAAAAAAAEBAQAAAAEBAAEAAAABAAAAAAAAAAAAAAABAAABAAEAAQEBAQABAAEBAAABAAAAAAAAAAEAAAEAAQABAAABAAABAAAAAAAAAAEBAAABAAAAAQAAAAAAAAABAAAAAAABAAAAAQAAAAABAQABAQAAAAABAQEAAQAAAAABAAEAAQEBAAAAAAAAAQEAAAEAAAABAAAAAAAAAAAAAAAAAQABAAABAQAAAAEAAAEAAQAAAAABAQAAAAAAAAAAAAAAAAABAAAAAAEAAAEAAQAAAAABAAAAAAAAAAAAAAAAAAAAAAABAAAAAAAAAQAAAAEAAAAAAAAAAAABAAAAAAEBAAAAAQAAAAABAQAAAAEBAQEAAAEAAAEBAAEAAQEAAAAAAAEAAAEAAAEAAAAAAQAAAQAAAQAAAQAAAAABAAAAAAAAAQAAAAAAAAAAAQAAAQAAAAABAAABAAABAAEBAAEBAAEAAAABAAABAAAAAAAAAAAAAAABAAAAAQEAAAABAQAAAQEAAQABAAEAAAAAAQAAAQABAAEAAAEBAQABAAEAAAAAAAEBAAEBAAAAAAEAAAABAAAAAAAAAAAAAQEAAAAAAAAAAAAAAAEAAAEBAQAAAAAAAAAAAAAAAQAAAAAAAQAAAAAAAAEAAQAAAQAAAAEAAAABAQAAAAABAAAAAAAAAAAAAAABAAEAAAEAAAABAAABAAABAAAAAQAAAQEBAQAAAAAAAQABAQAAAAEAAQEBAAAAAQEAAAAAAAEAAQAAAAAAAAAAAQAAAAAAAQEAAQAAAAAAAQABAAAAAAEAAAEAAQAAAQABAQABAAABAAABAAAAAAEAAAAAAAABAAAAAAAAAAABAAAAAAAAAQEAAAEAAAAAAAABAAAAAAEAAAAAAAAAAAAAAAAAAAEAAAABAAAAAQEAAAEAAAAAAQEAAQABAQABAAEAAAAAAAABAAAAAAAAAQABAQAAAAAAAAAAAQEBAAAAAQABAAABAQABAAAAAAAAAQABAAEAAQABAAAAAAAAAAEAAAABAAAAAQABAQEAAAAAAQAAAAEBAAEAAQAAAAAAAAEAAAABAAAAAAAAAAEAAAABAAAAAAAAAAEAAQABAAEAAAAAAQAAAQAAAAABAAEAAAEBAAAAAAAAAAABAAEAAAEAAAAAAQEAAQAAAQAAAAAAAQAAAAEAAAEBAAAAAAEBAAEAAQEAAAEAAQAAAAAAAAEAAAABAAAAAQAAAAEAAAABAQAAAAAAAAAAAAAAAAABAAEAAQAAAAAAAAAAAQABAAAAAQAAAQEBAAEAAAAAAQABAAAAAAEAAQAAAAAAAQAAAAEAAAAAAQEAAAAAAQAAAQABAQABAAAAAAAAAQEAAQAAAAABAAAAAAAAAAAAAAAAAQABAAAAAAEAAAEAAQAAAAAAAAAAAAAAAAEAAAAAAQABAAABAQAAAAAAAQEAAAEAAAEAAAEAAQABAAAAAAEAAQABAQEBAAABAAABAAAAAAEAAAAAAAEAAAABAQEAAAAAAQABAQABAAAAAAABAAAAAQAAAQAAAAABAAEAAQEBAAABAQEAAAAAAQAAAQEAAAAAAAAAAAABAQAAAAABAQAAAAAAAAAAAAAAAAAAAQABAAEAAAAAAQEAAAEBAQAAAAEAAAEBAAABAAAAAAAAAQAAAAAAAAABAQAAAAAAAAAAAAABAQABAAAAAQABAAABAAAAAAEAAQAAAQEAAQAAAQEBAAEAAAABAAABAAABAAAAAQEAAQAAAQAAAAAAAQABAAAAAAEAAAABAQABAAAAAAABAAEAAAABAQAAAQEAAAAAAAABAAEAAQABAQAAAQAAAAAAAAAAAQAAAAEBAQABAAEAAQAAAAABAQAAAAABAAAAAQAAAAEAAAEBAAAAAAAAAAEAAAAAAQEAAAEBAQABAAEAAQAAAQAAAAAAAAAAAQEAAAAAAAAAAAABAAABAQABAAEAAAABAAEAAQAAAAABAAABAAEBAQEAAAAAAAABAQABAAEBAAAAAAEAAAAAAQEAAAAAAQAAAAAAAAEAAAAAAAAAAQEAAQABAAABAAABAAAAAAABAQABAAAAAQEAAAEBAQABAAABAQAAAQAAAQABAQEAAQAAAAEBAAEAAQAAAAAAAAAAAQABAQAAAAAAAAABAQAAAQEBAAABAAEBAAABAAAAAQAAAAEAAAAAAQAAAQEAAAAAAQAAAAEBAAEAAAAAAAAAAQAAAAAAAAABAAAAAAEBAQABAQABAAEBAQABAAAAAAAAAAABAAEBAAAAAQAAAQEAAAAAAAAAAAEBAQEBAAABAQAAAAAAAQABAAAAAAABAAAAAAAAAAEAAAEAAAEAAAAAAQAAAAAAAAEAAAEAAQABAQEAAAAAAQEBAAABAQEAAAAAAAEAAQABAQEBAQABAQABAAAAAAEBAAAAAAAAAAABAQEAAAAAAAABAAEAAAEAAAEAAQAAAQAAAAEAAAAAAAAAAQAAAQAAAQAAAQAAAQAAAAEAAAABAAEAAAAAAAAAAAEBAAEAAQAAAAABAQAAAQEAAAABAQAAAQABAQABAAEBAQAAAAEAAAAAAAEBAAABAAAAAAABAQAAAQAAAQEAAAAAAAABAAEAAQAAAAEAAAAAAQABAQEAAAABAAAAAQEAAQAAAQAAAAAAAAEAAQABAAABAQAAAQABAQABAAAAAQAAAQEBAAABAAAAAQEAAAAAAAAAAQAAAAABAAEBAAAAAAEAAAEAAAABAQEBAAEAAQAAAAAAAAEAAQEBAAAAAAAAAAAAAAEBAAAAAAAAAAEAAAEAAAEAAQAAAAABAQEBAAEAAAAAAQAAAQAAAAEAAQABAQEAAQAAAQABAAABAAAAAAABAAEAAAAAAAEBAQEAAAEBAQEAAQABAQABAAAAAQEAAAAAAAEBAAEAAQAAAQEBAAEBAAEAAAEBAAABAQAAAAAAAAABAAABAAEAAAEAAAAAAAAAAAABAAAAAAABAAAAAAEBAQABAAEAAAAAAAABAQAAAAABAQAAAAEAAQABAQAAAQEBAAAAAAAAAAABAQAAAAEBAAEBAAAAAAAAAAEAAAEAAAEBAAAAAQEBAAABAAAAAQAAAQAAAAEBAQEBAAAAAAEAAAEAAAAAAAEAAAABAQABAAABAQAAAAAAAAAAAQABAAABAAEAAQAAAAAAAAAAAQAAAQABAQAAAAABAAAAAAAAAAABAAAAAAAAAQEAAAAAAAAAAQAAAAAAAAEAAAAAAQAAAQEAAAEAAQEAAQAAAQAAAQABAAABAAAAAAEBAAAAAAAAAAEAAAABAQEBAQAAAAEBAAEBAAAAAQAAAAABAAAAAAAAAAABAAABAAEAAAAAAAABAAEAAQABAAEAAQABAQAAAQAAAAAAAAEBAQAAAAAAAAEAAQAAAQAAAAEAAQABAQAAAQAAAAABAQAAAAABAAEBAQABAAEAAAAAAAEAAAAAAAEBAAAAAAABAAAAAAAAAAAAAAABAAAAAQEAAAAAAAABAAAAAAABAAAAAAAAAQAAAAAAAAEAAAAAAAAAAAAAAAAAAAEAAQAAAQEAAAABAQABAAABAQAAAAABAAABAQAAAAABAQABAAABAQEBAAEAAAABAAABAAAAAQABAAEBAQABAAABAQAAAAAAAAAAAAEAAAEAAAABAAAAAAEBAAABAQEAAAAAAAEBAAEAAQAAAAAAAAABAQAAAAEAAQEAAAEAAAEAAAEAAAAAAAABAAEAAAAAAQEAAAAAAAEBAAAAAAEBAAAAAAEAAAAAAAEAAAAAAAAAAAAAAAAAAAAAAAAAAQEAAAAAAQAAAAEAAAABAAAAAAEBAAEAAAABAQAAAAAAAAEAAQAAAAEAAAEAAAAAAAAAAQAAAAAAAAABAAABAQAAAQABAQAAAAEAAAAAAAABAAABAAEAAAEAAAABAAEAAAEAAQAAAQAAAAAAAAEAAAEAAAAAAQEAAAEBAQABAAAAAQAAAAABAAAAAAAAAQABAQAAAQAAAAAAAAAAAAAAAAABAAABAQAAAAAAAAABAAAAAAEAAAABAQAAAAEAAAABAAAAAQEBAQABAAABAQABAAABAQAAAAAAAAEAAAAAAAEAAAABAAAAAAAAAAEAAAEAAAEAAAAAAAAAAAAAAQAAAQABAAEAAAAAAAABAQEBAQAAAAEAAAAAAAEAAAEAAAAAAAEAAQEBAAABAAAAAAEAAAAAAAAAAAEBAAABAAAAAAABAQAAAAEAAAEAAAABAQABAAABAQEAAAAAAQABAQAAAQAAAAEBAAEAAQEAAAAAAAAAAAAAAAEAAAAAAQEAAAAAAAAAAAABAQAAAAAAAQABAAAAAQEAAAEAAQABAQAAAAABAAAAAQAAAQAAAAEAAAAAAQEAAAEAAAEBAAAAAQEAAAAAAAAAAQAAAAEAAQAAAAEAAQAAAAAAAQEAAAEBAAAAAQEBAQAAAQEAAQABAAEBAAABAQABAAEAAQAAAQAAAAAAAQABAAAAAAAAAAEAAAAAAQAAAAAAAAABAAEBAQABAQAAAQAAAAEBAAABAQABAQAAAAAAAQAAAAAAAAABAAABAAEAAAABAAABAAAAAAAAAQEAAAABAQAAAAABAQEBAAABAAAAAAAAAAAAAAAAAQ==",
          "dtype": "i1"
         }
        }
       ],
       "layout": {
        "autosize": true,
        "boxmode": "group",
        "height": 360,
        "hovermode": "closest",
        "paper_bgcolor": "rgba(0,0,0,0)",
        "plot_bgcolor": "rgba(0,0,0,0)",
        "template": {
         "data": {
          "bar": [
           {
            "error_x": {
             "color": "#2a3f5f"
            },
            "error_y": {
             "color": "#2a3f5f"
            },
            "marker": {
             "line": {
              "color": "#E5ECF6",
              "width": 0.5
             },
             "pattern": {
              "fillmode": "overlay",
              "size": 10,
              "solidity": 0.2
             }
            },
            "type": "bar"
           }
          ],
          "barpolar": [
           {
            "marker": {
             "line": {
              "color": "#E5ECF6",
              "width": 0.5
             },
             "pattern": {
              "fillmode": "overlay",
              "size": 10,
              "solidity": 0.2
             }
            },
            "type": "barpolar"
           }
          ],
          "carpet": [
           {
            "aaxis": {
             "endlinecolor": "#2a3f5f",
             "gridcolor": "white",
             "linecolor": "white",
             "minorgridcolor": "white",
             "startlinecolor": "#2a3f5f"
            },
            "baxis": {
             "endlinecolor": "#2a3f5f",
             "gridcolor": "white",
             "linecolor": "white",
             "minorgridcolor": "white",
             "startlinecolor": "#2a3f5f"
            },
            "type": "carpet"
           }
          ],
          "choropleth": [
           {
            "colorbar": {
             "outlinewidth": 0,
             "ticks": ""
            },
            "type": "choropleth"
           }
          ],
          "contour": [
           {
            "colorbar": {
             "outlinewidth": 0,
             "ticks": ""
            },
            "colorscale": [
             [
              0,
              "#0d0887"
             ],
             [
              0.1111111111111111,
              "#46039f"
             ],
             [
              0.2222222222222222,
              "#7201a8"
             ],
             [
              0.3333333333333333,
              "#9c179e"
             ],
             [
              0.4444444444444444,
              "#bd3786"
             ],
             [
              0.5555555555555556,
              "#d8576b"
             ],
             [
              0.6666666666666666,
              "#ed7953"
             ],
             [
              0.7777777777777778,
              "#fb9f3a"
             ],
             [
              0.8888888888888888,
              "#fdca26"
             ],
             [
              1,
              "#f0f921"
             ]
            ],
            "type": "contour"
           }
          ],
          "contourcarpet": [
           {
            "colorbar": {
             "outlinewidth": 0,
             "ticks": ""
            },
            "type": "contourcarpet"
           }
          ],
          "heatmap": [
           {
            "colorbar": {
             "outlinewidth": 0,
             "ticks": ""
            },
            "colorscale": [
             [
              0,
              "#0d0887"
             ],
             [
              0.1111111111111111,
              "#46039f"
             ],
             [
              0.2222222222222222,
              "#7201a8"
             ],
             [
              0.3333333333333333,
              "#9c179e"
             ],
             [
              0.4444444444444444,
              "#bd3786"
             ],
             [
              0.5555555555555556,
              "#d8576b"
             ],
             [
              0.6666666666666666,
              "#ed7953"
             ],
             [
              0.7777777777777778,
              "#fb9f3a"
             ],
             [
              0.8888888888888888,
              "#fdca26"
             ],
             [
              1,
              "#f0f921"
             ]
            ],
            "type": "heatmap"
           }
          ],
          "histogram": [
           {
            "marker": {
             "pattern": {
              "fillmode": "overlay",
              "size": 10,
              "solidity": 0.2
             }
            },
            "type": "histogram"
           }
          ],
          "histogram2d": [
           {
            "colorbar": {
             "outlinewidth": 0,
             "ticks": ""
            },
            "colorscale": [
             [
              0,
              "#0d0887"
             ],
             [
              0.1111111111111111,
              "#46039f"
             ],
             [
              0.2222222222222222,
              "#7201a8"
             ],
             [
              0.3333333333333333,
              "#9c179e"
             ],
             [
              0.4444444444444444,
              "#bd3786"
             ],
             [
              0.5555555555555556,
              "#d8576b"
             ],
             [
              0.6666666666666666,
              "#ed7953"
             ],
             [
              0.7777777777777778,
              "#fb9f3a"
             ],
             [
              0.8888888888888888,
              "#fdca26"
             ],
             [
              1,
              "#f0f921"
             ]
            ],
            "type": "histogram2d"
           }
          ],
          "histogram2dcontour": [
           {
            "colorbar": {
             "outlinewidth": 0,
             "ticks": ""
            },
            "colorscale": [
             [
              0,
              "#0d0887"
             ],
             [
              0.1111111111111111,
              "#46039f"
             ],
             [
              0.2222222222222222,
              "#7201a8"
             ],
             [
              0.3333333333333333,
              "#9c179e"
             ],
             [
              0.4444444444444444,
              "#bd3786"
             ],
             [
              0.5555555555555556,
              "#d8576b"
             ],
             [
              0.6666666666666666,
              "#ed7953"
             ],
             [
              0.7777777777777778,
              "#fb9f3a"
             ],
             [
              0.8888888888888888,
              "#fdca26"
             ],
             [
              1,
              "#f0f921"
             ]
            ],
            "type": "histogram2dcontour"
           }
          ],
          "mesh3d": [
           {
            "colorbar": {
             "outlinewidth": 0,
             "ticks": ""
            },
            "type": "mesh3d"
           }
          ],
          "parcoords": [
           {
            "line": {
             "colorbar": {
              "outlinewidth": 0,
              "ticks": ""
             }
            },
            "type": "parcoords"
           }
          ],
          "pie": [
           {
            "automargin": true,
            "type": "pie"
           }
          ],
          "scatter": [
           {
            "fillpattern": {
             "fillmode": "overlay",
             "size": 10,
             "solidity": 0.2
            },
            "type": "scatter"
           }
          ],
          "scatter3d": [
           {
            "line": {
             "colorbar": {
              "outlinewidth": 0,
              "ticks": ""
             }
            },
            "marker": {
             "colorbar": {
              "outlinewidth": 0,
              "ticks": ""
             }
            },
            "type": "scatter3d"
           }
          ],
          "scattercarpet": [
           {
            "marker": {
             "colorbar": {
              "outlinewidth": 0,
              "ticks": ""
             }
            },
            "type": "scattercarpet"
           }
          ],
          "scattergeo": [
           {
            "marker": {
             "colorbar": {
              "outlinewidth": 0,
              "ticks": ""
             }
            },
            "type": "scattergeo"
           }
          ],
          "scattergl": [
           {
            "marker": {
             "colorbar": {
              "outlinewidth": 0,
              "ticks": ""
             }
            },
            "type": "scattergl"
           }
          ],
          "scattermap": [
           {
            "marker": {
             "colorbar": {
              "outlinewidth": 0,
              "ticks": ""
             }
            },
            "type": "scattermap"
           }
          ],
          "scattermapbox": [
           {
            "marker": {
             "colorbar": {
              "outlinewidth": 0,
              "ticks": ""
             }
            },
            "type": "scattermapbox"
           }
          ],
          "scatterpolar": [
           {
            "marker": {
             "colorbar": {
              "outlinewidth": 0,
              "ticks": ""
             }
            },
            "type": "scatterpolar"
           }
          ],
          "scatterpolargl": [
           {
            "marker": {
             "colorbar": {
              "outlinewidth": 0,
              "ticks": ""
             }
            },
            "type": "scatterpolargl"
           }
          ],
          "scatterternary": [
           {
            "marker": {
             "colorbar": {
              "outlinewidth": 0,
              "ticks": ""
             }
            },
            "type": "scatterternary"
           }
          ],
          "surface": [
           {
            "colorbar": {
             "outlinewidth": 0,
             "ticks": ""
            },
            "colorscale": [
             [
              0,
              "#0d0887"
             ],
             [
              0.1111111111111111,
              "#46039f"
             ],
             [
              0.2222222222222222,
              "#7201a8"
             ],
             [
              0.3333333333333333,
              "#9c179e"
             ],
             [
              0.4444444444444444,
              "#bd3786"
             ],
             [
              0.5555555555555556,
              "#d8576b"
             ],
             [
              0.6666666666666666,
              "#ed7953"
             ],
             [
              0.7777777777777778,
              "#fb9f3a"
             ],
             [
              0.8888888888888888,
              "#fdca26"
             ],
             [
              1,
              "#f0f921"
             ]
            ],
            "type": "surface"
           }
          ],
          "table": [
           {
            "cells": {
             "fill": {
              "color": "#EBF0F8"
             },
             "line": {
              "color": "white"
             }
            },
            "header": {
             "fill": {
              "color": "#C8D4E3"
             },
             "line": {
              "color": "white"
             }
            },
            "type": "table"
           }
          ]
         },
         "layout": {
          "annotationdefaults": {
           "arrowcolor": "#2a3f5f",
           "arrowhead": 0,
           "arrowwidth": 1
          },
          "autotypenumbers": "strict",
          "coloraxis": {
           "colorbar": {
            "outlinewidth": 0,
            "ticks": ""
           }
          },
          "colorscale": {
           "diverging": [
            [
             0,
             "#8e0152"
            ],
            [
             0.1,
             "#c51b7d"
            ],
            [
             0.2,
             "#de77ae"
            ],
            [
             0.3,
             "#f1b6da"
            ],
            [
             0.4,
             "#fde0ef"
            ],
            [
             0.5,
             "#f7f7f7"
            ],
            [
             0.6,
             "#e6f5d0"
            ],
            [
             0.7,
             "#b8e186"
            ],
            [
             0.8,
             "#7fbc41"
            ],
            [
             0.9,
             "#4d9221"
            ],
            [
             1,
             "#276419"
            ]
           ],
           "sequential": [
            [
             0,
             "#0d0887"
            ],
            [
             0.1111111111111111,
             "#46039f"
            ],
            [
             0.2222222222222222,
             "#7201a8"
            ],
            [
             0.3333333333333333,
             "#9c179e"
            ],
            [
             0.4444444444444444,
             "#bd3786"
            ],
            [
             0.5555555555555556,
             "#d8576b"
            ],
            [
             0.6666666666666666,
             "#ed7953"
            ],
            [
             0.7777777777777778,
             "#fb9f3a"
            ],
            [
             0.8888888888888888,
             "#fdca26"
            ],
            [
             1,
             "#f0f921"
            ]
           ],
           "sequentialminus": [
            [
             0,
             "#0d0887"
            ],
            [
             0.1111111111111111,
             "#46039f"
            ],
            [
             0.2222222222222222,
             "#7201a8"
            ],
            [
             0.3333333333333333,
             "#9c179e"
            ],
            [
             0.4444444444444444,
             "#bd3786"
            ],
            [
             0.5555555555555556,
             "#d8576b"
            ],
            [
             0.6666666666666666,
             "#ed7953"
            ],
            [
             0.7777777777777778,
             "#fb9f3a"
            ],
            [
             0.8888888888888888,
             "#fdca26"
            ],
            [
             1,
             "#f0f921"
            ]
           ]
          },
          "colorway": [
           "#636efa",
           "#EF553B",
           "#00cc96",
           "#ab63fa",
           "#FFA15A",
           "#19d3f3",
           "#FF6692",
           "#B6E880",
           "#FF97FF",
           "#FECB52"
          ],
          "font": {
           "color": "#2a3f5f"
          },
          "geo": {
           "bgcolor": "white",
           "lakecolor": "white",
           "landcolor": "#E5ECF6",
           "showlakes": true,
           "showland": true,
           "subunitcolor": "white"
          },
          "hoverlabel": {
           "align": "left"
          },
          "hovermode": "closest",
          "mapbox": {
           "style": "light"
          },
          "paper_bgcolor": "white",
          "plot_bgcolor": "#E5ECF6",
          "polar": {
           "angularaxis": {
            "gridcolor": "white",
            "linecolor": "white",
            "ticks": ""
           },
           "bgcolor": "#E5ECF6",
           "radialaxis": {
            "gridcolor": "white",
            "linecolor": "white",
            "ticks": ""
           }
          },
          "scene": {
           "xaxis": {
            "backgroundcolor": "#E5ECF6",
            "gridcolor": "white",
            "gridwidth": 2,
            "linecolor": "white",
            "showbackground": true,
            "ticks": "",
            "zerolinecolor": "white"
           },
           "yaxis": {
            "backgroundcolor": "#E5ECF6",
            "gridcolor": "white",
            "gridwidth": 2,
            "linecolor": "white",
            "showbackground": true,
            "ticks": "",
            "zerolinecolor": "white"
           },
           "zaxis": {
            "backgroundcolor": "#E5ECF6",
            "gridcolor": "white",
            "gridwidth": 2,
            "linecolor": "white",
            "showbackground": true,
            "ticks": "",
            "zerolinecolor": "white"
           }
          },
          "shapedefaults": {
           "line": {
            "color": "#2a3f5f"
           }
          },
          "ternary": {
           "aaxis": {
            "gridcolor": "white",
            "linecolor": "white",
            "ticks": ""
           },
           "baxis": {
            "gridcolor": "white",
            "linecolor": "white",
            "ticks": ""
           },
           "bgcolor": "#E5ECF6",
           "caxis": {
            "gridcolor": "white",
            "linecolor": "white",
            "ticks": ""
           }
          },
          "title": {
           "x": 0.05
          },
          "xaxis": {
           "automargin": true,
           "gridcolor": "white",
           "linecolor": "white",
           "ticks": "",
           "title": {
            "standoff": 15
           },
           "zerolinecolor": "white",
           "zerolinewidth": 2
          },
          "yaxis": {
           "automargin": true,
           "gridcolor": "white",
           "linecolor": "white",
           "ticks": "",
           "title": {
            "standoff": 15
           },
           "zerolinecolor": "white",
           "zerolinewidth": 2
          }
         }
        },
        "title": {
         "text": "Distribution of scores by sex for high and low earners"
        },
        "xaxis": {
         "fixedrange": true,
         "gridcolor": "rgb(159, 197, 232)",
         "hoverformat": ".3f",
         "title": {
          "text": "Score"
         },
         "zerolinecolor": "rgb(159, 197, 232)"
        },
        "yaxis": {
         "fixedrange": true,
         "gridcolor": "rgba(0,0,0,0)",
         "ticktext": [
          "Low earner",
          "High earner"
         ],
         "tickvals": [
          0,
          1
         ],
         "title": {
          "text": "High / low earner"
         },
         "zerolinecolor": "rgba(0,0,0,0)"
        }
       }
      }
     },
     "metadata": {},
     "output_type": "display_data"
    }
   ],
   "source": [
    "fig_eo_by_sex = group_box_plots(\n",
    "    test_prob,\n",
    "    test.sex.map(lambda x: \"Male\" if x else \"Female\"),\n",
    "    groups=test.salary,\n",
    "    group_names=[\"Low earner\", \"High earner\"],\n",
    "    title=\"Distribution of scores by sex for high and low earners\",\n",
    "    xlabel=\"Score\",\n",
    "    ylabel=\"High / low earner\",\n",
    ")\n",
    "fig_eo_by_sex"
   ]
  },
  {
   "cell_type": "markdown",
   "metadata": {},
   "source": [
    "We do the same, comparing races."
   ]
  },
  {
   "cell_type": "code",
   "execution_count": 72,
   "metadata": {},
   "outputs": [
    {
     "name": "stdout",
     "output_type": "stream",
     "text": [
      "Equalised odds difference: 0.328\n",
      "Equalised odds ratio: 0.255\n"
     ]
    }
   ],
   "source": [
    "eod = equalized_odds_difference(\n",
    "    test_oh.salary, test_pred, sensitive_features=test.race,\n",
    ")\n",
    "eor = equalized_odds_ratio(\n",
    "    test_oh.salary, test_pred, sensitive_features=test.race,\n",
    ")\n",
    "\n",
    "print(f\"Equalised odds difference: {eod:.3f}\")\n",
    "print(f\"Equalised odds ratio: {eor:.3f}\")"
   ]
  },
  {
   "cell_type": "code",
   "execution_count": 60,
   "metadata": {},
   "outputs": [
    {
     "data": {
      "application/vnd.plotly.v1+json": {
       "config": {
        "plotlyServerURL": "https://plot.ly"
       },
       "data": [
        {
         "hoverinfo": "name+x",
         "jitter": 0.2,
         "line": {
          "color": "#f2603b"
         },
         "marker": {
          "color": "rgba(242,96,59,1)",
          "opacity": 0.1
         },
         "name": "American Indian / Eskimo",
         "orientation": "h",
         "type": "box",
         "x": {
          "bdata": "i/DoPF+OqzuZ5Y48hm8iPqymaj3ZMhI9RixiPGDATjgj/wk+DuZ+P1q85zvn4cQ+D6fkO6bLeDsBzgA+zt4aPbRPgDmsly8/5MRYPWNFHz7zaDw8CH17PVSiRz4TyLQ+GiROPHXizT3RMBw+dQ6OO826Hz5p9+Q8UNowOmwhdD4sgqA6F1yPPWVxvjyB9TI8F7edPHTnfD16gLY5WZEAO6vmQT0Q4z0+R/39PSKMDz8yt5Y866wiO2ALmTrHVYo9y0LiPf43uz0XTVk+Q1gCPhZXbTzZ3O86yY1IPaIfWj4wUQ4/Ho1BPjYkij17tTM/toOcPQIGWD9dCrg9DXx+PTtiATyctAE+aCWqOjD4PD6sP4E+xauFPljNHzzJai87AZtXPcloQT4QmRA+CZs5OhVSrz1n3Y09fc9cPiEhrzuawlA7E+UbPZED0z2RLvE8YlcCPstVoz1n39o+ioOYPbz7oDy4z9E8O9ECPSmCHTvX650+4JR3PGFfkj627o093NZvPZoblz1b9rM+7OFpPPdKXT7imrI99sN1PBu++DrzpII4RwmBOk3p1jtV/w0+n5XcPJ+Yfjq+fQs9lVJsPJJrWD3ZrNc9P5sgPcxccT5p8DE8aQRMPS+agj3pUMw5uP8GPWfotT6Scaw95S3MPl/8kTvXdk47hUtlPC5QGz+jbck83wiROnQrrT2gGbo+u/SGO6pdpDwOyw0+Z2udPUJR+zx/OAM/7bhfP/WNQTsGkRI8p2utPa8DOz6TzQA9XMz2PRrmTD4eKJg8mm+WO8afvD0=",
          "dtype": "f4"
         },
         "y": {
          "bdata": "AAAAAAAAAAAAAQAAAAAAAAABAAAAAAABAAAAAAAAAAAAAAAAAAEAAAABAAEAAAAAAQABAQAAAAABAQAAAAAAAAAAAAAAAAAAAAABAAAAAQAAAAAAAAABAAAAAAABAAEAAQAAAAAAAAAAAAAAAAAAAAAAAAEAAAAAAAAAAAAAAAAAAAAAAAAAAAAAAQAAAAAAAAAAAAA=",
          "dtype": "i1"
         }
        },
        {
         "hoverinfo": "name+x",
         "jitter": 0.2,
         "line": {
          "color": "#262445"
         },
         "marker": {
          "color": "rgba(38,36,69,1)",
          "opacity": 0.1
         },
         "name": "Asian / Pacific Islander",
         "orientation": "h",
         "type": "box",
         "x": {
          "bdata": "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",
          "dtype": "f4"
         },
         "y": {
          "bdata": "AAAAAAAAAAABAAAAAQAAAAAAAAEAAAAAAQAAAAAAAQAAAQAAAAEAAAEAAAAAAQABAQEAAQEAAAEAAAAAAQEAAAAAAAAAAAEBAAAAAQEBAAAAAAAAAAEAAAEAAAABAAAAAAEAAAABAAAAAAAAAAEBAAEAAQEBAQAAAAAAAAEBAAAAAQEAAAEAAAEAAQEBAAABAAAAAAABAAABAAEAAAEAAAAAAAEBAAABAAEAAAAAAAEAAQAAAQABAAABAAAAAAEAAAABAQEAAQABAAEAAAAAAAAAAAABAAABAAAAAQAAAAAAAAABAAEAAQABAQEBAQAAAAAAAAEAAQAAAAABAAABAQAAAAAAAAAAAAEAAAAAAAAAAAAAAQABAAABAAAAAAAAAAABAAAAAAAAAQAAAAAAAQABAAAAAQAAAAEAAAEBAAAAAQAAAQAAAQEAAQABAQEAAAEAAAEAAQAAAAAAAAEAAAAAAAEBAQAAAAEAAQABAAAAAAABAAEBAAEAAQEAAQAAAAAAAAAAAQEAAAEAAAAAAAAAAAABAAAA",
          "dtype": "i1"
         }
        },
        {
         "hoverinfo": "name+x",
         "jitter": 0.2,
         "line": {
          "color": "#00a886"
         },
         "marker": {
          "color": "rgba(0,168,134,1)",
          "opacity": 0.1
         },
         "name": "Black",
         "orientation": "h",
         "type": "box",
         "x": {
          "bdata": "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",
          "dtype": "f4"
         },
         "y": {
          "bdata": "AAEAAAEAAAAAAAAAAAAAAAAAAAAAAAAAAAAAAAAAAAABAQEAAAEAAAAAAQABAAAAAAABAAAAAAAAAAAAAAABAAAAAAAAAAEBAAEAAAAAAAEAAAEBAAABAAABAAAAAAEAAAAAAQAAAQAAAAEAAAAAAAAAAAAAAQAAAAAAAAABAAABAAEBAAAAAAAAAAABAAAAAAAAAAAAAAAAAQAAAAAAAAAAAAAAAQAAAAEAAAEAAAEAAAAAAAAAAAAAAAAAAAAAAAAAAAAAAQAAAAAAAAAAAAAAAQAAAAAAAAAAAAAAAAAAAAAAAAEAAAAAAAAAAAABAAAAAAAAAAAAAAAAAAEAAAEAAAAAAAAAAAEAAAAAAAAAAAAAAAAAAAAAAAAAAAABAQAAAAAAAAABAAAAAAAAAAAAAAAAAAAAAAAAAAAAAAAAAAAAAAAAAAAAAAAAAQAAAAAAAAAAAAEBAAABAAAAAAAAAAAAAAAAAAAAAAAAAQAAAAAAAAAAAAAAAAAAAAAAAAAAAAAAAAAAAAABAAAAAAAAAAAAAQAAAAAAAAAAAAAAAAEAAAAAAAAAAAAAAAAAAAEAAQAAAAAAAAAAAAAAAAAAAAABAAEAAAAAAQAAAAABAAEAAAAAAAAAAAABAAAAAAABAQAAAAEBAAAAAAAAAAEAAAAAAAAAAAAAAAABAAAAAAAAAAAAAQAAAAAAAAAAAAAAAAEAAAEAAAAAAAAAAAAAAAAAAAAAAAAAAAAAAAAAAAAAAAAAAAEAAAAAAAEAAAAAAAEAAAABAAAAAAAAAAAAAAAAAAAAAAAAAAAAAAAAAAAAAAABAAAAAAAAAAAAAAAAAAEAAAAAAAAAAQAAAAAAAQABAAAAAAAAAAEAAAAAAAAAAAAAAAAAAAAAAAABAAEAAAAAAQAAAQAAAAAAAAEAAAABAAAAAAAAAAAAAAAAAAAAAAAAAAEAAAAAAAAAAAAAAAAAAAAAAAAAAAAAAAAAAQEAAAAAAAABAQAAAAAAAAAAAAAAAAAAAAEAAAAAAAAAAAABAAAAAQAAAAAAAAAAAAAAAAAAAAAAAQAAAAAAAAAAAQAAAAAAAAAAAAAAAAAAAAAAAAEAAAABAAEAAAAAAAAAAQAAAAAAAAAAAAAAAQAAAAAAAAABAAAAAAAAAAAAAAAAAAAAAAAAAAABAQAAAAAAAAAAAAAAAAAAAAEAAAAAAAAAAAAAAAABAQAAAAAAAAAAAAAAAAAAAAABAAABAAEAAAAAAAAAAQABAAAAAAAAAAAAAQAAAAAAAAABAAAAAAAAAAAAAAAAAAAAAAAAAAEAAAABAAAAAAABAQAAAAAAAAAAAAAAAAAAAAAAAAAAAAAAAAAAAAABAAAAAAAAAAAAAAAAAAEAAQAAAAEAAQABAAAAAAAAAAABAAEAAAAAAQABAAABAAAAAAAAAQAAAQEAAAAAAAAAAAAAAAAAAAAAAAAAAAAAAAABAAAAAAABAAAAAAAAAAABAAAAAAAAAAAAAAAAAAAAAAAAAAAAAAAAAAEAAAAAAAABAAEAAAEAAAAAAAAAAQAAAQAAAQAAAAEAAAAAAQAAAAAAAAEAAAAAAAAAAAAAAAAAAAAAAAEAAAAAAQEAAAAAAAAAAAABAAABAAAAAQAAAQAAAAAAAQAAAAAAAQAAAAEAAAAAAAEAAAAAAAABAAAAAAEAAAABAAAAAAAAAAAAAAAAAAAAAAAAAAAAAAAAAAAAAAABAAAAAAAAAAAAAAAAAAAAAAAAAAEAAAAAAQAAAAEAAAAAAAAAAAAAAAAAAAAAAAAAAAAAAAAAAAAAAAAAAAABAAAAAAAAAAAAAAAAAQAAAAAAAAAAAAABAAAAAQAAAAAAAAAAAAEAAQAAAAAAAAABAAAAAA==",
          "dtype": "i1"
         }
        },
        {
         "hoverinfo": "name+x",
         "jitter": 0.2,
         "line": {
          "color": "#edc946"
         },
         "marker": {
          "color": "rgba(237,201,70,1)",
          "opacity": 0.1
         },
         "name": "Other",
         "orientation": "h",
         "type": "box",
         "x": {
          "bdata": "R6RPPmms2TmrM8s7tKxxPE9VLz07LxM/x9nDPjmusTyc64M7cWkmPBX/ej2j3RI6ZNoqPYoXOjpZAeI9tEbgOsdThTwE/hA+1j2GPZexNz1I2do9H7S3Ox3Qwztna+8+h9ehPnFRUDoh+pc9v3LaPIlqoz3cUY49JxfsO38bOD2z2Nw6bpiPOyQ17zpD5SA8k7DpPNJ86jyEkqE8PJacPMZPoTs7rwQ7AACAP5MJDj5bDWM7It5dPtiRRj8UNfA+OYdGPKJxlT1oDt89aeYIPfR4AjwqEmI7DwI5PssuQTwZM2c+kiGRPh9rkz06I745ch2hO+ZSFDuSlwQ/ghIFPLNanj2psTw/6ButPPT8MTsoeIA5/kYkPURJiT5eBAA+9YFXOjnr+Tu7w1U8IhIuPMGqfD04u/k7boijOoYTJzx1b0U9nBeePnjg/T1f1907AHgFO1JRLj7TDDw9i9d5O9p7Izq9cc86FQe8PQ95LD53kL09OXtwP7G9HDsds408ayiKPLs6nT4zhiQ+5zgtPJaccz4bXAw+Zm+WOz+IoD7fuIk9p7SePjRTzz3uRUA91UlIP4ydgzwGqLE7axG/PNz5TTwrSjU8wZCpPrDJzzx5ijI/zmIJPTiOYT2K4/08locIPebOVzo=",
          "dtype": "f4"
         },
         "y": {
          "bdata": "AAAAAAABAAAAAAEAAQAAAAABAAAAAAAAAQAAAAABAAAAAAAAAAAAAAAAAQEAAAEBAQAAAAAAAAAAAQAAAAABAAABAAAAAAAAAAAAAAAAAAAAAQEAAAABAAAAAQAAAQAAAAABAAEAAAAAAQAAAQAAAAAAAQAAAAAAAAA=",
          "dtype": "i1"
         }
        },
        {
         "hoverinfo": "name+x",
         "jitter": 0.2,
         "line": {
          "color": "#70cfcf"
         },
         "marker": {
          "color": "rgba(112,207,207,1)",
          "opacity": 0.1
         },
         "name": "White",
         "orientation": "h",
         "type": "box",
         "x": {
          "bdata": "VtaUPcw/YT7mMZI74CsfP95xbj2SNhA8nLW0PpzuAD/Ogjg9cLnBPj/hNT81ZsA6nSgdP6Akhj1j0gs/eqUUPYCrej4AUsg+9zmWOrFUSz6T+Lk9vUAnPnrWmD01Y/A9cCOVPTLh2z55NYY791xeOlQF6DrSbg8/85b0PiUhCz2zTAw9HhsHOkRUMD8bBYg8sGEGP8m80z7Dgoc6RNHBPCr2Hz/gflw86Tr6PBaHRT4ybBc/UNsvP3yZgz1q8KM+mfbDPYLGYT5SJ/Y8mwkePrTQdD9OSpY6E2MBPbPooj7uBHc/UxbqPlNbtjz9mPo826RnPtI4Nj45YW0+eFoqPd1ymj6vebg8wqQJPfIqCj5mT/A9C9PZO50zoT51Zyg77lyuPh6BZT/K1jg+Xg46OvqHtj1YqRw9f2A9Pgg1ujz+3SA+XJpXPlyOIT2MGak+ZpS/O8zoNTwNtvM76sPdPdu8DT6IvCw+/FhFO6VPez7w8FM8ShxJPveCxD6xwG0+IbxzPF9dZTuOvpU+TwvZPZ9swD0OQ14/9PMpPGe6hT0g70s/2QeUPuEPOD84UFc+bc10PsgR2j5SLqc7mkkbP94GUz9YRCY/NeSDPjTgfz4xG7U+KrwMPiUqeD9dm6k75M9CPK30hzta1BY/9F1BPZ0yjjtgOR48iUyyPTzmEz2+Vv89+aEjPdcX6TxRhyU/KUpEPre98j5FIoQ+aFYNOrqFPz2hDs8+QX4TPvcr+z2YWa8+9zasPvM7ST3usB0+L9hUPtPIeD4Oi2Q+Aoh2P7y4/z6dRjc9tW2LOxZDJD3WqCw/KeJKPtzCJT5iMkY9AM5cP66gPDx3owY9x+PtPhLprT7STRs+UgKHPtOI5j5zVvA+fWSRPe5ZQD8FlFM+v9CBOgwxWD0Ajyc/56OtPkX3Sj6Au3089j6aOVmt3Dwsvx4+r9zoPNfDqT66AoE+aqqOPg49dj+rZY4+lQ8IOx6IKz8cwls+NJIWPTe6nz5SVDc/jZjAPWpTrD3eLHs863a6PuyN2DshfiM+6LzgPEPloD0ewDU+O2+SPljDND7dVhM7lns7PeyMZD5D0/08ucsCO63sKDwPjok+C8wzP8HmWj3aljk+yeLDPT4AeD5sdw0+llaXPA90oj7k3DA+pDzaPU/dGz8PbRQ+sHFbOd0dcz+QjT4+KNFNPVlIuDtybiA+xCUoPo7Drz4lguM+tr6VPZnRyD2duQI+SPVNPfgv+Tt/9008+tN8O54efj+DeJg9d6mDPl1NMDs/LxY+I2xGPWXmATo+ObA+TYY6PNwNET9gRrA+BvfaOlBkzj0VbTU/0f48P9V6wj22Etk8tCAJP9JQ2Twvkw4/GFcnPpWDojztxRQ7iM/jPmfWoj4qAK45KT7EPRj8WTlqIXM+KvyfPrZDST8xmr88X0YBPonDFj4H/ro9FtDyPrWFjT3RTnw91NRkPPyLDz+MuFM/wCWCPplnhT75b988ZK/7PKNnHzrQSPY90oTIPolWQT5zFc49AACAP2u+oj2c9PA9C5PiPPkQlj6giJk+RW9EPzxMhD4j6VM+npZRP+u1Gz1xWew9LauMO8tYLT1bEK0+8plXPKnqoT5awyM6+4ZgPs99Zz+10cg9nb0fPWGxRD5TGdM+vnggP1nPsj6Ints+3D8UPVrRJD+iRtQ+1Q3ePJ0h5DtdO4Q+dwVsPIFRjD4tUGM7qJOLPQRISz+3AfI9O0saP/q1KDvGZxk+luvqPRbkuDwAAIA/pgE6PnLM1D2rcRc8ycoUPX+gDT2uzDo+LZPLPZc+kD1tsXI+GkfzPkmarD4YvHA+JKorP22iSj6aqT0+pca0PWIwZz556FU8gf8pP4arJz+ulTg9i1MnPNrnBD5YJZI9GTExP4AGLD1Tm6s9tUDJO7MmjzzRjuU+u6SsPAPrCT6dkfk+wUXzPQ6w9j6Db2s9aFISPjd0+jshj00+3xe5PdOcJzobB4083B9aPrE7gzy6Ctg9UvwQPVFyyDtVxxM/U4GtPgMgPz95EGs8Dz1/P6CVMz6w7gc9lsrROiDN+DulvMw816wlPUW5MTwSxJY7F28iPmXo1z6oDNc6t7d2PYW05T5GdwE+7AwPPgeSkD4rL3Y+0CwOPmVWNTsJ/3U/w+kpPRWDGT472RA7VXUBPm5KIjxggdk8YjjPPVB/UT98/Yg+1dmUPXOTEz4xRI05yyCxPhsZAz9z+Yg+hb7iPudYdj9TYKk91/RHPige3z2Qk0Y/zZrnPfAnJT9c6po+FyfkOWPCoj1sBuw+R67VPqeaCz0UcxU/kTGLPkNIBj+q6+I9LnUTPRiYijqctbo6joDcPkKGuD56uZo9p8ZlPjjHAj/9SwE/Dx9yPVrMvT3E1bM+6ZOAPFsCAT5GMlY+YbzePgmfQT12RqE+cEDHPi70JT5fdCg+wWbzPlEGXT/I+Xo949mMPpYkMj/nwlY+2TwpPXbBOj92EyY/CXuzPEznFjx+1e497lYwP8lpATwlSRI77GybPSthRTwQTy0/rsw6Pjoj0T4Oyfo+LmUBP6cNSTy2exo+xU7aPovCAT1EyJg9qeWcPt5wbD4ATVw/S/UGPr9eZz28ZPY6HIIuPusQWDxmaGI/eVQTPv8NXj3LAwI8xXt0PY5vhz1qzVQ/6RVVP9azuT0wgx8+IchzPUjSBT0yhz89pLlcP1pGGz0/JsQ++w2xOdw0UT9+OHk/751YPNr9qDwXH4A9pbSBPMHecD++Vv89IOIyP1m4pz3KJHs9MgBJP05PGj2vmEA+nsx/PsQdaj096HA8gNhDPg4MFD/q3X48ye5xO4j6Bj7tqmM/OdpsPrk+vzwTZE4+FBm1PmC3oT7MtWg+QmV5PrGh1j2C4dM8lC2IPQAAgD/MJxI+E0PrPC3PVj2phmQ8jCZ6Pq9mHj8qOYQ8kAgjPwAAgD9GQUA+BYM5PpeeCD87E0c8ylHHPmhgID+V9qY9xwO+Ph2dqj6XyhM9C6KEPhThcDzjCes9X08AP2OgTD9EOJQ9CXYRP3uogD6IxZU+DRlpPV7D7DwyBqo9iHwcPgLPCT8gIHw7w2kYOtMICz5voU4+deKlPrdU1DtUY4o+E2ROPvRfsD2jimk+phDzPF9UuT6X0ZU86iqFPt87hD4A5oY8niOWPoeGwz4OU1A+yg+hPZCKHT9Fvqw+WgpQPDksojys6CQ9RJxBPa+Ptz5gtx89EIHaOw7RgDyt9J4+PPzkPtp5Gz/LLH88msa4Pi2/9D0NgW8+X17OPO+B1D6kbB8/rsk0P8gEQD7yWhg/IjeSPBol4T4YnrY8ZRtzPNfahD2uE2M+IouLPjf9/T7B15g9Giv2O8zOoz7hBuo925waPs0I1z2+dSU9JJM4PwNjSD7n8IA9a+GbPvO0uzz7vFQ+fU+lPAK5Hz/PKlQ8M7w2N8pQvT5j4LI9YLvSPKCLDDxxDsU+MwCLPUn7Cz5eRI08kkAmP6QfOT8GcJw+gMEmPR2yQD6EALY+HqzhPS1O5Tsatao9VaWgPKV3bTxTdJY94cglPVFXIjvMgo45ZyvIPgUtTj51ziY/Vz4WO7xlmzwabmo/+oZOOqDlVz6OTQE8ZB/GPaDIUz5HXBo/PwiJPRGTOD6xb1Q+GIMMPai8zDzcqrE856UhP2F2sz0Iyh4/NgYEPDlo9D4uB4I9L6GVPsi8fD5yjB07A/XkPm1gAD+q/Xw+AACAP3H87DyMwQM/a5BKPQnkDj//xKo90yUJPzUD2T3WcP8+Dp02PmpylD4HFic7M/NAPWugMT9bfTA6e8X1PRGlnT65e9c+KtYAPtjDkDlIFx4/pnXnPjblDD71200+tC2BPua/6zsgzqs9nI8qPgLqyT4gZHs9x9ZaPkj/zTvPUuQ+4KccP/UttD4nw3Y+3M1uPM+K3jyI5gc9U/GnPVKW5Dut5/Q9ieTzPovm/j3GOEQ+9Hh7PuXaJT0meYg+AcAqPZJwUz0XN5s+mW59PY8q6zpqYc49ct/YPfhnED0qOA894VsMP9wiKzq+b40+LUj2PH8tQj1C+o0+w9gvPza2hT6dksk8s6IQP7YiVDuleEs+3xGqPl1Vxz0+sHg/GQg3PsONVz0UIhA9OIOePZiRTz2SmdU+o0x+P1UDfj8QjFs+ANx4Pszr3jxKS20+y22QPkv5tzxrbY87YC00P6spCD8AAIA/dHBcPk1IST9vSBQ8Rr8TPpEB5jp/Xwc/FjouP6qcrTzBMXM+jFGaPnOLkT0DWRQ9fsrYPoHDHT7Ru8o+/GOqPoXUPT/wF4k9ehRAPtaBkj0NxUo7KEpeP+GPSz5tcRw/EEhDPg8GIj2+NDE+4gSpPqcmOz77shw+UY3PPBRkTj6hlVg+vFwDPtddUz87Rq87ofBDPx7aIj5NGBA+sjp+Pk4EOD+GgEU8EW2NPh9fDj/1kDY7pzicPvOd8T1WJ4g5xQEQPLESjT2LDZE+faxtPuw2FT+MFz8/EptGO0Bf+zwIDnc/MWR0P4E2kD3V92Y+n1T2Pjy5gT0TY7Y7MQvvPmjQFz/8o3g8/bL/PbiBeD+wFRI+lMQ5PSWixT7yyrE+pakSPXiT3jtwBMY8159qPT8IHTpaXI4+rIJVP9pbND0UIrU9Z8ObPUXfCTnesXY8U/1jPXWPZD52JNI+M4KKPZpZbz+VS5s+bNcLPy0nBz+2SDc+hfk7Pl+eyDpD65E+jNWCPqFncD4rZGU/CNbtPbpT9T3Xv2U99cG1Pei0xT3YHQs+AACAPzIpAjzdDlE8zBoWPkiLzjxN1hw8q1MQPsxE8j59j3M+ztLVPpS4tT2QFsw9zUNNPVb4qDttoGo+eE1ePBEK9z6T+QM+gjYuPwAAgD+uwrI9AACAPzynVT8hEJE7XbvlPtaVJz4KvlI97VRePp68Oz7buOQ9+P5cPl8PMj9wd5494F2nPpQHdj2iKYc9EBDXPCXUAD/SLY8+lk9BP7IW6D6chgo+vMoUPwxIFT4pZag9mr8UOYE1Ej+FLxg9fkE3PGiLvTw7X989sDEtPmkiUz7eF608EF0SPwx9iT19r7A+wAr/PmMhOD59CRU+U9EsO6L/VD0h7iY+JOnTPpcF6Dm/XaQ+0PyyPSBgJT5BezI9P0oxP3BtZD6QCYk8C+hRPrnlcj/DgyM+HLRYPgAAgD9QWFM/j3cgPiud8j7d7h89CKTyPWdOwzqzZwE/W6pCPBYAAj49JyY+MbkLP8edZj/7s+o9ZUAzPlx1oT7jKbc9ZwsSO+3CSjtKyEU/HXjwPNWSPz+2D489D4FvPsCkuj5NmTs+nI0CPtDgMj6Grwo+PMsQPNqd/D6HhBI+vp+wPa+gUT3SBTA/nSk7O94QpTxdB689tC2BPgmgeT4msyY7yg+hPRJhOz/vBmc7uTeqPt1s1z2TzaE8toIVPjAchD42ZfA+31sLPuG04T3sVXQ+7BF7P75Eiz5JCQU/P8XNPWrpATxary4+pVfPPtXHhT41h9c6jzgQPNXtmD0hknY+68l9PnmPojwNq5Y8po3NPmXagD0ekms7L0DNPux2oDq0IAk/uUc/PiH8YT07p9o9wWNHP0xqDj4O/ZE+llpyPy1L4DstIR8/+YeEPomrID/YHOA9o17IOrxuqj0Mt5s+IezpPnmY8joUs/U8MjMcP5qazj61KyI+AACAP7lgiD5ljTM/ermPPkm+tzz6cyM+D3nlO6VIETltzXQ+Hk71Pa/UaDzwmrw+Cb63PTky5T6CwsQ+Y/xuP3vFHz+HA4g9PYFMP3JaRDrZ49M96E+WPG1GJT4WnZ4+L1HYPZliCT6Refk9KcosP/u4oT7eq+E+WWZnPxJuuD7yQig8U9G5PO/q0zpx/mQ9XPjaPg38jj43J3k+2Gd4PNpPtD3J+e47DZotPdVbmD0wJCc+dIU5PqlkcD+HHYA9XNIPPXi33D5xXP0+HkFbO0TaST/rJ0Y+uhPgPm1xtD1DGYk+8R5iP7Jm7Tq66eg+p9y7PkbCMj63+xo7gmbVPv0nKT8P96Y+EE8tP8z6+z3Geos+u5/8O3F8hz1usyg+o20UPJ8TOT6HLWU/m/q8PkbGJz2rsXc+yFm9Pk1+Gj8slsc9z/UVPaLjNT6YWNo+YLhiPXLpFz/GJs4+63ysO0p40D3zMVw+/3NtPsW2xT4/QLs9Xt6MPg0MET8p49g+mHcmPgQHYD43800+Qx3WPp+OUD3Dhbw+6OgnPVOWBD+YxAI8WCS0PUdcGj/46iA+j9RhPFlyzz313KE+/adgP9Zy6D6jOtA9Lf5MPlXxJj5cBTs9Ea+NPWuHFT6qTIY+A2KWPs0miTcmeko+QPtJPEERxD1bnRI+l0dHPfuJ+D5+XHY/Pfz+O/zvHD5AvUA8f531O4/fxTzvi90+4YaWPrt66T6d+oI+EwRWPHAexT3bnBo+6TADPh/GCT7WPKU+25waPhl/5D5elZE+3ZbTPmtZgT0Yktc+8pIlPm+n6z20Kuw+CjItPKXdBzqV1nk8X4OfPlYu2jnKpXo+g0MnP3grpz75uDI/LGVbPqlY9zzzGHU+jg40PEQfKD4RwmU7jSMTPdYuAj1Q9SI+TrLrPBa9AzudKis9/+mEPqNFUD/cDRE/ylynPns2Tz0MMNM9hy8YPSs+9T7my7Q+EgWcPmJLBTwSKAY9ZrIaPI/uzD1qb8k9reGIPYQSjj1rO54+pcICPCGGXT6BHbA+30APPr13KT2u5rA+IpOMPlww/j34iZ0+0itHPOybhDxL1EQ/mzuJOubR1D5Savo+J4DGPl96aTuOkZM88yv7PWp2Dz8Aagk+hoJIPkcPTj5zBN86JMFkPft2zz06Gss+df3MPEZugz7LOPw57QyJPvbyNT/rXuY9QazrPmig/zx3bPs8TUFDPrFo7T4UERE8kdLDPtp6vD5NTOA8OEJ+PaKaAT2obfs7LHeZO/dmsD2HwJg+6PCFPapdZT7yZXQ+3qiVOwPjfj7fCes9OkbxOTdVRD7NVqA+sipGPrvKBT7TmSU+kzTQO+w0vDxqoE485gqjO5e+gz0UOm0+g2j9PfVGADlvfYE9icbnPiq5GT33Ptk+HM49PhZcez7Pit488QF8Przjbj7PypQ7y0kGP3lnWzzyHk4+1DuyPfs6Uz64S409G48fP3HyoDz0N5M+ncoyPkQ2SD0SYPE+08OEPvXnuT4O23g/DAOoPg7Gzz395eg9CfvkPYhNzz4q9hs/PGIlPGgVrT6eIBY+rJglPwhxzT4jrsY+PONTP9mXED5pH4o+YxhzPyCu+TtvnY4+FMxqPol8yz4SzF8+iNKAOmfRlTpMQks+FJn5OwK5Hz/3jv49gyT7PpzzBj5wzlA7pUwXPoBy5j2ebzU/i4+oPdbIPT7GjNM9WAKWPl4ahT7hLqo+wbgsPhAi5j7VvkQ+TaPcOhMCkTzjAk0+NjETPs1jtzsCRaA+RARhPKHdmT5Jqe4+bOpGP8LHDD+i6sg+Afj5PuYBlzxYLFA/vrJLPL4aLD/xpqs+5Di9O1/9Ij7YxxY8YRrHPOl2DzylT3s+a6uRPqzb4j78Rx09QjxWPTKkEj8g0RY+3K+YPBop1T1f0gk+FFhLPJk9uD6yCK88fDpPPvCo/jybVlo/AhVgPLj1tD4Haco+61MpPQ1u0TweaLQ+vsRAP/hkyDxQ6X09ofUaPplAqDw13/Y9AACAP81R1j1AAAM+A1KYPf+VJz+CXSA/TrlvPSoegD0Nq9c7zex5P9hRjTz1aE89E0jqPmESCD1Bhnk/mPJOPbIZYj4fK4M9HqhqPh0EyjwhcTc+0/RwPl0bkzs4EKw9G/w3PYdCPjlhfls9EfURO14OOjpCb2E6mLNsPgxFez76lIA+I7LHPv/3mT42xZc9GLaPO6qp6z4s3r45BSSEPFSwKju6ZR4+K8SYPA4D3j7sVXA/51uPO6qFBj90Glk8lmUNPo6oOD6j8bg+Pr+DPbvROj3cEHY+R6FKP7EF6jtODbg9zkdZPURuDTsTV5w+Dc+LPJSLmzxWyNc+HwdSPqKZeT3Q5dA+ea8VPwNSmD37IIg6JFIuPdy3OT/E79s+MTLwPKU2ZD5XR5M+dPZeOg64pj4HUUU/Vn42Pr+seD2MyM4+y5RZP/cHzTzoroM+53ocPrwOyT5XPjI+tG9UPmyvGz9Vb14+B6+rPod08D4Jsmg+YXENPGq5rj6mopw7bBlBPv9OnTxUlJE9TsoeP51dqz6y0PY88nSVPgcNujuoftc7mPxWPPnoJjy3p1c/UVmEOw2+XT999yI/XbQIP+iR8D4MUoc9oTm7PtGhRz+tzRY/04lNP3eGjj6Dmb492Pe/Pg7t8TuOgUw+l9GVPI6gyjoIa5A9kRmEPDVuijpEAKM7WuiyPgH4+T5bC1I9ig/sPOI9qz6Isoc86yrpPI/XZz5HHYA9fAxmPTZq6T75i3g/XeggP3aBFDuOHG48mCpLPusrPDy0vsY+5EfTPmkinj1nnzo9JReJOmx2gj0iNaE+Ic2FPitEUz7FyXU+UfcJPwDdTD/yDbU91qYePGrvlD3+Jb4+TT60PhzfCz0heW4/4CCoPJsyPT/wGZU+ZRlfPh3Yuj5XkE8/z5cOPA11Sj4/cvI4Zc5IPsxBUj6nEjo9y5FWPssUID28hRE+thLGPoHqhj0Owjo+OpJ7PVIoBDtgm1U/5VWyPk8nhjzpH4w831TBPUyWpD5Ci5M+MrmAPnjvwz34G1s9bDVUP/D0yT3GMUQ+LmEmP0YGJD/XYpY823tCPx03Uj32aGI67PdcPjwQij5CZoY+psSiPgo+YDsj+yk9yiibPK73qzv1aw07rjpJP46ZCD25Ksw+dor/Pb5W/z0vIvA+ovREPR33JzsHm1A+8KGUPir2BD+6fP07Gy9EPr0XWz2L8IE+NKp3PkRTuD7f/wM/24pKOlMNUD6OhIw9YOccPmCpMT+Trsg+PcxzPcx/OT2q3+s+mFpFPzCbej22eA0+I4eAPhe5Pj7DEos+qB0RPqR8Sj/FYj499BkpPqLZiT14FuE+E3g8PjsRBD/bmI0+iGwIPsfbdj+K2ns+Z/YzPkC9QDxLQVg9EsgOPRt0zD6FfQ48rcuZPNdqnz6cJ549w8xIPwAAgD9trxs/9X4BP+GaQD+AkR89ZyfaOOfLEjzHEj49W4A+PFuG4Dxkvbk9lGlBPmXsBj+S/4E+BATBPRtt2T5dLsc75RtdP/tR/zyaZKs7O/31PCRHgz6sDJ4+3OzxPA8i5j7ozB0+3jYEPUu0rT0uOrs9OZ8rPRRkTj70XUE9zmyiPvsziDtiD8Q9QGCyO767Zjyqf0M+19c5PkbQVT+1lD8+NPjzPpXVSD6GJCI/765jPgAAgD/LHLE9n1cMPg/MXz7WME47xt7qO0eAbzs0rac7LkEnP1+O3D4YSLU9B2NrP1l+rTo6mNk7BX8hPmcMPT/GWBQ/NUy2O4oTYj1F5G0/b3U7P/QWFD8fnjs/GV4nPENmDD4mx9A7GNbNPpxJvj2q61g+qoYpPZqhjj3hugc+OkwlP03a8jvXsPg8GwoNPQJ55jtqqo4+JogVPz2JHT6B/AU9TS9tPnlygjuEBmE+VyOAPQv+sj4CIWI/dc83Pf14eT8t5i0+SGuePlW5ozwVzys9mWIOPB01+j6vmEA+zB4fPpeoDT3Ojms+LgN6P6zUtTxkOgc/YEacPZB1Vjx8cHk/W3ErPjSIqz2eegA/WEWNPlMbPz+SzFI+04K0PXH58TqzyW4+wBtEPd7fED98TKs+48dhP1Vg3D3nehw+6ctMP3UyzTw5ra0++f21Pi5KyDyirp89ICMLO+G04T2lHzk/ixz8Pv8OdT6lOqg8a7MHPxWQwjpGi6o+yvkBPsiAbTydp/k+SXN2P1NHhz6K1w0/nNeDPsQCyD6mDY89cC4PPaX+Xzvi1Ag/9bPaPSJZzT4E2jU7/yABP4O6+j2TRmw+cloqPY3UnzrgHXE+iKWiPrHlXzpEN+0+1bqRPZS1az5yZks+MoMfPtWcBz695/g+gokJP8a0/zxYfZM9gUe0PiFTQz3IyCE8buM4O5esuT2ramU9Xnt3PR9AVDuJzP4+vJ3VOm+24TvbQUI//U/FPuakoD2vZd48IKZfPqo/iD65b3M+z5AYPaT/aj79zrM9MbfLPpl1FD4xkmU8SKQCP+i/lDtD3fI+OZoNPmbBBT5AfV87a3QHP8+eqj4BYpQ9OSL/PpACBD+vo2E/wKBiP3I0zT746849ir7RPjKt5D49HR4/A5xZO6HjEj5K4tg+k4yqPNHZNj4/3RM9AACAP7aPvD6lNBg/opZJPUDfuDwQR2g6NvPFPk5PFTzJJdI9PgOLPTiQyDzfxdg9CA5EPzW9KD3X9Ik87uYSPhauCj6HSEA9864PP9/TZz5uM0U+yaP3PDbp5j73IEk50OcxP2MlNz31v3E7pTurPn0U9j4cBN098zOIO/haDz+Yqag+uTGzPqr1KD0XjR8+vBADP3gqBT2NwQQ7iIq7Ps/iQj6IQUY8V9/nOjN3zzt3M3c/UYlCPkqEBD9qD8E8Y7ycPmDxTz457UY+zly0PNgBYjzBdsc+eE01PwGO0D3wBgg/VeIWPtMICz6Jfw4/60HoOwqBOj7UVAU9xSHYPioYZj6WIy084sM/Ps+iZjwRsxQ9fSjpPohBaj7awQ08wJhwPCj3OT8hlgY/uTPLPckrgT1eUfA+l0BwPlQF6DqqAFw+QMZXPsUh2D7yqqc7jJHNPggTcj4CuR8/fhMQO0Vk1T7XCqY+DucOO10gOT9VrVU81cgMPqDr/jvVm0A79TpSPc+B9T4Qf2I+qHExP2Y0PDtbdYQ+UGE7PaTCeTuBFqk6gIb0PAnpJD/B8i0/7iIjPdUPUD+I1Lg+DlF+PljTaTyfQhc+/4bsPqi/kD57ag8+C2XbPidDhz7PCbc+K4e1PH16ij6/t5A+jVErPpAIIz+mgwk/e7ccPioJMD6ESVw+SxGGPRBQdT4JfIk9bBqFPmRlsD4g87s9J6BhP7CyVT27YnI70u76PQXrbD3sjdg7X9PiO/4YUD4A/gE8oujNPuMxWz3L64U+kJJaP/AuGD4UTqw+mX6/Ox7Yuj4vIvA+j+mWPFa/Rj/Z2lw++yCIOhI/Hj8FszU+9z0cPJ8XxT2YbC8+azYHPq29kT5dbAE+MPhLPYfKaD0lTr059K40PrjwBj6ok90+PNKcPgFkkDwWlsI7pP/ZPni15Dyhp6Q+ElMoPkNYwj6sKIA9SG5ZPbBYND/LrzA/s8luPnsKIzyYkws/jj8kPyDYKz35AP8+wXD1PRIcRT3+Lao+u2PjPfubrD4viMg8so9VOzrwqDzp3as8dSyoPtO5ZTzT5SQ+fVQYPOMOST4/Yk0/WP8PP/8xPz/uRzU9drXoPWzhZD7J+Uk/drf1PR0Cqz1vWxE+maU6PwyeYTov6Hw+z5KdPI9D8T7kgZw801SjPD2pLz6/I7o+two+OmK6UT/qVp8++JxePkW/6D6/P+46E+h9Pl37GD4cTLM9Cf63PCoAlj5eTv09Q0QXOgSQPj8LluM74HOqPNGNTDyRuhM+QMCFPrNWAjsCzp89Yo6dPpas4juVrqE+WgJEP/oPVT0F6k8+Zu4yPq3QCjwiaBQ+4t5VPSh3ij71gl0+k6VUP5bNoTyiMIs9vFy3PsNXUj6WhWY/v8dDPH0SKD4dA7g64+o0PQh1TjnkGu0+to8lPhFp+j4s8R8+UE70PhMCZD54Ehc/Hn/XPWPiYDwYwP86199pP0YCmjuBaIM8yX0wPg+iUz9S9a8+5jnIPjPFfj7wW8k+AcggPTWogj5+BeQ6v1pwPko/tz6887c+QMdFPSimjj60nO09s6UKPz0HXj7D8Rs+AACAP3DFsz7hP0c/1zxrPl8FTz4OjxI/XhHIPSW1Azz+iT05KllFPtf0iTyaS4Y7Hh7OPmN8zD5wOIY8E9hgPuHfBz/SXgE90BW9PSbroTwaX0k/tXdWPp06ujo4aUk9+J3SPVhVlz4ZVyc+Tjx/O4rRhzrS83I963+lPupoMT7S5Dw9CmxHPTN8BD9Uhwg9ALxPPOzugj0Klqs9qBeAPlRrGj4UZE4+R6cKPWGCaz61Q8g8PXudPYr7mDvGUQc6G3J2PgalfD2bT8w9fSNwPXfdwD0rG8k7Tg7rPiFC1z4TCJE7N+8xPpOG+j37Dls/Y4sOO3rcyjx1/r8+8f1OOraV5jxrM4A8iM8DO6pyQD760aM+ud/FPPQ3Bz9Yxgk6m6EMPx0EyjzMgwc9LwaqPXNKzTtE93A/VefSPnIiZT6FRgs/DwBLPxFyaj4s5eo8/WznPfuHvj3pSfs9Jb5MPrlhDD7Ep0s9718RP78P0T4cAws/3xQ9PGntizxNYdc+6Fc/Phcn5DlxpzQ/ZuMFPWYNeT9jPTo/vvGoPRmAED7wfCk+/BOfPQxZFD0zxBI+CLw2PFEQqjpLIIQ8l3WmO5QMrj6itW8+On/sPiK/5z7ENH89o+37PRNrCD6Mpf8+o6QjP/4Doz2auV0/8DV5PtXBRj7r8SY5pqtTPB07kDzVcMg7rrPXPq8vFj5OBls+XITDPtLn1j5r4Dw+44yDPiAxvTxB/Qc8AACAP9es5DmRDUU8ao3WPhVlVj1aX6M+DG0FP7RDGzx6/HU+02h2PBUkWDyyd548rRDrPl5Toz64QWg8OGFKP0+XcD46TxQ/P38WPssYDz2gTSI8jnk3PqiU+T3LOPw5HPGWOxKZ6D50Idw80iPGOsHBDz7Pq58+ek9KPtTPZz5UIjU7M9VFPSpRxzyCYBI+wGWrPg6glj1N36U6YdI1P5y8WT67T/4+dOUoPUg2/j2/hRw/DHoXPgLvNj4y7AE9bp5WPhQ1rz1lQNE9yJFnPD+8cjz1fd88p/XrPaDTiD6CO0g9AQVmPs20zz6gYEo+l2HCPoqaPD+GBYw85kxKPHzvkz4r8j49X3K/PiuzLDnAye0+kE1SP610jT46HOA5wNi/Oxrr9T4CIF49M6nJPiA6Ej5VKpc9KilKPQGA5D0XrFA8N8AYPrD+ij0Kpj49Kmq5PpyC1j7Zg8s+rbUEOUUdET//HlQ/6rWgPsS53TyEwJY9n4PkPWeQhD4XEDI7WbvrPBPgiT6ZczU+cNzJPfpj3DtZJfU+8VpXPnh1Lz+xO609dt4TPippNj0XH4A9UfX8PSVdfDq40/k5k9eDPkx9sD6eIfE+phDzPL7NCj+oA7w941kDPiYdNT+QTWU/s/k7Peu2Sj67Z7A76HUPPI0Lnz70XYg+wlSBPaVHfD2+F2k7sQVrP1WTiz1apgY+foU6P8W1hDvs0xU+9BVcPVGThT1eNb0++PLGPSI66j6rbho+wnjhOZ86AT7SRJc9zNW8Pu3TPj7lUzs+pxUUPB203D4f/wI9f531O7vrdD+fB4k8IJODPvdJyzw4nGo/W7JmP039FT3jnzc+XuO8Pq2QYT7203089yePO7tmTDrQ04w+kVijPcIXHD+sz6M9xIIHPQwiCD1Qz4Y7aKcAP0HUoD0AOpg7JQ4+PKO/Lz7PEdc9lmUNPsi4tz1Hh4U95JfBOWfPjj7afzw+AACAP6vYrjx/nL8+86sUPRPJ7z01cAE9K0IYPfj8zT6C6o0+xYB2OZdcAD742/s7gdVYOqCFwT3Cccc6/awKPd6r4T4PzTo8i5p6POdlTDsDpfI+RTJBPG9Gmj5CqQc/8C4YP1ZKSj0nD6Y+udtrORTICzp4NoQ8rtXPPFlqOT/eNvc+RwL+PUyC2j43MCg7FA0jPprg3zt3kXY/bxzcPsNk9jpbfYA9LyY5PlM2iD6xGSQ/xQP+PNqCgzqgHyI+oiRfPRbsGT63HNY9L1SNPbaCFT5/tqY+lZ26PHu53Tkyd4c+tUYiPgAAgD8hah4+lkZLP7YTETzgKVQ/luv8PfhbPD60i5M5JvxZOd6r4T6Jib48tudiPprNaDwEaiQ+PktKPk6JHT+bIeI+uiP/Pk7g4jwoeLw7kfxyPw5SUj7K5Fk786IGPUgahj1MHJY+4qGQPVsRAz/EjCU8Cr2APcd1mjkc82U/yARAPsK7Lz4UcCQ+SLFHO+S2HD2FIqY+jQPSPvXu6D2GJCI/0DziPdhZoT4BfT48DSBHPd3Bfz5Ky4k8bUywPjWWET2Hg6c+Dys1PbxUIz6sTaY+jGONPDLjSTwR/nw9fSNCP8BAHD4wYao+4+qWPn8PZDo8mBs+IcLRPhhXJz4KGUQ8Jlw+PgYCMjvTCCQ+6DCCO24OqTwu/jI7tB0JP+kyNj4h0f89TWHXPics1zyaeM08IresPByjjT2pPgQ8icS4PJwjNj34OcQ+FZfnPmLfXz/Q5aU731d+PpsHQj/mg6s90orePD4LTD7tqOk9Xb4ZPFm+pT7GOHA+Qeb7Pm2v4z6npzY/+qO0PhHhID8y+Cg+YDwRPkDgeT7lPpc8cUh2Pb7/JTzbZEU8H9UnPjh7oD5QIak+LvOvPcU82DpZV709hWtXPiM4HD3DcfU5YdSDPnsThD2zs2Q7KCQyPI7xRjt5FUA9xh6QPpCVAjxlIcQ+HKM6PedixD7CrMw+mPgkPgdNKD0AWqQ79v45PEx2pj4Y4gw/SF0yPurIZD78Jcw+A1QIPkmg4D7YK4A+Wg+lPkgjhz49iSk/eF4dPB3Jlz5fmeM+0EQwPjgKDz88wBw8WGDAOg0VUT7ch7g9oEZKP8kP+D7/N6k+hDsSPlzEoj2lrpE+vSmVPn20zT7ZwQk/fZ52PfhYnT5GNIU+tisiPgOrnT616Q0/9+UdPGUPND5OQL06M4CBPpSBUj0p+y4+B5ZFPhtPqD6lfRo8GB8aPxXtDD1o8jM+L5zvPkwCUD7So1s7451CPQFV7zxYwSI93wnrPelY9Dwx1ss+hvclP0e65TqB3sM9lxPiPXmrEz9PXic+HVfSO6T4Wj3rKbE951OBPWAo7jy2puA+YMIuPqDbBj/lFYE+SxEZPgV3pD1JLSY9TIMhPU6stjul5rk8zqw/PSq8DD7/XsY8PVHjOb1d6j6HwJg+CRu/PqbGAz873RQ+BshLPtu6xj29JJ0+O6AfPfEy/Tz/Ur8+v2h2Pyj0sT3iXlk8p9ACPRjjST/KF1A70MFTPvaNUj325aU88mUVPxaHRT6WBas9DuJRPteMxTy0y2U+1bv+PvIn0T4i5BA/KjVfPuTstT6/lI09ZJMcPXXKXT59Poo9NcQxPynZfj8h6Sw/SbutPqhn8zxKK2k9nYJuPNGhoj3BqaY+3pPSPPB4Xz6fv+E+BYL3Pbt4Cj6KYSE+MeiWPIEx4T6p24I7q+eAPmi7AT5Pw4093D9APXzGKz3xw3o+ZdQBP71KCDvTr6087udqPm2weD/XR6M7aTYHPpV+Pz/+U5A8YUQ2P5RsYj63XpI+7fIBP9BQCT5EN+0+OhbgO/slLT7pQMU8r4TiPiTCMztBajY+2mSiPSQm/z1/8no9pzMuP0MAwz2rebg84KHLO0QfoDso0IA+RlElO8NRsj1d61g9Ou0hPjAY6TubklE/b138Pa9iiz2J4No8hiQiPyLY2zxG95M7t7NLPV4zcz9YRLA85qCFPXJg4z4cPrA980TBPeCxiD6WwbE+huovO1kLTT9vuoY+pDSyPh29/jvGeEA8uSUfPq5jjT3BcQE7laMaPkH0LjyRHJY8HiR6PsLEdj+c3rY9IbxzPMtYLT22w386frh0PoAvwz35vRM7NuNvPWykbj8rBEY/6tnAPC2stj0FEZo8zZPOPAttVz2VPsk7r5HdPs2Xvz5xARc8R9CTPG9tvT69sfA+XgJfPoUO/ztCBIc+P4+mPk62KD4aaGQ9ePbSPQMwGjyVGgo+h+MEPq57MT9g7gU+z5zlOwgTaT7qgrI+LeHmPeXDEj9CZ947bgidPuG04T1zbwA94TWbPuw9wz3NOS4+oEYpPJN8tD1+mIk+HwdSPkMEBD6kAhU7P60TPYazzz6YsUg97RibPT61Hj/sufI+wW//Paf2NT5I7ao+GDrqPAK5Hz9wxx4/qX/BPu1mujq+dYo7cR9vPvyQSjs7Sxo/nl1FPsy8FD4r5T09UQ4gPj8+Cz9qaFI/UszQPo/XZz5BsUU/kKEBPwiE8T2g9pI7dWSvPZRJbT20nig8/DWjPkSxKj2rwNc9CtzoPQ5VmD4U6mk+bi5jPlYkfj7couY8yUNNPQFr6jsTYSo/2XagO9NbjD6Iar0+FAb3PhoFVT04/s47BMwAPxtJWjqS/J8+SIojPLc6qD5912c87gjvPabMsj4UH4o+XdycPFyFCT5QTUw+DFWpPif4Tj6Y7A8+egNVPrtryzupFnw+mGeDPmERWj/glHc8ICB8O+Pwjz3APpc89Vy5OmPPvz4sY2c8EJznO9Sv2D6+yYo93fnhPUstCD+uhUo8XBIyPe1z0z7dL4s+Yl6rOxb+8j1+VRI8xWb7Pgk0bT48mLE9H2n+PTF46z0x5wM/qmO5PhgauTwM/Yg+xH9mPc99Bj4SgsU9WGZkPFCLTD/m6lU/28J/PCnn9Dy2q64+TYkNPAAAgD9KbQY8xpqNPhXGHzy3Ck489F1sPMcojT0dMxc8Yh2QPuuU6j5ciww+IY6APnNaCDnqNv8+baXAPR1IMj6hKAk/KAkFP8fRNj0SzF8+fH2hPF3ZMD2B6kI7GInNO3rjMz5w2949EBDXPEro5D2F/vc+fpkFP4epTj7zRME9R1waP7g14TuMIWE+tlZfPLL/kj7DXh4/iqJsP0EfLz+7jac+FXekPJFfLT+eZpg9LFT1PbN9kz6Z7C896FNnPgAAgD8JyY49YtUZPtzaCD2soHY/BjKePLY8rz5UOnQ9Z6wzPHXugTuj6549dykYPRNkTj7jUXg+GeinPvovkz6ML1s+Vn42Psj/FD+SjVQ9ZxmkPsbhoTwWI9w4eOsRPj4ALD7zp8E+38YVPlEnOT7iRo4+rFGCPQh+FD1A+XY/Xk0NP6GzvTwotL0+8dXsPuGwEj6qR8w+l8IbPt4iXD/EzJo9S8KsPvEEKD8DLgs+h2HkPeyVeT8tBw4+GInNO/L+uD5ryLM+sOzFPIugiz6+arc6LTKzPc9p6D1MjS0+oz3YPnf/Vz5s4MQ+sKYgP8CNMj86Gss+OgW9PPJegD5fAB876GkIPybzdT56W3E/cFuePWML1D0PwjQ9d2z7PFjcTj5X2o49DwoWPfxwBD+IhZk9BbKTPomFvz4PlhA9YfBIPrNUtT5rWnQ/iM8DO/0nXj580f88tEj3OpCeoD5m7/s9jHnmPKXrgD4fMD8+/7wzPWTfZD+YeG0/CY8/PjsuBz9w7aY+NHN1P2eASj449ds8V4dGPToayz4zgpo9lMAJPW/uHDvDq5s9YgPTPhrOIT3Wx7g9xfIGPvEYxT7TMc4+DaqJPihAIz2Hoh09RiFJPzf5oT5mImY7ftzKPGSzAj7NCvU9w+/KPryA8j2lxPU7LH+KPS2iRj3Hgoc61q8/P+yFoTyuaOU8SGXQPC8JRD6DdJE6I5z1PAzKkz4FnHA+mXUUPp+o/j7yCo48aBo7PxKfMjyCdzg/f531OwHz8j4bMWg+xXXPPinN9j7ZZNk9upCfPbxpQzxeujQ/crMVPTt4kD25Gpw+TDY8PCcVrjrH3go/BiVQPfE//zsYVyc+x1ilPsIHjzvRNiQ/F594P4ZJFT/Vx1s+EExaPvaSKj897gY+7d1YPK7ryTxi5D08SGGcPdqkVz60RHg/eie4PcwNwT6Z0Ig7JT5dPHOi1To5qF88R2D9OjO0qT7SV4E9QWrEPlXajj0KAR89TFl6PHhZRzzpZHo9pxWhPeKYND9zYyo/NnIcPpCWRj3MVQE/nTdcPosnsz0kLeQ+jjNrO1JZzT6Zo2g/sPV1Ps7iBz5i4Nc8uhIZPlb4qDuYhGs+blNePjsWXD5lpXU+hlFBPo8Wqj5y4MU+b/WTPLs4Bz9laMI+fVmrO3PIqj0JpqI9WFitPlM6lzwF7eA8jFO8PWnMuz71ABE+ylw8PxUUAz68sKg9E9nMPfirGT78XEI7ozulPUGb+T4Ml6s6/dUDP1LThz4cQJM++KpJPRagQj4o96c8gHHEPlUJoD7n3Z8++VaPO/NEwT28xUU+rPcbP0c/Cz5K3rs+F3CBPLBTBD5wCpE+b4PQPjsabT/QME47JZsYPR3sMj3thPs9kkKVPjbhyj40+0M7Sd3vPSNwFT7BUFM+LUz4Pmuu/T6OFIw9NKK1Pu1eYz7xF3g7tzeCPthCKT4Dkgc//b1wPX3LUD8BkG88wammPr+xEz7+EUk/ZsrLPW0CBDug/GQ6LN6+OQmM7zwS0AM+IcEiP0dRAD/rmy48F6j2PJqfpzsjcBU+rGYXPr+LmD49128+TnwdPzVwJDw1BNw+tEZQPmN+Hj4ea1Q+T9VjPSqMmT5VyKM+xXjTOog9ejoDE6I98WYXPpPNxj3ARrs7nmH2PSeV6z5M95E+AEboPuwN/D3dvz8+nwvWPAJztTyD200+kBG7PNO5ZTwP1Sw+owb7Pt5DLD4qUp49bvWjOQeWBTqoBEU/gZdTPdtiDD+V3Ws8pknLPoaBBj7mtDQ9bK81P9shkTwoSH8/nS4GPztvJT5jb6g9NfQ8PlRq5T6itWQ+yjcJPfN0MT1c52Q+PTCJPPkRPjy2rZs9XnDEPQ1ilTyvgJI+rPNBP7uYZz4bcnM8PfmCPvoQBj8ODY49xyOhPJ6PwD10JQk87/+WPPXQOT55pU49rKdVPdWLAD+Pdaw+usNzPmXSSD9FA+M9KdcVOXJbnj2p/o89jZWRPCPBDjwOJgE8atZfPhZ4YTvUHbY9eNYzPgLgzD7d7Lc9FQC4PlZ5xz71IZA+K62OPuOpIz9eRBM/NjcZP5R3ZjwXQAA+ldm+PqqSAjvv7pI9KLpMPmP4sD124Ok8iJuzPhOf7j30juo7DWtMP8P8Jj57dmk7NIocP7911z7jXos+24vRPPZ9uz4967A8AjkdPt8XUz71DQ48mBcuPhIInjzwxgk/4GAPO9myTz+aF3w8VVYWP6CcDToAa+A+KOXGPQUNOD8GiJc6VbxUOm87cT+mS44+UrIPPhv1+z087gY+acTDPjEbKD5adYQ+cAEaPivqXz43aW8+Yvu+PGIxwz60RFA/5Yv3OhYt/T0iu5Y6JcXPO13Uhj1dNFA9ckuCPOTdHz9nLBw9/vVfPQM1zTtgyzQ/DQHgPhLk2D7kZTw9mRQvPpQFzD75V0E+2rx1Pm8Lzj084sQ9GaDaPuRarT6HCJQ9XjakO/jiBj4b9zE+LcBaPbIDwjpO3YQ+OBMrPvTF0T4s0hE9C/0sPFLWUz1xH28+no2BPoQzujwrPS49U8yDPi9JnD4MGmM+c4TTOxn3OjxoPyw/zLqTPkf5Cj5xpxM+TbFdPSPyrj7QJ7o9uw3BO0d+kj5RE849zsE9PtdXhj5D5aA9sgOPPsKBhD7N3YM+vO2dPrw4Yjui8dk9foVZPn42Tz6h1jI7+PXYPS//eD/AssE+A1KYPdarjT6kaZI+4EJQPkNfsj0nWlA+wqGNO8biUz//eoA+G0REPngB0z6g6/47qa6JPLxXKj0z6pc+iwldPgAAgD9DsYY+744uPGzkRTwOQWk+yo9IO7fsrz4LnDc+R7rlOn6voD49mBs+BlQ3OFG7Gj/fKHA+JRy9Pf6g4z4S5Ng+I9TQPgyyfTyg13Y/D4W+PcALtzz0jxM7EkbxPlLtNj0mV6A+naORPkhMnD4yzOc77GG1PIaYMj81GQw++AdAO5CEbD3+tsE9huL7PSHZXjwE4RY9YXcpPmtzYT9gmXU/7k8ePxbRQz679Q0+r2yEPWO8Sj1aUW4+cELcPiaJCT5+fwQ+CKTyPZ4VXj51h5s+iZsrPxqWsD5khxQ+dRVAPfDIGD3YHCo+f7+kPf+apzwhxxw/WH+3OxN2zDzNCPc9QBBpPZQ9MT6xpe85dy7hPc8KJDuCWsQ+TpGEPuO3jD5FUPU+oQvVPTeSJjwsNYc+5wlbPF2hYD1aSK49OQiNPuH/1z5KfGE6cs5mP9L0kDqEzh8/MLXLPUJe+j3N4YM6tOkMP9mfoz4zZB8+Eh3/PvkoTT24SME512wQPbK3RT4EqSQ9jxAHPTQHQz7XoQ8+tgfsPunplD2HA6s6OvtDO7xH8T1pq9M+QylTP/ic3j4shu49I298PmhvrTtskTg/c2MqPxh+3jwhj00+1wvrPhStrD5fe6c9FXS+Pjte6D7Y5gE9vEi/PuOKAT/RKSw+wKzAPtQfSj5u0cQ7C5TwPO3arDzAx5c979sSPg4f8D4UmRA//tQgO9ucGj7uI9U+qVfnPb1QoD5dDHc+rayBO8mfnD75C+s+4QHcPpgMVD6BxAs9l/QIP8S3Yz5zMgQ/EsG0Pkrk7DrMGng+P8c1Ptv/ST0hgZk9lqiIPIiZOD98suI+Gi9EPjCHpT4YFVA9cPiZPBQ8HTvr4oQ+CXCKPtCdCj6gaxM/gA7FPWRV1z7/x0U/AOKaPq9RlD7u+CY/d7LwPrJUND8TdxM/nYc7P4/HFD+a8D481/SOPNrDwD7vfAo8GwY5PurbFzx+Yw4/QZmcPjBHiz6MIWE+UfARPzEqmDsOIrg9DRSmPO1pMz54OGk+o4t5PCuZ8j6wl5s+7IxkPmN5Oz8TTQ4+k7w/Plx7Ez97hYA7MhbrPsUh2D777yE+Mqp3PmQiSj8MGmo+8zqNPl2jjDphu4E+NAuBPhyTxD2kQn0+HPwAPyQ+gDz4I4Q9OVmkPXdORD87PQ87ovZHP5hJJT/bPjw+nEqrPoAc9TwroQw8Cwd2P5U5ET+lI4k8JFFXOpZHEz/PkBg9TiH2PVS9Nz7blV4+8OIHPm6HHD9LFMc+XXVUPnlctzzByDU/tciLPYOaRz8nJmU+9GNKPnHnXjufzKE7JI5IPl281Tyj5uk8gSSPPhTNmT0Ht4M9LyOLPVsG8DzhCyo8drJ9PfubrD5Rxdk75fVKOuZv9TtyMVw8EItgP+v5HTwypyw+gcn5O6y2SD5Aw0A+TLYRPx3Yuj7v+Rc7vdQRPnK+ADvtWsI9lPucPmwdMjtbeZs+C2ZsPnysWD7WDnI7CBgZO+AyXj9YCcE+WlLFPnW1Nj/LDko+wOQ7P5zaCz87Xoc8jcm6PHNo9juVrXo/fZozPyVDNT8PgW8+3niPPQAAgD8ceOU6G3pjPt/POT3AVAQ9MAamPoHUhz1GSCo+h3onPvCFJD+2w4s+FL04P4/eqzxsWKM+aglmPRhWTT2zfxg+GlNVPeiILz7GptM9+3KbOnmL/z3f3o49AACAP+ymwj5MPjM6XwAfO1QPKz5ZKvs992trOziRkjwWaRk+TLdAPzRIGT4vOx4/ACA2P/Ue4DzHzLc+4F2nPhNmFj/2HQc8oJRHPnlpNTs7F8w+F1YIP7Pf+T2QNxQ+MgaqPcSlIj7y/yw9/wp3PXSukT7oDfw+DfyOPiIynDvMfZY8YI83PAWW9TxYoh4/Sl4SPwb2Rjz2sRU+M3wEP80Vfz+aSLI+qjWPPkzZPDxPNUo9fbFNPcR9uTz1y1c+qeYXPJ6Imz5m/SA7phvwPSmSoDyx3BM+99HlOt9NPzwd/YI+h7jaPMYGRT1Q6cQ7g1Y4P1PmQz6UqlU9/T4qPvuH+z5A14U+98mRPgRL5j1Z3Q4/sYkPPwjnwz59i5s+HFBBP3uAGD+WxLI8GXtLPmzQ7z6Ni049Gh8GP4/OJz5xYj0/wfToPuiFtj4vG/U8qQCWOyDNhT4BjtA9SuAGOpoXfDy9c+g+UXNvO78DPD/z1Wg+2cigPrU9ST5j10o9uP6YPrzXjj3Bsrc8TC/yPuzqhjz8dDk/MBmAOcoo8D78MKQ9P4gEPWYYKz4d65g9dE6iPogaHjuDFs0+Iw/jPvrdLD89zLs+bhiMOjpGhj5d3606M0tSPnyOJD3f/2o+meW/PeXDEj/P4KA+Mf2zPpNFojqGJe09IbelPjP+VD8fXas8nlZ1P2bVqz3goZA9xoioPTLEMT/fxug+sJOoPqrzLj+7VgI7fmZHP7S30z0KrB89SXP8Pa9FVz4hHZQ+AACAP+ERhT7rt50+cDUSP8l5vz7Ytrs+zoqdPjWiiz6e5rw+NoQUPg+i3T2tsOE9XQPUPjHcST9lRuQ+/yLAPB3TNj9mhsI8WlyOPi7G+T1jdO0+ecHvPkxzUj5byHo/A+gSPk2H8D2TgY49Cv2bPb3Fsj331Xs97MMfPhyNsz16ACY/SXxhP92aMj9qI8o+/TtaP8vh1j1sRrk+UmJXP5QbXzygdUY6QNmRPFSH2j3pNhA+iLfzOnvqOD9TuiQ/hnWbPsPCEju+BYQ9Qm/CPLUqmz0alrA+cB/ZOx3sMj3dKx477geQPEoeyz25YQc/DNf6PqOrLT7eJ4g+X/FHPghxrj4v288+LgMZPqu4rz4nSkU8rkEKPQjzHzwoEGw+PtT6PlLAaDy/WWw9bR6nPggVHz4MJjM9LsY2PsJpsT1UW0I7zoETPUCnwD59zP07Y2JHPAmxUz9vv+E7VHrRPe3yAT8m40k87OojPC0I7D2U5U8+q3EVO6s1aT1SzNw9reNNPfmgeTsbD3s76o/vPva9OjwveLw7wSd2P7mCiD5QVpQ9CyCvPu/ihTy6K/07rq+QPZH3CD78Jd05bggIPvKa0j1wPrc+IHqFPvEEKD/L27A7Uf23O/iQOD7qVqQ+5oKCPeNcGT8wbII+H0PaPieOUjuyxIw9En85Pz6DKTxUOnQ9POEqPdVsVzowxC4+l+ugPtjcRj1HzQ4+EjWvPVoE0D5N0T49CfeNPIPyXD5yA3c9xdZaPi4CMD4Kpho/pU97PotdJT+wGNI82EsUP1SEbj4fwXI8ua0ZPmIJoz2ol6E+DakwPN6cZT5HlV8+5RChPJpl5jspJ60+xDJbP4ltdj8hAlg/vo+6PiBz/DyzT2U+KZVfPWyU4j6K3BY/bvEMPoB/Rj+ZVbo9vsJKP2gjaD/1ihM+b1dFPKYzUD7sz64+i+FtPZh8pz6yPug9hcJrPgxAaT5r0oY+oA3lPmbQBz2Eho47n8CAPNFgvD77OxI9oV0aPzWrgD4DtLE9ZntpOw6QCD7fyy49AACAPwNQAj10/KY5FQRQPPhooT0AAIA/h1FYPQAV1j6F29s8DYgsPwrgqjrC6Ds9CcrIPbXV+TkYic07B3JXPWKueT8/kAA/zRFXPjntVD3wdYE89I4NPGZZRjx3kVo/CfcnP3cgtj5GAQc+MNOwPSQ5CT6Lcyg+3FodOxbuqj1z7CA9XSiMPWGOAj/xKsg+rOFOPunVMDz+F5E8+jbvO1d4GjylAYY+pOzLPmyMyT5/b3o+hDl6PmULyz4G8QA9uVFAPW7YGj6hxdA6L0wuP9vmWT9+wBI9tpSDO5GEcD5S/VQ8wIvuPogw8zolVh0/DKgRPmgrOD7urdw+X5V8PtrlhzxWDkA/l+nIPeiBOD4seJ48RYjWPQV4Aj7UaJU8eQj3PWrvED4b37s6T9QbPjcFoD6qH30+GvV3PZhPyj1RqIM9JtkKPnPBEj/ZWlw+TDYqP35CrDxX4Ys+LZiRPRS+5DzfZQM9zM6jPqfErTwKxmE9ZTPTPJNROT6zOR4+RQU3OzMqFj+BjkE+f9pHPmU3jz4YE0M97jy5PSBrlD0ylj4+CFHZPDBaPz+UaUE+MU1TPRop1T1c3Qo/vQEDOsOFUj7FxUM++D/RPmz5IT8GjTA/a5NbOiGmPD5DL1o/fV17Pj1XNz3D/CY+sb3EPrGcqT0Yz0w9VYIrPlqqTz7Su7Q9T0W6PVQF6Do2pIY9+6usPkB5sT14tJ49yx3WOyaMRj1C3BQ7bWwePQdJhz7hN9w+g/QcP3HT8jy5L6E+m++GPqWirT2UbyA+Qoa4Pg2Bbz4figQ+QPvhPRop1T1OXic+zxYMPmohcz5pmBk+vNRVPGzMej8yLdA8voBvPsbZ2j5xJpM9u/MSPgEatz7irgY7RFO4Pua6hTtImkc+ASwqOw7FND/KpYQ+nh1MPsXksDwAAIA/L3x5Oly2nj0WkBQ+CV4gPlZZwzse0lU+mcokPbbt3DwBwdE9c8rPPkgp8j4CYUk97RgLPp3VrD6GTzs/uEX3Ps01nzuHjE8/CNYuPGG9cj2brYQ8JQe3PXexEj3vzno9uMqhPW/5/T7LeRU/qRc4Pi8u4T7k2U09N68MPwLCDz8ozMg8ISaKPPUYdT4grR4/TOfwPYUMpz4LlsI+2pQ/P85LRjtCzhI/LlCpPbc6Rj+YVcU9R8BnPR9TTz/eU/k6xlk1Pyt9nj1eMyg7iHxYPvN13zvj/t09e1InPS22gT6nBUM+xpxCPaC8ZD58DyU+90EwO/X3kDx8NMo+ExK3PEJ9BD+D5nc/xegLP33bCD49aDU7wbpBPlRbQjsgxsI+fAeQPgAAgD+jJ6M9d16oPJUndz0gGMc8G1U8PNMsvT10PpQ6EK5CPko8Wz4sqps8t6RsPbXx/z68Pl0/eOY2Omvwsj5aJj88V+7mPiXx4D7cH/A+B04gPvJ3Fj7VgpU+J1lTP/suSD6ljtU7spCUPs0yAD1kGe895mF2PM/OKj9JSJY7XrcFP8ZWFz7U/AA/GinVPX2HQD4aeD0/FNkfP1ARUD4UVgI9aQUIPYaYjj6gqgs9utBQPt7SNTvKNRk/wsTNPmJrMj9oU+E8SyVkPlZcAD5p7oI7RiAXPw23vj1zecA9e1tXPZBU7z5Sn8k9GV4nPPtwWz5pbXc+/jFqPbvD1j2053I+k2RmPiZ2KD4f/bs+sVwXPhRrGD4gHIc+vIcfPVO8sD7rDgw/lPqNPcPtKT4jIOI96qFvPr6MpT6n5kQ9DbiePqvtOj94yvg7KBltPBkmHT7rXKM+HPkyP9rb5T3V/mw9cyo8PsSoKT7zXiY/wsM5P/Wb1z6dcgE/bMtXPtBs0T5/s28/DhEFPodNuz78Sbs+dA+IPmLlgD3EZRk+8IQMP4zNjD28Gbc93J9QPoHdCj91bFg97VXYPb+FHD/WkoY+JXoDPYCV1zsDPAM7z+KpPd4M6julxrQ9QckpPlrksD1Dbaw+PXuNPl8TLj4BfZw+rlEvPNkExz5N+Yk6YBFNPV6vwTz/PjI+MTkAPrzxpD7qyeE8Tzz+PHJT8z5B1Cc+q6XFPY3+gD7vZ2M83aiyPupPxD1L8bc5njUHPz01Jj5fAB87uZiJPe2tLT41BlA+I4VSP2rcvjxmZSI9zULNPmyCsDxLuPk90JzQPi+hDDzvUQM96RUaPd1Jszqi/4g6Fo2LPbPF0D5iwlE9maZQPj5kEz8j7lM/NuVOPgVNgzwCuR8/EmntPYXCaz7sNDY6Hp6xPGLyRDtf27Q9ZTIIPY1/mzqJuTE9VCyxPW3WhDtx+fE6xSKJPtwZbz44uRs+39qTPfLwtz6SyrE9ig6gPfDTGD66EdU+C4iePpjmeD/pBWk+mgC+PnxMhD6HNZ48wu1HPM9vPD2ENH8//CRbPsp11T3gQlA+4otWP8AapDtGkCU+2E87PdRreT5aDlg+nOcfO5wO+D1wUvY8MO+FPbjwODwUGbU+I7LHPvpTFTpHxcQ85EWiPJi3xj3B/QA8TUebOunIaz24tyI/d/yGPu4HkDzz/H4+7U9/P+/r9z21ePk7C0nhPOzP5j5K6P8+bIRAP1Ktqz56/eA9EtBvPvGFTjwciWw9iXqnPoOgyjuv2Ss/Hj9wPjsqWD93+Ho+n5nROniPxz1rDyg/y2m1O1XJcz28zyY+mqzePPhooT1h5QI9m7EcPQg4FT/W7no+uxE+PshqHD64yqE9rkl/P3PsrT4qKcI+YMIfPP7o0DuDTMM7FZTfO/ibmD5ujxQ/qOexPKhMpT3fiyM9bBUqP3zVhT5WEiA/DutmPvTR1D5qzPU9mITSPETbbT7TiOY+5aLRPvACgjtwTZA97RibPTSR6j5FDl8/7/fRPa/sEj56Ays/zwjpPu7E2jsAMKo7lUL0Pj31GT0JBLE+nsFeP/zSlz5eJpY6jLlkPqY0nz5SaWE8w8rhPd/POT0AAIA/TlaUPVkg0z1gxKo+H9UnPjYQ5z0aUl0+PEj1PGfZKT8M7Dw+zwAYPrvh3D6iSLE+vo+6PiKkaD0FBg8/NpmFPsMheT4pEUw/2DcVPhbYeD/vD/08eS6EPTXuojzgjGU/qkHDPhTuzz4lwuI+MAgrPbGWgj0ewAo+zmrRPvlLhzyOTQE8oYVDPq7V1D0xFQk9dehxP6L9iz6kje4+7PjRPbhLjT3bkXU90WQBPypSLD2YUc0+JdQYPiWJxTvd7c4+JjG+PKC2RD0TQSM97ZroPQRmpT6D/Ek/zl4aPzN8IjxAGNo+jEcmOlRzRT7arh08L5MrPcERsT5znLM+3wCpPpgmijzsdFk9qhc4Pj2VPjoBdIs9d3UBP4R/Ij+mfJE8q09JPz1ASj42EOc9V5TyPs9rnz79ffc9JsUFPrNugz4KXqs+N/90PZ7NXDtv6ak91ErVOpKGIT1tdoU+45zTPfT2nDpRVgA9oYIZPnJbnj2e9F49b7mjPSwIOz6Bw9A+jH4oPWZyoTpr9Sw9bwvOPQWV+j2lPbk+h90CPwACej0d04o+HDHTPTQtuD1HrtU+o5KBPU5qGD8WThQ872G4PtRUBT0OVAQ/HH8DPj0hhT2jqDw+AACAP0FClD0EPqU+j65EPpv7YD1v9Zk+FykTPY9Rmj1ostQ9MWCOPbCsfj4OzPQ8k1vAPedzKTzZZnU/LwaqPddyBz5Wjio/MrczP0x5bzwp7JU9NPMfPvvTGj8HmHQ6KTgYP8DBeD9fiGM/fQuzOndGZD2RCvI+88MSPhX1fj7/KAY+ZEr3Pl4Ikj79omM/1VuTPr6Puj6LWzE85JsgPpUMNDv/bnU/KgTZPrTEjD34q+k+wqZTPjGbtj16j5c9qW9fPimGFz6PBPQ+GxLLOwjpwD4thZg8uO4wPvj6SDybncU+BoiXOsEMgT56N7A+HJnrO7KjOT3XFfc8XOC5PtbmAT1rjjg9GkjIPQm+Qj6sMUY95RlOP9ijPz4ZkHw+2pkWPdacsDtb57Y+YQ+vPkx5mz4NKHU+LgPNPtmxWDyJWa0+idqoPm/E9D4f1Sc+RWRMP2Tfgz0elZU5AjYcPon+rTo8k4U+0wRIPnl3YD6fAds+TySOPD9vhj5NvBI9zfYvPwdY4T7+fwY+sgPRPNUxpjwMJIA+jCznPZ9YFz/iiA0/pSOJPFAQjj0inEI+8/70PtehDz4fj2Y/azYHPjEpKz6gsBo+d3kEPZWTBT6Z7lU9SZ+IOzZVrz1Fe3Q7ogs0PysELTxqLEg+fIB8PWmYlj1XQEg9rcoCOxGdqD68NzI+T5RlPdf0iTz7ZgE/5k/EPfMGSz3mEfg9cfHcOoWd2z4h56k+5v4fPyU8ET9tzkQ+j9d5P4z/Ij8Li4E+vN0gP84S6zu2MWc+tZmmPHcmZz4AAIA/47y5PvtwWz7qt7Y+G+xwP1VkkDxQKfM+dwKDPhpJ2jyPNes5iIpePN0hAz/2TA0+MTLzOqZpuzyXDok+BTBIPq6ckjwZnQw/pYoEPiwFlz41x3w9OpSMPuBdpz68EBo/5vuBOkzkFz9+sqQ+vX+2Pfz/Dj/uheg+XKffPcmH3D0dlfc76ad2OwAAgD/xpqY9u7shPdLcSz1nGcU+YLlkPPFEQz94Kok9vTsWPWNXCT8jdmI7yHrWPrdNSj1d6CA/6FNnPvvDGz9ry1c+yjexO9g8JT0f36E8AhqBPYl9KD4g+y85XDS0Po70ADtFI408NicGP24BKT3VzQA7iV1XP0PloD1CZoY+7aTEPpUUAjwQjKw5tAA5PJyPKj6K+PQ8j7ekOTh0Fz0p/EU9xPokPg+aTTsUunE/6vjRPTLkuj6QUyc8n2RJP4HiTT9cZCo/nTQrPgvfpzutqW07OI5yPiIbzDkZVyc+v/9LOzSnBj4Mkfc+3DUNPsOzdT+2v8E8I3goPRhvHT100yo9lucvPa1ztD6BDy0/xI+XPpDAnz1UOIs+bWRBPCRkaD4xAyk9+2+VPoOVGz0DkeM9hzhhPXo3Kj+RxsQ95QAnPoypmj6J6Ak/FbQYPtcDIj6ssyo9C4cTPosGBzmVWdI8FQ0iP4mFRj7T/Jk9nlNkOWEGMD2+Pus6Q9nmPcrXkT40Rw4+fWJkP3qewzqrkuw+dyRtPlw0MD5Dyjk8cOgDP7hihz0lphU70wbXPul+ED/CKf49jmTfOwFPQjwnLvU7cNthPc4n8z5uNeA6eJBoPqHkaT4dETk/y8CtPdswfD5Duxg++48tPDuvRT6xZMU5OyehPdmcGj77vFQ+zsZlPs9wljvgQlA+ezwrPifHIT9By2I94KsyPmU+1z4b/pQ+BOV6Ps53fjqj8KE9s/wfPxdZETyAD0U9Cs5rPvDbMj8bYAw8PKsJOzGkoD0ktYM9ZyvcPqldwD6UWmg+isRYPl9oaj64DEI+5IcTPt3ICT+blKY+NqJoPiDNhT5YAzk9SH8yPuY4Ez/Yh5E93birPRNjtjurU/Y8sX1xP61nhD7F3pA+azVnPUyLzjzHwDk8LQilPW3b5Tzf40s5BJWSPqJMbj4Awlc+hBoGOqEofD0iBYM+IwybPUTzbj6iBmQ+wA2jPsU2BzwyaSU+BOsdPYdNLDxbrYM+MjLIPrpLuDts8bc+ierJPlA+Ez18ugs+tw17PPJHHD+nYaM+DWIwPQLO0D4SPAo+mxf4O3hfZz924zE+BxNpPsqoWz/Wdrc8+wgZPgtd5z79a8o+o2ZpPS+cjz5Gozc+VcNHPZRwVj9NFfM+J8sGP4rGwj07MEg9dyunPqMm4z0EjH4+MYwOP71VSj5lk7Y9Tl4nPjjkjz4O4do7j7r3PvtYND6dQS8+tiyTPqcAJD/xZRE/z3NAPmSggzyO6Ag9W1JSPHh6sT0G9UI+e/vxOwT5pTuqO10+LjKTO+ap0D2u7gc9Pe1oPB7FhT3SzOA9ornmOyfBQD9nhJY+s1SpPVgZgT0xnVM+1gksPFjxSDy4akM+yD/0PWO8nD4C17Y9hYioPYu14jseJI0+0iFBP1xdzz7BH4M8ji39PDHhiT4AAIA//Wd7PofRpzvwT+Q+b5ouPvp3wT75nmU9v7mKPhuUDD4tnow5yDjvOiVdVj1N0yM+dSfyPrRDFTv2HV89E7SUPnP+Ez3XJYA+lM3PPLQ8dz5DnGs9sZvZPgElOT5rnvY+szADPgjAPTueE+o9Rt7YPT5HAz+IHzg+ZSZjOuLcEz6x+Zs+EeIbP7fXQT/OhPE+WSvXPAdoDj/oazE+vERnPV+yrj2lT3s+LW8pPrgIxjzphHU/fLLiPgKIlzrrM3I8ZBWUPPjMJT2/OSA7V8jIPkQgAD6bU7U+c+SEPmvk/z4QpfA9W5rnOsNv/z1Vdd8+IR3HPHE8Bz/vDUk9lGlBPuyuzj49l4g+3HzdPh64hToE+aU7ckd6Og8NTj4Zn/o8xAYhPmjbJTvBhQA+0T1vPsa6rj5VLHI+EFEVPy2d2DzLesY8pYKrPkAAAz5Jypo+Hi2yPHROoj708fA+kBWzPV4H3j5GAqE7UQCZPEoyvj0HdLs7kPz3PRFcfj8Xt08/3fZYP9vddT0uk7w9m8XQOuOICDwncec7mFHNPh5+Bz43DSQ/25NsPiGEJj/lAKs+kG+HPWn2Mz4+h2k+i7ZPPGPSXD0bxh88glFEPh18Tz7AyRI/a9fEPZJGpT6q0LY+OkbMPEQxDj7ALGQ/5fSLPaAtaj4h6wk+3rqjO2XsBj9YE+48M0uBPbWYPTnJteU8aPOrPmO8nD55LqU4jViFPGSIqz4AAIA/EAyZPEPcQT5gMAo+GC1WPcc+zT5Rfnc9AiBePapx7T7q18U9TG55Ph9XZD27Bxc+DcwtP5AL1D4tacU8Cyt0PkPd8j47EtA80ye3OuyItj55zbA+Cc41PbxwiT1/41I9NP1TPhmnhT0izIQ9YgMJPlkLOD62RiI+yOE4P/p/+T1rZzk+9vbWPeuE0DvCHsE+azRcPTMMGT6uQFU+GVcnPsABBz/zK/s9NYOSPixOhD4tBzM+2J+tPs+h0D3y35g9YCWDOyHlbj/9mfc+N6hsPWoUQz9VxwQ/l73FOx4dyzmVCms9FC/8Pv5UfD6VNig+DT2KPqRS+z38WEU7nF7IOlQF6DrzXns+GI6yOzHMTT3E8rw+ef7gPE9PLT3sjGQ+WxTiPMPLvj6ZpSo/rlMWPxQnFzqInTk+3PJxPsajLj5rZho/Ni0vPaYebj4vUIA+Y9DLPqSzYTu0IAk/Lgj6Paa1/z3+lfw83vuPPnqDYz7HjCM9l/HIPtfIbD4dNEI6PkhGP9ulHT8mgws/AiBePR2gxz2Qd+M+UOY2PiL+Yz6OZ9E9ajvuO2XQWjzm8KY+GX/OPbjuoz5SupM9FOsAP9DktD0kHBA+eRGgOjySYzpoAcs9FuxoPvomLj8ZcaQ+Z1AoPJPp9z1SFv45CaEfPvdEgjzZifA7PvOVOxPXZj8QDpw+csPbPoG6Az70xeg6QZV8PrCELDzogwE/6RGfPWfNiTtgqe49G5pZO32f2jv6oDE+2k4EPOhfFj7zCN88UMCkPH10Bz4Rs4k9ioVGPvv31z03YW0+R14yPh3m2T2vnuY+PlXZPX4+1z3KnaI7BzXLPiFLfTzBlnk/ZcqgPsZk1D4BfsI+NXsePfS+Mz4ruiU+6TosPnxyAz/6MXA9jNW7OwkeMj4nbdo+5XtXPU60gzt9Q24+GpEcPh7oKD4c4LM9gFGMPozsqz5WT189nqGtPSV/pD1K5ho+092sPvRlqz5vpb49rNfKPZA2MTsiHlM5RHJePpkK1D2vHqI9T2iQPSjfETsgr6Q+5kKcPipUqj01yfc7MFEuPt4jxjol1Rk+osCIPXuAGz59AUw/fDaPPgSDqj0aYIg6soefPgBYlzzeRfQ8o2OAPe81ETuXHV071zwSPrwSJjtkXiw/HjINPNbxqD7ORNk81nezPssczj7RNiQ/75P1Pi6Igj0K5cU838GcPR2d6j2IQHE9Ni0vPdHBPT5PARA+WGLKPnXYRD0AAno9lbVrPmwJGz4k6Fk9mxm7PrDTzz4rLvg8DumaPdyuHD7+NYI8/7iLPYPxeDzvd7o+UCu+O7jGwz67GP0+2XjbPa9l3jwztlE9ON0jPhj+9zpdvHA+AbD2Pgshgz0QkVk9Ng6APqnNtj4AAIA/+b4yPpFGzj4uk/E7nvqCPu/mMT6pQuw8zMZtPqISjDxG7/E6FOy7PgmTPD4ivuc8YP9HP96r4T4lqg8/95wIPS7jSztn6t0+LW2WPEaJdz0/aOs8ixI4P4fxED4N9So9mlQTPRVmuT4FbkM+xzLDPMYehD4d3ZQ+OfoDP7OT6z6BbMs+ledWPedFYD/iBZw7aqVxO77GiDpej3I/GrWqPZN+TjtIyN47Lq2gPh07Lj7NGjM7RD5GP/1xTDzYRvk+w6wnPqLdKT9OFBI9MFs5Pan6Iz1pReM8OmNQPvjfYTvhewc9nvqCPrN9ID5AGpQ9667OPshUrT6ugHU/0T1vPjSgZjr6o7A+gnc4P7QgCT81ffM87z1RPvnbyDpPoY48WvTaPDKDHz5rwcI8AQwWPM3D6z28AbA80znbO+YECz8rypM9ug/lO1C5qT2PTgU+vV3UPrQdCT8AoI49aWCBOrt8ez0Djys/rBKTO+e8Vj0MWk4+Hx6OPUK8pj5p9jM+8Z2kPjJDnz7eazM+ta7iPR203D40FaY74ZlEPjzjnj6yEvc+CWByPikAPz+Ksn0+If/VPqzqwTu/MWc6ALH/PUO3JT5KC+k9nSj3PmvS3z33nAg9jfWJPMECfz/9LXA9eetiPiGyrz7IqTk++M+8PsDNDT9GYzM+CR0YPo6NAD52Wpc+6voQPNeMxTzR30s/7OdoP3Bt3j7YYGM+nY93Pk2KIzxjljc/HckgPLDaZz/+atg+BOuVPrzWaT6ILQI+0JzQPvZ6Cz8PYpU8svroPAB13T59lCA/2jGrPmhaQz2ufOk7Lf7cPoUdez0aZqc8G0laOlW8nT0YCLU9A8isPT/zkD2WS4Y7dtV2P7b+HDzM3QA/3DrqPQAAgD+XkM46Il+7PK1f5D6RXA89DvmVPEU8lTseOLk9bOpGP3xUAj1QIWU88jR/PnyJwT5EGZE+c/IgPu/UEzxLlaQ9jCFhPnORtTwFLMM+g41BP3R1KD+ghUM+nTlfPeR0Jj51hTk+mEgnPo/zFDwIpPI9UpVRPkZ4ND51F+89+LirPeADET5KQLE+5CAlPkM5mzzogPs90nrJPZ91gTq+5kY8uGozP2d6gT7piFU/jyQBPqBxPz+UVdI+mo+lPVqu8Tlt/2I/a+44PoGIdT2RSgc/60asPqrsQj9uCF8+HUckPljecTrDiSU+24bGPoFQyjod3Yc9XRU9PXEVADzyZPQ935XSPOlbBT9MGiI/nKKSPWN/2D69PLk8mSk0P19SiDz/dN48oeL+PMDUTj9UOIs+nf+dPpeC/D6cXsg6JrCuPsDSMz8EsKA8Mf2zPpPkyjsoGPQ+qd+5PggaLT1plEo+AjhGPuqE3D4ZkyA6mj1JPLIUjzvlocA9XG/lPH16ij4V+y85F13xPDGz7DyORH89TzZfPlNlCD6VzUE8B6C0PQzKkz4ay7E+UZD3PoKKUTlQPXA9/Ra6PjtGrztRMaQ+jA04Po6NAD7So2o8Bw8rO6QbcT5yIPE9OdqLPLkFpTryMNA+WYJhO4yGrT0Ak0A4+LPaPRkvLT/CKLU9QD0LOyL4MT5H8fE8Xpr8PrlRjjxuiII+vOl1PjMKsTsIE2k+1dczPDbyyz6KWug+rBqyPrZx9TyI+H4+ke17Pts5Sj/r6jM/b8UCPqU2ZD57p6Y5b89LPg4r6DpAKgE+WfzUPud6HD4jZ2s6fMGzO00A5TzpL0E/LJi8PdvEFj9F90o+hkWzPSDesj6yqa48INYuPnagJT9HnEE9KuULPh75ZD7sOzA+K39iPnu+ST6NxCc/w2//PcRYXz3Akc88pUmCOnO36jsKpj496dcPOLGOKj5pE9M7sjlYPfGSIjsDvac8/OTWPa4CUTtxEUo92vyIPNDWMD7nheQ9ZttMPd5uLD6QPiM/yhlFPsPB0z1O1l4+8JymPpae2j5Sl7g9R2YlPox49TjnL+87ycgOPcUWvD66blw/AACAP1mnCz+QkkU+17CCPlcrUD7Ucq47zW9fPxRkTj7VEyI+pt+5PDCs8DwbxiQ/gDlEPEvwgj7fCes9WQtNP1Awlj7GGEo+Nl5QParPjj05dWU+lP66PIzcgT7iutY7DC1UPWEZVj7bULI9VIVwPRlXJz40FKE9pL9gPgnfgjtzr44+zghsPWkJjj5eBJk5A7fuO1GKyz3htOE9j5v+Pdojtz32eKc7yfEiPtEOFj/7mpo+AACAP2eeWz/ldDQ/PAw0O02ZOz5/7kk7sWODPiDNhT5Ptlw+F40fPjagVD5q6II+XhzWO4mpGz4ATpY+tlqNPKc8uD7JLCU9otQCOqV7fjvxWVE+crVePE9sdz9v8qA8RjtvPVdeEDtuJQM+h8s+PFhWLz86384+1R2gPAYUQT4rPoo+6IMBP4J5mjpu1pE+4rBXPvkwQj9evYc9y/MyOrgYHz0hfuo+YvjJPr/sED+71048kiADPvmLIT/+jAI+V7e2PDNUNj3eA4Y9phV6PnROoj7n/ak89pmpO/2gcz75kgE/gPDVPY+FGz64Mz8+F2kPP+ubLjy7jQM9QpIYPR8VlTvw2Zw+jY0oPrAFnjt0Bhs+zQjMPT/FzT3GA7k9aL73PNAoVj4yHjs++WALPSstOD+gYlc/GO8ePuL1VTseMJc+bBANP7jxaj1pkk4/GNkwPMV65DxurBE+gf0kPyKWOD8Q/Zc898n2PYzAvD7Ases+aYERPdUGeT3uyG49fm4sPqNnPT0HE2k+CrFTP2nn2T5Dz7o9NUJaPs5ZzT3tv3E7FAJdP1Jzsj5Y6Xw9wg6MPWbOCD9PLqM8yv8QPg+Bbz6UkiY/wq8sPnxdKjxzCDA/yVg1PjTHQD7LiUU+wRm+Pf+HXj43xwQ+jivkPhZNqj6pWQo9RPBsPcbZJz/Vz5o8TRPYPnzfWT/zBks9ia5GP4boQz8j8w4/+agyPNhHPj2ak2I+tPPRPbHsez4QXRI/4QicO1qjPj6l960+voCVPmifwzt4rLg7c488P8/Tdj96+qQ+u+HcPmfU4jy6Qug++KAAPWQXAz8jEvE+r88gPEBHsz3gw3Q9AQayPUFjBj/NEV0+8vmsPhA7GT653Gg+ZlUMPgvoUT+LjpQ7/0V1Pk5Irz4SuWc+lUUHPvJCQz/U6kU9SqYAPi1/xD0mfn8+eykYPe06+jyW8mM+/iWOPsnt/z47TRk8Li5OPyrWAD4eLbI8tFvcPrShNTzauWI+YzmlPow3bj7ueAc7ldJEOgfi3j4JDVI9W4k5PvjQ5z75Yj0+2HmVPSnKpD7ZsA8+9GsuPRDnSjuqt9U8m06vPKcBlT4BP+89RYufPPRrFjpmb8E9BRIXPtu9DjzvviA/jjjOPYLvoj5tStw8A0hePjYnBj/21EQ+7QIOPr00tDrx+4A+8YmbPZ+jBT+XKLM6tMSMPTBZPT8l0oQ+bXsnP9anGT2YWYw+IKdNPnYyNj2WGLc8jseSPFGEzzwBAAg93EejOyStTD01Cx0+rFkoP/kvOz7LUJY7OdIbPHOTpzs2WJc+TI6LPohFBD/vYlo/RqvPPZ3IxDzSFRM+m4eNPSWVXT4u/VU/AjxOPqXwPz+0axQ+MyYKPyK8Ijwkb7w+rDtVOz5BFz7/XSM/EsxfPj8GLDkAAIA/tQ1YPm3gPD7pD549Oh/sOk20fT3PHos+YIdNPWEXOT0sZys+tHWEPvAvxT6T2II8DZCtPFeoVz4YgLE9dWRHPnga2z6cxAE+HNUgPnnKezz2xVk/p1J1P4jn+zp+xUM9f2A9PlpPjD5lqwo8tCRUPzKjozwTQSM9Vt/HPumzXD59i2A+ivU/PhymVT4J73g/671gP9vXqT5blvY8bAfdPVY2Gzr8m1k715+vPdh8JTwZNnk/MasXP9TxVD2uEsU8nOAHO2d7LD8aKdU9vUCIPjMQYD6zNDM/DiWJO3dKtz41Tbs9xTP6PjfNmT0tE7I+/DEWP99GKT0RcyQ7QmaGPp6VDz95K9c9R7mlPdyOKz81GBI/ZhkUPBEoujvwIwI9BaO9OZKKNT+Fwms+bOtGPnjSsD6qnCk+TTWlPoT5lT0qCyU+Ic2FPrHVmj4OmhI+A8SAPh1otD5yusY+bmDiPipsuj1juLY+qp+xPbuMFj4XnZw8GjGjOxAwmj6FLu0+lDstPMFE/D6PjTE94HBUP32LED4oBQc81rmsPi3xMzw0Agg/TefwPNfYLj5e/xo99xqNPXkAxjyWpdg+pKj8PaGleT9DSAY/udwAPZdgGjz7z5A+1djKPhONcT91vJU9Fhb8Pe5pMz4nMgc+CDk+PynSAj6ik4A8y6gKPkzf9D4CS4I+A/m7OgYGkzs8eiw/0rJxPnXEQDxiMRY/nGedOducGj5qIXM+AACAP0wQFj+9Ayo/aaHuPZiZTD3qD4g+8Qv0PkUcrD1/udk+6mxWPnqrhj4CMks6T2ghPTlkuTygOrE8L0adPjSi9j01Tbs9fkzDOymxij24C3o+NDuyPjpGzDzZBGI+1lxVPx2xQD1b71U+DV+zPvVOtj7KOzs/SoVFPMZMRT3Yxjc9HJydPcdJrDwSzF8+dcpdPtehCT8hdyg+hZIbP8DJEj/RPW8+MaHEPQxvADu3P7c8UzaIPrGnRD2ZhUU8iMHgPcP2bT/8jo07R0pHPtOfdD54gxY/zDSKPel4Nz1oBQA/Q1IqPo3gKj8ZNdY6aD3uPlraUz8Rd6Y+QXkPPwD3pz075AU+1BgGPvJp0D2nw5A8C4iXOotuID9W7Cg+egNVPjIzqj11Fqk+WEg2PXBbnj2tHTA9RVTIPQuzzD4Ogps+A8DHPSu8DD70gVw+PP+GPiHpoDvBx6c8WaFPPLw4YjsOe6g+gg2MPkj1Az1YwCE7otyqO3ZGoT6KGqA+DJuDO+nmTz7U9cc+QluYPj7Vaj7e7Y49Ei/DPipPQz9HeBk9NxEPPiTCMzvziWs+7hMGPj6YNz9Y7y89n4C6PeQgJT65fVk+1Qf3PoGBkj2wYyI+3nQJP4j1xz1Gn5Y8hMcaP7YJjT0mmTg/HfIFPyiYwT6fqAc/uvkxP6nulDxot+0+105DPsz2rT37/zY6k/9yP7qTCz07W4g9GYxRP2Bn9z5JHnM+Ab5MPmQA4T4TSe0+qI0FPldJkjvXFew9mKwtPX0ntz6LrjA758d7PIJkFj4DoEU+TCnxPZZK1Dzlxwc9u42nPqb/AT8bLBM7KIrHO7yfdz13WpQ+aoSQPrymHD7ZnBo+rV7WPE2MSj5wZIQ+OGKbPqa8hT7GRuQ9kmKQPsNSCz6PTkI+lkssO9b+UD2+K7M7GeQEP3x9eT9Dxp0+LGK6O2Rb8z7vBn88WZ4SP5dJKj12pYQ73hWpPCfGIz+cdGg9b86ePSBIlT2l7U49cycJPwhomj5udro9dM4TPmf95z4U/s09BzpJP+WYfj7cLh8+jm+HPev4Az/5C+s+CCQaP1OvFz+3Mkc9ILcsPFiz4DlNqwg+a+pIPDsRBD85PtA+c0rNO8ieez/J7ps9HH9RP0D90j4vBqo9UrwpPgSXvD0b7Ao8n3ohO9DlTD4H59M9NrKuPOqCPzzBZR08fNT9Pjhh6D5/cKI+jH6jPoUM/TqHwJg+Zu+EPu9lkz7joQ8/ouexPLfKnju8Wsk+800hO4hGIz9yssc+2ZwaPpX9Fz8AAIA/tRWXPQA5aDwufik8Co4zPplBED4ZtWQ+BngGPUjcaT56xxE8toILPTuMWT/Uqa47p/A/Pjz/zz59kzs+axMqP9YeHz+HWrc9gQERPpVXoT5RdwU/O06uPe2xjj0evD08VhwNP+oOJD+xLhs+b9M5Pvxolj1bKAg/+NjFO/NEwT0UvVs6giv5PQ6+pT7vQIo7ZPduPWyBez7RQQ89/uc8PGu1FD9sIw4+G2IYP2otcT2m0fc9F75rPsbQQT7VQnc9UwODPOv6iD1VC1Y9G/gsPSUcED4yTis+dAjtPcDJEj9rbB8+UZ0/Ptjk7DzuSxo/RJ3YPkyBeD9Xn10+X47cPrn2uTtIPig+tlqNPOX1eT8w9oc9EbPFPT2pLz5trFE9zy/3PJbzEDyqDrY6BiF7PwLxqT4sNDM/ouM4PVP2FD8fjSM/DzatPSL7iT6TWJc7zVMtPim0Sz7CwAI/LQUHPDPIBD2QeaE8gMLkPqbLmz4EdEw+eyGZPgVPOT999OM9hPEmPXIImDtlIJs+qBZrP3+DUjx03XM+DqEcP8j5ej2dGDQ6eSYwP/WYDT/Bvx0/B3pJPZ/RxT7EPeE9cZHzPGP+9T2kqDw+ebuKPEmDuz7u+T88RF+CPmIMuz2D0xI/+ougPbF4lj6/2jw9tQuqPfrOED4fYNE6UkqWOstnNT0U6xk/frVMPgMT3j1yqDw/Y+2cPkxihz68eno9FaHCPh1D1joiVJo+GMKPPaaY+j0z+G8+zyLZPGODSz2zi0s9MJy7PX55TD7RPW8+kAgjP0NmNDyAhvQ8TCuHPbOuQT/KJxs/pf0iPnuIcT4S8uM+C5+jPifjBT1CZoY+Ed81OfukMj24Yqo+9tzPPg2Q9T0Si6s+ul30O2N2Mz4G+7g+5mBpP8pD6DxqU6w9+8rIPlxNCT9qjdY+0gM3PkOjLzubyv8+9HtQPDa3RT2WaUE+vgd/P9pPKz8rCc4+Jr8IPpZlDT5h7QM8hUZEP12Onj13iO49TahmOz89DzvB8O08Qf+QPnHYAD3p5Hk+VAVJP9LJYz23oAk/0mnlOotO0D4NBDQ9WdUlPtSGzz3rZqg+8Mm8Pn8Z2T4AOBE+5jd5PvtezT2fmeA9h1O/Popwdj6dqsw+Egr0PUP14Ts0a+s+lW3rPW3KFD4TPxI/BYpRPzAMmz6h+xY/QvCsPmN8zD6UcRE+9NAGPQzFjj5HCA49Yj4ZPQuXEj7DZVk+uZNtPfTgJD9wSao+eBrbPsLIJz9SEiE+lPSrPYZrJj/0rh8/HFBbPuICJz7fLKQ9wCXMPtlJszoDtrw+hnNmPtOcJzqhxBI68T//O2nx9DsKFHo+JsQAPieNkD7i1Qk/fruMOyG8czzD828+ZQLqOlsZzT329tY92Yb2PdjpwD5zgIY+AACAP5kiAz7O1iY8XjpyP0lxXzxZwC0+G94YP6nivD0p+E4+1fjfPAfEJD/pMBw+ECsGP245rz1g8U8+aqqOPu0PFjx24ss8eGv8PUq2zTuC/IE8e5bfPNDucTuE8hc/sur+Oh0yyD5BuqQ+QUvqOfQWqTycj709W62WPopWSD/lnk8/zi+ZO0KGuD5VuOs+Oj6FPSs/2j01+4o9fL9zPnUsoT3uRVc6bupbP/yFFD+ksi4972owP347IT4Kclo96nYpP1uohT62/II+MydRPv1dQz7xmg8/3gzqO4aydD4s40k8jdXcOlCzYz3X1aw+GxkDPwvuHT7I/xo+n3OtOxxQuT6WtA46dYj9PuMfcDpwJIY+TCqYPpEgtTp4bQE+oKMkPqgd8z1RA3s6uJyXPqXuAT4Oh0A90UimPk4hiz4iyCU9obNxP3aFAj+G5Ao+VRTRPkHUoD1Msuw9HhvxPJTQhz6AaJI+h7I9PKxBgT2m71w+LqPhPsS25zyBTqM93k0OPgjDnDqDAcw9DYFvPhg2Qj4a8g8/EuU4OzAegT7hrj4+qggFPOQOeT084RA9NU27PXoA5z0sjUo+VVorPzmaDT5pzTQ8pAShPUqSQj9u/J09RFqIPfnwAj6P5cA9Y0mQPZYvvz0axac+9+iZPMldoD0DUpg9zBSWPvP7zT6+Zn8/CnyLPt5DCj56aLU9+bWhPf8YDz2bKT46yplgPqzEHz2Fk80+rsnmOnPp7j510N0+xLmMO5rTuj2qsXs7CF3APUffND0bmlk77yeUPJ8QjD2+CL8+9tXrPo+YMT6f/Hk/LsmFPmMgEj5AZeI+JhGpPhhzGDsgFT8/aRkGP8fGLz+DEc89mhv/PmuuQj2MppA+UUqPPiTDoj5Bi3s/JnuBPU0YpT5bDa4+//YlPeXPHD/Ki/M+e2JkPSCnTT45Lzo9CB32PY7cSz9p9jM+hPIXP3iRSD4Gt6U9NUVAPsI8Gj5lDxA+tANDPxfGRD1ykm89zRZPP8+Rqjl8gDw+5eAnPj/bHz4etoQ+aStUO2zLVz5Gn4I89baxPuu7Fj7Vg788hgwjP7F0gzz9Oc05RgYkPxflSj84mEY7kLR4P+pUIT6qFwg+8kvpPN/LJz4Q/Qg/F80EPyU0cD5zib8+p10aPzptSjtB5wY+AZBvPPDQuT5zH+w8LNYAPpw/MDumxN4+E+x5PSaNnD7ZApk9oAhUPQAAgD/qy6E9APuPPS+2PD6J7RA85ouGPuxQIz3KE/g+J0CbPGNvqD0OzHY9ARq3PlCeLD+Tvyc/A4JMPi9BcT1uG9I+MmnpPn9mFD6bSMU8VT0RPKX4XD7p/SU+Hd5IPaaGuj6RMTM/j4MoOzsIIT24W4g+0b/kPrLx3TqTp+w93lXSPALPjz446hQ/JK6KPE2oET7m3/Q7ZDJXPrTCOz/I5ZA8tqbgPqA+Fj8c8kY8dC2kPXj3ED7JfTA+ulA6PmGgnD4UNa89juWWPvx8sz05j0U/OeAhPV4J8T1vkK0+/DXTOtmeMT9mvhU+9sm6OnJNQz625LU7XXNrPgmq3zrw0P48QgOLPb8SCDws0Hk+CHaKPZ1HQD8yKTQ7SDzwPLw6uj4P1FI98Uo8Pi8eHj//Slk9U/c2P+Pq6TyrQyc//e9UPhxv2jzppWM+e7XiPi/yqTsMmew9wi1mPUO3gD6x/4k+GuNIPtyeBj4Wh0U+I41SPAOBYT7ea6s++ZARPjVq3j7gGco9KOPYPoe8Sj7M1CE75CAlPjxe5DuEqxo+IUnBPl24JDwiIZQ+P5zZPihSWTzEF1A8AACAP4Rodzyguc0638WpPeo5Bj7xLJA97iPVPvrUADx2aTE+FB8EPkMLtDyB1Ak/OA2gO1MRKj7NMCA96luxPntamD6IJbU+NZxPOaN1/j3TIQU/sHOlPWlKZz/qyGQ+WP4eP9uHVD9mHh0+Fu2SPNbT4z564y89f5gIPxVnED7xEv4+vohyPVQNpj6FUNg+B7C+PsYfijuLsI09QWRfPijJGz6sySg/nS40PjGw4z2HE0E/p7lmPpFfiTvpGpI+tjEpPCvCdD8kNMY+TStpPbBHaz0Fqw8+nLuaPlltnz0OI+096jQdPU6Fkz19PZo85OAGPZSGCD2J3cU+HSBePGQeOTzhdQs/4151PznWHz7iNow9u/6hO3UybT3L1uQ9oecfOz4SvD54dKA7QGxlPu2nsj55+zo/fxnZPpfNqToS0yY/07DZOyL9LD0CkUo7r0t/POculD77hw89XlTzPI5hvzvQg+877YzdPpLCKT7/Vig/61t8PjiVMjxTpqM+BbK+PtG9WD6rENc9mR6APuNApD1X9oI7fJ9yPRan2T1E1EI+yUbMPqVL+TmocFE+pJwSP4eqpj4X2gs/ty8CP+hujD6xxwA/WO+EPqgOST9dz+M88h/iPvLrtTo92Js+KpxlPQAAgD+IsHk/H0qTPvXirjzJFKs83dcLPwIgXj1z/hM91YkCP5pfCj/xP/87DTeUO1Fz/z2YqR08oZktPljN7ztTvgg+dKiJPjlzJT9ct0g+AoiXOhujGT7dsEw9Kef0PAGQbzyIil48djHbPaCImT4Fvp09WfkZPkt6Ez/g5CM/zN0AP8IXHD8Koyc/k+WNPkFzBj3mna8+WAKWPohdET8drq08v1MnPI5L2z7ECvk+oU5MPonl/j27wn89Lt27Pb4xWjtPixM9D91EPHV/mj7j2Kc+PjukPu4KjjyPYjw+LaJGPRRkTj6BKM08BwpGPYE8wT4tdXk+iNUvP4X/Fj/A8IA8VXLDPURTuD5scAU/xjG5PLwQYzoAAIA/6yahPmzPRj7S0IM+5uSgPSAsRj953d09/EVXPmaYNT1QXWU7XtYEP3UQAjyRLLU+6nM0Pph8qT3tHyc++7FVPoZUhT7+ZbE9lGlBPjLMPj0zI8c8GnBAP+/u2T3LPio/AACAP+DxVjzkSZ08aSSzPjU7gD1UBeg67IQuPq/mwzxaS0Y76tnAPCQ0xj7KJ1w/7tWiPjKnwT18V0g890CdPRqFej6Augw+m4dSPObPFT7eRgg6p6bxPuWkez8IjHo+XAskPDcKXD7E52Q+oVMPP9hgmD4dkKA5Dv5qPyxUYj3Y07Y+nkIXPlbqqzwh2pM8M9OwPRKvhDwWoio+7usGPgMGUz7nMGI9KXMzPo56hT0+w3c95/8IPvBwnTw5f2k8BJtxPgimsz5+EsA8bkb5PSSm5z645Jw4Cyy1OznZNT5qIXM+H4fOPbHM8j0W0Rg/B0QXP8sJdT/wRe4+fscEPwNSmD0DOwM/ASoHPs+QGD3HAVw+pAdqPo7oWj8E+aU7u9MCPwAAgD8nocU+c0kUO1hZIj6Z0cg9n3ohO5SIfjubMqg+Uph4PbbmuT1rmcY83/l8Pr1BUj3lPIU9nEMlPPOsPz8NWUM+pidoP7nFRT48tRk/IiQyPK3Rhj1EP08+fI8UPTtGrztCneU9pSOJPOg1sT4dW1U+cMhYPYGQHDyBfPk8qjtaPnrimD587/Y8Zv0gO3vqCT4HhbY7/FUdP+IOoD1y/94+aGGpPtTSuTy5+o48RF9tP6izBj28MOg9tc6DPhy+oj59T3A9ez1LPtSM5j5zG4w7Y9ibPoOrlD5fulk/IM2FPkJmhj4qBc4+uGQ5P891PT2JoIQ+xdlkP5SOlT42nSU7jEUDPzpGzDzDPhg++euwPsjiKTt/qok+hdQyO0DMXjzuVSI/OiUgPwhyHj+wKSE7AACAP1dAijk5bnk+59ZKP/V4uT72z7E+ZV5GPwVckD7bzhs9lmvMPF6c9TvXR6M7nNx3PtGfsz0A/mA/cbAFP+hixD7eq+E+5pj6PReriTwIQRU9EtMmP7r0ND9sRuM97ZsyOp66cD48zA8/ea4XPlAndzzOjpg7gclKPDVF/jj0RvM+zrkNPz6XbjxhKxk/ky1NPRcnNDuJicc+GsSXOkmIZj/ayLE+W+e2PkNWSz6oFqc90lmVPlPutjz8jeI7gQ2YPj3Mcz1dODU+2geUPo+7ID4BegU/xDxAPuHrBz2u+Lg9NFUKO0IRhD2NK/8+iMb8PnbsNDyzLYE+x7iNPC6nWD4AAno9SSFpOp4I+DwjU+U9D/gSP+hVXT2QF3M99UVSOyoIej/HsYQ6oXyFPP8C+zw1z4c6kbkQPU5ujTxJ1Ag/H2zrPc23+j3+UTA8FxFzPS9caD/ZPUQ++T1cPnkD8z0w95U+X1hwPcXyVz4yRQU+4Z2FPSmziT3/NWI8vafLPtH0JT59fe0+1WKhPunQQj6W6+o9w+hPPvb38D7WMXc/UTmDPnuLSz4CsWo+yXduPt5eZj7mLVk7AFusPac+sz5RpM89KgCuOUBJ5jy3Yqo+RoGzPZ90aD1CZ688twgPPVeaXT5Ow309CrghPrlELz/XESo9p12IPnBqET/OUK480/XQPZ+HDD7+Pi0/4vXNPBauqDwOBYs+CGSDPrMOFj4UZE4+xwFcPmRccjxN33w9RW3YPjujXj5Afws9piNNOpvCMT/kCn440URoPFNB5T0AAIA/xmqDPrGf6T2oF4A+HWVPP6ojbT08Bwg9lpmFPiXJmj6LVZI9JMIzO/wqlT07tcY9P5J5PzLqsT31z4I9b+m9PSzEIT9qRuU9CBNpPh2sdz+fCfs7NaJfPs0q3T1Vr2s9nkIXPuNZrD51f7Y+YWD4PY47eD9c6mA96vlzPC3+3D4kQVw8lGreO/P7Rz9BUkM+B34DPFUjez5c4Mc+r0hVP6UmAT97eho/04k1PmsqCT3C8SQ/bHcAO2498Dz9rBk+rs4tP1TmNT6xbBo+VPuNPoT9uz23qiI/euobPuG04T2Vb60+ztnRPU4a2TxBglY9zFQePoxdtz6koQ0/2TMNP+9HhT4k9Rg84rtkO/OiBj1onD89M4HqPjGQOj81xLM8Bw4WPf+7vz4q+Sg+f2R8PqaWCD9F2NE+puvjPNaPAD9JTOA8YK+OPrgguj4rlVU9bnMYP9aJ7j0t5rM8ywOUPs3JPD7A8aA9dbMUPyoseT/XD7w8vz9lOjKFrD0qUTc91pXAO3oSGDxPfjg9wGDMPrD1dz6hBC4/mkiTOTVNuz0d5P88jImhPoUaGT1MTo49mbyyO+h2rT556FU8M+XqPAopzjy6Lvk+6LCOOt3XNT3k1w4/w8ghPIdMuz6TaUE+88vJPXdd7z3+xgk/xjUkP+PHWD098LE83wnrPS4cnz4MSBU+OlRFPj3KlT6vNbY7hKsaPkLsGjzRvAg+LnUXPcqZYD6raOU8FWCtPovUkT7xibI9QKz5PUyvwTrijyE/iClePghRrz6cE8E5cwcbPoTo+D5vn9c9HwDCPuACeD09Xf0+YdQEP2dRKTyHyDc8cl7JOSQZQz9J4qI9+pBlPmA0hT0qnjw9+PLGPdeMxTzeLg0+2ApAP/Wljz0Xky8+S/99PPzCaz6OOgY/vDQoPAUp4jwXIYE8ZoHDPg+Bbz53dsI9idNwPpURUT5m7NU7fgG5PdFEJT65dS8+thu5Ob2rsjsuUXY+5qLsPS020DyRVMQ+a6yaPTCFvT6BlfI+KuxFP79GzjsMdJM9DcTOPNkOJT2pO9c+51gyP0OrDTywWY8++O6aPPTaMDw7t788x4OYPuM74TybM3k/vMfhPHIhWD7Rxb0+5yWSPUxkmz3DqVk/NJgVPygrTz47XJk5Gdk/PYBmFD79/kk+SnqrPX7zyT5lFAc7b8OzPCvAfTxxvCY9L2iKOeDV0juyaSI+xPEpOmFvwDz8iw8/Rt6tPlXFtD7oORg/ujTqPQAAgD8mWIE9uqWUPgdZNj6C9A8+tca7PsiHdz7FIdg+BAxNPhl9wD4Dxgw+KPF+PQw6yz7/jVA9eUx6PgizqD5niw4+cZq+POTyaj4HJLM6/m90PzqHsz5Ir9E70WxTPN+Zcj9eRBM/BOCqOk2ZOz6f0/Y9Pe4GPjKDHz5QuNQ8AACAPwP6gD5mKb4+lN17Pvhfwz4cOEk91eQJPjqvIj5tBMY8N5+tPa9TxT6GRck6tvWcPb6JAD7F0Pg7592oPbvSxD6Iil48VmZ4OhWTMD5iWAc+XN51PrFWJztDJSM/JkXBO2mzAz/+Gv471S5TPjFXez0PGWI+f0YwPlAMwTpd3Bk/13aaPtX0ET0CKAI+JKJLPh2NTT5dDo096gJyPml5rTwYJZY9F1mjPWjWxT54ULc9SNGTPEGcBT4ryoU+peM4PYIp1z53bPs8pMgUPdjGPzyPlg8++bTKPEKqDj7LXqE+zek7PGm95jsVl+c+YYCiPmi+qDoQXtM9v5cQPKmNRj8lbTs+H8pZPnHcoz6d+oI+j4zwPrXJLD18dgY8mbqGPizAND3rP+88JgzzPPFzHT7OC/87r+hMP+AGzT3o0JM+OwfaPrF4lj4C1do7kkRbP4pSuzzYKQU+YhCgPErS1D7ntUU/zrItPZzTBD6Mb4c9tgyRPubZND7uVyo7YZqfPhJOpz6qDcE8Pe4GPhSywjyxZIg7XY6ePXW6Lz5mT+k9nz4VPwgbvz4IsVQ/kboTPqr4qTspeBs9LxI1Pnai1DuhN9w8fE71PVr/3D4R8Uw+QA2EOkqvnz0s1Uk+y2/gPX7t0jraB5Q+FZl3Pd/P2T34yes9MKx4P1QF6Dr7KeI+XMKfPCUcvT32Qhc/UkEjPyhxID+jfBo9A7GtOj4AeD5sAgk/goy+PS7RSj8LJTU/vm8kPtN7yj3dSbM6+/jNPvoUXT35BSk/HG3ZPluUFj9u8zc/1CWlPmx7jz6N+OI++prjPn1Kwjtzclo/LbtuPmHSDj5Fvqw+Y2+oPfSW9TsTRp0+zNO8OVxAODoMtBA/LwsTPzhiET3yRxw/UQIJP6TCeTvZq0I+Tf1iP4Lgdj9WaH88h5wSP1Xz+Tt4Ehc/TUP9PCZZAD5ckwY+2xABP6uQaDzvfUo7elZfOnv2sT5fRWo/cQ9wPoCNhj0rojk+/n8GPs7lNj1xe4Y+lImjPty4xz0a8AE8WLxsPRbWQz8YVyc+feKoO/xC/T6gP0o7bHacPfjxxD6LjiQ8duMxPuyVdj4IDOs+hDFDPQ7GSz+MnxM+COfDPhrYaT9yKY8+qPiVO2CPNzzDZnk++3UcPjLugD3lo3o9RaNkPvDIGD3cZCU+fJkRPWLUvT1j0t4+LpBNPWTSsTyv1QA9eVsKPprBdj1YohY+Y/Y1P0pNsz7CMyA+r8E6Pzp4UD7vhPs9Pm5sPqjF0Dr4RSA6BFRQPz/RAT/W94c+nhQxO3J7jD4+EwU/Q93yPvEMYzpSpnc82ZwaPvL8JTuduEM94ivPPvnmFT6u7Fs+25qwPqEx/z5FN6E7PJ5uPZjhDT5xh4A+vl1KP8LGLz2R/8I+eUpYPFxtCD9j7Co+Uqj/PQHJjj5egoU+t74vPjcJBD8OtuQ8pU97PmFczT2Beog8GmEJPqUImT6T4CI8joJ+PgOMuT7BHpI+9C5lPgmaTTvUz+s9S0cGP3EQsz0MgYw9gD3FPJvCTj2SAZE+p7RmOwXv8j48lfU8KdEFP7tekD2W2DU+K0VcP2KCJT6u0EY+sOm3PJB1Vjw+D9E9kG+HPQz4NjwLxf09smODPviXLT+/pSM+lxbkPgF9OD8liig+n64APyog/j7MzqM+LWb9PdmJ8Ds+3qA+zra1PQf7FD1I0uc+PKAwPjsogT2lUws83lKnPd/COD/MsRk/MZJrPiHx1T0XQAA+GmIHP4OjMTuo0aE9mabsPS7DDz+Q/XY+m89APv7UIDvrMlw9Zba7PjrSBT96JgI9fgy4PsjipT6nvOI9j9c7PSlCIz4xWjw+wq8sPvgCbDyMQEA8/3AYPDleiz1H2iU/2kOhPg6RET7UzLI+M4lhPvstuDksO3o+irplPMVEKj60DNw+QStPOigaLTzyFMw+BZcpPcVT+D24tdI77ak2P6bFMj7emjI/jo/aO/Egeztk/XI7dRAxP+lu4jw8nm497jaRPnHBsTv9JFo/eVUSPFkKiDp3owY9b5koPb2VTz88HPk7nuEbPrticjuC0lo/CtMjPV8iLD9AcHc/XVL4PhdrwD5DivI98oXZPSGH5TssgUY+nlP/Ptc8az4RvYg9BRU6P7l4iTsty3I7+D6nPqbFaz5qOJw7IzgrP+UWbDtJ+kY+M1wePxWWqz4ZQa0+3zN2P8h9MD4Y5KY+buAFP6yAuDq6tlw9wPQ9P855pTxuS5s8i4jwPqMSOz77Gpg+iAxTOz0N6D70N0I+Ct+NPidsnzjmNQs+w49mPyfdJT6WO2Y8GgyzOmfZMT25Ksw+vElKPSLbAD+sPvc7xxdMPSJ0Ejz5uhk/Q93yPhs8IT9Y7vI+x4U0P7/kXjw510E/KuZvPLFqOjyuURM/ZslUP6+pgz5rxxk/itBEPxl/ND4q3pA98UTBPTXlTj4GXu0+Q7GCPuzojj6FKqM+QVebO5zeEz3i5js/XZujPl0xNT+Jomc/VVgCP6nKzz3+rag6HALaO+snRj6DXlI947KrPv6qyz7TNZ0+rchNPsc9Lj60u80+pH3iPgSzDTsISUA983AOP3G2jD6OUWY+gI2OPnn0oD0O9FE9lizVPJ02qz3/fAI+it8BPBQHcD0zQPE++HSmPuRzmzqUpto98lihPlZWUD7NWjE/04osPtslgDukyHw+0RymPkhuDTul/eE9WTLwPfgfij7/oXE/42kkP+3/LzvaQfo8Go/MPcgSID89NBQ/afGUPvt/CD4ymAQ/Ps6cPi1O5TvzqPQ9C73cPjs97jxZbZ89xa2/PcjASz1L9Z0+zMMRPhmy9D61pgI8qevjPEKvhD1PlGU9RJ43PI7ykD3xAJo+alBXP3J8gD63MeA8WNa6PHNAxTv5aYE93+zSPZzYOD9STJU+T6h6PT2aLD4U6mk+McsKP4wQKz98YYc9cgoWPGkKSTuc1Ac+wfwOPhL6Hj+QLnI8hwOIPfKqgT5MMzE+cQRyPkNhwDzjrUw/XwAfO+3wvDv0XaY+omkVP13m7T7TPDE+UjEaPn1NRz330nE/hs/YPDubnD33JZ898kIUP8sHkDz743g/0e/9Pkp/LTuV9kc+FFejPq4CRT7ENiE+dox0PMdy4z5WJgg+snElP2KbgDtcWI49AACAPxXDNj8hCIM70rMzP0pIHzvCZ/E89USoPm1RQD4O1548ZeZ1P4U+uT26HFg9LoAmPZcXVDwMWXY+0WsnP4QRyDvuvRk/9jD8PT+XKj8CZMc+qEzSPo6QgD6JLyg7QZ5SPr8wJT4xB7s7mdnJPpMjbz1pFjA6nlUrPXPqhT4aZwg/SdPfPro5Xj4QKRw7CS0APtd/Oj6z4jQ9jovLPt6fND6XWso8y9QsPbQgCT8/GRE+bEYJP+miNT8dNDI/nCkKPkus5T7Ee2s+Dx1uO6URJT1Y1xw8fClxP2o33z0VIE4+stD2PGdOVz3biJU9L+dCO+tUIT72lxU+YczXO8zjCz9Cb+8+XpQtPkC3CT5KrDg8ZTNjPIe8Sj4uRp0+JqaoPvZ1mz0QF+U+qrKtPvP/AD28vss9qLsKP5jsOD4Wk/U+HAyzPmnugjvNXnw9rdKSOocUFj/Pvjs+HpVuPE5/+joZ62U/OegMPyffUT0jnJU9UGlRPwqRFj7w9dU8HTX6Pszrxj42py08Gz+2PbeGCj+Ymkw8QGIhPn364jw3OtE7fdQ3PxTVxjqWUeA+rQkoPprVtT1y9qQ+KJzPPBAQcz73wJE7dusNP5NGbD61f989CXNePW4r8DzA2L87SWxXPbKkGDt9Was7fvPJPhp61D08Ezg/NejmPfX+Yz99O4I+37mHOyahnjsX4Js+mRasPlV2yzwypmU/dMFpPB8OXT2ulac+0enOPsdXIzwiXo4+ln7jPS+uxz1AO78+GzlzPg4VcD1D4Zk62ePaPqKp7j0nwXQ+wV0PPyfqNTsvZo0+4T//PQ5Sbz50oD8/cQBPPnGFrzzzRME9TTFlO/i8VD5tU9Y+czEpOpAMqzyFZ/s9Fuc2O7a5kD5kYbg+M9uWPmFRFj5GIB4+gU9fPw3rQj4hKpo+ldgtPrNN/D1QBoM8oBXiPcbMlz65tUU9js6RPjVNfz9cr685n5KhPdRlUjz7pDI9sSzdPdoaqz44Uhs+T5k7PsJc6j1xPis/dnq0PsKMRD4nLAg+lmQ2P+5XKjvTPhQ+sSyPPPyDjD5JM649Ewx3PT/zkD0Cs6w8KDcyPj3fFT0vx5A9lWYRPMGQljnTIww9M1IfO9rKyT1NP/A6CaqoPpOpxj4kfIw+mtVePvl63DnSmx4/WB2KPAlawjzO/+89eTI2PeQdPT/O2JQ94SwiPSkJwz6vu8A+KjI8PNu9DjzXgpU+qmF5PwTMAD9md/o7d0ABPNKAgz13Z8M9vjORPuGXMz4gYCU+8iEqPInzPj0O1Rw/ebxlOutIHj+FvTc7HBlZO/KN2DsC06Q9tL0vP3MfmTuG1V4/Z9MHP2rSfDqZSxo9x7gtP4+o5TnuJZ47PNMsPo2VBz40LS89WZnwO3hDaD4CtY09GinVPXOs4DzWSbM8WnuLOoMnvT4QTgA7BVg4Pl1eKj/WJDg+KjiePXdVGj8788E9EsxfPosjjDxhIoU+p//0PQDceD5yaJI9ptSxO5Htez6DNBI6Z/YzPlEXBT0XzSw+QmaGPtA8nDsWfbc9n0IXPtHq0D6lBzo/BJhHO1OzlD2d7Rg8JiTiPOoPiD4bi0o+N44GOYAPRT1BxOU90OrkPQ3FSjs6dAk/G5CHPZmGgz4pLEE9/+CHPdiemT5FVUk9357uPj7HHD0dn289pSOJPAseZj7w86k9MC/0PQgeVTqWDU0/XyW1OZTORT6XvPo9HEaDO2PiYDy0DhY+wFb/PWh5TD2CvJ4+zL64PYZfHD4fE0I/dBS1Pd6WOT0AkCs+Yc4BP/5p4j5yHk8+0pseP6PEFz6wozk9FNWmPol6pz79qxI++t0sP3FIlz4FmzE+iB25PbdAAjteDjo6G/cxPj3ixT7ksgg/1d4sPuL6MD+YSpY+R+tWPhmAXT9kGbU+RdioOnq5jz4JO0c/muXZPgZllj7Q0/4+B4dOOnChTj5zMDM/XE38Pc6vbD3yJ9E+6q09OlpETz/WwUM/z0dhO3W4wjxyAOc+4U8BOzWrgD6S9AA7dlJNPu5XKjuiOk0/qg40PoDoFj0qt7k+7q59PTPSdj3qzvE9XPUPPr1gCTyqxGo8ImGoPtliUz4HggA/76eBPibLjj5RELc8gJU6Pe06+jxrdAc/rflyPmYBZz9I1WE7qag7PXPqhT4BQ0I/+fHGPIoZejln0cQ7MmCsPryq0zt1r8w+P03iOkL6fz5x+fE6tYNYP0mePj5nzTI+OiJYPn7vHzy5dlM+Hd2xPc9iAD1DoAc/RqvPPQpjQD/6FVg9WRMsP3kmrTxklRE/yIJdP1tsDT5VzEk/0aQSPO9T3zsRovI7bB9yPafNkzs2Ux8/A5xZO/FfIz6Tlgc/O8kTPw+wgD2R3wc/WTNVPrbAAz5zc5c++asZPrQPMj5ROIs+jq1WPtf0iTxJpZA8RUh1PkVf6z7XWSs9XDTRPqu2lT5OvE89bYkvPmFbPT3j6eE9d/Y9PiVYUT1UYxc/bjabPQH3KD5zZ1Y9SAYnPMfbszxau7Y9nCWAPqFIDj+dI1k9740GPWNpOTpyhfI+59XSO6tZiT64C3o+fr73Pay1qTsyyBc86If9PjdFkztGwf0+JesbPf1wmj5KueI+ySfxO+x/Vj0VvtU9qOAAPS1rBjxAAC49DTr4PMVzQj1dOuE9WEWcPa/I3T2i6ic9z7+UPtkQwD45m9s+ASwqO0vAyzwdywY+oWrQPYkLxz3yhac4qvYuP7jG4D7wmEk/ZUiJOysdyzlDuAQ/pM4ePa5SuD40GP0+2OgiO0PloD0FnDk+QtWkPgAAgD+t53o+aW1YP+ccpD0vG7E8r5EoPgWccD4GV1Q8SVgBP9kk6T6HwNI9jHbhO8fEdz+7fHs9o0hxPhNYBD4g6lI8zR6qPGhsLz+tsNc7N+UEP3TQXz5dEhk/pckSPeoZuT5liO0+fe0BPvY+zztJtC4+rchNPlGayj6YM1I/l/oOP47B4D3V1aM8LwaqPXu0xz2f62o98/sdO3vPRj/sLHk/5NVfPlx8/z0rVI49bwvOPRNhej+kSzM/0YDFPQlF8D4cUFs+EjWvPR8u5z5ZSQs/TmIjO2NbJzysInQ9STa5PvY/gT5+EoA+KwKIPOrDWj5qOEI/5R9bOwJkET+gVqk9doPrPcKNwzwHhgY+WAKWPhLO/D4BU/I+BLLxPkv7ij5dIxY+jBmpPsH3tT08Wps6ejn/O+u3kD6pFzg+fn6mPobV2TrQ4g89ZG3NPgAmXz5lAKE7hyjCPgIigDnvMqs9aMCdPSyCyT1sBuw+9l8SP6f/9D1vZis+CCOjPp1bZz9rZho/MKfKPtqWlDxD/zo9dSElO4oxUz70Qjc/dmUBPu2qYz8D4+Q7pc+WPSPW8T4lk6k+OLcqP9SkmD6J7qY+V2qAPbjaLz7KqkI/jJ26PJprjT5CoUs/Gn2ePsezHz77YrI76rtyPiE2Rz78EaY+VhE2Pvh0pj7Ki/M+QCx7PnUCrT1OakI7y+9OP+qEsTwpBz4+rYa1PhRkTj6Xx9E+yQVTPOuQDD6oLzM9LPPLPA1rWD93Wwo+Tp66PatSjD7UwG46mUIuPYfYiD4I4BU9SOEcPCfHND+mNOY+FydhPMWtcz64py4+nfGaPnsuVz6U5uY9+lKMO/46LT9HuaU9cEvlPPjSdj6z7hw/icU9P+knRjv08mc+btJkPIGeNTviw007Gr0iPrdqVT492XE/SHLtPXXxPD6eKP486OaQPk3gOj5u/J09SXZvObK8uz5HpRQ+EdAjP6uQaDylNmQ+mAD/Pc8zgj2hOTk9dd0YP/0Yaz6tF845qeK8PZL73z3F2A8+8GsrPwY39z1MN348PpnjO+2E+z2wb6Y+s9j3O21/Uj/lPxA/VChhPugL4TwhIv49r8ZHP72TNj1Uryg8UclzPYz06D5WQS8++k/kPA3bET9hrqw7hnmlPq1coD3xmHI9BAhPPbOa2z7yAnY+6KuNPtQ+kT4ouBA/4PKdPXOQiz08iZI9bt/lPKhriT2ZFqw+U0WvPfj1nD3DIC09X37WPdjgwD4aOVg+eeSGPeXpyz3UTzE+nO+NPpGpmT6/ncM81veHPi4Waj6OXuw9Ge2gPZgAeT6gzwA95BvyPtfuCD3Jq1Q/2J9BPeptND2u/3A8o6E5P62x0T3UQic8qeuHPqI+Uz5lC00+BSs5PiJh0z6mhb094F9CP0r9MD0eEYA99T7wOJatQj8h6Sw/swObPr3yUz0c+TI/tAivPJ/jmj565e0+dvPJPf/g5D3lnk8//n6UPddC7D3BBk8+u6gTPTt3AjybZZA+GRk3PIyMNj9VLGU/zJOKPaO/QD9mPm89JRKTPgAAgD+9Ja48+DKhPaySwT3L2K49eOsRPu2+5zyjPJE90kbCPdDmAjyD06w+uEuNPQUACD3hicE+EW8/PltyADxgonU94wJNPrt3dztu8Dc7fJaoPTij0zuGcx8/8/I5PVL0rT6Boww+/9TuPMKmUz5yn7E9RC8iPxTOizvsBg49ElCtPewMkzrM9pI+qiNtPY6YMT4o/pA95kidPStCnj42LS89YTsVPyCZVT0TrWs8j1W4PSInDz/MVq49pMwVPhd0bjsCJBY/lv39PsWsJz7q5zA/qX3qPh7oKD6jjNw94cd8PM05Jj6mm2E92WprPsuoCj5i9HU8fKaSPgTZVj8eDUc+DvvEPkA/zz4ZFrU7uIwYPdVOAj3LR4g+I7jHPnO8nz4q/g890S4IP+CJAD2AFVc+SG4NO2JzHj+SyT88QFcXPTa+HT7CjcM8MALJPtTkhD5UlJE9QGgZOkh/mT6lnGQ9yO8fPBfA6T7hOII9HEztPuMs9T7FqWQ+Z+S2Pa2wAD6pm1E6lOrQPuyQRjzx9yM+AaKEOpSutD4qKFo8hPtZPrDruTwNH749A/o8PuCwEj52hQI/e+QlP1MW/T2+Pus6dleRPfabND52ILY+vkbjPchMxj1c63o8MzWEPi7SvTwqAK45X4U/PpPCpz2SZcM8G/muPN0lgD30vh4+ae6CO7XzmD7gfB09ue1LPkigizs6F2c/BbaUPiv3kT4Eiwg7mDgOPsQ0ETtYtUY+6jbdPuL1kz0sz9Y+uQD9PQQMkD69MaQ9eU1DPi5jAT/Q3mo7EtIaPReHoD1H3YQ8PxLcPO7naj6B3Qo/9fD5Pgf7Tz3kY58+ZxZUO6B4fj7846M+VMWJPb15ET+gaDg+wXBdPnQmzTvYB9w+UnJ0PPpSOzrHFMI+aYnBPf3+FjpFTlo+37CRPeuvMT1QNao+sUnVPo8vMD0iRkA+5/y+OeZ3/j13g5w87YSxPEMSfD+IwIg+0X4pPwj0mD7AYMw+voFlPt6y2j0tEIQ+hhM4PjmMgj4TQ+s8qIqAPQWQSD5ws6Y8l06tPRpEczwEI5k9ewe5PgzKUD8k/CE8jVu7OxPBPz+B9r46xFPYPHt54T0pkI88GFhnO1PdFD7zse48mIC9PuOLEz67eF4+n9+ZPl8+Nj+aYcU81H3aPv5Tcz/vn44+NTohPa1ZAT5bI3g9+ukQP8+QGD3mbd482ZFTPZDDcT1GIBc/s46XPhUXhT5WvUk+y1CfPhOXtDvVuJE+ZUMpP6fHET+w60o9N/mhPg9m6j1TtVQ9y2qZPJuueT6KiEc8MgyoPGZf2z6B4zs+FLrYPO3WIT1S1+w9Tek6OnplNT5Gvrc85CjiO9jTnT4NvGQ+iaQHPhfbeD946xE+i0omP4nWZz7YyL8+xVTbPT1Y0z41qC4+Lx9BPF6BGT+GZrs6o0WrPCrbpj6raZU9DR++PTbZEDsm8fs7qTHlPkZp7DsT4Js8YMSrPIAyRD5bZNs+gnmaOso9Qz18uSk+1RwbP0ashj4oHDI/ayjkPI6jBj4/gi86Q7kEPrrchD1vqiY/jk0lP4BzgT7jWlE+dQ1/PuqTKT9sy1c+hsCcPlKhwT47kuw8WMNQPl1sAT7hNHg/oQQuP1CfZD30Piw+D8s/PU0PtTwBGaM9t5JUP6F49jst6jU7qgiUPlDwET2mcb4+wxV6OeWyBz/TDEM+afEFO/P11Twudxk+803yO4lz4z2RJFU8OS4TPmCp7j1R4cg+gaPWPoIGfz/zGvI7xB2XPiAGYj6VeI4+Xh3BPTxQaj5D5Ow6kNJkPrQx3jzw3h894BOHPm9IFDwtwrs+pRP6PUlftjtQ22M+yDkoP310Gj7dgJY+OU8NPQLW3D7ZyKA+xSHYPhNEyD6hk209WJdLPTWQxD7CU70+DEUMP9VudD7EAOg95oYHP58nYj9Emj4/JV0EPJSq0D7mHWc8UCeYPqy14D4ZcXE+TNFRPUAUNT+C33c+9cZ4PgJwaj8d1tM+9vHDPazLNz8MRX45kPR4PkqaHT4+JLs8dKMYPpQdKTyrfdo7+asZPqP5TT2xj8E+hvEFPzMvAD0PVc46cTplPk8+uDsoFYM+WSD5PCkEQDtarR09dn5RPXZ+Hz47uSg/ppUtPXIVvT2/P2U6YdJdPsGrVz5hGNw9KBltPI7zjT2hDuI9IMOnPapqYD5f1iI/exgPP+5pJzxnug0/tmUYPgrgMD71Htc9YPlSPJEGgD4rlBc+5zVqPn+52T4b7DI+ObFKP8//nDwAAIA/qq1VPn7J4D6oCQE+5GAjPcdXSz07dFg+mqk9PtaANT5dZ0s/obhKP0OGvD7Wi6U+chO9PlVwXD9O+Lw+c8NZP+QZyj3momw+94ElPYq7gz7fJWc+K5ggP7LKKT9Ft5g7JRJSP/3ngT6iC+Y9nh8VP1UYXT0H2FM9w8u+PtWTDz/kOVg7twpvO6S19z5o9q49cMndPnUw4jybLS8/pjW7PCKQyjzC1Ro/U1KuPve8yTxMdzY76TvpPtGbHj8jme4+uBhTPzafrT6k17c+mM8DP17JADwL4d8+c0BjPXbbFj4Dnws/VSsSPvlkpj06G/E+zfjdPvupKTtUglE9kY0JPu9nYzzvv50+Ft5GPtZk2T2C33k8v6UjPn6hITs1qYY+01+cPF1ccjzFXOo9QoUkPX8Oez30Zw4+TXI9PrfT2z3TvA080iUlPeJDnz4IE2k+bB8aPZQ8Pj5m1/U9AsIpPCpyoTxTMUQ+RZq9PflpgD7S/1k/Lg95P/Rndz0q0uc+mCpaPlG4Az6RMgg+cl0gProcWD3gE4c+li+9PDidgj0AAIA/iB25Pfhxtz0l3RA8sPipO4whYT71aBM/NL5gPf7Y4z5DZQI+p2LUPmNlAzwBDOI978oEOTZVrz3HmmA9G8J+PjSMTD7D8aA+950GPjtQMjuSET4+Z/jjPeEDzzwAAIA/AHVPPRdedj9XpuQ80zYLPmfsyTzhKmc+NAqoPnxAPj4Gaes8/51MPd4p2z6FXLg68S21Pe4HhT5Tz/09uDM/Pioy9z0aPRg+vBK4PXBRpjvEL+8+TzIGPmLc3D5WkcE96P4RP7eRqT5uAVI/JnHFPZZhXz5OevI8yBOcPIEUwT1Y4xg95k/EPfP9Jz19Jow+LnIZPtJ/iD2o3eE+FF9fPkPRgz6a2Gg+v/8DPusD2T1pWh4+d9SMPqqFBj9KlRo+SOL5PstMyD4wR6k8LyLwPlDxwz59fvU9rReqPdwGCj3fwlA+YI54PwmSdTu/Pu88OxEEP7Jjgz7IXSo+konOPSGlGT8yk68+oO3ePaPxuD7TgX0+IbxzPAI4ET7T2Dg8+FcqO5BsTD7R1iI+gnTHOLGnRD0rjZg+unz9O8Ihrzr1S9w7U2aYPr8rrz4nbJM+SAB3Pj6XbjwumTU+ktgbP/WJYj39C4U7aHlMPSJkQD9LH1U+rWxxOpAKej/g53Q/CuDjPuUfjDz/26M+dE6iPlDzQz8BcgI/H4++PshqHD5dRrM9Co8/PjRFHj/Jg4M5NRAPO/WMoDqwa6c+1QPaPWJX+j5FCmY7RhhtPM7GZT5V59I+nzoXP9R7lz40oGY6Bp5TOk9eJz5t6AU+fhTBPS0EbD7n4m09dmbUPl8bljyR3189iDctPnipPT77gms+1DBzPNWtID2jalc+XS17P6RpNT+NS7E9AACAP4ldWzy9bUk8llhpPUxSED8K6KA+xG4APXYSjjyfHgE/LjwLPDp1OzwAAIA/YPFPPtBMlTvzYak+p/d5P63nmjmMU5M+P9VOPtSBez7z8w8++XYbPzxOXj6lMlM/vMuLPpeBYj18qYY+4jOhOzQHQz7P9QY/tipEPlkefj6msx8/ETznPmaQhD7j//4+z/UVPXM5+j7lKoI98QtOPuUXAj7Cuqg+oNjDPiEnkTwKYDU/g7kLPm2Asj5lwTA+ltitPQA82DtPByw/M8lNPaA6nD2Evqs+cwYmP5FWwj4oNQU/RTA4Pm3+/Dza1zA+QWycPniV+j4RGT492GcYP0GP5j1rv8M+fEyrPpAqVD/Tr8Q+j4j6PpFCET2MDYk98gxBP5oehD5F4ic/wXt0PXXk8jrwidQ9y9zUPcbbUT2xpxE8N23oPq8nBj47K808QT6FPhC4iTuD/2Y/mHu/Pga6Ez7gIzE/QGQBP4J/GD+7jac+yzFVPtGXlT6DUx8/xSHYPhTlpD1cHKw8z9l0P0SRYD5X5Ts/2ts6PiGKYj1gQuQ8359XPuO00j3Rh3M+/gdmPsCmtj7oUQA9AACAP2UXQD7mWng/rfiPOmfzqz6PCFY/cUiYPgQ31DzCSvg9m9ufPCrlkz5qomA+I51DPge/Ljr8Pi0+rmPYPGDQCT7MiZk8CZ+jPGBCLTomdto+73EyPdNUBT3Od3469bWCPQEkqT4A1hk+MH7BPiUdqj6hLTU9avmXPnR+zj1iYoU8lBO1PHZWQj4UoYA++QvrPpxYGTqo1bQ9opoFPg+YaDzwlA0+QlasPZqs6j7zRME9/c6zPVxPIjrvBb06No/6PAYdejwuAjA+8dlSPoDtFT51Njw8FeIoPUAITD59sA49GHbnPq/R0z0U4CE/+Es1PxdYJT/rlec+ccGxOxkKkz6cSBE5AhBMO/qN8z1ry1c+WFeCPthhsT4aYWM99C4VP6PQEj8mlR0/7eekPjot8Tz+2Rs/ZGu1PrWLoz13Dh8/n3W3Pr6Puj4JrF49aZoxPs99MT4k0K49jiAOPSuyHj/XNPU9p+sLPf/phD4I9xs/SBtgPgkuGz1YqUQ97GnEPfKlkT2GwSI+vBADPx6TLT6jScg+GUnHPjvLNzyFmxg+EDBsPrwAOj7Vqac8HLgnPs3guTzGeNI7lsF2PaBI6D497gY+/jNjPg4voz6M2FU/cwvTOwt2BD0yBqo9b8DwO6OAJz4UG3k+q7gwPW/hCz/b7hQ6tbeSPQOErTvmLMw8RTyWO4ZFIT6BCeU9kSAQPR8XGj6xgMc+drWXPosNOD52Uks/SKCyPLJBpj3bMVc/YgeMPQgkGj9NnF48/E6aPJ0jWT0VoTs+9I9SPh2BnT4AAIA/Yq+qPZDcSz9mpJM8sYnoPX05FD8qiAc/P3LyOPCvXD7YrWM/A7ZTPVowij4UxBY/CShUPjezcz8GM3M/2nKuOxDnSjuhnVY+c3mBPbiekzy/fUY8ToVpOgzrUDzFMVo78ZDePRDnUT87m7A9MNj/PlbD/T4SSMw9mJhFPnllGT2GwJg+jx4GP6WO1Tviz0M+O2tWP7kHej9FukY8BkymPlTfcD7AYyE/8KsCP0YCoTu0D14+0sWAPti9Dj+2onQ+rlYOO/Z4pzsi8Ec97geQPCBMdj8Vbnk/WX/IPlM+Pj4UzQ49kNvHPFi0QT5WTHM9ZOlHPRWOaTr/MVE/dkIbP0m2wj2Ynqg+MXTtO/b/Mj11Pp09qmurPc6KTD/AXXo8ulYiPytdzD3cdMU9GpzOPX3eeTwwGLI7sUpzPSV4wT4KyUw9PemPPWO4PT6sASw+6Gm0PtM1Qz7SJEs8F7gEP/jy6DmFVuY9bk6BPWHIsjtdLn0+fFN5P3LTizzrkpw8pok5PuuidT+aSCU8X544PaUhiTqGeSk/UZrKPn3NtjxET14+6FHFPYW/YT1FysU9dHXtOm2CkTzNgEM+IYGPPgzFjj7Efw4+IyDiPWpwHz2RDCY/Y7W8PqtdyzweWzM+wIAtPbFDSTzB/5w9hDCCPvcstjxTY8Y8Xpz1O6j4Nj7WxJM+y+MLP5eAkD4EsAA/ZJN+P7Fwmjwyn5M8goSsPj46uT6Z0cg9ljuXPmHQQz9yqFU+Aq4UP/Is8j4EBBg+d1sKPjk2ADwET6Q8+ZARPt/T6Txc+YQ6IE33PhBOADuxp0Q9jiQBPhLMXz6fJSg+lM8KPzbkfj+zEX8/APX/PpDofj8sJGY9fnPpPP+NIT20FGU/XKQaPiedEj78hnc+s8luPs3Zbz46q4A+pZ5GPzXNjztNw9w9n84WPrVN1z2LXCI9vUXzPd+Pqj5HOhY7fkxZPtL/ED/Lmw0/cYG6Pg//Mz/EctE9Vu2TPv3IqT7ot9Y9p4UwP9dqaz4kPTQ8sjE/PpBlVT8AAno9lmUNPup1Jz3zsJs+CY/CPIgC5j1RzHY/2nOgPXDkCDzTHy8/mZLEPrY0bTqcwnk7r0gAPyLNsjuWllc90HPHOwxbTD0BCQs/GinVPY0XTz946xE+me7RPOVFszv7I7o+X4ZWPup75juK9xY9htRBP++BRjxPCBY/qFznPTSYFT+B4CI/i/ygPIvqjT62CLE+p12QPkaQBD5NSJY7Y060PrNWAjthgR49y1CfPoaTjj2igDY9wLy6Pf9FdT7VHts+aMnTPqt64z1Nlfw98CdsOW3WNj/d2aU7s8eWO531Hz5z1w4+IZ92PhM/Ej+eELQ+oRwRPK8n+D5Acxw5yi3GPljN7zslXFY+QfQAPZGMQTzJiIQ8MwhEPoGvXD462yU+z+4XPrfYeD67giU/rcaqPYjkED68EBo/L0dtPIYjCD7RqZg89HtQPA/MXD9YyAs/L/51P3K6hz7pGIQ90tCDPuq58j5xozY+8IUkP4p+ez2/kxw/z+QnP0LGoTrmkQs+hB/MOw6qQT9WkvI+9iQCPXN6RT0XJ+Q5qY3WPtVXZT+IngY+WyVoPPPnAz8LByI9tM4APiAlsD1kt8g8CmJ/P86trT1KZ3Q/NduQPTp/MDsUc4w+tisiPhnXGTwTS4s+9I4WPIAGPz5pLsw+gGLmPXA0ID8QENc88L9zPs8ptD1O74w+XsMkPn8iTj+lpmk9pZyKPlLheD/CXik/revjPL8ALj1SsoQ8ZF2wPibUQT6vhxE/O0xxPlqjKj7C7uI+XWU8Phi7hjvbDvI8z54VP13TKj0AAIA/byZOPifTMT0amDw/doCvPpQCkT7kGz8+aYbpPXVY+T0ynD4+OvmqPeR2FD9CVns98DMDPdIa9D2Kzk0/KY1SP1AMEzxCQwg+9RuZPo+QgTt0TqI+8tyTPoh5BD6NWIU8wEa7O4AfCj5ysCY/Bx4eP4uvpj4DxN899m/fPJG6Ez67+5I+dd0YP4ba1T2PyG8+WTCtPaUpsD0r1fs701gfPaKXqDtnvZg+GtjiOUrHcj8erLs7kAGNPtHUgD2LQW89cLu5PsTWZz2agW49yIfCPlTv4z0r6Wo+kLpFPneHGD1D9L49t2I6PmA+rz5cwe48loGJPdzvgz66jo0+rdJGP9ctgz4Hh046XoWTPhu4xT5JTOA8dmuxPQVAKT0UNa89jsUnPA1d+T7bSWk9QZV8PgQJCT7z1v09oOwiP7OaoT4CFWA8w4W8Pu+0kz56GKk+D3VBPkBHRj5pSCk+mX/5OkRTuD6a07o9bGMjPOzKxT6kLyM+70cRPqUIfT0dGMI+BzGBPZiIWj+KNLo+BGuDPPcjLT79oQQ+KSoVPbRqaD3hHBA/xFPYPJvElD7/e0Y7dFE3PSCtBzykyHU6Q0b+PUiqWT5hjv47rNrcPOkhFD5jvJw+nmW2PkcTdT2VKSY8eBbhPtR2wT5znCA+0B+lPS6btj1yW549Vyd8Py/LNz8UZE4+g3EZPz4UpTyvEzY/OQHOPRueLj4kwbE5h55+PmmEkD0Xmw8/HBJlP0kafz/fJ7I7zPHIPqs8dz/qceo94HJ+PstMez4n9g89ApxGPmvLVz4Foxw9JHCYPB5oPz2e9FU/AACAPwIgXj3G7jw9PdfvPkRkXz48U/Y+N2FtPkftDT7TnCc6NYkBPpq2STzY4p09S40tPua2xT2aTFs6Le4ePo/QDTt1EDE/Dm0NPv7P6D30acc+vfQaPbi3gT1mGMY92YsUOrfyoT0HtVk/yCuRPudSNj/nX/o+XYV5Pj8sqz6nqyc/ucgEP05R3T6zi8s7m0/MPaPyszvZuuE9vga9PnXcXT8I9DU/JY62PcUh2D4s14o+8kWjPk4F5z6RRGA/UH5ZOziXTz+c5yA/Mc8FPRe30jyJa3Q838wbP1BSkz20uSU+q2jlPJZlDT63fHs9J9CuPVnVZT/oCPw9H8MiPoweHD+5kpY+bTprPqMkJj6loSs+c2fWPrDvJT2EESE/k8yYOZyE/z2W/f0+LsqUPbIt6D4HdRE97aiYPvAcDTzn2Qw+tisiPg1uFT0xclw+VwJcOdewgj4VXKY+R/ApPqbk7DuFRCI/6UFoPHbBNT6IbAg+QiM7PwM8lzgQuq4+V+/jPaQLHj+DnYA++ZcXPjxVPj8m4OU9z8/WPqY6tT4vIvA+qXfSPpLMUj6rIl0/CNGCPG0KJz5N+5I+C4iXOqGzkz63N4I+QE4wOCsrZz/oz5Y7i8/hPY7ayz59IZc+GJYJPxAEUT5TiBU/foaWO0xl9DzLo0c+/GljPM2VKDwTLUo7QbFZPXAJuz5yHMg9fIB8PSuHtDqwLTo/oI03POIELT/BHIk5fSlmP9sguz7ErDI/x5PXPEdVmj3cQB4+C3ltPmJTZz5U9Hg/05lVPhU8DT2ve6g9B4HqO9ziQz7rFlQ70eYnPwxtBT96lCw9UQDIPNZy6D5dC6g+8vcjPp2E3z2nVpk+8I6dPvS/iDtAuuU6XI/+PKvOoTwNplY8FcFdPJuboT6wdLQ+QpbiPitNoj2ocxE9MZl2PwFrKz4vXZ0+l7UyPv108T305Nw+AzMjP/qsHT9Fxzs6k3ELPL8TTj1JdhY+mMQCPN6mPDu7ieE8J1xmPJ36gj4dUgU/xPtFP+cHbz29pqo9+sYLPynXbjsx0dY6S6x3PmFzGD8aKdU96aPhPEirzz0sDmA+Ni7XPCfGIz8zN0I+t/SZPgKzjT43kL0+y3ZYPUMvKz6fe24+bTAJPdnQqD0LUNE+qdtEPEP3Sj7HsGY9y5nrPcsxjz4CLm8+5rqFO0PHBDvWd3w9Dh/sPsQCeD55w2Q9Zx4dPlHb8D5kAB87Rqf6PFMgezuyCK88vGYlPTsRBD86a3w9r0IOPo9+Tj8hZis+iE3PPusSHz+R7Xs+6wD0O/6pVz7KX2s9hTC1PVW5Qj8Lg587yx2dPttNbD16myo/MSt8Ps55CD/s8rI+YoRnPvZaAT+9CL8+mb8RPsgyOD7SOTs+EuMLPpgpOzvOd346hQ67PTF98zz3Bz898RzpPl3oID/eaRA+Fxa4Pa3x1j4bIv89xI7pO11LDD6YpjY+VccEP3w6Kj8CrPs8H+cnP0WbOD42bJo+dyMQPim4kD0CiDI+RJUCPtxlJD3cAb89bn97O/n2Lz4Rpgc+PGQ2P762qz3M4Mo9F6FlPlafcj+lhGE+kPgyPcQ+QjzPa58+2U/DPl3oID8RRrE9vvDjO5NpQT7ZYgY/fS3mPizxHz6kL908AbtgPgBXFz4IHAk+ip1LP70UWj/oqPg8XKffPX9JbD5gqaQ8xA9QPhvdpTvN7ZI7yVg1Ppe9LDwdfE8+FfcwPzVnHj7FCuk+Yw3OPhnKljs4tyo/TRilPifYQz+7eXU+ufAGPq9OpT1NlqE+mp7DO9RA4T6VcQ49rQzXOnJYGj9/e+E9yKftPO+L3T7E27M8+qcLOpCeTj2GaYo+36itPBZFNz5UlMk+sFYpPypsuj0imM88AACAP9yjTT4pNis/90VpPnIedD73Gfw8o2J6PYJ99zzRnww7A9NrPp9tOD3JL+87JBAxP8JjNz4mysA9dzyHPW7ssDwCNI89UTmDPrBSyj08tRk/NsHDPnnyHj8HCzs7f1jYPjmJ7z3Asb0+SH7TPfNEwT0SlpQ949wTPrAY0jzHwyg+aLSnPfMJQjtfiTI+Sx9VPkDMcz2cSak9ZqIiPj3iWzyCp9U+h31hPntPvT4whBI8AACAP4haiD7FPTo/s14tP70Ivz4zujw+Ok26PV1qND/nfrQ8GXZZP5d55j7AquI+u9tyPmKzjDwlhTI9Us+vO0EqPTy5psQ7V7cgPYXzJjxjFA0+m2gCPlUx3z5oebY81CCTPRHXnT4459A+F0AAPj376T5wje4+LwaqPW3saT5pmUw7tcGfPCUOPjzV5Q8+BcJuPioArjn8eCM/8qbSO8iSoz26g0o84fAOOpVlAz2SEOw9GRGvPn23Gj+eoB89rI4wPVWRPT09/vY9wOanO7w8cDysuws9E5ktPjV3Rj9uH5k76jFUPPl/5j5aJfA+Dh+cPnEbxD4tjhM/dxVDPmVVGD9m8Rk9pFhYPo38xD7iHko+jyQBPi8qrT4COEY+41AKO/jW6T33yMg7krTMPp1tIj8sm4A82e2KPuN+tjvgqR4+fBUGPZxH1z73PV8+XEqrPFA9cTtJGe09uYKIPpPHHT38s0I9hPi2PSqEbj4AAIA/9mORPiV9QD/sD4k7TQupPB9KMj+8x+E8egDnPb56kT1FukY8LX/EPev/5z4/eD48UKgsPcaIqD2CNxw/B5xdPv1nez4RSxE/v1IIPmghcz7CrMw+2SUfP1ipBT6XxXM/ampNPvuUgD6Aq3o+bCMGPVJAizzp5MM7lFcYPq8Qqz5HxcQ8mFNHP9lVXj4vo7g69WY/PmECGT6i+8Y+3qgMPgc15j3jADc+L1QFPZ+KVz3ZabA7avnxOhqPzD1vmVM+goaAPvPZUj0UXW89oAolPiRNNj2L8hQ/DZXKPpMlfD9qaDU/yf8lPFG/IT3pDUk9SYY8Pcfzgz0BRnU+lX6LPaAYOjy5lDQ+7n8lPQv3oT447DQ/V4kiO1aoHj9YApY+4/ZdPbTEjD1YApY+WBKYPUHO8D5yW549hVbmPXfatD56X5M+a7z8PYC9zD2RO64+F3XGPcB55Tt2tZg+0wpzP8n7qj4SlOs+HzMbPxNARj1j1J0+moVFP7dWAjtDdEw+f8+ZPkpNjjtuCJ0+Am8QP34VIz/7Bc4+/WzLOwZe7T4xO9Y+1s9IP7Zmhz3ZUds9JAaYPQdJVT5wR7s91MYAPkvEEj4dBbw9OMEbPXa1mD4Wvgg/wdf7Pr3KnjuxodY9LCXpPZWwZT7uLnY9OJgCPTyebj3zTwU9O78TPvsUlz0F+U0+W4+hPMkkqjxMn40+we1LP6W5PT/EbgA9TGW7Pce8Uz0bYjk96Q+ePaT7ET4hWjU/XeV2P15BWT+4quY+H6xGPhjykT5iwD0+5FQ+PMiYiD1VsBU+PmBoO5wSzzsiVYc8HgdZPigE1zuikzE//Zn3Ph5PAD6921c5wi9aP7j/iTwuqvA+MpVbP6+0Jz9LM0o/cCOVPYvKdj8nsgA97AIVPwcTaT5E6CQ+LNzcPoxNYz9kvbk9th/hPBqggD2U9Ak9yr8XPExwqjv0gc49yiibPGk5vT6T1DU9cOpXPt2osj5BPmA+/cQDPwAKBTz/lnU/TE2pPv97RjtyE70+ohTEPNcFkj6RmZQ8f4q1Omd6FTxgPR0/8QJSPugVoDz5NrU7I8prPqSN7j5gNIU9L2qQPtVdvT6w7gc9wmB5PKEl8zpxURI+BCv9Pa3KAD6DYco91QUMPmaQhD6NxCc/m7XuPlbRLz5Buww+Va9rPaBWBD/jN84+BgxfP6XjOD0FMEg+3/T2Pn6Zgz34h6U8YD0dPynoXzx1/Y49ZxBZPsXqCDnU9hQ+uxlOPWJ+5D7Bxjo4SCCKPRGN0T1+DUo+afKEPitFhj7nvzs+gIpyPS11eT7hpC49OWllPqNNiT7pK/Y9k56+PSb+zz7DNOc6+QFXO/EIYj15Jq08j08VO8gFOT1q7+w+CvvBPhtZyj0aKdU98UXLOvy7yj1QUck9LaE5PUX3bz34Jrc+EJSkOnROoj4i2BA8c6QQP1jL+T6coiw++c16PnUlSz6FWVc85rqFO+XUNz6j124/xyc3P1xxOz4jqvY8EjWvPTfJGD35tuk85BEWP7ccGz7aSLg+JbwCPplIaT2P4wY+QFkYPhg8CT4aB9E75KQ7PxZ0ST752kc+jkiePlBBvj4UnJI7V78IPhU8yz3252E+46OXPk819D2ahjo/2wBoP00B3T4Mn2E78KWNPvleDj3DGyo9Tqo4P8Fk8jxZ0Aw/6I06PsCA3j4nkGA/TPAOPqBawj16LCc/RqM3PrHuCT5d92U/ks6LPopBCTtz98U+wvh+P15EjTzzLhE+9DuAPtGmDjojR4M+mRasPlzgxz6s/JU+a3kpO8Zjdz+zDzI+WeU8PWPGej9sod49+VVgP7ZwHz/T47k9BuPsPu/kpjrlABw/uUc/Psbiwz3gNrI+f5cLO2CZAT+6oDQ+bOQRPnQrZj7j13c+n6sxPsN4ND8x1vA8KSi1PncXsz5Sf6c8s8isPi6btj1Eso48/a8WPuMJ6z1nz44+dMO0Ps+QGD3lC+8+iffJPhEkKT9B24o6rTCTPqJE8z1AKrc+PwsiP4hvgj5+YVE9X9YEP4eMuTsI+JY6sJerPN5iuz3gG3Y8JhrtPe32wj49iSk/LNYAPnaxRT+yclw+sAC/PHcFRD8ShFQ82vboPrEsiDwCIF49BGcyPf+GpzsgYCU+W2LJPCFrsz4sqlQ/VebAPvqLqz7r3jE9VMMuPhE85z6ixG0+snxJO/La9T30lrY8zs5tPBPuCjpGSxU+3cOBOp4tuT6XvvQ+LwaqPXCHgD4X94E881IIPw8phj3eq+E+jkyNPcmG3T6CJwM/ZxLEPRZb5T78m1k7wOLCPk34FT8rRM0+FvzBPSVfDj5c55M+3wsTPRUNIj81cwY+JUZAPh4UPT3cNOg8wBx4PEgVJD3zb4s+ywjyPr5UHztyU/M+xk9uPQAAgD/q6U4+quWNPRfNBD+MHpE+yOC5Pc7d8T0lWBk/zQcXPlDf5zr8OlM+NZlSPXejBj24t5Y86UKMPTNu/TyeaGU+1+R7PKn0DD8IqEE+HBFIPvfXlj348bQ+hkjcPkJFcT1wW549g1eCPN5DCj6PYS0/BtuvO/7cEz52L8Y69Bu0Ppxj6z7urJE8d8lHPwRwKD7YnBo+hgscPe+qVj6Frwo+3cPEO6W49j6WvZQ+XdXpPXfYSTzXC4E+v5R2PXtWwj38eIg+hOqCPoMkkz4qe6k+SUppPguIlzorvAk+qkY1PDCvwz7CXXo9l3UBPKpcvTzRxb0+jP8iP+bZND4zMLo88G4KPu8vxT5AMX89CkwgPnjQpz7jaaU9JBwQPurEjD6yxDw6rgUQPe7lRz0/MaI9/erhO2Mrcz5kIx8+SFvRPPXR2Dxsgr8+VpKIPjGxHT0RTJE9+y8/PtdSTjz/XPU+X9EZP7sAOj5g/nY8uloNP58WnjvILWI+o9NiPsB4/DwI5v4+PGFePvnBjD6mAH8/Pwt1PUJJNj4rn0I/A5xZO25/ezvt/YQ97oFdPWaeajy4S409bNfvPmbxGT27d3c788OHPLN/GD4Xgxk+bdaEO4cFUzwbNCw/ffgMP3NYKD5j1J0+34QsPoWpWDyO40E+d2z7PAYmdz4aKdU9exlHPUj1XDvRUvQ+JGTjPv3KHzw/Hvk8/aBzPgF0iz2SX589TzoUP2jyHjmjP7A82ZwaPqtfpTxGV289xUE6PwACej2hwlY+li6XPlJKljoeCjw+G3mkPjrvnT1CujQ/70NaPv0cwT4FzK491TyNPmrWITyIeqc+Xv4wPqqJVz1bgrg9KNT1PmJp5j6zDzI+ZjHePWeQhD6yJSM/PyLmPImabj4/fug74YlFPYHcFz7/B1E9v901P4cSEz6d+oI+7mS3OgoKnD7GTu49ygNDP/JKgT4dC107xaw6PyAUZj7wezc72nkbPzU+0T052rs7oiGsPc7DLT7+sic8PODNPIl1YT77V5Q9tMSMPSzgDD92nhc/nVwwPnNESjpW7ZM+zirQPeKSMT5gNE0//4l3P9kPpD07NKI+qfm3PQyMSj9O6GA/JOOpPR54AjzqEwA//q2oOlepJj8/Fo478VupOZqvHj/k0Pk+ngLrPjmaDT6Rc0g+LFHKO6cdpD4ODCw+kWlgPizddT4rCvY+XJ1pP0pKDDvRsi09b9aRPvmLOz8Weis7k/+hPZjNoTy9Mrg9ecQNPikHPj5Lkok+JKjhPqjnuz3EsOo7aRjBPuEJ5D6vKFk8my4nPeuTMz9zx5I7yuaxO42Hfj9bpUI+KH+MPg933zsD1go92xABP7lFlz5faVY9ow1BOwLa5zzw+bk+WA63Pvz18T0TRGM6NtkQO2a6Qz4PatI+fFMVPf7U1jzD26g+RwlCPsw8ST/OEzU+sf6GPk4caD2Icks+0nE0PhR1QT9G4xY6/zlzPvaXFT6fYdg+TPQLPgC/pz0iH3Q8bwvOPV3aNj74X8M+uGKqPuJjSD9MVFg/KssKPUXEbz4blx0+voaRPYiM4Tw+HY49XSejPlsU4jy4MHY+w18GPqidgjzXI4o9H3mxPe7AqD5qATY+zlCRPuJNeT68OGI7v8eBPqamOD/4d8E+VtksPrfT2z1/0S8/zAKAPixxXT/9riI+Ss5vPla74z0fXUM+Rd3jPkcqCD74RSA65auxPmYOFT1I1WE7zeRfPwLPtz6onwM/kyd3Otdvljuq+og8shM0PrMtgT7tvDI/7PNNPXW2ajyXLnI8jq4wPtIbzjuzLYE+t7NLPYocFjoLypM+dvIZPq6hID8TtXo7KrbXPKGjpj6QIBY+e0WhPhBU4D7Cakc8dOFrO3rbnD7oYsQ+W4ppPmG1jT1AFDU/ywHHO23jvj6cFxs+pfREPeI66z6yrco+6/XMPhQiuz3MrqI7CDxvPJrZij0HiAI9S9uVPZ3GIDodPl08Nc6LPmZ6gT6pMhw+S6WEPTrhej8+teo8847nPsBmeTy/HK0+GInNO+AfeT9B2go/KIurPhuJET9ZIZM+VGHrPX7GPDp8obM7x0yVOxWNTj+q7Ow8FVG3Pik6wT7i1Ag/4db1PSR2KT1/0K0+astXPhnMjj6Cr4M+j13aPal6wz1UZy08dbOAPHokDz+bjGU81mmlPI0bkDuUMyw9Rhd3P8X4WjtXmOU+tVuUPoKahz6XwvU6WS5zPRSGPDyK1E8+X60AP0+LEj9SDys+oT6rPFy+6T33wpM+xkjYPlHWKDy1HkQ7p5oLPQ/fuzpJE2U/HIN9PuYRnz2j6gM/7Qk5PtuWzz1NDIw+qzvLPZ5a/jyG/JE+sSWJPitJHDpGeXY+b4O1POW1iD6RYQ8/Q+++PtvlID4DdAw9JOAjPmmQPj6jqxY9zLQTPvi4pD7D0RQ71/uTPQDnNT5kiBY+CzNLPyIWVzpm0aU82rgtP9LPLj0e1Rw/1kA1P347mTnFo3s+7swTPob4xTsxWtM+GMeKPOHDcD4H+YI9XjSFPUi3Jz/liyI/ilSQPgKIMj7t4y48y3a5PpRshD5ceTs/N9MhPcy/CT6uQOQ9ZPEVPu06+jxkQ7E+bQdvP0LTrj1iLX88Q4wlPCa5PDsinfc9nUB6PzrTxj4njFY+1t0kPpAIWz/k4Cc+qkyQPlqbpTpfTwI/rgo6Pubxmj4xsVI91PmDPsJX8z1UDiA+TuD6PUuSLj7FbvE8kGaXPFsZzT361qM9TdxEPRlkgj7ciP8+7tVzPi6gQD2iHmM/FcFdPHF2iDz6F+I7lJGQPqPiFD40+0M7iG0IPnetjT1RIiA9k5ixPS9oijlu4hs+0eGRPXgd/j64ChM+ZwjpPEtvNz6wdgM9ZskFP1NVsjz6MxI6mXUUPlyiiD7CgHA+K9DIPC9JHDqfNwo+a6qOPm8YmT12BWA7O1r9PbV60T1qtEk6rKqpPb1F8z1bx3g/x8V9Pq/Qkz5JJ3s78p1zO+UT0T04+Uw+A40FP0IbHDsGwwY/cdYjPLklAT8He688HJ3cPSQypzs7X18+xvTJPKRC9T6LU7o9ZFxyPJTodD+c6g89jxqFPvwVZz4a9Xc9axR1PhNkTj4w1KA+1HWHPid0uT7R92g9Afj5PmHoKz/fGT89fFoIORXGHzybxdA6mb1oPazrOT5p/u86UPBVO/H5PD6ycgU/kmWfPnWFOT4Ay306Aq1xPvJldD4aKaM9MspJPoAvwz3j3hs9vkYUPUyNLT62FWA+f5UQPxnXSzw6N309O0avOyltYz66BSA9FRILP+6t5T506iw/V8zKPkb2uDvRRCU+eaCKPusI8DssD2k+9UhlP/6qxzueXHU9ovUaPnOKMT3MkYQ+aN2CPZQWkz2JmpA7CKazPgAAgD9OC3s8rH2MPpN+Tjt3ocI7r6iLPRmzaD/WYwo+AACAPyRqQT2B4Bw8RAIIPYIIlj4AAIA/NdApPZ2U/zpmqPQ+K/3cOQNSLz6dJ/k93H1+PhzCWz7GQa4+7h/8PgIEhj2PlJk9lv39PkLhgj3Y3OA8W4ppPgKRSju5lTc/KEeuPmf0cD7WMTQ7NwWgPtvfVT/zdZE+AACAP2Ypvj61TAw9cTcgPaclBj+dwuc98j/DPv4+LT9Bi6U7RMPwPtaSOD79oeA+LOs1P31LVj/G+zw9slopPiow0T78r+w+rJNOPm5HDz5nrm89+rCEPmYBhz78UU8+G3txPRiIyT5USOQ+QhQDP1Pl6j2PXCo8/rS+PfpNDT5a1NY+2pvRO163Hj4ZgBA+3z+aPcqwrT1nkIQ+wJTVPZ24yz5Jmx0/XVxyPG6Fhz5Wlkk8SApNPubLxD4YXYg9N3C8Pis0hD7LwmI80xvrOcEcAD+JVBY/SCEAPRhsED5p8pE+AjgRPpEIGz7yQsI+0s91PWtGbz4PRqo9QKlLPjhFOj1wh4A+8OwFP9XVozx+7Zw+FX4pP+Q53T7wlpo+BZtGPzGSaz5sZiw/bH/1Pmua4Ty0DzI+pAkJPy6MCz/gCVA+s0hPP4dehj3nXUM8g1MqPX+r4D1w5gM/V2QjPxBIQz48dxY/74UwP3BGLD5uBgs8TN+5PfSboT3YQw8/wfToPmIJOT6llUY+SAoWP8COdT9i+748A3v1PUX7vD4jCcM7hVbmPbyFET4DUpg9KTxPPuv8Xz4BpTI9d1sKPlTC0zwF5dg9otz5Pn4Iiz2GDH89xOuaPNtVij7uw7M8RnBfPnyy4j4qihw+zd1dPZACIzz+GOY9hjbTPV7+Jzws9Yg9gLp+P+xkFT/pXNc+vnxEO/TCxz1630I9TRsKPysuOT48MDc+STDRPi6ZUzuYDT4/lowzPqCFDD5jfJ4+nfQLPwaypT6sZ305Ht9jO6zRuTuTqJY+jxNJP/47xz4nSAc/yYJRPxTfuzp2C58+PwpYPr8oCD4s1es9KRt5PyDNhT6kwnk75mYtPXg3+T0ARas9pyNtPV7thz4G1Yo+8UTBPSpRxzxF2d89L0VRPVphtT4rFQA/ve0DPw==",
          "dtype": "f4"
         },
         "y": {
          "bdata": "AAEAAQAAAQAAAQEAAAABAAABAAAAAAAAAAEAAAABAQAAAAEAAAAAAAEAAAABAQAAAAAAAAEAAAABAAAAAAAAAAAAAAAAAAEAAAEAAAAAAQAAAAAAAAAAAAEAAAAAAAEAAAAAAAABAAEBAAEAAQAAAAEBAAAAAQEAAAABAAAAAAAAAAABAQEAAAABAAAAAQAAAQEAAQAAAAABAQAAAQABAQAAAAEAAAEBAAAAAAAAAAAAAAEBAAEAAAABAAAAAAAAAAAAAAAAAQAAAAEAAAAAAAAAAAABAAAAAQEAAAEBAQAAAAEBAAAAAAABAAEAAQAAAAAAAAEBAAABAAEAAQAAAAAAAAAAAQABAAEAAAAAAAEAAAEBAQEAAAAAAQEAAQAAAAABAQABAAAAAAAAAAEAAAEBAAAAAQEAAAAAAAAAAAAAAAEAAQAAAQABAAAAAAEAAAAAAAEAAQAAAAAAAQAAAAAAAQAAAAABAAAAAAAAAAAAAAAAAQAAAAAAAAAAAQAAAAAAAAAAAAAAAAABAAAAAAABAAEAAAAAAAAAAQAAAAAAAAEAAAAAAAEBAAABAQABAAAAAAAAAAABAAEAAAABAAEAAAAAAAAAAQEAAAEBAQEBAQAAAAAAAQABAAAAAQAAAAAAAAABAAAAAAABAAAAAAABAQAAAAAAAQABAAEBAAAAAAEAAQAAAQAAAAAAAAEAAAABAAAAAAABAAABAAEAAAAAAQEAAAEAAAAAAQAAAQEAAQABAQEAAAAAAAAAAAEAAAABAQAAAAAAAAAAAQEAAAAAAAEBAAAAAAEAAAAAAAEAAAAAAAABAAEBAAAAAAABAAAAAAABAAAAAQABAAABAAEAAAAAAAAAAAAAAQEAAAABAAAAAAAAAAAAAQAAAAABAAAAAAABAAAAAAAAAAAAAAAAAQAAAQEAAQAAAAEAAAEAAAEAAAEAAQEBAAAAAQABAAAAAAEAAQAAAQAAAAAAAAAAAAAAAAABAAAAAAAAAAAAAAAAAAABAQAAAQAAAQABAAAAAQABAQEBAQABAAAAAAABAAEAAAAAAQAAAAAAAQABAAAAAAAAAQAAAAABAAAAAAEAAAEAAQAAAQEAAAEAAQAAAAAAAQABAAABAQAAAQAAAQAAAAEAAAEBAAAAAAAAAQAAAQAAAQAAAAEBAQEAAAAAAQABAAABAAAAAQAAAAAAAAEBAAAAAAAAAAEAAQEAAQAAAAAAAAAAAAEAAAAAAAABAQABAAEAAAEAAAAAAAEAAQABAQAAAAABAAABAAAAAQAAAQEAAAEBAAEAAAAAAAEBAAEAAAAAAAAAAAEAAAABAAEAAAEAAQABAAAAAQAAAAEAAAAAAAEBAAAAAQABAAAAAAAAAAAAAAAAAQAAAAAAAQAAAQAAAQAAAAEBAAAAAQAAAQAAAQABAQAAAAAAAAABAAAAAQEAAQABAAAAAAAAAAEBAQEAAAAAAQABAAAAAAAAAQEAAAAAAAABAQAAAAAAAAAAAAEAAQAAAAAAAAABAAAAAQEAAAABAQEBAAAAAAEAAAEBAAAAAQAAAAAAAAAAAAAAAQEAAAABAAAAAQAAAAAAAAEBAAEAAAABAAEAAQAAAAABAAAAAAAAAAABAAAAAAAAAAEBAAAAAAAAAAAAAAAAAAEBAAAAAAEBAAAAAAAAAAABAAAAAAAAAAAAAAABAAEAAAAAAAEAAAAAAAABAAAAAAEAAQAAAAEAAQAAAAAAAAAAAAAAAAAAAAABAQEAAAAAAAAAAQAAAQABAQEAAQEAAAAAAAAAAAAAAQAAAAABAAAAAAEBAAEBAAAAAQAAAQAAAQEAAAAAAAAAAQAAAAAAAAAAAAEAAAAAAAAAAAAAAAABAQAAAQAAAAEAAAAAAAAAAAAAAQAAAAAAAAEAAAABAAAAAAAAAQAAAQAAAQAAAAEBAAAAAQAAAQABAAEAAAAAAAAAAAAAAAAAAAAAAQAAAAEAAAAAAAABAAEAAAAAAAAAAQAAAQABAAABAAABAAAAAAEBAAEAAAABAAAAAQEAAAABAAAAAAEBAAAAAAAAAAEAAAAAAAABAAEAAQAAAQEAAQAAAAAAAAAAAAAAAAAAAAAAAAABAAABAQAAAAABAQAAAAABAAAAAAEAAAAAAAABAAABAAEBAAEAAQAAAAAAAAAAAAABAAAAAAEAAAAAAQEAAQEAAQAAAQABAAAAAAAAAQAAAAABAAAAAAEAAAAAAAEAAAAAAAEAAAAAAQAAAAABAAEAAAABAAEBAAEAAAAAAAAAAAAAAQEBAAEAAAAAAAAAAQEAAAEAAQAAAAAAAAEAAQEAAAAAAAAAAAAAAAEAAQABAAEAAAEAAAAAAQEAAQAAAAABAAABAQEAAAAAAQAAAAAAAQAAAAABAQAAAQAAAAEBAAEAAQAAAAEBAAABAQABAQABAAAAAAEBAAAAAAAAAQAAAQAAAQAAAAEBAQAAAQABAAABAQAAAAAAAAABAAAAAQABAAAAAAABAAEAAAEBAAAAAAAAAAAAAAAAAAABAAAAAAAAAAEBAAAAAQABAAAAAAAAAAABAQEAAQABAAAAAAAAAQEBAAAAAAAAAAAAAQAAAAEAAQAAAAAAAQAAAAEBAAEAAAAAAQAAAQAAAAABAAAAAAAAAAAAAAABAAAAAAAAAQAAAAAAAQAAAAEBAAABAAAAAAAAAQAAAAABAAEAAQAAAAAAAQABAAAAAAAAAAEAAQAAAQABAQAAAAAAAAEAAQAAAAEAAAAAAQAAAAAAAAAAAQEBAQAAAAEBAAEAAAABAAABAQEAAAAAAAABAAAAAAEAAAEAAAEBAAABAQABAQAAAAAAAAAAAQABAAABAAAAAAAAAAAAAQABAAAAAAEAAAEAAAEAAAEAAAEAAAEAAAAAAQAAAAABAQAAAQAAAAEAAQABAQABAAAAAAABAAAAAAABAAAAAQAAAAAAAAEAAAEAAAAAAAABAQAAAQABAAABAAAAAQAAAQEAAAAAAAABAAAAAAEAAAAAAAAAAAEAAAAAAAABAAAAAAAAAAABAAAAAAEAAQABAAAAAAAAAAEBAAEAAQAAAAABAQABAQEAAAAAAQAAAQAAAAABAAAAAAEBAAAAAAAAAAAAAAABAQEAAAAAAQABAAAAAAAAAQAAAAEBAAAAAQAAAQEAAQAAAAAAAQEAAQAAAQAAAAAAAAEAAAAAAAAAAAAAAQAAAQAAAAABAAAAAQEAAAAAAAAAAAEAAQAAAAAAAAABAAAAAQEAAAAAAAAAAAAAAAAAAAABAAAAAAAAAAAAAAABAAEBAAAAAAAAAAEBAAAAAQEBAAAAAAAAAAAAAQAAAQAAAAAAAAEAAAAAAQAAAAEAAAEAAAABAQABAQAAAAAAAAEAAAEAAQAAAAAAAAABAAEAAQABAAAAAAAAAAAAAAAAAAAAAAAAAAAAAAAAAAAAAAEBAAAAAAABAQAAAAEBAAAAAAAAAAAAAAAAAAEAAQABAAAAAAEAAAAAAAEBAAAAAQEAAAAAAAEAAAAAAAAAAAAAAQABAAEAAAAAAQABAAABAAAAAQAAAAABAQEAAAAAAAAAAAEAAQAAAAAAAAABAQEAAAEAAAAAAAABAQEBAQEAAAAAAAAAAAEBAAAAAAAAAAAAAAAAAAAAAAABAAAAAAABAAAAAAAAAAABAAEAAAEAAAEAAQABAAABAQABAAAAAQAAAAAAAAABAAEAAQAAAQAAAAAAAAAAAQAAAAEAAAAAAQAAAAEAAAAAAAAAAAEAAAEBAQAAAAABAAEAAQAAAAEAAAAAAAAAAAAAAQEBAAAAAQEAAQEAAQAAAAAAAAABAAABAAEAAAAAAAAAAQAAAQEAAQEAAQABAAAAAAAAAQABAAAAAQAAAAABAAAAAAABAAAAAQAAAAEAAAEAAAAAAAEAAAAAAAAAAAAAAAEAAAAAAQEAAAEBAAAAAAAAAQAAAAABAQABAAAAAAAAAAEAAAEAAQEAAAAAAAAAAAABAAAAAAEAAAEBAAEBAAABAAAAAAAAAAAAAAEBAAABAAAAAAAAAAAAAAEBAAAAAAABAAEAAQAAAAAAAAEAAAEAAAAAAAAAAAAAAAEAAAEAAAEAAAAAAAEAAAEAAAAAAAAAAAAAAQAAAAEAAAABAAAAAAEAAAAAAAAAAAAAAAABAAAAAQEAAAAAAAAAAAABAQAAAQABAAEBAQEAAAEAAAEAAAEAAAABAAAAAAAAAAAAAQEBAQEAAQAAAAEAAAAAAAABAQABAQAAAAEAAAEBAAEAAAAAAAEAAAEAAQAAAQEAAAAAAQEBAAABAAAAAAEAAAABAAABAAEAAAEAAAABAAEBAAABAQAAAAAAAAAAAQAAAAEBAAEAAQAAAAAAAQAAAAAAAAAAAAEAAAAAAAEAAQABAAEBAQAAAAAAAAAAAAABAAABAAABAQEAAAEAAAAAAAABAAAAAAAAAAAAAQAAAAAAAAEBAAABAAABAAEBAAAAAAABAAAAAAAAAAABAAAAAQAAAAAAAAAAAAAAAAEAAQAAAAAAAAABAAEBAQAAAAABAAEAAAAAAQAAAAAAAQEAAAAAAAABAAEAAQABAAAAAAAAAQEAAAAAAAABAQABAQAAAAAAAAAAAAAAAAEAAQAAAAAAAAAAAQAAAAABAAEAAQABAQAAAQAAAAEAAAAAAAAAAAAAAQAAAQAAAAAAAAEAAAAAAQABAAABAAAAAAAAAAEAAQEAAAAAAAAAAAAAAAAAAAAAAQEAAQEAAAAAAAAAAAABAAEAAQAAAAAAAAEAAAAAAQABAAAAAAABAAAAAAAAAAEAAAABAAAAAAEAAAAAAAEAAAAAAAABAAAAAAAAAAAAAAEAAAABAAAAAAEAAAAAAQAAAAABAAABAAEAAAEBAQAAAAABAAEAAQAAAAAAAAEAAAAAAAEAAAEAAAEAAAAAAAABAAAAAQABAAEAAAEAAAAAAAAAAAEBAQABAAAAAQAAAAAAAAAAAAAAAAABAAAAAAAAAAAAAAEBAAAAAAAAAAAAAQAAAAAAAAAAAQAAAAAAAAAAAAAAAAAAAQAAAAABAQAAAQAAAQAAAQABAAAAAAAAAAAAAAEBAAEAAAAAAAEAAAAAAAAAAAAAAAEAAAEAAAABAAEBAAEBAAAAAAEAAQAAAAAAAQABAQABAQAAAAAAAAABAAEBAAAAAQEAAAEBAQAAAAAAAQAAAAAAAQEAAQAAAQEAAAEAAAEBAAEBAQABAAEAAQAAAQAAAAAAAAAAAAAAAAAAAQAAAAAAAQEAAAAAAAABAAEAAAEAAQEAAQEAAAABAAEAAAEAAQAAAAAAAAEAAQAAAAAAAAAAAAAAAQEAAAEAAAAAAQAAAAABAQEAAAAAAAAAAAEAAQEBAQAAAAABAAAAAQEAAAAAAAAAAAAAAAAAAAABAAAAAQAAAAEAAAAAAAAAAAEAAAEAAQABAQEAAAEAAAABAAEAAQAAAAAAAAAAAAEAAAABAAABAAEBAAEAAAEAAAEAAQAAAAEBAQAAAAEAAQAAAAAAAAAAAQABAQEAAAEAAAEAAQEAAAEAAAABAQABAAAAAAEBAAAAAQEBAQAAAQAAAAAAAAABAAAAAAABAAAAAAAAAQAAAAAAAAAAAAABAQAAAQEAAQEAAAEAAAEAAAEAAAAAAAAAAAAAAAAAAQAAAAAAAAAAAAABAAEAAAABAQEBAAABAQAAAAAAAAAAAAEAAAAAAAAAAAEAAAAAAAAAAAAAAAAAAQEBAAABAAEBAAAAAQEBAAABAAAAAAEAAQAAAAAAAQAAAAAAAQAAAAABAQEAAQAAAAAAAAEAAAAAAAABAQAAAAABAAAAAAEAAQABAAAAAQABAAAAAQEAAQEAAAAAAAABAAAAAAABAAAAAAAAAQAAAQAAAAAAAAABAQAAAAAAAAAAAAAAAAAAAAEAAQAAAAEAAAABAAAAAAAAAAABAQAAAQAAAAABAAAAAQAAAAAAAAEBAQAAAAAAAAEAAAABAAAAAAEAAAAAAAAAAAABAAEAAAABAAEAAAABAAAAAAAAAAABAAABAAAAAAEAAAABAAEAAQAAAAABAAABAAAAAAAAAAEAAQAAAAAAAAAAAAEBAAAAAAEBAQAAAAABAAEAAAAAAAAAAAAAAAEBAAAAAQABAQEBAQEAAAEAAAEAAAABAAABAQAAAAAAAAABAQEAAAAAAQAAAAAAAAABAAEBAAEBAAAAAAABAAAAAAEAAAEAAAABAQAAAAABAQABAAABAAAAAAAAAAAAAAABAAEAAAAAAAAAAAABAAAAAAEAAAAAAAAAAAEAAAAAAAAAAQAAAAEAAQAAAAAAAAAAAAAAAAEAAAEBAAAAAAEAAAAAAAAAAAAAAAAAAAEAAAABAAEBAQAAAAABAAAAAQAAAAAAAAAAAQEAAQAAAAAAAAABAQABAQAAAAEBAQEAAAAAAAAAAAEAAAABAAAAAAAAAAEBAQAAAQABAAAAAAEBAAAAAQAAAAAAAAAAAAAAAAEBAAEBAAAAAAABAQEAAAAAAQABAQABAAAAAAEAAAEBAQABAAABAAEAAAABAAEAAAAAAAAAAAEAAQAAAAAAAQABAQAAAAAAAAABAAABAAAAAAAAAAAAAAAAAQEAAQABAQEBAAAAAAAAAAAAAAAAAAAAAAAAAAAAAAAAAQAAAAAAAAEAAAAAAAABAQAAAAAAAAABAAAAAAABAAAAAQAAAAEAAQEBAAABAAEAAQABAAEAAAABAQEBAAEAAQAAAAEAAAAAAAAAAAAAAAAAAAAAAQAAAAAAAAEAAQAAAAEAAQAAAAAAAAABAAAAAAAAAAAAAAEBAAAAAAABAAAAAAAAAAEAAQAAAAAAAAABAAAAAAAAAAEBAAEAAQEBAAABAAABAQAAAQAAAAAAAAEAAAAAAAABAAEAAAABAAEAAAEBAAAAAAEAAAABAAEAAAEAAQABAAEBAAAAAAAAAAAAAAAAAQEAAAAAAAEAAAAAAAABAAEAAQEBAAEAAAAAAAABAAEAAAAAAQABAAAAAAAAAQAAAAEAAAABAQEAAAAAAQABAAAAAAAAAQAAAAEAAQEAAQAAAAAAAAAAAAABAAEAAAAAAAEBAAAAAAEAAAEAAAAAAAAAAQAAAAAAAAEAAAAAAAEAAAAAAAAAAAAAAQAAAAAAAAAAAQAAAAABAAAAAAAAAAAAAQAAAQAAAAAAAAAAAAEBAAEAAAEAAAAAAAEAAAAAAQABAQAAAAAAAQAAAAEAAAAAAAABAAABAAAAAAAAAAEAAAABAAAAAAAAAAAAAQAAAAABAAABAAABAAEAAAAAAQAAAAABAAEAAAABAAAAAAAAAAEAAQEAAAABAAEAAAABAQAAAAAAAAEBAAAAAAAAAAEAAAEAAAAAAAEAAQAAAAABAQAAAAAAAAEBAAEAAAAAAQEAAQAAAAAAAQAAAAABAAEAAAAAAAAAAQAAAAABAAABAAEAAAAAAAAAAAEBAAABAAEAAAAAAQAAAAEAAAAAAAEAAAAAAAAAAAAAAQEAAQAAAAAAAAEAAAEAAAAAAAEBAAEBAAAAAQAAAAEAAAAAAAABAAAAAAEBAQAAAAABAAAAAAABAAAAAAAAAAAAAQABAAAAAAAAAAAAAAEAAQAAAAAAAQEAAAAAAAAAAAEAAQAAAAAAAAAAAAAAAAAAAAAAAAABAAABAQAAAAABAAABAAAAAAEAAAAAAAAAAAABAAAAAAABAAABAAAAAQAAAAAAAAAAAAAAAAABAAAAAAAAAAAAAAABAAEAAQABAAAAAAAAAAEAAQAAAQEAAQEAAAAAAAABAAABAAAAAAAAAQAAAAEBAAEAAQAAAQAAAAEAAQABAAAAAAAAAQAAAAAAAAEAAQEBAAEAAAABAAAAAQAAAAABAAEAAAAAAAABAAEAAAABAAAAAQEAAAAAAAEAAAAAAAEAAAABAAEAAAABAAAAAAAAAQEAAAAAAAABAAAAAQAAAAAAAQAAAQEAAAAAAQAAAAAAAAABAQEAAAABAAEAAAAAAQAAAAEBAAAAAQAAAAAAAAEAAQAAAQEAAAAAAAAAAQAAAQEAAAAAAAAAAAEAAAABAAAAAAAAAAAAAQAAAQAAAQABAAEBAAABAAAAAQEAAAAAAQAAAAAAAAEBAAEAAQAAAAEBAAAAAQEAAQAAAAABAAAAAAAAAAAAAAAAAAAAAAABAAAAAQAAAAAAAAAAAAAAAAAAAQEAAAAAAQABAAAAAAAAAQAAAAEBAAAAAAAAAQAAAAABAQAAAAEAAAAAAAABAAAAAQAAAAAAAAAAAAAAAAAAAAAAAAABAAAAAAEAAAAAAAEBAQAAAQAAAQAAAAAAAAEAAQAAAAAAAAEAAAAAAQEBAAAAAAAAAAABAAAAAAEAAQABAAAAAQEAAAEAAAAAAAAAAAABAAEAAAAAAAEAAAABAAABAAAAAAAAAAEAAAEBAAAAAAAAAAAAAAAAAQAAAAAAAAAAAAABAAEBAAEBAAAAAAABAAAAAQAAAAEBAAAAAAABAQAAAAAAAQAAAAEAAAABAAABAAEAAQABAAAAAAEAAAEAAAEBAAABAAAAAAABAAAAAQEAAAAAAAAAAAAAAAEBAQEBAAEAAQABAAEAAAAAAAAAAAEAAQAAAAABAAAAAAEAAAAAAAAAAAAAAAAAAAAAAAAAAAEAAAAAAAAAAAEAAAAAAQABAQAAAAAAAAAAAQEAAAAAAAEBAQAAAAABAAEAAAAAAAABAAABAAAAAAABAAAAAAAAAAAAAAABAAABAQAAAAAAAQAAAAAAAQABAQAAAAAAAAABAAAAAAEBAAABAAABAQAAAQAAAQAAAAEBAAAAAAEAAQAAAAAAAQEAAQAAAAAAAAAAAAAAAAAAAQEAAQABAAAAAAAAAAEBAAABAQEAAQAAAQAAAAEAAAABAAAAAAABAQABAAABAAEBAAAAAAAAAAAAAAAAAQAAAAAAAQEAAAAAAAABAAEAAQEAAAAAAQAAAAEAAAABAAABAQAAAAEAAQAAAAAAAAEAAQAAAAEAAAEBAAAAAAAAAAAAAAAAAAABAAABAAAAAQEAAAAAAAEAAQABAQAAAQAAAQABAAEBAQAAAQAAAQAAAQAAAAABAAAAAAAAAAAAAAAAAQEAAAAAAAAAAAAAAQAAAAAAAAAAAQEAAAAAAAAAAAEAAAAAAQAAAAABAQAAAQEAAQEBAAAAAAEBAAEAAQAAAAAAAAAAAAAAAQEAAAABAAABAAAAAAAAAQEBAAAAAAAAAAEAAQEAAAAAAQEAAAEBAAEAAAAAAAABAAAAAAAAAQEAAAEAAQAAAQAAAAAAAAAAAAEAAAABAAEAAAAAAAEAAAAAAAAAAQABAAEAAAAAAAEAAAAAAQABAAEAAAAAAQAAAQAAAQEBAAAAAAAAAAAAAAEBAAEAAAAAAAABAAABAAAAAAAAAAABAAAAAAAAAQAAAAEAAQABAAAAAAABAAAAAAAAAQABAQEAAAABAAAAAQEBAAAAAQABAAAAAAAAAQABAAEAAAABAQEAAAAAAAAAAAAAAAAAAQEBAQEAAAEAAAAAAAEAAQEBAAABAQAAAAAAAAAAAAAAAAAAAAAAAAABAAAAAQAAAQABAAEAAAEAAQAAAQAAAAAAAAABAAAAAAAAAQEBAAEAAAEAAQAAAQAAAQAAAAAAAAAAAAAAAAAAAAAAAAEAAQAAAAAAAAAAAAEAAQAAAQEBAQAAAAAAAAAAAQABAAABAQABAAAAAAAAAAEAAQAAAAEAAAAAAAAAAAABAAABAAAAAAAAAAABAAEBAAAAAAAAAAAAAAABAQABAAABAQAAAAAAAQABAAABAAEBAAABAAEAAAAAAAAAAQAAAQAAAQAAAAAAAAAAAQAAAQEAAQAAAAABAQAAAAAAAAEAAAAAAAAAAAEBAAAAAAAAAAAAAAEBAAAAAAAAAAEAAAABAAABAAAAAAABAAAAAQEAAQEAAAABAAEAAAABAAEAAAEAAAAAAAAAAAAAAAEAAAEAAAEAAAABAAAAAQAAAQEAAAABAAABAQEAAQEAAAAAAQAAAQAAAQAAAAEAAQAAAAABAAEAAAEAAAEAAAEAAQEAAAAAAAABAAAAAQAAAQEBAAEBAAABAAEBAQABAQAAAAAAAAAAAAABAQAAAAAAAAAAAAEBAQABAAAAAAAAAAAAAAABAQABAAEBAQAAAAAAAAAAAAAAAQABAAEAAQABAAEBAAAAAAAAAQAAAAAAAAAAAQAAAAABAAAAAQEAAQEAAAEBAAEBAQAAAAABAAAAAAAAAAAAAAABAAAAAAAAAQEAAAABAAABAAAAAAEAAAAAAAAAAAABAAABAQAAAQABAQAAAQAAAAAAAAABAAEAAAABAAAAAAEAAAAAAAEAAQAAAAAAAQAAAAAAAQAAAAAAAAAAAAEAAAAAAAABAQEAAQABAAAAAQEAAQEBAAAAAAAAAAAAAAAAAAEBAQABAAAAAAAAAAEAAAAAAQAAAAAAAAABAQAAAQAAAAEAAAEAAAABAAEAAQABAQAAAAAAAAAAAAABAQEAAQABAQAAAQAAAAAAAQABAQEBAAAAAQAAAAABAAAAAAABAQAAAQAAAAEBAAAAAAAAAAAAAAABAAAAAAAAAAAAAAABAAAAAQEAAAEAAAAAAAABAAAAAAEBAAABAAAAAAAAAAAAAAAAAAEBAQAAAQAAAAEAAAABAAAAAAAAAAEAAQAAAAABAAABAAAAAAAAAQAAAAEAAAABAQAAAQAAAAAAAAAAAQAAAAEAAQEAAAAAAAEAAAEAAAEBAAEBAAAAAQEAAAABAAAAAQAAAAABAAABAAAAAAEAAQAAAAAAAAEAAAAAAAEBAAEAAAEAAQAAAAAAAAEAAAAAAAAAAAAAAAAAAQAAAAAAAAAAAAAAAAAAAQABAQAAAAAAAAEAAAAAAAAAAQAAAAABAQAAAAEBAAAAAQAAAAEBAAAAAAAAAAEAAAAAAAAAAAEAAAAAAAAAAAAAAAAAAAAAAQAAAAAAAQAAAAAAAQABAAEAAAABAQAAAAEAAAEAAAAAAAABAAAAAQABAAEAAAABAAABAQABAAAAAAAAAAAAAQAAAAEBAAAAAAAAAQEBAAEAAAEAAAAAAAAAAAEAAAAAAAABAAEAAQABAAAAAAAAAAAAAAAAAQAAAAABAAEAAAAAAAAAAAABAQAAAAEBAAAAAQAAAQAAAAAAAQAAAAAAAQEAAAEBAAABAQAAAAEBAAEAAAEAAQEAAAABAQAAAQAAAAEBAQABAAEAAQABAAABAQEAAAAAAAEAAAAAAAABAQEBAQAAAQABAAAAAAAAAAABAQABAAAAAQEAAQABAAAAAQAAAAABAQAAAAAAAAEAAAEAAAEAAAEAAAABAAEAAAEAAAAAAQAAAAABAAABAAAAAAAAAAAAAQEAAAAAAQEAAAEAAQAAAAAAAAAAAAAAAAEBAQABAAEAAAABAAEAAQAAAAAAAAEAAAAAAAAAAAAAAAEAAAAAAQAAAAAAAAAAAAEBAQEAAQAAAAAAAAAAAAAAAAAAAAAAAQAAAAEAAQAAAQAAAQABAAAAAAAAAAABAQAAAQAAAAABAAAAAAAAAQAAAAAAAQAAAAABAAAAAAEAAAABAAEBAAAAAAABAQEAAQAAAAAAAQABAQEBAQAAAAAAAQAAAQEAAAEAAAABAAAAAAAAAAAAAAAAAAEBAQABAAAAAQABAQAAAAABAAAAAAABAAEBAQAAAAAAAQEAAAAAAAAAAAEAAAAAAAAAAAAAAAAAAAABAAAAAAAAAAABAAAAAQEAAAAAAAAAAQAAAAAAAAAAAAAAAAAAAQAAAAAAAAEBAAAAAQEAAAAAAAAAAAABAAABAAAAAQEAAAABAAAAAAABAQAAAAAAAAAAAQEAAQEAAQAAAQAAAQAAAAAAAQABAAEBAAAAAAAAAAEAAAEAAAAAAQAAAAAAAQAAAQEAAAABAAAAAQAAAAAAAAAAAAEAAAAAAAAAAAABAAAAAAAAAAAAAAEAAAABAAAAAQAAAQEAAQEAAAEAAAAAAAABAAAAAQAAAAAAAAAAAAABAAEAAAAAAQABAAAAAQABAQAAAQEAAQAAAQAAAAABAAAAAAEAAAAAAAEAAQAAAQAAAAEAAAEAAQEAAQAAAAAAAAEAAQABAQAAAAEAAAAAAAAAAAAAAAAAAQAAAAAAAAAAAAAAAAEAAAABAQEAAAAAAAAAAAAAAAAAAAAAAAABAAAAAQAAAAAAAAEAAAAAAAAAAQAAAAAAAQAAAAEAAAAAAQAAAAAAAQABAAAAAAABAAAAAAAAAAAAAAAAAQAAAAEAAAABAAEAAAAAAQAAAAABAAAAAAABAQAAAQEBAQAAAAAAAAABAAAAAQEAAAAAAQAAAAEBAQAAAAEBAAAAAAAAAQABAAABAAAAAAAAAQEAAAAAAAABAAEAAAEAAAAAAAAAAAEAAQAAAAABAAABAAAAAQABAQABAAAAAAABAAABAAAAAAEAAAAAAAAAAAABAAAAAAAAAAABAAAAAAAAAQEAAAABAAAAAAAAAQAAAAABAAAAAAAAAAABAAAAAAABAAAAAAEAAQABAAABAAAAAAAAAQEAAQAAAQEAAAEAAAEAAAAAAAEAAAAAAAABAAEAAQABAQAAAAAAAAEBAQAAAAEBAAAAAAEBAAAAAAAAAAABAAEAAQABAAEAAAAAAAAAAAEAAAAAAAEAAAAAAAABAAAAAAEBAQAAAAAAAAEAAAAAAQABAAEBAAABAAAAAAAAAAABAAAAAQAAAAAAAAAAAAEAAAEAAQAAAAAAAAAAAAAAAAEAAAEAAQAAAAAAAAABAAAAAAAAAAEAAQAAAAAAAQAAAAEAAQAAAAAAAAAAAAAAAQAAAQAAAAEAAAAAAAAAAAABAQABAAAAAAAAAAABAAEAAAAAAQAAAAAAAQABAAAAAQEAAQAAAAEAAQAAAAABAAABAAEAAAABAAAAAQAAAAEBAAEAAAEAAAAAAQAAAAABAAAAAAAAAAAAAAAAAAEAAAEAAQAAAAAAAAAAAAEAAQAAAAEAAQABAQABAQABAAAAAQABAAEAAAAAAAAAAAEAAQAAAAAAAAEAAAABAAAAAAEAAAAAAAEAAQABAAEAAAAAAAABAQAAAAABAAAAAAAAAQAAAAAAAAAAAAABAAAAAAAAAQAAAAAAAAAAAAEAAAAAAQABAAAAAAAAAAABAAAAAAAAAAABAAAAAAAAAAEAAQEAAAAAAAAAAAAAAAAAAQEAAAEAAAEAAAABAAAAAQEAAAEAAAAAAQAAAAABAAABAQABAQEAAAEAAAAAAAEAAAAAAAEAAAABAQEAAAABAAEAAAEAAAAAAAAAAQAAAAEAAAAAAQABAAAAAQABAQAAAAABAQEAAAEBAQAAAAAAAQAAAAEBAAAAAAAAAAAAAAAAAQEAAAEAAQAAAAAAAAAAAAAAAQAAAAEAAQAAAAAAAQEAAQEBAAAAAAEAAAEAAAEAAAEAAAAAAAAAAAAAAQAAAAAAAAAAAAABAQAAAAAAAAAAAAABAQABAAAAAAEAAAEAAQABAAEAAAAAAAEBAAAAAQEBAQAAAAABAQEAAAEBAAAAAAAAAAAAAQAAAAAAAQAAAAEAAQEAAQAAAAAAAAAAAQAAAAAAAQAAAQAAAAAAAAABAAAAAAEBAAAAAAAAAAABAQABAAABAAAAAAABAAAAAAEBAAAAAAAAAAAAAAEAAAAAAAABAAEAAQABAAEAAAAAAAAAAAAAAAABAAAAAQABAAEAAAAAAAEAAAAAAQAAAAAAAQEAAAEAAQAAAAAAAQAAAAEAAAEAAAEAAAAAAAAAAAEBAAAAAQEAAQAAAAAAAAEAAAEBAQABAQAAAAAAAAEAAAAAAAAAAAABAQAAAAAAAAAAAAAAAAAAAAABAQEAAQAAAAEAAAEAAAABAAAAAQAAAAAAAQABAAAAAAEAAQEBAQAAAAAAAAAAAAABAAABAAABAAABAQAAAAABAAAAAAAAAQEBAAAAAQEAAAAAAAAAAAEAAAABAAABAQABAAAAAQAAAQABAAAAAAAAAAEAAQABAAEBAAAAAAEAAQAAAAEAAAABAQAAAQAAAAEAAQEBAAEAAAAAAAABAAEAAQAAAAAAAAAAAAAAAQABAQEAAAAAAAABAQAAAAEBAQAAAQABAAEAAAAAAAAAAAABAAAAAAAAAQAAAAAAAAAAAQAAAAEBAQEBAAAAAAAAAAAAAAAAAAEAAAAAAAABAAABAAEAAAAAAQABAQEAAAEBAAEBAAABAQEBAAAAAAAAAAAAAAEAAQEAAAABAAAAAQEAAAAAAAAAAAABAAAAAAEBAQEAAAAAAAABAQAAAAAAAAEAAQAAAAAAAAAAAAABAAAAAAAAAAAAAQAAAAEAAAABAAAAAAAAAAAAAAEAAAABAQABAAAAAQABAAAAAQAAAQAAAAABAQEAAQEBAAAAAAAAAQAAAQEAAQEBAQEAAAABAAAAAAEAAQAAAAAAAAAAAAAAAQEBAAAAAAAAAQEAAAEAAAABAAAAAQAAAQAAAAABAAEAAAAAAAAAAQAAAAEBAAEAAQAAAQAAAQAAAAABAAABAAEAAAAAAAEBAAEAAQABAAAAAAEAAQABAAABAAAAAAEAAQAAAAEAAQABAAABAAEBAAAAAAEAAAAAAAAAAQABAAABAAAAAAABAAAAAAEAAAEAAAEBAAAAAAAAAAAAAAAAAQABAAABAQAAAAAAAAAAAQABAQABAAAAAQAAAAABAQAAAAAAAQABAQAAAAAAAAEAAQAAAAEAAAEBAAAAAQAAAQEAAAEAAAAAAQAAAAEAAAABAQEAAQAAAAAAAAEBAAAAAAAAAAEAAAAAAAAAAAEAAAAAAAEAAAABAQAAAQABAAAAAQAAAQABAAAAAAEBAQEAAAEAAAAAAAAAAAAAAQABAAEBAAAAAAAAAAAAAAABAQAAAAAAAAABAAABAAABAAEAAAAAAAEBAAEAAAABAAEBAAAAAQAAAAAAAAEAAAEAAAEBAQABAAABAAEAAAAAAQAAAAAAAQABAAAAAAAAAQEAAQEAAQEBAQABAAEBAAABAAEAAAEAAQAAAAAAAAAAAAEBAAABAAEAAQEBAAABAQABAAAAAAAAAQAAAAEBAAAAAAAAAAAAAAEAAQAAAQAAAAAAAAEAAAAAAAAAAAEAAQAAAAAAAAEAAAAAAAEAAQAAAAABAAABAAEAAAAAAAAAAQEAAAAAAAAAAQEAAAEAAQABAAAAAAEAAAEAAQEAAAAAAAAAAAAAAAAAAAEBAAAAAAAAAQEAAQABAAAAAAAAAAAAAQAAAAEAAAABAQAAAAEBAQAAAAEAAAEAAAAAAAAAAAAAAQAAAAABAQEBAQAAAAAAAAAAAAEAAAAAAAAAAQEAAQABAQAAAAAAAQAAAQABAAAAAQABAAAAAAAAAAAAAAAAAAABAAAAAAAAAAEAAQABAQAAAAAAAQAAAAAAAAAAAAABAAAAAAAAAAEAAAAAAAAAAAABAAAAAAAAAQAAAAABAAAAAQEAAAABAAEBAAEAAAEAAAEAAAAAAAEAAQAAAAEAAAAAAAAAAAABAQEAAAAAAAAAAAAAAAABAAAAAAABAQEBAAEBAAAAAAEAAQAAAAABAQAAAAAAAAAAAQEAAAAAAAEBAAAAAAABAAAAAAABAAAAAAAAAAEAAQAAAQABAAABAQEAAQEAAQAAAAAAAAAAAAEAAQEAAAAAAAAAAAEAAQABAAAAAAAAAAABAAABAAAAAAAAAQAAAQEBAAEAAAABAAAAAAABAQAAAQAAAQABAAEAAQEAAAEAAAAAAAAAAAEAAAAAAAABAQABAAAAAAABAAAAAAAAAAAAAAAAAAEAAAABAQAAAAAAAQAAAQAAAQAAAAAAAAAAAAABAAAAAAAAAAAAAQAAAAAAAAAAAAAAAAAAAAABAAAAAAEBAAAAAAABAQAAAQAAAAEBAAAAAAAAAQAAAQAAAAAAAAABAQAAAAAAAQABAQABAAABAQABAQABAQAAAAAAAQAAAAEAAAEAAQAAAQABAQABAAABAAAAAAEAAAAAAAAAAAAAAQAAAAEAAQAAAAABAQAAAAAAAQABAAEAAAEAAQAAAAAAAAEAAQEAAAEAAAAAAAAAAAAAAQEAAAABAAEAAAEAAQAAAAAAAAEAAQAAAAAAAAABAAEAAAAAAAABAQAAAAAAAQAAAAEAAAABAQAAAAABAAAAAAAAAQAAAAAAAAAAAAAAAAAAAAAAAAAAAAAAAAAAAAEAAAEAAAAAAAAAAAAAAAABAAAAAAAAAAABAQAAAQAAAAABAQABAAABAAAAAAAAAAAAAAABAAAAAQAAAAAAAAABAAAAAAAAAAAAAQAAAQAAAQABAAAAAAEBAAAAAAAAAAAAAQAAAAABAAEAAAAAAAEBAAAAAQAAAQAAAQAAAAAAAAEAAAEAAAAAAAABAQAAAAEBAQABAAEAAAABAAAAAAAAAAAAAQAAAAEAAAAAAAAAAQAAAQAAAAEAAAEAAAAAAAEAAAAAAAAAAAABAAAAAQEAAAAAAAEAAQAAAAEAAAABAQEBAAAAAAAAAQAAAAAAAAEAAAAAAQEBAQABAQEAAAAAAQEAAAAAAQEAAAAAAAAAAAAAAQAAAAABAAEAAAAAAAAAAAABAAABAAAAAAEAAAAAAAAAAAAAAAAAAAEAAAABAAEBAQAAAAAAAAEAAQABAAEBAQAAAAAAAAEAAAAAAQAAAQAAAAAAAQAAAAEBAQAAAAABAAAAAAEAAAAAAAAAAAABAQAAAAEAAAAAAAABAQAAAQABAQABAAAAAAAAAAEBAAAAAAABAAABAAABAQAAAAAAAQEAAAEBAQABAAABAQAAAAAAAAAAAAAAAAEBAAAAAAAAAAAAAAAAAAEAAAAAAAAAAQEAAAAAAAAAAAAAAAEBAAAAAAAAAQABAAAAAAAAAAEAAAEAAAAAAAEAAAEAAQEAAAAAAAAAAAAAAQEAAAAAAQAAAAABAQAAAAAAAQABAQAAAAABAQAAAAAAAAAAAAEAAAAAAAEAAQAAAAABAAABAAAAAAAAAQAAAQAAAAABAQAAAQEAAQEAAQEAAAEAAAEAAQEAAAEBAAAAAAAAAQABAAAAAAEAAAAAAAABAAABAAAAAAAAAAAAAAABAAAAAQAAAAAAAAAAAAAAAQABAQEBAAABAQAAAQAAAAAAAAABAQAAAAEBAQAAAQEAAAAAAAABAAAAAAAAAAABAAAAAAEAAQAAAAAAAQEAAAAAAQAAAQABAAAAAQEAAAABAQABAQAAAAAAAQAAAAAAAAAAAAAAAAAAAQ==",
          "dtype": "i1"
         }
        }
       ],
       "layout": {
        "autosize": true,
        "boxmode": "group",
        "height": 600,
        "hovermode": "closest",
        "paper_bgcolor": "rgba(0,0,0,0)",
        "plot_bgcolor": "rgba(0,0,0,0)",
        "template": {
         "data": {
          "bar": [
           {
            "error_x": {
             "color": "#2a3f5f"
            },
            "error_y": {
             "color": "#2a3f5f"
            },
            "marker": {
             "line": {
              "color": "#E5ECF6",
              "width": 0.5
             },
             "pattern": {
              "fillmode": "overlay",
              "size": 10,
              "solidity": 0.2
             }
            },
            "type": "bar"
           }
          ],
          "barpolar": [
           {
            "marker": {
             "line": {
              "color": "#E5ECF6",
              "width": 0.5
             },
             "pattern": {
              "fillmode": "overlay",
              "size": 10,
              "solidity": 0.2
             }
            },
            "type": "barpolar"
           }
          ],
          "carpet": [
           {
            "aaxis": {
             "endlinecolor": "#2a3f5f",
             "gridcolor": "white",
             "linecolor": "white",
             "minorgridcolor": "white",
             "startlinecolor": "#2a3f5f"
            },
            "baxis": {
             "endlinecolor": "#2a3f5f",
             "gridcolor": "white",
             "linecolor": "white",
             "minorgridcolor": "white",
             "startlinecolor": "#2a3f5f"
            },
            "type": "carpet"
           }
          ],
          "choropleth": [
           {
            "colorbar": {
             "outlinewidth": 0,
             "ticks": ""
            },
            "type": "choropleth"
           }
          ],
          "contour": [
           {
            "colorbar": {
             "outlinewidth": 0,
             "ticks": ""
            },
            "colorscale": [
             [
              0,
              "#0d0887"
             ],
             [
              0.1111111111111111,
              "#46039f"
             ],
             [
              0.2222222222222222,
              "#7201a8"
             ],
             [
              0.3333333333333333,
              "#9c179e"
             ],
             [
              0.4444444444444444,
              "#bd3786"
             ],
             [
              0.5555555555555556,
              "#d8576b"
             ],
             [
              0.6666666666666666,
              "#ed7953"
             ],
             [
              0.7777777777777778,
              "#fb9f3a"
             ],
             [
              0.8888888888888888,
              "#fdca26"
             ],
             [
              1,
              "#f0f921"
             ]
            ],
            "type": "contour"
           }
          ],
          "contourcarpet": [
           {
            "colorbar": {
             "outlinewidth": 0,
             "ticks": ""
            },
            "type": "contourcarpet"
           }
          ],
          "heatmap": [
           {
            "colorbar": {
             "outlinewidth": 0,
             "ticks": ""
            },
            "colorscale": [
             [
              0,
              "#0d0887"
             ],
             [
              0.1111111111111111,
              "#46039f"
             ],
             [
              0.2222222222222222,
              "#7201a8"
             ],
             [
              0.3333333333333333,
              "#9c179e"
             ],
             [
              0.4444444444444444,
              "#bd3786"
             ],
             [
              0.5555555555555556,
              "#d8576b"
             ],
             [
              0.6666666666666666,
              "#ed7953"
             ],
             [
              0.7777777777777778,
              "#fb9f3a"
             ],
             [
              0.8888888888888888,
              "#fdca26"
             ],
             [
              1,
              "#f0f921"
             ]
            ],
            "type": "heatmap"
           }
          ],
          "histogram": [
           {
            "marker": {
             "pattern": {
              "fillmode": "overlay",
              "size": 10,
              "solidity": 0.2
             }
            },
            "type": "histogram"
           }
          ],
          "histogram2d": [
           {
            "colorbar": {
             "outlinewidth": 0,
             "ticks": ""
            },
            "colorscale": [
             [
              0,
              "#0d0887"
             ],
             [
              0.1111111111111111,
              "#46039f"
             ],
             [
              0.2222222222222222,
              "#7201a8"
             ],
             [
              0.3333333333333333,
              "#9c179e"
             ],
             [
              0.4444444444444444,
              "#bd3786"
             ],
             [
              0.5555555555555556,
              "#d8576b"
             ],
             [
              0.6666666666666666,
              "#ed7953"
             ],
             [
              0.7777777777777778,
              "#fb9f3a"
             ],
             [
              0.8888888888888888,
              "#fdca26"
             ],
             [
              1,
              "#f0f921"
             ]
            ],
            "type": "histogram2d"
           }
          ],
          "histogram2dcontour": [
           {
            "colorbar": {
             "outlinewidth": 0,
             "ticks": ""
            },
            "colorscale": [
             [
              0,
              "#0d0887"
             ],
             [
              0.1111111111111111,
              "#46039f"
             ],
             [
              0.2222222222222222,
              "#7201a8"
             ],
             [
              0.3333333333333333,
              "#9c179e"
             ],
             [
              0.4444444444444444,
              "#bd3786"
             ],
             [
              0.5555555555555556,
              "#d8576b"
             ],
             [
              0.6666666666666666,
              "#ed7953"
             ],
             [
              0.7777777777777778,
              "#fb9f3a"
             ],
             [
              0.8888888888888888,
              "#fdca26"
             ],
             [
              1,
              "#f0f921"
             ]
            ],
            "type": "histogram2dcontour"
           }
          ],
          "mesh3d": [
           {
            "colorbar": {
             "outlinewidth": 0,
             "ticks": ""
            },
            "type": "mesh3d"
           }
          ],
          "parcoords": [
           {
            "line": {
             "colorbar": {
              "outlinewidth": 0,
              "ticks": ""
             }
            },
            "type": "parcoords"
           }
          ],
          "pie": [
           {
            "automargin": true,
            "type": "pie"
           }
          ],
          "scatter": [
           {
            "fillpattern": {
             "fillmode": "overlay",
             "size": 10,
             "solidity": 0.2
            },
            "type": "scatter"
           }
          ],
          "scatter3d": [
           {
            "line": {
             "colorbar": {
              "outlinewidth": 0,
              "ticks": ""
             }
            },
            "marker": {
             "colorbar": {
              "outlinewidth": 0,
              "ticks": ""
             }
            },
            "type": "scatter3d"
           }
          ],
          "scattercarpet": [
           {
            "marker": {
             "colorbar": {
              "outlinewidth": 0,
              "ticks": ""
             }
            },
            "type": "scattercarpet"
           }
          ],
          "scattergeo": [
           {
            "marker": {
             "colorbar": {
              "outlinewidth": 0,
              "ticks": ""
             }
            },
            "type": "scattergeo"
           }
          ],
          "scattergl": [
           {
            "marker": {
             "colorbar": {
              "outlinewidth": 0,
              "ticks": ""
             }
            },
            "type": "scattergl"
           }
          ],
          "scattermap": [
           {
            "marker": {
             "colorbar": {
              "outlinewidth": 0,
              "ticks": ""
             }
            },
            "type": "scattermap"
           }
          ],
          "scattermapbox": [
           {
            "marker": {
             "colorbar": {
              "outlinewidth": 0,
              "ticks": ""
             }
            },
            "type": "scattermapbox"
           }
          ],
          "scatterpolar": [
           {
            "marker": {
             "colorbar": {
              "outlinewidth": 0,
              "ticks": ""
             }
            },
            "type": "scatterpolar"
           }
          ],
          "scatterpolargl": [
           {
            "marker": {
             "colorbar": {
              "outlinewidth": 0,
              "ticks": ""
             }
            },
            "type": "scatterpolargl"
           }
          ],
          "scatterternary": [
           {
            "marker": {
             "colorbar": {
              "outlinewidth": 0,
              "ticks": ""
             }
            },
            "type": "scatterternary"
           }
          ],
          "surface": [
           {
            "colorbar": {
             "outlinewidth": 0,
             "ticks": ""
            },
            "colorscale": [
             [
              0,
              "#0d0887"
             ],
             [
              0.1111111111111111,
              "#46039f"
             ],
             [
              0.2222222222222222,
              "#7201a8"
             ],
             [
              0.3333333333333333,
              "#9c179e"
             ],
             [
              0.4444444444444444,
              "#bd3786"
             ],
             [
              0.5555555555555556,
              "#d8576b"
             ],
             [
              0.6666666666666666,
              "#ed7953"
             ],
             [
              0.7777777777777778,
              "#fb9f3a"
             ],
             [
              0.8888888888888888,
              "#fdca26"
             ],
             [
              1,
              "#f0f921"
             ]
            ],
            "type": "surface"
           }
          ],
          "table": [
           {
            "cells": {
             "fill": {
              "color": "#EBF0F8"
             },
             "line": {
              "color": "white"
             }
            },
            "header": {
             "fill": {
              "color": "#C8D4E3"
             },
             "line": {
              "color": "white"
             }
            },
            "type": "table"
           }
          ]
         },
         "layout": {
          "annotationdefaults": {
           "arrowcolor": "#2a3f5f",
           "arrowhead": 0,
           "arrowwidth": 1
          },
          "autotypenumbers": "strict",
          "coloraxis": {
           "colorbar": {
            "outlinewidth": 0,
            "ticks": ""
           }
          },
          "colorscale": {
           "diverging": [
            [
             0,
             "#8e0152"
            ],
            [
             0.1,
             "#c51b7d"
            ],
            [
             0.2,
             "#de77ae"
            ],
            [
             0.3,
             "#f1b6da"
            ],
            [
             0.4,
             "#fde0ef"
            ],
            [
             0.5,
             "#f7f7f7"
            ],
            [
             0.6,
             "#e6f5d0"
            ],
            [
             0.7,
             "#b8e186"
            ],
            [
             0.8,
             "#7fbc41"
            ],
            [
             0.9,
             "#4d9221"
            ],
            [
             1,
             "#276419"
            ]
           ],
           "sequential": [
            [
             0,
             "#0d0887"
            ],
            [
             0.1111111111111111,
             "#46039f"
            ],
            [
             0.2222222222222222,
             "#7201a8"
            ],
            [
             0.3333333333333333,
             "#9c179e"
            ],
            [
             0.4444444444444444,
             "#bd3786"
            ],
            [
             0.5555555555555556,
             "#d8576b"
            ],
            [
             0.6666666666666666,
             "#ed7953"
            ],
            [
             0.7777777777777778,
             "#fb9f3a"
            ],
            [
             0.8888888888888888,
             "#fdca26"
            ],
            [
             1,
             "#f0f921"
            ]
           ],
           "sequentialminus": [
            [
             0,
             "#0d0887"
            ],
            [
             0.1111111111111111,
             "#46039f"
            ],
            [
             0.2222222222222222,
             "#7201a8"
            ],
            [
             0.3333333333333333,
             "#9c179e"
            ],
            [
             0.4444444444444444,
             "#bd3786"
            ],
            [
             0.5555555555555556,
             "#d8576b"
            ],
            [
             0.6666666666666666,
             "#ed7953"
            ],
            [
             0.7777777777777778,
             "#fb9f3a"
            ],
            [
             0.8888888888888888,
             "#fdca26"
            ],
            [
             1,
             "#f0f921"
            ]
           ]
          },
          "colorway": [
           "#636efa",
           "#EF553B",
           "#00cc96",
           "#ab63fa",
           "#FFA15A",
           "#19d3f3",
           "#FF6692",
           "#B6E880",
           "#FF97FF",
           "#FECB52"
          ],
          "font": {
           "color": "#2a3f5f"
          },
          "geo": {
           "bgcolor": "white",
           "lakecolor": "white",
           "landcolor": "#E5ECF6",
           "showlakes": true,
           "showland": true,
           "subunitcolor": "white"
          },
          "hoverlabel": {
           "align": "left"
          },
          "hovermode": "closest",
          "mapbox": {
           "style": "light"
          },
          "paper_bgcolor": "white",
          "plot_bgcolor": "#E5ECF6",
          "polar": {
           "angularaxis": {
            "gridcolor": "white",
            "linecolor": "white",
            "ticks": ""
           },
           "bgcolor": "#E5ECF6",
           "radialaxis": {
            "gridcolor": "white",
            "linecolor": "white",
            "ticks": ""
           }
          },
          "scene": {
           "xaxis": {
            "backgroundcolor": "#E5ECF6",
            "gridcolor": "white",
            "gridwidth": 2,
            "linecolor": "white",
            "showbackground": true,
            "ticks": "",
            "zerolinecolor": "white"
           },
           "yaxis": {
            "backgroundcolor": "#E5ECF6",
            "gridcolor": "white",
            "gridwidth": 2,
            "linecolor": "white",
            "showbackground": true,
            "ticks": "",
            "zerolinecolor": "white"
           },
           "zaxis": {
            "backgroundcolor": "#E5ECF6",
            "gridcolor": "white",
            "gridwidth": 2,
            "linecolor": "white",
            "showbackground": true,
            "ticks": "",
            "zerolinecolor": "white"
           }
          },
          "shapedefaults": {
           "line": {
            "color": "#2a3f5f"
           }
          },
          "ternary": {
           "aaxis": {
            "gridcolor": "white",
            "linecolor": "white",
            "ticks": ""
           },
           "baxis": {
            "gridcolor": "white",
            "linecolor": "white",
            "ticks": ""
           },
           "bgcolor": "#E5ECF6",
           "caxis": {
            "gridcolor": "white",
            "linecolor": "white",
            "ticks": ""
           }
          },
          "title": {
           "x": 0.05
          },
          "xaxis": {
           "automargin": true,
           "gridcolor": "white",
           "linecolor": "white",
           "ticks": "",
           "title": {
            "standoff": 15
           },
           "zerolinecolor": "white",
           "zerolinewidth": 2
          },
          "yaxis": {
           "automargin": true,
           "gridcolor": "white",
           "linecolor": "white",
           "ticks": "",
           "title": {
            "standoff": 15
           },
           "zerolinecolor": "white",
           "zerolinewidth": 2
          }
         }
        },
        "title": {
         "text": "Distribution of scores by race for high and low earners"
        },
        "xaxis": {
         "fixedrange": true,
         "gridcolor": "rgb(159, 197, 232)",
         "hoverformat": ".3f",
         "title": {
          "text": "Score"
         },
         "zerolinecolor": "rgb(159, 197, 232)"
        },
        "yaxis": {
         "fixedrange": true,
         "gridcolor": "rgba(0,0,0,0)",
         "ticktext": [
          "Low earner",
          "High earner"
         ],
         "tickvals": [
          0,
          1
         ],
         "title": {
          "text": "High / low earner"
         },
         "zerolinecolor": "rgba(0,0,0,0)"
        }
       }
      }
     },
     "metadata": {},
     "output_type": "display_data"
    }
   ],
   "source": [
    "fig_eo_by_race = group_box_plots(\n",
    "    test_prob,\n",
    "    test.race.map(race_names),\n",
    "    groups=test.salary,\n",
    "    group_names=[\"Low earner\", \"High earner\"],\n",
    "    title=\"Distribution of scores by race for high and low earners\",\n",
    "    xlabel=\"Score\",\n",
    "    ylabel=\"High / low earner\",\n",
    ")\n",
    "fig_eo_by_race"
   ]
  },
  {
   "cell_type": "code",
   "execution_count": null,
   "metadata": {},
   "outputs": [],
   "source": []
  },
  {
   "cell_type": "code",
   "execution_count": null,
   "metadata": {},
   "outputs": [],
   "source": []
  }
 ],
 "metadata": {
  "kernelspec": {
   "display_name": "cil",
   "language": "python",
   "name": "python3"
  },
  "language_info": {
   "codemirror_mode": {
    "name": "ipython",
    "version": 3
   },
   "file_extension": ".py",
   "mimetype": "text/x-python",
   "name": "python",
   "nbconvert_exporter": "python",
   "pygments_lexer": "ipython3",
   "version": "3.12.3"
  },
  "toc": {
   "base_numbering": 1,
   "nav_menu": {},
   "number_sections": true,
   "sideBar": true,
   "skip_h1_title": false,
   "title_cell": "Table of Contents",
   "title_sidebar": "Contents",
   "toc_cell": false,
   "toc_position": {},
   "toc_section_display": true,
   "toc_window_display": false
  }
 },
 "nbformat": 4,
 "nbformat_minor": 2
}
